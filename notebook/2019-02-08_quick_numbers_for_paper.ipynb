{
 "cells": [
  {
   "cell_type": "markdown",
   "metadata": {},
   "source": [
    "# Quick Numbers for Paper"
   ]
  },
  {
   "cell_type": "markdown",
   "metadata": {},
   "source": [
    "In today's meeting we are going through the paper looking for holes. I am just taking a quick look and filling some of them."
   ]
  },
  {
   "cell_type": "code",
   "execution_count": null,
   "metadata": {},
   "outputs": [],
   "source": [
    "import os\n",
    "import sys\n",
    "import re\n",
    "from pathlib import Path\n",
    "from io import StringIO\n",
    "from yaml import load\n",
    "\n",
    "from IPython.display import display, HTML, Markdown\n",
    "import numpy as np\n",
    "import pandas as pd\n",
    "\n",
    "import matplotlib as mpl\n",
    "import matplotlib.pyplot as plt\n",
    "import seaborn as sns\n",
    "\n",
    "# Project level imports\n",
    "from larval_gonad.notebook import Nb"
   ]
  },
  {
   "cell_type": "code",
   "execution_count": null,
   "metadata": {},
   "outputs": [],
   "source": [
    "# Setup notebook\n",
    "nbconfig = Nb.setup_notebook(seurat_dir='../output/scrnaseq-wf/scrnaseq_combine_force')"
   ]
  },
  {
   "cell_type": "code",
   "execution_count": null,
   "metadata": {},
   "outputs": [],
   "source": [
    "biomakers = nbconfig.seurat.get_biomarkers('res.0.6')\n",
    "biomarker_genes = biomakers.index.unique()"
   ]
  },
  {
   "cell_type": "code",
   "execution_count": null,
   "metadata": {
    "lines_to_next_cell": 2
   },
   "outputs": [],
   "source": [
    "ptrap_str = \"\"\"gene_symbol\tSP\tES\tMS\tLS\tC\tEC\tMC\tLC\tPC\tTE\tH\n",
    "ADD1\t1\t2\t3\t3\t1\t0\t0\t0\t0\t1\t0\n",
    "Ance\t1\t2\t2\t2\t1\t2\t2\t2\t1\t1\t1\n",
    "ATP8A\t0\t0\t0\t0\t0\t0\t0\t0\t0\t0\t0\n",
    "bol\t1\t1\t2\t3\t0\t0\tND\tND\t0\t0\t0\n",
    "CadN\t0\t0\t0\t0\t0\t0\t0\t0\t0\t0\t0\n",
    "CadN\t0\t0\t0\t0\t0\t0\t0\t0\t0\t0\t0\n",
    "CadN\t0\t0\t0\t0\t0\t0\t0\t0\t0\t0\t0\n",
    "CadN_Avg\t0\t0\t0\t0\t0\t0\t0\t0\t0\t0\t0\n",
    "CG17349\t0\t0\t0\t0\t0\t0\t0\t0\t0\t0\t0\n",
    "CG17646\t0\t0\t0\t0\t1\t1\t1\t1\t1\t1\t0\n",
    "CG3277 (receptor protein-tyrosine kinase)\t0\t0\t0\t0\t0\t0\t0\t0\t0\t0\t0\n",
    "CG8100\t0\t0\t0\t0\t0\t0\t0\t0\t0\t0\t0\n",
    "CG9747\t0\t1\t1\t1\t0\t1\t1\t1\t1\t1\t0\n",
    "Cht5\t0\t0\t0\t0\t0\t1\t1\t2\t0\t0\t0\n",
    "cindr\t1\t1\t1\t1\t1\t1\t1\t1\t2\t2\t2\n",
    "cmpy\t0\t0\t0\t0\t0\t1\t1\t1\t0\t0\t0\n",
    "Dek\t2\t2\t2\t2\t1\t1\t1\t1\t2\t2\t2\n",
    "Dh31-R\t0\t0\t0\t0\t0\t0\t0\t0\t0\t0\t0\n",
    "dpr17\t1\t1\t1\t0\t0\t0\t0\t0\t0\t0\t0\n",
    "e(y)3\t2\t2\t2\t2\t1\t1\t1\t1\t2\t2\t1\n",
    "Eaat2\t0\t0\t0\t0\t0\t0\t0\t0\t0\t0\t0\n",
    "Efa6\t2\t2\t1\t1\t0\t0\t0\t0\t1\t2\t0\n",
    "Efa6\t1\t1\t1\t1\t1\t2\t2\t2\t1\t1\t1\n",
    "Efa6\t2\t1\t1\t1\t2\t2\t2\t2\t1\t1\t2\n",
    "Efa6_Avg\t1.666666667\t1.333333333\t1\t1\t1\t1.333333333\t1.333333333\t1.333333333\t1\t1.333333333\t1\n",
    "Fas3\t1\t1\t1\t1\t1\t1\t1\t1\t1\t3\t3\n",
    "Fas3\t0\t0\t0\t0\t0\t0\t0\t0\t0\t2\t3\n",
    "Fas3_Avg\t0.5\t0.5\t0.5\t0.5\t0.5\t0.5\t0.5\t0.5\t0.5\t2.5\t3\n",
    "fln\t1\t1\t1\t1\t2\t2\t2\t2\t1\t1\tND\n",
    "foxo\t2\t2\t2\t2\t1\t1\t1\t1\t1\t2\t1\n",
    "Fs(2)Ket\t2\t2\t2\t2\t1\t1\t1\t1\t1\t1\t1\n",
    "grim\t0\t0\t0\t0\t0\t0\t0\t0\t0\t0\t0\n",
    "haf\t0\t0\t0\t0\t0\t0\t0\t0\t0\t0\t0\n",
    "kkv, CG14668\t1\t1\t1\t1\t1\t1\t2\t2\t1\t1\t1\n",
    "klu\t0\t0\t0\t0\t0\t0\t0\t0\t0\t0\t0\n",
    "Mapmodulin\t2\t2\t2\t1\t1\t1\t1\t1\t2\t2\t1\n",
    "mbl\t1\t2\t2\t2\t1\t0\t0\t0\t1\t3\t1\n",
    "Mi-2\t1\t1\t1\t1\t2\t2\t2\t2\t1\t0\tND\n",
    "Su(Tpl)\t1\t1\t1\t1\t2\t2\t2\t2\t1\t0\tND\n",
    "Mipp1\t0\t0\t0\t0\t0\t0\t0\t0\t0\t0\t0\n",
    "Mlc2\t0\t0\t0\t0\t0\t0\t0\t0\t0\t0\t0\n",
    "NFAT\t0\t0\t0\t0\t0\t0\t0\t0\t0\t0\t0\n",
    "nkd\t0\t0\t0\t0\t0\t0\t0\t0\t0\t0\t0\n",
    "Nlg3\t1\t1\t1\t1\t1\t2\t2\t1\tND\t1\t1\n",
    "Nlg3\t0\t0\t0\t0\t0\t1\t1\t1\t0\t0\t0\n",
    "Nlg3_Avg\t0.5\t0.5\t0.5\t0.5\t0.5\t1.5\t1.5\t1\t0\t0.5\t0.5\n",
    "nord\t1\t1\t1\t1\t0\t0\t0\t0\t0\t2\t0\n",
    "Np\t0\t0\t0\t0\t0\t0\t0\t0\t0\t0\t0\n",
    "Nrg\t2\t1\t1\t1\t2\t2\t2\t2\t2\t2\t2\n",
    "osa\t0\t0\t0\t0\t0\t0\t0\t0\t0\t0\t0\n",
    "osa\t1\t1\t1\t1\t2\t2\t2\t2\t2\t2\tND\n",
    "osa_Avg\t0.5\t0.5\t0.5\t0.5\t1\t1\t1\t1\t1\t1\t0\n",
    "p53\t2\t2\t1\t0\t0\t0\t0\t0\tND\t1\t0\n",
    "Pdcd4\t3\t3\t3\t3\t1\t2\t2\t2\t3\t3\t1\n",
    "Pde11\t0\t0\t0\t0\t0\t0\t0\t0\t0\t0\t0\n",
    "Piezo\t0\t0\t0\t0\t0\t0\t0\t0\t0\t3\t0\n",
    "ppk19\t0\t0\t0\t0\t0\t0\t0\t0\t0\t0\t0\n",
    "ppk30\t0\t0\t0\t0\t0\t0\t0\t0\t0\t0\t0\n",
    "rdo\t1\t1\t1\t1\t2\t2\t2\t2\t1\t1\t1\n",
    "rdo\t1\t1\t1\t1\t2\t2\t3\t3\t1\t1\t3\n",
    "rdo\t1\t1\t1\t1\t2\t2\t3\t3\t1\t1\t3\n",
    "rdo_Avg\t1\t1\t1\t1\t2\t2\t2.666666667\t2.666666667\t1\t1\t2.333333333\n",
    "RunxA\t1\t1\t1\t1\t1\t1\t1\t1\t1\t1\t1\n",
    "Sap-r\t1\t1\t1\t1\t2\t3\t3\t3\t2\t3\t1\n",
    "sca\t0\t0\t0\t0\t0\t0\t0\t0\t0\t0\t0\n",
    "SNF4gamma\t1\t1\t1\t1\t1\t1\t1\t1\t1\t1\t1\n",
    "Snmp1\t1\t1\t1\t1\t1\t1\t1\t1\t1\t1\t1\n",
    "sosie\t1\t1\t1\t1\t1\t2\t2\t2\t1\t1\t1\n",
    "spir\t1\t1\t1\t1\t0\t0\t0\t0\t0\t0\t0\n",
    "SRPK\t2\t2\t2\t2\t0\t0\t0\t0\t1\t1\t1\n",
    "stai\t3\t2\t2\t2\t2\t2\t2\t2\t1\t3\t2\n",
    "stg\t0\t0\t0\t0\t0\t0\t0\t0\t0\t0\t0\n",
    "Syn\t1\t1\t1\t1\t1\t1\t1\t2\t1\t1\t1\n",
    "Syn\t0\t0\t0\t0\t0\t0\t0\t0\t0\t0\t0\n",
    "Syn\t1\t1\t1\t1\t1\t1\t1\t1\t1\t1\t0\n",
    "Syn_Avg\t0.6666666667\t0.6666666667\t0.6666666667\t0.6666666667\t0.6666666667\t0.6666666667\t0.6666666667\t1\t0.6666666667\t0.6666666667\t0.3333333333\n",
    "Tep2\t0\t1\t1\t1\t0\t2\t2\t2\t2\t0\t0\n",
    "tok\t1\t1\t1\t1\t1\t0\t0\t0\t1\t2\t1\n",
    "tutl\t1\t1\t1\t1\t0\t0\t0\t0\t1\t1\t0\n",
    "twin\t1\t1\t1\t1\t0\t0\t0\t0\t0\t0\t0\n",
    "VGlut\t0\t0\t0\t0\t0\t0\t0\t0\t0\t0\t0\n",
    "\"\"\"\n",
    "\n",
    "gene_mapper = nbconfig.symbol2fbgn.copy()\n",
    "\n",
    "gene_mapper.update(\n",
    "    {\n",
    "        'ATP8A': 'FBgn0259221',\n",
    "        'CG3277 (receptor protein-tyrosine kinase)': 'FBgn0031518',\n",
    "        'kkv, CG14668': 'FBgn0037320',\n",
    "        'SNF4gamma': 'FBgn0264357',\n",
    "    }\n",
    ")\n",
    "\n",
    "ptrap = (\n",
    "    pd.read_csv(StringIO(ptrap_str), sep='\\t')\n",
    "    .query('not gene_symbol.str.contains(\"Avg\")', engine='python')\n",
    "    .assign(FBgn=lambda df: df.gene_symbol.map(gene_mapper))\n",
    "    .set_index('FBgn')\n",
    "    .drop(columns=['gene_symbol', 'H', 'C'])\n",
    "    .replace('ND', 0)\n",
    "    .pipe(lambda df: df[df.sum(axis=1) > 0])\n",
    "    .astype(int)\n",
    ")"
   ]
  },
  {
   "cell_type": "code",
   "execution_count": null,
   "metadata": {},
   "outputs": [],
   "source": [
    "ptrap.index.unique().shape[0],  ptrap.index.unique().intersection(biomarker_genes).shape[0]"
   ]
  },
  {
   "cell_type": "code",
   "execution_count": null,
   "metadata": {},
   "outputs": [],
   "source": [
    "sorted(ptrap.index.unique().intersection(biomarker_genes).map(nbconfig.fbgn2symbol), key=lambda x: x.lower())"
   ]
  },
  {
   "cell_type": "code",
   "execution_count": null,
   "metadata": {
    "lines_to_next_cell": 2
   },
   "outputs": [],
   "source": []
  },
  {
   "cell_type": "code",
   "execution_count": null,
   "metadata": {},
   "outputs": [],
   "source": [
    "lit_genes = {\n",
    "    'germline': ['vas', 'bam', 'Phf7', 'CG11697', 'p53', 'nos', 'bgcn', 'tut', 'Rbp9', 'peb', 'tej', 'Marf',],\n",
    "    'late_spermatocytes': ['aly', 'nht', 'soti', 'dj', 'ocn', 'can', 'fzo', 'bol', 'mle', 'mia', 'CG3927', 'sunz', 'sowi', \n",
    "                           'd-cup', 'c-cup', 'wa-cup', 'p-cup', 'r-cup', 'oys', 'topi', 'sa', 'CG8368',],\n",
    "    'cyst': ['tj', 'eya', 'zfh1', 'vn', 'foxo', 'apt', 'ImpL2', 'Wnt4', 'Nrt', 'bnb', 'neur', 'robo2', 'EcR', 'gbb', 'spict', \n",
    "             'puc', 'sev', 'hui', 'sano', 'glob1', 'Eip93F', 'fax', 'kek1', 'so',],\n",
    "    'te': ['nord', 'retn', 'abd-A', 'Abd-B', 'Wnt2', 'Six4', 'CG18628', 'MtnA', 'N',],\n",
    "    'pc': ['vkg', 'Sox100B', 'bw', 'ems',],\n",
    "}\n",
    "\n",
    "\n",
    "gene_annot = []\n",
    "for k, v in lit_genes.items():\n",
    "    for gene in v:\n",
    "        fbgn = nbconfig.symbol2fbgn[gene]\n",
    "        gene_annot.append((fbgn, gene, k))\n",
    "\n",
    "lit = pd.DataFrame(gene_annot, columns=['FBgn', 'gene_symbol', 'literature']).set_index('FBgn')\n",
    "\n",
    "lit.literature.value_counts().to_frame()"
   ]
  },
  {
   "cell_type": "code",
   "execution_count": null,
   "metadata": {},
   "outputs": [],
   "source": [
    "cluster_genes = biomakers.cluster.map(nbconfig.short_cluster_annot).to_frame()\n",
    "\n",
    "(\n",
    "    cluster_genes.join(lit, how='right')\n",
    "    .groupby('literature')\n",
    "    .cluster.value_counts()\n",
    "    .to_frame()\n",
    "    .sort_index()\n",
    "    .rename(columns={'cluster': 'Genes in BioMarker'})\n",
    ")"
   ]
  },
  {
   "cell_type": "code",
   "execution_count": null,
   "metadata": {},
   "outputs": [],
   "source": [
    "zscore_max = (\n",
    "    pd.read_parquet('../output/scrnaseq-wf/tpm_zscore.parquet', columns=nbconfig.cluster_order[:9])\n",
    "    .rename(columns=dict(zip(nbconfig.cluster_order[:9], nbconfig.short_cluster_order)))\n",
    "    .idxmax(axis=1)\n",
    "    .rename('best')\n",
    ")"
   ]
  },
  {
   "cell_type": "code",
   "execution_count": null,
   "metadata": {},
   "outputs": [],
   "source": [
    "(\n",
    "    lit.join(zscore_max, how='left')\n",
    "    .groupby('literature')\n",
    "    .best.value_counts()\n",
    "    .rename('Highest Expressed Cluster')\n",
    "    .rename_axis(['literature', 'cluster'], axis=0)\n",
    "    .to_frame()\n",
    ")"
   ]
  },
  {
   "cell_type": "code",
   "execution_count": null,
   "metadata": {
    "lines_to_next_cell": 2
   },
   "outputs": [],
   "source": []
  },
  {
   "cell_type": "code",
   "execution_count": null,
   "metadata": {
    "lines_to_next_cell": 2
   },
   "outputs": [],
   "source": []
  },
  {
   "cell_type": "code",
   "execution_count": null,
   "metadata": {
    "lines_to_next_cell": 2
   },
   "outputs": [],
   "source": []
  },
  {
   "cell_type": "code",
   "execution_count": null,
   "metadata": {
    "lines_to_next_cell": 2
   },
   "outputs": [],
   "source": []
  },
  {
   "cell_type": "code",
   "execution_count": null,
   "metadata": {
    "lines_to_next_cell": 2
   },
   "outputs": [],
   "source": []
  },
  {
   "cell_type": "code",
   "execution_count": null,
   "metadata": {
    "lines_to_next_cell": 2
   },
   "outputs": [],
   "source": []
  },
  {
   "cell_type": "code",
   "execution_count": null,
   "metadata": {
    "lines_to_next_cell": 2
   },
   "outputs": [],
   "source": []
  },
  {
   "cell_type": "code",
   "execution_count": null,
   "metadata": {
    "lines_to_next_cell": 2
   },
   "outputs": [],
   "source": []
  },
  {
   "cell_type": "code",
   "execution_count": null,
   "metadata": {
    "lines_to_next_cell": 2
   },
   "outputs": [],
   "source": []
  }
 ],
 "metadata": {
  "kernelspec": {
   "display_name": "Python [conda env:larval_gonad]",
   "language": "python",
   "name": "conda-env-larval_gonad-py"
  }
 },
 "nbformat": 4,
 "nbformat_minor": 2
}
