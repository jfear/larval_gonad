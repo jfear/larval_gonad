{
 "cells": [
  {
   "cell_type": "markdown",
   "metadata": {},
   "source": [
    "# Bam Pol II ChIP-Seq (Dustin E Schones)"
   ]
  },
  {
   "cell_type": "code",
   "execution_count": 1,
   "metadata": {},
   "outputs": [],
   "source": [
    "import os\n",
    "import sys\n",
    "from pathlib import Path\n",
    "\n",
    "from IPython.display import display, HTML, Markdown\n",
    "import numpy as np\n",
    "import pandas as pd\n",
    "\n",
    "import matplotlib as mpl\n",
    "import matplotlib.pyplot as plt\n",
    "import seaborn as sns\n",
    "\n",
    "from pybedtools import BedTool\n",
    "from pybedtools.featurefuncs import gff2bed, five_prime\n",
    "from gffutils import FeatureDB\n",
    "from gffutils.helpers import asinterval\n",
    "\n",
    "# Project level imports\n",
    "from larval_gonad.notebook import Nb\n",
    "from larval_gonad.x_to_a import CHROMS_CHR"
   ]
  },
  {
   "cell_type": "code",
   "execution_count": 2,
   "metadata": {},
   "outputs": [
    {
     "name": "stdout",
     "output_type": "stream",
     "text": [
      "last updated: 2018-07-19 \n",
      "Git hash: 55eaa1b846a2d31b9f1f46937e53a1f587c28c00\n"
     ]
    }
   ],
   "source": [
    "# Setup notebook\n",
    "nbconfig = Nb.setup_notebook()"
   ]
  },
  {
   "cell_type": "code",
   "execution_count": 3,
   "metadata": {},
   "outputs": [
    {
     "name": "stderr",
     "output_type": "stream",
     "text": [
      "/home/fearjm/miniconda3/envs/larval_gonad/lib/python3.6/site-packages/gffutils/interface.py:161: UserWarning: It appears that this database has not had the ANALYZE sqlite3 command run on it. Doing so can dramatically speed up queries, and is done by default for databases created with gffutils >0.8.7.1 (this database was created with version 0.8.7.1) Consider calling the analyze() method of this object.\n",
      "  \"method of this object.\" % self.version)\n"
     ]
    }
   ],
   "source": [
    "# Make a gene level bed\n",
    "db = FeatureDB('/data/LCDB/lcdb-references/dmel/r6-16/gtf/dmel_r6-16.gtf.db')\n",
    "genesBed = []\n",
    "for gene in db.features_of_type('gene'):\n",
    "    genesBed.append(gff2bed(asinterval(gene)))\n",
    "\n",
    "geneBt = BedTool(genesBed)"
   ]
  },
  {
   "cell_type": "code",
   "execution_count": 4,
   "metadata": {},
   "outputs": [],
   "source": [
    "tss = []\n",
    "for g in geneBt:\n",
    "    tss.append(five_prime(g))\n",
    "tssBt = BedTool(tss)"
   ]
  },
  {
   "cell_type": "markdown",
   "metadata": {},
   "source": [
    "## Bam"
   ]
  },
  {
   "cell_type": "code",
   "execution_count": 5,
   "metadata": {},
   "outputs": [],
   "source": [
    "# Import peaks\n",
    "fname = '../public-chip-wf/data/GSM480449_dm3-bam-PolII_lifted_dm6.bed'\n",
    "bed = BedTool(fname).sort()\n",
    "\n",
    "pos = bed.merge(s=True, S='+')\n",
    "neg = bed.merge(s=True, S='-')\n",
    "\n",
    "munge = []\n",
    "for i in pos:\n",
    "    munge.append(i.fields + ['.', '.', '+'])\n",
    "for i in neg:\n",
    "    munge.append(i.fields + ['.', '.', '-'])\n",
    "\n",
    "merged = BedTool(munge)"
   ]
  },
  {
   "cell_type": "code",
   "execution_count": 6,
   "metadata": {},
   "outputs": [],
   "source": [
    "overlap = geneBt.intersect(merged, wo=True, s=True)\n",
    "\n",
    "res = []\n",
    "for i in overlap:\n",
    "    res.append((i.name, i.length, int(i.fields[-1])))\n",
    "\n",
    "df = pd.DataFrame(res, columns=['name', 'length', 'overlap'])\n",
    "dfOver = df.groupby('name').agg({'length': 'first', 'overlap': 'sum'})\n",
    "prop = dfOver.overlap / dfOver.length\n",
    "prop.name = 'prop'\n",
    "\n",
    "datBam = prop.to_frame().join(nbconfig.fbgn2chrom)"
   ]
  },
  {
   "cell_type": "code",
   "execution_count": 7,
   "metadata": {},
   "outputs": [],
   "source": [
    "overlap = tssBt.intersect(merged, wo=True, s=True)\n",
    "\n",
    "res = []\n",
    "for i in overlap:\n",
    "    res.append((i.name, i.length, int(i.fields[-1])))\n",
    "\n",
    "df = pd.DataFrame(res, columns=['name', 'length', 'overlap'])\n",
    "dfOver = df.groupby('name').agg({'length': 'first', 'overlap': 'sum'})\n",
    "prop = dfOver.overlap / dfOver.length\n",
    "prop.name = 'prop'\n",
    "\n",
    "tssBam = prop.to_frame().join(nbconfig.fbgn2chrom)"
   ]
  },
  {
   "cell_type": "markdown",
   "metadata": {},
   "source": [
    "## S2"
   ]
  },
  {
   "cell_type": "code",
   "execution_count": 8,
   "metadata": {},
   "outputs": [],
   "source": [
    "# Import peaks\n",
    "fname = '../public-chip-wf/data/GSM480449_dm3-S2-PolII_lifted_dm6.bed'\n",
    "bed = BedTool(fname).sort()\n",
    "\n",
    "pos = bed.merge(s=True, S='+')\n",
    "neg = bed.merge(s=True, S='-')\n",
    "\n",
    "munge = []\n",
    "for i in pos:\n",
    "    munge.append(i.fields + ['.', '.', '+'])\n",
    "for i in neg:\n",
    "    munge.append(i.fields + ['.', '.', '-'])\n",
    "\n",
    "merged = BedTool(munge)"
   ]
  },
  {
   "cell_type": "code",
   "execution_count": 9,
   "metadata": {},
   "outputs": [],
   "source": [
    "overlap = geneBt.intersect(merged, wo=True, s=True)\n",
    "\n",
    "res = []\n",
    "for i in overlap:\n",
    "    res.append((i.name, i.length, int(i.fields[-1])))\n",
    "\n",
    "df = pd.DataFrame(res, columns=['name', 'length', 'overlap'])\n",
    "dfOver = df.groupby('name').agg({'length': 'first', 'overlap': 'sum'})\n",
    "prop = dfOver.overlap / dfOver.length\n",
    "prop.name = 'prop'\n",
    "\n",
    "datS2 = prop.to_frame().join(nbconfig.fbgn2chrom)"
   ]
  },
  {
   "cell_type": "code",
   "execution_count": 10,
   "metadata": {},
   "outputs": [],
   "source": [
    "overlap = tssBt.intersect(merged, wo=True, s=True)\n",
    "\n",
    "res = []\n",
    "for i in overlap:\n",
    "    res.append((i.name, i.length, int(i.fields[-1])))\n",
    "\n",
    "df = pd.DataFrame(res, columns=['name', 'length', 'overlap'])\n",
    "dfOver = df.groupby('name').agg({'length': 'first', 'overlap': 'sum'})\n",
    "prop = dfOver.overlap / dfOver.length\n",
    "prop.name = 'prop'\n",
    "\n",
    "tssS2 = prop.to_frame().join(nbconfig.fbgn2chrom)"
   ]
  },
  {
   "cell_type": "markdown",
   "metadata": {},
   "source": [
    "## Plot"
   ]
  },
  {
   "cell_type": "code",
   "execution_count": 11,
   "metadata": {},
   "outputs": [
    {
     "data": {
      "image/png": "[encoded data removed]",
      "text/plain": [
       "<matplotlib.figure.Figure at 0x7efe376af470>"
      ]
     },
     "metadata": {},
     "output_type": "display_data"
    }
   ],
   "source": [
    "fig, (ax1, ax2, ax3, ax4) = plt.subplots(1, 4, figsize=plt.figaspect(1/3), sharex=True, sharey=True, gridspec_kw={'wspace': 0.05})\n",
    "sns.boxplot('chrom', 'prop', data=datBam, palette=nbconfig.colors['chrom'], showfliers=False, order=CHROMS_CHR, ax=ax1)\n",
    "ax1.set_xlabel('Chromosome')\n",
    "ax1.set_ylabel('')\n",
    "ax1.set_title('Bam - Pol II - Gene')\n",
    "ax1.set_xlabel('')\n",
    "ax1.set_ylabel('Proportion of Gene Covered by Pol II')\n",
    "\n",
    "sns.boxplot('chrom', 'prop', data=tssBam, palette=nbconfig.colors['chrom'], showfliers=False, order=CHROMS_CHR, ax=ax2)\n",
    "ax2.set_xlabel('Chromosome')\n",
    "ax2.set_title('Bam - Pol II - TSS')\n",
    "ax2.set_xlabel('')\n",
    "ax2.set_ylabel('')\n",
    "\n",
    "sns.boxplot('chrom', 'prop', data=datS2, palette=nbconfig.colors['chrom'], showfliers=False, order=CHROMS_CHR, ax=ax3)\n",
    "ax3.set_xlabel('')\n",
    "ax3.set_ylabel('')\n",
    "ax3.set_title('S2 Cells - Pol II - Gene')\n",
    "\n",
    "sns.boxplot('chrom', 'prop', data=tssS2, palette=nbconfig.colors['chrom'], showfliers=False, order=CHROMS_CHR, ax=ax4)\n",
    "ax4.set_xlabel('')\n",
    "ax4.set_ylabel('')\n",
    "ax4.set_title('S2 Cells - Pol II - TSS')\n",
    "\n",
    "plt.setp(ax1.get_xticklabels(), rotation=45)\n",
    "plt.setp(ax2.get_xticklabels(), rotation=45)\n",
    "plt.setp(ax3.get_xticklabels(), rotation=45)\n",
    "plt.setp(ax4.get_xticklabels(), rotation=45);"
   ]
  },
  {
   "cell_type": "code",
   "execution_count": 12,
   "metadata": {},
   "outputs": [],
   "source": [
    "from scipy.stats import mannwhitneyu"
   ]
  },
  {
   "cell_type": "code",
   "execution_count": 13,
   "metadata": {},
   "outputs": [
    {
     "data": {
      "text/plain": [
       "MannwhitneyuResult(statistic=2459072.0, pvalue=2.7731485356935884e-24)"
      ]
     },
     "execution_count": 13,
     "metadata": {},
     "output_type": "execute_result"
    }
   ],
   "source": [
    "mannwhitneyu(datBam.query('chrom == \"chrX\"').prop, tssBam.query('chrom == \"chrX\"').prop)"
   ]
  },
  {
   "cell_type": "code",
   "execution_count": 14,
   "metadata": {},
   "outputs": [
    {
     "data": {
      "text/plain": [
       "MannwhitneyuResult(statistic=2404211.0, pvalue=1.4633483896713772e-27)"
      ]
     },
     "execution_count": 14,
     "metadata": {},
     "output_type": "execute_result"
    }
   ],
   "source": [
    "mannwhitneyu(datS2.query('chrom == \"chrX\"').prop, tssS2.query('chrom == \"chrX\"').prop)"
   ]
  },
  {
   "cell_type": "code",
   "execution_count": null,
   "metadata": {},
   "outputs": [],
   "source": []
  },
  {
   "cell_type": "code",
   "execution_count": 15,
   "metadata": {},
   "outputs": [
    {
     "data": {
      "text/plain": [
       "MannwhitneyuResult(statistic=6538980.0, pvalue=0.45326449475463976)"
      ]
     },
     "execution_count": 15,
     "metadata": {},
     "output_type": "execute_result"
    }
   ],
   "source": [
    "mannwhitneyu(datBam.query('chrom == \"chr3R\"').prop, datBam.query('chrom == \"chr3L\"').prop)"
   ]
  },
  {
   "cell_type": "code",
   "execution_count": null,
   "metadata": {},
   "outputs": [],
   "source": []
  },
  {
   "cell_type": "code",
   "execution_count": 31,
   "metadata": {},
   "outputs": [
    {
     "data": {
      "text/plain": [
       "0.8973398276508056"
      ]
     },
     "execution_count": 31,
     "metadata": {},
     "output_type": "execute_result"
    }
   ],
   "source": [
    "datBam.query('chrom == \"chrX\"').shape[0] / nbconfig.fbgn2chrom.query('chrom == \"chrX\"').shape[0]"
   ]
  },
  {
   "cell_type": "code",
   "execution_count": 26,
   "metadata": {},
   "outputs": [
    {
     "data": {
      "text/plain": [
       "2466"
      ]
     },
     "execution_count": 26,
     "metadata": {},
     "output_type": "execute_result"
    }
   ],
   "source": [
    "tssBam.query('chrom == \"chrX\"').shape[0]"
   ]
  },
  {
   "cell_type": "code",
   "execution_count": 27,
   "metadata": {},
   "outputs": [
    {
     "data": {
      "text/plain": [
       "2389"
      ]
     },
     "execution_count": 27,
     "metadata": {},
     "output_type": "execute_result"
    }
   ],
   "source": [
    "datS2.query('chrom == \"chrX\"').shape[0]"
   ]
  },
  {
   "cell_type": "code",
   "execution_count": 28,
   "metadata": {},
   "outputs": [
    {
     "data": {
      "text/plain": [
       "2453"
      ]
     },
     "execution_count": 28,
     "metadata": {},
     "output_type": "execute_result"
    }
   ],
   "source": [
    "tssS2.query('chrom == \"chrX\"').shape[0]"
   ]
  },
  {
   "cell_type": "code",
   "execution_count": 29,
   "metadata": {},
   "outputs": [
    {
     "data": {
      "text/plain": [
       "2669"
      ]
     },
     "execution_count": 29,
     "metadata": {},
     "output_type": "execute_result"
    }
   ],
   "source": [
    "nbconfig.fbgn2chrom.query('chrom == \"chrX\"').shape[0]"
   ]
  },
  {
   "cell_type": "code",
   "execution_count": 30,
   "metadata": {},
   "outputs": [
    {
     "data": {
      "text/html": [
       "<div>\n",
       "<style scoped>\n",
       "    .dataframe tbody tr th:only-of-type {\n",
       "        vertical-align: middle;\n",
       "    }\n",
       "\n",
       "    .dataframe tbody tr th {\n",
       "        vertical-align: top;\n",
       "    }\n",
       "\n",
       "    .dataframe thead th {\n",
       "        text-align: right;\n",
       "    }\n",
       "</style>\n",
       "<table border=\"1\" class=\"dataframe\">\n",
       "  <thead>\n",
       "    <tr style=\"text-align: right;\">\n",
       "      <th></th>\n",
       "      <th>prop</th>\n",
       "      <th>chrom</th>\n",
       "    </tr>\n",
       "    <tr>\n",
       "      <th>name</th>\n",
       "      <th></th>\n",
       "      <th></th>\n",
       "    </tr>\n",
       "  </thead>\n",
       "  <tbody>\n",
       "    <tr>\n",
       "      <th>FBgn0000022</th>\n",
       "      <td>0.073064</td>\n",
       "      <td>chrX</td>\n",
       "    </tr>\n",
       "    <tr>\n",
       "      <th>FBgn0000028</th>\n",
       "      <td>0.037674</td>\n",
       "      <td>chrX</td>\n",
       "    </tr>\n",
       "    <tr>\n",
       "      <th>FBgn0000042</th>\n",
       "      <td>0.395902</td>\n",
       "      <td>chrX</td>\n",
       "    </tr>\n",
       "    <tr>\n",
       "      <th>FBgn0000077</th>\n",
       "      <td>0.220113</td>\n",
       "      <td>chrX</td>\n",
       "    </tr>\n",
       "    <tr>\n",
       "      <th>FBgn0000084</th>\n",
       "      <td>0.091787</td>\n",
       "      <td>chrX</td>\n",
       "    </tr>\n",
       "    <tr>\n",
       "      <th>FBgn0000092</th>\n",
       "      <td>0.134199</td>\n",
       "      <td>chrX</td>\n",
       "    </tr>\n",
       "    <tr>\n",
       "      <th>FBgn0000108</th>\n",
       "      <td>0.048101</td>\n",
       "      <td>chrX</td>\n",
       "    </tr>\n",
       "    <tr>\n",
       "      <th>FBgn0000117</th>\n",
       "      <td>0.145576</td>\n",
       "      <td>chrX</td>\n",
       "    </tr>\n",
       "    <tr>\n",
       "      <th>FBgn0000137</th>\n",
       "      <td>0.051029</td>\n",
       "      <td>chrX</td>\n",
       "    </tr>\n",
       "    <tr>\n",
       "      <th>FBgn0000152</th>\n",
       "      <td>0.039401</td>\n",
       "      <td>chrX</td>\n",
       "    </tr>\n",
       "    <tr>\n",
       "      <th>FBgn0000163</th>\n",
       "      <td>0.091079</td>\n",
       "      <td>chrX</td>\n",
       "    </tr>\n",
       "    <tr>\n",
       "      <th>FBgn0000173</th>\n",
       "      <td>0.060098</td>\n",
       "      <td>chrX</td>\n",
       "    </tr>\n",
       "    <tr>\n",
       "      <th>FBgn0000179</th>\n",
       "      <td>0.048494</td>\n",
       "      <td>chrX</td>\n",
       "    </tr>\n",
       "    <tr>\n",
       "      <th>FBgn0000221</th>\n",
       "      <td>0.190345</td>\n",
       "      <td>chrX</td>\n",
       "    </tr>\n",
       "    <tr>\n",
       "      <th>FBgn0000233</th>\n",
       "      <td>0.051883</td>\n",
       "      <td>chrX</td>\n",
       "    </tr>\n",
       "    <tr>\n",
       "      <th>FBgn0000257</th>\n",
       "      <td>0.232338</td>\n",
       "      <td>chrX</td>\n",
       "    </tr>\n",
       "    <tr>\n",
       "      <th>FBgn0000259</th>\n",
       "      <td>0.152402</td>\n",
       "      <td>chrX</td>\n",
       "    </tr>\n",
       "    <tr>\n",
       "      <th>FBgn0000316</th>\n",
       "      <td>0.090486</td>\n",
       "      <td>chrX</td>\n",
       "    </tr>\n",
       "    <tr>\n",
       "      <th>FBgn0000319</th>\n",
       "      <td>0.145503</td>\n",
       "      <td>chrX</td>\n",
       "    </tr>\n",
       "    <tr>\n",
       "      <th>FBgn0000330</th>\n",
       "      <td>0.093458</td>\n",
       "      <td>chrX</td>\n",
       "    </tr>\n",
       "    <tr>\n",
       "      <th>FBgn0000346</th>\n",
       "      <td>0.101788</td>\n",
       "      <td>chrX</td>\n",
       "    </tr>\n",
       "    <tr>\n",
       "      <th>FBgn0000359</th>\n",
       "      <td>0.062241</td>\n",
       "      <td>chrX</td>\n",
       "    </tr>\n",
       "    <tr>\n",
       "      <th>FBgn0000360</th>\n",
       "      <td>0.050847</td>\n",
       "      <td>chrX</td>\n",
       "    </tr>\n",
       "    <tr>\n",
       "      <th>FBgn0000376</th>\n",
       "      <td>0.090588</td>\n",
       "      <td>chrX</td>\n",
       "    </tr>\n",
       "    <tr>\n",
       "      <th>FBgn0000377</th>\n",
       "      <td>0.118828</td>\n",
       "      <td>chrX</td>\n",
       "    </tr>\n",
       "    <tr>\n",
       "      <th>FBgn0000382</th>\n",
       "      <td>0.107975</td>\n",
       "      <td>chrX</td>\n",
       "    </tr>\n",
       "    <tr>\n",
       "      <th>FBgn0000394</th>\n",
       "      <td>0.121635</td>\n",
       "      <td>chrX</td>\n",
       "    </tr>\n",
       "    <tr>\n",
       "      <th>FBgn0000427</th>\n",
       "      <td>0.057737</td>\n",
       "      <td>chrX</td>\n",
       "    </tr>\n",
       "    <tr>\n",
       "      <th>FBgn0000459</th>\n",
       "      <td>0.086137</td>\n",
       "      <td>chrX</td>\n",
       "    </tr>\n",
       "    <tr>\n",
       "      <th>FBgn0000479</th>\n",
       "      <td>0.065805</td>\n",
       "      <td>chrX</td>\n",
       "    </tr>\n",
       "    <tr>\n",
       "      <th>...</th>\n",
       "      <td>...</td>\n",
       "      <td>...</td>\n",
       "    </tr>\n",
       "    <tr>\n",
       "      <th>FBgn0267969</th>\n",
       "      <td>0.043689</td>\n",
       "      <td>chrX</td>\n",
       "    </tr>\n",
       "    <tr>\n",
       "      <th>FBgn0267970</th>\n",
       "      <td>0.152482</td>\n",
       "      <td>chrX</td>\n",
       "    </tr>\n",
       "    <tr>\n",
       "      <th>FBgn0267977</th>\n",
       "      <td>0.115518</td>\n",
       "      <td>chrX</td>\n",
       "    </tr>\n",
       "    <tr>\n",
       "      <th>FBgn0278608</th>\n",
       "      <td>0.161272</td>\n",
       "      <td>chrX</td>\n",
       "    </tr>\n",
       "    <tr>\n",
       "      <th>FBgn0283451</th>\n",
       "      <td>0.059841</td>\n",
       "      <td>chrX</td>\n",
       "    </tr>\n",
       "    <tr>\n",
       "      <th>FBgn0283469</th>\n",
       "      <td>0.168526</td>\n",
       "      <td>chrX</td>\n",
       "    </tr>\n",
       "    <tr>\n",
       "      <th>FBgn0283471</th>\n",
       "      <td>0.118626</td>\n",
       "      <td>chrX</td>\n",
       "    </tr>\n",
       "    <tr>\n",
       "      <th>FBgn0283473</th>\n",
       "      <td>0.087871</td>\n",
       "      <td>chrX</td>\n",
       "    </tr>\n",
       "    <tr>\n",
       "      <th>FBgn0283476</th>\n",
       "      <td>0.042888</td>\n",
       "      <td>chrX</td>\n",
       "    </tr>\n",
       "    <tr>\n",
       "      <th>FBgn0283545</th>\n",
       "      <td>0.112233</td>\n",
       "      <td>chrX</td>\n",
       "    </tr>\n",
       "    <tr>\n",
       "      <th>FBgn0283549</th>\n",
       "      <td>0.606557</td>\n",
       "      <td>chrX</td>\n",
       "    </tr>\n",
       "    <tr>\n",
       "      <th>FBgn0283637</th>\n",
       "      <td>0.500000</td>\n",
       "      <td>chrX</td>\n",
       "    </tr>\n",
       "    <tr>\n",
       "      <th>FBgn0283639</th>\n",
       "      <td>0.209677</td>\n",
       "      <td>chrX</td>\n",
       "    </tr>\n",
       "    <tr>\n",
       "      <th>FBgn0283657</th>\n",
       "      <td>0.106258</td>\n",
       "      <td>chrX</td>\n",
       "    </tr>\n",
       "    <tr>\n",
       "      <th>FBgn0283680</th>\n",
       "      <td>0.117954</td>\n",
       "      <td>chrX</td>\n",
       "    </tr>\n",
       "    <tr>\n",
       "      <th>FBgn0283712</th>\n",
       "      <td>0.121655</td>\n",
       "      <td>chrX</td>\n",
       "    </tr>\n",
       "    <tr>\n",
       "      <th>FBgn0283741</th>\n",
       "      <td>0.073672</td>\n",
       "      <td>chrX</td>\n",
       "    </tr>\n",
       "    <tr>\n",
       "      <th>FBgn0284222</th>\n",
       "      <td>0.121267</td>\n",
       "      <td>chrX</td>\n",
       "    </tr>\n",
       "    <tr>\n",
       "      <th>FBgn0284227</th>\n",
       "      <td>0.075931</td>\n",
       "      <td>chrX</td>\n",
       "    </tr>\n",
       "    <tr>\n",
       "      <th>FBgn0284228</th>\n",
       "      <td>0.151799</td>\n",
       "      <td>chrX</td>\n",
       "    </tr>\n",
       "    <tr>\n",
       "      <th>FBgn0284233</th>\n",
       "      <td>0.048316</td>\n",
       "      <td>chrX</td>\n",
       "    </tr>\n",
       "    <tr>\n",
       "      <th>FBgn0284408</th>\n",
       "      <td>0.066523</td>\n",
       "      <td>chrX</td>\n",
       "    </tr>\n",
       "    <tr>\n",
       "      <th>FBgn0284435</th>\n",
       "      <td>0.046274</td>\n",
       "      <td>chrX</td>\n",
       "    </tr>\n",
       "    <tr>\n",
       "      <th>FBgn0284442</th>\n",
       "      <td>0.155687</td>\n",
       "      <td>chrX</td>\n",
       "    </tr>\n",
       "    <tr>\n",
       "      <th>FBgn0285879</th>\n",
       "      <td>0.058555</td>\n",
       "      <td>chrX</td>\n",
       "    </tr>\n",
       "    <tr>\n",
       "      <th>FBgn0285910</th>\n",
       "      <td>0.196396</td>\n",
       "      <td>chrX</td>\n",
       "    </tr>\n",
       "    <tr>\n",
       "      <th>FBgn0285926</th>\n",
       "      <td>0.104672</td>\n",
       "      <td>chrX</td>\n",
       "    </tr>\n",
       "    <tr>\n",
       "      <th>FBgn0285944</th>\n",
       "      <td>0.051723</td>\n",
       "      <td>chrX</td>\n",
       "    </tr>\n",
       "    <tr>\n",
       "      <th>FBgn0285947</th>\n",
       "      <td>0.194257</td>\n",
       "      <td>chrX</td>\n",
       "    </tr>\n",
       "    <tr>\n",
       "      <th>FBgn0285954</th>\n",
       "      <td>0.147739</td>\n",
       "      <td>chrX</td>\n",
       "    </tr>\n",
       "  </tbody>\n",
       "</table>\n",
       "<p>2395 rows × 2 columns</p>\n",
       "</div>"
      ],
      "text/plain": [
       "                 prop chrom\n",
       "name                       \n",
       "FBgn0000022  0.073064  chrX\n",
       "FBgn0000028  0.037674  chrX\n",
       "FBgn0000042  0.395902  chrX\n",
       "FBgn0000077  0.220113  chrX\n",
       "FBgn0000084  0.091787  chrX\n",
       "FBgn0000092  0.134199  chrX\n",
       "FBgn0000108  0.048101  chrX\n",
       "FBgn0000117  0.145576  chrX\n",
       "FBgn0000137  0.051029  chrX\n",
       "FBgn0000152  0.039401  chrX\n",
       "FBgn0000163  0.091079  chrX\n",
       "FBgn0000173  0.060098  chrX\n",
       "FBgn0000179  0.048494  chrX\n",
       "FBgn0000221  0.190345  chrX\n",
       "FBgn0000233  0.051883  chrX\n",
       "FBgn0000257  0.232338  chrX\n",
       "FBgn0000259  0.152402  chrX\n",
       "FBgn0000316  0.090486  chrX\n",
       "FBgn0000319  0.145503  chrX\n",
       "FBgn0000330  0.093458  chrX\n",
       "FBgn0000346  0.101788  chrX\n",
       "FBgn0000359  0.062241  chrX\n",
       "FBgn0000360  0.050847  chrX\n",
       "FBgn0000376  0.090588  chrX\n",
       "FBgn0000377  0.118828  chrX\n",
       "FBgn0000382  0.107975  chrX\n",
       "FBgn0000394  0.121635  chrX\n",
       "FBgn0000427  0.057737  chrX\n",
       "FBgn0000459  0.086137  chrX\n",
       "FBgn0000479  0.065805  chrX\n",
       "...               ...   ...\n",
       "FBgn0267969  0.043689  chrX\n",
       "FBgn0267970  0.152482  chrX\n",
       "FBgn0267977  0.115518  chrX\n",
       "FBgn0278608  0.161272  chrX\n",
       "FBgn0283451  0.059841  chrX\n",
       "FBgn0283469  0.168526  chrX\n",
       "FBgn0283471  0.118626  chrX\n",
       "FBgn0283473  0.087871  chrX\n",
       "FBgn0283476  0.042888  chrX\n",
       "FBgn0283545  0.112233  chrX\n",
       "FBgn0283549  0.606557  chrX\n",
       "FBgn0283637  0.500000  chrX\n",
       "FBgn0283639  0.209677  chrX\n",
       "FBgn0283657  0.106258  chrX\n",
       "FBgn0283680  0.117954  chrX\n",
       "FBgn0283712  0.121655  chrX\n",
       "FBgn0283741  0.073672  chrX\n",
       "FBgn0284222  0.121267  chrX\n",
       "FBgn0284227  0.075931  chrX\n",
       "FBgn0284228  0.151799  chrX\n",
       "FBgn0284233  0.048316  chrX\n",
       "FBgn0284408  0.066523  chrX\n",
       "FBgn0284435  0.046274  chrX\n",
       "FBgn0284442  0.155687  chrX\n",
       "FBgn0285879  0.058555  chrX\n",
       "FBgn0285910  0.196396  chrX\n",
       "FBgn0285926  0.104672  chrX\n",
       "FBgn0285944  0.051723  chrX\n",
       "FBgn0285947  0.194257  chrX\n",
       "FBgn0285954  0.147739  chrX\n",
       "\n",
       "[2395 rows x 2 columns]"
      ]
     },
     "execution_count": 30,
     "metadata": {},
     "output_type": "execute_result"
    }
   ],
   "source": [
    "datBam.query('chrom == \"chrX\"')"
   ]
  },
  {
   "cell_type": "code",
   "execution_count": null,
   "metadata": {},
   "outputs": [],
   "source": []
  }
 ],
 "metadata": {
  "kernelspec": {
   "display_name": "Python [conda env:larval_gonad]",
   "language": "python",
   "name": "conda-env-larval_gonad-py"
  },
  "language_info": {
   "codemirror_mode": {
    "name": "ipython",
    "version": 3
   },
   "file_extension": ".py",
   "mimetype": "text/x-python",
   "name": "python",
   "nbconvert_exporter": "python",
   "pygments_lexer": "ipython3",
   "version": "3.6.3"
  }
 },
 "nbformat": 4,
 "nbformat_minor": 2
}
