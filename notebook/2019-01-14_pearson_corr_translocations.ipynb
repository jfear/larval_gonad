{
 "cells": [
  {
   "cell_type": "markdown",
   "metadata": {},
   "source": [
    "# Pearson Correlation of New Translocation Data"
   ]
  },
  {
   "cell_type": "markdown",
   "metadata": {},
   "source": [
    "In this notebook I want to compare the new translocation data against our old w1118 data. The new data includes a w1118 sample (testis4) which should be highly comparable with the old data."
   ]
  },
  {
   "cell_type": "code",
   "execution_count": null,
   "metadata": {
    "lines_to_next_cell": 1
   },
   "outputs": [],
   "source": [
    "import os\n",
    "import sys\n",
    "import re\n",
    "from pathlib import Path\n",
    "\n",
    "from IPython.display import display, HTML, Markdown\n",
    "import numpy as np\n",
    "import pandas as pd\n",
    "from sklearn.decomposition import PCA\n",
    "\n",
    "import matplotlib as mpl\n",
    "import matplotlib.pyplot as plt\n",
    "import seaborn as sns\n",
    "\n",
    "# Project level imports\n",
    "from larval_gonad.io import cellranger_counts\n",
    "from larval_gonad.normalization import tpm"
   ]
  },
  {
   "cell_type": "code",
   "execution_count": null,
   "metadata": {
    "lines_to_next_cell": 1
   },
   "outputs": [],
   "source": [
    "# quick helper function for importing\n",
    "def sum_filtered_matrix(fname, sample):\n",
    "    raw = cellranger_counts(fname)\n",
    "    return pd.DataFrame(data=raw.matrix.sum(axis=1), index=raw.gene_ids, columns=[sample])"
   ]
  },
  {
   "cell_type": "code",
   "execution_count": null,
   "metadata": {},
   "outputs": [],
   "source": [
    "# make raw read count matrix\n",
    "df = pd.concat([\n",
    "    sum_filtered_matrix('../output/scrnaseq-wf/scrnaseq_samples/testis1_force/outs/filtered_gene_bc_matrices_h5.h5', 'testis1'),\n",
    "    sum_filtered_matrix('../output/scrnaseq-wf/scrnaseq_samples/testis2_force/outs/filtered_gene_bc_matrices_h5.h5', 'testis2'),\n",
    "    sum_filtered_matrix('../output/scrnaseq-wf/scrnaseq_samples/testis3_force/outs/filtered_gene_bc_matrices_h5.h5', 'testis3'),\n",
    "    sum_filtered_matrix('../output/scrnaseq-wf/scrnaseq_samples/testis4_force/outs/filtered_gene_bc_matrices_h5.h5', 'testis4'),\n",
    "    sum_filtered_matrix('../output/translocations-wf/scrnaseq_samples/testis_BM5_force/outs/filtered_gene_bc_matrices_h5.h5', 'testis_BM5'),\n",
    "    sum_filtered_matrix('../output/translocations-wf/scrnaseq_samples/testis_BM21_force/outs/filtered_gene_bc_matrices_h5.h5', 'testis_BM21'),\n",
    "    sum_filtered_matrix('../output/translocations-wf/scrnaseq_samples/testis_stock_force/outs/filtered_gene_bc_matrices_h5.h5', 'testis_stock'),\n",
    "], sort=True, axis=1)\n",
    "\n",
    "df.columns.name = 'sample'\n",
    "df.index.name = 'FBgn'"
   ]
  },
  {
   "cell_type": "code",
   "execution_count": null,
   "metadata": {},
   "outputs": [],
   "source": [
    "# quick heatmap of spearman's correlation\n",
    "g = sns.clustermap(df.corr(method='spearman'), vmin=0, vmax=1, annot=True, figsize=(12, 12))\n",
    "plt.setp(g.ax_heatmap.get_yticklabels(), rotation=0, fontsize=12);\n",
    "plt.setp(g.ax_heatmap.get_xticklabels(), fontsize=12);"
   ]
  },
  {
   "cell_type": "code",
   "execution_count": null,
   "metadata": {},
   "outputs": [],
   "source": [
    "# TPM normalize\n",
    "gene_lens = pd.read_csv('../output/gene_ts_lengths.tsv', sep='\\t', index_col=0).iloc[:, 0]\n",
    "norm = tpm(df, gene_lens.reindex(df.index)).dropna()\n",
    "norm.head()"
   ]
  },
  {
   "cell_type": "code",
   "execution_count": null,
   "metadata": {},
   "outputs": [],
   "source": [
    "# quick PCA \n",
    "pca = PCA(n_components=2)\n",
    "pca.fit(norm.T)\n",
    "pcs = pd.DataFrame(data=pca.transform(norm.T), index=norm.T.index, columns=['PC1', 'PC2'])\n",
    "ax = sns.lmplot('PC1', 'PC2', data=pcs.reset_index(), hue='sample', fit_reg=False, size=8, scatter_kws=dict(s=80))\n",
    "ax.set_xticklabels([]);\n",
    "ax.set_yticklabels([]);\n",
    "plt.title('PCA (TPM Normalized Read Counts)', fontsize=18, fontweight='bold');"
   ]
  },
  {
   "cell_type": "code",
   "execution_count": null,
   "metadata": {
    "lines_to_next_cell": 3
   },
   "outputs": [],
   "source": []
  }
 ],
 "metadata": {
  "kernelspec": {
   "display_name": "Python [conda env:larval_gonad]",
   "language": "python",
   "name": "conda-env-larval_gonad-py"
  }
 },
 "nbformat": 4,
 "nbformat_minor": 2
}
