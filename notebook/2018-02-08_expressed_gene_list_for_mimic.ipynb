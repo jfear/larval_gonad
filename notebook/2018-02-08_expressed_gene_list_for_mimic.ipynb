{
 "cells": [
  {
   "cell_type": "markdown",
   "metadata": {},
   "source": [
    "# Expressed Gene List of Mimic"
   ]
  },
  {
   "cell_type": "markdown",
   "metadata": {},
   "source": [
    "Brian asked Sharvani and Max to intersect the Mimic list with all the commonly expressed genes on the the X and 4th. I need to dump out these gene lists for them to do the merge."
   ]
  },
  {
   "cell_type": "code",
   "execution_count": 1,
   "metadata": {},
   "outputs": [
    {
     "name": "stdout",
     "output_type": "stream",
     "text": [
      "last updated: 2018-02-08 \n",
      "Git hash: be8ef9727c59afa8d3497e24ff289ad4e61e8c95\n"
     ]
    }
   ],
   "source": [
    "import os\n",
    "import sys\n",
    "from pathlib import Path\n",
    "\n",
    "from IPython.display import display, HTML, Markdown\n",
    "import numpy as np\n",
    "import pandas as pd\n",
    "from scipy.stats import chi2_contingency\n",
    "\n",
    "import matplotlib as mpl\n",
    "import matplotlib.pyplot as plt\n",
    "import seaborn as sns\n",
    "\n",
    "# Project level imports\n",
    "sys.path.insert(0, '../lib')\n",
    "from larval_gonad.notebook import Nb\n",
    "from larval_gonad.x_to_a import (CHROMS_CHR, MAJOR_ARMS_CHR, idx_stats_by_cluster, commonly_expressed)\n",
    "from larval_gonad.plotting import make_figs\n",
    "from larval_gonad.io import memory\n",
    "\n",
    "# Setup notebook\n",
    "nbconfig = Nb.setup_notebook('2018-02-08_expressed_gene_list_for_mimic', subproject_dir='../output/testis_scRNAseq_pilot')"
   ]
  },
  {
   "cell_type": "code",
   "execution_count": 2,
   "metadata": {},
   "outputs": [],
   "source": [
    "# Import data from testes\n",
    "norm = nbconfig.seurat.get_normalized_read_counts()\n",
    "\n",
    "# Get list of commonly expressed gene\n",
    "expressed = commonly_expressed(norm)"
   ]
  },
  {
   "cell_type": "code",
   "execution_count": 8,
   "metadata": {},
   "outputs": [],
   "source": [
    "expressed2Chrom = nbconfig.fbgn2chrom.loc[expressed]"
   ]
  },
  {
   "cell_type": "code",
   "execution_count": 25,
   "metadata": {},
   "outputs": [],
   "source": [
    "interest = expressed2Chrom[(expressed2Chrom.chrom == 'chrX') | (expressed2Chrom.chrom == 'chr4')].copy()\n",
    "interest['gene'] = interest.index.map(lambda x: nbconfig.fbgn2symbol[x])\n",
    "interest.set_index('gene', append=True, inplace=True)"
   ]
  },
  {
   "cell_type": "code",
   "execution_count": 26,
   "metadata": {},
   "outputs": [
    {
     "data": {
      "text/plain": [
       "chrom\n",
       "chr4     44\n",
       "chrX    466\n",
       "dtype: int64"
      ]
     },
     "execution_count": 26,
     "metadata": {},
     "output_type": "execute_result"
    }
   ],
   "source": [
    "interest.groupby('chrom').size()"
   ]
  },
  {
   "cell_type": "code",
   "execution_count": 27,
   "metadata": {},
   "outputs": [
    {
     "data": {
      "text/plain": [
       "'./tables/2018-02-08_expressed_gene_list_for_mimic_target'"
      ]
     },
     "execution_count": 27,
     "metadata": {},
     "output_type": "execute_result"
    }
   ],
   "source": [
    "nbconfig.table_name('target')"
   ]
  },
  {
   "cell_type": "code",
   "execution_count": 28,
   "metadata": {},
   "outputs": [],
   "source": [
    "fname = '../output/2018-02-08_expressed_gene_list_for_mimic_target.tsv'\n",
    "interest.to_csv(fname, sep='\\t')"
   ]
  },
  {
   "cell_type": "code",
   "execution_count": null,
   "metadata": {},
   "outputs": [],
   "source": []
  }
 ],
 "metadata": {
  "kernelspec": {
   "display_name": "Python [conda env:larval_gonad]",
   "language": "python",
   "name": "conda-env-larval_gonad-py"
  },
  "language_info": {
   "codemirror_mode": {
    "name": "ipython",
    "version": 3
   },
   "file_extension": ".py",
   "mimetype": "text/x-python",
   "name": "python",
   "nbconvert_exporter": "python",
   "pygments_lexer": "ipython3",
   "version": "3.6.3"
  }
 },
 "nbformat": 4,
 "nbformat_minor": 2
}
