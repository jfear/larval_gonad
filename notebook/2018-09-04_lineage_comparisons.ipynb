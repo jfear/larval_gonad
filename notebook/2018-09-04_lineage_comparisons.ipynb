{
 "cells": [
  {
   "cell_type": "markdown",
   "metadata": {},
   "source": [
    "# How I am calculating the proportions"
   ]
  },
  {
   "cell_type": "markdown",
   "metadata": {},
   "source": [
    "Here I will describe how I generated Figure 2E. If interested the exact script I used to generate this figure is [here](https://gist.github.com/jfear/2680a4ea76fe84e3e4db125e8d688bfc)."
   ]
  },
  {
   "cell_type": "code",
   "execution_count": 1,
   "metadata": {},
   "outputs": [],
   "source": [
    "# Library imports\n",
    "from IPython.display import display\n",
    "import numpy as np\n",
    "import pandas as pd\n",
    "from scipy.stats import fisher_exact\n",
    "\n",
    "# Project level imports\n",
    "from larval_gonad.notebook import Nb\n",
    "\n",
    "pd.options.display.max_rows = 5"
   ]
  },
  {
   "cell_type": "code",
   "execution_count": 2,
   "metadata": {},
   "outputs": [
    {
     "name": "stdout",
     "output_type": "stream",
     "text": [
      "last updated: 2018-09-05 \n",
      "Git hash: 779e2fff250777a09bac38c8f9babe3a884addae\n"
     ]
    }
   ],
   "source": [
    "# A bunch of config information and helpers.\n",
    "nbconfig = Nb.setup_notebook(seurat_dir='../output/scrnaseq-wf/scrnaseq_combine_force')"
   ]
  },
  {
   "cell_type": "markdown",
   "metadata": {},
   "source": [
    "## Data description"
   ]
  },
  {
   "cell_type": "code",
   "execution_count": 3,
   "metadata": {},
   "outputs": [
    {
     "name": "stdout",
     "output_type": "stream",
     "text": [
      "I am using the following germ cell clusters: Spermatogonia, Early 1º Spermatocytes, Mid 1º Spermatocytes, Late 1º Spermatocytes\n"
     ]
    }
   ],
   "source": [
    "# List of germline cluster names\n",
    "germ_cells = nbconfig.cluster_order[:4]\n",
    "print('I am using the following germ cell clusters: {}'.format(', '.join(germ_cells)))"
   ]
  },
  {
   "cell_type": "markdown",
   "metadata": {},
   "source": [
    "There are several sources of data that I used for these calculations. \n",
    "\n",
    "1. I used Seurat [FindMarkers](https://github.com/satijalab/seurat/blob/65b77a9480281ef9ab1aa8816f7c781752092c18/R/differential_expression.R#L75-L321) to generate the differential expression (DEG) table. Seurat uses individual cell-level information for this analysis. The DEG table includes p-values and log fold-change for each gene that was analyzed (Note there may be different numbers of genes for each comparison). I ran the following comparisons:\n",
    "    * Gonia vs All Cytes: to get the gonia biased genes.\n",
    "    * Gonia vs Early: to get the Early biased genes.\n",
    "    * Early vs Mid: to get the Mid biased genes.\n",
    "    * Mid vs Late: to get the Late biased genes.\n",
    "    \n",
    "2. Because individual cell-level counts are low, I have also been using cluster (cell type) level counts. To generate these I summed reads for all cells in each cluster. I use TPM normalization to account for differences in number of cells for each cluster.\n",
    "\n",
    "\n",
    "The TPM data looks like this:"
   ]
  },
  {
   "cell_type": "code",
   "execution_count": 4,
   "metadata": {},
   "outputs": [
    {
     "data": {
      "text/html": [
       "<div>\n",
       "<style scoped>\n",
       "    .dataframe tbody tr th:only-of-type {\n",
       "        vertical-align: middle;\n",
       "    }\n",
       "\n",
       "    .dataframe tbody tr th {\n",
       "        vertical-align: top;\n",
       "    }\n",
       "\n",
       "    .dataframe thead th {\n",
       "        text-align: right;\n",
       "    }\n",
       "</style>\n",
       "<table border=\"1\" class=\"dataframe\">\n",
       "  <thead>\n",
       "    <tr style=\"text-align: right;\">\n",
       "      <th></th>\n",
       "      <th>Spermatogonia</th>\n",
       "      <th>Early 1º Spermatocytes</th>\n",
       "      <th>Mid 1º Spermatocytes</th>\n",
       "      <th>Late 1º Spermatocytes</th>\n",
       "    </tr>\n",
       "    <tr>\n",
       "      <th>FBgn</th>\n",
       "      <th></th>\n",
       "      <th></th>\n",
       "      <th></th>\n",
       "      <th></th>\n",
       "    </tr>\n",
       "  </thead>\n",
       "  <tbody>\n",
       "    <tr>\n",
       "      <th>FBgn0031081</th>\n",
       "      <td>0.004615</td>\n",
       "      <td>0.015974</td>\n",
       "      <td>0.006159</td>\n",
       "      <td>0.012452</td>\n",
       "    </tr>\n",
       "    <tr>\n",
       "      <th>FBgn0031085</th>\n",
       "      <td>0.991906</td>\n",
       "      <td>2.020985</td>\n",
       "      <td>2.212175</td>\n",
       "      <td>2.105093</td>\n",
       "    </tr>\n",
       "    <tr>\n",
       "      <th>...</th>\n",
       "      <td>...</td>\n",
       "      <td>...</td>\n",
       "      <td>...</td>\n",
       "      <td>...</td>\n",
       "    </tr>\n",
       "    <tr>\n",
       "      <th>FBgn0040723</th>\n",
       "      <td>0.000000</td>\n",
       "      <td>0.017233</td>\n",
       "      <td>0.000000</td>\n",
       "      <td>0.113458</td>\n",
       "    </tr>\n",
       "    <tr>\n",
       "      <th>FBgn0031277</th>\n",
       "      <td>0.000000</td>\n",
       "      <td>0.000000</td>\n",
       "      <td>0.028259</td>\n",
       "      <td>0.055727</td>\n",
       "    </tr>\n",
       "  </tbody>\n",
       "</table>\n",
       "<p>14476 rows × 4 columns</p>\n",
       "</div>"
      ],
      "text/plain": [
       "             Spermatogonia  Early 1º Spermatocytes  Mid 1º Spermatocytes  \\\n",
       "FBgn                                                                       \n",
       "FBgn0031081       0.004615                0.015974              0.006159   \n",
       "FBgn0031085       0.991906                2.020985              2.212175   \n",
       "...                    ...                     ...                   ...   \n",
       "FBgn0040723       0.000000                0.017233              0.000000   \n",
       "FBgn0031277       0.000000                0.000000              0.028259   \n",
       "\n",
       "             Late 1º Spermatocytes  \n",
       "FBgn                                \n",
       "FBgn0031081               0.012452  \n",
       "FBgn0031085               2.105093  \n",
       "...                            ...  \n",
       "FBgn0040723               0.113458  \n",
       "FBgn0031277               0.055727  \n",
       "\n",
       "[14476 rows x 4 columns]"
      ]
     },
     "execution_count": 4,
     "metadata": {},
     "output_type": "execute_result"
    }
   ],
   "source": [
    "# Import TPM normalized read counts and take the log.\n",
    "tpm = np.log10(pd.read_parquet(\"../output/scrnaseq-wf/tpm.parquet\", columns=germ_cells) + 1)\n",
    "tpm"
   ]
  },
  {
   "cell_type": "markdown",
   "metadata": {},
   "source": [
    "### Expressed Genes"
   ]
  },
  {
   "cell_type": "markdown",
   "metadata": {},
   "source": [
    "For Figure 2 I have been using a background set defined as any gene with ≥ 1 read in any germ line cluster."
   ]
  },
  {
   "cell_type": "code",
   "execution_count": 5,
   "metadata": {},
   "outputs": [
    {
     "name": "stdout",
     "output_type": "stream",
     "text": [
      "There are 14,371 genes that have at least 1 read in a germline cluster.\n"
     ]
    }
   ],
   "source": [
    "# Create a list of FBgns that have at least one read in a germline cluster.\n",
    "expressed = tpm.index[tpm.iloc[:, :4].sum(axis=1) > 0].tolist()\n",
    "print('There are {:,} genes that have at least 1 read in a germline cluster.'.format(len(expressed)))"
   ]
  },
  {
   "cell_type": "markdown",
   "metadata": {},
   "source": [
    "## Creation of table in Slide 8"
   ]
  },
  {
   "cell_type": "markdown",
   "metadata": {},
   "source": [
    "Now that I have the general datasets defined I begin to process them. First I import each of the DEG comparisons and generate the counts tables that I showed in slide 8 and sent to you as ('2018-03-31_lineage_comparison.tsv'). I consider a gene DEG if the `p_val_adj <= 0.01`, and I use `avg_logFC` to assign direction."
   ]
  },
  {
   "cell_type": "code",
   "execution_count": 6,
   "metadata": {},
   "outputs": [
    {
     "data": {
      "text/html": [
       "<div>\n",
       "<style scoped>\n",
       "    .dataframe tbody tr th:only-of-type {\n",
       "        vertical-align: middle;\n",
       "    }\n",
       "\n",
       "    .dataframe tbody tr th {\n",
       "        vertical-align: top;\n",
       "    }\n",
       "\n",
       "    .dataframe thead tr th {\n",
       "        text-align: left;\n",
       "    }\n",
       "\n",
       "    .dataframe thead tr:last-of-type th {\n",
       "        text-align: right;\n",
       "    }\n",
       "</style>\n",
       "<table border=\"1\" class=\"dataframe\">\n",
       "  <thead>\n",
       "    <tr>\n",
       "      <th></th>\n",
       "      <th colspan=\"2\" halign=\"left\">gonia_vs_early</th>\n",
       "      <th colspan=\"2\" halign=\"left\">early_vs_mid</th>\n",
       "      <th colspan=\"2\" halign=\"left\">mid_vs_late</th>\n",
       "    </tr>\n",
       "    <tr>\n",
       "      <th></th>\n",
       "      <th>gonia</th>\n",
       "      <th>early</th>\n",
       "      <th>early</th>\n",
       "      <th>mid</th>\n",
       "      <th>mid</th>\n",
       "      <th>late</th>\n",
       "    </tr>\n",
       "    <tr>\n",
       "      <th>chrom</th>\n",
       "      <th></th>\n",
       "      <th></th>\n",
       "      <th></th>\n",
       "      <th></th>\n",
       "      <th></th>\n",
       "      <th></th>\n",
       "    </tr>\n",
       "  </thead>\n",
       "  <tbody>\n",
       "    <tr>\n",
       "      <th>chrX</th>\n",
       "      <td>171.0</td>\n",
       "      <td>266.0</td>\n",
       "      <td>111.0</td>\n",
       "      <td>10.0</td>\n",
       "      <td>0.0</td>\n",
       "      <td>1.0</td>\n",
       "    </tr>\n",
       "    <tr>\n",
       "      <th>chr2L</th>\n",
       "      <td>207.0</td>\n",
       "      <td>468.0</td>\n",
       "      <td>158.0</td>\n",
       "      <td>103.0</td>\n",
       "      <td>2.0</td>\n",
       "      <td>6.0</td>\n",
       "    </tr>\n",
       "    <tr>\n",
       "      <th>chr2R</th>\n",
       "      <td>265.0</td>\n",
       "      <td>433.0</td>\n",
       "      <td>142.0</td>\n",
       "      <td>106.0</td>\n",
       "      <td>5.0</td>\n",
       "      <td>5.0</td>\n",
       "    </tr>\n",
       "    <tr>\n",
       "      <th>chr3L</th>\n",
       "      <td>206.0</td>\n",
       "      <td>416.0</td>\n",
       "      <td>126.0</td>\n",
       "      <td>75.0</td>\n",
       "      <td>6.0</td>\n",
       "      <td>3.0</td>\n",
       "    </tr>\n",
       "    <tr>\n",
       "      <th>chr3R</th>\n",
       "      <td>257.0</td>\n",
       "      <td>506.0</td>\n",
       "      <td>174.0</td>\n",
       "      <td>104.0</td>\n",
       "      <td>4.0</td>\n",
       "      <td>7.0</td>\n",
       "    </tr>\n",
       "    <tr>\n",
       "      <th>chr4</th>\n",
       "      <td>14.0</td>\n",
       "      <td>5.0</td>\n",
       "      <td>7.0</td>\n",
       "      <td>0.0</td>\n",
       "      <td>0.0</td>\n",
       "      <td>0.0</td>\n",
       "    </tr>\n",
       "    <tr>\n",
       "      <th>chrY</th>\n",
       "      <td>0.0</td>\n",
       "      <td>5.0</td>\n",
       "      <td>0.0</td>\n",
       "      <td>0.0</td>\n",
       "      <td>0.0</td>\n",
       "      <td>0.0</td>\n",
       "    </tr>\n",
       "    <tr>\n",
       "      <th>chrM</th>\n",
       "      <td>0.0</td>\n",
       "      <td>6.0</td>\n",
       "      <td>0.0</td>\n",
       "      <td>0.0</td>\n",
       "      <td>0.0</td>\n",
       "      <td>7.0</td>\n",
       "    </tr>\n",
       "  </tbody>\n",
       "</table>\n",
       "</div>"
      ],
      "text/plain": [
       "      gonia_vs_early        early_vs_mid        mid_vs_late     \n",
       "               gonia  early        early    mid         mid late\n",
       "chrom                                                           \n",
       "chrX           171.0  266.0        111.0   10.0         0.0  1.0\n",
       "chr2L          207.0  468.0        158.0  103.0         2.0  6.0\n",
       "chr2R          265.0  433.0        142.0  106.0         5.0  5.0\n",
       "chr3L          206.0  416.0        126.0   75.0         6.0  3.0\n",
       "chr3R          257.0  506.0        174.0  104.0         4.0  7.0\n",
       "chr4            14.0    5.0          7.0    0.0         0.0  0.0\n",
       "chrY             0.0    5.0          0.0    0.0         0.0  0.0\n",
       "chrM             0.0    6.0          0.0    0.0         0.0  7.0"
      ]
     },
     "metadata": {},
     "output_type": "display_data"
    }
   ],
   "source": [
    "def diffs(up, down):\n",
    "    # pull in significant DEG for comparison of up vs down\n",
    "    dat = pd.read_csv(f'../output/scrnaseq-wf/{up}_vs_{down}.tsv', sep='\\t', index_col=0).query('p_val_adj <= 0.01')\n",
    "    \n",
    "    # Merge on chromosome information\n",
    "    dat = dat.join(nbconfig.fbgn2chrom)\n",
    "    \n",
    "    # Assign direction using logFC, this creates a bool array where True = 1 and False = 0.\n",
    "    dat[f'{up}'] = dat.avg_logFC > 0\n",
    "    dat[f'{down}'] = dat.avg_logFC < 0\n",
    "\n",
    "    # Set the chromosome order that I want to output\n",
    "    chrs = ['chrX', 'chr2L', 'chr2R', 'chr3L', 'chr3R', 'chr4', 'chrY', 'chrM']\n",
    "    \n",
    "    # Group by chromosome and count the number of DEG genes by summing a bool array.\n",
    "    df = dat[[f'{up}', f'{down}', 'chrom']].groupby('chrom').sum().reindex(chrs)\n",
    "    df.columns = pd.MultiIndex.from_arrays([(f'{up}_vs_{down}', f'{up}_vs_{down}'), (f'{up}', f'{down}')])\n",
    "    return df.fillna(0)\n",
    "\n",
    "lincomp = pd.concat([diffs('gonia', 'early'), diffs('early', 'mid'), diffs('mid', 'late')], axis=1)\n",
    "with pd.option_context('display.max_rows', 10):\n",
    "    display(lincomp)"
   ]
  },
  {
   "cell_type": "markdown",
   "metadata": {},
   "source": [
    "## Creation of Flag Table"
   ]
  },
  {
   "cell_type": "markdown",
   "metadata": {},
   "source": [
    "After our discussion in that meeting and futher discussions with Brian, we decided to change things up a bit for Figure 2E. He was concerned that Gonia vs Early was not the best way to get the Gonia biased (upregulated) genes, and instead wanted to use Gonia vs All 1º Spermatocytes. As you point out, to run the stats we need out background that I describe above as genes with ≥ 1 read in any germline. **NOTE: The table in the table I gave you (`2018-08-31_flag_lineage_comparison.tsv`) I forgot to add on the background genes so it is short.**"
   ]
  },
  {
   "cell_type": "code",
   "execution_count": 7,
   "metadata": {},
   "outputs": [
    {
     "data": {
      "text/html": [
       "<div>\n",
       "<style scoped>\n",
       "    .dataframe tbody tr th:only-of-type {\n",
       "        vertical-align: middle;\n",
       "    }\n",
       "\n",
       "    .dataframe tbody tr th {\n",
       "        vertical-align: top;\n",
       "    }\n",
       "\n",
       "    .dataframe thead th {\n",
       "        text-align: right;\n",
       "    }\n",
       "</style>\n",
       "<table border=\"1\" class=\"dataframe\">\n",
       "  <thead>\n",
       "    <tr style=\"text-align: right;\">\n",
       "      <th></th>\n",
       "      <th>gonia_bias</th>\n",
       "      <th>early_bias</th>\n",
       "      <th>mid_bias</th>\n",
       "      <th>late_bias</th>\n",
       "      <th>chrom</th>\n",
       "    </tr>\n",
       "    <tr>\n",
       "      <th>FBgn</th>\n",
       "      <th></th>\n",
       "      <th></th>\n",
       "      <th></th>\n",
       "      <th></th>\n",
       "      <th></th>\n",
       "    </tr>\n",
       "  </thead>\n",
       "  <tbody>\n",
       "    <tr>\n",
       "      <th>FBgn0031081</th>\n",
       "      <td>False</td>\n",
       "      <td>False</td>\n",
       "      <td>False</td>\n",
       "      <td>False</td>\n",
       "      <td>chrX</td>\n",
       "    </tr>\n",
       "    <tr>\n",
       "      <th>FBgn0031085</th>\n",
       "      <td>False</td>\n",
       "      <td>True</td>\n",
       "      <td>False</td>\n",
       "      <td>False</td>\n",
       "      <td>chrX</td>\n",
       "    </tr>\n",
       "    <tr>\n",
       "      <th>...</th>\n",
       "      <td>...</td>\n",
       "      <td>...</td>\n",
       "      <td>...</td>\n",
       "      <td>...</td>\n",
       "      <td>...</td>\n",
       "    </tr>\n",
       "    <tr>\n",
       "      <th>FBgn0040723</th>\n",
       "      <td>False</td>\n",
       "      <td>False</td>\n",
       "      <td>False</td>\n",
       "      <td>False</td>\n",
       "      <td>chr2L</td>\n",
       "    </tr>\n",
       "    <tr>\n",
       "      <th>FBgn0031277</th>\n",
       "      <td>False</td>\n",
       "      <td>False</td>\n",
       "      <td>False</td>\n",
       "      <td>False</td>\n",
       "      <td>chr2L</td>\n",
       "    </tr>\n",
       "  </tbody>\n",
       "</table>\n",
       "<p>14295 rows × 5 columns</p>\n",
       "</div>"
      ],
      "text/plain": [
       "             gonia_bias  early_bias  mid_bias  late_bias  chrom\n",
       "FBgn                                                           \n",
       "FBgn0031081       False       False     False      False   chrX\n",
       "FBgn0031085       False        True     False      False   chrX\n",
       "...                 ...         ...       ...        ...    ...\n",
       "FBgn0040723       False       False     False      False  chr2L\n",
       "FBgn0031277       False       False     False      False  chr2L\n",
       "\n",
       "[14295 rows x 5 columns]"
      ]
     },
     "execution_count": 7,
     "metadata": {},
     "output_type": "execute_result"
    }
   ],
   "source": [
    "def diffs2(up, down):\n",
    "    # read in sig DEG.\n",
    "    dat = pd.read_csv(f'../output/scrnaseq-wf/{up}_vs_{down}.tsv', sep='\\t', index_col=0).query('p_val_adj <= 0.01')\n",
    "    \n",
    "    if down == 'cytes':\n",
    "        # Give the gonia biased genes (which are logFC > 0)\n",
    "        gonia = dat.avg_logFC > 0\n",
    "        gonia.name = 'gonia_bias'\n",
    "        return gonia\n",
    "    else:\n",
    "        # otherwise return the genes biased towards the later stage (which are logFC < 0)\n",
    "        cyte = dat.avg_logFC < 0\n",
    "        cyte.name = f'{down}_bias'\n",
    "        return cyte\n",
    "\n",
    "# make an aggregated table for each comparison\n",
    "dfs = []\n",
    "for up, down in [('gonia', 'cytes'), ('gonia', 'early'), ('early', 'mid'), ('mid', 'late')]:\n",
    "    dfs.append(diffs2(up, down))\n",
    "\n",
    "df = pd.concat(dfs, axis=1, sort=True)\n",
    "df.index.name = 'FBgn'\n",
    "\n",
    "# Now add on the expressed genes as background and add on chromosome info\n",
    "df = df.reindex(expressed).fillna(False).join(nbconfig.fbgn2chrom, how='inner')\n",
    "\n",
    "# Drop chrM and chrY\n",
    "df = df.query('chrom != \"chrM\" & chrom != \"chrY\"')\n",
    "df.to_csv('../output/2018-09-05_flag_lineage_comparison.tsv', sep='\\t') # save new version of the table.\n",
    "df"
   ]
  },
  {
   "cell_type": "markdown",
   "metadata": {},
   "source": [
    "## Testing for differences of DEG by chromosomes"
   ]
  },
  {
   "cell_type": "markdown",
   "metadata": {},
   "source": [
    "As an example of how I did the Fisher's exact test I will focus on the `early_bias`."
   ]
  },
  {
   "cell_type": "code",
   "execution_count": 8,
   "metadata": {},
   "outputs": [
    {
     "data": {
      "text/html": [
       "<div>\n",
       "<style scoped>\n",
       "    .dataframe tbody tr th:only-of-type {\n",
       "        vertical-align: middle;\n",
       "    }\n",
       "\n",
       "    .dataframe tbody tr th {\n",
       "        vertical-align: top;\n",
       "    }\n",
       "\n",
       "    .dataframe thead th {\n",
       "        text-align: right;\n",
       "    }\n",
       "</style>\n",
       "<table border=\"1\" class=\"dataframe\">\n",
       "  <thead>\n",
       "    <tr style=\"text-align: right;\">\n",
       "      <th></th>\n",
       "      <th>Early DEG</th>\n",
       "      <th>Not Sig</th>\n",
       "    </tr>\n",
       "    <tr>\n",
       "      <th>chrom</th>\n",
       "      <th></th>\n",
       "      <th></th>\n",
       "    </tr>\n",
       "  </thead>\n",
       "  <tbody>\n",
       "    <tr>\n",
       "      <th>chr2L</th>\n",
       "      <td>468.0</td>\n",
       "      <td>2316.0</td>\n",
       "    </tr>\n",
       "    <tr>\n",
       "      <th>chr2R</th>\n",
       "      <td>433.0</td>\n",
       "      <td>2440.0</td>\n",
       "    </tr>\n",
       "    <tr>\n",
       "      <th>chr3L</th>\n",
       "      <td>416.0</td>\n",
       "      <td>2466.0</td>\n",
       "    </tr>\n",
       "    <tr>\n",
       "      <th>chr3R</th>\n",
       "      <td>506.0</td>\n",
       "      <td>2982.0</td>\n",
       "    </tr>\n",
       "    <tr>\n",
       "      <th>chr4</th>\n",
       "      <td>5.0</td>\n",
       "      <td>96.0</td>\n",
       "    </tr>\n",
       "    <tr>\n",
       "      <th>chrX</th>\n",
       "      <td>266.0</td>\n",
       "      <td>1901.0</td>\n",
       "    </tr>\n",
       "  </tbody>\n",
       "</table>\n",
       "</div>"
      ],
      "text/plain": [
       "       Early DEG  Not Sig\n",
       "chrom                    \n",
       "chr2L      468.0   2316.0\n",
       "chr2R      433.0   2440.0\n",
       "chr3L      416.0   2466.0\n",
       "chr3R      506.0   2982.0\n",
       "chr4         5.0     96.0\n",
       "chrX       266.0   1901.0"
      ]
     },
     "metadata": {},
     "output_type": "display_data"
    }
   ],
   "source": [
    "# Pull out early biased column from `df` above.\n",
    "early = df[['early_bias', 'chrom']]\n",
    "\n",
    "# Count the number of genes that were DEG by summing bool array.\n",
    "num_deg = early.groupby('chrom').sum().early_bias\n",
    "num_deg.name = 'Early DEG'\n",
    "\n",
    "# Count the total number of genes and subtract `num_deg` to get the `num_not_deg`.\n",
    "num_not_deg = early.groupby('chrom').size() - num_deg\n",
    "num_not_deg.name = 'Not Sig'\n",
    "\n",
    "# combine\n",
    "deg_table = pd.concat([num_deg, num_not_deg], axis=1, sort=True)\n",
    "\n",
    "# Verify my math that to total number of genes is equal to the number of genes in early\n",
    "assert deg_table.sum().sum() == early.shape[0]\n",
    "\n",
    "with pd.option_context('display.max_rows', 10):\n",
    "    display(deg_table)"
   ]
  },
  {
   "cell_type": "markdown",
   "metadata": {},
   "source": [
    "### Aggregation of Autosomes"
   ]
  },
  {
   "cell_type": "markdown",
   "metadata": {},
   "source": [
    "For Figure 2E I aggregated the autsomes and tested the X and 4 separately. "
   ]
  },
  {
   "cell_type": "code",
   "execution_count": 9,
   "metadata": {},
   "outputs": [
    {
     "data": {
      "text/html": [
       "<div>\n",
       "<style scoped>\n",
       "    .dataframe tbody tr th:only-of-type {\n",
       "        vertical-align: middle;\n",
       "    }\n",
       "\n",
       "    .dataframe tbody tr th {\n",
       "        vertical-align: top;\n",
       "    }\n",
       "\n",
       "    .dataframe thead th {\n",
       "        text-align: right;\n",
       "    }\n",
       "</style>\n",
       "<table border=\"1\" class=\"dataframe\">\n",
       "  <thead>\n",
       "    <tr style=\"text-align: right;\">\n",
       "      <th></th>\n",
       "      <th>X</th>\n",
       "      <th>Autosomes</th>\n",
       "    </tr>\n",
       "  </thead>\n",
       "  <tbody>\n",
       "    <tr>\n",
       "      <th>Early DEG</th>\n",
       "      <td>266.0</td>\n",
       "      <td>1823.0</td>\n",
       "    </tr>\n",
       "    <tr>\n",
       "      <th>Not Sig</th>\n",
       "      <td>1901.0</td>\n",
       "      <td>10204.0</td>\n",
       "    </tr>\n",
       "  </tbody>\n",
       "</table>\n",
       "</div>"
      ],
      "text/plain": [
       "                X  Autosomes\n",
       "Early DEG   266.0     1823.0\n",
       "Not Sig    1901.0    10204.0"
      ]
     },
     "metadata": {},
     "output_type": "display_data"
    },
    {
     "data": {
      "text/html": [
       "<div>\n",
       "<style scoped>\n",
       "    .dataframe tbody tr th:only-of-type {\n",
       "        vertical-align: middle;\n",
       "    }\n",
       "\n",
       "    .dataframe tbody tr th {\n",
       "        vertical-align: top;\n",
       "    }\n",
       "\n",
       "    .dataframe thead th {\n",
       "        text-align: right;\n",
       "    }\n",
       "</style>\n",
       "<table border=\"1\" class=\"dataframe\">\n",
       "  <thead>\n",
       "    <tr style=\"text-align: right;\">\n",
       "      <th></th>\n",
       "      <th>4</th>\n",
       "      <th>Autosomes</th>\n",
       "    </tr>\n",
       "  </thead>\n",
       "  <tbody>\n",
       "    <tr>\n",
       "      <th>Early DEG</th>\n",
       "      <td>5.0</td>\n",
       "      <td>1823.0</td>\n",
       "    </tr>\n",
       "    <tr>\n",
       "      <th>Not Sig</th>\n",
       "      <td>96.0</td>\n",
       "      <td>10204.0</td>\n",
       "    </tr>\n",
       "  </tbody>\n",
       "</table>\n",
       "</div>"
      ],
      "text/plain": [
       "              4  Autosomes\n",
       "Early DEG   5.0     1823.0\n",
       "Not Sig    96.0    10204.0"
      ]
     },
     "metadata": {},
     "output_type": "display_data"
    }
   ],
   "source": [
    "# Aggreage and separate\n",
    "autosomes = deg_table.loc[['chr2L', 'chr2R', 'chr3L', 'chr3R']].sum()\n",
    "autosomes.name = 'Autosomes'\n",
    "\n",
    "x = deg_table.loc['chrX']\n",
    "x.name = 'X'\n",
    "\n",
    "_4 = deg_table.loc['chr4']\n",
    "_4.name = '4'\n",
    "\n",
    "# X cross tab table\n",
    "ct = pd.concat([x, autosomes], axis=1)\n",
    "display(ct)\n",
    "\n",
    "# 4th cross tab table\n",
    "ct2 = pd.concat([_4, autosomes], axis=1)\n",
    "display(ct2)"
   ]
  },
  {
   "cell_type": "markdown",
   "metadata": {},
   "source": [
    "#### One-Sided Fisher's Exact Test"
   ]
  },
  {
   "cell_type": "markdown",
   "metadata": {},
   "source": [
    "I used the one-sided [Fisher's Exact Test'](https://docs.scipy.org/doc/scipy/reference/generated/scipy.stats.fisher_exact.html) and by passing the `'less'` keyword."
   ]
  },
  {
   "cell_type": "code",
   "execution_count": 10,
   "metadata": {},
   "outputs": [
    {
     "name": "stdout",
     "output_type": "stream",
     "text": [
      "The X chromosome shows significant depletion for genes biased towards the early 1º spermatocytes compared to gonia (p-value = 0.000218)\n"
     ]
    }
   ],
   "source": [
    "# Run test of depletion on the X\n",
    "t, pval = fisher_exact(ct.values, 'less')\n",
    "print(f'The X chromosome shows significant depletion for genes biased towards the early 1º spermatocytes compared to gonia (p-value = {pval:0.6f})')"
   ]
  },
  {
   "cell_type": "code",
   "execution_count": 11,
   "metadata": {},
   "outputs": [
    {
     "name": "stdout",
     "output_type": "stream",
     "text": [
      "The 4th chromosome shows significant depletion for genes biased towards the early 1º spermatocytes compared to gonia (p-value = 0.001259)\n"
     ]
    }
   ],
   "source": [
    "# Run test of depletion on the 4th\n",
    "\n",
    "t, pval = fisher_exact(ct2.values, 'less')\n",
    "print(f'The 4th chromosome shows significant depletion for genes biased towards the early 1º spermatocytes compared to gonia (p-value = {pval:0.6f})')"
   ]
  },
  {
   "cell_type": "markdown",
   "metadata": {},
   "source": [
    "#### Two-Sided Fisher's Exact Test"
   ]
  },
  {
   "cell_type": "markdown",
   "metadata": {},
   "source": [
    "However I could have also used the two sided Fisher's exact test by passing the `'two-sided'` keyword. However, I always find the two-sided test a little harder to explain because it is just showing a difference among cell counts."
   ]
  },
  {
   "cell_type": "code",
   "execution_count": 12,
   "metadata": {},
   "outputs": [
    {
     "name": "stdout",
     "output_type": "stream",
     "text": [
      "Two-Sided test for difference of X vs Autosomes when comparing early 1º spermatocytes to gonia (p-value = 0.000421)\n"
     ]
    }
   ],
   "source": [
    "# Run test of depletion on the X\n",
    "t, pval = fisher_exact(ct.values, 'two-sided')\n",
    "print(f'Two-Sided test for difference of X vs Autosomes when comparing early 1º spermatocytes to gonia (p-value = {pval:0.6f})')"
   ]
  },
  {
   "cell_type": "code",
   "execution_count": 13,
   "metadata": {},
   "outputs": [
    {
     "name": "stdout",
     "output_type": "stream",
     "text": [
      "Two-Sided test for difference of 4th vs Autosomes when comparing early 1º spermatocytes to gonia (p-value = 0.002921)\n"
     ]
    }
   ],
   "source": [
    "# Run test of depletion on the 4\n",
    "t, pval = fisher_exact(ct2.values, 'two-sided')\n",
    "print(f'Two-Sided test for difference of 4th vs Autosomes when comparing early 1º spermatocytes to gonia (p-value = {pval:0.6f})')"
   ]
  },
  {
   "cell_type": "markdown",
   "metadata": {},
   "source": [
    "## Each autosome"
   ]
  },
  {
   "cell_type": "markdown",
   "metadata": {},
   "source": [
    "An alternative would be to compare the X and 4th to each autosomal arm. When comparing chrX vs chr3L significance not as strong as comparing the aggregate, but it is the same."
   ]
  },
  {
   "cell_type": "code",
   "execution_count": 14,
   "metadata": {},
   "outputs": [],
   "source": [
    "def comp_auto(target, auto_arm, alternative='less'):\n",
    "    _target = deg_table.loc[target]\n",
    "    auto = deg_table.loc[auto_arm]\n",
    "    ct = pd.concat([_target, auto], axis=1, sort=True)\n",
    "    _, pval = fisher_exact(ct.values, alternative)\n",
    "    \n",
    "    return target, auto_arm, pval"
   ]
  },
  {
   "cell_type": "markdown",
   "metadata": {},
   "source": [
    "### One-sided"
   ]
  },
  {
   "cell_type": "code",
   "execution_count": 15,
   "metadata": {},
   "outputs": [
    {
     "data": {
      "text/html": [
       "<div>\n",
       "<style scoped>\n",
       "    .dataframe tbody tr th:only-of-type {\n",
       "        vertical-align: middle;\n",
       "    }\n",
       "\n",
       "    .dataframe tbody tr th {\n",
       "        vertical-align: top;\n",
       "    }\n",
       "\n",
       "    .dataframe thead th {\n",
       "        text-align: right;\n",
       "    }\n",
       "</style>\n",
       "<table border=\"1\" class=\"dataframe\">\n",
       "  <thead>\n",
       "    <tr style=\"text-align: right;\">\n",
       "      <th></th>\n",
       "      <th>target</th>\n",
       "      <th>autosome</th>\n",
       "      <th>p-val</th>\n",
       "    </tr>\n",
       "  </thead>\n",
       "  <tbody>\n",
       "    <tr>\n",
       "      <th>0</th>\n",
       "      <td>chrX</td>\n",
       "      <td>chr2L</td>\n",
       "      <td>0.000004</td>\n",
       "    </tr>\n",
       "    <tr>\n",
       "      <th>1</th>\n",
       "      <td>chrX</td>\n",
       "      <td>chr2R</td>\n",
       "      <td>0.002448</td>\n",
       "    </tr>\n",
       "    <tr>\n",
       "      <th>2</th>\n",
       "      <td>chrX</td>\n",
       "      <td>chr3L</td>\n",
       "      <td>0.014389</td>\n",
       "    </tr>\n",
       "    <tr>\n",
       "      <th>3</th>\n",
       "      <td>chrX</td>\n",
       "      <td>chr3R</td>\n",
       "      <td>0.009441</td>\n",
       "    </tr>\n",
       "  </tbody>\n",
       "</table>\n",
       "</div>"
      ],
      "text/plain": [
       "  target autosome     p-val\n",
       "0   chrX    chr2L  0.000004\n",
       "1   chrX    chr2R  0.002448\n",
       "2   chrX    chr3L  0.014389\n",
       "3   chrX    chr3R  0.009441"
      ]
     },
     "execution_count": 15,
     "metadata": {},
     "output_type": "execute_result"
    }
   ],
   "source": [
    "res = []\n",
    "for comp in [ ('chrX', 'chr2L'), ('chrX', 'chr2R'), ('chrX', 'chr3L'), ('chrX', 'chr3R')]:\n",
    "    res.append(comp_auto(*comp))\n",
    "    \n",
    "pd.DataFrame(res, columns=['target', 'autosome', 'p-val'])"
   ]
  },
  {
   "cell_type": "code",
   "execution_count": 16,
   "metadata": {},
   "outputs": [
    {
     "data": {
      "text/html": [
       "<div>\n",
       "<style scoped>\n",
       "    .dataframe tbody tr th:only-of-type {\n",
       "        vertical-align: middle;\n",
       "    }\n",
       "\n",
       "    .dataframe tbody tr th {\n",
       "        vertical-align: top;\n",
       "    }\n",
       "\n",
       "    .dataframe thead th {\n",
       "        text-align: right;\n",
       "    }\n",
       "</style>\n",
       "<table border=\"1\" class=\"dataframe\">\n",
       "  <thead>\n",
       "    <tr style=\"text-align: right;\">\n",
       "      <th></th>\n",
       "      <th>target</th>\n",
       "      <th>autosome</th>\n",
       "      <th>p-val</th>\n",
       "    </tr>\n",
       "  </thead>\n",
       "  <tbody>\n",
       "    <tr>\n",
       "      <th>0</th>\n",
       "      <td>chr4</td>\n",
       "      <td>chr2L</td>\n",
       "      <td>0.000357</td>\n",
       "    </tr>\n",
       "    <tr>\n",
       "      <th>1</th>\n",
       "      <td>chr4</td>\n",
       "      <td>chr2R</td>\n",
       "      <td>0.001508</td>\n",
       "    </tr>\n",
       "    <tr>\n",
       "      <th>2</th>\n",
       "      <td>chr4</td>\n",
       "      <td>chr3L</td>\n",
       "      <td>0.002502</td>\n",
       "    </tr>\n",
       "    <tr>\n",
       "      <th>3</th>\n",
       "      <td>chr4</td>\n",
       "      <td>chr3R</td>\n",
       "      <td>0.002310</td>\n",
       "    </tr>\n",
       "  </tbody>\n",
       "</table>\n",
       "</div>"
      ],
      "text/plain": [
       "  target autosome     p-val\n",
       "0   chr4    chr2L  0.000357\n",
       "1   chr4    chr2R  0.001508\n",
       "2   chr4    chr3L  0.002502\n",
       "3   chr4    chr3R  0.002310"
      ]
     },
     "execution_count": 16,
     "metadata": {},
     "output_type": "execute_result"
    }
   ],
   "source": [
    "res = []\n",
    "for comp in [ ('chr4', 'chr2L'), ('chr4', 'chr2R'), ('chr4', 'chr3L'), ('chr4', 'chr3R')]:\n",
    "    res.append(comp_auto(*comp))\n",
    "    \n",
    "pd.DataFrame(res, columns=['target', 'autosome', 'p-val'])"
   ]
  },
  {
   "cell_type": "markdown",
   "metadata": {},
   "source": [
    "### Two-sided"
   ]
  },
  {
   "cell_type": "code",
   "execution_count": 17,
   "metadata": {},
   "outputs": [
    {
     "data": {
      "text/html": [
       "<div>\n",
       "<style scoped>\n",
       "    .dataframe tbody tr th:only-of-type {\n",
       "        vertical-align: middle;\n",
       "    }\n",
       "\n",
       "    .dataframe tbody tr th {\n",
       "        vertical-align: top;\n",
       "    }\n",
       "\n",
       "    .dataframe thead th {\n",
       "        text-align: right;\n",
       "    }\n",
       "</style>\n",
       "<table border=\"1\" class=\"dataframe\">\n",
       "  <thead>\n",
       "    <tr style=\"text-align: right;\">\n",
       "      <th></th>\n",
       "      <th>target</th>\n",
       "      <th>autosome</th>\n",
       "      <th>p-val</th>\n",
       "    </tr>\n",
       "  </thead>\n",
       "  <tbody>\n",
       "    <tr>\n",
       "      <th>0</th>\n",
       "      <td>chrX</td>\n",
       "      <td>chr2L</td>\n",
       "      <td>0.000008</td>\n",
       "    </tr>\n",
       "    <tr>\n",
       "      <th>1</th>\n",
       "      <td>chrX</td>\n",
       "      <td>chr2R</td>\n",
       "      <td>0.004503</td>\n",
       "    </tr>\n",
       "    <tr>\n",
       "      <th>2</th>\n",
       "      <td>chrX</td>\n",
       "      <td>chr3L</td>\n",
       "      <td>0.027473</td>\n",
       "    </tr>\n",
       "    <tr>\n",
       "      <th>3</th>\n",
       "      <td>chrX</td>\n",
       "      <td>chr3R</td>\n",
       "      <td>0.018719</td>\n",
       "    </tr>\n",
       "  </tbody>\n",
       "</table>\n",
       "</div>"
      ],
      "text/plain": [
       "  target autosome     p-val\n",
       "0   chrX    chr2L  0.000008\n",
       "1   chrX    chr2R  0.004503\n",
       "2   chrX    chr3L  0.027473\n",
       "3   chrX    chr3R  0.018719"
      ]
     },
     "execution_count": 17,
     "metadata": {},
     "output_type": "execute_result"
    }
   ],
   "source": [
    "res = []\n",
    "for comp in [ ('chrX', 'chr2L'), ('chrX', 'chr2R'), ('chrX', 'chr3L'), ('chrX', 'chr3R')]:\n",
    "    res.append(comp_auto(*comp, alternative='two-sided'))\n",
    "    \n",
    "pd.DataFrame(res, columns=['target', 'autosome', 'p-val'])"
   ]
  },
  {
   "cell_type": "code",
   "execution_count": 18,
   "metadata": {},
   "outputs": [
    {
     "data": {
      "text/html": [
       "<div>\n",
       "<style scoped>\n",
       "    .dataframe tbody tr th:only-of-type {\n",
       "        vertical-align: middle;\n",
       "    }\n",
       "\n",
       "    .dataframe tbody tr th {\n",
       "        vertical-align: top;\n",
       "    }\n",
       "\n",
       "    .dataframe thead th {\n",
       "        text-align: right;\n",
       "    }\n",
       "</style>\n",
       "<table border=\"1\" class=\"dataframe\">\n",
       "  <thead>\n",
       "    <tr style=\"text-align: right;\">\n",
       "      <th></th>\n",
       "      <th>target</th>\n",
       "      <th>autosome</th>\n",
       "      <th>p-val</th>\n",
       "    </tr>\n",
       "  </thead>\n",
       "  <tbody>\n",
       "    <tr>\n",
       "      <th>0</th>\n",
       "      <td>chr4</td>\n",
       "      <td>chr2L</td>\n",
       "      <td>0.000561</td>\n",
       "    </tr>\n",
       "    <tr>\n",
       "      <th>1</th>\n",
       "      <td>chr4</td>\n",
       "      <td>chr2R</td>\n",
       "      <td>0.002512</td>\n",
       "    </tr>\n",
       "    <tr>\n",
       "      <th>2</th>\n",
       "      <td>chr4</td>\n",
       "      <td>chr3L</td>\n",
       "      <td>0.005163</td>\n",
       "    </tr>\n",
       "    <tr>\n",
       "      <th>3</th>\n",
       "      <td>chr4</td>\n",
       "      <td>chr3R</td>\n",
       "      <td>0.003717</td>\n",
       "    </tr>\n",
       "  </tbody>\n",
       "</table>\n",
       "</div>"
      ],
      "text/plain": [
       "  target autosome     p-val\n",
       "0   chr4    chr2L  0.000561\n",
       "1   chr4    chr2R  0.002512\n",
       "2   chr4    chr3L  0.005163\n",
       "3   chr4    chr3R  0.003717"
      ]
     },
     "execution_count": 18,
     "metadata": {},
     "output_type": "execute_result"
    }
   ],
   "source": [
    "res = []\n",
    "for comp in [ ('chr4', 'chr2L'), ('chr4', 'chr2R'), ('chr4', 'chr3L'), ('chr4', 'chr3R')]:\n",
    "    res.append(comp_auto(*comp, alternative='two-sided'))\n",
    "    \n",
    "pd.DataFrame(res, columns=['target', 'autosome', 'p-val'])"
   ]
  },
  {
   "cell_type": "markdown",
   "metadata": {},
   "source": [
    "## Output TPM table and expressed gene lists for Maria."
   ]
  },
  {
   "cell_type": "markdown",
   "metadata": {},
   "source": [
    "I am going to save out the full tpm table and my expressed genes to send to you."
   ]
  },
  {
   "cell_type": "code",
   "execution_count": 19,
   "metadata": {},
   "outputs": [],
   "source": [
    "pd.read_parquet('../output/scrnaseq-wf/tpm.parquet').to_csv('../output/2018-09-05_tpm.tsv', sep='\\t')"
   ]
  },
  {
   "cell_type": "code",
   "execution_count": 20,
   "metadata": {},
   "outputs": [],
   "source": [
    "with open('../output/2018-09-05_expressed_genes.txt', 'w') as fh:\n",
    "    fh.write('\\n'.join(expressed))"
   ]
  },
  {
   "cell_type": "code",
   "execution_count": null,
   "metadata": {},
   "outputs": [],
   "source": []
  }
 ],
 "metadata": {
  "kernelspec": {
   "display_name": "Python [conda env:larval_gonad]",
   "language": "python",
   "name": "conda-env-larval_gonad-py"
  },
  "language_info": {
   "codemirror_mode": {
    "name": "ipython",
    "version": 3
   },
   "file_extension": ".py",
   "mimetype": "text/x-python",
   "name": "python",
   "nbconvert_exporter": "python",
   "pygments_lexer": "ipython3",
   "version": "3.6.3"
  }
 },
 "nbformat": 4,
 "nbformat_minor": 2
}
