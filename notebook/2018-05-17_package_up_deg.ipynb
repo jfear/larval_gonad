{
 "cells": [
  {
   "cell_type": "markdown",
   "metadata": {},
   "source": [
    "# Package Up Differential Expression Results"
   ]
  },
  {
   "cell_type": "code",
   "execution_count": 1,
   "metadata": {},
   "outputs": [
    {
     "name": "stdout",
     "output_type": "stream",
     "text": [
      "last updated: 2018-05-17 \n",
      "Git hash: 2ab7e147bd4d8cf2b5529684ed180aa07ed7c54e\n"
     ]
    }
   ],
   "source": [
    "import os\n",
    "import sys\n",
    "from pathlib import Path\n",
    "from string import ascii_uppercase\n",
    "\n",
    "from IPython.display import display, HTML, Markdown\n",
    "import numpy as np\n",
    "import pandas as pd\n",
    "\n",
    "import matplotlib as mpl\n",
    "import matplotlib.pyplot as plt\n",
    "import seaborn as sns\n",
    "\n",
    "# Project level imports\n",
    "from larval_gonad.notebook import Nb\n",
    "from larval_gonad.plotting import make_figs\n",
    "from larval_gonad.config import memory\n",
    "from larval_gonad.scRNAseq import CLUSTER_ANNOT\n",
    "\n",
    "# Setup notebook\n",
    "nbconfig = Nb.setup_notebook(seurat_dir='../output/scrnaseq_combine_force')"
   ]
  },
  {
   "cell_type": "code",
   "execution_count": 2,
   "metadata": {},
   "outputs": [],
   "source": [
    "writer = pd.ExcelWriter('../output/2018-05-17_differential_expression_results.xlsx')\n",
    "cell_format = writer.book.add_format({'valign': 'top'})\n",
    "cell_format.set_text_wrap()"
   ]
  },
  {
   "cell_type": "markdown",
   "metadata": {},
   "source": [
    "## One vs Rest"
   ]
  },
  {
   "cell_type": "code",
   "execution_count": 3,
   "metadata": {},
   "outputs": [],
   "source": [
    "def _add_sheet(writer, sheet_name, fname, alpha=0.01, comment=None, headers=None):\n",
    "    sheet = writer.book.add_worksheet(sheet_name)\n",
    "    writer.sheets[sheet_name] = sheet\n",
    "    sheet.set_column(0, 1, 20)\n",
    "    \n",
    "    df = pd.read_csv(Path(nbconfig.seurat_dir, fname), sep='\\t').query(f'p_val_adj <= {alpha}')\n",
    "    df.sort_values(by='avg_logFC', ascending=False, inplace=True)\n",
    "    \n",
    "    if 'cluster' in df.columns:\n",
    "        df.sort_values(by='cluster', inplace=True)\n",
    "        df.cluster.replace(CLUSTER_ANNOT, inplace=True)\n",
    "        idx = df.columns.tolist().index('cluster')\n",
    "        sheet.set_column(idx, idx, 20)\n",
    "        \n",
    "    if headers:\n",
    "        df.rename({'pct.1': headers[0], 'pct.2': headers[1]}, inplace=True, axis=1)\n",
    "    df.to_excel(writer, sheet_name=sheet_name, index=False, startrow=1, freeze_panes=(2, 2))\n",
    "    \n",
    "    if comment:\n",
    "        sheet.set_row(0, 100, cell_format)\n",
    "        sheet.merge_range('A1:G1', comment)\n",
    "        "
   ]
  },
  {
   "cell_type": "code",
   "execution_count": 4,
   "metadata": {},
   "outputs": [],
   "source": [
    "comment = \"\"\"\\\n",
    "This is the initial differential expression analysis to identify 'biomarkers' for lack of a better term. \\\n",
    "Here we take each cluster and compare it's expression to all other cells. \\\n",
    "This creates a list of genes that are upregulated in each cluster. \\\n",
    "This table is grouped by clusters and sorted by avg_logFC.\\\n",
    "\"\"\"\n",
    "_add_sheet(writer, 'One vs Rest (biomarkers)', 'biomarkers_res.0.6.tsv', comment=comment)"
   ]
  },
  {
   "cell_type": "code",
   "execution_count": 5,
   "metadata": {},
   "outputs": [],
   "source": [
    "comment = \"\"\"\\\n",
    "Here I have done a differential expression between the germ cell and somatic cell lines. \\\n",
    "For this analysis I combine all of the germ cell clusters vs all of the somatic cell clusters.\n",
    "\n",
    "Positve avg_logFC are germ biased genes.\n",
    "Negative avg_logFC are soma biased genes.\n",
    "\"\"\"\n",
    "_add_sheet(\n",
    "    writer, \n",
    "    'Germ Cells vs Somatic Cells', \n",
    "    '2018-05-16_scrnaseq_germ_vs_soma_biomarkers.tsv', \n",
    "    comment=comment,\n",
    "    headers=('pct.germ', 'pct.soma')\n",
    ")"
   ]
  },
  {
   "cell_type": "code",
   "execution_count": 6,
   "metadata": {},
   "outputs": [],
   "source": [
    "comment = \"\"\"\\\n",
    "Here I have done a differential expression of spermatogonia vs 1º spermatocytes. \\\n",
    "For this analysis I took the spermatogonia cluster and compared it to all spermatocyte \\\n",
    "clusters combined together.\n",
    "\n",
    "Positve avg_logFC are spermatogonia biased genes.\n",
    "Negative avg_logFC are 1º spermatocyte biased genes.\n",
    "\"\"\"\n",
    "_add_sheet(\n",
    "    writer, \n",
    "    'Gonia vs Cytes', \n",
    "    '2018-05-16_scrnaseq_spermatogonia_vs_spermatocytes_biomarkers.tsv', \n",
    "    comment=comment,\n",
    "    headers=('pct.gonia', 'pct.cytes')\n",
    ")"
   ]
  },
  {
   "cell_type": "code",
   "execution_count": 7,
   "metadata": {},
   "outputs": [],
   "source": [
    "comment = \"\"\"\\\n",
    "Here I have done a differential expression of Early 1º spermatocytes vs Mid and Late 1º spermatocytes.\n",
    "\n",
    "Positve avg_logFC are early 1º spermatocyte biased genes.\n",
    "Negative avg_logFC are mid and late 1º spermatocyte biased genes.\n",
    "\"\"\"\n",
    "_add_sheet(\n",
    "    writer, \n",
    "    'Early cytes vs Mid and Late', \n",
    "    '2018-05-16_scrnaseq_early_spermatocytes_vs_spermatocytes_biomarkers.tsv', \n",
    "    comment=comment,\n",
    "    headers=('pct.early', 'pct.midLate')\n",
    ")"
   ]
  },
  {
   "cell_type": "code",
   "execution_count": 8,
   "metadata": {},
   "outputs": [],
   "source": [
    "comment = \"\"\"\\\n",
    "Here I have done a differential expression of Mid 1º spermatocytes vs Early and Late 1º spermatocytes.\n",
    "\n",
    "Positve avg_logFC are mid 1º spermatocyte biased genes.\n",
    "Negative avg_logFC are early and late 1º spermatocyte biased genes.\n",
    "\"\"\"\n",
    "_add_sheet(\n",
    "    writer, \n",
    "    'Mid cytes vs Early and Late', \n",
    "    '2018-05-16_scrnaseq_mid_spermatocytes_vs_spermatocytes_biomarkers.tsv', \n",
    "    comment=comment,\n",
    "    headers=('pct.mid', 'pct.earlyLate')\n",
    ")"
   ]
  },
  {
   "cell_type": "code",
   "execution_count": 9,
   "metadata": {},
   "outputs": [],
   "source": [
    "comment = \"\"\"\\\n",
    "Here I have done a differential expression of Late 1º spermatocytes vs Early and Mid 1º spermatocytes.\n",
    "\n",
    "Positve avg_logFC are late 1º spermatocyte biased genes.\n",
    "Negative avg_logFC are early and mid 1º spermatocyte biased genes.\n",
    "\"\"\"\n",
    "_add_sheet(\n",
    "    writer, \n",
    "    'Late cytes vs Early and Mid', \n",
    "    '2018-05-16_scrnaseq_late_spermatocytes_vs_spermatocytes_biomarkers.tsv', \n",
    "    comment=comment,\n",
    "    headers=('pct.late', 'pct.earlyMid')\n",
    ")"
   ]
  },
  {
   "cell_type": "code",
   "execution_count": 10,
   "metadata": {},
   "outputs": [],
   "source": [
    "comment = \"\"\"\\\n",
    "Cluster eleven is a little bit of a mystery to us. \\\n",
    "It behaves kind of like a 1º spermatocyte, but has very low expression. \\\n",
    "Here I run a differential expression between cluster eleven and the 1º spermatocyte clusters.\n",
    "\n",
    "Positve avg_logFC are cluster 11 biased genes.\n",
    "Negative avg_logFC are 1º spermatocyte biased genes.\n",
    "\"\"\"\n",
    "_add_sheet(\n",
    "    writer, \n",
    "    'Cluster 11 vs cytes', \n",
    "    '2018-05-16_scrnaseq_eleven_vs_spermatocytes_biomarkers.tsv', \n",
    "    comment=comment,\n",
    "    headers=('pct.eleven', 'pct.cytes')\n",
    ")"
   ]
  },
  {
   "cell_type": "code",
   "execution_count": 11,
   "metadata": {},
   "outputs": [],
   "source": [
    "writer.close()"
   ]
  },
  {
   "cell_type": "code",
   "execution_count": null,
   "metadata": {},
   "outputs": [],
   "source": []
  }
 ],
 "metadata": {
  "kernelspec": {
   "display_name": "Python [conda env:larval_gonad]",
   "language": "python",
   "name": "conda-env-larval_gonad-py"
  },
  "language_info": {
   "codemirror_mode": {
    "name": "ipython",
    "version": 3
   },
   "file_extension": ".py",
   "mimetype": "text/x-python",
   "name": "python",
   "nbconvert_exporter": "python",
   "pygments_lexer": "ipython3",
   "version": "3.6.3"
  }
 },
 "nbformat": 4,
 "nbformat_minor": 2
}
