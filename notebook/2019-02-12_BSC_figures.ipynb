{
 "cells": [
  {
   "cell_type": "markdown",
   "metadata": {},
   "source": [
    "# Figures for BSC"
   ]
  },
  {
   "cell_type": "markdown",
   "metadata": {},
   "source": [
    "Brian requested the following for the BSC:\n",
    "\n",
    "* heatmaps and clusters of scRNA.  \n",
    "* X, Y 4th chromosome expression patterns.  "
   ]
  },
  {
   "cell_type": "code",
   "execution_count": null,
   "metadata": {},
   "outputs": [],
   "source": [
    "import os\n",
    "import sys\n",
    "import re\n",
    "from pathlib import Path\n",
    "from itertools import zip_longest\n",
    "from yaml import load\n",
    "from collections import defaultdict\n",
    "\n",
    "from IPython.display import display, HTML, Markdown\n",
    "import numpy as np\n",
    "import pandas as pd\n",
    "from scipy.stats import mannwhitneyu\n",
    "\n",
    "import matplotlib as mpl\n",
    "import matplotlib.pyplot as plt\n",
    "from matplotlib.lines import Line2D\n",
    "import seaborn as sns\n",
    "from sklearn.cluster import KMeans\n",
    "from scipy.cluster.hierarchy import linkage, dendrogram\n",
    "\n",
    "# Project level imports\n",
    "from larval_gonad.notebook import Nb"
   ]
  },
  {
   "cell_type": "code",
   "execution_count": null,
   "metadata": {},
   "outputs": [],
   "source": [
    "# Setup notebook\n",
    "nbconfig = Nb.setup_notebook(seurat_dir='../output/scrnaseq-wf/scrnaseq_combine_force')"
   ]
  },
  {
   "cell_type": "code",
   "execution_count": null,
   "metadata": {},
   "outputs": [],
   "source": [
    "clusters = (\n",
    "    nbconfig.seurat.get_clusters('res.0.6')\n",
    "    .map(nbconfig.short_cluster_annot)\n",
    "    .pipe(lambda x: x[x != 'UNK'])\n",
    "    .astype('category')\n",
    "    .cat.as_ordered()\n",
    "    .cat.reorder_categories(nbconfig.short_cluster_order)\n",
    "    .to_frame()\n",
    "    .assign(colors=lambda df: df.cluster.map(dict(zip(nbconfig.short_cluster_order, nbconfig.colors['clusters']))))\n",
    "    .rename_axis('cell_id')\n",
    ")"
   ]
  },
  {
   "cell_type": "markdown",
   "metadata": {},
   "source": [
    "## TSNE"
   ]
  },
  {
   "cell_type": "code",
   "execution_count": null,
   "metadata": {
    "lines_to_next_cell": 1
   },
   "outputs": [],
   "source": [
    "tsne = (\n",
    "    nbconfig.seurat.get_tsne()\n",
    "    .rename_axis('cell_id')\n",
    "    .merge(clusters, on='cell_id')\n",
    ")"
   ]
  },
  {
   "cell_type": "code",
   "execution_count": null,
   "metadata": {
    "lines_to_next_cell": 1
   },
   "outputs": [],
   "source": [
    "def make_list(list_like):\n",
    "    return np.array(\n",
    "        list(\n",
    "            zip_longest(list_like[:4], list_like[4:8], [list_like[-1]])\n",
    "        )\n",
    "    ).flatten().tolist()"
   ]
  },
  {
   "cell_type": "code",
   "execution_count": null,
   "metadata": {},
   "outputs": [],
   "source": [
    "fig, ax = plt.subplots(figsize=(8, 8))\n",
    "ax.scatter(tsne.tSNE_1, tsne.tSNE_2, s=20, c=tsne.colors)\n",
    "\n",
    "# clean up axis\n",
    "ax.set_aspect('equal')\n",
    "sns.despine(fig=fig, left=True, bottom=True)\n",
    "plt.setp(ax, yticks=[], xticks=[]);\n",
    "\n",
    "# legend\n",
    "legend_elements = [\n",
    "    #Patch(facecolor=color, edgecolor='k', label=f'{lclus} ({sclus})')\n",
    "    Line2D([0], [0], marker='o', color=(1, 1, 1, 0), markeredgecolor=color, markerfacecolor=color, markersize=10, label=f'{lclus} ({sclus})')\n",
    "    for sclus, lclus, color in zip(make_list(nbconfig.short_cluster_order),  make_list(nbconfig.cluster_order[:9]), make_list(nbconfig.colors['clusters'][:9]))\n",
    "    if sclus is not None\n",
    "]\n",
    "\n",
    "ax.legend(handles=legend_elements, loc='lower center', ncol=4, bbox_to_anchor=[0.5, 1], facecolor=None)\n",
    "for clus, row in tsne.groupby('cluster').agg({'tSNE_1': np.mean, 'tSNE_2': np.mean}).iterrows():\n",
    "    plt.text(row.tSNE_1, row.tSNE_2, clus, backgroundcolor=(1, 1, 1, .9), ha='center', va='center')\n",
    "plt.tight_layout()\n",
    "plt.savefig('../output/notebook/2019-02-12_tsne.png', bbox_inches='tight')"
   ]
  },
  {
   "cell_type": "markdown",
   "metadata": {},
   "source": [
    "## Lit Genes (Short)"
   ]
  },
  {
   "cell_type": "code",
   "execution_count": null,
   "metadata": {},
   "outputs": [],
   "source": [
    "zscores = (\n",
    "    pd.read_parquet('../output/scrnaseq-wf/tpm_zscore_w_rep.parquet')\n",
    "    .loc[:, nbconfig.sel_cluster_order_w_rep]\n",
    ")"
   ]
  },
  {
   "cell_type": "code",
   "execution_count": null,
   "metadata": {},
   "outputs": [],
   "source": [
    "with open('../paper_submission/config.yaml') as fh:\n",
    "    lit_genes = load(fh.read())['lit_genes']"
   ]
  },
  {
   "cell_type": "code",
   "execution_count": null,
   "metadata": {},
   "outputs": [],
   "source": [
    "lit_fbgn = list(map(lambda x: nbconfig.symbol2fbgn[x], lit_genes))\n",
    "lit_zscores = zscores.reindex(lit_fbgn).rename(index=nbconfig.fbgn2symbol)"
   ]
  },
  {
   "cell_type": "code",
   "execution_count": null,
   "metadata": {
    "lines_to_next_cell": 1
   },
   "outputs": [],
   "source": [
    "long_to_short = dict(zip(nbconfig.sel_cluster_order, nbconfig.short_cluster_order))"
   ]
  },
  {
   "cell_type": "code",
   "execution_count": null,
   "metadata": {
    "lines_to_next_cell": 1
   },
   "outputs": [],
   "source": [
    "def process_text(txt):\n",
    "    match = re.match(f'(?P<type>.*?)-(?P<rep>rep\\d)', txt)\n",
    "    if match['rep'] == 'rep2':\n",
    "        return long_to_short[match['type']]\n",
    "    return ''"
   ]
  },
  {
   "cell_type": "code",
   "execution_count": null,
   "metadata": {},
   "outputs": [],
   "source": [
    "fig, ax = plt.subplots(figsize=(8, 8))\n",
    "sns.heatmap(lit_zscores, cmap='viridis', yticklabels=True, xticklabels=True, vmin=-3, vmax=3, cbar_kws=dict(label='Normalized Expression\\n(z-score)'), ax=ax)\n",
    "\n",
    "# fix up x-axis\n",
    "labels = [\n",
    "    process_text(l.get_text())\n",
    "    for l in ax.get_xticklabels()\n",
    "]\n",
    "ax.set_xticklabels(labels, rotation=0, fontdict=dict(size=18), ha='center', va='bottom');\n",
    "ax.set_xlabel('')\n",
    "ax.xaxis.tick_top()\n",
    "\n",
    "# fix up y-axis\n",
    "labels = [\n",
    "    l.get_text()\n",
    "    for l in ax.get_yticklabels()\n",
    "]\n",
    "ax.set_yticklabels(labels, rotation=0, fontdict=dict(style='italic', size=18), va='center');\n",
    "ax.set_ylabel('')\n",
    "\n",
    "# Add cluster lines\n",
    "loc = 3\n",
    "for i in range(8):\n",
    "    ax.axvline(loc, color='w', ls=':', lw=2)\n",
    "    loc += 3\n",
    "    \n",
    "# Add cluster lines\n",
    "ax.axhline(2, color='w', ls=':', lw=2)\n",
    "ax.axhline(4, color='w', ls=':', lw=2)\n",
    "ax.axhline(7, color='w', ls=':', lw=2)\n",
    "ax.axhline(9, color='w', ls=':', lw=2)\n",
    "ax.axhline(10, color='w', ls=':', lw=2)\n",
    "\n",
    "# increase cbar axis\n",
    "cbar = ax.collections[0].colorbar\n",
    "label = cbar.ax.get_ylabel()\n",
    "cbar.ax.set_ylabel(label, fontdict=dict(fontsize=18))\n",
    "cbar.ax.tick_params(labelsize=14)\n",
    "\n",
    "# save figure\n",
    "plt.savefig('../output/notebook/2019-02-12_lit_genes.png', bbox_inches='tight')"
   ]
  },
  {
   "cell_type": "markdown",
   "metadata": {},
   "source": [
    "## Lit Genes (full)"
   ]
  },
  {
   "cell_type": "code",
   "execution_count": null,
   "metadata": {},
   "outputs": [],
   "source": [
    "zscores = (\n",
    "    pd.read_parquet('../output/scrnaseq-wf/tpm_zscore_w_rep.parquet')\n",
    "    .loc[:, nbconfig.sel_cluster_order_w_rep]\n",
    ")"
   ]
  },
  {
   "cell_type": "code",
   "execution_count": null,
   "metadata": {
    "lines_to_next_cell": 2
   },
   "outputs": [],
   "source": [
    "# Genes commented out are not present int he zscores dataset\n",
    "lit_genes = [\n",
    "    #GSC, spermatogonia, early spermatocytes [:12] (12) (7)\n",
    "    'vas',\n",
    "    'bam',\n",
    "    'Phf7',\n",
    "    'CG11697',\n",
    "    'p53',\n",
    "    #'nos',\n",
    "    #'bgcn',\n",
    "    #'tut',\n",
    "    'Rbp9',\n",
    "    'peb',\n",
    "    #'tej',\n",
    "    #'Marf',\n",
    "    # Later spermatocytes and spermatids [12:34] (22) (18)\n",
    "    'aly',\n",
    "    'nht',\n",
    "    'soti',\n",
    "    'dj',\n",
    "    'ocn',\n",
    "    'can',\n",
    "    'fzo',\n",
    "    'bol',\n",
    "    #'mle',\n",
    "    #'mia',\n",
    "    'CG3927',\n",
    "    'sunz',\n",
    "    'sowi',\n",
    "    'd-cup',\n",
    "    'c-cup',\n",
    "    'wa-cup',\n",
    "    #'p-cup',\n",
    "    #'r-cup',\n",
    "    'oys',\n",
    "    'topi',\n",
    "    'sa',\n",
    "    'CG8368',\n",
    "    # Enriched in CySC lineage [34:58] (24) (18)\n",
    "    'tj',\n",
    "    #'eya',\n",
    "    'zfh1',\n",
    "    'vn',\n",
    "    'foxo',\n",
    "    #'apt',\n",
    "    'ImpL2',\n",
    "    'Wnt4',\n",
    "    'Nrt',\n",
    "    'bnb',\n",
    "    #'neur',\n",
    "    'robo2',\n",
    "    'EcR',\n",
    "    'gbb',\n",
    "    'spict',\n",
    "    'puc',\n",
    "    #'sev',\n",
    "    'hui',\n",
    "    #'sano',\n",
    "    'glob1',\n",
    "    'Eip93F',\n",
    "    'fax',\n",
    "    'kek1',\n",
    "    #'so',\n",
    "    # Terminal epithelia [58:67] (9) (8)\n",
    "    'nord',\n",
    "    'retn',\n",
    "    'abd-A',\n",
    "    'Abd-B',\n",
    "    'Wnt2',\n",
    "    'Six4',\n",
    "    #'CG18628',\n",
    "    'MtnA',\n",
    "    'N',\n",
    "    # Pigment cells [67:] (4)\n",
    "    'vkg',\n",
    "    'Sox100B',\n",
    "    'bw',\n",
    "    'ems',\n",
    "]"
   ]
  },
  {
   "cell_type": "code",
   "execution_count": null,
   "metadata": {},
   "outputs": [],
   "source": [
    "lit_fbgn = list(map(lambda x: nbconfig.symbol2fbgn[x], lit_genes))\n",
    "lit_zscores = zscores.reindex(lit_fbgn).dropna().rename(index=nbconfig.fbgn2symbol)"
   ]
  },
  {
   "cell_type": "code",
   "execution_count": null,
   "metadata": {
    "lines_to_next_cell": 1
   },
   "outputs": [],
   "source": [
    "long_to_short = dict(zip(nbconfig.sel_cluster_order, nbconfig.short_cluster_order))"
   ]
  },
  {
   "cell_type": "code",
   "execution_count": null,
   "metadata": {
    "lines_to_next_cell": 1
   },
   "outputs": [],
   "source": [
    "def process_text(txt):\n",
    "    match = re.match(f'(?P<type>.*?)-(?P<rep>rep\\d)', txt)\n",
    "    if match['rep'] == 'rep2':\n",
    "        return long_to_short[match['type']]\n",
    "    return ''"
   ]
  },
  {
   "cell_type": "code",
   "execution_count": null,
   "metadata": {},
   "outputs": [],
   "source": [
    "fig, ax = plt.subplots(figsize=(8, 8))\n",
    "sns.heatmap(lit_zscores, cmap='viridis', yticklabels=True, xticklabels=True, vmin=-3, vmax=3, cbar_kws=dict(label='Normalized Expression\\n(z-score)'), ax=ax)\n",
    "\n",
    "# fix up x-axis\n",
    "labels = [\n",
    "    process_text(l.get_text())\n",
    "    for l in ax.get_xticklabels()\n",
    "]\n",
    "ax.set_xticklabels(labels, rotation=0, fontdict=dict(size=18), ha='center', va='bottom');\n",
    "ax.set_xlabel('')\n",
    "ax.xaxis.tick_top()\n",
    "\n",
    "# fix up y-axis\n",
    "labels = [\n",
    "    l.get_text()\n",
    "    for l in ax.get_yticklabels()\n",
    "]\n",
    "ax.set_yticklabels(labels, rotation=0, fontdict=dict(style='italic', size=8), va='center');\n",
    "ax.set_ylabel('')\n",
    "\n",
    "# Add cluster lines\n",
    "loc = 3\n",
    "for i in range(8):\n",
    "    ax.axvline(loc, color='w', ls=':', lw=2)\n",
    "    loc += 3\n",
    "    \n",
    "# Add cluster lines\n",
    "previous = 0\n",
    "for annot, loc in zip(['Early\\nGerm Cells', 'Late\\nGerm Cells', 'CySC', 'TE', 'PC'], np.cumsum([7, 18, 18, 8, 4])):\n",
    "    if annot != 'PC':\n",
    "        ax.axhline(loc, color='w', ls=':', lw=2)\n",
    "    text_loc = loc - np.ceil((loc - previous) / 2)\n",
    "    plt.text(-6, text_loc, annot, ha='center', va='center', fontsize=14, multialignment='center')\n",
    "    previous = loc\n",
    "\n",
    "# increase cbar axis\n",
    "cbar = ax.collections[0].colorbar\n",
    "label = cbar.ax.get_ylabel()\n",
    "cbar.ax.set_ylabel(label, fontdict=dict(fontsize=18))\n",
    "cbar.ax.tick_params(labelsize=14)\n",
    "\n",
    "# save figure\n",
    "plt.savefig('../output/notebook/2019-02-12_all_lit_genes.png', bbox_inches='tight')"
   ]
  },
  {
   "cell_type": "markdown",
   "metadata": {},
   "source": [
    "## All Genes"
   ]
  },
  {
   "cell_type": "code",
   "execution_count": null,
   "metadata": {
    "lines_to_next_cell": 1
   },
   "outputs": [],
   "source": [
    "long_to_short = dict(zip(nbconfig.sel_cluster_order, nbconfig.short_cluster_order))"
   ]
  },
  {
   "cell_type": "code",
   "execution_count": null,
   "metadata": {
    "lines_to_next_cell": 1
   },
   "outputs": [],
   "source": [
    "def process_text(txt):\n",
    "    match = re.match(f'(?P<type>.*?)-(?P<rep>rep\\d)', txt)\n",
    "    if match['rep'] == 'rep2':\n",
    "        return long_to_short[match['type']]\n",
    "    return ''"
   ]
  },
  {
   "cell_type": "code",
   "execution_count": null,
   "metadata": {},
   "outputs": [],
   "source": [
    "zscores = (\n",
    "    pd.read_parquet('../output/scrnaseq-wf/tpm_zscore_w_rep.parquet')\n",
    "    .loc[:, nbconfig.sel_cluster_order_w_rep]\n",
    ")"
   ]
  },
  {
   "cell_type": "code",
   "execution_count": null,
   "metadata": {},
   "outputs": [],
   "source": [
    "X = zscores.values\n",
    "kmeans = KMeans(n_clusters=10).fit(X)\n",
    "zscores = zscores.iloc[np.argsort(kmeans.labels_), :]"
   ]
  },
  {
   "cell_type": "code",
   "execution_count": null,
   "metadata": {},
   "outputs": [],
   "source": [
    "fig, ax = plt.subplots(figsize=(8, 8))\n",
    "sns.heatmap(zscores, cmap='viridis', yticklabels=False, xticklabels=True, vmin=-3, vmax=3, cbar_kws=dict(label='Normalized Expression\\n(z-score)'), ax=ax, rasterized=True)\n",
    "\n",
    "# fix up x-axis\n",
    "labels = [\n",
    "    process_text(l.get_text())\n",
    "    for l in ax.get_xticklabels()\n",
    "]\n",
    "ax.set_xticklabels(labels, rotation=0, fontdict=dict(size=18), ha='center', va='bottom');\n",
    "ax.set_xlabel('')\n",
    "ax.xaxis.tick_top()\n",
    "\n",
    "# fix up y-axis\n",
    "ax.set_ylabel('Gene Cluster (KMeans k = 10)', ha='center', va='bottom', labelpad=15)\n",
    "\n",
    "# Add cluster lines\n",
    "loc = 3\n",
    "for i in range(8):\n",
    "    ax.axvline(loc, color='w', ls=':', lw=2)\n",
    "    loc += 3\n",
    "    \n",
    "# Add cluster lines\n",
    "_, locs = np.unique(kmeans.labels_, return_counts=True)\n",
    "\n",
    "previous = 0\n",
    "for i, loc in enumerate(np.cumsum(locs)):\n",
    "    if i != 9:\n",
    "        ax.axhline(loc, color='w', ls=':', lw=2)\n",
    "    text_loc = loc - np.ceil((loc - previous) / 2)\n",
    "    plt.text(-.2, text_loc, i + 1, ha='right', va='center', fontsize=14)\n",
    "    previous = loc\n",
    "\n",
    "# increase cbar axis\n",
    "cbar = ax.collections[0].colorbar\n",
    "label = cbar.ax.get_ylabel()\n",
    "cbar.ax.set_ylabel(label, fontdict=dict(fontsize=18))\n",
    "cbar.ax.tick_params(labelsize=14)\n",
    "\n",
    "# save figure\n",
    "plt.savefig('../output/notebook/2019-02-12_all_genes.png', bbox_inches='tight')"
   ]
  },
  {
   "cell_type": "markdown",
   "metadata": {},
   "source": [
    "## Unique BioMarkers"
   ]
  },
  {
   "cell_type": "code",
   "execution_count": null,
   "metadata": {
    "lines_to_next_cell": 1
   },
   "outputs": [],
   "source": [
    "long_to_short = dict(zip(nbconfig.sel_cluster_order, nbconfig.short_cluster_order))"
   ]
  },
  {
   "cell_type": "code",
   "execution_count": null,
   "metadata": {
    "lines_to_next_cell": 1
   },
   "outputs": [],
   "source": [
    "def process_text(txt):\n",
    "    match = re.match(f'(?P<type>.*?)-(?P<rep>rep\\d)', txt)\n",
    "    if match['rep'] == 'rep2':\n",
    "        return long_to_short[match['type']]\n",
    "    return ''"
   ]
  },
  {
   "cell_type": "code",
   "execution_count": null,
   "metadata": {},
   "outputs": [],
   "source": [
    "zscores = (\n",
    "    pd.read_parquet('../output/scrnaseq-wf/tpm_zscore_w_rep.parquet')\n",
    "    .loc[:, nbconfig.sel_cluster_order_w_rep]\n",
    ")"
   ]
  },
  {
   "cell_type": "code",
   "execution_count": null,
   "metadata": {
    "lines_to_next_cell": 2
   },
   "outputs": [],
   "source": [
    "biomarkers = (\n",
    "    nbconfig.seurat.get_biomarkers('res.0.6')\n",
    "    .cluster.map(nbconfig.short_cluster_annot)\n",
    "    .pipe(lambda x: x[x != \"UNK\"])\n",
    "    .astype('category')\n",
    "    .cat.as_ordered()\n",
    "    .cat.reorder_categories(nbconfig.short_cluster_order)\n",
    ")\n",
    "\n",
    "unique_fbgns = (\n",
    "    biomarkers\n",
    "    .groupby('FBgn').size()\n",
    "    .pipe(lambda x: x[x == 1])\n",
    "    .index\n",
    ")"
   ]
  },
  {
   "cell_type": "code",
   "execution_count": null,
   "metadata": {},
   "outputs": [],
   "source": [
    "biomarkers_by_cluster = biomarkers[biomarkers.index.isin(unique_fbgns)].sort_values()"
   ]
  },
  {
   "cell_type": "code",
   "execution_count": null,
   "metadata": {},
   "outputs": [],
   "source": [
    "zscores = zscores.reindex(biomarkers_by_cluster.index)"
   ]
  },
  {
   "cell_type": "code",
   "execution_count": null,
   "metadata": {},
   "outputs": [],
   "source": [
    "fig, ax = plt.subplots(figsize=(8, 8))\n",
    "sns.heatmap(zscores, cmap='viridis', yticklabels=False, xticklabels=True, vmin=-3, vmax=3, cbar_kws=dict(label='Normalized Expression\\n(z-score)'), ax=ax, rasterized=True)\n",
    "\n",
    "# fix up x-axis\n",
    "labels = [\n",
    "    process_text(l.get_text())\n",
    "    for l in ax.get_xticklabels()\n",
    "]\n",
    "ax.set_xticklabels(labels, rotation=0, fontdict=dict(size=18), ha='center', va='bottom');\n",
    "ax.set_xlabel('')\n",
    "ax.xaxis.tick_top()\n",
    "\n",
    "# fix up y-axis\n",
    "ax.set_ylabel('Gene Cluster (Unique Bio Marker)', labelpad=25)\n",
    "\n",
    "# Add cluster lines\n",
    "loc = 3\n",
    "for i in range(8):\n",
    "    ax.axvline(loc, color='w', ls=':', lw=2)\n",
    "    loc += 3\n",
    "    \n",
    "# Add cluster lines\n",
    "locs = biomarkers_by_cluster.value_counts().sort_index().values\n",
    "\n",
    "previous = 0\n",
    "for clus, loc in zip(nbconfig.short_cluster_order, np.cumsum(locs)):\n",
    "    if clus != 'PC':\n",
    "        ax.axhline(loc, color='w', ls=':', lw=2)\n",
    "        \n",
    "    text_loc = loc - np.ceil((loc - previous) / 2)\n",
    "    plt.text(-.2, text_loc, clus, ha='right', va='center', fontsize=14)\n",
    "    previous = loc\n",
    "\n",
    "# increase cbar axis\n",
    "cbar = ax.collections[0].colorbar\n",
    "label = cbar.ax.get_ylabel()\n",
    "cbar.ax.set_ylabel(label, fontdict=dict(fontsize=18))\n",
    "cbar.ax.tick_params(labelsize=14)\n",
    "\n",
    "# save figure\n",
    "plt.savefig('../output/notebook/2019-02-12_unique_biomakrer_genes.png', bbox_inches='tight')"
   ]
  },
  {
   "cell_type": "markdown",
   "metadata": {},
   "source": [
    "## Non-unique BioMarkers"
   ]
  },
  {
   "cell_type": "code",
   "execution_count": null,
   "metadata": {
    "lines_to_next_cell": 1
   },
   "outputs": [],
   "source": [
    "long_to_short = dict(zip(nbconfig.sel_cluster_order, nbconfig.short_cluster_order))"
   ]
  },
  {
   "cell_type": "code",
   "execution_count": null,
   "metadata": {
    "lines_to_next_cell": 1
   },
   "outputs": [],
   "source": [
    "def process_text(txt):\n",
    "    match = re.match(f'(?P<type>.*?)-(?P<rep>rep\\d)', txt)\n",
    "    if match['rep'] == 'rep2':\n",
    "        return long_to_short[match['type']]\n",
    "    return ''"
   ]
  },
  {
   "cell_type": "code",
   "execution_count": null,
   "metadata": {},
   "outputs": [],
   "source": [
    "zscores = (\n",
    "    pd.read_parquet('../output/scrnaseq-wf/tpm_zscore_w_rep.parquet')\n",
    "    .loc[:, nbconfig.sel_cluster_order_w_rep]\n",
    ")"
   ]
  },
  {
   "cell_type": "code",
   "execution_count": null,
   "metadata": {},
   "outputs": [],
   "source": [
    "biomarkers = (\n",
    "    nbconfig.seurat.get_biomarkers('res.0.6')\n",
    "    .cluster.map(nbconfig.short_cluster_annot)\n",
    "    .pipe(lambda x: x[x != \"UNK\"])\n",
    "    .astype('category')\n",
    "    .cat.as_ordered()\n",
    "    .cat.reorder_categories(nbconfig.short_cluster_order)\n",
    ")\n",
    "\n",
    "mapper = {\n",
    "    'SP': 'Germ',\n",
    "    'ES': 'Germ',\n",
    "    'MS': 'Germ',\n",
    "    'LS': 'Germ',\n",
    "    'EC': 'Soma',\n",
    "    'MC': 'Soma',\n",
    "    'LC': 'Soma',\n",
    "    'TE': 'Soma',\n",
    "    'PC': 'Soma',\n",
    "}\n",
    "\n",
    "multi_fbgns = (\n",
    "    (biomarkers.map(mapper).groupby('FBgn').value_counts() > 0)\n",
    "    .unstack()\n",
    "    .fillna(False)\n",
    "    .assign(germ_only = lambda df: df.Germ & ~df.Soma)\n",
    "    .assign(soma_only = lambda df: ~df.Germ & df.Soma)\n",
    "    .assign(germ_and_soma = lambda df: df.Germ & df.Soma)\n",
    "    .drop(['Germ', 'Soma'], axis=1)\n",
    "    .sort_values(by='soma_only', ascending=True)\n",
    "    .sort_values(by='germ_and_soma', ascending=False)\n",
    "    .sort_values(by='germ_only', ascending=False)\n",
    ")"
   ]
  },
  {
   "cell_type": "code",
   "execution_count": null,
   "metadata": {},
   "outputs": [],
   "source": [
    "ordered_genes = []\n",
    "for name, dd in multi_fbgns.idxmax(axis=1).rename('names').astype('category').cat.as_ordered().cat.reorder_categories(['germ_only', 'germ_and_soma', 'soma_only']).to_frame().groupby('names'):\n",
    "    _curr = zscores.reindex(dd.index)\n",
    "    tree = linkage(_curr, method='average')\n",
    "    leaves = dendrogram(tree, no_plot=True)['leaves']\n",
    "    ordered_genes.extend(_curr.index[leaves].tolist())"
   ]
  },
  {
   "cell_type": "code",
   "execution_count": null,
   "metadata": {},
   "outputs": [],
   "source": [
    "zscores = zscores.reindex(ordered_genes)"
   ]
  },
  {
   "cell_type": "code",
   "execution_count": null,
   "metadata": {},
   "outputs": [],
   "source": [
    "fig, ax = plt.subplots(figsize=(8, 8))\n",
    "sns.heatmap(zscores, cmap='viridis', yticklabels=False, xticklabels=True, vmin=-3, vmax=3, cbar_kws=dict(label='Normalized Expression\\n(z-score)'), ax=ax, rasterized=True)\n",
    "\n",
    "# fix up x-axis\n",
    "labels = [\n",
    "    process_text(l.get_text())\n",
    "    for l in ax.get_xticklabels()\n",
    "]\n",
    "ax.set_xticklabels(labels, rotation=0, fontdict=dict(size=18), ha='center', va='bottom');\n",
    "ax.set_xlabel('')\n",
    "ax.xaxis.tick_top()\n",
    "\n",
    "# fix up y-axis\n",
    "ax.set_ylabel('')\n",
    "\n",
    "# Add cluster lines\n",
    "loc = 3\n",
    "for i in range(8):\n",
    "    ax.axvline(loc, color='w', ls=':', lw=2)\n",
    "    loc += 3\n",
    "    \n",
    "# Add cluster lines\n",
    "locs = multi_fbgns.sum()[['germ_only', 'germ_and_soma', 'soma_only']].values\n",
    "\n",
    "previous = 0\n",
    "for clus, loc in zip(['Germ Line\\nOnly', 'Germline and\\nSoma', 'Soma\\nOnly'], np.cumsum(locs)):\n",
    "    if clus != 'soma_only':\n",
    "        ax.axhline(loc, color='w', ls=':', lw=2)\n",
    "        \n",
    "    text_loc = loc - np.ceil((loc - previous) / 2)\n",
    "    plt.text(-3.5, text_loc, clus, ha='center', va='center', fontsize=14, multialignment='center')\n",
    "    previous = loc\n",
    "\n",
    "# increase cbar axis\n",
    "cbar = ax.collections[0].colorbar\n",
    "label = cbar.ax.get_ylabel()\n",
    "cbar.ax.set_ylabel(label, fontdict=dict(fontsize=18))\n",
    "cbar.ax.tick_params(labelsize=14)\n",
    "\n",
    "# save figure\n",
    "plt.savefig('../output/notebook/2019-02-12_multi_biomakrer_genes.png', bbox_inches='tight')"
   ]
  },
  {
   "cell_type": "code",
   "execution_count": null,
   "metadata": {},
   "outputs": [],
   "source": [
    "germ_and_soma = multi_fbgns[multi_fbgns.germ_and_soma].index.tolist()"
   ]
  },
  {
   "cell_type": "markdown",
   "metadata": {},
   "source": [
    "### Quick GO Analysis of Germline and Soma Genes"
   ]
  },
  {
   "cell_type": "code",
   "execution_count": null,
   "metadata": {},
   "outputs": [],
   "source": [
    "from goatools import GOEnrichmentStudy\n",
    "from goatools.obo_parser import GODag\n",
    "from goatools.mapslim import mapslim\n",
    "from goatools.godag_plot import plot_gos, plot_results, plot_goid2goobj"
   ]
  },
  {
   "cell_type": "code",
   "execution_count": null,
   "metadata": {},
   "outputs": [],
   "source": [
    "oboDag = GODag('../data/external/go-basic.obo')\n",
    "slimDag = GODag(\"../data/external/goslim_generic.obo\")\n",
    "\n",
    "# Import fly associations\n",
    "association = '../data/external/gene_association.fb'\n",
    "fly = defaultdict(set)\n",
    "with open(association) as fh:\n",
    "    for row in fh.readlines():\n",
    "        if row.startswith('!'):\n",
    "            continue\n",
    "        cols = row.split('\\t')\n",
    "        fbgn = cols[1]\n",
    "        goterm = cols[4]\n",
    "        gtype = cols[11]\n",
    "        #if gtype != 'protein':\n",
    "        #    continue\n",
    "        if goterm not in oboDag:\n",
    "            continue\n",
    "        fly[fbgn].add(goterm)\n",
    "\n",
    "# Convert from fly2go to go2fly\n",
    "go2fly = defaultdict(set)\n",
    "for k, v in fly.items():\n",
    "    for t in v:\n",
    "        if oboDag[t].namespace != 'biological_process':\n",
    "            continue\n",
    "            \n",
    "        go2fly[t].add(k)"
   ]
  },
  {
   "cell_type": "code",
   "execution_count": null,
   "metadata": {},
   "outputs": [],
   "source": [
    "# map them to a slim set\n",
    "flyslim = defaultdict(set)\n",
    "for fbgn, goterms in fly.items():\n",
    "    all_direct_anc = set()\n",
    "    all_covered_anc = set()\n",
    "    all_all_anc = set()\n",
    "    for goterm in goterms:\n",
    "        direct_anc, all_anc = mapslim(goterm, oboDag, slimDag)\n",
    "        all_all_anc |= all_anc\n",
    "        # collect all covered ancestors, so the direct ancestors\n",
    "        # can be calculated afterwards\n",
    "        all_covered_anc |= (all_anc - direct_anc)\n",
    "    all_direct_anc = all_all_anc - all_covered_anc\n",
    "    flyslim[fbgn] |= (all_direct_anc)"
   ]
  },
  {
   "cell_type": "code",
   "execution_count": null,
   "metadata": {},
   "outputs": [],
   "source": [
    "background = zscores.index.unique().tolist()"
   ]
  },
  {
   "cell_type": "code",
   "execution_count": null,
   "metadata": {},
   "outputs": [],
   "source": [
    "goObj = GOEnrichmentStudy(\n",
    "    background,\n",
    "    flyslim,\n",
    "    slimDag,\n",
    "    propagate_counts=False,\n",
    "    alpha=0.001,\n",
    "    methods=['fdr_bh']\n",
    ")"
   ]
  },
  {
   "cell_type": "code",
   "execution_count": null,
   "metadata": {},
   "outputs": [],
   "source": [
    "results = [res for res in goObj.run_study(germ_and_soma) if res.p_fdr_bh > 0.01]"
   ]
  },
  {
   "cell_type": "code",
   "execution_count": null,
   "metadata": {},
   "outputs": [],
   "source": [
    "freqs = {}\n",
    "for r in results:\n",
    "    if r.name in ['biological_process', 'cellular_component', 'molecular_function']:\n",
    "        continue\n",
    "\n",
    "    if r.study_count > 20:\n",
    "        continue \n",
    "\n",
    "    freqs[r.name] = r.study_count"
   ]
  },
  {
   "cell_type": "code",
   "execution_count": null,
   "metadata": {},
   "outputs": [],
   "source": [
    "for i, go in enumerate(sorted([(k, v) for k, v in freqs.items()], key=lambda x: x[1])[::-1]):\n",
    "    if i == 10:\n",
    "        print('--------------------------------------------------------------------------------')\n",
    "        \n",
    "    print('{}: {}'.format(*go))"
   ]
  },
  {
   "cell_type": "markdown",
   "metadata": {
    "toc-hr-collapsed": false
   },
   "source": [
    "## X Y 4th Expression by Rep"
   ]
  },
  {
   "cell_type": "code",
   "execution_count": null,
   "metadata": {},
   "outputs": [],
   "source": [
    "num_genes_per_chrom = nbconfig.fbgn2chrom.groupby('chrom').size()\n",
    "num_genes_per_chrom"
   ]
  },
  {
   "cell_type": "markdown",
   "metadata": {},
   "source": [
    "### Raw by chrom by cluster"
   ]
  },
  {
   "cell_type": "code",
   "execution_count": null,
   "metadata": {},
   "outputs": [],
   "source": [
    "raw = (\n",
    "    pd.read_parquet('../output/scrnaseq-wf/raw_by_cluster_w_rep.parquet')\n",
    "    .loc[:, nbconfig.sel_cluster_order_w_rep]\n",
    ")"
   ]
  },
  {
   "cell_type": "code",
   "execution_count": null,
   "metadata": {},
   "outputs": [],
   "source": [
    "mapper = dict(zip(nbconfig.sel_cluster_order, nbconfig.short_cluster_order))"
   ]
  },
  {
   "cell_type": "code",
   "execution_count": null,
   "metadata": {},
   "outputs": [],
   "source": [
    "raw_tidy = (\n",
    "    raw\n",
    "    .merge(nbconfig.fbgn2chrom, on='FBgn')\n",
    "    .reset_index()\n",
    "    .melt(id_vars=['FBgn', 'chrom'], value_name='UMI', var_name='name')\n",
    "    # split name up into cluster and replicate\n",
    "    .assign(rep = lambda df: df.name.str.extract('(rep\\d)').values)\n",
    "    .assign(cluster = lambda df: df.name.str.extract('(?P<cluster>.*?)-rep\\d').cluster.map(mapper).astype('category').cat.as_ordered().cat.reorder_categories(nbconfig.short_cluster_order))\n",
    "    .drop('name', axis=1)\n",
    "    # Sum gene counts to the chromosome arm level and normalize by the number of genes on that arm\n",
    "    .groupby(['chrom', 'cluster', 'rep']).UMI.sum()\n",
    "    .div(num_genes_per_chrom, level=0)\n",
    "    # clean up \n",
    "    .to_frame()\n",
    "    .reset_index()\n",
    "    .rename({0: 'UMI'}, axis=1)\n",
    "    # Remove chr fo nicer plotting\n",
    "    .assign(chrom = lambda df: df.chrom.str.extract('chr(.*)').values)\n",
    ")"
   ]
  },
  {
   "cell_type": "code",
   "execution_count": null,
   "metadata": {},
   "outputs": [],
   "source": [
    "g = (\n",
    "    sns.FacetGrid(raw_tidy, col='cluster', col_order=nbconfig.short_cluster_order, col_wrap=4, hue='cluster', palette=nbconfig.colors['clusters'])\n",
    "    .map(sns.barplot, 'chrom', 'UMI', order=[x.lstrip('chr') for x in nbconfig.chrom_order], errwidth=1.8, capsize=.3, linewidth=1, edgecolor='k')\n",
    "    .set_titles('{col_name}', size=18, y=.9)\n",
    "    .set_ylabels('')\n",
    "    .set_xlabels('Chromosome')\n",
    "    .despine(left=True)\n",
    ")\n",
    "plt.text(0.03, 0.5, 'Chromosomal Count / number genes', rotation=90, ha='right', va='center', transform=g.fig.transFigure)\n",
    "plt.subplots_adjust(hspace=0.08, wspace=0.08)\n",
    "g.fig.savefig('../output/notebook/2019-02-12_bar_plot_raw_expression_by_arm.png', bbox_inches='tight')"
   ]
  },
  {
   "cell_type": "markdown",
   "metadata": {},
   "source": [
    "### Log Raw by chrom by cluster"
   ]
  },
  {
   "cell_type": "code",
   "execution_count": null,
   "metadata": {},
   "outputs": [],
   "source": [
    "raw = (\n",
    "    pd.read_parquet('../output/scrnaseq-wf/raw_by_cluster_w_rep.parquet')\n",
    "    .loc[:, nbconfig.sel_cluster_order_w_rep]\n",
    ")"
   ]
  },
  {
   "cell_type": "code",
   "execution_count": null,
   "metadata": {},
   "outputs": [],
   "source": [
    "mapper = dict(zip(nbconfig.sel_cluster_order, nbconfig.short_cluster_order))"
   ]
  },
  {
   "cell_type": "code",
   "execution_count": null,
   "metadata": {},
   "outputs": [],
   "source": [
    "raw_tidy = (\n",
    "    raw\n",
    "    .merge(nbconfig.fbgn2chrom, on='FBgn')\n",
    "    .reset_index()\n",
    "    .melt(id_vars=['FBgn', 'chrom'], value_name='UMI', var_name='name')\n",
    "    # split name up into cluster and replicate\n",
    "    .assign(rep = lambda df: df.name.str.extract('(rep\\d)').values)\n",
    "    .assign(cluster = lambda df: df.name.str.extract('(?P<cluster>.*?)-rep\\d').cluster.map(mapper).astype('category').cat.as_ordered().cat.reorder_categories(nbconfig.short_cluster_order))\n",
    "    .drop('name', axis=1)\n",
    "    # Sum gene counts to the chromosome arm level and normalize by the number of genes on that arm\n",
    "    .groupby(['chrom', 'cluster', 'rep']).UMI.sum()\n",
    "    .div(num_genes_per_chrom, level=0)\n",
    "    # clean up \n",
    "    .to_frame()\n",
    "    .reset_index()\n",
    "    .rename({0: 'UMI'}, axis=1)\n",
    "    # Remove chr fo nicer plotting\n",
    "    .assign(chrom = lambda df: df.chrom.str.extract('chr(.*)').values)\n",
    "    .assign(log_UMI = lambda df: np.log2(df.UMI + 1))\n",
    ")"
   ]
  },
  {
   "cell_type": "code",
   "execution_count": null,
   "metadata": {},
   "outputs": [],
   "source": [
    "g = (\n",
    "    sns.FacetGrid(raw_tidy, col='cluster', col_order=nbconfig.short_cluster_order, col_wrap=4, hue='cluster', palette=nbconfig.colors['clusters'])\n",
    "    .map(sns.barplot, 'chrom', 'log_UMI', order=[x.lstrip('chr') for x in nbconfig.chrom_order], errwidth=1.8, capsize=.3, linewidth=1, edgecolor='k')\n",
    "    .set_titles('{col_name}', size=18, y=.9)\n",
    "    .set_ylabels('')\n",
    "    .set_xlabels('Chromosome')\n",
    "    .despine(left=True)\n",
    ")\n",
    "plt.text(0.03, 0.5, 'Log2(Chromosomal Count / number genes)', rotation=90, ha='right', va='center', transform=g.fig.transFigure)\n",
    "plt.subplots_adjust(hspace=0.08, wspace=0.08)\n",
    "g.fig.savefig('../output/notebook/2019-02-12_bar_plot_log2_raw_expression_by_arm.png', bbox_inches='tight')"
   ]
  },
  {
   "cell_type": "markdown",
   "metadata": {},
   "source": [
    "### Raw (normalized by rep) by chrom by cluster"
   ]
  },
  {
   "cell_type": "code",
   "execution_count": null,
   "metadata": {},
   "outputs": [],
   "source": [
    "raw = (\n",
    "    pd.read_parquet('../output/scrnaseq-wf/raw_by_cluster_w_rep.parquet')\n",
    "    .loc[:, nbconfig.sel_cluster_order_w_rep]\n",
    ")"
   ]
  },
  {
   "cell_type": "code",
   "execution_count": null,
   "metadata": {},
   "outputs": [],
   "source": [
    "mapper = dict(zip(nbconfig.sel_cluster_order, nbconfig.short_cluster_order))"
   ]
  },
  {
   "cell_type": "code",
   "execution_count": null,
   "metadata": {},
   "outputs": [],
   "source": [
    "raw_tidy = (\n",
    "    raw\n",
    "    .merge(nbconfig.fbgn2chrom, on='FBgn')\n",
    "    .reset_index()\n",
    "    .melt(id_vars=['FBgn', 'chrom'], value_name='UMI', var_name='name')\n",
    "    # split name up into cluster and replicate\n",
    "    .assign(rep = lambda df: df.name.str.extract('(rep\\d)').values)\n",
    "    .assign(cluster = lambda df: df.name.str.extract('(?P<cluster>.*?)-rep\\d').cluster.map(mapper).astype('category').cat.as_ordered().cat.reorder_categories(nbconfig.short_cluster_order))\n",
    "    .drop('name', axis=1)\n",
    "    # Sum gene counts to the chromosome arm level and normalize by the number of genes on that arm\n",
    "    .groupby(['chrom', 'cluster', 'rep']).UMI.sum()\n",
    "    .div(num_genes_per_chrom, level=0)\n",
    "    # clean up \n",
    "    .to_frame()\n",
    "    .reset_index()\n",
    "    .rename({0: 'UMI'}, axis=1)\n",
    "    # Remove chr fo nicer plotting\n",
    "    .assign(chrom = lambda df: df.chrom.str.extract('chr(.*)').values)\n",
    ")"
   ]
  },
  {
   "cell_type": "code",
   "execution_count": null,
   "metadata": {},
   "outputs": [],
   "source": [
    "norm_tidy = (\n",
    "    raw_tidy.set_index(['rep', 'cluster', 'chrom'])\n",
    "    .div(raw_tidy.groupby('rep').UMI.sum() / 1e3, axis='index', level=0)\n",
    "    .reset_index()\n",
    ")"
   ]
  },
  {
   "cell_type": "code",
   "execution_count": null,
   "metadata": {},
   "outputs": [],
   "source": [
    "g = (\n",
    "    sns.FacetGrid(norm_tidy, col='cluster', col_order=nbconfig.short_cluster_order, col_wrap=4, hue='cluster', palette=nbconfig.colors['clusters'])\n",
    "    .map(sns.barplot, 'chrom', 'UMI', order=[x.lstrip('chr') for x in nbconfig.chrom_order], errwidth=1.8, capsize=.3, linewidth=1, edgecolor='k')\n",
    "    .set_titles('{col_name}', size=18, y=.9)\n",
    "    .set_ylabels('')\n",
    "    .set_xlabels('Chromosome')\n",
    "    .despine(left=True)\n",
    ")\n",
    "plt.text(0.03, 0.5, 'Rep Normalized (Chromosomal Count / number genes)', rotation=90, ha='right', va='center', transform=g.fig.transFigure)\n",
    "plt.subplots_adjust(hspace=0.08, wspace=0.08)\n",
    "g.fig.savefig('../output/notebook/2019-02-12_bar_plot_rep_norm_raw_expression_by_arm.png', bbox_inches='tight')"
   ]
  },
  {
   "cell_type": "markdown",
   "metadata": {},
   "source": [
    "### TPM normalized by chrom by cluster"
   ]
  },
  {
   "cell_type": "code",
   "execution_count": null,
   "metadata": {},
   "outputs": [],
   "source": [
    "tpm = (\n",
    "    pd.read_parquet('../output/scrnaseq-wf/tpm_w_rep.parquet')\n",
    "    .loc[:, nbconfig.sel_cluster_order_w_rep]\n",
    ")"
   ]
  },
  {
   "cell_type": "code",
   "execution_count": null,
   "metadata": {},
   "outputs": [],
   "source": [
    "mapper = dict(zip(nbconfig.sel_cluster_order, nbconfig.short_cluster_order))"
   ]
  },
  {
   "cell_type": "code",
   "execution_count": null,
   "metadata": {},
   "outputs": [],
   "source": [
    "tpm_tidy = (\n",
    "    tpm\n",
    "    .merge(nbconfig.fbgn2chrom, on='FBgn')\n",
    "    .reset_index()\n",
    "    .melt(id_vars=['FBgn', 'chrom'], value_name='TPM', var_name='name')\n",
    "    # split name up into cluster and replicate\n",
    "    .assign(rep = lambda df: df.name.str.extract('(rep\\d)').values)\n",
    "    .assign(cluster = lambda df: df.name.str.extract('(?P<cluster>.*?)-rep\\d').cluster.map(mapper).astype('category').cat.as_ordered().cat.reorder_categories(nbconfig.short_cluster_order))\n",
    "    .drop('name', axis=1)\n",
    "    # Sum gene counts to the chromosome arm level and normalize by the number of genes on that arm\n",
    "    .groupby(['chrom', 'cluster', 'rep']).TPM.sum()\n",
    "    .div(num_genes_per_chrom, level=0)\n",
    "    # clean up \n",
    "    .to_frame()\n",
    "    .reset_index()\n",
    "    .rename({0: 'TPM'}, axis=1)\n",
    "    # Remove chr fo nicer plotting\n",
    "    .assign(chrom = lambda df: df.chrom.str.extract('chr(.*)').values)\n",
    ")"
   ]
  },
  {
   "cell_type": "code",
   "execution_count": null,
   "metadata": {},
   "outputs": [],
   "source": [
    "g = (\n",
    "    sns.FacetGrid(tpm_tidy, col='cluster', col_order=nbconfig.short_cluster_order, col_wrap=4, hue='cluster', palette=nbconfig.colors['clusters'])\n",
    "    .map(sns.barplot, 'chrom', 'TPM', order=[x.lstrip('chr') for x in nbconfig.chrom_order], errwidth=1.8, capsize=.3, linewidth=1, edgecolor='k')\n",
    "    .set_titles('{col_name}', size=18, y=.9)\n",
    "    .set_ylabels('')\n",
    "    .set_xlabels('Chromosome')\n",
    "    .despine(left=True)\n",
    ")\n",
    "plt.text(0.03, 0.5, 'Normalized Chromosomal Count', rotation=90, ha='right', va='center', transform=g.fig.transFigure)\n",
    "plt.subplots_adjust(hspace=0.08, wspace=0.08)\n",
    "g.fig.savefig('../output/notebook/2019-02-12_bar_plot_tpm_expression_by_arm.png', bbox_inches='tight')"
   ]
  },
  {
   "cell_type": "markdown",
   "metadata": {},
   "source": [
    "### Log TPM normalized by chrom by cluster"
   ]
  },
  {
   "cell_type": "code",
   "execution_count": null,
   "metadata": {},
   "outputs": [],
   "source": [
    "tpm = (\n",
    "    pd.read_parquet('../output/scrnaseq-wf/tpm_w_rep.parquet')\n",
    "    .loc[:, nbconfig.sel_cluster_order_w_rep]\n",
    ")"
   ]
  },
  {
   "cell_type": "code",
   "execution_count": null,
   "metadata": {},
   "outputs": [],
   "source": [
    "mapper = dict(zip(nbconfig.sel_cluster_order, nbconfig.short_cluster_order))"
   ]
  },
  {
   "cell_type": "code",
   "execution_count": null,
   "metadata": {},
   "outputs": [],
   "source": [
    "tpm_tidy = (\n",
    "    tpm\n",
    "    .merge(nbconfig.fbgn2chrom, on='FBgn')\n",
    "    .reset_index()\n",
    "    .melt(id_vars=['FBgn', 'chrom'], value_name='TPM', var_name='name')\n",
    "    # split name up into cluster and replicate\n",
    "    .assign(rep = lambda df: df.name.str.extract('(rep\\d)').values)\n",
    "    .assign(cluster = lambda df: df.name.str.extract('(?P<cluster>.*?)-rep\\d').cluster.map(mapper).astype('category').cat.as_ordered().cat.reorder_categories(nbconfig.short_cluster_order))\n",
    "    .drop('name', axis=1)\n",
    "    # Sum gene counts to the chromosome arm level and normalize by the number of genes on that arm\n",
    "    .groupby(['chrom', 'cluster', 'rep']).TPM.sum()\n",
    "    .div(num_genes_per_chrom, level=0)\n",
    "    # clean up \n",
    "    .to_frame()\n",
    "    .reset_index()\n",
    "    .rename({0: 'TPM'}, axis=1)\n",
    "    # Remove chr fo nicer plotting\n",
    "    .assign(chrom = lambda df: df.chrom.str.extract('chr(.*)').values)\n",
    "    .assign(log_TPM = lambda df: np.log2(df.TPM + .7))\n",
    ")"
   ]
  },
  {
   "cell_type": "code",
   "execution_count": null,
   "metadata": {},
   "outputs": [],
   "source": [
    "g = (\n",
    "    sns.FacetGrid(tpm_tidy, col='cluster', col_order=nbconfig.short_cluster_order, col_wrap=4, hue='cluster', palette=nbconfig.colors['clusters'], ylim=(0, 8))\n",
    "    .map(sns.barplot, 'chrom', 'log_TPM', order=[x.lstrip('chr') for x in nbconfig.chrom_order], errwidth=1.8, capsize=.3, linewidth=1, edgecolor='k')\n",
    "    .set_titles('{col_name}', size=18, y=.9)\n",
    "    .set_ylabels('')\n",
    "    .set_xlabels('Chromosome')\n",
    "    .despine(left=True)\n",
    ")\n",
    "plt.text(0.03, 0.5, 'log2(Normalized Chromosomal Count / number genes)', rotation=90, ha='right', va='center', transform=g.fig.transFigure)\n",
    "plt.subplots_adjust(hspace=0.08, wspace=0.08)\n",
    "g.fig.savefig('../output/notebook/2019-02-12_bar_plot_log2_tpm_expression_by_arm.png', bbox_inches='tight')"
   ]
  },
  {
   "cell_type": "markdown",
   "metadata": {},
   "source": [
    "### Proportion of genes on"
   ]
  },
  {
   "cell_type": "code",
   "execution_count": null,
   "metadata": {},
   "outputs": [],
   "source": [
    "raw = (\n",
    "    pd.read_parquet('../output/scrnaseq-wf/raw_by_cluster_w_rep.parquet')\n",
    "    .loc[:, nbconfig.sel_cluster_order_w_rep]\n",
    ")"
   ]
  },
  {
   "cell_type": "code",
   "execution_count": null,
   "metadata": {},
   "outputs": [],
   "source": [
    "mapper = dict(zip(nbconfig.sel_cluster_order, nbconfig.short_cluster_order))"
   ]
  },
  {
   "cell_type": "code",
   "execution_count": null,
   "metadata": {},
   "outputs": [],
   "source": [
    "prop_tidy = (\n",
    "    (raw > 5)\n",
    "    .merge(nbconfig.fbgn2chrom, on='FBgn')\n",
    "    .reset_index()\n",
    "    .melt(id_vars=['FBgn', 'chrom'], value_name='flag_on', var_name='name')\n",
    "    # split name up into cluster and replicate\n",
    "    .assign(rep = lambda df: df.name.str.extract('(rep\\d)').values)\n",
    "    .assign(cluster = lambda df: df.name.str.extract('(?P<cluster>.*?)-rep\\d').cluster.map(mapper).astype('category').cat.as_ordered().cat.reorder_categories(nbconfig.short_cluster_order))\n",
    "    .drop('name', axis=1)\n",
    "    # Sum gene counts to the chromosome arm level and normalize by the number of genes on that arm\n",
    "    .groupby(['chrom', 'cluster', 'rep']).flag_on.sum()\n",
    "    .div(num_genes_per_chrom, level=0)\n",
    "    .mul(100)\n",
    "    # clean up \n",
    "    .to_frame()\n",
    "    .reset_index()\n",
    "    .rename({0: 'Percent On'}, axis=1)\n",
    "    # Remove chr fo nicer plotting\n",
    "    .assign(chrom = lambda df: df.chrom.str.extract('chr(.*)').values)\n",
    ")"
   ]
  },
  {
   "cell_type": "code",
   "execution_count": null,
   "metadata": {},
   "outputs": [],
   "source": [
    "g = (\n",
    "    sns.FacetGrid(prop_tidy, col='cluster', col_order=nbconfig.short_cluster_order, col_wrap=4, hue='cluster', palette=nbconfig.colors['clusters'])\n",
    "    .map(sns.barplot, 'chrom', 'Percent On', order=[x.lstrip('chr') for x in nbconfig.chrom_order], errwidth=1.8, capsize=.3, linewidth=1, edgecolor='k')\n",
    "    .set_titles('{col_name}', size=18, y=.9)\n",
    "    .set_ylabels('')\n",
    "    .set_xlabels('Chromosome')\n",
    "    .despine(left=True)\n",
    ")\n",
    "plt.text(0.03, 0.5, 'Percent Genes Expressed', rotation=90, ha='right', va='center', transform=g.fig.transFigure)\n",
    "plt.subplots_adjust(hspace=0.08, wspace=0.08)\n",
    "g.fig.savefig('../output/notebook/2019-02-12_bar_plot_percent_expressed_by_arm.png', bbox_inches='tight')"
   ]
  },
  {
   "cell_type": "markdown",
   "metadata": {},
   "source": [
    "## X Y 4th Expression by Cell"
   ]
  },
  {
   "cell_type": "markdown",
   "metadata": {},
   "source": [
    "### Raw counts by Cell"
   ]
  },
  {
   "cell_type": "code",
   "execution_count": null,
   "metadata": {},
   "outputs": [],
   "source": [
    "raw = (\n",
    "    pd.read_parquet('../output/scrnaseq-wf/raw.parquet', columns=clusters.index)\n",
    "    .join(nbconfig.fbgn2chrom, on='FBgn')\n",
    "    .reset_index()\n",
    "    .melt(id_vars=['FBgn', 'chrom'], value_name='UMI', var_name='cell_id')\n",
    "    .join(clusters.cluster, on='cell_id')\n",
    "    .groupby(['cluster', 'cell_id', 'chrom']).UMI.sum()\n",
    "    .div(num_genes_per_chrom / 1e3, axis='index', level=-1)\n",
    "    .rename('norm_UMI')\n",
    "    .reset_index()\n",
    "    .assign(chrom = lambda df: df.chrom.str.replace('chr', ''))\n",
    ")"
   ]
  },
  {
   "cell_type": "code",
   "execution_count": null,
   "metadata": {},
   "outputs": [],
   "source": [
    "g = (\n",
    "    sns.FacetGrid(raw, col='cluster', col_order=nbconfig.short_cluster_order, col_wrap=4, hue='cluster', palette=nbconfig.colors['clusters'])\n",
    "    .map(sns.barplot, 'chrom', 'norm_UMI', order=[x.lstrip('chr') for x in nbconfig.chrom_order], errwidth=1.8, capsize=.3, linewidth=1, edgecolor='k')\n",
    "    .set_titles('{col_name}', size=18, y=.9)\n",
    "    .set_ylabels('')\n",
    "    .set_xlabels('Chromosome')\n",
    "    .despine(left=True)\n",
    ")\n",
    "plt.text(0.03, 0.5, 'Scaled Chromosomal Counts (per Cell)', rotation=90, ha='right', va='center', transform=g.fig.transFigure)\n",
    "plt.subplots_adjust(hspace=0.08, wspace=0.08)\n",
    "g.fig.savefig('../output/notebook/2019-02-12_bar_plot_per_cell_raw_counts_by_arm.png', bbox_inches='tight')"
   ]
  },
  {
   "cell_type": "code",
   "execution_count": null,
   "metadata": {
    "lines_to_next_cell": 2
   },
   "outputs": [],
   "source": []
  },
  {
   "cell_type": "markdown",
   "metadata": {},
   "source": [
    "## X Y 4th to Autosome Ratios"
   ]
  },
  {
   "cell_type": "code",
   "execution_count": null,
   "metadata": {},
   "outputs": [],
   "source": [
    "mapper = {'chrX': 'X', 'chrY': 'Y', 'chr4': '4', 'chr2L': 'A','chr2R': 'A','chr3L': 'A','chr3R': 'A',}\n",
    "fbgn2chrom = (\n",
    "    pd.read_csv('../output/fbgn2chrom.tsv', sep='\\t', index_col=0)\n",
    "    .chrom.map(mapper)\n",
    "    .dropna()\n",
    ")\n",
    "\n",
    "num_genes_per_chrom = fbgn2chrom.value_counts()\n",
    "num_genes_per_chrom"
   ]
  },
  {
   "cell_type": "code",
   "execution_count": null,
   "metadata": {},
   "outputs": [],
   "source": [
    "raw_tidy = (\n",
    "    pd.read_parquet('../output/scrnaseq-wf/raw.parquet', columns=clusters.index)\n",
    "    .join(fbgn2chrom, on='FBgn')\n",
    "    .reset_index()\n",
    "    .melt(id_vars=['FBgn', 'chrom'], value_name='UMI', var_name='cell_id')\n",
    "    .join(clusters, on='cell_id')\n",
    "    .drop('colors', axis=1)\n",
    ")"
   ]
  },
  {
   "cell_type": "code",
   "execution_count": null,
   "metadata": {},
   "outputs": [],
   "source": [
    "ratios_by_cell = (\n",
    "    raw_tidy.groupby(['cell_id', 'cluster', 'chrom'])\n",
    "    .UMI.sum()\n",
    "    .div(num_genes_per_chrom / 1e3, level='chrom')\n",
    "    .unstack()\n",
    "    .assign(ratio_x = lambda df: df.X / df.A)\n",
    "    .assign(ratio_y = lambda df: df.Y / df.A)\n",
    "    .assign(ratio_4 = lambda df: df['4'] / df.A)\n",
    "    .drop(['X', 'Y', 'A', '4'], axis=1)\n",
    "    .reset_index('cluster')\n",
    ")"
   ]
  },
  {
   "cell_type": "code",
   "execution_count": null,
   "metadata": {},
   "outputs": [],
   "source": [
    "median_ratios = ratios_by_cell.groupby('cluster').median().reindex(nbconfig.short_cluster_order) + 0.0001"
   ]
  },
  {
   "cell_type": "code",
   "execution_count": null,
   "metadata": {},
   "outputs": [],
   "source": [
    "median_ratios"
   ]
  },
  {
   "cell_type": "code",
   "execution_count": null,
   "metadata": {},
   "outputs": [],
   "source": [
    "pd.concat([\n",
    "    (median_ratios.loc['SP'] / median_ratios.loc['ES']).rename('SP/ES'), \n",
    "    (median_ratios.loc['SP'] / median_ratios.loc['MS']).rename('SP/MS'),\n",
    "    (median_ratios.loc['SP'] / median_ratios.loc['LS']).rename('SP/LS')\n",
    "], axis=1, sort=True)"
   ]
  },
  {
   "cell_type": "code",
   "execution_count": null,
   "metadata": {},
   "outputs": [],
   "source": [
    "1 / median_ratios"
   ]
  },
  {
   "cell_type": "code",
   "execution_count": null,
   "metadata": {},
   "outputs": [],
   "source": [
    "cutoff = 0.05\n",
    "\n",
    "results = []\n",
    "permuted_ratios_by_cell = ratios_by_cell.copy()\n",
    "for iteration in range(10_000):\n",
    "    permuted_ratios_by_cell.cluster = permuted_ratios_by_cell.cluster.sample(frac=1).values\n",
    "    for clus, observed_ratios in ratios_by_cell.groupby('cluster'):\n",
    "        permuted_ratios = permuted_ratios_by_cell.query(f'cluster == \"{clus}\"')\n",
    "        _, pval_x = mannwhitneyu(observed_ratios.ratio_x, permuted_ratios.ratio_x, alternative='less')\n",
    "        _, pval_y = mannwhitneyu(observed_ratios.ratio_y, permuted_ratios.ratio_y, alternative='greater')\n",
    "        _, pval_4 = mannwhitneyu(observed_ratios.ratio_4, permuted_ratios.ratio_4, alternative='less')\n",
    "        results.append((clus, pval_x <= cutoff, pval_y <= cutoff, pval_4 <= cutoff))"
   ]
  },
  {
   "cell_type": "code",
   "execution_count": null,
   "metadata": {
    "lines_to_next_cell": 1
   },
   "outputs": [],
   "source": [
    "pvals = 1 - (\n",
    "    pd.DataFrame(results, columns=['cluster', 'sig_x', 'sig_y', 'sig_4']).groupby('cluster')\n",
    "    .mean()\n",
    "    .rename(columns=dict(sig_x='pval_x_lt_a', sig_y='pval_y_gt_a', sig_4='pval_4_lt_a'))\n",
    "    .loc[nbconfig.short_cluster_order, :]\n",
    ")\n",
    "pvals"
   ]
  },
  {
   "cell_type": "code",
   "execution_count": null,
   "metadata": {
    "lines_to_next_cell": 1
   },
   "outputs": [],
   "source": [
    "def whisker(dat):\n",
    "    low, high = np.percentile(dat, [25, 75])\n",
    "    iqr = high - low\n",
    "    return high + (1.5 * iqr)"
   ]
  },
  {
   "cell_type": "code",
   "execution_count": null,
   "metadata": {
    "lines_to_next_cell": 1
   },
   "outputs": [],
   "source": [
    "def plot_pval(dat, pvals, ax):\n",
    "    whiskers = (\n",
    "        dat.groupby('cluster')\n",
    "        .apply(whisker)\n",
    "        .to_dict()\n",
    "    )\n",
    "    \n",
    "    for i, clus in enumerate(nbconfig.short_cluster_order):\n",
    "        pval = pvals.loc[clus]\n",
    "        loc = whiskers[clus]\n",
    "        \n",
    "        if pval <= 0.001:\n",
    "            ax.text(i, loc, '***', ha='center', va='bottom')\n",
    "        elif pval <= 0.01:\n",
    "            ax.text(i, loc, '**', ha='center', va='bottom')\n",
    "        elif pval <= 0.05:\n",
    "            ax.text(i, loc, '*', ha='center', va='bottom')"
   ]
  },
  {
   "cell_type": "code",
   "execution_count": null,
   "metadata": {},
   "outputs": [],
   "source": [
    "ratios_by_cell.head()"
   ]
  },
  {
   "cell_type": "code",
   "execution_count": null,
   "metadata": {},
   "outputs": [],
   "source": [
    "fig, axes = plt.subplots(3, 1, figsize=plt.figaspect(3), sharex=True, gridspec_kw=dict(hspace=.2))\n",
    "\n",
    "_defaults = dict(x='cluster', data=ratios_by_cell, order=nbconfig.short_cluster_order, showfliers=False, palette=nbconfig.colors['clusters'], notch=True)\n",
    "\n",
    "ax = axes[0]\n",
    "sns.boxplot(y='ratio_x', ax=ax, **_defaults)\n",
    "plot_pval(ratios_by_cell[['cluster', 'ratio_x']], pvals.pval_x_lt_a, ax)\n",
    "sns.despine(ax=ax, left=True)\n",
    "ax.set_title('X Chromsome Expression')\n",
    "ax.set_xlabel('')\n",
    "ax.set_ylabel('X / Autosome')\n",
    "ax.axhline(1, color='gray', ls='--', zorder=0, alpha=.8, label='Median A')\n",
    "\n",
    "ax = axes[1]\n",
    "sns.boxplot(y='ratio_4', ax=ax, **_defaults)\n",
    "plot_pval(ratios_by_cell[['cluster', 'ratio_4']], pvals.pval_4_lt_a, ax)\n",
    "sns.despine(ax=ax, left=True)\n",
    "ax.set_title('4th Chromsome Expression')\n",
    "ax.set_xlabel('')\n",
    "ax.set_ylabel('4 / Autosome')\n",
    "ax.axhline(1, color='gray', ls='--', zorder=0, alpha=.8, label='Median A')\n",
    "\n",
    "ax = axes[2]\n",
    "sns.boxplot(y='ratio_y', ax=ax, **_defaults)\n",
    "plot_pval(ratios_by_cell[['cluster', 'ratio_y']], pvals.pval_y_gt_a, ax)\n",
    "sns.despine(ax=ax, left=True)\n",
    "ax.set_title('Y Chromsome Expression')\n",
    "ax.set_xlabel('')\n",
    "ax.set_ylabel('Y / Autosome')\n",
    "ax.set_ylim(None, .3)\n",
    "\n",
    "fig.savefig('../output/notebook/2019-02-12_boxplot_autosome_ratios.png', bbox_inches='tight')"
   ]
  },
  {
   "cell_type": "code",
   "execution_count": null,
   "metadata": {
    "lines_to_next_cell": 2
   },
   "outputs": [],
   "source": []
  }
 ],
 "metadata": {
  "kernelspec": {
   "display_name": "Python [conda env:larval_gonad]",
   "language": "python",
   "name": "conda-env-larval_gonad-py"
  }
 },
 "nbformat": 4,
 "nbformat_minor": 2
}
