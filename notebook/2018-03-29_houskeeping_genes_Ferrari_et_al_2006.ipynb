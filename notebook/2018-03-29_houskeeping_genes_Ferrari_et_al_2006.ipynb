{
 "cells": [
  {
   "cell_type": "markdown",
   "metadata": {},
   "source": [
    "# Defining Housekeeping Genes with Naieve Bayes"
   ]
  },
  {
   "cell_type": "markdown",
   "metadata": {},
   "source": [
    "De Ferrari, Luna, and Stuart Aitken. 2006. “Mining Housekeeping Genes with a Naive Bayes Classifier.” BMC Genomics 7 (October): 277.\n",
    "\n",
    "They use a Naieve Bayes to classify genes as either housekeeping or not. Here I convert the Ensembl IDs that they provide to current FBgns.\n",
    "\n",
    "There are 179 genes that are missing, after spot checking I see that these appear to have been removed from FlyBase."
   ]
  },
  {
   "cell_type": "code",
   "execution_count": 2,
   "metadata": {},
   "outputs": [
    {
     "name": "stdout",
     "output_type": "stream",
     "text": [
      "last updated: 2018-03-29 \n",
      "Git hash: f801087de045aa9513181cc6ad771b9c12b12309\n"
     ]
    }
   ],
   "source": [
    "import os\n",
    "import sys\n",
    "from pathlib import Path\n",
    "\n",
    "from IPython.display import display, HTML, Markdown\n",
    "import numpy as np\n",
    "import pandas as pd\n",
    "\n",
    "import matplotlib as mpl\n",
    "import matplotlib.pyplot as plt\n",
    "import seaborn as sns\n",
    "\n",
    "# Project level imports\n",
    "sys.path.insert(0, '../lib')\n",
    "from larval_gonad.notebook import Nb\n",
    "from larval_gonad.plotting import make_figs\n",
    "from larval_gonad.config import memory\n",
    "\n",
    "# Setup notebook\n",
    "nbconfig = Nb.setup_notebook('2018-03-29_housekeeping_genes_Ferrari_et_al_2006')"
   ]
  },
  {
   "cell_type": "code",
   "execution_count": 16,
   "metadata": {},
   "outputs": [],
   "source": [
    "df = pd.read_csv('../data/external/Ferrari_et_al_2006.tsv', sep='\\t')"
   ]
  },
  {
   "cell_type": "code",
   "execution_count": 17,
   "metadata": {},
   "outputs": [
    {
     "data": {
      "text/html": [
       "<div>\n",
       "<style scoped>\n",
       "    .dataframe tbody tr th:only-of-type {\n",
       "        vertical-align: middle;\n",
       "    }\n",
       "\n",
       "    .dataframe tbody tr th {\n",
       "        vertical-align: top;\n",
       "    }\n",
       "\n",
       "    .dataframe thead th {\n",
       "        text-align: right;\n",
       "    }\n",
       "</style>\n",
       "<table border=\"1\" class=\"dataframe\">\n",
       "  <thead>\n",
       "    <tr style=\"text-align: right;\">\n",
       "      <th></th>\n",
       "      <th>EMBL_gene_id  Flybase_name</th>\n",
       "      <th>description</th>\n",
       "      <th>EMBL_transcript_id</th>\n",
       "      <th>cDNA_length</th>\n",
       "      <th>cds_length</th>\n",
       "      <th>exons_nr</th>\n",
       "      <th>5_MAR_presence</th>\n",
       "      <th>3_MAR_presence</th>\n",
       "      <th>5_polyA_18_presence</th>\n",
       "      <th>5_CCGNN_2_5_presence</th>\n",
       "      <th>perc_go_hk_match</th>\n",
       "      <th>perc_go_ts_match</th>\n",
       "      <th>is_hk</th>\n",
       "      <th>predicted_class</th>\n",
       "      <th>hk_probability</th>\n",
       "    </tr>\n",
       "  </thead>\n",
       "  <tbody>\n",
       "    <tr>\n",
       "      <th>CG10000</th>\n",
       "      <td>NaN</td>\n",
       "      <td>Putative polypeptide N-acetylgalactosaminyltra...</td>\n",
       "      <td>CG10000-RA</td>\n",
       "      <td>2528</td>\n",
       "      <td>1677</td>\n",
       "      <td>7</td>\n",
       "      <td>no</td>\n",
       "      <td>no</td>\n",
       "      <td>no</td>\n",
       "      <td>no</td>\n",
       "      <td>0</td>\n",
       "      <td>0.3333333</td>\n",
       "      <td>?</td>\n",
       "      <td>2:no</td>\n",
       "      <td>0.004</td>\n",
       "    </tr>\n",
       "    <tr>\n",
       "      <th>CG10001</th>\n",
       "      <td>AR-2</td>\n",
       "      <td>CG10001-PA [Source:RefSeq_peptide;Acc:NP_524544]</td>\n",
       "      <td>CG10001-RA</td>\n",
       "      <td>1624</td>\n",
       "      <td>1074</td>\n",
       "      <td>4</td>\n",
       "      <td>no</td>\n",
       "      <td>yes</td>\n",
       "      <td>no</td>\n",
       "      <td>no</td>\n",
       "      <td>?</td>\n",
       "      <td>?</td>\n",
       "      <td>?</td>\n",
       "      <td>2:no</td>\n",
       "      <td>0.070</td>\n",
       "    </tr>\n",
       "    <tr>\n",
       "      <th>CG10002</th>\n",
       "      <td>fkh</td>\n",
       "      <td>Fork head protein. [Source:Uniprot/SWISSPROT;A...</td>\n",
       "      <td>CG10002-RA</td>\n",
       "      <td>3268</td>\n",
       "      <td>1533</td>\n",
       "      <td>1</td>\n",
       "      <td>no</td>\n",
       "      <td>yes</td>\n",
       "      <td>no</td>\n",
       "      <td>yes</td>\n",
       "      <td>?</td>\n",
       "      <td>?</td>\n",
       "      <td>?</td>\n",
       "      <td>2:no</td>\n",
       "      <td>0.220</td>\n",
       "    </tr>\n",
       "    <tr>\n",
       "      <th>CG10005</th>\n",
       "      <td>NaN</td>\n",
       "      <td>CG10005-PA [Source:RefSeq_peptide;Acc:NP_650137]</td>\n",
       "      <td>CG10005-RA</td>\n",
       "      <td>1049</td>\n",
       "      <td>696</td>\n",
       "      <td>4</td>\n",
       "      <td>no</td>\n",
       "      <td>no</td>\n",
       "      <td>no</td>\n",
       "      <td>no</td>\n",
       "      <td>?</td>\n",
       "      <td>?</td>\n",
       "      <td>?</td>\n",
       "      <td>2:no</td>\n",
       "      <td>0.060</td>\n",
       "    </tr>\n",
       "    <tr>\n",
       "      <th>CG10006</th>\n",
       "      <td>NaN</td>\n",
       "      <td>CG10006-PA [Source:RefSeq_peptide;Acc:NP_648732]</td>\n",
       "      <td>CG10006-RA</td>\n",
       "      <td>1560</td>\n",
       "      <td>1560</td>\n",
       "      <td>3</td>\n",
       "      <td>no</td>\n",
       "      <td>yes</td>\n",
       "      <td>no</td>\n",
       "      <td>yes</td>\n",
       "      <td>0</td>\n",
       "      <td>0.5</td>\n",
       "      <td>?</td>\n",
       "      <td>2:no</td>\n",
       "      <td>0.002</td>\n",
       "    </tr>\n",
       "  </tbody>\n",
       "</table>\n",
       "</div>"
      ],
      "text/plain": [
       "        EMBL_gene_id  Flybase_name  \\\n",
       "CG10000                        NaN   \n",
       "CG10001                       AR-2   \n",
       "CG10002                        fkh   \n",
       "CG10005                        NaN   \n",
       "CG10006                        NaN   \n",
       "\n",
       "                                               description EMBL_transcript_id  \\\n",
       "CG10000  Putative polypeptide N-acetylgalactosaminyltra...         CG10000-RA   \n",
       "CG10001   CG10001-PA [Source:RefSeq_peptide;Acc:NP_524544]         CG10001-RA   \n",
       "CG10002  Fork head protein. [Source:Uniprot/SWISSPROT;A...         CG10002-RA   \n",
       "CG10005   CG10005-PA [Source:RefSeq_peptide;Acc:NP_650137]         CG10005-RA   \n",
       "CG10006   CG10006-PA [Source:RefSeq_peptide;Acc:NP_648732]         CG10006-RA   \n",
       "\n",
       "        cDNA_length cds_length  exons_nr 5_MAR_presence 3_MAR_presence  \\\n",
       "CG10000        2528       1677         7             no             no   \n",
       "CG10001        1624       1074         4             no            yes   \n",
       "CG10002        3268       1533         1             no            yes   \n",
       "CG10005        1049        696         4             no             no   \n",
       "CG10006        1560       1560         3             no            yes   \n",
       "\n",
       "        5_polyA_18_presence 5_CCGNN_2_5_presence perc_go_hk_match  \\\n",
       "CG10000                  no                   no                0   \n",
       "CG10001                  no                   no                ?   \n",
       "CG10002                  no                  yes                ?   \n",
       "CG10005                  no                   no                ?   \n",
       "CG10006                  no                  yes                0   \n",
       "\n",
       "        perc_go_ts_match is_hk predicted_class  hk_probability  \n",
       "CG10000        0.3333333     ?            2:no           0.004  \n",
       "CG10001                ?     ?            2:no           0.070  \n",
       "CG10002                ?     ?            2:no           0.220  \n",
       "CG10005                ?     ?            2:no           0.060  \n",
       "CG10006              0.5     ?            2:no           0.002  "
      ]
     },
     "execution_count": 17,
     "metadata": {},
     "output_type": "execute_result"
    }
   ],
   "source": [
    "df.head()"
   ]
  },
  {
   "cell_type": "code",
   "execution_count": 19,
   "metadata": {},
   "outputs": [],
   "source": [
    "df = df.iloc[:, [0, -2]]"
   ]
  },
  {
   "cell_type": "code",
   "execution_count": 23,
   "metadata": {},
   "outputs": [],
   "source": [
    "housekeeping = df[df.predicted_class == '1:yes']"
   ]
  },
  {
   "cell_type": "code",
   "execution_count": 24,
   "metadata": {},
   "outputs": [],
   "source": [
    "anno = pd.read_csv('/data/LCDB/lcdb-references/dmel/r6-16/fb_annotation/dmel_r6-16.fb_annotation', sep='\\t')"
   ]
  },
  {
   "cell_type": "code",
   "execution_count": 51,
   "metadata": {},
   "outputs": [],
   "source": [
    "mapper = {}\n",
    "for i, row in anno.iterrows():\n",
    "    fbgn = row.primary_FBgn\n",
    "    mapper[row.gene_symbol] = fbgn\n",
    "    mapper[row.annotation_ID] = fbgn\n",
    "    \n",
    "    if isinstance(row.secondary_FBgn, str):\n",
    "        for sec in row.secondary_FBgn.split(','):\n",
    "            mapper[sec] = fbgn\n",
    "        \n",
    "    if isinstance(row.secondary_annotation_ID, str):\n",
    "        for sec in row.secondary_annotation_ID.split(','):\n",
    "            mapper[sec] = fbgn\n",
    "        \n",
    "    mapper[row.annotation_ID] = fbgn"
   ]
  },
  {
   "cell_type": "code",
   "execution_count": 58,
   "metadata": {},
   "outputs": [],
   "source": [
    "missing = []\n",
    "res = []\n",
    "for key in housekeeping.index.tolist():\n",
    "    try:\n",
    "        res.append([key, mapper[key]])\n",
    "    except:\n",
    "        missing.append(key)\n",
    "        "
   ]
  },
  {
   "cell_type": "code",
   "execution_count": 65,
   "metadata": {},
   "outputs": [],
   "source": [
    "df = pd.DataFrame(res, columns=['accession', 'FBgn'])"
   ]
  },
  {
   "cell_type": "code",
   "execution_count": 69,
   "metadata": {},
   "outputs": [],
   "source": [
    "with open('../data/external/Ferrari_et_al_2006_housekeeping_FBgn.txt', 'w') as fh:\n",
    "    fh.write('\\n'.join(df.FBgn.values))"
   ]
  },
  {
   "cell_type": "code",
   "execution_count": null,
   "metadata": {},
   "outputs": [],
   "source": []
  }
 ],
 "metadata": {
  "kernelspec": {
   "display_name": "Python [conda env:larval_gonad]",
   "language": "python",
   "name": "conda-env-larval_gonad-py"
  },
  "language_info": {
   "codemirror_mode": {
    "name": "ipython",
    "version": 3
   },
   "file_extension": ".py",
   "mimetype": "text/x-python",
   "name": "python",
   "nbconvert_exporter": "python",
   "pygments_lexer": "ipython3",
   "version": "3.6.3"
  }
 },
 "nbformat": 4,
 "nbformat_minor": 2
}
