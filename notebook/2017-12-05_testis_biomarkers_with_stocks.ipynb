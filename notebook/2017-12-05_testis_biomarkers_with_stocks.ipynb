{
 "cells": [
  {
   "cell_type": "markdown",
   "metadata": {},
   "source": [
    "Sharvani was needing a table of biomarkers with stock ids. This is quick and dirty because we are on a time crunch."
   ]
  },
  {
   "cell_type": "code",
   "execution_count": 9,
   "metadata": {},
   "outputs": [],
   "source": [
    "import os\n",
    "from pathlib import Path\n",
    "import pandas as pd"
   ]
  },
  {
   "cell_type": "code",
   "execution_count": 119,
   "metadata": {},
   "outputs": [],
   "source": [
    "# load stocks data and split into bloomington and janelia\n",
    "stocks = pd.read_csv('../../data/external/bloomington_gal4.tsv', \n",
    "                     comment='#', sep='\\t', usecols=['stk_id', 'gene_symbol', 'symbol'])\n",
    "\n",
    "janelia = stocks[stocks.symbol.str.contains('GMR')]\n",
    "bloomington = stocks[~stocks.symbol.str.contains('GMR')]"
   ]
  },
  {
   "cell_type": "code",
   "execution_count": 125,
   "metadata": {},
   "outputs": [],
   "source": [
    "# collapse stock numbers to a list\n",
    "def collapse_stocks(df, name='stocks'):\n",
    "    stocks = df.stk_id.astype(int).tolist()\n",
    "    return pd.Series([\n",
    "        stocks\n",
    "    ], [name]) \n",
    "\n",
    "bs = bloomington.groupby('gene_symbol').apply(lambda x: collapse_stocks(x, 'bloomington_stocks'))\n",
    "js = janelia.groupby('gene_symbol').apply(lambda x: collapse_stocks(x, 'janelia_stocks'))\n",
    "stocks_collapsed = bs.join(js)"
   ]
  },
  {
   "cell_type": "code",
   "execution_count": 127,
   "metadata": {},
   "outputs": [],
   "source": [
    "# load biomarker data\n",
    "biomarkers = pd.read_csv('../../output/testes_scRNAseq_pilot/biomarkers.tsv', sep='\\t', index_col='gene')"
   ]
  },
  {
   "cell_type": "code",
   "execution_count": 129,
   "metadata": {},
   "outputs": [],
   "source": [
    "# load fbgn2symbol data\n",
    "REF = os.environ['REFERENCES_DIR']\n",
    "\n",
    "fbgn2symbol = pd.read_csv(Path(REF, 'dmel/r6-16/fb_annotation/dmel_r6-16.fb_annotation'), \n",
    "                          sep='\\t', usecols=['primary_FBgn', 'gene_symbol'], index_col='primary_FBgn')\n",
    "\n",
    "symbol2fbgn = fbgn2symbol.reset_index().set_index('gene_symbol')"
   ]
  },
  {
   "cell_type": "code",
   "execution_count": 141,
   "metadata": {},
   "outputs": [],
   "source": [
    "# put evertyhing together\n",
    "bioStock = biomarkers.join(fbgn2symbol, how='left').merge(stocks_collapsed, left_on='gene_symbol', right_index=True, how='left').sort_values(by=['cluster'])"
   ]
  },
  {
   "cell_type": "code",
   "execution_count": null,
   "metadata": {},
   "outputs": [],
   "source": [
    "# add links to flybase for easy browsing\n",
    "def linkify(fbgn):\n",
    "    link = f'http://flybase.org/reports/{fbgn}.html'\n",
    "    return f'=HYPERLINK(\"{link}\",\"FlyBase\")'\n",
    "\n",
    "bioStock['LinkOut'] = bioStock.index.map(lambda x: linkify(x))"
   ]
  },
  {
   "cell_type": "code",
   "execution_count": 161,
   "metadata": {},
   "outputs": [],
   "source": [
    "# Clean up table\n",
    "bioStock.index.name = 'FBgn'\n",
    "bioStock.set_index('gene_symbol', append=True, inplace=True)\n",
    "header = ['cluster', 'p_val', 'p_val_adj', 'avg_logFC', 'pct.1', 'pct.2', \n",
    "          'bloomington_stocks', 'janelia_stocks', 'LinkOut']\n",
    "bioStock = bioStock[header].copy()"
   ]
  },
  {
   "cell_type": "code",
   "execution_count": 178,
   "metadata": {},
   "outputs": [],
   "source": [
    "# sort \n",
    "bioStock.sort_values(by='p_val_adj', ascending=False, inplace=True)\n",
    "bioStock.sort_values(by='avg_logFC', inplace=True)\n",
    "bioStock.sort_values(by='cluster', inplace=True)"
   ]
  },
  {
   "cell_type": "code",
   "execution_count": 180,
   "metadata": {},
   "outputs": [],
   "source": [
    "# write data\n",
    "bioStock.to_csv('../../output/20171205_testis_biomarkers_with_stocks.tsv', sep='\\t')"
   ]
  },
  {
   "cell_type": "code",
   "execution_count": null,
   "metadata": {},
   "outputs": [],
   "source": []
  }
 ],
 "metadata": {
  "kernelspec": {
   "display_name": "Python [conda env:larval_gonad]",
   "language": "python",
   "name": "conda-env-larval_gonad-py"
  },
  "language_info": {
   "codemirror_mode": {
    "name": "ipython",
    "version": 3
   },
   "file_extension": ".py",
   "mimetype": "text/x-python",
   "name": "python",
   "nbconvert_exporter": "python",
   "pygments_lexer": "ipython3",
   "version": "3.6.3"
  }
 },
 "nbformat": 4,
 "nbformat_minor": 2
}
