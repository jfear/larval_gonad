{
 "cells": [
  {
   "cell_type": "code",
   "execution_count": null,
   "metadata": {
    "lines_to_next_cell": 2,
    "pycharm": {
     "is_executing": false,
     "name": "#%%\n"
    }
   },
   "outputs": [],
   "source": [
    "from yaml import load\n",
    "import numpy as np\n",
    "import pandas as pd\n",
    "\n",
    "import matplotlib.pyplot as plt\n",
    "import seaborn as sns\n",
    "\n",
    "config = load(open('../config/common.yaml').read())\n",
    "sns.set_context('poster')"
   ]
  },
  {
   "cell_type": "code",
   "execution_count": null,
   "metadata": {
    "pycharm": {
     "is_executing": false,
     "metadata": false,
     "name": "#%%\n"
    }
   },
   "outputs": [],
   "source": [
    "clusters = (\n",
    "    pd.read_parquet('../output/scrnaseq-wf/clusters.parquet')\n",
    "    .assign(cluster=lambda df: df.cluster.map(config['short_cluster_annot']))\n",
    ")"
   ]
  },
  {
   "cell_type": "code",
   "execution_count": null,
   "metadata": {
    "pycharm": {
     "is_executing": false,
     "metadata": false,
     "name": "#%%\n"
    }
   },
   "outputs": [],
   "source": [
    "def parse(sample, rep_num):\n",
    "    cnts = (\n",
    "        pd.read_csv(f'../output/aagag-wf/{sample}.tsv', sep='\\t')\n",
    "        .assign(cell_id=lambda df: f'rep{rep_num}_' + df.cell_id)\n",
    "        .groupby('cell_id').size()\n",
    "        .rename('aagag_cnts')\n",
    "    )\n",
    "    \n",
    "    df = (\n",
    "        pd.concat([cnts, clusters], axis=1, sort=True)\n",
    "        .dropna()\n",
    "        .assign(log_aagag_cnts=lambda df: np.log10(df.aagag_cnts))\n",
    "    )\n",
    "    fig = plt.figure(figsize=(10, 8))\n",
    "    ax = sns.boxplot('cluster', 'log_aagag_cnts', data=df, order=config['short_cluster_order'])\n",
    "    ax.set_title(sample)"
   ]
  },
  {
   "cell_type": "code",
   "execution_count": null,
   "metadata": {
    "lines_to_next_cell": 2,
    "pycharm": {
     "is_executing": false,
     "metadata": false,
     "name": "#%%\n"
    }
   },
   "outputs": [],
   "source": [
    "parse('testis1', 1)"
   ]
  },
  {
   "cell_type": "code",
   "execution_count": null,
   "metadata": {
    "lines_to_next_cell": 2,
    "pycharm": {
     "is_executing": false,
     "metadata": false,
     "name": "#%%\n"
    }
   },
   "outputs": [],
   "source": [
    "parse('testis2', 2)"
   ]
  },
  {
   "cell_type": "code",
   "execution_count": null,
   "metadata": {
    "lines_to_next_cell": 2,
    "pycharm": {
     "is_executing": false,
     "metadata": false,
     "name": "#%%\n"
    }
   },
   "outputs": [],
   "source": [
    "parse('testis3', 3)"
   ]
  },
  {
   "cell_type": "code",
   "execution_count": null,
   "metadata": {
    "pycharm": {
     "metadata": false,
     "name": "#%%\n"
    }
   },
   "outputs": [],
   "source": [
    "\n"
   ]
  },
  {
   "cell_type": "code",
   "execution_count": null,
   "metadata": {},
   "outputs": [],
   "source": []
  },
  {
   "cell_type": "markdown",
   "metadata": {},
   "source": [
    "## Translocations"
   ]
  },
  {
   "cell_type": "code",
   "execution_count": null,
   "metadata": {
    "pycharm": {
     "is_executing": false,
     "metadata": false,
     "name": "#%%\n"
    }
   },
   "outputs": [],
   "source": [
    "def parse2(sample):\n",
    "    clus = (\n",
    "        pd.read_csv(f'../output/translocations-wf/translocation_{sample}_force/clusters.tsv', sep='\\t', index_col=0)\n",
    "        .loc[:, 'res.0.4']\n",
    "        .rename_axis('cell_id')\n",
    "        .rename('cluster')\n",
    "    )\n",
    "    \n",
    "    cnts = (\n",
    "        pd.read_csv(f'../output/aagag-wf/translocations_{sample}.tsv', sep='\\t')\n",
    "        .assign(cell_id=lambda df: f'rep1_' + df.cell_id)\n",
    "        .groupby('cell_id').size()\n",
    "        .rename('aagag_cnts')\n",
    "    )\n",
    "    \n",
    "    df = (\n",
    "        pd.concat([cnts, clus], axis=1, sort=True)\n",
    "        .dropna()\n",
    "        .assign(log_aagag_cnts=lambda df: np.log10(df.aagag_cnts))\n",
    "    )\n",
    "    \n",
    "    fig = plt.figure(figsize=(10, 8))\n",
    "    ax = sns.boxplot('cluster', 'log_aagag_cnts', data=df)\n",
    "    ax.set_title(sample)"
   ]
  },
  {
   "cell_type": "code",
   "execution_count": null,
   "metadata": {},
   "outputs": [],
   "source": [
    "parse2('stock')"
   ]
  },
  {
   "cell_type": "code",
   "execution_count": null,
   "metadata": {},
   "outputs": [],
   "source": [
    "parse2('BM5')"
   ]
  },
  {
   "cell_type": "code",
   "execution_count": null,
   "metadata": {},
   "outputs": [],
   "source": [
    "parse2('BM21')"
   ]
  },
  {
   "cell_type": "code",
   "execution_count": null,
   "metadata": {},
   "outputs": [],
   "source": []
  }
 ],
 "metadata": {
  "kernelspec": {
   "display_name": "Python [conda env:larval_gonad]",
   "language": "python",
   "name": "conda-env-larval_gonad-py"
  }
 },
 "nbformat": 4,
 "nbformat_minor": 2
}
