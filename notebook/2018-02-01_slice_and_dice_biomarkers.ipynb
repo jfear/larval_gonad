{
 "cells": [
  {
   "cell_type": "markdown",
   "metadata": {},
   "source": [
    "# Slice and Dice Biomarkers"
   ]
  },
  {
   "cell_type": "markdown",
   "metadata": {},
   "source": [
    "Brian is wanting the top 10 named biomarkers for each cluster to start doing a literature review. There are several ways that this slice and dice can be done, so it will probably be easier to present him with a few tables."
   ]
  },
  {
   "cell_type": "code",
   "execution_count": 1,
   "metadata": {},
   "outputs": [],
   "source": [
    "import sys\n",
    "import os\n",
    "from pathlib import Path\n",
    "\n",
    "import numpy as np\n",
    "import pandas as pd\n",
    "\n",
    "sys.path.insert(0, '../lib')\n",
    "from larval_gonad.x_to_a import CHROMS_CHR"
   ]
  },
  {
   "cell_type": "code",
   "execution_count": 2,
   "metadata": {},
   "outputs": [],
   "source": [
    "# Constants\n",
    "REF = os.environ['REFERENCES_DIR']\n",
    "OUTPUT = '../output/testis_scRNAseq_pilot'\n",
    "Path(OUTPUT).mkdir(exist_ok=True)\n",
    "NAME = '2018-02-01_slice_and_dice_biomarkers'"
   ]
  },
  {
   "cell_type": "code",
   "execution_count": 3,
   "metadata": {},
   "outputs": [],
   "source": [
    "# Create fbgn2symbol and symbol2fbgn map\n",
    "annot = pd.read_csv(Path(REF, 'dmel/r6-16/fb_annotation/dmel_r6-16.fb_annotation'),\n",
    "                   sep='\\t', index_col=1)\n",
    "\n",
    "fbgn2symbol = annot['gene_symbol'].to_dict()\n",
    "symbol2fbgn = {v: k for k, v in fbgn2symbol.items()}\n",
    "\n",
    "# Create fbgn2chrom\n",
    "genes = []\n",
    "with Path(REF, 'dmel/r6-16/gtf/dmel_r6-16.gtf').open() as fh:\n",
    "    for row in fh:\n",
    "        rows = row.strip().split()\n",
    "        \n",
    "        if len(rows) == 0:\n",
    "            continue\n",
    "            \n",
    "        if rows[2] == 'gene':\n",
    "            genes.append((rows[0], rows[9].replace('\"', '').replace(';', '')))\n",
    "\n",
    "fbgn2chrom = pd.DataFrame(genes, columns=['chrom', 'FBgn'])\n",
    "fbgn2chrom.set_index('FBgn', inplace=True)\n",
    "fbgn2chrom = fbgn2chrom[fbgn2chrom['chrom'].isin(CHROMS_CHR)]"
   ]
  },
  {
   "cell_type": "code",
   "execution_count": 4,
   "metadata": {},
   "outputs": [],
   "source": [
    "# Get biomarker datas and cleanup\n",
    "df = pd.read_csv(f'{OUTPUT}/biomarkers.tsv', sep='\\t', index_col='gene')\n",
    "df.index.name = 'FBgn'\n",
    "df['gene'] = df.index.map(lambda x: fbgn2symbol[x])\n",
    "df.set_index('gene', append=True, inplace=True)"
   ]
  },
  {
   "cell_type": "code",
   "execution_count": 5,
   "metadata": {},
   "outputs": [],
   "source": [
    "# Remove CG and CRs \n",
    "cg = ~df.index.get_level_values('gene').str.startswith('CG')\n",
    "cr = ~df.index.get_level_values('gene').str.startswith('CR')\n",
    "pv = df.p_val_adj < .01\n",
    "df = df[cg & cr & pv]\n",
    "df.to_csv(f'{OUTPUT}/{NAME}_named_cluster_markers.tsv', sep='\\t')"
   ]
  },
  {
   "cell_type": "code",
   "execution_count": 6,
   "metadata": {},
   "outputs": [],
   "source": [
    "# Sort by adj p-val\n",
    "clean = df.sort_values(by='p_val_adj').groupby('cluster').head(10).sort_values('cluster').drop(['p_val', 'pct.1', 'pct.2'], axis=1)\n",
    "clean['link'] = clean.index.get_level_values('FBgn').map(lambda fbgn: '=HYPERLINK(\"http://flybase.org/reports/{}\", \"FlyBase\")'.format(fbgn))\n",
    "clean.to_csv(f'{OUTPUT}/{NAME}_top10_adj-pval_cluster_markers.tsv', sep='\\t')"
   ]
  },
  {
   "cell_type": "code",
   "execution_count": 7,
   "metadata": {},
   "outputs": [],
   "source": [
    "# Sort by logFC\n",
    "df['abs_avg_logFC'] = np.abs(df.avg_logFC)\n",
    "clean = df.sort_values(by='abs_avg_logFC', ascending=False).groupby('cluster').head(10).sort_values('cluster').drop(['p_val', 'pct.1', 'pct.2'], axis=1)\n",
    "clean['link'] = clean.index.get_level_values('FBgn').map(lambda fbgn: '=HYPERLINK(\"http://flybase.org/reports/{}\", \"FlyBase\")'.format(fbgn))\n",
    "clean.to_csv(f'{OUTPUT}/{NAME}_top10_avg-logFC_cluster_markers.tsv', sep='\\t')"
   ]
  },
  {
   "cell_type": "code",
   "execution_count": 8,
   "metadata": {},
   "outputs": [],
   "source": [
    "# sort by difference pct cells expressed\n",
    "df['pct_diff'] = np.abs(df['pct.1'] - df['pct.2'])\n",
    "clean = df.sort_values(by='pct_diff', ascending=False).groupby('cluster').head(10).sort_values('cluster').drop(['p_val'], axis=1)\n",
    "clean['link'] = clean.index.get_level_values('FBgn').map(lambda fbgn: '=HYPERLINK(\"http://flybase.org/reports/{}\", \"FlyBase\")'.format(fbgn))\n",
    "clean.to_csv(f'{OUTPUT}/{NAME}_top10_pct-cells-diff_cluster_markers.tsv', sep='\\t')"
   ]
  },
  {
   "cell_type": "code",
   "execution_count": null,
   "metadata": {},
   "outputs": [],
   "source": []
  }
 ],
 "metadata": {
  "kernelspec": {
   "display_name": "Python [conda env:larval_gonad]",
   "language": "python",
   "name": "conda-env-larval_gonad-py"
  },
  "language_info": {
   "codemirror_mode": {
    "name": "ipython",
    "version": 3
   },
   "file_extension": ".py",
   "mimetype": "text/x-python",
   "name": "python",
   "nbconvert_exporter": "python",
   "pygments_lexer": "ipython3",
   "version": "3.6.3"
  }
 },
 "nbformat": 4,
 "nbformat_minor": 2
}
