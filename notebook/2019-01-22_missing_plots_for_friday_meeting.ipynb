{
 "cells": [
  {
   "cell_type": "code",
   "execution_count": null,
   "metadata": {},
   "outputs": [],
   "source": [
    "import os\n",
    "import sys\n",
    "import re\n",
    "from pathlib import Path\n",
    "\n",
    "from IPython.display import display, HTML, Markdown\n",
    "import numpy as np\n",
    "import pandas as pd\n",
    "\n",
    "import matplotlib as mpl\n",
    "import matplotlib.pyplot as plt\n",
    "import seaborn as sns\n",
    "\n",
    "# Project level imports\n",
    "from larval_gonad.notebook import Nb"
   ]
  },
  {
   "cell_type": "code",
   "execution_count": null,
   "metadata": {},
   "outputs": [],
   "source": [
    "# Setup notebook\n",
    "nbconfig = Nb.setup_notebook(seurat_dir='/data/fearjm/local_data_store/larval_gonad/output/scrnaseq-wf/scrnaseq_combine_force')"
   ]
  },
  {
   "cell_type": "code",
   "execution_count": null,
   "metadata": {},
   "outputs": [],
   "source": [
    "mapper = {\n",
    "    'chrX': 'X',\n",
    "    'chr2L': 'A',\n",
    "    'chr2R': 'A',\n",
    "    'chr3L': 'A',\n",
    "    'chr3R': 'A',\n",
    "    'chrY': 'Y',\n",
    "    'chr4': '4',\n",
    "}\n",
    "\n",
    "fbgn2chrom = pd.read_csv('/data/fearjm/local_data_store/larval_gonad/output/fbgn2chrom.tsv', sep='\\t', index_col=0)\n",
    "fbgn2chrom = fbgn2chrom.chrom.map(mapper)"
   ]
  },
  {
   "cell_type": "code",
   "execution_count": null,
   "metadata": {},
   "outputs": [],
   "source": [
    "chrom_gene_number = fbgn2chrom.value_counts()\n",
    "chrom_gene_number"
   ]
  },
  {
   "cell_type": "code",
   "execution_count": null,
   "metadata": {},
   "outputs": [],
   "source": [
    "clusters = pd.read_csv('/data/fearjm/local_data_store/larval_gonad/output/scrnaseq-wf/scrnaseq_rep2_force/metadata.tsv', sep='\\t', usecols=['res.0.6']).iloc[:, 0]\n",
    "clusters.index.name = 'cell_id'\n",
    "clusters.name = 'cluster'\n",
    "clusters = clusters[clusters < 9].map(nbconfig.short_cluster_annot)"
   ]
  },
  {
   "cell_type": "code",
   "execution_count": null,
   "metadata": {
    "lines_to_next_cell": 2
   },
   "outputs": [],
   "source": []
  },
  {
   "cell_type": "code",
   "execution_count": null,
   "metadata": {},
   "outputs": [],
   "source": [
    "raw = pd.read_csv('/data/fearjm/local_data_store/larval_gonad/output/scrnaseq-wf/scrnaseq_rep2_force/raw.tsv', sep='\\t')\n",
    "raw.index.name = 'FBgn'\n",
    "raw.reset_index(inplace=True)"
   ]
  },
  {
   "cell_type": "code",
   "execution_count": null,
   "metadata": {},
   "outputs": [],
   "source": [
    "melted = raw.melt(id_vars='FBgn', var_name='cell_id', value_name='UMI')"
   ]
  },
  {
   "cell_type": "code",
   "execution_count": null,
   "metadata": {},
   "outputs": [],
   "source": [
    "df = melted.join(fbgn2chrom, on='FBgn').join(clusters, on='cell_id').set_index(['cluster', 'cell_id', 'chrom', 'FBgn'])"
   ]
  },
  {
   "cell_type": "code",
   "execution_count": null,
   "metadata": {},
   "outputs": [],
   "source": [
    "df.sort_index(inplace=True)"
   ]
  },
  {
   "cell_type": "code",
   "execution_count": null,
   "metadata": {},
   "outputs": [],
   "source": [
    "df.head()"
   ]
  },
  {
   "cell_type": "code",
   "execution_count": null,
   "metadata": {},
   "outputs": [],
   "source": [
    "num_missing = (df == 0).groupby(['cluster', 'cell_id', 'chrom']).sum()"
   ]
  },
  {
   "cell_type": "code",
   "execution_count": null,
   "metadata": {},
   "outputs": [],
   "source": [
    "num_missing.div(chrom_gene_number.T, axis='rows', level='chrom')"
   ]
  },
  {
   "cell_type": "code",
   "execution_count": null,
   "metadata": {
    "lines_to_next_cell": 2
   },
   "outputs": [],
   "source": []
  },
  {
   "cell_type": "code",
   "execution_count": null,
   "metadata": {
    "lines_to_next_cell": 2
   },
   "outputs": [],
   "source": []
  }
 ],
 "metadata": {
  "kernelspec": {
   "display_name": "Python [conda env:larval_gonad]",
   "language": "python",
   "name": "conda-env-larval_gonad-py"
  }
 },
 "nbformat": 4,
 "nbformat_minor": 2
}
