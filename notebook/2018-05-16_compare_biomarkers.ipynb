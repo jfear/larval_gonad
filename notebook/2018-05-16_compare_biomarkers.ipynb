{
 "cells": [
  {
   "cell_type": "markdown",
   "metadata": {},
   "source": [
    "# Compare Biomarkers"
   ]
  },
  {
   "cell_type": "markdown",
   "metadata": {},
   "source": [
    "There are two ways to generate biomarkers with Seurat; `FindAllMakrers` or `FindConserverdMarkers`. The first ignore replicate information and looks for biomarkers by comparing clusters. The second is slightly more conservative where it looks for markers independently for each replicate and then does a meta analysis to combine p-values and determine significance. I don't think there should be much differences, but the second should be a little more conservative and may provide a better list.\n",
    "\n",
    "Also I compare these new results with my previous buggy results to get a feeling for what has changed.\n",
    "\n",
    "We had selected lines from the preliminary analysis when we only had 1 replicate. Now that we have our final analysis with 3 replicates I wanted to go back and see what genes from the validation set we lost. We can remove these from our summarizations."
   ]
  },
  {
   "cell_type": "code",
   "execution_count": 1,
   "metadata": {},
   "outputs": [
    {
     "name": "stdout",
     "output_type": "stream",
     "text": [
      "last updated: 2018-05-16 \n",
      "Git hash: 2ab7e147bd4d8cf2b5529684ed180aa07ed7c54e\n"
     ]
    }
   ],
   "source": [
    "# Imports\n",
    "import os\n",
    "import sys\n",
    "from pathlib import Path\n",
    "\n",
    "from IPython.display import display, HTML, Markdown\n",
    "import numpy as np\n",
    "import pandas as pd\n",
    "\n",
    "import matplotlib as mpl\n",
    "import matplotlib.pyplot as plt\n",
    "import seaborn as sns\n",
    "\n",
    "# Project level imports\n",
    "from larval_gonad.notebook import Nb\n",
    "from larval_gonad.plotting import make_figs\n",
    "from larval_gonad.config import memory\n",
    "from larval_gonad.scRNAseq import T2A, GAL4, WHITE, PTRAP\n",
    "\n",
    "# Setup notebook\n",
    "nbconfig = Nb.setup_notebook(seurat_dir='../output/scrnaseq_combine_force')"
   ]
  },
  {
   "cell_type": "code",
   "execution_count": 2,
   "metadata": {},
   "outputs": [],
   "source": [
    "biomarkers1 = pd.read_csv(Path(nbconfig.seurat_dir, 'biomarkers_res.0.6.tsv'), sep='\\t', index_col=[0, 1])\n",
    "biomarkers2 = pd.read_csv(Path(nbconfig.seurat_dir, 'biomarkers_conserved_res.0.6.tsv'), sep='\\t', index_col=[0, 1])"
   ]
  },
  {
   "cell_type": "code",
   "execution_count": 38,
   "metadata": {},
   "outputs": [
    {
     "name": "stdout",
     "output_type": "stream",
     "text": [
      "FindMarkers: 5,022\n",
      "FindConservedMarkers: 3,560\n"
     ]
    }
   ],
   "source": [
    "sig1 = biomarkers1.query('p_val_adj <= 0.001').index.get_level_values('gene_symbol').unique().tolist()\n",
    "sig2 = biomarkers2.query('max_pval <= 0.001').index.get_level_values('gene_symbol').unique().tolist()\n",
    "print(f\"FindMarkers: {len(sig1):,}\")\n",
    "print(f\"FindConservedMarkers: {len(sig2):,}\")"
   ]
  },
  {
   "cell_type": "code",
   "execution_count": 102,
   "metadata": {},
   "outputs": [],
   "source": [
    "def check(target, sig):\n",
    "    _vals = [x for x in target if x not in sig]\n",
    "    print(f'{len(_vals)} / {len(target)} * 100 = {len(_vals) / len(target) * 100:0.2f}%')\n",
    "    return sorted(_vals)"
   ]
  },
  {
   "cell_type": "markdown",
   "metadata": {},
   "source": [
    "## Check overlap between biomarker sets"
   ]
  },
  {
   "cell_type": "markdown",
   "metadata": {},
   "source": [
    "I checked is conserved biomarkers was a subset, and `sxc` is only in the conserved biomarkers."
   ]
  },
  {
   "cell_type": "code",
   "execution_count": 103,
   "metadata": {},
   "outputs": [
    {
     "name": "stdout",
     "output_type": "stream",
     "text": [
      "1 / 3560 * 100 = 0.03%\n"
     ]
    },
    {
     "data": {
      "text/html": [
       "<div>\n",
       "<style scoped>\n",
       "    .dataframe tbody tr th:only-of-type {\n",
       "        vertical-align: middle;\n",
       "    }\n",
       "\n",
       "    .dataframe tbody tr th {\n",
       "        vertical-align: top;\n",
       "    }\n",
       "\n",
       "    .dataframe thead th {\n",
       "        text-align: right;\n",
       "    }\n",
       "</style>\n",
       "<table border=\"1\" class=\"dataframe\">\n",
       "  <thead>\n",
       "    <tr style=\"text-align: right;\">\n",
       "      <th></th>\n",
       "      <th></th>\n",
       "      <th>rep1_p_val</th>\n",
       "      <th>rep1_avg_logFC</th>\n",
       "      <th>rep1_pct.1</th>\n",
       "      <th>rep1_pct.2</th>\n",
       "      <th>rep1_p_val_adj</th>\n",
       "      <th>rep2_p_val</th>\n",
       "      <th>rep2_avg_logFC</th>\n",
       "      <th>rep2_pct.1</th>\n",
       "      <th>rep2_pct.2</th>\n",
       "      <th>rep2_p_val_adj</th>\n",
       "      <th>rep3_p_val</th>\n",
       "      <th>rep3_avg_logFC</th>\n",
       "      <th>rep3_pct.1</th>\n",
       "      <th>rep3_pct.2</th>\n",
       "      <th>rep3_p_val_adj</th>\n",
       "      <th>max_pval</th>\n",
       "      <th>minimump_p_val</th>\n",
       "      <th>cluster</th>\n",
       "    </tr>\n",
       "    <tr>\n",
       "      <th>primary_FBgn</th>\n",
       "      <th>gene_symbol</th>\n",
       "      <th></th>\n",
       "      <th></th>\n",
       "      <th></th>\n",
       "      <th></th>\n",
       "      <th></th>\n",
       "      <th></th>\n",
       "      <th></th>\n",
       "      <th></th>\n",
       "      <th></th>\n",
       "      <th></th>\n",
       "      <th></th>\n",
       "      <th></th>\n",
       "      <th></th>\n",
       "      <th></th>\n",
       "      <th></th>\n",
       "      <th></th>\n",
       "      <th></th>\n",
       "      <th></th>\n",
       "    </tr>\n",
       "  </thead>\n",
       "  <tbody>\n",
       "    <tr>\n",
       "      <th>FBgn0261403</th>\n",
       "      <th>sxc</th>\n",
       "      <td>3.322581e-16</td>\n",
       "      <td>0.347986</td>\n",
       "      <td>0.441</td>\n",
       "      <td>0.153</td>\n",
       "      <td>4.809768e-12</td>\n",
       "      <td>5.314917e-68</td>\n",
       "      <td>0.263539</td>\n",
       "      <td>0.551</td>\n",
       "      <td>0.169</td>\n",
       "      <td>7.693873e-64</td>\n",
       "      <td>3.360811e-127</td>\n",
       "      <td>0.276966</td>\n",
       "      <td>0.332</td>\n",
       "      <td>0.071</td>\n",
       "      <td>4.865111e-123</td>\n",
       "      <td>3.322581e-16</td>\n",
       "      <td>1.008243e-126</td>\n",
       "      <td>6</td>\n",
       "    </tr>\n",
       "  </tbody>\n",
       "</table>\n",
       "</div>"
      ],
      "text/plain": [
       "                            rep1_p_val  rep1_avg_logFC  rep1_pct.1  \\\n",
       "primary_FBgn gene_symbol                                             \n",
       "FBgn0261403  sxc          3.322581e-16        0.347986       0.441   \n",
       "\n",
       "                          rep1_pct.2  rep1_p_val_adj    rep2_p_val  \\\n",
       "primary_FBgn gene_symbol                                             \n",
       "FBgn0261403  sxc               0.153    4.809768e-12  5.314917e-68   \n",
       "\n",
       "                          rep2_avg_logFC  rep2_pct.1  rep2_pct.2  \\\n",
       "primary_FBgn gene_symbol                                           \n",
       "FBgn0261403  sxc                0.263539       0.551       0.169   \n",
       "\n",
       "                          rep2_p_val_adj     rep3_p_val  rep3_avg_logFC  \\\n",
       "primary_FBgn gene_symbol                                                  \n",
       "FBgn0261403  sxc            7.693873e-64  3.360811e-127        0.276966   \n",
       "\n",
       "                          rep3_pct.1  rep3_pct.2  rep3_p_val_adj  \\\n",
       "primary_FBgn gene_symbol                                           \n",
       "FBgn0261403  sxc               0.332       0.071   4.865111e-123   \n",
       "\n",
       "                              max_pval  minimump_p_val  cluster  \n",
       "primary_FBgn gene_symbol                                         \n",
       "FBgn0261403  sxc          3.322581e-16   1.008243e-126        6  "
      ]
     },
     "execution_count": 103,
     "metadata": {},
     "output_type": "execute_result"
    }
   ],
   "source": [
    "_val = check(sig2, sig1)\n",
    "biomarkers2.query(f'gene_symbol == {_val}')"
   ]
  },
  {
   "cell_type": "markdown",
   "metadata": {},
   "source": [
    "While close to 30% of significant genes in `FindMarkers` are not in the `FindConservedMarkers`"
   ]
  },
  {
   "cell_type": "code",
   "execution_count": 104,
   "metadata": {},
   "outputs": [
    {
     "name": "stdout",
     "output_type": "stream",
     "text": [
      "1463 / 5022 * 100 = 29.13%\n"
     ]
    }
   ],
   "source": [
    "_val = check(sig1, sig2)"
   ]
  },
  {
   "cell_type": "markdown",
   "metadata": {},
   "source": [
    "## Check overlap with previous biomarkers set."
   ]
  },
  {
   "cell_type": "markdown",
   "metadata": {},
   "source": [
    "I had noticed a bug in my code which caused me to have replicate 2 twice. I have fixed this and I am re-running everything. Here I want to check out similar these old results are to the new results. A direct comparison is hard because the clusters are different."
   ]
  },
  {
   "cell_type": "code",
   "execution_count": 105,
   "metadata": {},
   "outputs": [],
   "source": [
    "old_biomarkers = pd.read_csv('https://helix.nih.gov/~fearjm/larval_gonad/combined_testis_force/biomarkers_0.4.tsv', sep='\\t')\n",
    "oldSig = old.query('p_val_adj <= 0.001').gene_symbol.unique().tolist()"
   ]
  },
  {
   "cell_type": "markdown",
   "metadata": {},
   "source": [
    "Of the 5,750 genes in the original (buggy) biomarkers list, only 917 (16%) did not come out in the new list. If I look at cluster counts, I see that the majority of these differences are from clusters 8 and 11. Cluster 8 was an early 1º spermatocyte cluster and cluster 11 was possibly mid/late 1º spermatocytes."
   ]
  },
  {
   "cell_type": "code",
   "execution_count": 106,
   "metadata": {},
   "outputs": [
    {
     "name": "stdout",
     "output_type": "stream",
     "text": [
      "917 / 5750 * 100 = 15.95%\n"
     ]
    },
    {
     "data": {
      "text/plain": [
       "8     545\n",
       "11    164\n",
       "6      99\n",
       "9      68\n",
       "7      55\n",
       "10     51\n",
       "4      44\n",
       "5      30\n",
       "1       6\n",
       "3       5\n",
       "2       3\n",
       "0       3\n",
       "Name: cluster, dtype: int64"
      ]
     },
     "execution_count": 106,
     "metadata": {},
     "output_type": "execute_result"
    }
   ],
   "source": [
    "_val = check(oldSig, sig1)\n",
    "old_biomarkers.query(f'gene_symbol in {_val}').cluster.value_counts()"
   ]
  },
  {
   "cell_type": "markdown",
   "metadata": {},
   "source": [
    "The majority of missing biomarkers in the new set are from 1 cluster."
   ]
  },
  {
   "cell_type": "code",
   "execution_count": 108,
   "metadata": {},
   "outputs": [
    {
     "data": {
      "text/plain": [
       "<matplotlib.axes._subplots.AxesSubplot at 0x7fd7c3d057b8>"
      ]
     },
     "execution_count": 108,
     "metadata": {},
     "output_type": "execute_result"
    },
    {
     "data": {
      "image/png": "[encoded data removed]",
      "text/plain": [
       "<matplotlib.figure.Figure at 0x7fd7c3ed8f60>"
      ]
     },
     "metadata": {},
     "output_type": "display_data"
    }
   ],
   "source": [
    "res = []\n",
    "for v in _val:\n",
    "    try:\n",
    "        cnt = old_biomarkers.query(f'gene_symbol == \"{v}\"').shape[0]\n",
    "        res.append((v, cnt))\n",
    "    except KeyError:\n",
    "        continue\n",
    "\n",
    "df = pd.DataFrame(res, columns=['gene', 'cnt'])\n",
    "df.sort_values(by='cnt', ascending=False).plot(kind='kde')"
   ]
  },
  {
   "cell_type": "markdown",
   "metadata": {},
   "source": [
    "## What biomarkers did we remove from validation sets"
   ]
  },
  {
   "cell_type": "markdown",
   "metadata": {},
   "source": [
    "When I had run a very preliminary analysis (rep 1 only) we had selected a set of genes for validating clusters by mapping there protein expression back onto the testis. I want to see how many if any we have lost in the new analysis. Mostly so we can leave them out of the summary."
   ]
  },
  {
   "cell_type": "markdown",
   "metadata": {},
   "source": [
    "### T2A Gal4"
   ]
  },
  {
   "cell_type": "code",
   "execution_count": 109,
   "metadata": {},
   "outputs": [
    {
     "name": "stdout",
     "output_type": "stream",
     "text": [
      "9 / 27 * 100 = 33.33%\n",
      "['CG11658', 'CG34394', 'CG7255', 'Eaf', 'Ino80', 'Khc-73', 'RasGAP1', 'Su(var)2-10', 'tun']\n",
      "11 / 27 * 100 = 40.74%\n",
      "['CG11658', 'CG34383', 'CG34394', 'CG42458', 'CG7255', 'Eaf', 'Ino80', 'Khc-73', 'RasGAP1', 'Su(var)2-10', 'tun']\n"
     ]
    }
   ],
   "source": [
    "print(check(T2A, sig1))\n",
    "print(check(T2A, sig2))"
   ]
  },
  {
   "cell_type": "markdown",
   "metadata": {},
   "source": [
    "### Gal4"
   ]
  },
  {
   "cell_type": "code",
   "execution_count": 110,
   "metadata": {},
   "outputs": [
    {
     "name": "stdout",
     "output_type": "stream",
     "text": [
      "8 / 39 * 100 = 20.51%\n",
      "['AdamTS-A', 'CG11658', 'CG9272', 'CadN ', 'Papss', 'eya', 'rau', 'sano']\n",
      "14 / 39 * 100 = 35.90%\n",
      "['AdamTS-A', 'CG11658', 'CG34383', 'CG9272', 'CadN ', 'Meltrin', 'Notum', 'Papss', 'eya', 'mael', 'rau', 'sano', 'svp', 'svp']\n"
     ]
    }
   ],
   "source": [
    "print(check(GAL4, sig1))\n",
    "print(check(GAL4, sig2))"
   ]
  },
  {
   "cell_type": "markdown",
   "metadata": {},
   "source": [
    "### Ben White Set"
   ]
  },
  {
   "cell_type": "markdown",
   "metadata": {},
   "source": [
    "We don't expect these to be in the list because we just ran what lines we had from Ben White."
   ]
  },
  {
   "cell_type": "code",
   "execution_count": 111,
   "metadata": {},
   "outputs": [
    {
     "name": "stdout",
     "output_type": "stream",
     "text": [
      "19 / 19 * 100 = 100.00%\n",
      "['AkhR', 'CG2187', 'ChaT', 'CrzR', 'Dh31R', 'EH', 'EHR', 'ETHR', 'ETHR', 'ETHRB', 'GluRIIB', 'HR46', 'HR46', 'LGR1', 'Proc', 'ProcR', 'burs', 'pburs', 'rk']\n",
      "19 / 19 * 100 = 100.00%\n",
      "['AkhR', 'CG2187', 'ChaT', 'CrzR', 'Dh31R', 'EH', 'EHR', 'ETHR', 'ETHR', 'ETHRB', 'GluRIIB', 'HR46', 'HR46', 'LGR1', 'Proc', 'ProcR', 'burs', 'pburs', 'rk']\n"
     ]
    }
   ],
   "source": [
    "print(check(WHITE, sig1))\n",
    "print(check(WHITE, sig2))"
   ]
  },
  {
   "cell_type": "markdown",
   "metadata": {},
   "source": [
    "### Protein Traps from Erika's Lab"
   ]
  },
  {
   "cell_type": "code",
   "execution_count": 112,
   "metadata": {},
   "outputs": [
    {
     "name": "stdout",
     "output_type": "stream",
     "text": [
      "8 / 71 * 100 = 11.27%\n",
      "['CG11044', 'CG3277', 'CG43373', 'CadN', 'Efa6', 'Rab3', 'p130CAS', 'stg']\n",
      "19 / 71 * 100 = 26.76%\n",
      "['Ance', 'CG11044', 'CG3277', 'CG42321', 'CG43373', 'CadN', 'DIP-delta', 'Efa6', 'Pvr', 'Rab3', 'Wdr62', 'foxo', 'fru', 'hid', 'p130CAS', 'sdk', 'stg', 'svp', 'tutl']\n"
     ]
    }
   ],
   "source": [
    "print(check(PTRAP, sig1))\n",
    "print(check(PTRAP, sig2))"
   ]
  }
 ],
 "metadata": {
  "kernelspec": {
   "display_name": "Python [conda env:larval_gonad]",
   "language": "python",
   "name": "conda-env-larval_gonad-py"
  },
  "language_info": {
   "codemirror_mode": {
    "name": "ipython",
    "version": 3
   },
   "file_extension": ".py",
   "mimetype": "text/x-python",
   "name": "python",
   "nbconvert_exporter": "python",
   "pygments_lexer": "ipython3",
   "version": "3.6.3"
  }
 },
 "nbformat": 4,
 "nbformat_minor": 2
}
