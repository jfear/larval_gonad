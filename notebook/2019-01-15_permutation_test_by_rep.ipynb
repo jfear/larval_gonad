{
 "cells": [
  {
   "cell_type": "code",
   "execution_count": null,
   "metadata": {},
   "outputs": [],
   "source": [
    "import os\n",
    "import sys\n",
    "import re\n",
    "from pathlib import Path\n",
    "\n",
    "from IPython.display import display, HTML, Markdown\n",
    "import numpy as np\n",
    "import pandas as pd\n",
    "\n",
    "import matplotlib as mpl\n",
    "import matplotlib.pyplot as plt\n",
    "import seaborn as sns\n",
    "\n",
    "# Project level imports\n",
    "from larval_gonad.notebook import Nb\n",
    "from larval_gonad.stats import permutation_test_chrom1_lt_chrom2"
   ]
  },
  {
   "cell_type": "code",
   "execution_count": null,
   "metadata": {},
   "outputs": [],
   "source": [
    "# Setup notebook\n",
    "nbconfig = Nb.setup_notebook(seurat_dir='../output/scrnaseq-wf/scrnaseq_combine_force')"
   ]
  },
  {
   "cell_type": "code",
   "execution_count": null,
   "metadata": {},
   "outputs": [],
   "source": [
    "# read chromosome level counts\n",
    "r1 = pd.read_csv('../output/scrnaseq-wf/scrnaseq_samples/testis1_force/outs/possorted_genome_bam.bam_counts', \n",
    "                 sep='\\t', index_col=0)\n",
    "r1.index = pd.Index([f'rep1_{x}' for x in r1.index], name='cell_id')\n",
    "r1.chromosome = [f'chr{x}' for x in r1.chromosome.tolist()]\n",
    "\n",
    "r2 = pd.read_csv('../output/scrnaseq-wf/scrnaseq_samples/testis2_force/outs/possorted_genome_bam.bam_counts', \n",
    "                 sep='\\t', index_col=0)\n",
    "r2.index = pd.Index([f'rep2_{x}' for x in r2.index], name='cell_id')\n",
    "r2.chromosome = [f'chr{x}' for x in r2.chromosome.tolist()]\n",
    "\n",
    "r3 = pd.read_csv('../output/scrnaseq-wf/scrnaseq_samples/testis3_force/outs/possorted_genome_bam.bam_counts', \n",
    "                 sep='\\t', index_col=0)\n",
    "r3.index = pd.Index([f'rep3_{x}' for x in r3.index], name='cell_id')\n",
    "r3.chromosome = [f'chr{x}' for x in r3.chromosome.tolist()]\n",
    "\n",
    "reps = pd.concat([r1, r2, r3])\n",
    "\n",
    "reps_wide = reps.set_index('chromosome', append=True).unstack().fillna(0)\n",
    "reps_wide.columns = reps_wide.columns.droplevel(0)"
   ]
  },
  {
   "cell_type": "code",
   "execution_count": null,
   "metadata": {},
   "outputs": [],
   "source": [
    "chrom_sizes = pd.read_csv('/data/LCDB/lcdb-references/dmel/r6-16/fasta/dmel_r6-16.chromsizes', sep='\\t', header=None, index_col=0)\n",
    "chrom_sizes.index.name = 'chromosome'\n",
    "chrom_sizes.columns = ['chrom_size']\n",
    "chrom_sizes = chrom_sizes.chrom_size\n",
    "chrom_sizes = chrom_sizes.reindex(nbconfig.chrom_order).copy()"
   ]
  },
  {
   "cell_type": "code",
   "execution_count": null,
   "metadata": {},
   "outputs": [],
   "source": [
    "norm_reps_wide = reps_wide.div(chrom_sizes / 1e7)"
   ]
  },
  {
   "cell_type": "code",
   "execution_count": null,
   "metadata": {},
   "outputs": [],
   "source": [
    "cluster_annot = {\n",
    "    0: 'LS',\n",
    "    1: 'MC',\n",
    "    2: 'MS',\n",
    "    3: 'ES',\n",
    "    4: 'LC',\n",
    "    5: 'EC',\n",
    "    6: 'SP',\n",
    "    7: 'TE',\n",
    "    8: 'PC',\n",
    "}\n",
    "\n",
    "cluster_order = [\n",
    "    'SP',\n",
    "    'ES',\n",
    "    'MS',\n",
    "    'LS',\n",
    "    'EC',\n",
    "    'MC',\n",
    "    'LC',\n",
    "    'PC',\n",
    "    'TE',\n",
    "]\n",
    "\n",
    "clusters = nbconfig.seurat.get_clusters('res.0.6')\n",
    "clusters = clusters[clusters < 9].copy()\n",
    "clusters = clusters.map(cluster_annot)\n",
    "clusters = clusters.astype('category')\n",
    "clusters.cat.as_ordered(inplace=True)\n",
    "clusters.cat.reorder_categories(cluster_order, inplace=True)"
   ]
  },
  {
   "cell_type": "code",
   "execution_count": null,
   "metadata": {},
   "outputs": [],
   "source": [
    "reps_w_clusters = norm_reps_wide.join(clusters, how='right')"
   ]
  },
  {
   "cell_type": "code",
   "execution_count": null,
   "metadata": {},
   "outputs": [],
   "source": [
    "reps_w_clusters['rep'] = reps_w_clusters.index.str.extract('(rep\\d)').values"
   ]
  },
  {
   "cell_type": "code",
   "execution_count": null,
   "metadata": {},
   "outputs": [],
   "source": [
    "reps_w_clusters.head()"
   ]
  },
  {
   "cell_type": "code",
   "execution_count": null,
   "metadata": {},
   "outputs": [],
   "source": [
    "reps_w_clusters.rep.value_counts()"
   ]
  },
  {
   "cell_type": "code",
   "execution_count": null,
   "metadata": {
    "lines_to_next_cell": 2
   },
   "outputs": [],
   "source": []
  },
  {
   "cell_type": "code",
   "execution_count": null,
   "metadata": {},
   "outputs": [],
   "source": [
    "results = []\n",
    "for (clus, rep), dd in reps_w_clusters.groupby(['cluster', 'rep']):\n",
    "    chrom1 = dd['chrX']\n",
    "    chrom2 = dd[['chr2L', 'chr2R', 'chr3L', 'chr3R']].median(axis=1)\n",
    "    p_val = permutation_test_chrom1_lt_chrom2(chrom1, chrom2, size=10_000)\n",
    "    results.append((clus, rep, 'chrX', 'chrA', p_val))"
   ]
  },
  {
   "cell_type": "code",
   "execution_count": null,
   "metadata": {},
   "outputs": [],
   "source": [
    "all_reps = pd.DataFrame(results, columns=['cluster', 'rep', 'chrom1', 'chrom2', 'p_value']).set_index(['cluster', 'rep', 'chrom1', 'chrom2'])"
   ]
  },
  {
   "cell_type": "code",
   "execution_count": null,
   "metadata": {},
   "outputs": [],
   "source": [
    "all_reps"
   ]
  },
  {
   "cell_type": "code",
   "execution_count": null,
   "metadata": {},
   "outputs": [],
   "source": [
    "chroms = ['chrX', 'chr2L', 'chr2R', 'chr3L', 'chr3R']\n",
    "reps_w_clusters.groupby(['cluster', 'rep']).get_group(('MC', 'rep1'))[chroms].plot(kind='kde')"
   ]
  },
  {
   "cell_type": "code",
   "execution_count": null,
   "metadata": {
    "lines_to_next_cell": 2
   },
   "outputs": [],
   "source": []
  },
  {
   "cell_type": "code",
   "execution_count": null,
   "metadata": {
    "lines_to_next_cell": 2
   },
   "outputs": [],
   "source": []
  },
  {
   "cell_type": "code",
   "execution_count": null,
   "metadata": {
    "lines_to_next_cell": 2
   },
   "outputs": [],
   "source": []
  },
  {
   "cell_type": "code",
   "execution_count": null,
   "metadata": {
    "lines_to_next_cell": 2
   },
   "outputs": [],
   "source": []
  },
  {
   "cell_type": "code",
   "execution_count": null,
   "metadata": {},
   "outputs": [],
   "source": [
    "r2_wide = r2.set_index('chromosome', append=True).unstack().fillna(0)\n",
    "r2_wide.columns = r2_wide.columns.droplevel(0)"
   ]
  },
  {
   "cell_type": "code",
   "execution_count": null,
   "metadata": {},
   "outputs": [],
   "source": [
    "r2_w_clusters = r2_wide.div(chrom_sizes / 1e7).join(clusters, how='inner')"
   ]
  },
  {
   "cell_type": "code",
   "execution_count": null,
   "metadata": {},
   "outputs": [],
   "source": [
    "dd = r2_w_clusters.groupby('cluster').get_group('MS')"
   ]
  },
  {
   "cell_type": "code",
   "execution_count": null,
   "metadata": {},
   "outputs": [],
   "source": [
    "(\n",
    "    permutation_test_chrom1_lt_chrom2(dd['chrX'], dd['chr2L']), \n",
    "    permutation_test_chrom1_lt_chrom2(dd['chrX'], dd['chr2R']), \n",
    "    permutation_test_chrom1_lt_chrom2(dd['chrX'], dd['chr3L']), \n",
    "    permutation_test_chrom1_lt_chrom2(dd['chrX'], dd['chr3R']), \n",
    ")"
   ]
  },
  {
   "cell_type": "code",
   "execution_count": null,
   "metadata": {},
   "outputs": [],
   "source": [
    "bob = dd[['chrX', 'chr2L', 'chr2R', 'chr3L', 'chr3R']].copy()\n",
    "bob['chrA'] = bob[['chr2L', 'chr2R', 'chr3L', 'chr3R']].median(axis=1)"
   ]
  },
  {
   "cell_type": "code",
   "execution_count": null,
   "metadata": {},
   "outputs": [],
   "source": [
    "bob.plot(kind='kde')"
   ]
  },
  {
   "cell_type": "code",
   "execution_count": null,
   "metadata": {},
   "outputs": [],
   "source": [
    "dd"
   ]
  },
  {
   "cell_type": "code",
   "execution_count": null,
   "metadata": {
    "lines_to_next_cell": 2
   },
   "outputs": [],
   "source": []
  }
 ],
 "metadata": {
  "kernelspec": {
   "display_name": "Python [conda env:larval_gonad]",
   "language": "python",
   "name": "conda-env-larval_gonad-py"
  }
 },
 "nbformat": 4,
 "nbformat_minor": 2
}
