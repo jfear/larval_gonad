{
 "cells": [
  {
   "cell_type": "markdown",
   "metadata": {},
   "source": [
    "# Parse New Gene Table"
   ]
  },
  {
   "cell_type": "markdown",
   "metadata": {},
   "source": [
    "**from:** Maria D. Vibranovski\n",
    "\n",
    "Here attached is a list from Yong Zhang group based on our paper from 2010. But this is a still not published updated version that he shared with me but you can use.\n",
    "\n",
    "If you need details about the columns, please look at https://genome.cshlp.org/content/suppl/2010/08/27/gr.107334.110.DC1/SupplementalMaterial.pdf  table 2a.\n",
    "\n",
    "But mainly, what you need to select is the child genes with:\n",
    "\n",
    "gene_type = D or R or DL or RL\n",
    "m_type= M\n",
    "note that contains \"chrX-\"\n",
    "\n",
    "D and R stands for DNA-based Duplication and RNA-based duplication\n",
    "L means that the assignment of the parental genes is less reliable.\n",
    "M indicates that is between chromosome movement.\n",
    "\n",
    "Hope it helps. If you need I can parse for you. please, do not hesitate to ask. But I thought you would prefer a complete list where you can look at subsets.\n",
    "\n",
    "cheers\n",
    "\n",
    "Maria\n"
   ]
  },
  {
   "cell_type": "code",
   "execution_count": 1,
   "metadata": {},
   "outputs": [],
   "source": [
    "import os\n",
    "import sys\n",
    "from pathlib import Path\n",
    "import re\n",
    "\n",
    "from IPython.display import display, HTML, Markdown\n",
    "import numpy as np\n",
    "import pandas as pd\n",
    "from scipy.stats import fisher_exact, chi2_contingency\n",
    "from scipy.stats.contingency import margins\n",
    "import statsmodels.formula.api as smf\n",
    "\n",
    "import matplotlib as mpl\n",
    "import matplotlib.pyplot as plt\n",
    "import seaborn as sns\n",
    "\n",
    "# Project level imports\n",
    "sys.path.insert(0, '../lib')\n",
    "from larval_gonad.notebook import Nb\n",
    "from larval_gonad.plotting import make_figs\n",
    "from larval_gonad.config import memory\n",
    "from larval_gonad.stats import run_chisq"
   ]
  },
  {
   "cell_type": "code",
   "execution_count": 2,
   "metadata": {
    "lines_to_next_cell": 1
   },
   "outputs": [
    {
     "name": "stdout",
     "output_type": "stream",
     "text": [
      "last updated: 2019-04-12 \n",
      "Git hash: 8b2294f0f1fb95fa1db81581d215310271068158\n"
     ]
    }
   ],
   "source": [
    "# Setup notebook\n",
    "nbconfig = Nb.setup_notebook(seurat_dir='../output/scrnaseq-wf/scrnaseq_combine_force')"
   ]
  },
  {
   "cell_type": "code",
   "execution_count": 3,
   "metadata": {
    "lines_to_next_cell": 1
   },
   "outputs": [],
   "source": [
    "def adjusted_residuals(observed, expected):\n",
    "    resid = (observed - expected) / np.sqrt(expected)\n",
    "    n = observed.sum().sum()\n",
    "    rsum, csum = margins(observed)\n",
    "    v = csum * rsum * (n - rsum) * (n - csum) / n**3\n",
    "    return (observed - expected) / np.sqrt(v)"
   ]
  },
  {
   "cell_type": "markdown",
   "metadata": {},
   "source": [
    "## Import data from Maria"
   ]
  },
  {
   "cell_type": "markdown",
   "metadata": {},
   "source": [
    "## FBgn sanitizer"
   ]
  },
  {
   "cell_type": "markdown",
   "metadata": {},
   "source": [
    "I don't know where these FBgns are from, so I need to sanitize them to my current annotation."
   ]
  },
  {
   "cell_type": "code",
   "execution_count": 4,
   "metadata": {},
   "outputs": [],
   "source": [
    "assembly = nbconfig.assembly\n",
    "tag = nbconfig.tag\n",
    "pth = Path(os.environ['REFERENCES_DIR'], f'{assembly}/{tag}/fb_annotation/{assembly}_{tag}.fb_annotation')\n",
    "\n",
    "# Create an FBgn \n",
    "mapper = {}\n",
    "\n",
    "for record in pd.read_csv(pth, sep='\\t').to_records():\n",
    "    mapper[record.primary_FBgn] = record.primary_FBgn\n",
    "    \n",
    "    try:\n",
    "        for g in record.secondary_FBgn.split(','):\n",
    "            mapper[g] = record.primary_FBgn\n",
    "    except AttributeError:\n",
    "        pass"
   ]
  },
  {
   "cell_type": "code",
   "execution_count": 5,
   "metadata": {},
   "outputs": [],
   "source": [
    "autosomes = ['chr2L', 'chr2R', 'chr3L', 'chr3R']"
   ]
  },
  {
   "cell_type": "code",
   "execution_count": 6,
   "metadata": {},
   "outputs": [
    {
     "data": {
      "text/html": [
       "<div>\n",
       "<style scoped>\n",
       "    .dataframe tbody tr th:only-of-type {\n",
       "        vertical-align: middle;\n",
       "    }\n",
       "\n",
       "    .dataframe tbody tr th {\n",
       "        vertical-align: top;\n",
       "    }\n",
       "\n",
       "    .dataframe thead th {\n",
       "        text-align: right;\n",
       "    }\n",
       "</style>\n",
       "<table border=\"1\" class=\"dataframe\">\n",
       "  <thead>\n",
       "    <tr style=\"text-align: right;\">\n",
       "      <th></th>\n",
       "      <th>gene_type</th>\n",
       "      <th>child_chrom</th>\n",
       "      <th>parent_chrom</th>\n",
       "      <th>parent_FBgn</th>\n",
       "      <th>moved_x_to_a</th>\n",
       "      <th>moved_a_to_a</th>\n",
       "      <th>moved_a_to_x</th>\n",
       "    </tr>\n",
       "    <tr>\n",
       "      <th>FBgn</th>\n",
       "      <th></th>\n",
       "      <th></th>\n",
       "      <th></th>\n",
       "      <th></th>\n",
       "      <th></th>\n",
       "      <th></th>\n",
       "      <th></th>\n",
       "    </tr>\n",
       "  </thead>\n",
       "  <tbody>\n",
       "    <tr>\n",
       "      <th>FBgn0000246</th>\n",
       "      <td>Dl</td>\n",
       "      <td>chr3R</td>\n",
       "      <td>chrX</td>\n",
       "      <td>FBgn0002873</td>\n",
       "      <td>True</td>\n",
       "      <td>False</td>\n",
       "      <td>False</td>\n",
       "    </tr>\n",
       "    <tr>\n",
       "      <th>FBgn0002562</th>\n",
       "      <td>D</td>\n",
       "      <td>chrX</td>\n",
       "      <td>chr2L</td>\n",
       "      <td>FBgn0002563</td>\n",
       "      <td>False</td>\n",
       "      <td>False</td>\n",
       "      <td>True</td>\n",
       "    </tr>\n",
       "    <tr>\n",
       "      <th>FBgn0003060</th>\n",
       "      <td>D</td>\n",
       "      <td>chr3R</td>\n",
       "      <td>chr2L</td>\n",
       "      <td>FBgn0032282</td>\n",
       "      <td>False</td>\n",
       "      <td>True</td>\n",
       "      <td>False</td>\n",
       "    </tr>\n",
       "    <tr>\n",
       "      <th>FBgn0003086</th>\n",
       "      <td>Dl</td>\n",
       "      <td>chrX</td>\n",
       "      <td>chr3L</td>\n",
       "      <td>FBgn0036393</td>\n",
       "      <td>False</td>\n",
       "      <td>False</td>\n",
       "      <td>True</td>\n",
       "    </tr>\n",
       "    <tr>\n",
       "      <th>FBgn0003357</th>\n",
       "      <td>R</td>\n",
       "      <td>chr3R</td>\n",
       "      <td>chr3L</td>\n",
       "      <td>FBgn0250815</td>\n",
       "      <td>False</td>\n",
       "      <td>True</td>\n",
       "      <td>False</td>\n",
       "    </tr>\n",
       "  </tbody>\n",
       "</table>\n",
       "</div>"
      ],
      "text/plain": [
       "            gene_type child_chrom parent_chrom  parent_FBgn  moved_x_to_a  \\\n",
       "FBgn                                                                        \n",
       "FBgn0000246        Dl       chr3R         chrX  FBgn0002873          True   \n",
       "FBgn0002562         D        chrX        chr2L  FBgn0002563         False   \n",
       "FBgn0003060         D       chr3R        chr2L  FBgn0032282         False   \n",
       "FBgn0003086        Dl        chrX        chr3L  FBgn0036393         False   \n",
       "FBgn0003357         R       chr3R        chr3L  FBgn0250815         False   \n",
       "\n",
       "             moved_a_to_a  moved_a_to_x  \n",
       "FBgn                                     \n",
       "FBgn0000246         False         False  \n",
       "FBgn0002562         False          True  \n",
       "FBgn0003060          True         False  \n",
       "FBgn0003086         False          True  \n",
       "FBgn0003357          True         False  "
      ]
     },
     "execution_count": 6,
     "metadata": {},
     "output_type": "execute_result"
    }
   ],
   "source": [
    "movement = (\n",
    "    pd.read_excel('../data/external/maria/dm6_ver78_genetype.new.xlsx')\n",
    "    .query('gene_type == [\"D\", \"R\", \"Dl\", \"Rl\"] and m_type == \"M\"')\n",
    "    .assign(child_chrom = lambda df: df.note.str.extract('(chr.*?)-'))\n",
    "    .assign(parent_chrom = lambda df: df.note.str.extract('-(chr.*?)[:;]'))\n",
    "    .assign(FBgn = lambda df: df.child_id.map(mapper))\n",
    "    .assign(parent_FBgn = lambda df: df.parent_id.map(mapper))\n",
    "    .drop(['child_id', 'parent_id', 'note', 'm_type'], axis=1)\n",
    "    .dropna()\n",
    "    .set_index('FBgn')\n",
    "    .assign(moved_x_to_a = lambda df: (df.parent_chrom == 'chrX') & df.child_chrom.isin(autosomes))\n",
    "    .assign(moved_a_to_a = lambda df: df.parent_chrom.isin(autosomes) & df.child_chrom.isin(autosomes))\n",
    "    .assign(moved_a_to_x = lambda df: df.parent_chrom.isin(autosomes) & (df.child_chrom == 'chrX'))\n",
    "    .query('moved_x_to_a | moved_a_to_a | moved_a_to_x')\n",
    ")\n",
    "\n",
    "movement.head()"
   ]
  },
  {
   "cell_type": "code",
   "execution_count": 7,
   "metadata": {},
   "outputs": [],
   "source": [
    "germ_comp = (\n",
    "    pd.read_csv('../output/scrnaseq-wf/germcell_deg/gonia_vs_mid.tsv', sep='\\t')\n",
    "    .assign(FBgn = lambda df: df.primary_FBgn)\n",
    "    .assign(SP = lambda df: df.avg_logFC > 0)\n",
    "    .assign(CYTE = lambda df: df.avg_logFC < 0)\n",
    "    .set_index('FBgn')\n",
    "    .loc[:, ['SP', 'CYTE']]\n",
    "    .idxmax(axis=1)\n",
    "    .rename('bias_gonia_vs_cyte')\n",
    ")"
   ]
  },
  {
   "cell_type": "code",
   "execution_count": 8,
   "metadata": {
    "lines_to_next_cell": 2
   },
   "outputs": [],
   "source": [
    "df = (\n",
    "    movement\n",
    "    .join(germ_comp.rename('bias_gonia_vs_cyte_child'), how='left')\n",
    "    .join(germ_comp.rename('bias_gonia_vs_cyte_parent'), on='parent_FBgn', how='left')\n",
    "    .fillna('None')\n",
    ")"
   ]
  },
  {
   "cell_type": "code",
   "execution_count": null,
   "metadata": {},
   "outputs": [],
   "source": []
  },
  {
   "cell_type": "code",
   "execution_count": 9,
   "metadata": {
    "lines_to_next_cell": 2
   },
   "outputs": [],
   "source": [
    "df = (\n",
    "    movement\n",
    "    .join(germ_comp.rename('bias_gonia_vs_cyte_child'), how='left')\n",
    "    .fillna(dict(moved_x_to_a=False, moved_a_to_a=False, moved_a_to_x=False, bias_gonia_vs_cyte_child='No Bias'))\n",
    "    .join(germ_comp.rename('bias_gonia_vs_cyte_parent'), on='parent_FBgn', how='left')\n",
    "    .assign(movement=lambda df: df[['moved_a_to_a', 'moved_a_to_x', 'moved_x_to_a']].idxmax(axis=1).replace({'moved_x_to_a': 'X→A', 'moved_a_to_a': 'A→A', 'moved_a_to_x': 'A→X'}))\n",
    ")"
   ]
  },
  {
   "cell_type": "code",
   "execution_count": 10,
   "metadata": {},
   "outputs": [
    {
     "name": "stdout",
     "output_type": "stream",
     "text": [
      "𝛘^2: 18.5857, p-value: 0.0001, df: 2\n"
     ]
    },
    {
     "data": {
      "text/html": [
       "<div>\n",
       "<style scoped>\n",
       "    .dataframe tbody tr th:only-of-type {\n",
       "        vertical-align: middle;\n",
       "    }\n",
       "\n",
       "    .dataframe tbody tr th {\n",
       "        vertical-align: top;\n",
       "    }\n",
       "\n",
       "    .dataframe thead th {\n",
       "        text-align: right;\n",
       "    }\n",
       "</style>\n",
       "<table border=\"1\" class=\"dataframe\">\n",
       "  <thead>\n",
       "    <tr style=\"text-align: right;\">\n",
       "      <th></th>\n",
       "      <th>bias_gonia_vs_cyte_child</th>\n",
       "      <th>CYTE</th>\n",
       "      <th>No Bias</th>\n",
       "      <th>SP</th>\n",
       "    </tr>\n",
       "    <tr>\n",
       "      <th>moved_x_to_a</th>\n",
       "      <th>type</th>\n",
       "      <th></th>\n",
       "      <th></th>\n",
       "      <th></th>\n",
       "    </tr>\n",
       "  </thead>\n",
       "  <tbody>\n",
       "    <tr>\n",
       "      <th rowspan=\"7\" valign=\"top\">False</th>\n",
       "      <th>observed</th>\n",
       "      <td>63.0000</td>\n",
       "      <td>109.0000</td>\n",
       "      <td>5.0000</td>\n",
       "    </tr>\n",
       "    <tr>\n",
       "      <th>expected</th>\n",
       "      <td>67.1878</td>\n",
       "      <td>98.2531</td>\n",
       "      <td>11.5592</td>\n",
       "    </tr>\n",
       "    <tr>\n",
       "      <th>residual</th>\n",
       "      <td>-4.1878</td>\n",
       "      <td>10.7469</td>\n",
       "      <td>-6.5592</td>\n",
       "    </tr>\n",
       "    <tr>\n",
       "      <th>adj std residual</th>\n",
       "      <td>-1.2312</td>\n",
       "      <td>3.0854</td>\n",
       "      <td>-3.7877</td>\n",
       "    </tr>\n",
       "    <tr>\n",
       "      <th>X^2</th>\n",
       "      <td>0.2610</td>\n",
       "      <td>1.1755</td>\n",
       "      <td>3.7220</td>\n",
       "    </tr>\n",
       "    <tr>\n",
       "      <th>fdr q-value</th>\n",
       "      <td>0.1870</td>\n",
       "      <td>0.0051</td>\n",
       "      <td>0.0009</td>\n",
       "    </tr>\n",
       "    <tr>\n",
       "      <th>flag_sig</th>\n",
       "      <td>0.0000</td>\n",
       "      <td>1.0000</td>\n",
       "      <td>1.0000</td>\n",
       "    </tr>\n",
       "    <tr>\n",
       "      <th rowspan=\"7\" valign=\"top\">True</th>\n",
       "      <th>observed</th>\n",
       "      <td>30.0000</td>\n",
       "      <td>27.0000</td>\n",
       "      <td>11.0000</td>\n",
       "    </tr>\n",
       "    <tr>\n",
       "      <th>expected</th>\n",
       "      <td>25.8122</td>\n",
       "      <td>37.7469</td>\n",
       "      <td>4.4408</td>\n",
       "    </tr>\n",
       "    <tr>\n",
       "      <th>residual</th>\n",
       "      <td>4.1878</td>\n",
       "      <td>-10.7469</td>\n",
       "      <td>6.5592</td>\n",
       "    </tr>\n",
       "    <tr>\n",
       "      <th>adj std residual</th>\n",
       "      <td>1.2312</td>\n",
       "      <td>-3.0854</td>\n",
       "      <td>3.7877</td>\n",
       "    </tr>\n",
       "    <tr>\n",
       "      <th>X^2</th>\n",
       "      <td>0.6794</td>\n",
       "      <td>3.0598</td>\n",
       "      <td>9.6881</td>\n",
       "    </tr>\n",
       "    <tr>\n",
       "      <th>fdr q-value</th>\n",
       "      <td>0.1870</td>\n",
       "      <td>0.0051</td>\n",
       "      <td>0.0009</td>\n",
       "    </tr>\n",
       "    <tr>\n",
       "      <th>flag_sig</th>\n",
       "      <td>0.0000</td>\n",
       "      <td>1.0000</td>\n",
       "      <td>1.0000</td>\n",
       "    </tr>\n",
       "  </tbody>\n",
       "</table>\n",
       "</div>"
      ],
      "text/plain": [
       "bias_gonia_vs_cyte_child          CYTE   No Bias       SP\n",
       "moved_x_to_a type                                        \n",
       "False        observed          63.0000  109.0000   5.0000\n",
       "             expected          67.1878   98.2531  11.5592\n",
       "             residual          -4.1878   10.7469  -6.5592\n",
       "             adj std residual  -1.2312    3.0854  -3.7877\n",
       "             X^2                0.2610    1.1755   3.7220\n",
       "             fdr q-value        0.1870    0.0051   0.0009\n",
       "             flag_sig           0.0000    1.0000   1.0000\n",
       "True         observed          30.0000   27.0000  11.0000\n",
       "             expected          25.8122   37.7469   4.4408\n",
       "             residual           4.1878  -10.7469   6.5592\n",
       "             adj std residual   1.2312   -3.0854   3.7877\n",
       "             X^2                0.6794    3.0598   9.6881\n",
       "             fdr q-value        0.1870    0.0051   0.0009\n",
       "             flag_sig           0.0000    1.0000   1.0000"
      ]
     },
     "execution_count": 10,
     "metadata": {},
     "output_type": "execute_result"
    }
   ],
   "source": [
    "ct = pd.crosstab(df.moved_x_to_a, df.bias_gonia_vs_cyte_child)\n",
    "run_chisq(ct)"
   ]
  },
  {
   "cell_type": "code",
   "execution_count": 11,
   "metadata": {
    "lines_to_next_cell": 2
   },
   "outputs": [],
   "source": [
    "tpm = (\n",
    "    pd.read_parquet('../output/scrnaseq-wf/tpm.parquet')\n",
    "    .assign(cluster = lambda df: df.cluster.map(nbconfig.short_cluster_annot))\n",
    "    .pivot_table(index='FBgn', columns='cluster', values='TPM')\n",
    "    .loc[:, ['SP', 'M1º']]\n",
    ")"
   ]
  },
  {
   "cell_type": "code",
   "execution_count": 12,
   "metadata": {},
   "outputs": [],
   "source": [
    "df = (\n",
    "    df\n",
    "    .join(tpm['SP'].rename('SP_child'), how='left')\n",
    "    .join(tpm['M1º'].rename('M1_child'), how='left')\n",
    "    .join(tpm['SP'].rename('SP_parent'), on='parent_FBgn', how='left')\n",
    "    .join(tpm['M1º'].rename('M1_parent'), on='parent_FBgn', how='left')\n",
    "    .fillna(0)\n",
    ")"
   ]
  },
  {
   "cell_type": "code",
   "execution_count": 13,
   "metadata": {
    "lines_to_next_cell": 2
   },
   "outputs": [
    {
     "data": {
      "text/html": [
       "<div>\n",
       "<style scoped>\n",
       "    .dataframe tbody tr th:only-of-type {\n",
       "        vertical-align: middle;\n",
       "    }\n",
       "\n",
       "    .dataframe tbody tr th {\n",
       "        vertical-align: top;\n",
       "    }\n",
       "\n",
       "    .dataframe thead th {\n",
       "        text-align: right;\n",
       "    }\n",
       "</style>\n",
       "<table border=\"1\" class=\"dataframe\">\n",
       "  <thead>\n",
       "    <tr style=\"text-align: right;\">\n",
       "      <th></th>\n",
       "      <th>gene_type</th>\n",
       "      <th>child_chrom</th>\n",
       "      <th>parent_chrom</th>\n",
       "      <th>parent_FBgn</th>\n",
       "      <th>moved_x_to_a</th>\n",
       "      <th>moved_a_to_a</th>\n",
       "      <th>moved_a_to_x</th>\n",
       "      <th>bias_gonia_vs_cyte_child</th>\n",
       "      <th>bias_gonia_vs_cyte_parent</th>\n",
       "      <th>movement</th>\n",
       "      <th>SP_child</th>\n",
       "      <th>M1_child</th>\n",
       "      <th>SP_parent</th>\n",
       "      <th>M1_parent</th>\n",
       "    </tr>\n",
       "    <tr>\n",
       "      <th>FBgn</th>\n",
       "      <th></th>\n",
       "      <th></th>\n",
       "      <th></th>\n",
       "      <th></th>\n",
       "      <th></th>\n",
       "      <th></th>\n",
       "      <th></th>\n",
       "      <th></th>\n",
       "      <th></th>\n",
       "      <th></th>\n",
       "      <th></th>\n",
       "      <th></th>\n",
       "      <th></th>\n",
       "      <th></th>\n",
       "    </tr>\n",
       "  </thead>\n",
       "  <tbody>\n",
       "    <tr>\n",
       "      <th>FBgn0000246</th>\n",
       "      <td>Dl</td>\n",
       "      <td>chr3R</td>\n",
       "      <td>chrX</td>\n",
       "      <td>FBgn0002873</td>\n",
       "      <td>True</td>\n",
       "      <td>False</td>\n",
       "      <td>False</td>\n",
       "      <td>No Bias</td>\n",
       "      <td>0</td>\n",
       "      <td>X→A</td>\n",
       "      <td>74.507506</td>\n",
       "      <td>40.811514</td>\n",
       "      <td>0.652152</td>\n",
       "      <td>1.751364</td>\n",
       "    </tr>\n",
       "    <tr>\n",
       "      <th>FBgn0002562</th>\n",
       "      <td>D</td>\n",
       "      <td>chrX</td>\n",
       "      <td>chr2L</td>\n",
       "      <td>FBgn0002563</td>\n",
       "      <td>False</td>\n",
       "      <td>False</td>\n",
       "      <td>True</td>\n",
       "      <td>No Bias</td>\n",
       "      <td>0</td>\n",
       "      <td>A→X</td>\n",
       "      <td>0.023132</td>\n",
       "      <td>0.061855</td>\n",
       "      <td>0.144521</td>\n",
       "      <td>0.137125</td>\n",
       "    </tr>\n",
       "    <tr>\n",
       "      <th>FBgn0003060</th>\n",
       "      <td>D</td>\n",
       "      <td>chr3R</td>\n",
       "      <td>chr2L</td>\n",
       "      <td>FBgn0032282</td>\n",
       "      <td>False</td>\n",
       "      <td>True</td>\n",
       "      <td>False</td>\n",
       "      <td>No Bias</td>\n",
       "      <td>0</td>\n",
       "      <td>A→A</td>\n",
       "      <td>0.021381</td>\n",
       "      <td>0.000000</td>\n",
       "      <td>0.075548</td>\n",
       "      <td>0.126258</td>\n",
       "    </tr>\n",
       "    <tr>\n",
       "      <th>FBgn0003086</th>\n",
       "      <td>Dl</td>\n",
       "      <td>chrX</td>\n",
       "      <td>chr3L</td>\n",
       "      <td>FBgn0036393</td>\n",
       "      <td>False</td>\n",
       "      <td>False</td>\n",
       "      <td>True</td>\n",
       "      <td>No Bias</td>\n",
       "      <td>0</td>\n",
       "      <td>A→X</td>\n",
       "      <td>0.000000</td>\n",
       "      <td>0.000000</td>\n",
       "      <td>0.000000</td>\n",
       "      <td>0.057476</td>\n",
       "    </tr>\n",
       "    <tr>\n",
       "      <th>FBgn0003357</th>\n",
       "      <td>R</td>\n",
       "      <td>chr3R</td>\n",
       "      <td>chr3L</td>\n",
       "      <td>FBgn0250815</td>\n",
       "      <td>False</td>\n",
       "      <td>True</td>\n",
       "      <td>False</td>\n",
       "      <td>No Bias</td>\n",
       "      <td>0</td>\n",
       "      <td>A→A</td>\n",
       "      <td>0.000000</td>\n",
       "      <td>0.000000</td>\n",
       "      <td>0.000000</td>\n",
       "      <td>0.000000</td>\n",
       "    </tr>\n",
       "  </tbody>\n",
       "</table>\n",
       "</div>"
      ],
      "text/plain": [
       "            gene_type child_chrom parent_chrom  parent_FBgn  moved_x_to_a  \\\n",
       "FBgn                                                                        \n",
       "FBgn0000246        Dl       chr3R         chrX  FBgn0002873          True   \n",
       "FBgn0002562         D        chrX        chr2L  FBgn0002563         False   \n",
       "FBgn0003060         D       chr3R        chr2L  FBgn0032282         False   \n",
       "FBgn0003086        Dl        chrX        chr3L  FBgn0036393         False   \n",
       "FBgn0003357         R       chr3R        chr3L  FBgn0250815         False   \n",
       "\n",
       "             moved_a_to_a  moved_a_to_x bias_gonia_vs_cyte_child  \\\n",
       "FBgn                                                               \n",
       "FBgn0000246         False         False                  No Bias   \n",
       "FBgn0002562         False          True                  No Bias   \n",
       "FBgn0003060          True         False                  No Bias   \n",
       "FBgn0003086         False          True                  No Bias   \n",
       "FBgn0003357          True         False                  No Bias   \n",
       "\n",
       "            bias_gonia_vs_cyte_parent movement   SP_child   M1_child  \\\n",
       "FBgn                                                                   \n",
       "FBgn0000246                         0      X→A  74.507506  40.811514   \n",
       "FBgn0002562                         0      A→X   0.023132   0.061855   \n",
       "FBgn0003060                         0      A→A   0.021381   0.000000   \n",
       "FBgn0003086                         0      A→X   0.000000   0.000000   \n",
       "FBgn0003357                         0      A→A   0.000000   0.000000   \n",
       "\n",
       "             SP_parent  M1_parent  \n",
       "FBgn                               \n",
       "FBgn0000246   0.652152   1.751364  \n",
       "FBgn0002562   0.144521   0.137125  \n",
       "FBgn0003060   0.075548   0.126258  \n",
       "FBgn0003086   0.000000   0.057476  \n",
       "FBgn0003357   0.000000   0.000000  "
      ]
     },
     "execution_count": 13,
     "metadata": {},
     "output_type": "execute_result"
    }
   ],
   "source": [
    "df.head()"
   ]
  },
  {
   "cell_type": "code",
   "execution_count": null,
   "metadata": {},
   "outputs": [],
   "source": []
  },
  {
   "cell_type": "code",
   "execution_count": 14,
   "metadata": {
    "lines_to_next_cell": 2
   },
   "outputs": [
    {
     "data": {
      "text/plain": [
       "[Text(0,0.5,'M1° Normalized Expression'), Text(0.5,1,'Child Gene Expression')]"
      ]
     },
     "execution_count": 14,
     "metadata": {},
     "output_type": "execute_result"
    },
    {
     "data": {
      "image/png": "[encoded data removed]",
      "text/plain": [
       "<matplotlib.figure.Figure at 0x7fcdcf570470>"
      ]
     },
     "metadata": {},
     "output_type": "display_data"
    }
   ],
   "source": [
    "fig, (ax1, ax2) = plt.subplots(2, 1, figsize=plt.figaspect(2), sharex=True)\n",
    "sns.boxplot('movement', 'M1_parent', data=df, showfliers=False, ax=ax1)\n",
    "ax1.set(ylabel='M1° Normalized Expression', xlabel='', title='Parent Gene Expression')\n",
    "\n",
    "sns.boxplot('movement', 'M1_child', data=df, showfliers=False, ax=ax2)\n",
    "ax2.set(ylabel='M1° Normalized Expression', title='Child Gene Expression')"
   ]
  },
  {
   "cell_type": "code",
   "execution_count": null,
   "metadata": {},
   "outputs": [],
   "source": []
  },
  {
   "cell_type": "code",
   "execution_count": null,
   "metadata": {},
   "outputs": [],
   "source": []
  },
  {
   "cell_type": "code",
   "execution_count": null,
   "metadata": {},
   "outputs": [],
   "source": []
  },
  {
   "cell_type": "code",
   "execution_count": null,
   "metadata": {},
   "outputs": [],
   "source": []
  },
  {
   "cell_type": "code",
   "execution_count": null,
   "metadata": {},
   "outputs": [],
   "source": []
  },
  {
   "cell_type": "code",
   "execution_count": null,
   "metadata": {},
   "outputs": [],
   "source": []
  },
  {
   "cell_type": "code",
   "execution_count": null,
   "metadata": {},
   "outputs": [],
   "source": []
  },
  {
   "cell_type": "code",
   "execution_count": null,
   "metadata": {},
   "outputs": [],
   "source": []
  },
  {
   "cell_type": "code",
   "execution_count": null,
   "metadata": {},
   "outputs": [],
   "source": []
  },
  {
   "cell_type": "code",
   "execution_count": null,
   "metadata": {},
   "outputs": [],
   "source": []
  },
  {
   "cell_type": "code",
   "execution_count": null,
   "metadata": {},
   "outputs": [],
   "source": []
  },
  {
   "cell_type": "code",
   "execution_count": null,
   "metadata": {},
   "outputs": [],
   "source": []
  },
  {
   "cell_type": "code",
   "execution_count": null,
   "metadata": {},
   "outputs": [],
   "source": []
  },
  {
   "cell_type": "code",
   "execution_count": null,
   "metadata": {},
   "outputs": [],
   "source": []
  },
  {
   "cell_type": "code",
   "execution_count": null,
   "metadata": {},
   "outputs": [],
   "source": []
  },
  {
   "cell_type": "code",
   "execution_count": null,
   "metadata": {},
   "outputs": [],
   "source": []
  },
  {
   "cell_type": "code",
   "execution_count": null,
   "metadata": {},
   "outputs": [],
   "source": []
  },
  {
   "cell_type": "code",
   "execution_count": null,
   "metadata": {},
   "outputs": [],
   "source": []
  },
  {
   "cell_type": "code",
   "execution_count": null,
   "metadata": {},
   "outputs": [],
   "source": []
  },
  {
   "cell_type": "code",
   "execution_count": null,
   "metadata": {},
   "outputs": [],
   "source": []
  },
  {
   "cell_type": "code",
   "execution_count": null,
   "metadata": {},
   "outputs": [],
   "source": []
  },
  {
   "cell_type": "code",
   "execution_count": null,
   "metadata": {},
   "outputs": [],
   "source": []
  }
 ],
 "metadata": {
  "jupytext": {
   "text_representation": {
    "extension": ".py",
    "format_name": "percent",
    "format_version": "1.2",
    "jupytext_version": "1.0.0"
   }
  },
  "kernelspec": {
   "display_name": "Python [conda env:larval_gonad]",
   "language": "python",
   "name": "conda-env-larval_gonad-py"
  },
  "language_info": {
   "codemirror_mode": {
    "name": "ipython",
    "version": 3
   },
   "file_extension": ".py",
   "mimetype": "text/x-python",
   "name": "python",
   "nbconvert_exporter": "python",
   "pygments_lexer": "ipython3",
   "version": "3.6.3"
  }
 },
 "nbformat": 4,
 "nbformat_minor": 2
}
