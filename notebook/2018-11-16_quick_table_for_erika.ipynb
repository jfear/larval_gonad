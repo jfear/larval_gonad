{
 "cells": [
  {
   "cell_type": "code",
   "execution_count": 3,
   "metadata": {},
   "outputs": [],
   "source": [
    "import os\n",
    "import sys\n",
    "import re\n",
    "from pathlib import Path\n",
    "\n",
    "from IPython.display import display, HTML, Markdown\n",
    "import numpy as np\n",
    "import pandas as pd\n",
    "\n",
    "import matplotlib as mpl\n",
    "import matplotlib.pyplot as plt\n",
    "import seaborn as sns\n",
    "\n",
    "# Project level imports\n",
    "from larval_gonad.notebook import Nb"
   ]
  },
  {
   "cell_type": "code",
   "execution_count": 4,
   "metadata": {},
   "outputs": [
    {
     "name": "stdout",
     "output_type": "stream",
     "text": [
      "last updated: 2018-11-16 \n",
      "Git hash:\n"
     ]
    }
   ],
   "source": [
    "# Setup notebook\n",
    "nbconfig = Nb.setup_notebook(seurat_dir='../output/scrnaseq-wf/scrnaseq_combine_force')"
   ]
  },
  {
   "cell_type": "code",
   "execution_count": 5,
   "metadata": {},
   "outputs": [],
   "source": [
    "cluster_annot = {\n",
    "    0: 'LS',\n",
    "    1: 'MC',\n",
    "    2: 'MS',\n",
    "    3: 'ES',\n",
    "    4: 'LC',\n",
    "    5: 'EC',\n",
    "    6: 'SP',\n",
    "    7: 'TE',\n",
    "    8: 'PC',\n",
    "    9: 'U9',\n",
    "    10: 'U10',\n",
    "    11: 'U11'\n",
    "}\n",
    "\n",
    "cluster_order = [\n",
    "'SP',\n",
    "'ES',\n",
    "'MS',\n",
    "'LS',\n",
    "'EC',\n",
    "'MC',\n",
    "'LC',\n",
    "'TE',\n",
    "'PC',\n",
    "]\n",
    "\n",
    "clusters = nbconfig.seurat.get_clusters('res.0.6').map(cluster_annot)\n",
    "clusters = clusters[clusters.isin(cluster_order)]\n",
    "clusters = clusters.astype('category').cat.as_ordered()\n",
    "clusters = clusters.cat.reorder_categories(cluster_order)\n",
    "clusters.index.name = 'cell_id'"
   ]
  },
  {
   "cell_type": "code",
   "execution_count": 6,
   "metadata": {},
   "outputs": [],
   "source": [
    "raw = nbconfig.seurat.get_raw()"
   ]
  },
  {
   "cell_type": "code",
   "execution_count": 7,
   "metadata": {},
   "outputs": [],
   "source": [
    "def make_sheet(g, dd):\n",
    "    # merge on gene symbol\n",
    "    _dat = dd.T.join(pd.Series(nbconfig.fbgn2symbol, name='gene'))\n",
    "    _dat.drop('cluster', inplace=True)\n",
    "    _dat.set_index('gene', append=True, inplace=True)\n",
    "\n",
    "    # make flag on\n",
    "    is_on = _dat.sum(axis=1) > 0\n",
    "    _dat = _dat[is_on].copy()\n",
    "    \n",
    "    # Write to a work sheet\n",
    "    _dat.to_csv(f'../output/notebook/2018-11-16_{g}.tsv', sep='\\t')"
   ]
  },
  {
   "cell_type": "code",
   "execution_count": 8,
   "metadata": {},
   "outputs": [],
   "source": [
    "for g, dd in raw.T.join(clusters).groupby('cluster'):\n",
    "    make_sheet(g, dd)"
   ]
  },
  {
   "cell_type": "code",
   "execution_count": null,
   "metadata": {},
   "outputs": [],
   "source": []
  }
 ],
 "metadata": {
  "kernelspec": {
   "display_name": "Python [conda env:larval_gonad]",
   "language": "python",
   "name": "conda-env-larval_gonad-py"
  },
  "language_info": {
   "codemirror_mode": {
    "name": "ipython",
    "version": 3
   },
   "file_extension": ".py",
   "mimetype": "text/x-python",
   "name": "python",
   "nbconvert_exporter": "python",
   "pygments_lexer": "ipython3",
   "version": "3.6.3"
  }
 },
 "nbformat": 4,
 "nbformat_minor": 2
}
