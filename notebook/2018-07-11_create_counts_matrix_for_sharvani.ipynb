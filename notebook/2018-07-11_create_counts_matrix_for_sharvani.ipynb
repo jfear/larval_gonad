{
 "cells": [
  {
   "cell_type": "markdown",
   "metadata": {},
   "source": [
    "# Aggregate Bulk RNA-Seq"
   ]
  },
  {
   "cell_type": "markdown",
   "metadata": {},
   "source": [
    "Sharvani is playing with running DeSeq, but she needs the aggregated counts matrix and sample table. I will do this for both the testis and ovary."
   ]
  },
  {
   "cell_type": "code",
   "execution_count": 1,
   "metadata": {},
   "outputs": [],
   "source": [
    "from pathlib import Path\n",
    "import pandas as pd"
   ]
  },
  {
   "cell_type": "code",
   "execution_count": 2,
   "metadata": {},
   "outputs": [],
   "source": [
    "tdir = Path('/home/fearjm/Projects/larval_gonad/bulk-rnaseq-wf')\n",
    "odir = Path('/home/fearjm/Projects/larval_gonad_ovary/bulk-wf')"
   ]
  },
  {
   "cell_type": "code",
   "execution_count": 3,
   "metadata": {},
   "outputs": [],
   "source": [
    "# counts\n",
    "dfs = []\n",
    "for fname in tdir.glob('data/rnaseq_samples/*/*.featurecounts.txt'):\n",
    "    df = pd.read_csv(fname, sep='\\t', skiprows=1, usecols=[0, 6], index_col=0).iloc[:, 0]\n",
    "    df.name = fname.parent.name\n",
    "    dfs.append(df)\n",
    "    \n",
    "for fname in odir.glob('data/rnaseq_samples/*/*.featurecounts.s2.txt'):\n",
    "    df = pd.read_csv(fname, sep='\\t', skiprows=1, usecols=[0, 6], index_col=0).iloc[:, 0]\n",
    "    df.name = fname.parent.name\n",
    "    dfs.append(df)\n",
    "\n",
    "df = pd.concat(dfs, axis=1)\n",
    "df.to_csv('../output/sharvani_bulk_counts_table.tsv', sep='\\t')"
   ]
  },
  {
   "cell_type": "code",
   "execution_count": 4,
   "metadata": {},
   "outputs": [],
   "source": [
    "# sample table\n",
    "ttable = pd.read_csv(tdir / 'config/sampletable.tsv', sep='\\t', index_col=0)\n",
    "otable = pd.read_csv(odir / 'config/sampletable.tsv', sep='\\t', index_col=0)\n",
    "table = pd.concat([ttable, otable])\n",
    "table.to_csv('../output/sharvani_bulk_sample_table.tsv', sep='\\t')"
   ]
  },
  {
   "cell_type": "code",
   "execution_count": null,
   "metadata": {},
   "outputs": [],
   "source": []
  }
 ],
 "metadata": {
  "kernelspec": {
   "display_name": "Python [conda env:larval_gonad]",
   "language": "python",
   "name": "conda-env-larval_gonad-py"
  },
  "language_info": {
   "codemirror_mode": {
    "name": "ipython",
    "version": 3
   },
   "file_extension": ".py",
   "mimetype": "text/x-python",
   "name": "python",
   "nbconvert_exporter": "python",
   "pygments_lexer": "ipython3",
   "version": "3.6.3"
  }
 },
 "nbformat": 4,
 "nbformat_minor": 2
}
