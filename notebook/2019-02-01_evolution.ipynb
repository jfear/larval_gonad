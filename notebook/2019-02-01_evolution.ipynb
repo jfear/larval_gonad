{
 "cells": [
  {
   "cell_type": "markdown",
   "metadata": {},
   "source": [
    "# Parse New Gene Table"
   ]
  },
  {
   "cell_type": "markdown",
   "metadata": {},
   "source": [
    "**from:** Maria D. Vibranovski\n",
    "\n",
    "Here attached is a list from Yong Zhang group based on our paper from 2010. But this is a still not published updated version that he shared with me but you can use.\n",
    "\n",
    "If you need details about the columns, please look at https://genome.cshlp.org/content/suppl/2010/08/27/gr.107334.110.DC1/SupplementalMaterial.pdf  table 2a.\n",
    "\n",
    "But mainly, what you need to select is the child genes with:\n",
    "\n",
    "gene_type = D or R or DI or RI\n",
    "m_type= M\n",
    "note that contains \"chrX-\"\n",
    "\n",
    "D and R stands for DNA-based Duplication and RNA-based duplication\n",
    "I means that the assignment of the parental genes is less reliable.\n",
    "M indicates that is between chromosome movement.\n",
    "\n",
    "Hope it helps. If you need I can parse for you. please, do not hesitate to ask. But I thought you would prefer a complete list where you can look at subsets.\n",
    "\n",
    "cheers\n",
    "\n",
    "Maria\n"
   ]
  },
  {
   "cell_type": "code",
   "execution_count": null,
   "metadata": {},
   "outputs": [],
   "source": [
    "import os\n",
    "import sys\n",
    "from pathlib import Path\n",
    "import re\n",
    "\n",
    "from IPython.display import display, HTML, Markdown\n",
    "import numpy as np\n",
    "import pandas as pd\n",
    "from scipy.stats import fisher_exact, chi2_contingency\n",
    "from scipy.stats.contingency import margins\n",
    "\n",
    "import matplotlib as mpl\n",
    "import matplotlib.pyplot as plt\n",
    "import seaborn as sns\n",
    "\n",
    "# Project level imports\n",
    "sys.path.insert(0, '../lib')\n",
    "from larval_gonad.notebook import Nb\n",
    "from larval_gonad.plotting import make_figs\n",
    "from larval_gonad.config import memory\n",
    "\n",
    "# Setup notebook\n",
    "nbconfig = Nb.setup_notebook()"
   ]
  },
  {
   "cell_type": "markdown",
   "metadata": {},
   "source": [
    "## Import data from Maria"
   ]
  },
  {
   "cell_type": "markdown",
   "metadata": {},
   "source": [
    "## FBgn sanitizer"
   ]
  },
  {
   "cell_type": "markdown",
   "metadata": {},
   "source": [
    "I don't know where these FBgns are from, so I need to sanitize them to my current annotation."
   ]
  },
  {
   "cell_type": "code",
   "execution_count": null,
   "metadata": {},
   "outputs": [],
   "source": [
    "assembly = nbconfig.assembly\n",
    "tag = nbconfig.tag\n",
    "pth = Path(os.environ['REFERENCES_DIR'], f'{assembly}/{tag}/fb_annotation/{assembly}_{tag}.fb_annotation')\n",
    "\n",
    "# Create an FBgn \n",
    "mapper = {}\n",
    "\n",
    "for record in pd.read_csv(pth, sep='\\t').to_records():\n",
    "    mapper[record.primary_FBgn] = record.primary_FBgn\n",
    "    \n",
    "    try:\n",
    "        for g in record.secondary_FBgn.split(','):\n",
    "            mapper[g] = record.primary_FBgn\n",
    "    except AttributeError:\n",
    "        pass"
   ]
  },
  {
   "cell_type": "code",
   "execution_count": null,
   "metadata": {},
   "outputs": [],
   "source": [
    "movement = (\n",
    "    pd.read_excel('../data/external/maria/dm6_ver78_genetype.new.xlsx')\n",
    "    .query('gene_type == [\"D\", \"R\", \"Dl\", \"Rl\"] and m_type == \"M\"')\n",
    "    .loc[:, [\"child_id\", \"parent_id\", \"note\"]]\n",
    "    .assign(child_chrom = lambda df: df.note.str.extract('(chr.*?)-'))\n",
    "    .assign(parent_chrom = lambda df: df.note.str.extract('-(chr.*?)[:;]'))\n",
    "    .assign(FBgn = lambda df: df.child_id.map(mapper))\n",
    "    .assign(parent_FBgn = lambda df: df.parent_id.map(mapper))\n",
    "    .drop(['child_id', 'parent_id', 'note'], axis=1)\n",
    "    .dropna()\n",
    "    .set_index('FBgn')\n",
    "    .assign(moved_from_x = lambda df: df.parent_chrom == 'chrX')\n",
    "    .assign(moved_from_2L = lambda df: df.parent_chrom == 'chr2L')\n",
    "    .assign(moved_from_2R = lambda df: df.parent_chrom == 'chr2R')\n",
    "    .assign(moved_from_3L = lambda df: df.parent_chrom == 'chr3L')\n",
    "    .assign(moved_from_3R = lambda df: df.parent_chrom == 'chr3R')\n",
    ")\n",
    "\n",
    "movement.head()"
   ]
  },
  {
   "cell_type": "code",
   "execution_count": null,
   "metadata": {},
   "outputs": [],
   "source": [
    "movement.parent_chrom.value_counts()"
   ]
  },
  {
   "cell_type": "code",
   "execution_count": null,
   "metadata": {},
   "outputs": [],
   "source": [
    "movement.child_chrom.value_counts()"
   ]
  },
  {
   "cell_type": "code",
   "execution_count": null,
   "metadata": {},
   "outputs": [],
   "source": [
    "gonia_vs_cytes = (\n",
    "    pd.read_csv('../output/scrnaseq-wf/germcell_deg/gonia_vs_cytes.tsv', sep='\\t')\n",
    "    .assign(FBgn = lambda df: df.primary_FBgn)\n",
    "    .assign(gonia_bias = lambda df: df.avg_logFC > 0)\n",
    "    .assign(cyte_bias = lambda df: df.avg_logFC < 0)\n",
    "    .set_index('FBgn')\n",
    "    .loc[:, ['gonia_bias', 'cyte_bias']]\n",
    ")"
   ]
  },
  {
   "cell_type": "code",
   "execution_count": null,
   "metadata": {},
   "outputs": [],
   "source": [
    "gonia_vs_cytes.gonia_bias.value_counts()"
   ]
  },
  {
   "cell_type": "code",
   "execution_count": null,
   "metadata": {},
   "outputs": [],
   "source": [
    "dat = gonia_vs_cytes.join(movement, how='inner')"
   ]
  },
  {
   "cell_type": "code",
   "execution_count": null,
   "metadata": {},
   "outputs": [],
   "source": [
    "ct = pd.crosstab(dat.moved_from_x, dat.cyte_bias)\n",
    "print('ct')\n",
    "display(ct)\n",
    "\n",
    "_, pval, _, exptedted = chi2_contingency(ct)\n",
    "print('pvale=', pval)\n",
    "\n",
    "expected = pd.DataFrame(expected, columns=ct.columns, index=ct.index)\n",
    "print('--------------------------------------------------------------------------------')\n",
    "print('expected')\n",
    "display(expected)\n",
    "\n",
    "print('--------------------------------------------------------------------------------')\n",
    "print('adjusted residuals')\n",
    "resid = (ct - expected) / np.sqrt(expected)\n",
    "n = ct.sum().sum()\n",
    "rsum, csum = margins(ct)\n",
    "v = csum * rsum * (n - rsum) * (n - csum) / n**3\n",
    "(ct - expected) / np.sqrt(v)"
   ]
  },
  {
   "cell_type": "code",
   "execution_count": null,
   "metadata": {},
   "outputs": [],
   "source": [
    "ct = pd.crosstab(dat.moved_from_2L, dat.cyte_bias)\n",
    "print('ct')\n",
    "display(ct)\n",
    "\n",
    "_, pval, _, exptedted = chi2_contingency(ct)\n",
    "print('pvale=', pval)\n",
    "\n",
    "expected = pd.DataFrame(expected, columns=ct.columns, index=ct.index)\n",
    "print('--------------------------------------------------------------------------------')\n",
    "print('expected')\n",
    "display(expected)\n",
    "\n",
    "print('--------------------------------------------------------------------------------')\n",
    "print('adjusted residuals')\n",
    "resid = (ct - expected) / np.sqrt(expected)\n",
    "n = ct.sum().sum()\n",
    "rsum, csum = margins(ct)\n",
    "v = csum * rsum * (n - rsum) * (n - csum) / n**3\n",
    "(ct - expected) / np.sqrt(v)"
   ]
  },
  {
   "cell_type": "code",
   "execution_count": null,
   "metadata": {},
   "outputs": [],
   "source": [
    "ct = pd.crosstab(dat.moved_from_2R, dat.cyte_bias)\n",
    "print('ct')\n",
    "display(ct)\n",
    "\n",
    "_, pval, _, exptedted = chi2_contingency(ct)\n",
    "print('pvale=', pval)\n",
    "\n",
    "expected = pd.DataFrame(expected, columns=ct.columns, index=ct.index)\n",
    "print('--------------------------------------------------------------------------------')\n",
    "print('expected')\n",
    "display(expected)\n",
    "\n",
    "print('--------------------------------------------------------------------------------')\n",
    "print('adjusted residuals')\n",
    "resid = (ct - expected) / np.sqrt(expected)\n",
    "n = ct.sum().sum()\n",
    "rsum, csum = margins(ct)\n",
    "v = csum * rsum * (n - rsum) * (n - csum) / n**3\n",
    "(ct - expected) / np.sqrt(v)"
   ]
  },
  {
   "cell_type": "code",
   "execution_count": null,
   "metadata": {},
   "outputs": [],
   "source": [
    "ct = pd.crosstab(dat.moved_from_3L, dat.cyte_bias)\n",
    "print('ct')\n",
    "display(ct)\n",
    "\n",
    "_, pval, _, exptedted = chi2_contingency(ct)\n",
    "print('pvale=', pval)\n",
    "\n",
    "expected = pd.DataFrame(expected, columns=ct.columns, index=ct.index)\n",
    "print('--------------------------------------------------------------------------------')\n",
    "print('expected')\n",
    "display(expected)\n",
    "\n",
    "print('--------------------------------------------------------------------------------')\n",
    "print('adjusted residuals')\n",
    "resid = (ct - expected) / np.sqrt(expected)\n",
    "n = ct.sum().sum()\n",
    "rsum, csum = margins(ct)\n",
    "v = csum * rsum * (n - rsum) * (n - csum) / n**3\n",
    "(ct - expected) / np.sqrt(v)"
   ]
  },
  {
   "cell_type": "code",
   "execution_count": null,
   "metadata": {},
   "outputs": [],
   "source": [
    "ct = pd.crosstab(dat.moved_from_3R, dat.cyte_bias)\n",
    "print('ct')\n",
    "display(ct)\n",
    "\n",
    "_, pval, _, exptedted = chi2_contingency(ct)\n",
    "print('pvale=', pval)\n",
    "\n",
    "expected = pd.DataFrame(expected, columns=ct.columns, index=ct.index)\n",
    "print('--------------------------------------------------------------------------------')\n",
    "print('expected')\n",
    "display(expected)\n",
    "\n",
    "print('--------------------------------------------------------------------------------')\n",
    "print('adjusted residuals')\n",
    "resid = (ct - expected) / np.sqrt(expected)\n",
    "n = ct.sum().sum()\n",
    "rsum, csum = margins(ct)\n",
    "v = csum * rsum * (n - rsum) * (n - csum) / n**3\n",
    "(ct - expected) / np.sqrt(v)"
   ]
  },
  {
   "cell_type": "code",
   "execution_count": null,
   "metadata": {
    "lines_to_next_cell": 2
   },
   "outputs": [],
   "source": []
  },
  {
   "cell_type": "code",
   "execution_count": null,
   "metadata": {},
   "outputs": [],
   "source": [
    "germ_vs_soma = (\n",
    "    pd.read_csv('../output/scrnaseq-wf/germcell_soma_deg/germ_vs_soma.tsv', sep='\\t')\n",
    "    .assign(FBgn = lambda df: df.primary_FBgn)\n",
    "    .assign(germ_bias = lambda df: df.avg_logFC > 0)\n",
    "    .assign(soma_bias = lambda df: df.avg_logFC < 0)\n",
    "    .set_index('FBgn')\n",
    "    .loc[:, ['germ_bias', 'soma_bias']]\n",
    ")"
   ]
  },
  {
   "cell_type": "code",
   "execution_count": null,
   "metadata": {},
   "outputs": [],
   "source": [
    "germ_vs_soma.germ_bias.value_counts()"
   ]
  },
  {
   "cell_type": "code",
   "execution_count": null,
   "metadata": {},
   "outputs": [],
   "source": [
    "dat = germ_vs_soma.join(movement, how='inner')"
   ]
  },
  {
   "cell_type": "code",
   "execution_count": null,
   "metadata": {},
   "outputs": [],
   "source": [
    "ct = pd.crosstab(dat.moved_from_x, dat.germ_bias)\n",
    "print('ct')\n",
    "display(ct)\n",
    "\n",
    "_, pval, _, exptedted = chi2_contingency(ct)\n",
    "_, pval = fisher_exact(ct)\n",
    "print('pvale=', pval)\n",
    "\n",
    "expected = pd.DataFrame(expected, columns=ct.columns, index=ct.index)\n",
    "print('--------------------------------------------------------------------------------')\n",
    "print('expected')\n",
    "display(expected)\n",
    "\n",
    "print('--------------------------------------------------------------------------------')\n",
    "print('adjusted residuals')\n",
    "resid = (ct - expected) / np.sqrt(expected)\n",
    "n = ct.sum().sum()\n",
    "rsum, csum = margins(ct)\n",
    "v = csum * rsum * (n - rsum) * (n - csum) / n**3\n",
    "(ct - expected) / np.sqrt(v)"
   ]
  },
  {
   "cell_type": "code",
   "execution_count": null,
   "metadata": {},
   "outputs": [],
   "source": [
    "ct = pd.crosstab(dat.moved_from_2L, dat.germ_bias)\n",
    "print('ct')\n",
    "display(ct)\n",
    "\n",
    "_, pval, _, exptedted = chi2_contingency(ct)\n",
    "print('pvale=', pval)\n",
    "\n",
    "expected = pd.DataFrame(expected, columns=ct.columns, index=ct.index)\n",
    "print('--------------------------------------------------------------------------------')\n",
    "print('expected')\n",
    "display(expected)\n",
    "\n",
    "print('--------------------------------------------------------------------------------')\n",
    "print('adjusted residuals')\n",
    "resid = (ct - expected) / np.sqrt(expected)\n",
    "n = ct.sum().sum()\n",
    "rsum, csum = margins(ct)\n",
    "v = csum * rsum * (n - rsum) * (n - csum) / n**3\n",
    "(ct - expected) / np.sqrt(v)"
   ]
  },
  {
   "cell_type": "code",
   "execution_count": null,
   "metadata": {},
   "outputs": [],
   "source": [
    "ct = pd.crosstab(dat.moved_from_2R, dat.germ_bias)\n",
    "print('ct')\n",
    "display(ct)\n",
    "\n",
    "_, pval, _, exptedted = chi2_contingency(ct)\n",
    "print('pvale=', pval)\n",
    "\n",
    "expected = pd.DataFrame(expected, columns=ct.columns, index=ct.index)\n",
    "print('--------------------------------------------------------------------------------')\n",
    "print('expected')\n",
    "display(expected)\n",
    "\n",
    "print('--------------------------------------------------------------------------------')\n",
    "print('adjusted residuals')\n",
    "resid = (ct - expected) / np.sqrt(expected)\n",
    "n = ct.sum().sum()\n",
    "rsum, csum = margins(ct)\n",
    "v = csum * rsum * (n - rsum) * (n - csum) / n**3\n",
    "(ct - expected) / np.sqrt(v)"
   ]
  },
  {
   "cell_type": "code",
   "execution_count": null,
   "metadata": {},
   "outputs": [],
   "source": [
    "ct = pd.crosstab(dat.moved_from_3L, dat.germ_bias)\n",
    "print('ct')\n",
    "display(ct)\n",
    "\n",
    "_, pval, _, exptedted = chi2_contingency(ct)\n",
    "print('pvale=', pval)\n",
    "\n",
    "expected = pd.DataFrame(expected, columns=ct.columns, index=ct.index)\n",
    "print('--------------------------------------------------------------------------------')\n",
    "print('expected')\n",
    "display(expected)\n",
    "\n",
    "print('--------------------------------------------------------------------------------')\n",
    "print('adjusted residuals')\n",
    "resid = (ct - expected) / np.sqrt(expected)\n",
    "n = ct.sum().sum()\n",
    "rsum, csum = margins(ct)\n",
    "v = csum * rsum * (n - rsum) * (n - csum) / n**3\n",
    "(ct - expected) / np.sqrt(v)"
   ]
  },
  {
   "cell_type": "code",
   "execution_count": null,
   "metadata": {},
   "outputs": [],
   "source": [
    "ct = pd.crosstab(dat.moved_from_3R, dat.germ_bias)\n",
    "print('ct')\n",
    "display(ct)\n",
    "\n",
    "_, pval, _, exptedted = chi2_contingency(ct)\n",
    "print('pvale=', pval)\n",
    "\n",
    "expected = pd.DataFrame(expected, columns=ct.columns, index=ct.index)\n",
    "print('--------------------------------------------------------------------------------')\n",
    "print('expected')\n",
    "display(expected)\n",
    "\n",
    "print('--------------------------------------------------------------------------------')\n",
    "print('adjusted residuals')\n",
    "resid = (ct - expected) / np.sqrt(expected)\n",
    "n = ct.sum().sum()\n",
    "rsum, csum = margins(ct)\n",
    "v = csum * rsum * (n - rsum) * (n - csum) / n**3\n",
    "(ct - expected) / np.sqrt(v)"
   ]
  },
  {
   "cell_type": "code",
   "execution_count": null,
   "metadata": {
    "lines_to_next_cell": 2
   },
   "outputs": [],
   "source": []
  },
  {
   "cell_type": "code",
   "execution_count": null,
   "metadata": {
    "lines_to_next_cell": 2
   },
   "outputs": [],
   "source": []
  },
  {
   "cell_type": "code",
   "execution_count": null,
   "metadata": {
    "lines_to_next_cell": 2
   },
   "outputs": [],
   "source": []
  },
  {
   "cell_type": "code",
   "execution_count": null,
   "metadata": {
    "lines_to_next_cell": 2
   },
   "outputs": [],
   "source": []
  },
  {
   "cell_type": "code",
   "execution_count": null,
   "metadata": {
    "lines_to_next_cell": 2
   },
   "outputs": [],
   "source": []
  },
  {
   "cell_type": "code",
   "execution_count": null,
   "metadata": {
    "lines_to_next_cell": 2
   },
   "outputs": [],
   "source": []
  },
  {
   "cell_type": "code",
   "execution_count": null,
   "metadata": {
    "lines_to_next_cell": 2
   },
   "outputs": [],
   "source": []
  },
  {
   "cell_type": "code",
   "execution_count": null,
   "metadata": {
    "lines_to_next_cell": 2
   },
   "outputs": [],
   "source": []
  },
  {
   "cell_type": "code",
   "execution_count": null,
   "metadata": {
    "lines_to_next_cell": 2
   },
   "outputs": [],
   "source": []
  },
  {
   "cell_type": "code",
   "execution_count": null,
   "metadata": {
    "lines_to_next_cell": 2
   },
   "outputs": [],
   "source": []
  },
  {
   "cell_type": "code",
   "execution_count": null,
   "metadata": {
    "lines_to_next_cell": 2
   },
   "outputs": [],
   "source": []
  }
 ],
 "metadata": {
  "kernelspec": {
   "display_name": "Python [conda env:larval_gonad]",
   "language": "python",
   "name": "conda-env-larval_gonad-py"
  }
 },
 "nbformat": 4,
 "nbformat_minor": 2
}
