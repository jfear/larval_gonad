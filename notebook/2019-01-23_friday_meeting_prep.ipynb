{
 "cells": [
  {
   "cell_type": "markdown",
   "metadata": {},
   "source": [
    "# Friday Meeting Prep"
   ]
  },
  {
   "cell_type": "markdown",
   "metadata": {},
   "source": [
    "I want to report on chromosome expression and X:A in this weeks Friday meeting. Here is where I am developing those plots."
   ]
  },
  {
   "cell_type": "code",
   "execution_count": null,
   "metadata": {},
   "outputs": [],
   "source": [
    "import os\n",
    "import sys\n",
    "import re\n",
    "from pathlib import Path\n",
    "\n",
    "from IPython.display import display, HTML, Markdown\n",
    "import numpy as np\n",
    "import pandas as pd\n",
    "from scipy.stats import spearmanr, mannwhitneyu\n",
    "\n",
    "import matplotlib as mpl\n",
    "import matplotlib.pyplot as plt\n",
    "import seaborn as sns\n",
    "\n",
    "# Project level imports\n",
    "from larval_gonad.notebook import Nb"
   ]
  },
  {
   "cell_type": "code",
   "execution_count": null,
   "metadata": {
    "lines_to_next_cell": 1
   },
   "outputs": [],
   "source": [
    "# Setup notebook\n",
    "nbconfig = Nb.setup_notebook(seurat_dir='../output/scrnaseq-wf/scrnaseq_combine_force')"
   ]
  },
  {
   "cell_type": "code",
   "execution_count": null,
   "metadata": {
    "lines_to_next_cell": 1
   },
   "outputs": [],
   "source": [
    "def read_fbgn2chrom():\n",
    "    mapper = {\n",
    "        'chrX': 'X',\n",
    "        'chrY': 'Y',\n",
    "        'chr4': '4',\n",
    "        'chr2L': 'A',\n",
    "        'chr2R': 'A',\n",
    "        'chr3L': 'A',\n",
    "        'chr3R': 'A',\n",
    "    }\n",
    "\n",
    "    fbgn2chrom = (pd.read_csv('../output/fbgn2chrom.tsv', sep='\\t', index_col=0)\n",
    "                      .query('chrom != \"chrM\"')\n",
    "                      .chrom.map(mapper)\n",
    "                      .astype('category')\n",
    "                      .cat.as_ordered()\n",
    "                 )\n",
    "    \n",
    "    return fbgn2chrom.cat.reorder_categories(['X', 'A', 'Y', '4'])\n",
    "\n",
    "\n",
    "def read_clusters():\n",
    "    clusters = nbconfig.seurat.get_clusters('res.0.6').map(nbconfig.short_cluster_annot)\n",
    "    clusters = clusters[clusters != 'UNK'].copy()\n",
    "    return clusters.astype('category').cat.as_ordered().cat.reorder_categories(nbconfig.short_cluster_order)\n",
    "\n",
    "\n",
    "def read_raw(rep2):\n",
    "    raw = nbconfig.seurat.get_raw()\n",
    "    if rep2:\n",
    "        raw = raw.loc[:, raw.columns.str.startswith('rep2')].copy()\n",
    "        \n",
    "    return raw\n",
    "        \n",
    "    \n",
    "def read_gene_length(): \n",
    "    gene_lengths = pd.read_csv('../output/gene_ts_lengths.tsv', sep='\\t', index_col=0).gene_ts_length\n",
    "    gene_lengths.name = 'gene_length'\n",
    "    return gene_lengths\n",
    "    \n",
    "    \n",
    "def read_tpm(rep2):\n",
    "    from larval_gonad.normalization import tpm\n",
    "    raw = read_raw(rep2)\n",
    "    gene_lengths = read_gene_length()\n",
    "    return tpm(raw, gene_lengths).dropna()\n",
    "    \n",
    "def get_rep(wide):    \n",
    "    rep = wide.columns.str.extract('(?P<rep>rep\\d)').rep\n",
    "    rep.index = wide.columns\n",
    "    return rep\n",
    "    \n",
    "def read_data(rep2=False, tpm=False):\n",
    "    fbgn2chrom = read_fbgn2chrom()\n",
    "    clusters = read_clusters()\n",
    "    \n",
    "    if tpm:\n",
    "        data = read_tpm(rep2)\n",
    "        value_name = 'TPM'\n",
    "    else:\n",
    "        data = read_raw(rep2)\n",
    "        value_name = 'UMI'\n",
    "    \n",
    "    # Munge together\n",
    "    rep = get_rep(data)\n",
    "    melted = data.reset_index().melt(id_vars='FBgn', value_name=value_name)\n",
    "    return melted.join(clusters, on='cell_id').join(fbgn2chrom, on='FBgn').join(rep, on='cell_id')"
   ]
  },
  {
   "cell_type": "markdown",
   "metadata": {},
   "source": [
    "## Data Prep"
   ]
  },
  {
   "cell_type": "code",
   "execution_count": null,
   "metadata": {},
   "outputs": [],
   "source": [
    "df = read_data()"
   ]
  },
  {
   "cell_type": "code",
   "execution_count": null,
   "metadata": {},
   "outputs": [],
   "source": [
    "fbgn2chrom = read_fbgn2chrom()\n",
    "fbgn2chrom = fbgn2chrom.reindex(df.FBgn.unique())\n",
    "num_genes_by_chrom = fbgn2chrom.value_counts()"
   ]
  },
  {
   "cell_type": "code",
   "execution_count": null,
   "metadata": {},
   "outputs": [],
   "source": [
    "total_reads_per_chrom_by_cell = df.groupby(['cell_id', 'chrom']).UMI.sum()\n",
    "total_reads_per_cell = df.groupby(['cell_id']).UMI.sum()"
   ]
  },
  {
   "cell_type": "code",
   "execution_count": null,
   "metadata": {},
   "outputs": [],
   "source": [
    "norm_cnts = (\n",
    "    total_reads_per_chrom_by_cell\n",
    "        .div(num_genes_by_chrom / 1e3, level='chrom')\n",
    "        .div(total_reads_per_cell / 1e3, level='cell_id')\n",
    "        .to_frame()\n",
    ")\n",
    "norm_cnts.columns = ['norm_cnt']\n",
    "\n",
    "norm_cnts = (\n",
    "    norm_cnts\n",
    "        .join(read_clusters(), on='cell_id')\n",
    "        .reset_index()\n",
    ")\n",
    "norm_cnts = norm_cnts.join(norm_cnts.cell_id.str.extract('(?P<rep>rep\\d)'))\n",
    "\n",
    "norm_cnts.chrom = (\n",
    "    norm_cnts.chrom\n",
    "        .astype('category')\n",
    "        .cat.as_ordered()\n",
    "        .cat.reorder_categories(['X', 'A', 'Y', '4'])\n",
    ")"
   ]
  },
  {
   "cell_type": "markdown",
   "metadata": {},
   "source": [
    "## Cell level chromosome coverage"
   ]
  },
  {
   "cell_type": "code",
   "execution_count": null,
   "metadata": {},
   "outputs": [],
   "source": [
    "g = sns.FacetGrid(norm_cnts, col='chrom', col_wrap=2, sharey=False)\n",
    "g.map(\n",
    "    sns.barplot, \n",
    "    'cluster', \n",
    "    'norm_cnt', \n",
    "    order=nbconfig.short_cluster_order, \n",
    "    palette=nbconfig.colors['clusters'],\n",
    "    estimator=np.mean,\n",
    "    errwidth=1,\n",
    "    capsize=.2\n",
    ")"
   ]
  },
  {
   "cell_type": "markdown",
   "metadata": {},
   "source": [
    "# Rep level chromosome coverage"
   ]
  },
  {
   "cell_type": "code",
   "execution_count": null,
   "metadata": {},
   "outputs": [],
   "source": [
    "dat = norm_cnts.groupby(['cluster', 'rep', 'chrom']).norm_cnt.median().to_frame().reset_index()"
   ]
  },
  {
   "cell_type": "code",
   "execution_count": null,
   "metadata": {},
   "outputs": [],
   "source": [
    "g = sns.FacetGrid(dat, col='chrom', col_wrap=2, sharey=False)\n",
    "g.map(\n",
    "    sns.barplot, \n",
    "    'cluster', \n",
    "    'norm_cnt', \n",
    "    order=nbconfig.short_cluster_order, \n",
    "    palette=nbconfig.colors['clusters'],\n",
    "    estimator=np.mean,\n",
    "    errwidth=1,\n",
    "    capsize=.2\n",
    ")"
   ]
  },
  {
   "cell_type": "code",
   "execution_count": null,
   "metadata": {
    "lines_to_next_cell": 2
   },
   "outputs": [],
   "source": []
  },
  {
   "cell_type": "code",
   "execution_count": null,
   "metadata": {
    "lines_to_next_cell": 2
   },
   "outputs": [],
   "source": []
  },
  {
   "cell_type": "markdown",
   "metadata": {},
   "source": [
    "## Missingness is still problematic"
   ]
  },
  {
   "cell_type": "code",
   "execution_count": null,
   "metadata": {},
   "outputs": [],
   "source": [
    "df['missing'] = (df.UMI == 0).values"
   ]
  },
  {
   "cell_type": "markdown",
   "metadata": {},
   "source": [
    "### Missingness by cluster"
   ]
  },
  {
   "cell_type": "code",
   "execution_count": null,
   "metadata": {},
   "outputs": [],
   "source": [
    "missing_per_cell = df.groupby(['cell_id', 'cluster']).missing.sum().div(num_genes_by_chrom.sum(), level='chrom')\n",
    "missing_per_cell.name = 'prop_missing'"
   ]
  },
  {
   "cell_type": "code",
   "execution_count": null,
   "metadata": {},
   "outputs": [],
   "source": [
    "dat = missing_per_cell.reset_index()\n",
    "ax = sns.boxplot('cluster', 'prop_missing', data=dat, flierprops=dict(alpha=.5), palette=nbconfig.colors['clusters'])\n",
    "#plt.setp(ax.artists, edgecolor='k', facecolor='w')\n",
    "#plt.setp(ax.lines, color='k');"
   ]
  },
  {
   "cell_type": "markdown",
   "metadata": {},
   "source": [
    "### Missingness by cluster by chromosome"
   ]
  },
  {
   "cell_type": "code",
   "execution_count": null,
   "metadata": {},
   "outputs": [],
   "source": [
    "missing_per_cell_per_chrom = df.groupby(['cell_id', 'cluster', 'chrom']).missing.sum().div(num_genes_by_chrom, level='chrom')\n",
    "missing_per_cell_per_chrom.name = 'prop_missing'"
   ]
  },
  {
   "cell_type": "code",
   "execution_count": null,
   "metadata": {
    "lines_to_next_cell": 2
   },
   "outputs": [],
   "source": [
    "dat = missing_per_cell_per_chrom.reset_index()\n",
    "\n",
    "g = sns.FacetGrid(dat, col='cluster', col_wrap=4)\n",
    "g.map(\n",
    "    sns.boxplot,\n",
    "    'chrom',\n",
    "    'prop_missing',\n",
    "    order=['X', 'A', 'Y', '4'],\n",
    "    flierprops=dict(alpha=.5)\n",
    ")\n",
    "\n",
    "for ax in g.axes:\n",
    "    plt.setp(ax.artists, edgecolor='k', facecolor='w')\n",
    "    plt.setp(ax.lines, color='k')"
   ]
  },
  {
   "cell_type": "markdown",
   "metadata": {},
   "source": [
    "### Missingness is correlated between X and A"
   ]
  },
  {
   "cell_type": "code",
   "execution_count": null,
   "metadata": {
    "lines_to_next_cell": 1
   },
   "outputs": [],
   "source": [
    "dat = missing_per_cell_per_chrom.to_frame().query('chrom == \"X\" | chrom == \"A\"').unstack()\n",
    "dat.columns = ['prop_X_missing', 'prop_A_missing']\n",
    "dat.reset_index(inplace=True)"
   ]
  },
  {
   "cell_type": "code",
   "execution_count": null,
   "metadata": {},
   "outputs": [],
   "source": [
    "def add_rho(color, marker, data):\n",
    "    cluster = data.cluster.values[0]\n",
    "    corr = spearmanr(data.prop_X_missing, data.prop_A_missing)[0]\n",
    "    ax = plt.gca()\n",
    "    ax.text(0.1, .9, f'r = {np.round(corr, 4)}', fontsize=12)\n",
    "    \n",
    "g = sns.lmplot(\n",
    "    'prop_X_missing', \n",
    "    'prop_A_missing', \n",
    "    dat, \n",
    "    col='cluster', \n",
    "    col_wrap=4, \n",
    "    size=3, \n",
    "    scatter_kws=dict(alpha=.5),\n",
    ")\n",
    "\n",
    "g.set(xlim=(0, 1), ylim=(0, 1))\n",
    "g.map_dataframe(add_rho)\n",
    "g.set_xlabels('Prop X Missing')\n",
    "g.set_ylabels('Prop A Missing')"
   ]
  },
  {
   "cell_type": "code",
   "execution_count": null,
   "metadata": {
    "lines_to_next_cell": 2
   },
   "outputs": [],
   "source": []
  },
  {
   "cell_type": "markdown",
   "metadata": {},
   "source": [
    "### Permutation Test"
   ]
  },
  {
   "cell_type": "code",
   "execution_count": null,
   "metadata": {},
   "outputs": [],
   "source": [
    "cell_ids = []\n",
    "flags = []\n",
    "for cell_id, dd in df.groupby('cell_id'):\n",
    "    x_data = dd[dd.chrom == \"X\"].UMI.values\n",
    "    x_data = x_data[x_data > 0]\n",
    "    a_data = dd[dd.chrom == \"X\"].UMI.values\n",
    "    a_data = a_data[a_data > 0]\n",
    "    _, p_value = mannwhitneyu(x_data, a_data, alternative='less')\n",
    "    \n",
    "    if p_value <= 0.05:\n",
    "        flags.append(True)\n",
    "    else:\n",
    "        flags.append(False)\n",
    "        \n",
    "    cell_ids.append(cell_id)\n",
    "\n",
    "flag_x_lt_a = pd.Series(flags, index=cell_ids, name='flag_x_lt_a')"
   ]
  },
  {
   "cell_type": "code",
   "execution_count": null,
   "metadata": {},
   "outputs": [],
   "source": [
    "flag_w_cluster = pd.concat([flag_x_lt_a, read_clusters()], axis=1, sort=True)"
   ]
  },
  {
   "cell_type": "code",
   "execution_count": null,
   "metadata": {},
   "outputs": [],
   "source": [
    "flag_w_cluster.groupby('cluster').flag_x_lt_a.sum()"
   ]
  },
  {
   "cell_type": "code",
   "execution_count": null,
   "metadata": {
    "lines_to_next_cell": 2
   },
   "outputs": [],
   "source": []
  },
  {
   "cell_type": "code",
   "execution_count": null,
   "metadata": {
    "lines_to_next_cell": 2
   },
   "outputs": [],
   "source": []
  },
  {
   "cell_type": "code",
   "execution_count": null,
   "metadata": {},
   "outputs": [],
   "source": [
    "# Get the proportion of cells with depelete X chromosome expression\n",
    "results = []\n",
    "for cell_id, dd in raw_melted_expressed_w_chrom.groupby('cell_id'):\n",
    "    if dd.chrom.unique().shape[0] == 1:\n",
    "        continue\n",
    "        \n",
    "    x_genes = dd.query('chrom == \"X\"').UMI.values\n",
    "    a_genes = dd.query('chrom == \"A\"').UMI.values\n",
    "\n",
    "    if x_genes.shape[0] < 100 and a_genes.shape[0] < 100:\n",
    "        results.append((cell_id, np.nan))\n",
    "        continue\n",
    "\n",
    "    stat, p_value = mannwhitneyu(x_genes, a_genes, alternative='less')\n",
    "    if p_value < 0.05:\n",
    "        results.append((cell_id, True))\n",
    "    else:\n",
    "        results.append((cell_id, False))\n",
    "\n",
    "flag_depleted = pd.DataFrame(results, columns=['cell_id', 'flag_depleted']).set_index('cell_id').flag_depleted\n",
    "flag_depleted.value_counts()"
   ]
  },
  {
   "cell_type": "code",
   "execution_count": null,
   "metadata": {
    "lines_to_next_cell": 2
   },
   "outputs": [],
   "source": []
  },
  {
   "cell_type": "code",
   "execution_count": null,
   "metadata": {
    "lines_to_next_cell": 2
   },
   "outputs": [],
   "source": []
  },
  {
   "cell_type": "code",
   "execution_count": null,
   "metadata": {
    "lines_to_next_cell": 2
   },
   "outputs": [],
   "source": []
  },
  {
   "cell_type": "code",
   "execution_count": null,
   "metadata": {
    "lines_to_next_cell": 2
   },
   "outputs": [],
   "source": []
  },
  {
   "cell_type": "code",
   "execution_count": null,
   "metadata": {
    "lines_to_next_cell": 2
   },
   "outputs": [],
   "source": []
  },
  {
   "cell_type": "code",
   "execution_count": null,
   "metadata": {
    "lines_to_next_cell": 2
   },
   "outputs": [],
   "source": []
  },
  {
   "cell_type": "code",
   "execution_count": null,
   "metadata": {
    "lines_to_next_cell": 2
   },
   "outputs": [],
   "source": []
  },
  {
   "cell_type": "code",
   "execution_count": null,
   "metadata": {
    "lines_to_next_cell": 2
   },
   "outputs": [],
   "source": []
  },
  {
   "cell_type": "code",
   "execution_count": null,
   "metadata": {
    "lines_to_next_cell": 2
   },
   "outputs": [],
   "source": []
  }
 ],
 "metadata": {
  "kernelspec": {
   "display_name": "Python [conda env:larval_gonad]",
   "language": "python",
   "name": "conda-env-larval_gonad-py"
  }
 },
 "nbformat": 4,
 "nbformat_minor": 2
}
