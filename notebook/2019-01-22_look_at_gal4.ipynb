{
 "cells": [
  {
   "cell_type": "markdown",
   "metadata": {},
   "source": [
    "# First Look at Gal4s"
   ]
  },
  {
   "cell_type": "markdown",
   "metadata": {},
   "source": [
    "Sharvani has gone through and scored various gal4 lines and I need to figure out what Gal4s are present in the scRNA-Seq data and in what clusters."
   ]
  },
  {
   "cell_type": "code",
   "execution_count": null,
   "metadata": {},
   "outputs": [],
   "source": [
    "import os\n",
    "import sys\n",
    "import re\n",
    "from pathlib import Path\n",
    "from io import StringIO\n",
    "\n",
    "from IPython.display import display, HTML, Markdown\n",
    "import numpy as np\n",
    "import pandas as pd\n",
    "\n",
    "import matplotlib as mpl\n",
    "import matplotlib.pyplot as plt\n",
    "import seaborn as sns\n",
    "\n",
    "# Project level imports\n",
    "from larval_gonad.notebook import Nb"
   ]
  },
  {
   "cell_type": "code",
   "execution_count": null,
   "metadata": {},
   "outputs": [],
   "source": [
    "# Setup notebook\n",
    "#nbconfig = Nb.setup_notebook(seurat_dir='../output/scrnaseq-wf/scrnaseq_combine_force')\n",
    "nbconfig = Nb.setup_notebook(seurat_dir='/data/fearjm/local_data_store/larval_gonad/output/scrnaseq-wf/scrnaseq_combine_force/')"
   ]
  },
  {
   "cell_type": "code",
   "execution_count": null,
   "metadata": {},
   "outputs": [],
   "source": [
    "# create a fbgn2symbol where symbol has '-RNA' appended\n",
    "fbgn2symbol_RNA = pd.Series([f'{x}-RNA' for x in nbconfig.fbgn2symbol.values()], index=pd.Index(nbconfig.fbgn2symbol.keys(), name='FBgn'), name= 'gene_symbol')"
   ]
  },
  {
   "cell_type": "code",
   "execution_count": null,
   "metadata": {},
   "outputs": [],
   "source": [
    "# Read in zscores\n",
    "zscore_by_cluster = pd.read_parquet('/data/fearjm/local_data_store/larval_gonad/output/scrnaseq-wf/tpm_zscore.parquet')[nbconfig.sel_cluster_order]\n",
    "zscore_by_cluster.columns = ['SP',  'ES',  'MS', 'LS',  'EC',  'MC', 'LC',  'TE',  'PC']\n",
    "zscore_by_cluster = zscore_by_cluster.join(fbgn2symbol_RNA)"
   ]
  },
  {
   "cell_type": "code",
   "execution_count": null,
   "metadata": {},
   "outputs": [],
   "source": [
    "# Read in Gal4\n",
    "gal4_str=\"\"\"\n",
    "bloomington_stocks\t\tgene_symbol\tSP\tES\tMS\tLS\tEC\tMC\tLC\tTE\tPC\tHub\n",
    "63356\t\tCG11658\t0\t0\t0\t0\t1\t1\t1\t0\t0\t0\n",
    "65692\t\tNotum\t0\t0\t0\t0\t2\t0\t0\t0\t0\t2\n",
    "49662\t\tCadN\t0\t0\t0\t0\t0\t0\t0\t0\t0\t2\n",
    "62573\t\tTsp74F\t0\t0\t0\t0\t2\t2\t2\t0\t0\t2\n",
    "63887\t\tsano\t0\t0\t0\t0\t2\t2\t2\t0\t0\t0\n",
    "65690\t\trau\t0\t0\t0\t0\t0\t1\t1\t0\t0\t0\n",
    "65516\t\ttrn\t0\t0\t0\t0\t0\t1\t1\t0\t0\t0\n",
    "62587\t\tIrk1\t0\t2\t2\t2\t2\t2\t2\t2\t0\t2\n",
    "62607\t\tbnl\t0\t0\t0\t0\t0\t1\t1\t0\t0\t2\n",
    "63731\t\thng3\t0\t0\t0\t0\t2\t2\t2\t0\t0\t0\n",
    "62609\t\tqjt\t0\t0\t0\t0\t2\t0\t0\t0\t0\t0\n",
    "62708\t\tqin\t0\t0\t0\t0\t1\t0\t0\t0\t0\t\n",
    "63304\t\tmael\t0\t0\t0\t0\t2\t0\t0\t0\t0\t0\n",
    "64689\t\tCG31644\t0\t0\t0\t0\t1\t0\t1\t0\t0\t0\n",
    "28849\t\tsvp\t0\t0\t0\t0\t2\t2\t2\t0\t0\t0\n",
    "63510\t\tMeltrin\t0\t0\t0\t0\t0\t1\t1\t0\t0\t0\n",
    "63387\t\tFili\t0\t0\t0\t0\t0\t1\t1\t0\t0\t0\n",
    "63399\t\tPapss\t0\t0\t0\t0\t0\t1\t1\t0\t0\t0\n",
    "62810\t\tAdamTS-A\t0\t0\t0\t0\t1\t0\t0\t0\t0\t0\n",
    "65506\t\tcdi\t0\t0\t0\t0\t1\t1\t1\t0\t0\t0\n",
    "48881\t\teya\t0\t0\t0\t0\t1\t1\t1\t0\t0\t0\n",
    "\"\"\"\n",
    "\n",
    "gal4 = pd.read_csv(StringIO(gal4_str), sep='\\t', usecols=['gene_symbol', 'SP', 'ES', 'MS', 'LS', 'EC', 'MC', 'LC', 'TE', 'PC'])\n",
    "gal4.index = pd.Index(gal4.gene_symbol.map(nbconfig.symbol2fbgn).values, name='FBgn')\n",
    "gal4['gene_symbol'] = [f'{x}-gal4' for x in gal4.gene_symbol]\n",
    "gal4_data = gal4.set_index('gene_symbol', append=True)"
   ]
  },
  {
   "cell_type": "code",
   "execution_count": null,
   "metadata": {},
   "outputs": [],
   "source": [
    "rna_data = zscore_by_cluster.reindex(gal4.index).set_index('gene_symbol', append=True)\n",
    "data = pd.concat([rna_data, gal4_data])\n",
    "data.index = data.index.droplevel(0)"
   ]
  },
  {
   "cell_type": "code",
   "execution_count": null,
   "metadata": {},
   "outputs": [],
   "source": [
    "# Plot\n",
    "fig = plt.figure(figsize=(10, 15))\n",
    "sns.heatmap(data.sort_index(), cmap='viridis', xticklabels=True, yticklabels=True, vmin=0, vmax=3, cbar=False)\n",
    "plt.title('Gal4 Expression')\n",
    "\n",
    "ax = plt.gca()\n",
    "\n",
    "loc = 2\n",
    "for i in range(20):\n",
    "    ax.axhline(loc, color='w', lw=1)\n",
    "    loc+=2\n",
    "    \n",
    "    \n",
    "ax.axvline(4, color='w', lw=1)\n",
    "ax.axvline(7, color='w', lw=1)"
   ]
  },
  {
   "cell_type": "code",
   "execution_count": null,
   "metadata": {},
   "outputs": [],
   "source": [
    "t2a_str = \"\"\"\n",
    "bloomington_stock_number\t\tgene_symbol\tSP\tES\tMS\tLS\tEC\tMC\tLC\tTE\tPC\tHub\n",
    "76191\t\tvari\t0\t0\t0\t0\t1\t1\t1\t0\t0\t0\n",
    "67472\t\tCG42458\t0\t0\t0\t0\t0\t2\t2\t1\t0\t0\n",
    "67449\t\tWnt4\t0\t0\t0\t0\t0\t2\t2\t0\t0\t0\n",
    "67509\t\tEaf\t1\t1\t1\t1\t1\t1\t1\t0\t0\t0\n",
    "76159\t\tZasp52\t0\t0\t0\t0\t2\t1\t1\t0\t0\t0\n",
    "76164\t\tSu(var)2-10\t2\t2\t2\t2\t0\t0\t0\t0\t0\t0\n",
    "76168\t\tGEFmeso\t2\t2\t2\t2\t2\t2\t2\t2\t0\t0\n",
    "77475\t\tths\t0\t0\t0\t0\t1\t1\t1\t0\t0\t0\n",
    "76157\t\tpk\t0\t0\t0\t0\t2\t2\t2\t0\t0\t0\n",
    "76757\t\trdo\t0\t0\t0\t0\t1\t0\t0\t0\t2\t0\n",
    "76193\t\tbin3\t0\t2\t2\t2\t0\t0\t0\t0\t0\t0\n",
    "76181\t\tCG2082\t0\t0\t0\t0\t1\t0\t0\t0\t0\t0\n",
    "76222\t\tKhc-73\t2\t2\t2\t2\t0\t0\t0\t0\t0\t0\n",
    "67448\t\tFER\t0\t0\t0\t0\t2\t2\t2\t0\t0\t2\n",
    "76770\t\tCG31075\t0\t0\t0\t0\t0\t1\t1\t0\t0\t0\n",
    "76739\t\tQC\t0\t0\t0\t0\t2\t2\t2\t0\t0\t2\n",
    "66830\t\tdally\t0\t0\t0\t0\t2\t1\t1\t0\t0\t2\n",
    "66856\t\tCG11658\t0\t0\t0\t0\t2\t2\t2\t0\t0\t2\n",
    "76230\t\tPyK\t0\t2\t2\t2\t0\t0\t0\t0\t0\t0\n",
    "76678\t\tPH4alphaEFB\t0\t0\t0\t0\t2\t2\t2\t0\t0\t2\n",
    "66785\t\tIno80\t2\t2\t2\t2\t0\t0\t0\t0\t0\t0\n",
    "\t\tRasGAP1\t0\t0\t0\t0\t2\t2\t2\t2\t0\t2\n",
    "\"\"\"\n",
    "\n",
    "t2a = pd.read_csv(StringIO(t2a_str), sep='\\t', usecols=['gene_symbol', 'SP', 'ES', 'MS', 'LS', 'EC', 'MC', 'LC', 'TE', 'PC'])\n",
    "t2a.index = pd.Index(t2a.gene_symbol.map(nbconfig.symbol2fbgn).values, name='FBgn')\n",
    "t2a['gene_symbol'] = [f'{x}-t2a' for x in t2a.gene_symbol]\n",
    "t2a_data = t2a.set_index('gene_symbol', append=True)"
   ]
  },
  {
   "cell_type": "code",
   "execution_count": null,
   "metadata": {},
   "outputs": [],
   "source": [
    "rna_data = zscore_by_cluster.reindex(t2a.index).set_index('gene_symbol', append=True)\n",
    "data = pd.concat([rna_data, t2a_data])\n",
    "data.index = data.index.droplevel(0)"
   ]
  },
  {
   "cell_type": "code",
   "execution_count": null,
   "metadata": {},
   "outputs": [],
   "source": [
    "# Plot\n",
    "fig = plt.figure(figsize=(10, 15))\n",
    "sns.heatmap(data.sort_index(), cmap='viridis', xticklabels=True, yticklabels=True, vmin=0, vmax=3, cbar=False)\n",
    "plt.title('T2A Expression')\n",
    "\n",
    "ax = plt.gca()\n",
    "\n",
    "loc = 2\n",
    "for i in range(21):\n",
    "    ax.axhline(loc, color='w', lw=1)\n",
    "    loc+=2\n",
    "    \n",
    "    \n",
    "ax.axvline(4, color='w', lw=1)\n",
    "ax.axvline(7, color='w', lw=1)"
   ]
  },
  {
   "cell_type": "code",
   "execution_count": null,
   "metadata": {},
   "outputs": [],
   "source": [
    "ben_str = \"\"\"\n",
    "stock number\t\tgene_symbol\tSP\tES\tMS\tLS\tEC\tMC\tLC\tTE\tPC\tHub\n",
    "1946\t\tCG2187\t0\t0\t0\t0\t2\t0\t0\t0\t0\t\n",
    "1808\t\tCrzR\t0\t0\t0\t0\t2\t1\t0\t0\t0\t2\n",
    "1758\t\tDh31-R\t0\t0\t0\t0\t1\t0\t0\t0\t0\t0\n",
    "#1719\t\tEH\t\t\t\t\t\t\t\t\t\t\n",
    "#1704\t\tEHR\t0\t0\t0\t0\t1\t1\t1\t0\t0\t0\n",
    "1717\t\tLgr1\t0\t0\t0\t0\t1\t1\t1\t10\t0\t0\n",
    "1660\t\tPburs\t0\t0\t0\t0\t0\t1\t1\t0\t0\t0\n",
    "\"\"\"\n",
    "\n",
    "ben = pd.read_csv(StringIO(ben_str), sep='\\t', usecols=['gene_symbol', 'SP', 'ES', 'MS', 'LS', 'EC', 'MC', 'LC', 'TE', 'PC'], comment='#')\n",
    "ben.index = pd.Index(ben.gene_symbol.map(nbconfig.symbol2fbgn).values, name='FBgn')\n",
    "ben['gene_symbol'] = [f'{x}-t2a' for x in ben.gene_symbol]"
   ]
  },
  {
   "cell_type": "code",
   "execution_count": null,
   "metadata": {},
   "outputs": [],
   "source": [
    "ben"
   ]
  },
  {
   "cell_type": "code",
   "execution_count": null,
   "metadata": {},
   "outputs": [],
   "source": [
    "rna = zscore_by_cluster.reindex(ben.index).dropna()\n",
    "ben = ben.reindex(rna.index).dropna()"
   ]
  },
  {
   "cell_type": "code",
   "execution_count": null,
   "metadata": {},
   "outputs": [],
   "source": [
    "ben_data = ben.set_index('gene_symbol', append=True)\n",
    "rna_data = rna.set_index('gene_symbol', append=True)"
   ]
  },
  {
   "cell_type": "code",
   "execution_count": null,
   "metadata": {},
   "outputs": [],
   "source": [
    "data = pd.concat([rna_data, ben_data])\n",
    "data.index = data.index.droplevel(0)"
   ]
  },
  {
   "cell_type": "code",
   "execution_count": null,
   "metadata": {},
   "outputs": [],
   "source": [
    "# Plot\n",
    "fig = plt.figure(figsize=(10, 15))\n",
    "sns.heatmap(data.sort_index(), cmap='viridis', xticklabels=True, yticklabels=True, vmin=0, vmax=3, cbar=False)\n",
    "plt.title('Ben White Expression')\n",
    "\n",
    "ax = plt.gca()\n",
    "\n",
    "loc = 2\n",
    "for i in range(20):\n",
    "    ax.axhline(loc, color='w', lw=1)\n",
    "    loc+=2\n",
    "    \n",
    "    \n",
    "ax.axvline(4, color='w', lw=1)\n",
    "ax.axvline(7, color='w', lw=1)"
   ]
  },
  {
   "cell_type": "code",
   "execution_count": null,
   "metadata": {},
   "outputs": [],
   "source": [
    "\n"
   ]
  },
  {
   "cell_type": "code",
   "execution_count": null,
   "metadata": {},
   "outputs": [],
   "source": [
    "\n"
   ]
  },
  {
   "cell_type": "code",
   "execution_count": null,
   "metadata": {},
   "outputs": [],
   "source": [
    "\n"
   ]
  },
  {
   "cell_type": "code",
   "execution_count": null,
   "metadata": {},
   "outputs": [],
   "source": [
    "\n"
   ]
  },
  {
   "cell_type": "code",
   "execution_count": null,
   "metadata": {
    "lines_to_next_cell": 2
   },
   "outputs": [],
   "source": [
    "\n"
   ]
  }
 ],
 "metadata": {
  "kernelspec": {
   "display_name": "Python [conda env:larval_gonad]",
   "language": "python",
   "name": "conda-env-larval_gonad-py"
  }
 },
 "nbformat": 4,
 "nbformat_minor": 2
}
