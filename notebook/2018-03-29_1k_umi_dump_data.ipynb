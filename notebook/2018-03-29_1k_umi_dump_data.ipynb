{
 "cells": [
  {
   "cell_type": "markdown",
   "metadata": {},
   "source": [
    "# Dump 1000 UMI cutoff"
   ]
  },
  {
   "cell_type": "code",
   "execution_count": 6,
   "metadata": {},
   "outputs": [
    {
     "name": "stdout",
     "output_type": "stream",
     "text": [
      "last updated: 2018-03-29 \n",
      "Git hash: f801087de045aa9513181cc6ad771b9c12b12309\n"
     ]
    }
   ],
   "source": [
    "import os\n",
    "import sys\n",
    "from pathlib import Path\n",
    "\n",
    "from IPython.display import display, HTML, Markdown\n",
    "import numpy as np\n",
    "import pandas as pd\n",
    "\n",
    "import matplotlib as mpl\n",
    "import matplotlib.pyplot as plt\n",
    "import seaborn as sns\n",
    "\n",
    "# Project level imports\n",
    "sys.path.insert(0, '../lib')\n",
    "from larval_gonad.notebook import Nb\n",
    "from larval_gonad.plotting import make_figs\n",
    "from larval_gonad.config import memory\n",
    "from larval_gonad.cell_selection import cellranger_counts, filter_gene_counts_by_barcode\n",
    "\n",
    "# Setup notebook\n",
    "nbconfig = Nb.setup_notebook('2018-03-29_1k_umi_dump_data', subproject_dir='../output/testis_cell_selection')"
   ]
  },
  {
   "cell_type": "code",
   "execution_count": 16,
   "metadata": {},
   "outputs": [],
   "source": [
    "def dump(testis):\n",
    "    fname = nbconfig.table_name(f'{testis}_raw_counts.tsv')\n",
    "    umi = pd.read_parquet(f'../output/{testis}/larval_umi.parquet')\n",
    "    raw = cellranger_counts(f'../output/{testis}/outs/raw_gene_bc_matrices_h5.h5')\n",
    "    \n",
    "    idx = umi.query('umi_count >= 1000').index\n",
    "    dat = filter_gene_counts_by_barcode(idx, raw)\n",
    "    \n",
    "    dat.to_csv(fname, sep='\\t')"
   ]
  },
  {
   "cell_type": "code",
   "execution_count": 17,
   "metadata": {},
   "outputs": [],
   "source": [
    "dump('testis1')\n",
    "dump('testis2')\n",
    "dump('testis3')"
   ]
  },
  {
   "cell_type": "code",
   "execution_count": null,
   "metadata": {},
   "outputs": [],
   "source": []
  }
 ],
 "metadata": {
  "kernelspec": {
   "display_name": "Python [conda env:larval_gonad]",
   "language": "python",
   "name": "conda-env-larval_gonad-py"
  },
  "language_info": {
   "codemirror_mode": {
    "name": "ipython",
    "version": 3
   },
   "file_extension": ".py",
   "mimetype": "text/x-python",
   "name": "python",
   "nbconvert_exporter": "python",
   "pygments_lexer": "ipython3",
   "version": "3.6.3"
  }
 },
 "nbformat": 4,
 "nbformat_minor": 2
}
