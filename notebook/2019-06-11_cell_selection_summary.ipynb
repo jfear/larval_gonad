{
 "cells": [
  {
   "cell_type": "markdown",
   "metadata": {},
   "source": [
    " # Cell Selection Summary\n",
    " In this notebook I am summarizing the cell selection analysis to add to the\n",
    " docs."
   ]
  },
  {
   "cell_type": "code",
   "execution_count": 2,
   "metadata": {},
   "outputs": [],
   "source": [
    "SAMPLES = ['testis1', 'testis2', 'testis3', 'testis4']\n",
    "ORDER = ['cellranger-wf', 'cellranger-force-wf', 'cellranger3-wf', 'droputils']\n"
   ]
  },
  {
   "cell_type": "code",
   "execution_count": 3,
   "metadata": {},
   "outputs": [],
   "source": [
    "from itertools import combinations\n",
    "\n",
    "import numpy as np\n",
    "import pandas as pd\n",
    "from sklearn.metrics import jaccard_similarity_score\n",
    "\n",
    "from tabulate import tabulate\n"
   ]
  },
  {
   "cell_type": "code",
   "execution_count": 4,
   "metadata": {},
   "outputs": [],
   "source": [
    "def get_calls(sample):\n",
    "    df = pd.read_feather(f'../output/cellselection-wf/{sample}_combined_cell_calls.feather').set_index('cell_id')\n",
    "    return df\n",
    "\n",
    "def jaccard(sample):\n",
    "    df = get_calls(sample)\n",
    "    res = []\n",
    "    for c1, c2 in combinations(df.columns, 2):\n",
    "        jc = np.round(jaccard_similarity_score(df[c1], df[c2]), 4)\n",
    "        res.append([c1, c2, jc])\n",
    "        res.append([c2, c1, jc])\n",
    "\n",
    "    dfJ = pd.DataFrame(res, columns = ['method 1', 'method 2', 'Jaccard']).set_index(['method 1', 'method 2']).unstack().fillna(1)\n",
    "    dfJ.columns = dfJ.columns.droplevel(0)\n",
    "    dfJ = dfJ.loc[ORDER, ORDER]\n",
    "    return dfJ\n"
   ]
  },
  {
   "cell_type": "code",
   "execution_count": 5,
   "metadata": {},
   "outputs": [
    {
     "name": "stdout",
     "output_type": "stream",
     "text": [
      "testis1\n",
      "| method 1            |   cellranger-wf |   cellranger-force-wf |   cellranger3-wf |   droputils |\n",
      "|---------------------|-----------------|-----------------------|------------------|-------------|\n",
      "| cellranger-wf       |          1      |                0.8219 |           0.8342 |      0.0537 |\n",
      "| cellranger-force-wf |          0.8219 |                1      |           0.9771 |      0.1919 |\n",
      "| cellranger3-wf      |          0.8342 |                0.9771 |           1      |      0.2146 |\n",
      "| droputils           |          0.0537 |                0.1919 |           0.2146 |      1      |\n",
      "\n",
      "\n",
      "\n",
      "testis2\n",
      "| method 1            |   cellranger-wf |   cellranger-force-wf |   cellranger3-wf |   droputils |\n",
      "|---------------------|-----------------|-----------------------|------------------|-------------|\n",
      "| cellranger-wf       |          1      |                0.6678 |           0.2083 |      0.2933 |\n",
      "| cellranger-force-wf |          0.6678 |                1      |           0.5335 |      0.6081 |\n",
      "| cellranger3-wf      |          0.2083 |                0.5335 |           1      |      0.6539 |\n",
      "| droputils           |          0.2933 |                0.6081 |           0.6539 |      1      |\n",
      "\n",
      "\n",
      "\n",
      "testis3\n",
      "| method 1            |   cellranger-wf |   cellranger-force-wf |   cellranger3-wf |   droputils |\n",
      "|---------------------|-----------------|-----------------------|------------------|-------------|\n",
      "| cellranger-wf       |          1      |                0.81   |           0.6968 |      0.0107 |\n",
      "| cellranger-force-wf |          0.81   |                1      |           0.8489 |      0.2006 |\n",
      "| cellranger3-wf      |          0.6968 |                0.8489 |           1      |      0.3139 |\n",
      "| droputils           |          0.0107 |                0.2006 |           0.3139 |      1      |\n",
      "\n",
      "\n",
      "\n",
      "testis4\n",
      "| method 1            |   cellranger-wf |   cellranger-force-wf |   cellranger3-wf |   droputils |\n",
      "|---------------------|-----------------|-----------------------|------------------|-------------|\n",
      "| cellranger-wf       |          1      |                0.9237 |           0.5776 |      0.01   |\n",
      "| cellranger-force-wf |          0.9237 |                1      |           0.6538 |      0.0863 |\n",
      "| cellranger3-wf      |          0.5776 |                0.6538 |           1      |      0.4325 |\n",
      "| droputils           |          0.01   |                0.0863 |           0.4325 |      1      |\n",
      "\n",
      "\n",
      "\n"
     ]
    }
   ],
   "source": [
    "for sample in SAMPLES:\n",
    "    print(sample)\n",
    "    print(tabulate(jaccard(sample), headers='keys', tablefmt='github'))\n",
    "    print('\\n\\n')\n"
   ]
  },
  {
   "cell_type": "markdown",
   "metadata": {},
   "source": [
    " I am thinking about using a consensus measure. If I include cell ranger v2 with defaults then the consensus will be the same."
   ]
  },
  {
   "cell_type": "code",
   "execution_count": 6,
   "metadata": {},
   "outputs": [],
   "source": [
    "def consensus(sample):\n",
    "    print(sample)\n",
    "    df = get_calls(sample)\n",
    "\n",
    "    # Consensus of all measure: cell ranger defaults, cell ranger force, cell ranger v3, and droplet utils\n",
    "    flag_all = df.sum(axis=1) == 4\n",
    "\n",
    "    # Consensus of cell ranger force, cell ranger v3, and droplet utils\n",
    "    flag_three = df.iloc[:, 1:].sum(axis=1) == 3\n",
    "\n",
    "    # Consensus of cell ranger v3, and droplet utils\n",
    "    flag_two = df.iloc[:, 2:].sum(axis=1) == 2\n",
    "\n",
    "    print('Number of cells with 4-way consensus: ', sum(flag_all))\n",
    "    print('Number of cells with 3-way consensus: ', sum(flag_three))\n",
    "    print('Number of cells with 2-way consensus: ', sum(flag_two))\n",
    "    print('Jaccard cellranger-wf defaults vs full consensus: ', jaccard_similarity_score(df['cellranger-wf'], flag_all))\n",
    "    print('Jaccard similarity of consensus with 3 vs 2 measures: ', jaccard_similarity_score(flag_three, flag_two))\n",
    "    print('Number of different calls between consensus with 3 vs 2 measures: ', sum(flag_three != flag_two))\n",
    "    print('\\n\\n')\n"
   ]
  },
  {
   "cell_type": "code",
   "execution_count": 7,
   "metadata": {},
   "outputs": [
    {
     "name": "stdout",
     "output_type": "stream",
     "text": [
      "testis1\n",
      "Number of cells with 4-way consensus:  476\n",
      "Number of cells with 3-way consensus:  2717\n",
      "Number of cells with 2-way consensus:  2790\n",
      "Jaccard cellranger-wf defaults vs full consensus:  1.0\n",
      "Jaccard similarity of consensus with 3 vs 2 measures:  0.9948479074034865\n",
      "Number of different calls between consensus with 3 vs 2 measures:  73\n",
      "\n",
      "\n",
      "\n",
      "testis2\n",
      "Number of cells with 4-way consensus:  548\n",
      "Number of cells with 3-way consensus:  2936\n",
      "Number of cells with 2-way consensus:  4801\n",
      "Jaccard cellranger-wf defaults vs full consensus:  1.0\n",
      "Jaccard similarity of consensus with 3 vs 2 measures:  0.7473584394473043\n",
      "Number of different calls between consensus with 3 vs 2 measures:  1865\n",
      "\n",
      "\n",
      "\n",
      "testis3\n",
      "Number of cells with 4-way consensus:  426\n",
      "Number of cells with 3-way consensus:  7245\n",
      "Number of cells with 2-way consensus:  12515\n",
      "Jaccard cellranger-wf defaults vs full consensus:  1.0\n",
      "Jaccard similarity of consensus with 3 vs 2 measures:  0.8678270465489567\n",
      "Number of different calls between consensus with 3 vs 2 measures:  5270\n",
      "\n",
      "\n",
      "\n",
      "testis4\n",
      "Number of cells with 4-way consensus:  349\n",
      "Number of cells with 3-way consensus:  3000\n",
      "Number of cells with 2-way consensus:  15033\n",
      "Jaccard cellranger-wf defaults vs full consensus:  1.0\n",
      "Jaccard similarity of consensus with 3 vs 2 measures:  0.6538361957366013\n",
      "Number of different calls between consensus with 3 vs 2 measures:  12033\n",
      "\n",
      "\n",
      "\n"
     ]
    }
   ],
   "source": [
    "for sample in SAMPLES:\n",
    "    consensus(sample)\n"
   ]
  }
 ],
 "metadata": {
  "file_extension": ".py",
  "kernelspec": {
   "display_name": "Python [default]",
   "language": "python",
   "name": "python3"
  },
  "language_info": {
   "codemirror_mode": {
    "name": "ipython",
    "version": 3
   },
   "file_extension": ".py",
   "mimetype": "text/x-python",
   "name": "python",
   "nbconvert_exporter": "python",
   "pygments_lexer": "ipython3",
   "version": "3.6.3"
  },
  "mimetype": "text/x-python",
  "name": "python",
  "npconvert_exporter": "python",
  "pygments_lexer": "ipython3",
  "version": 3
 },
 "nbformat": 4,
 "nbformat_minor": 2
}
