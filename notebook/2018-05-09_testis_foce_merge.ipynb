{
 "cells": [
  {
   "cell_type": "markdown",
   "metadata": {},
   "source": [
    "# Merge testis all replicates"
   ]
  },
  {
   "cell_type": "code",
   "execution_count": 1,
   "metadata": {},
   "outputs": [
    {
     "name": "stderr",
     "output_type": "stream",
     "text": [
      "Loading required package: ggplot2\n",
      "Loading required package: cowplot\n",
      "\n",
      "Attaching package: ‘cowplot’\n",
      "\n",
      "The following object is masked from ‘package:ggplot2’:\n",
      "\n",
      "    ggsave\n",
      "\n",
      "Loading required package: Matrix\n",
      "\n",
      "Attaching package: ‘dplyr’\n",
      "\n",
      "The following object is masked from ‘package:Biobase’:\n",
      "\n",
      "    combine\n",
      "\n",
      "The following objects are masked from ‘package:BiocGenerics’:\n",
      "\n",
      "    combine, intersect, setdiff, union\n",
      "\n",
      "The following objects are masked from ‘package:stats’:\n",
      "\n",
      "    filter, lag\n",
      "\n",
      "The following objects are masked from ‘package:base’:\n",
      "\n",
      "    intersect, setdiff, setequal, union\n",
      "\n"
     ]
    }
   ],
   "source": [
    "options(repr.plot.width=10, repr.plot.height=10)\n",
    "source('../lib/seurat.R')\n",
    "library(Seurat)\n",
    "library(dplyr)\n",
    "library(Matrix)"
   ]
  },
  {
   "cell_type": "code",
   "execution_count": 2,
   "metadata": {},
   "outputs": [],
   "source": [
    "OUTDIR <- '../output/combined_testis_force'\n",
    "REFERENCES_DIR <- Sys.getenv('REFERENCES_DIR')\n",
    "\n",
    "# Get list of mitochondiral genes\n",
    "fbgn2chrom <- read.table('../output/fbgn2chrom.tsv', header=T)\n",
    "fbgn2symbol <- read.csv(file.path(REFERENCES_DIR, 'dmel/r6-16/fb_annotation/dmel_r6-16.fb_annotation'), header=T, sep = '\\t')[, c('gene_symbol', 'primary_FBgn')]\n",
    "mito <- fbgn2chrom[fbgn2chrom$chrom == 'chrM', 'FBgn']"
   ]
  },
  {
   "cell_type": "code",
   "execution_count": 3,
   "metadata": {},
   "outputs": [],
   "source": [
    "# Load the 10x dataset Rep 1\n",
    "tenX.data <- Read10X(data.dir = '../output/testis1_force/outs/filtered_gene_bc_matrices/dm6.16')\n",
    "r1 <- CreateSeuratObject(raw.data = tenX.data, min.cells = 3, min.genes = 200, project = 'GroupCluster')\n",
    "r1@meta.data$rep <- 'rep1'\n",
    "r1 <- FilterCells(object = r1, subset.names = c(\"nGene\"), low.thresholds = c(200), high.thresholds = c(6000))\n",
    "r1 <- NormalizeData(object = r1, normalization.method = \"LogNormalize\", scale.factor = 1e4)\n",
    "r1 <- ScaleData(object = r1, vars.to.regress = c(\"nUMI\"), display.progress = FALSE)"
   ]
  },
  {
   "cell_type": "code",
   "execution_count": 4,
   "metadata": {},
   "outputs": [],
   "source": [
    "# Load the 10x dataset Rep 2\n",
    "tenX.data <- Read10X(data.dir = '../output/testis2_force/outs/filtered_gene_bc_matrices/dm6.16')\n",
    "r2 <- CreateSeuratObject(raw.data = tenX.data, min.cells = 3, min.genes = 200, project = 'GroupCluster')\n",
    "r2@meta.data$rep <- 'rep2'\n",
    "r2 <- FilterCells(object = r2, subset.names = c(\"nGene\"), low.thresholds = c(200), high.thresholds = c(6000))\n",
    "r2 <- NormalizeData(object = r2, normalization.method = \"LogNormalize\", scale.factor = 1e4)\n",
    "r2 <- ScaleData(object = r2, vars.to.regress = c(\"nUMI\"), display.progress = FALSE)"
   ]
  },
  {
   "cell_type": "code",
   "execution_count": null,
   "metadata": {},
   "outputs": [],
   "source": [
    "# Load the 10x dataset Rep 3\n",
    "tenX.data <- Read10X(data.dir = '../output/testis3_force/outs/filtered_gene_bc_matrices/dm6.16')\n",
    "r3 <- CreateSeuratObject(raw.data = tenX.data, min.cells = 3, min.genes = 200, project = 'GroupCluster')\n",
    "r3@meta.data$rep <- 'rep3'\n",
    "r3 <- FilterCells(object = r3, subset.names = c(\"nGene\"), low.thresholds = c(200), high.thresholds = c(6000))\n",
    "r3 <- NormalizeData(object = r3, normalization.method = \"LogNormalize\", scale.factor = 1e4)\n",
    "r3 <- ScaleData(object = r3, vars.to.regress = c(\"nUMI\"), display.progress = FALSE)"
   ]
  },
  {
   "cell_type": "code",
   "execution_count": null,
   "metadata": {},
   "outputs": [],
   "source": [
    "# Find the highly variable genes\n",
    "r1 <- FindVariableGenes(\n",
    "    object = r1, \n",
    "    mean.function = ExpMean, \n",
    "    dispersion.function = LogVMR, \n",
    "    do.plot = FALSE, \n",
    "    x.low.cutoff = 0.01, \n",
    "    x.high.cutoff = 3, \n",
    "    y.cutoff = 0.5, \n",
    "    y.high.cutoff = Inf\n",
    ")\n",
    "\n",
    "r2 <- FindVariableGenes(\n",
    "    object = r2, \n",
    "    mean.function = ExpMean, \n",
    "    dispersion.function = LogVMR, \n",
    "    do.plot = FALSE, \n",
    "    x.low.cutoff = 0.01, \n",
    "    x.high.cutoff = 3, \n",
    "    y.cutoff = 0.5, \n",
    "    y.high.cutoff = Inf\n",
    ")\n",
    "\n",
    "r3 <- FindVariableGenes(\n",
    "    object = r3, \n",
    "    mean.function = ExpMean, \n",
    "    dispersion.function = LogVMR, \n",
    "    do.plot = FALSE, \n",
    "    x.low.cutoff = 0.01, \n",
    "    x.high.cutoff = 3, \n",
    "    y.cutoff = 0.5, \n",
    "    y.high.cutoff = Inf\n",
    ")"
   ]
  },
  {
   "cell_type": "code",
   "execution_count": null,
   "metadata": {},
   "outputs": [],
   "source": [
    "# Create list of genes to use\n",
    "g.1 <- r1@var.genes\n",
    "g.2 <- r2@var.genes\n",
    "g.3 <- r3@var.genes\n",
    "genes.use <- intersect(intersect(g.1, g.2), g.3)"
   ]
  },
  {
   "cell_type": "code",
   "execution_count": null,
   "metadata": {},
   "outputs": [],
   "source": [
    "# Rename cells incase they overlap between replicates\n",
    "r1@cell.names <- paste('rep1', r1@cell.names, sep='_')\n",
    "r2@cell.names <- paste('rep2', r2@cell.names, sep='_')\n",
    "r3@cell.names <- paste('rep3', r3@cell.names, sep='_')\n",
    "\n",
    "colnames(r1@raw.data) <- paste('rep1', colnames(r1@raw.data), sep = \"_\")\n",
    "colnames(r2@raw.data) <- paste('rep2', colnames(r2@raw.data), sep = \"_\")\n",
    "colnames(r3@raw.data) <- paste('rep3', colnames(r3@raw.data), sep = \"_\")\n",
    "\n",
    "rownames(r1@meta.data) <- paste('rep1', rownames(r1@meta.data), sep = \"_\")\n",
    "rownames(r2@meta.data) <- paste('rep2', rownames(r2@meta.data), sep = \"_\")\n",
    "rownames(r3@meta.data) <- paste('rep3', rownames(r3@meta.data), sep = \"_\")"
   ]
  },
  {
   "cell_type": "code",
   "execution_count": null,
   "metadata": {},
   "outputs": [],
   "source": [
    "combined <- RunMultiCCA(\n",
    "    list(r1, r2, r3), \n",
    "    genes.use=genes.use, \n",
    "    num.cc=10, \n",
    ")"
   ]
  },
  {
   "cell_type": "code",
   "execution_count": null,
   "metadata": {},
   "outputs": [],
   "source": [
    "p1 <- DimPlot(object=combined, reduction.use='cca', group.by='rep', pt.size=0.5, do.return=TRUE)\n",
    "p2 <- VlnPlot(object=combined, features.plot='CC1', group.by='rep', do.return=TRUE)\n",
    "plot_grid(p1, p2)"
   ]
  },
  {
   "cell_type": "code",
   "execution_count": null,
   "metadata": {},
   "outputs": [],
   "source": [
    "combined <- AlignSubspace(combined, reduction.type = \"cca\", grouping.var = \"rep\", dims.align = 1:10)"
   ]
  },
  {
   "cell_type": "code",
   "execution_count": null,
   "metadata": {},
   "outputs": [],
   "source": [
    "p1 <- VlnPlot(object=combined, features.plot='ACC1', group.by='rep', do.return=TRUE)\n",
    "p2 <- VlnPlot(object=combined, features.plot='ACC2', group.by='rep', do.return=TRUE)\n",
    "plot_grid(p1, p2)"
   ]
  },
  {
   "cell_type": "code",
   "execution_count": null,
   "metadata": {},
   "outputs": [],
   "source": [
    "combined <- RunTSNE(combined, reduction.use = \"cca.aligned\", dims.use = 1:10, do.fast = T)\n",
    "combined <- FindClusters(combined, reduction.type = \"cca.aligned\", resolution = c(0.4, 0.6, 1.0, 1.2, 1.4), dims.use = 1:10)"
   ]
  },
  {
   "cell_type": "code",
   "execution_count": null,
   "metadata": {},
   "outputs": [],
   "source": [
    "options(repr.plot.width=10, repr.plot.height=6)\n",
    "combined <- SetAllIdent(combined, id  = 'res.0.4')\n",
    "p1 <- TSNEPlot(combined, do.return = T, pt.size = 0.5, group.by = \"rep\")\n",
    "p2 <- TSNEPlot(combined, do.label = T, do.return = T, pt.size = 0.5)\n",
    "p <- plot_grid(p1, p2)\n",
    "title <- ggdraw() + draw_label(\"res 0.4\", fontface='bold')\n",
    "plot_grid(title, p, ncol=1, rel_heights=c(0.1, 1)) # rel_heights values control title margins"
   ]
  },
  {
   "cell_type": "code",
   "execution_count": null,
   "metadata": {},
   "outputs": [],
   "source": [
    "options(repr.plot.width=10, repr.plot.height=6)\n",
    "combined <- SetAllIdent(combined, id  = 'res.0.6')\n",
    "p1 <- TSNEPlot(combined, do.return = T, pt.size = 0.5, group.by = \"rep\")\n",
    "p2 <- TSNEPlot(combined, do.label = T, do.return = T, pt.size = 0.5)\n",
    "p <- plot_grid(p1, p2)\n",
    "title <- ggdraw() + draw_label(\"res 0.6\", fontface='bold')\n",
    "plot_grid(title, p, ncol=1, rel_heights=c(0.1, 1)) # rel_heights values control title margins"
   ]
  },
  {
   "cell_type": "code",
   "execution_count": null,
   "metadata": {},
   "outputs": [],
   "source": [
    "options(repr.plot.width=10, repr.plot.height=6)\n",
    "combined <- SetAllIdent(combined, id  = 'res.1.0')\n",
    "p1 <- TSNEPlot(combined, do.return = T, pt.size = 0.5, group.by = \"rep\")\n",
    "p2 <- TSNEPlot(combined, do.label = T, do.return = T, pt.size = 0.5)\n",
    "p <- plot_grid(p1, p2)\n",
    "title <- ggdraw() + draw_label(\"res 1.0\", fontface='bold')\n",
    "plot_grid(title, p, ncol=1, rel_heights=c(0.1, 1)) # rel_heights values control title margins"
   ]
  },
  {
   "cell_type": "code",
   "execution_count": null,
   "metadata": {},
   "outputs": [],
   "source": [
    "options(repr.plot.width=10, repr.plot.height=6)\n",
    "combined <- SetAllIdent(combined, id  = 'res.1.2')\n",
    "p1 <- TSNEPlot(combined, do.return = T, pt.size = 0.5, group.by = \"rep\")\n",
    "p2 <- TSNEPlot(combined, do.label = T, do.return = T, pt.size = 0.5)\n",
    "p <- plot_grid(p1, p2)\n",
    "title <- ggdraw() + draw_label(\"res 1.2\", fontface='bold')\n",
    "plot_grid(title, p, ncol=1, rel_heights=c(0.1, 1)) # rel_heights values control title margins"
   ]
  },
  {
   "cell_type": "code",
   "execution_count": null,
   "metadata": {},
   "outputs": [],
   "source": [
    "options(repr.plot.width=10, repr.plot.height=6)\n",
    "combined <- SetAllIdent(combined, id  = 'res.1.4')\n",
    "p1 <- TSNEPlot(combined, do.return = T, pt.size = 0.5, group.by = \"rep\")\n",
    "p2 <- TSNEPlot(combined, do.label = T, do.return = T, pt.size = 0.5)\n",
    "p <- plot_grid(p1, p2)\n",
    "title <- ggdraw() + draw_label(\"res 1.4\", fontface='bold')\n",
    "plot_grid(title, p, ncol=1, rel_heights=c(0.1, 1)) # rel_heights values control title margins"
   ]
  },
  {
   "cell_type": "code",
   "execution_count": null,
   "metadata": {},
   "outputs": [],
   "source": [
    "dump_seurat(object = combined, dir = OUTDIR)"
   ]
  },
  {
   "cell_type": "code",
   "execution_count": null,
   "metadata": {},
   "outputs": [],
   "source": [
    "# Save cluster info\n",
    "params <- c(0.4, 0.6, 1.0, 1.2, 1.4)\n",
    "params <- c(1.0, 1.2, 1.4)\n",
    "for (i in params) {\n",
    "    name <- paste0('res.', i)\n",
    "    fname <- paste0('biomarkers_', i, '.tsv')\n",
    "    combined <- SetAllIdent(combined, id = name)\n",
    "    markers <- FindAllMarkers(object = combined, only.pos = TRUE, min.pct = 0.25, thresh.use = 0.25, print.bar = FALSE)\n",
    "    markers = merge(fbgn2symbol, markers, by.x='primary_FBgn', by.y='gene', all.y=T)\n",
    "    save_biomarkers(markers = markers, dir = OUTDIR, fname = fname)\n",
    "}"
   ]
  }
 ],
 "metadata": {
  "kernelspec": {
   "display_name": "R [conda env:larval_gonad]",
   "language": "R",
   "name": "conda-env-larval_gonad-r"
  },
  "language_info": {
   "codemirror_mode": "r",
   "file_extension": ".r",
   "mimetype": "text/x-r-source",
   "name": "R",
   "pygments_lexer": "r",
   "version": "3.4.1"
  }
 },
 "nbformat": 4,
 "nbformat_minor": 2
}
