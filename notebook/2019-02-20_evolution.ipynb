{
 "cells": [
  {
   "cell_type": "markdown",
   "metadata": {},
   "source": [
    "# Parse New Gene Table"
   ]
  },
  {
   "cell_type": "markdown",
   "metadata": {},
   "source": [
    "**from:** Maria D. Vibranovski\n",
    "\n",
    "Here attached is a list from Yong Zhang group based on our paper from 2010. But this is a still not published updated version that he shared with me but you can use.\n",
    "\n",
    "If you need details about the columns, please look at https://genome.cshlp.org/content/suppl/2010/08/27/gr.107334.110.DC1/SupplementalMaterial.pdf  table 2a.\n",
    "\n",
    "But mainly, what you need to select is the child genes with:\n",
    "\n",
    "gene_type = D or R or DL or RL\n",
    "m_type= M\n",
    "note that contains \"chrX-\"\n",
    "\n",
    "D and R stands for DNA-based Duplication and RNA-based duplication\n",
    "L means that the assignment of the parental genes is less reliable.\n",
    "M indicates that is between chromosome movement.\n",
    "\n",
    "Hope it helps. If you need I can parse for you. please, do not hesitate to ask. But I thought you would prefer a complete list where you can look at subsets.\n",
    "\n",
    "cheers\n",
    "\n",
    "Maria\n"
   ]
  },
  {
   "cell_type": "code",
   "execution_count": 11,
   "metadata": {
    "lines_to_next_cell": 1
   },
   "outputs": [],
   "source": [
    "import os\n",
    "import sys\n",
    "from pathlib import Path\n",
    "import re\n",
    "\n",
    "from IPython.display import display, HTML, Markdown\n",
    "import numpy as np\n",
    "import pandas as pd\n",
    "from scipy.stats import fisher_exact, chi2_contingency\n",
    "from scipy.stats.contingency import margins\n",
    "import statsmodels.formula.api as smf\n",
    "\n",
    "import matplotlib as mpl\n",
    "import matplotlib.pyplot as plt\n",
    "import seaborn as sns\n",
    "\n",
    "# Project level imports\n",
    "sys.path.insert(0, '../lib')\n",
    "from larval_gonad.notebook import Nb\n",
    "from larval_gonad.plotting import make_figs\n",
    "from larval_gonad.config import memory"
   ]
  },
  {
   "cell_type": "code",
   "execution_count": 12,
   "metadata": {
    "lines_to_next_cell": 1
   },
   "outputs": [
    {
     "name": "stdout",
     "output_type": "stream",
     "text": [
      "last updated: 2019-02-20 \n",
      "Git hash: 02e606676f937594e732e3c29cf439b65cd9c1bf\n"
     ]
    }
   ],
   "source": [
    "# Setup notebook\n",
    "nbconfig = Nb.setup_notebook(seurat_dir='../output/scrnaseq-wf/scrnaseq_combine_force')"
   ]
  },
  {
   "cell_type": "code",
   "execution_count": 2,
   "metadata": {
    "lines_to_next_cell": 1
   },
   "outputs": [],
   "source": [
    "def adjusted_residuals(observed, expected):\n",
    "    resid = (observed - expected) / np.sqrt(expected)\n",
    "    n = observed.sum().sum()\n",
    "    rsum, csum = margins(observed)\n",
    "    v = csum * rsum * (n - rsum) * (n - csum) / n**3\n",
    "    return (observed - expected) / np.sqrt(v)"
   ]
  },
  {
   "cell_type": "markdown",
   "metadata": {},
   "source": [
    "## Import data from Maria"
   ]
  },
  {
   "cell_type": "markdown",
   "metadata": {},
   "source": [
    "## FBgn sanitizer"
   ]
  },
  {
   "cell_type": "markdown",
   "metadata": {},
   "source": [
    "I don't know where these FBgns are from, so I need to sanitize them to my current annotation."
   ]
  },
  {
   "cell_type": "code",
   "execution_count": 3,
   "metadata": {},
   "outputs": [],
   "source": [
    "assembly = nbconfig.assembly\n",
    "tag = nbconfig.tag\n",
    "pth = Path(os.environ['REFERENCES_DIR'], f'{assembly}/{tag}/fb_annotation/{assembly}_{tag}.fb_annotation')\n",
    "\n",
    "# Create an FBgn \n",
    "mapper = {}\n",
    "\n",
    "for record in pd.read_csv(pth, sep='\\t').to_records():\n",
    "    mapper[record.primary_FBgn] = record.primary_FBgn\n",
    "    \n",
    "    try:\n",
    "        for g in record.secondary_FBgn.split(','):\n",
    "            mapper[g] = record.primary_FBgn\n",
    "    except AttributeError:\n",
    "        pass"
   ]
  },
  {
   "cell_type": "code",
   "execution_count": 4,
   "metadata": {},
   "outputs": [],
   "source": [
    "autosomes = ['chr2L', 'chr2R', 'chr3L', 'chr3R']"
   ]
  },
  {
   "cell_type": "code",
   "execution_count": 53,
   "metadata": {},
   "outputs": [
    {
     "data": {
      "text/html": [
       "<div>\n",
       "<style scoped>\n",
       "    .dataframe tbody tr th:only-of-type {\n",
       "        vertical-align: middle;\n",
       "    }\n",
       "\n",
       "    .dataframe tbody tr th {\n",
       "        vertical-align: top;\n",
       "    }\n",
       "\n",
       "    .dataframe thead th {\n",
       "        text-align: right;\n",
       "    }\n",
       "</style>\n",
       "<table border=\"1\" class=\"dataframe\">\n",
       "  <thead>\n",
       "    <tr style=\"text-align: right;\">\n",
       "      <th></th>\n",
       "      <th>gene_type</th>\n",
       "      <th>child_chrom</th>\n",
       "      <th>parent_chrom</th>\n",
       "      <th>parent_FBgn</th>\n",
       "      <th>moved_x_to_a</th>\n",
       "      <th>moved_a_to_a</th>\n",
       "      <th>moved_a_to_x</th>\n",
       "    </tr>\n",
       "    <tr>\n",
       "      <th>FBgn</th>\n",
       "      <th></th>\n",
       "      <th></th>\n",
       "      <th></th>\n",
       "      <th></th>\n",
       "      <th></th>\n",
       "      <th></th>\n",
       "      <th></th>\n",
       "    </tr>\n",
       "  </thead>\n",
       "  <tbody>\n",
       "    <tr>\n",
       "      <th>FBgn0000246</th>\n",
       "      <td>Dl</td>\n",
       "      <td>chr3R</td>\n",
       "      <td>chrX</td>\n",
       "      <td>FBgn0002873</td>\n",
       "      <td>True</td>\n",
       "      <td>False</td>\n",
       "      <td>False</td>\n",
       "    </tr>\n",
       "    <tr>\n",
       "      <th>FBgn0002562</th>\n",
       "      <td>D</td>\n",
       "      <td>chrX</td>\n",
       "      <td>chr2L</td>\n",
       "      <td>FBgn0002563</td>\n",
       "      <td>False</td>\n",
       "      <td>False</td>\n",
       "      <td>True</td>\n",
       "    </tr>\n",
       "    <tr>\n",
       "      <th>FBgn0003060</th>\n",
       "      <td>D</td>\n",
       "      <td>chr3R</td>\n",
       "      <td>chr2L</td>\n",
       "      <td>FBgn0032282</td>\n",
       "      <td>False</td>\n",
       "      <td>True</td>\n",
       "      <td>False</td>\n",
       "    </tr>\n",
       "    <tr>\n",
       "      <th>FBgn0003086</th>\n",
       "      <td>Dl</td>\n",
       "      <td>chrX</td>\n",
       "      <td>chr3L</td>\n",
       "      <td>FBgn0036393</td>\n",
       "      <td>False</td>\n",
       "      <td>False</td>\n",
       "      <td>True</td>\n",
       "    </tr>\n",
       "    <tr>\n",
       "      <th>FBgn0003357</th>\n",
       "      <td>R</td>\n",
       "      <td>chr3R</td>\n",
       "      <td>chr3L</td>\n",
       "      <td>FBgn0250815</td>\n",
       "      <td>False</td>\n",
       "      <td>True</td>\n",
       "      <td>False</td>\n",
       "    </tr>\n",
       "  </tbody>\n",
       "</table>\n",
       "</div>"
      ],
      "text/plain": [
       "            gene_type child_chrom parent_chrom  parent_FBgn  moved_x_to_a  \\\n",
       "FBgn                                                                        \n",
       "FBgn0000246        Dl       chr3R         chrX  FBgn0002873          True   \n",
       "FBgn0002562         D        chrX        chr2L  FBgn0002563         False   \n",
       "FBgn0003060         D       chr3R        chr2L  FBgn0032282         False   \n",
       "FBgn0003086        Dl        chrX        chr3L  FBgn0036393         False   \n",
       "FBgn0003357         R       chr3R        chr3L  FBgn0250815         False   \n",
       "\n",
       "             moved_a_to_a  moved_a_to_x  \n",
       "FBgn                                     \n",
       "FBgn0000246         False         False  \n",
       "FBgn0002562         False          True  \n",
       "FBgn0003060          True         False  \n",
       "FBgn0003086         False          True  \n",
       "FBgn0003357          True         False  "
      ]
     },
     "execution_count": 53,
     "metadata": {},
     "output_type": "execute_result"
    }
   ],
   "source": [
    "movement = (\n",
    "    pd.read_excel('../data/external/maria/dm6_ver78_genetype.new.xlsx')\n",
    "    .query('gene_type == [\"D\", \"R\", \"Dl\", \"Rl\"] and m_type == \"M\"')\n",
    "    .assign(child_chrom = lambda df: df.note.str.extract('(chr.*?)-'))\n",
    "    .assign(parent_chrom = lambda df: df.note.str.extract('-(chr.*?)[:;]'))\n",
    "    .assign(FBgn = lambda df: df.child_id.map(mapper))\n",
    "    .assign(parent_FBgn = lambda df: df.parent_id.map(mapper))\n",
    "    .drop(['child_id', 'parent_id', 'note', 'm_type'], axis=1)\n",
    "    .dropna()\n",
    "    .set_index('FBgn')\n",
    "    .assign(moved_x_to_a = lambda df: (df.parent_chrom == 'chrX') & df.child_chrom.isin(autosomes))\n",
    "    .assign(moved_a_to_a = lambda df: df.parent_chrom.isin(autosomes) & df.child_chrom.isin(autosomes))\n",
    "    .assign(moved_a_to_x = lambda df: df.parent_chrom.isin(autosomes) & (df.child_chrom == 'chrX'))\n",
    "    .query('moved_x_to_a | moved_a_to_a | moved_a_to_x')\n",
    ")\n",
    "\n",
    "movement.head()"
   ]
  },
  {
   "cell_type": "code",
   "execution_count": 29,
   "metadata": {},
   "outputs": [],
   "source": [
    "biomarkers = (\n",
    "    nbconfig.seurat.get_biomarkers('res.0.6')\n",
    "    .cluster.map(nbconfig.short_cluster_annot)\n",
    "    .pipe(lambda x: x[x != 'UNK'])\n",
    "    .to_frame()\n",
    "    .reset_index()\n",
    "    .groupby('FBgn')\n",
    "    .apply(lambda x: '|'.join(x.cluster))\n",
    "    .rename('biomakrer_cluster')\n",
    ")"
   ]
  },
  {
   "cell_type": "code",
   "execution_count": 76,
   "metadata": {},
   "outputs": [],
   "source": [
    "germ_comp = (\n",
    "    pd.read_csv('../output/scrnaseq-wf/germcell_deg/gonia_vs_cytes.tsv', sep='\\t')\n",
    "    .assign(FBgn = lambda df: df.primary_FBgn)\n",
    "    .assign(gonia = lambda df: df.avg_logFC > 0)\n",
    "    .assign(cyte = lambda df: df.avg_logFC < 0)\n",
    "    .set_index('FBgn')\n",
    "    .loc[:, ['gonia', 'cyte']]\n",
    "    .idxmax(axis=1)\n",
    "    .rename('bias_gonia_vs_cyte')\n",
    ")"
   ]
  },
  {
   "cell_type": "code",
   "execution_count": 80,
   "metadata": {
    "lines_to_next_cell": 2
   },
   "outputs": [],
   "source": [
    "df = movement.join(biomarkers, how='left').join(germ_comp, how='left')"
   ]
  },
  {
   "cell_type": "code",
   "execution_count": 89,
   "metadata": {},
   "outputs": [],
   "source": [
    "out_order = [\n",
    "    'child_chrom',\n",
    "    'parent_chrom',\n",
    "    'parent_FBgn',\n",
    "    'gene_type',\n",
    "    'moved_x_to_a',\n",
    "    'moved_a_to_a',\n",
    "    'moved_a_to_x',\n",
    "    'biomakrer_cluster',\n",
    "    'bias_gonia_vs_cyte'\n",
    "]\n",
    "\n",
    "df.reindex(columns=out_order).reset_index().rename({'FBgn': 'child_FBgn'}, axis=1).fillna('nan').to_csv('../output/notebook/2019-02-20_movement_data.csv', index=None)"
   ]
  },
  {
   "cell_type": "code",
   "execution_count": 88,
   "metadata": {},
   "outputs": [
    {
     "name": "stdout",
     "output_type": "stream",
     "text": [
      "child_chrom\n",
      "parent_chrom\n",
      "parent_FBgn\n",
      "gene_type\n",
      "moved_x_to_a\n",
      "moved_a_to_a\n",
      "moved_a_to_x\n",
      "biomakrer_cluster\n",
      "bias_gonia_vs_cyte\n"
     ]
    }
   ],
   "source": [
    "print('\\n'.join(out_order))"
   ]
  },
  {
   "cell_type": "code",
   "execution_count": null,
   "metadata": {},
   "outputs": [],
   "source": []
  },
  {
   "cell_type": "code",
   "execution_count": null,
   "metadata": {},
   "outputs": [],
   "source": []
  },
  {
   "cell_type": "code",
   "execution_count": null,
   "metadata": {},
   "outputs": [],
   "source": []
  },
  {
   "cell_type": "code",
   "execution_count": null,
   "metadata": {
    "lines_to_next_cell": 2
   },
   "outputs": [],
   "source": []
  },
  {
   "cell_type": "code",
   "execution_count": null,
   "metadata": {
    "lines_to_next_cell": 2
   },
   "outputs": [],
   "source": []
  },
  {
   "cell_type": "code",
   "execution_count": null,
   "metadata": {
    "lines_to_next_cell": 2
   },
   "outputs": [],
   "source": []
  },
  {
   "cell_type": "code",
   "execution_count": null,
   "metadata": {
    "lines_to_next_cell": 2
   },
   "outputs": [],
   "source": []
  },
  {
   "cell_type": "code",
   "execution_count": null,
   "metadata": {
    "lines_to_next_cell": 2
   },
   "outputs": [],
   "source": []
  },
  {
   "cell_type": "code",
   "execution_count": null,
   "metadata": {
    "lines_to_next_cell": 2
   },
   "outputs": [],
   "source": []
  },
  {
   "cell_type": "code",
   "execution_count": null,
   "metadata": {
    "lines_to_next_cell": 2
   },
   "outputs": [],
   "source": []
  }
 ],
 "metadata": {
  "jupytext": {
   "text_representation": {
    "extension": ".py",
    "format_name": "percent",
    "format_version": "1.2",
    "jupytext_version": "1.0.0"
   }
  },
  "kernelspec": {
   "display_name": "Python [conda env:larval_gonad]",
   "language": "python",
   "name": "conda-env-larval_gonad-py"
  },
  "language_info": {
   "codemirror_mode": {
    "name": "ipython",
    "version": 3
   },
   "file_extension": ".py",
   "mimetype": "text/x-python",
   "name": "python",
   "nbconvert_exporter": "python",
   "pygments_lexer": "ipython3",
   "version": "3.6.3"
  }
 },
 "nbformat": 4,
 "nbformat_minor": 2
}
