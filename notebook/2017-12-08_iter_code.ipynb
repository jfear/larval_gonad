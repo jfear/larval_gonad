{
 "cells": [
  {
   "cell_type": "markdown",
   "metadata": {},
   "source": [
    "# Create all possible tSNE"
   ]
  },
  {
   "cell_type": "markdown",
   "metadata": {},
   "source": [
    "This is a quick and dirty script to create all possible tSNEs."
   ]
  },
  {
   "cell_type": "code",
   "execution_count": 1,
   "metadata": {},
   "outputs": [
    {
     "name": "stdout",
     "output_type": "stream",
     "text": [
      "last updated: 2018-01-08 \n",
      "Git hash: 864e97e2be40d58ee219e1fa644c0339d05d6a4d\n"
     ]
    }
   ],
   "source": [
    "# %load ../start.py\n",
    "# Imports\n",
    "import os\n",
    "import sys\n",
    "from pathlib import Path\n",
    "from tempfile import TemporaryDirectory\n",
    "import string\n",
    "\n",
    "import numpy as np\n",
    "import pandas as pd\n",
    "\n",
    "import matplotlib as mpl\n",
    "import matplotlib.pyplot as plt\n",
    "import seaborn as sns\n",
    "\n",
    "# Project level imports\n",
    "sys.path.insert(0, '../../lib')\n",
    "from larval_gonad.notebook import Nb\n",
    "from larval_gonad.plotting import TSNEPlot\n",
    "\n",
    "# Setup notebook\n",
    "nbconfig = Nb.setup_notebook()\n",
    "\n",
    "# Turn on cache\n",
    "from joblib import Memory\n",
    "memory = Memory(cachedir=nbconfig.cache, verbose=0)"
   ]
  },
  {
   "cell_type": "code",
   "execution_count": 2,
   "metadata": {},
   "outputs": [],
   "source": [
    "REF = os.environ['REFERENCES_DIR']\n",
    "OUTPUT = '../../output/testes_scRNAseq_pilot'\n",
    "Path(OUTPUT).mkdir(exist_ok=True)\n",
    "\n",
    "FIGS = '../../output/figures/testis_tsne'\n",
    "Path(FIGS).mkdir(exist_ok=True)\n",
    "\n",
    "# Import gene annotations\n",
    "fbgn2symbol = pd.read_csv(str(Path(REF, 'dmel/r6-16/fb_annotation/dmel_r6-16.fb_annotation')), sep='\\t', \n",
    "                          usecols=['gene_symbol', 'primary_FBgn'], index_col='primary_FBgn').to_dict()['gene_symbol']\n",
    "\n",
    "symbol2fbgn = pd.read_csv(str(Path(REF, 'dmel/r6-16/fb_annotation/dmel_r6-16.fb_annotation')), sep='\\t', \n",
    "                          usecols=['gene_symbol', 'primary_FBgn'], index_col='gene_symbol').to_dict()['primary_FBgn']"
   ]
  },
  {
   "cell_type": "code",
   "execution_count": 3,
   "metadata": {},
   "outputs": [],
   "source": [
    "tsne = pd.read_csv(Path(OUTPUT, 'tsne.tsv'), sep='\\t')\n",
    "norm = pd.read_csv(Path(OUTPUT, 'normalized_read_counts.tsv'), sep='\\t')\n",
    "data = tsne.join(norm.T)"
   ]
  },
  {
   "cell_type": "code",
   "execution_count": 4,
   "metadata": {},
   "outputs": [],
   "source": [
    "def sanitize_fname(fname):\n",
    "    valid_chars = \"-_.%s%s\" % (string.ascii_letters, string.digits)\n",
    "    return ''.join([x for x in fname if x in valid_chars])\n",
    "    \n",
    "def plot_gene(data, fbgn, symbol, **kwargs):\n",
    "    symbol = sanitize_fname(symbol)\n",
    "    fname = str(Path(FIGS, f'{fbgn}_{symbol}.png'))\n",
    "    if Path(fname).exists():\n",
    "        return\n",
    "    \n",
    "    df = data[['tSNE_1', 'tSNE_2', fbgn]]\n",
    "\n",
    "    with plt.style.context(['paper-wide', 'default']):\n",
    "        fig, (ax1, ax2) = plt.subplots(1, 2, gridspec_kw={'width_ratios': [1.3, 1]})\n",
    "        TSNEPlot('tSNE_2', 'tSNE_1', data=df, hue=fbgn, s=10, \n",
    "                 ax=ax1, title='Normalized Expression\\n(Continuous)', **kwargs)\n",
    "\n",
    "        TSNEPlot('tSNE_2', 'tSNE_1', data=df, hue=df[fbgn] > 0, \n",
    "                 cmap={\n",
    "                     '0': 'w',\n",
    "                     '1': 'k',\n",
    "                 }, s=10, ax=ax2, alpha=.6, edgecolor='k', title='Normalized Expression\\n(Binary)', **kwargs)\n",
    "\n",
    "        fig.suptitle(f'{symbol} ({fbgn})');\n",
    "        plt.tight_layout(rect=[0, 0, .9, .9])\n",
    "        plt.savefig(fname)\n",
    "        plt.close()"
   ]
  },
  {
   "cell_type": "code",
   "execution_count": 6,
   "metadata": {},
   "outputs": [],
   "source": [
    "colors = sns.color_palette('Reds')\n",
    "color2 = sns.color_palette('Greys')\n",
    "colors[0] = color2[0]\n",
    "\n",
    "for fbgn in data.columns[2:]:\n",
    "    symbol = fbgn2symbol[fbgn]\n",
    "    plot_gene(data, fbgn, symbol, palette=colors)"
   ]
  },
  {
   "cell_type": "code",
   "execution_count": null,
   "metadata": {},
   "outputs": [],
   "source": []
  }
 ],
 "metadata": {
  "kernelspec": {
   "display_name": "Python [conda env:larval_gonad]",
   "language": "python",
   "name": "conda-env-larval_gonad-py"
  },
  "language_info": {
   "codemirror_mode": {
    "name": "ipython",
    "version": 3
   },
   "file_extension": ".py",
   "mimetype": "text/x-python",
   "name": "python",
   "nbconvert_exporter": "python",
   "pygments_lexer": "ipython3",
   "version": "3.6.3"
  }
 },
 "nbformat": 4,
 "nbformat_minor": 2
}
