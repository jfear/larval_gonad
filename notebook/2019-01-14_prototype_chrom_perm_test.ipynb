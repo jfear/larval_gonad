{
 "cells": [
  {
   "cell_type": "markdown",
   "metadata": {},
   "source": [
    "# Prototype Chromosome Permutation Test"
   ]
  },
  {
   "cell_type": "markdown",
   "metadata": {},
   "source": [
    "I need to work out what permutation tests to do. There are several ways we can compare X:A or Y:A or 4:A. \n",
    "\n",
    "These data are challenging because at the individual gene cell level the data are very sparse. One solution to this problem is to aggregate data to the cell type level. Unfortunately, the missingness is not completely random and shows distinct patterns for different cell types. Making me worry that aggregating to the cell type level would incorporate bias differently for each cell type. To combat this problem we are taking a permutation approach, where we can randomly sample cells and calculate a statistic that should help us capture trends inspite of the missingness. \n",
    "\n",
    "For looking at X:A expression, I need to decide what measure to use along with what statistic. \n",
    "\n",
    "## Possible Measures\n",
    "\n",
    "There are a number of ways to look at X:A. Here are a few possible measures that we could use.\n",
    "\n",
    "* Compare read counts per chromosome normalized by chromosome length. (It may be hard to get chromosome counts per cell)\n",
    "* Compare read counts mapped to genic regions normalized by gene count (or total gene length).\n",
    "* Compare the proportion of genes \"expressed\".\n",
    "* Compare read count mapping to specific genes (i.e., housekeeping genes).\n",
    "\n",
    "The X chromosome is rather comparable in size and gene content to 2L, 2R, 3L, and 3R. I think the first three measures should all behave similarly. However, ultimately we also want to look at the behavior of Y and 4th in relation to the autosomes. These chromosomes have large differences in size and gene content, so I don't know if that will affect the usefullness of these three measures. \n",
    "\n",
    "The last measure conceptually sounds nice, housekeeping genes are throught to behave similarly across cell types. Any change is housekeeping expression would give strong evidence. However, annotation of what is a \"housekeeping\" gene is challenging, and more importantly these genes are not likely to be equally distributed across chromosomes. "
   ]
  },
  {
   "cell_type": "code",
   "execution_count": null,
   "metadata": {},
   "outputs": [],
   "source": [
    "import os\n",
    "import sys\n",
    "import re\n",
    "from pathlib import Path\n",
    "from itertools import combinations\n",
    "import re\n",
    "\n",
    "from IPython.display import display, HTML, Markdown\n",
    "import numpy as np\n",
    "import pandas as pd\n",
    "\n",
    "import matplotlib as mpl\n",
    "import matplotlib.pyplot as plt\n",
    "import seaborn as sns\n",
    "\n",
    "# Project level imports\n",
    "from larval_gonad.notebook import Nb\n",
    "from larval_gonad.stats import permutation_test_chrom1_lt_chrom2"
   ]
  },
  {
   "cell_type": "code",
   "execution_count": null,
   "metadata": {},
   "outputs": [],
   "source": [
    "# Setup notebook\n",
    "nbconfig = Nb.setup_notebook(seurat_dir='../output/scrnaseq-wf/scrnaseq_combine_force')"
   ]
  },
  {
   "cell_type": "code",
   "execution_count": null,
   "metadata": {},
   "outputs": [],
   "source": [
    "# Shortten cluster names for nicer plots\n",
    "cluster_annot = {\n",
    "    0: 'LS',\n",
    "    1: 'MC',\n",
    "    2: 'MS',\n",
    "    3: 'ES',\n",
    "    4: 'LC',\n",
    "    5: 'EC',\n",
    "    6: 'SP',\n",
    "    7: 'TE',\n",
    "    8: 'PC',\n",
    "}\n",
    "\n",
    "cluster_order = ['SP', 'ES', 'MS', 'LS', 'EC', 'MC', 'LC', 'TE', 'PC']\n",
    "\n",
    "# Get cell to cluster\n",
    "clusters = nbconfig.seurat.get_clusters('res.0.6')\n",
    "clusters = clusters[(clusters != 9) & (clusters != 10) & (clusters != 11)].copy()    # drop Unknown clusters\n",
    "clusters = clusters.map(cluster_annot)\n",
    "clusters = pd.Series(pd.Categorical(clusters.values, categories=cluster_order, ordered=True), index=pd.Index(clusters.index, name='cell_id'), name='cluster').to_frame()\n",
    "clusters['rep'] = clusters.index.str.extract('(rep\\d)_').values.flatten()\n",
    "clusters.head()"
   ]
  },
  {
   "cell_type": "code",
   "execution_count": null,
   "metadata": {},
   "outputs": [],
   "source": [
    "# Get fbgn to chromosome mappings \n",
    "chroms = nbconfig.fbgn2chrom.query('chrom != \"chrM\"').copy()    # Drop mitochondrion\n",
    "autosomes = ['chr2L', 'chr2R', 'chr3L', 'chr3R']\n",
    "chroms.chrom = chroms.chrom.astype('category')\n",
    "chroms.chrom = chroms.chrom.cat.reorder_categories(nbconfig.chrom_order)"
   ]
  },
  {
   "cell_type": "code",
   "execution_count": null,
   "metadata": {
    "lines_to_next_cell": 1
   },
   "outputs": [],
   "source": [
    "chrom_cbns = [\n",
    "    ('chrX', 'chr2L'), \n",
    "    ('chrX', 'chr2R'), \n",
    "    ('chrX', 'chr3L'), \n",
    "    ('chrX', 'chr3R'), \n",
    "    ('chrX', 'chrA'), \n",
    "    ('chr4', 'chr2L'), \n",
    "    ('chr4', 'chr2R'), \n",
    "    ('chr4', 'chr3L'), \n",
    "    ('chr4', 'chr3R'), \n",
    "    ('chr4', 'chrA'), \n",
    "    ('chrY', 'chr2L'), \n",
    "    ('chrY', 'chr2R'), \n",
    "    ('chrY', 'chr3L'), \n",
    "    ('chrY', 'chr3R'), \n",
    "    ('chrY', 'chrA'), \n",
    "]"
   ]
  },
  {
   "cell_type": "markdown",
   "metadata": {},
   "source": [
    "## Chromosome level counts"
   ]
  },
  {
   "cell_type": "code",
   "execution_count": null,
   "metadata": {
    "lines_to_next_cell": 1
   },
   "outputs": [],
   "source": [
    "def read_chrom_cnt(rep_num):\n",
    "    chrom_cnt = pd.read_csv(f'../output/scrnaseq-wf/scrnaseq_samples/testis{rep_num}_force/outs/possorted_genome_bam.bam_counts',  sep='\\t', index_col=0)\n",
    "    chrom_cnt.columns = ['chrom', 'UMI']\n",
    "    chrom_cnt.index = pd.Index([f'rep{rep_num}_{cell_id}' for cell_id in chrom_cnt.index], name='cell_id')\n",
    "    chrom_cnt.chrom = [f'chr{chrom}' for chrom in chrom_cnt.chrom]\n",
    "    chrom_cnt_wide = chrom_cnt.set_index('chrom', append=True).unstack().fillna(0)\n",
    "    chrom_cnt_wide.columns = chrom_cnt_wide.columns.droplevel(0)\n",
    "    return chrom_cnt_wide"
   ]
  },
  {
   "cell_type": "code",
   "execution_count": null,
   "metadata": {},
   "outputs": [],
   "source": [
    "# get rep 1 chromosome level counts by cell\n",
    "cnt1 = read_chrom_cnt(1)\n",
    "cnt1 = cnt1.reindex(clusters.index).dropna()    # Only keep cells that have cluster calls\n",
    "grps = cnt1.join(clusters).groupby('cluster')\n",
    "\n",
    "results = []\n",
    "for c, dd in grps:\n",
    "    for c1, c2 in chrom_cbns:\n",
    "        chrom1 = dd[c1]\n",
    "        if c2 == 'chrA':\n",
    "            chrom2 = dd[['chr2L', 'chr2R', 'chr3L', 'chr3R']].median(axis=1)\n",
    "        else:\n",
    "            chrom2 = dd[c2]\n",
    "        pval = permutation_test_chrom1_lt_chrom2(chrom1, chrom2)\n",
    "        results.append((c, c1, c2, pval))\n",
    "\n",
    "dat = -np.log10(pd.DataFrame(results, columns=['cluster', 'chrom1', 'chrom2', 'p_value']).set_index(['cluster', 'chrom1', 'chrom2']) + .0001)"
   ]
  },
  {
   "cell_type": "code",
   "execution_count": null,
   "metadata": {},
   "outputs": [],
   "source": [
    "fig, ax = plt.subplots(1, 1, figsize=(20, 8))\n",
    "dat.plot.bar(ax=ax, legend=False)\n",
    "ax.set_xlabel('Cluster Chrom1-Chrom2')\n",
    "ax.set_ylabel('-log10(p-value)')\n",
    "ax.set_ylim(0, None)\n",
    "ax.axhline(-np.log10(0.05), color='r', ls=':', label='0.05')\n",
    "ax.axhline(-np.log10(0.01), color='r', ls='-.', label='0.01')\n",
    "plt.legend()\n",
    "ax.set_title('Reads Mapping to Chromosome Arm')\n",
    "\n",
    "new_labels = []\n",
    "for l in ax.get_xticklabels():\n",
    "    txt = l.get_text()\n",
    "    clus, c1, c2 = re.match(f\"\\((\\w\\w), chr([\\w\\d]+), chr([\\w\\d]+)\\)\", txt).groups()\n",
    "    new_labels.append(f'{clus} {c1:<2}-{c2:<2}')\n",
    "ax.set_xticklabels(new_labels, fontsize=8, fontdict=dict(family='Monospace'))\n",
    "\n",
    "loc = 4.5\n",
    "for i in range(26):\n",
    "    ax.axvline(loc, color='k', alpha=0.3)\n",
    "    loc += 5\n",
    "    \n",
    "ax.add_patch(plt.Rectangle([-1, -1], width=15.5, height=10, zorder=0, alpha=.4, color=nbconfig.colors['clusters'][0]))\n",
    "ax.add_patch(plt.Rectangle([14.5, -1], width=15, height=10, zorder=0, alpha=.4, color=nbconfig.colors['clusters'][1]))\n",
    "ax.add_patch(plt.Rectangle([29.5, -1], width=15, height=10, zorder=0, alpha=.4, color=nbconfig.colors['clusters'][2]))\n",
    "ax.add_patch(plt.Rectangle([44.5, -1], width=15, height=10, zorder=0, alpha=.4, color=nbconfig.colors['clusters'][3]))\n",
    "ax.add_patch(plt.Rectangle([59.5, -1], width=15, height=10, zorder=0, alpha=.4, color=nbconfig.colors['clusters'][4]))\n",
    "ax.add_patch(plt.Rectangle([74.5, -1], width=15, height=10, zorder=0, alpha=.4, color=nbconfig.colors['clusters'][5]))\n",
    "ax.add_patch(plt.Rectangle([89.5, -1], width=15, height=10, zorder=0, alpha=.4, color=nbconfig.colors['clusters'][6]))\n",
    "ax.add_patch(plt.Rectangle([104.5, -1], width=15, height=10, zorder=0, alpha=.4, color=nbconfig.colors['clusters'][7]))\n",
    "ax.add_patch(plt.Rectangle([119.5, -1], width=15, height=10, zorder=0, alpha=.4, color=nbconfig.colors['clusters'][8]))"
   ]
  },
  {
   "cell_type": "markdown",
   "metadata": {},
   "source": [
    "## Normalized Chromosome level counts"
   ]
  },
  {
   "cell_type": "code",
   "execution_count": null,
   "metadata": {
    "lines_to_next_cell": 1
   },
   "outputs": [],
   "source": [
    "chrom_sizes = pd.read_csv('/data/LCDB/lcdb-references/dmel/r6-16/fasta/dmel_r6-16.chromsizes', sep='\\t', index_col=0, header=None)\n",
    "chrom_sizes.index.name = 'chrom'\n",
    "chrom_sizes.columns = ['chrom_size']\n",
    "chrom_sizes = chrom_sizes.reindex(nbconfig.chrom_order)\n",
    "chrom_sizes = chrom_sizes.chrom_size"
   ]
  },
  {
   "cell_type": "code",
   "execution_count": null,
   "metadata": {
    "lines_to_next_cell": 1
   },
   "outputs": [],
   "source": [
    "def read_chrom_cnt(rep_num):\n",
    "    chrom_cnt = pd.read_csv(f'../output/scrnaseq-wf/scrnaseq_samples/testis{rep_num}_force/outs/possorted_genome_bam.bam_counts',  sep='\\t', index_col=0)\n",
    "    chrom_cnt.columns = ['chrom', 'UMI']\n",
    "    chrom_cnt.index = pd.Index([f'rep{rep_num}_{cell_id}' for cell_id in chrom_cnt.index], name='cell_id')\n",
    "    chrom_cnt.chrom = [f'chr{chrom}' for chrom in chrom_cnt.chrom]\n",
    "    chrom_cnt_wide = chrom_cnt.set_index('chrom', append=True).unstack().fillna(0)\n",
    "    chrom_cnt_wide.columns = chrom_cnt_wide.columns.droplevel(0)\n",
    "    return chrom_cnt_wide"
   ]
  },
  {
   "cell_type": "code",
   "execution_count": null,
   "metadata": {},
   "outputs": [],
   "source": [
    "# get rep 1 chromosome level counts by cell\n",
    "cnt1 = read_chrom_cnt(1)\n",
    "cnt1 = cnt1.reindex(clusters.index).dropna()    # Only keep cells that have cluster calls\n",
    "cnt1_chrom_length_norm = cnt1.div(chrom_sizes / 1e7) \n",
    "grps = cnt1_chrom_length_norm.join(clusters).groupby('cluster')\n",
    "\n",
    "results = []\n",
    "for c, dd in grps:\n",
    "    for c1, c2 in chrom_cbns:\n",
    "        chrom1 = dd[c1]\n",
    "        if c2 == 'chrA':\n",
    "            chrom2 = dd[['chr2L', 'chr2R', 'chr3L', 'chr3R']].median(axis=1)\n",
    "        else:\n",
    "            chrom2 = dd[c2]\n",
    "        pval = permutation_test_chrom1_lt_chrom2(chrom1, chrom2)\n",
    "        results.append((c, c1, c2, pval))\n",
    "\n",
    "dat = -np.log10(pd.DataFrame(results, columns=['cluster', 'chrom1', 'chrom2', 'p_value']).set_index(['cluster', 'chrom1', 'chrom2']) + .0001)"
   ]
  },
  {
   "cell_type": "code",
   "execution_count": null,
   "metadata": {},
   "outputs": [],
   "source": [
    "fig, ax = plt.subplots(1, 1, figsize=(20, 8))\n",
    "dat.plot.bar(ax=ax, legend=False)\n",
    "ax.set_xlabel('Cluster Chrom1-Chrom2')\n",
    "ax.set_ylabel('-log10(p-value)')\n",
    "ax.set_ylim(0, None)\n",
    "ax.axhline(-np.log10(0.05), color='r', ls=':', label='0.05')\n",
    "ax.axhline(-np.log10(0.01), color='r', ls='-.', label='0.01')\n",
    "plt.legend()\n",
    "ax.set_title('Reads Mapping to Chromosome Arm / (chromosome length / 1e7)')\n",
    "\n",
    "new_labels = []\n",
    "for l in ax.get_xticklabels():\n",
    "    txt = l.get_text()\n",
    "    clus, c1, c2 = re.match(f\"\\((\\w\\w), chr([\\w\\d]+), chr([\\w\\d]+)\\)\", txt).groups()\n",
    "    new_labels.append(f'{clus} {c1:<2}-{c2:<2}')\n",
    "ax.set_xticklabels(new_labels, fontsize=8, fontdict=dict(family='Monospace'))\n",
    "\n",
    "loc = 4.5\n",
    "for i in range(26):\n",
    "    ax.axvline(loc, color='k', alpha=0.3)\n",
    "    loc += 5\n",
    "    \n",
    "ax.add_patch(plt.Rectangle([-1, -1], width=15.5, height=10, zorder=0, alpha=.4, color=nbconfig.colors['clusters'][0]))\n",
    "ax.add_patch(plt.Rectangle([14.5, -1], width=15, height=10, zorder=0, alpha=.4, color=nbconfig.colors['clusters'][1]))\n",
    "ax.add_patch(plt.Rectangle([29.5, -1], width=15, height=10, zorder=0, alpha=.4, color=nbconfig.colors['clusters'][2]))\n",
    "ax.add_patch(plt.Rectangle([44.5, -1], width=15, height=10, zorder=0, alpha=.4, color=nbconfig.colors['clusters'][3]))\n",
    "ax.add_patch(plt.Rectangle([59.5, -1], width=15, height=10, zorder=0, alpha=.4, color=nbconfig.colors['clusters'][4]))\n",
    "ax.add_patch(plt.Rectangle([74.5, -1], width=15, height=10, zorder=0, alpha=.4, color=nbconfig.colors['clusters'][5]))\n",
    "ax.add_patch(plt.Rectangle([89.5, -1], width=15, height=10, zorder=0, alpha=.4, color=nbconfig.colors['clusters'][6]))\n",
    "ax.add_patch(plt.Rectangle([104.5, -1], width=15, height=10, zorder=0, alpha=.4, color=nbconfig.colors['clusters'][7]))\n",
    "ax.add_patch(plt.Rectangle([119.5, -1], width=15, height=10, zorder=0, alpha=.4, color=nbconfig.colors['clusters'][8]))"
   ]
  },
  {
   "cell_type": "markdown",
   "metadata": {},
   "source": [
    "## All Gene Counts"
   ]
  },
  {
   "cell_type": "code",
   "execution_count": null,
   "metadata": {},
   "outputs": [],
   "source": [
    "raw = pd.read_parquet('../output/scrnaseq-wf/raw.parquet')"
   ]
  },
  {
   "cell_type": "code",
   "execution_count": null,
   "metadata": {},
   "outputs": [],
   "source": [
    "# get rep 1 chromosome level counts by cell\n",
    "raw_cnts_by_chrom = raw.join(nbconfig.fbgn2chrom).groupby('chrom').sum().T\n",
    "num_genes_by_chrom = raw.join(nbconfig.fbgn2chrom).groupby('chrom').size().T\n",
    "norm_raw_cnts_by_chrom = raw_cnts_by_chrom.div(num_genes_by_chrom / 1e3)"
   ]
  },
  {
   "cell_type": "code",
   "execution_count": null,
   "metadata": {},
   "outputs": [],
   "source": [
    "grps = norm_raw_cnts_by_chrom.join(clusters).groupby('cluster')\n",
    "\n",
    "results = []\n",
    "for c, dd in grps:\n",
    "    for c1, c2 in chrom_cbns:\n",
    "        chrom1 = dd[c1]\n",
    "        if c2 == 'chrA':\n",
    "            chrom2 = dd[['chr2L', 'chr2R', 'chr3L', 'chr3R']].median(axis=1)\n",
    "        else:\n",
    "            chrom2 = dd[c2]\n",
    "        pval = permutation_test_chrom1_lt_chrom2(chrom1, chrom2)\n",
    "        results.append((c, c1, c2, pval))\n",
    "\n",
    "dat = -np.log10(pd.DataFrame(results, columns=['cluster', 'chrom1', 'chrom2', 'p_value']).set_index(['cluster', 'chrom1', 'chrom2']) + .0001)"
   ]
  },
  {
   "cell_type": "code",
   "execution_count": null,
   "metadata": {},
   "outputs": [],
   "source": [
    "fig, ax = plt.subplots(1, 1, figsize=(20, 8))\n",
    "dat.plot.bar(ax=ax, legend=False)\n",
    "ax.set_xlabel('Cluster Chrom1-Chrom2')\n",
    "ax.set_ylabel('-log10(p-value)')\n",
    "ax.set_ylim(0, None)\n",
    "ax.axhline(-np.log10(0.05), color='r', ls=':', label='0.05')\n",
    "ax.axhline(-np.log10(0.01), color='r', ls='-.', label='0.01')\n",
    "plt.legend()\n",
    "ax.set_title('Reads Mapping to Genes / (number of genes / 1e3)')\n",
    "\n",
    "new_labels = []\n",
    "for l in ax.get_xticklabels():\n",
    "    txt = l.get_text()\n",
    "    clus, c1, c2 = re.match(f\"\\((\\w\\w), chr([\\w\\d]+), chr([\\w\\d]+)\\)\", txt).groups()\n",
    "    new_labels.append(f'{clus} {c1:<2}-{c2:<2}')\n",
    "ax.set_xticklabels(new_labels, fontsize=8, fontdict=dict(family='Monospace'))\n",
    "\n",
    "loc = 4.5\n",
    "for i in range(26):\n",
    "    ax.axvline(loc, color='k', alpha=0.3)\n",
    "    loc += 5\n",
    "    \n",
    "ax.add_patch(plt.Rectangle([-1, -1], width=15.5, height=10, zorder=0, alpha=.4, color=nbconfig.colors['clusters'][0]))\n",
    "ax.add_patch(plt.Rectangle([14.5, -1], width=15, height=10, zorder=0, alpha=.4, color=nbconfig.colors['clusters'][1]))\n",
    "ax.add_patch(plt.Rectangle([29.5, -1], width=15, height=10, zorder=0, alpha=.4, color=nbconfig.colors['clusters'][2]))\n",
    "ax.add_patch(plt.Rectangle([44.5, -1], width=15, height=10, zorder=0, alpha=.4, color=nbconfig.colors['clusters'][3]))\n",
    "ax.add_patch(plt.Rectangle([59.5, -1], width=15, height=10, zorder=0, alpha=.4, color=nbconfig.colors['clusters'][4]))\n",
    "ax.add_patch(plt.Rectangle([74.5, -1], width=15, height=10, zorder=0, alpha=.4, color=nbconfig.colors['clusters'][5]))\n",
    "ax.add_patch(plt.Rectangle([89.5, -1], width=15, height=10, zorder=0, alpha=.4, color=nbconfig.colors['clusters'][6]))\n",
    "ax.add_patch(plt.Rectangle([104.5, -1], width=15, height=10, zorder=0, alpha=.4, color=nbconfig.colors['clusters'][7]))\n",
    "ax.add_patch(plt.Rectangle([119.5, -1], width=15, height=10, zorder=0, alpha=.4, color=nbconfig.colors['clusters'][8]))"
   ]
  },
  {
   "cell_type": "code",
   "execution_count": null,
   "metadata": {},
   "outputs": [],
   "source": [
    "\n"
   ]
  },
  {
   "cell_type": "code",
   "execution_count": null,
   "metadata": {},
   "outputs": [],
   "source": [
    "\n"
   ]
  },
  {
   "cell_type": "code",
   "execution_count": null,
   "metadata": {},
   "outputs": [],
   "source": [
    "\n"
   ]
  },
  {
   "cell_type": "markdown",
   "metadata": {},
   "source": [
    "## Commonly Expressed Gene Counts"
   ]
  },
  {
   "cell_type": "code",
   "execution_count": null,
   "metadata": {},
   "outputs": [],
   "source": [
    "from larval_gonad.x_to_a import commonly_expressed"
   ]
  },
  {
   "cell_type": "code",
   "execution_count": null,
   "metadata": {},
   "outputs": [],
   "source": [
    "raw = pd.read_parquet('../output/scrnaseq-wf/raw.parquet')\n",
    "expressed = commonly_expressed(data=raw)\n",
    "raw = raw.reindex(expressed)\n",
    "nbconfig.fbgn2chrom.reindex(expressed).chrom.value_counts()"
   ]
  },
  {
   "cell_type": "code",
   "execution_count": null,
   "metadata": {},
   "outputs": [],
   "source": [
    "chrom_cbns_no_Y = [\n",
    "    ('chrX', 'chr2L'), \n",
    "    ('chrX', 'chr2R'), \n",
    "    ('chrX', 'chr3L'), \n",
    "    ('chrX', 'chr3R'), \n",
    "    ('chrX', 'chrA'), \n",
    "    ('chr4', 'chr2L'), \n",
    "    ('chr4', 'chr2R'), \n",
    "    ('chr4', 'chr3L'), \n",
    "    ('chr4', 'chr3R'), \n",
    "    ('chr4', 'chrA'), \n",
    "]"
   ]
  },
  {
   "cell_type": "code",
   "execution_count": null,
   "metadata": {},
   "outputs": [],
   "source": [
    "# get rep 1 chromosome level counts by cell\n",
    "raw_cnts_by_chrom = raw.join(nbconfig.fbgn2chrom).groupby('chrom').sum().T\n",
    "num_genes_by_chrom = raw.join(nbconfig.fbgn2chrom).groupby('chrom').size().T\n",
    "norm_raw_cnts_by_chrom = raw_cnts_by_chrom.div(num_genes_by_chrom / 1e1)"
   ]
  },
  {
   "cell_type": "code",
   "execution_count": null,
   "metadata": {},
   "outputs": [],
   "source": [
    "grps = norm_raw_cnts_by_chrom.join(clusters).groupby('cluster')\n",
    "\n",
    "results = []\n",
    "for c, dd in grps:\n",
    "    for c1, c2 in chrom_cbns_no_Y:\n",
    "        chrom1 = dd[c1]\n",
    "        if c2 == 'chrA':\n",
    "            chrom2 = dd[['chr2L', 'chr2R', 'chr3L', 'chr3R']].median(axis=1)\n",
    "        else:\n",
    "            chrom2 = dd[c2]\n",
    "        pval = permutation_test_chrom1_lt_chrom2(chrom1, chrom2)\n",
    "        results.append((c, c1, c2, pval))\n",
    "\n",
    "dat = -np.log10(pd.DataFrame(results, columns=['cluster', 'chrom1', 'chrom2', 'p_value']).set_index(['cluster', 'chrom1', 'chrom2']) + .0001)"
   ]
  },
  {
   "cell_type": "code",
   "execution_count": null,
   "metadata": {},
   "outputs": [],
   "source": [
    "fig, ax = plt.subplots(1, 1, figsize=(20, 8))\n",
    "dat.plot.bar(ax=ax, legend=False)\n",
    "ax.set_xlabel('Cluster Chrom1-Chrom2')\n",
    "ax.set_ylabel('-log10(p-value)')\n",
    "ax.set_ylim(0, None)\n",
    "ax.axhline(-np.log10(0.05), color='r', ls=':', label='0.05')\n",
    "ax.axhline(-np.log10(0.01), color='r', ls='-.', label='0.01')\n",
    "plt.legend()\n",
    "ax.set_title('Reads Mapping to Commonly Expressed Genes / (number of genes / 10)')\n",
    "\n",
    "new_labels = []\n",
    "for l in ax.get_xticklabels():\n",
    "    txt = l.get_text()\n",
    "    clus, c1, c2 = re.match(f\"\\((\\w\\w), chr([\\w\\d]+), chr([\\w\\d]+)\\)\", txt).groups()\n",
    "    new_labels.append(f'{clus} {c1:<2}-{c2:<2}')\n",
    "ax.set_xticklabels(new_labels, fontsize=8, fontdict=dict(family='Monospace'))\n",
    "\n",
    "loc = 4.5\n",
    "for i in range(26):\n",
    "    ax.axvline(loc, color='k', alpha=0.3)\n",
    "    loc += 5\n",
    "    \n",
    "ax.add_patch(plt.Rectangle([-1, -1], width=10.5, height=10, zorder=0, alpha=.4, color=nbconfig.colors['clusters'][0]))\n",
    "ax.add_patch(plt.Rectangle([9.5, -1], width=10, height=10, zorder=0, alpha=.4, color=nbconfig.colors['clusters'][1]))\n",
    "ax.add_patch(plt.Rectangle([19.5, -1], width=10, height=10, zorder=0, alpha=.4, color=nbconfig.colors['clusters'][2]))\n",
    "ax.add_patch(plt.Rectangle([29.5, -1], width=10, height=10, zorder=0, alpha=.4, color=nbconfig.colors['clusters'][3]))\n",
    "ax.add_patch(plt.Rectangle([39.5, -1], width=10, height=10, zorder=0, alpha=.4, color=nbconfig.colors['clusters'][4]))\n",
    "ax.add_patch(plt.Rectangle([49.5, -1], width=10, height=10, zorder=0, alpha=.4, color=nbconfig.colors['clusters'][5]))\n",
    "ax.add_patch(plt.Rectangle([59.5, -1], width=10, height=10, zorder=0, alpha=.4, color=nbconfig.colors['clusters'][6]))\n",
    "ax.add_patch(plt.Rectangle([69.5, -1], width=10, height=10, zorder=0, alpha=.4, color=nbconfig.colors['clusters'][7]))\n",
    "ax.add_patch(plt.Rectangle([79.5, -1], width=10, height=10, zorder=0, alpha=.4, color=nbconfig.colors['clusters'][8]))"
   ]
  },
  {
   "cell_type": "code",
   "execution_count": null,
   "metadata": {},
   "outputs": [],
   "source": [
    "\n"
   ]
  },
  {
   "cell_type": "code",
   "execution_count": null,
   "metadata": {},
   "outputs": [],
   "source": [
    "\n"
   ]
  },
  {
   "cell_type": "code",
   "execution_count": null,
   "metadata": {},
   "outputs": [],
   "source": [
    "\n"
   ]
  },
  {
   "cell_type": "code",
   "execution_count": null,
   "metadata": {},
   "outputs": [],
   "source": [
    "\n"
   ]
  },
  {
   "cell_type": "markdown",
   "metadata": {},
   "source": [
    "## Tau Gene Counts"
   ]
  },
  {
   "cell_type": "code",
   "execution_count": null,
   "metadata": {},
   "outputs": [],
   "source": [
    "tau = pd.read_csv('../output/notebook/2018-02-05_tau_modENCODE_tau.tsv', sep='\\t', index_col=0, header=None)\n",
    "tau.index.name = 'FBgn'\n",
    "tau.columns = ['tau']\n",
    "tau = tau.tau.dropna()"
   ]
  },
  {
   "cell_type": "code",
   "execution_count": null,
   "metadata": {},
   "outputs": [],
   "source": [
    "tau.plot(kind='kde')"
   ]
  },
  {
   "cell_type": "code",
   "execution_count": null,
   "metadata": {},
   "outputs": [],
   "source": [
    "housekeeping = tau[tau <= 0.85].index.tolist()"
   ]
  },
  {
   "cell_type": "code",
   "execution_count": null,
   "metadata": {},
   "outputs": [],
   "source": [
    "raw = pd.read_parquet('../output/scrnaseq-wf/raw.parquet')\n",
    "raw = raw.reindex(housekeeping).dropna()"
   ]
  },
  {
   "cell_type": "code",
   "execution_count": null,
   "metadata": {},
   "outputs": [],
   "source": [
    "raw.join(nbconfig.fbgn2chrom).chrom.value_counts()"
   ]
  },
  {
   "cell_type": "code",
   "execution_count": null,
   "metadata": {},
   "outputs": [],
   "source": [
    "chrom_cbns_no_Y = [\n",
    "    ('chrX', 'chr2L'), \n",
    "    ('chrX', 'chr2R'), \n",
    "    ('chrX', 'chr3L'), \n",
    "    ('chrX', 'chr3R'), \n",
    "    ('chrX', 'chrA'), \n",
    "    ('chr4', 'chr2L'), \n",
    "    ('chr4', 'chr2R'), \n",
    "    ('chr4', 'chr3L'), \n",
    "    ('chr4', 'chr3R'), \n",
    "    ('chr4', 'chrA'), \n",
    "]"
   ]
  },
  {
   "cell_type": "code",
   "execution_count": null,
   "metadata": {},
   "outputs": [],
   "source": [
    "# get rep 1 chromosome level counts by cell\n",
    "raw_cnts_by_chrom = raw.join(nbconfig.fbgn2chrom).groupby('chrom').sum().T\n",
    "num_genes_by_chrom = raw.join(nbconfig.fbgn2chrom).groupby('chrom').size().T\n",
    "norm_raw_cnts_by_chrom = raw_cnts_by_chrom.div(num_genes_by_chrom / 1e3)"
   ]
  },
  {
   "cell_type": "code",
   "execution_count": null,
   "metadata": {},
   "outputs": [],
   "source": [
    "grps = norm_raw_cnts_by_chrom.join(clusters).groupby('cluster')\n",
    "\n",
    "results = []\n",
    "for c, dd in grps:\n",
    "    for c1, c2 in chrom_cbns_no_Y:\n",
    "        chrom1 = dd[c1]\n",
    "        if c2 == 'chrA':\n",
    "            chrom2 = dd[['chr2L', 'chr2R', 'chr3L', 'chr3R']].median(axis=1)\n",
    "        else:\n",
    "            chrom2 = dd[c2]\n",
    "        pval = permutation_test_chrom1_lt_chrom2(chrom1, chrom2)\n",
    "        results.append((c, c1, c2, pval))\n",
    "\n",
    "dat = -np.log10(pd.DataFrame(results, columns=['cluster', 'chrom1', 'chrom2', 'p_value']).set_index(['cluster', 'chrom1', 'chrom2']) + .0001)"
   ]
  },
  {
   "cell_type": "code",
   "execution_count": null,
   "metadata": {},
   "outputs": [],
   "source": [
    "fig, ax = plt.subplots(1, 1, figsize=(20, 8))\n",
    "dat.plot.bar(ax=ax, legend=False)\n",
    "ax.set_xlabel('Cluster Chrom1-Chrom2')\n",
    "ax.set_ylabel('-log10(p-value)')\n",
    "ax.set_ylim(0, None)\n",
    "ax.axhline(-np.log10(0.05), color='r', ls=':', label='0.05')\n",
    "ax.axhline(-np.log10(0.01), color='r', ls='-.', label='0.01')\n",
    "plt.legend()\n",
    "ax.set_title('Reads Mapping to \"tau <=-0.85\" Genes / (number of genes / 1e3)')\n",
    "\n",
    "new_labels = []\n",
    "for l in ax.get_xticklabels():\n",
    "    txt = l.get_text()\n",
    "    clus, c1, c2 = re.match(f\"\\((\\w\\w), chr([\\w\\d]+), chr([\\w\\d]+)\\)\", txt).groups()\n",
    "    new_labels.append(f'{clus} {c1:<2}-{c2:<2}')\n",
    "ax.set_xticklabels(new_labels, fontsize=8, fontdict=dict(family='Monospace'))\n",
    "\n",
    "loc = 4.5\n",
    "for i in range(26):\n",
    "    ax.axvline(loc, color='k', alpha=0.3)\n",
    "    loc += 5\n",
    "    \n",
    "ax.add_patch(plt.Rectangle([-1, -1], width=10.5, height=10, zorder=0, alpha=.4, color=nbconfig.colors['clusters'][0]))\n",
    "ax.add_patch(plt.Rectangle([9.5, -1], width=10, height=10, zorder=0, alpha=.4, color=nbconfig.colors['clusters'][1]))\n",
    "ax.add_patch(plt.Rectangle([19.5, -1], width=10, height=10, zorder=0, alpha=.4, color=nbconfig.colors['clusters'][2]))\n",
    "ax.add_patch(plt.Rectangle([29.5, -1], width=10, height=10, zorder=0, alpha=.4, color=nbconfig.colors['clusters'][3]))\n",
    "ax.add_patch(plt.Rectangle([39.5, -1], width=10, height=10, zorder=0, alpha=.4, color=nbconfig.colors['clusters'][4]))\n",
    "ax.add_patch(plt.Rectangle([49.5, -1], width=10, height=10, zorder=0, alpha=.4, color=nbconfig.colors['clusters'][5]))\n",
    "ax.add_patch(plt.Rectangle([59.5, -1], width=10, height=10, zorder=0, alpha=.4, color=nbconfig.colors['clusters'][6]))\n",
    "ax.add_patch(plt.Rectangle([69.5, -1], width=10, height=10, zorder=0, alpha=.4, color=nbconfig.colors['clusters'][7]))\n",
    "ax.add_patch(plt.Rectangle([79.5, -1], width=10, height=10, zorder=0, alpha=.4, color=nbconfig.colors['clusters'][8]))"
   ]
  },
  {
   "cell_type": "code",
   "execution_count": null,
   "metadata": {},
   "outputs": [],
   "source": [
    "\n"
   ]
  },
  {
   "cell_type": "code",
   "execution_count": null,
   "metadata": {},
   "outputs": [],
   "source": [
    "\n"
   ]
  },
  {
   "cell_type": "markdown",
   "metadata": {},
   "source": [
    "## TSPS Gene Counts"
   ]
  },
  {
   "cell_type": "code",
   "execution_count": null,
   "metadata": {},
   "outputs": [],
   "source": [
    "tsps = pd.read_csv('../output/notebook/2018-02-05_tau_modENCODE_tsps.tsv', sep='\\t', index_col=0, header=None)\n",
    "tsps.index.name = 'FBgn'\n",
    "tsps.columns = ['tsps']\n",
    "tsps = tsps.tsps.dropna()"
   ]
  },
  {
   "cell_type": "code",
   "execution_count": null,
   "metadata": {},
   "outputs": [],
   "source": [
    "tsps.plot(kind='kde')"
   ]
  },
  {
   "cell_type": "code",
   "execution_count": null,
   "metadata": {},
   "outputs": [],
   "source": [
    "housekeeping = tsps[tsps <= 1].index.tolist()"
   ]
  },
  {
   "cell_type": "code",
   "execution_count": null,
   "metadata": {},
   "outputs": [],
   "source": [
    "raw = pd.read_parquet('../output/scrnaseq-wf/raw.parquet')\n",
    "raw = raw.reindex(housekeeping).dropna()"
   ]
  },
  {
   "cell_type": "code",
   "execution_count": null,
   "metadata": {},
   "outputs": [],
   "source": [
    "raw.join(nbconfig.fbgn2chrom).chrom.value_counts()"
   ]
  },
  {
   "cell_type": "code",
   "execution_count": null,
   "metadata": {},
   "outputs": [],
   "source": [
    "chrom_cbns_no_Y = [\n",
    "    ('chrX', 'chr2L'), \n",
    "    ('chrX', 'chr2R'), \n",
    "    ('chrX', 'chr3L'), \n",
    "    ('chrX', 'chr3R'), \n",
    "    ('chrX', 'chrA'), \n",
    "    ('chr4', 'chr2L'), \n",
    "    ('chr4', 'chr2R'), \n",
    "    ('chr4', 'chr3L'), \n",
    "    ('chr4', 'chr3R'), \n",
    "    ('chr4', 'chrA'), \n",
    "]"
   ]
  },
  {
   "cell_type": "code",
   "execution_count": null,
   "metadata": {},
   "outputs": [],
   "source": [
    "# get rep 1 chromosome level counts by cell\n",
    "raw_cnts_by_chrom = raw.join(nbconfig.fbgn2chrom).groupby('chrom').sum().T\n",
    "num_genes_by_chrom = raw.join(nbconfig.fbgn2chrom).groupby('chrom').size().T\n",
    "norm_raw_cnts_by_chrom = raw_cnts_by_chrom.div(num_genes_by_chrom / 1e3)"
   ]
  },
  {
   "cell_type": "code",
   "execution_count": null,
   "metadata": {},
   "outputs": [],
   "source": [
    "grps = norm_raw_cnts_by_chrom.join(clusters).groupby('cluster')\n",
    "\n",
    "results = []\n",
    "for c, dd in grps:\n",
    "    for c1, c2 in chrom_cbns_no_Y:\n",
    "        chrom1 = dd[c1]\n",
    "        if c2 == 'chrA':\n",
    "            chrom2 = dd[['chr2L', 'chr2R', 'chr3L', 'chr3R']].median(axis=1)\n",
    "        else:\n",
    "            chrom2 = dd[c2]\n",
    "        pval = permutation_test_chrom1_lt_chrom2(chrom1, chrom2)\n",
    "        results.append((c, c1, c2, pval))\n",
    "\n",
    "dat = -np.log10(pd.DataFrame(results, columns=['cluster', 'chrom1', 'chrom2', 'p_value']).set_index(['cluster', 'chrom1', 'chrom2']) + .0001)"
   ]
  },
  {
   "cell_type": "code",
   "execution_count": null,
   "metadata": {},
   "outputs": [],
   "source": [
    "fig, ax = plt.subplots(1, 1, figsize=(20, 8))\n",
    "dat.plot.bar(ax=ax, legend=False)\n",
    "ax.set_xlabel('Cluster Chrom1-Chrom2')\n",
    "ax.set_ylabel('-log10(p-value)')\n",
    "ax.set_ylim(0, None)\n",
    "ax.axhline(-np.log10(0.05), color='r', ls=':', label='0.05')\n",
    "ax.axhline(-np.log10(0.01), color='r', ls='-.', label='0.01')\n",
    "plt.legend()\n",
    "ax.set_title('Reads Mapping to \"tau <=-0.85\" Genes / (number of genes / 1e3)')\n",
    "\n",
    "new_labels = []\n",
    "for l in ax.get_xticklabels():\n",
    "    txt = l.get_text()\n",
    "    clus, c1, c2 = re.match(f\"\\((\\w\\w), chr([\\w\\d]+), chr([\\w\\d]+)\\)\", txt).groups()\n",
    "    new_labels.append(f'{clus} {c1:<2}-{c2:<2}')\n",
    "ax.set_xticklabels(new_labels, fontsize=8, fontdict=dict(family='Monospace'))\n",
    "\n",
    "loc = 4.5\n",
    "for i in range(26):\n",
    "    ax.axvline(loc, color='k', alpha=0.3)\n",
    "    loc += 5\n",
    "    \n",
    "ax.add_patch(plt.Rectangle([-1, -1], width=10.5, height=10, zorder=0, alpha=.4, color=nbconfig.colors['clusters'][0]))\n",
    "ax.add_patch(plt.Rectangle([9.5, -1], width=10, height=10, zorder=0, alpha=.4, color=nbconfig.colors['clusters'][1]))\n",
    "ax.add_patch(plt.Rectangle([19.5, -1], width=10, height=10, zorder=0, alpha=.4, color=nbconfig.colors['clusters'][2]))\n",
    "ax.add_patch(plt.Rectangle([29.5, -1], width=10, height=10, zorder=0, alpha=.4, color=nbconfig.colors['clusters'][3]))\n",
    "ax.add_patch(plt.Rectangle([39.5, -1], width=10, height=10, zorder=0, alpha=.4, color=nbconfig.colors['clusters'][4]))\n",
    "ax.add_patch(plt.Rectangle([49.5, -1], width=10, height=10, zorder=0, alpha=.4, color=nbconfig.colors['clusters'][5]))\n",
    "ax.add_patch(plt.Rectangle([59.5, -1], width=10, height=10, zorder=0, alpha=.4, color=nbconfig.colors['clusters'][6]))\n",
    "ax.add_patch(plt.Rectangle([69.5, -1], width=10, height=10, zorder=0, alpha=.4, color=nbconfig.colors['clusters'][7]))\n",
    "ax.add_patch(plt.Rectangle([79.5, -1], width=10, height=10, zorder=0, alpha=.4, color=nbconfig.colors['clusters'][8]))"
   ]
  },
  {
   "cell_type": "code",
   "execution_count": null,
   "metadata": {},
   "outputs": [],
   "source": [
    "\n"
   ]
  },
  {
   "cell_type": "markdown",
   "metadata": {},
   "source": [
    "## Example of how to display"
   ]
  },
  {
   "cell_type": "code",
   "execution_count": null,
   "metadata": {},
   "outputs": [],
   "source": [
    "def bootstrap(dat, n_boot=1000, estimator=np.median):\n",
    "    results = np.empty(n_boot)\n",
    "    for i in range(n_boot):\n",
    "        results[i] = estimator(dat.sample(n=dat.shape[0], replace=True))\n",
    "    return np.percentile(results, [2.5, 97.5])"
   ]
  },
  {
   "cell_type": "code",
   "execution_count": null,
   "metadata": {
    "lines_to_next_cell": 1
   },
   "outputs": [],
   "source": [
    "chrom_sizes = pd.read_csv('/data/LCDB/lcdb-references/dmel/r6-16/fasta/dmel_r6-16.chromsizes', sep='\\t', index_col=0, header=None)\n",
    "chrom_sizes.index.name = 'chrom'\n",
    "chrom_sizes.columns = ['chrom_size']\n",
    "chrom_sizes = chrom_sizes.reindex(nbconfig.chrom_order)\n",
    "chrom_sizes = chrom_sizes.chrom_size"
   ]
  },
  {
   "cell_type": "code",
   "execution_count": null,
   "metadata": {
    "lines_to_next_cell": 1
   },
   "outputs": [],
   "source": [
    "def read_chrom_cnt(rep_num):\n",
    "    chrom_cnt = pd.read_csv(f'../output/scrnaseq-wf/scrnaseq_samples/testis{rep_num}_force/outs/possorted_genome_bam.bam_counts',  sep='\\t', index_col=0)\n",
    "    chrom_cnt.columns = ['chrom', 'UMI']\n",
    "    chrom_cnt.index = pd.Index([f'rep{rep_num}_{cell_id}' for cell_id in chrom_cnt.index], name='cell_id')\n",
    "    chrom_cnt.chrom = [f'chr{chrom}' for chrom in chrom_cnt.chrom]\n",
    "    chrom_cnt_wide = chrom_cnt.set_index('chrom', append=True).unstack().fillna(0)\n",
    "    chrom_cnt_wide.columns = chrom_cnt_wide.columns.droplevel(0)\n",
    "    return chrom_cnt_wide"
   ]
  },
  {
   "cell_type": "code",
   "execution_count": null,
   "metadata": {},
   "outputs": [],
   "source": [
    "# get rep 1 chromosome level counts by cell\n",
    "cnt1 = read_chrom_cnt(1)\n",
    "cnt1 = cnt1.reindex(clusters.index).dropna()    # Only keep cells that have cluster calls\n",
    "cnt1_chrom_length_norm = cnt1.div(chrom_sizes / 1e7) "
   ]
  },
  {
   "cell_type": "code",
   "execution_count": null,
   "metadata": {},
   "outputs": [],
   "source": [
    "chrom_cbns = [\n",
    "    ('chrX', 'chrA'), \n",
    "    ('chr4', 'chrA'), \n",
    "    ('chrY', 'chrA'), \n",
    "]"
   ]
  },
  {
   "cell_type": "code",
   "execution_count": null,
   "metadata": {},
   "outputs": [],
   "source": [
    "grps = cnt1_chrom_length_norm.join(clusters).groupby('cluster')\n",
    "\n",
    "results = []\n",
    "for c, dd in grps:\n",
    "    for c1, c2 in chrom_cbns:\n",
    "        chrom1 = dd[c1]\n",
    "        if c2 == 'chrA':\n",
    "            chrom2 = dd[['chr2L', 'chr2R', 'chr3L', 'chr3R']].median(axis=1)\n",
    "            ratio = chrom1 / chrom2\n",
    "            median_ratio = np.median(ratio)\n",
    "            lower, upper = bootstrap(ratio)\n",
    "            log2fold = np.log2(median_ratio)\n",
    "            pval = permutation_test_chrom1_lt_chrom2(chrom1, chrom2)\n",
    "            results.append((c, c1, median_ratio, upper, lower, log2fold, pval))\n",
    "\n",
    "dat = pd.DataFrame(results, columns=['cluster', 'chrom', 'median_ratio', 'upper_ci', 'lower_ci', 'log2fold_change', 'p_value']).set_index(['cluster', 'chrom'])"
   ]
  },
  {
   "cell_type": "code",
   "execution_count": null,
   "metadata": {},
   "outputs": [],
   "source": [
    "datx = dat.query('chrom == \"chrX\"')\n",
    "datx.index = datx.index.droplevel('chrom')"
   ]
  },
  {
   "cell_type": "code",
   "execution_count": null,
   "metadata": {},
   "outputs": [],
   "source": [
    "dat4 = dat.query('chrom == \"chr4\"')\n",
    "dat4.index = dat4.index.droplevel('chrom')"
   ]
  },
  {
   "cell_type": "code",
   "execution_count": null,
   "metadata": {},
   "outputs": [],
   "source": [
    "fig, ax = plt.subplots(1, 1, figsize=(20, 10))\n",
    "datx.median_ratio.plot(ax=ax, marker='o', color='k', label='chrX')\n",
    "dat4.median_ratio.plot(ax=ax, marker='^', color='gray', label='chr4')\n",
    "\n",
    "for i, (l, dd) in enumerate(datx.iterrows()):\n",
    "    _color = nbconfig.colors['clusters'][i]\n",
    "    ax.plot([i, i], [dd.lower_ci, dd.upper_ci], color=_color, zorder=0, lw=1.5)\n",
    "    ax.plot([i-.1, i+.1], [dd.lower_ci, dd.lower_ci], color=_color, zorder=0, lw=1.5)\n",
    "    ax.plot([i-.1, i+.1], [dd.upper_ci, dd.upper_ci], color=_color, zorder=0, lw=1.5)\n",
    "    ax.scatter([i, ], [dd.median_ratio, ], color=_color, s=100, zorder=10)\n",
    "    if dd.p_value <= 0.001:\n",
    "        ax.text(i, dd.upper_ci, '***', ha='center', va='bottom')\n",
    "    elif dd.p_value <= 0.01:\n",
    "        ax.text(i, dd.upper_ci, '**', ha='center', va='bottom')\n",
    "    elif dd.p_value <= 0.05:\n",
    "        ax.text(i, dd.upper_ci, '*', ha='center', va='bottom')\n",
    "    \n",
    "for i, (l, dd) in enumerate(dat4.iterrows()):\n",
    "    _color = nbconfig.colors['clusters'][i]\n",
    "    ax.plot([i, i], [dd.lower_ci, dd.upper_ci], color=_color, zorder=0, lw=1.5)\n",
    "    ax.plot([i-.1, i+.1], [dd.lower_ci, dd.lower_ci], color=_color, zorder=0, lw=1.5)\n",
    "    ax.plot([i-.1, i+.1], [dd.upper_ci, dd.upper_ci], color=_color, zorder=0, lw=1.5)\n",
    "    ax.scatter([i, ], [dd.median_ratio, ], marker='^', color=_color, s=100, zorder=10)\n",
    "    if dd.p_value <= 0.001:\n",
    "        ax.text(i, dd.upper_ci, '***', ha='center', va='bottom')\n",
    "    elif dd.p_value <= 0.01:\n",
    "        ax.text(i, dd.upper_ci, '**', ha='center', va='bottom')\n",
    "    elif dd.p_value <= 0.05:\n",
    "        ax.text(i, dd.upper_ci, '*', ha='center', va='bottom')\n",
    "    \n",
    "ax.set_xticks(range(9))\n",
    "ax.set_xticklabels(datx.index.tolist())\n",
    "ax.axhline(1, color='r', alpha=.3, ls='--')\n",
    "ax.set_ylim(0.25, 1.45)\n",
    "ax.set_ylabel('X:A Ratio')\n",
    "\n",
    "plt.legend()\n",
    "plt.title('X and 4 to Autosome Ratio\\n(Mapping to Chromosome)')"
   ]
  },
  {
   "cell_type": "code",
   "execution_count": null,
   "metadata": {},
   "outputs": [],
   "source": [
    "\n"
   ]
  },
  {
   "cell_type": "code",
   "execution_count": null,
   "metadata": {},
   "outputs": [],
   "source": [
    "\n"
   ]
  },
  {
   "cell_type": "code",
   "execution_count": null,
   "metadata": {},
   "outputs": [],
   "source": [
    "fig, ax = plt.subplots(1, 1, figsize=(20, 10))\n",
    "(-1 * datx.log2fold_change).plot(ax=ax, marker='o', color='k', label='chrX')\n",
    "(-1 * dat4.log2fold_change).plot(ax=ax, marker='^', color='gray', label='chr4')\n",
    "\n",
    "ax.set_xticks(range(9))\n",
    "ax.set_xticklabels(datx.index.tolist())\n",
    "ax.axhline(0, color='r', alpha=.3, ls='--')\n",
    "ax.set_ylabel('-log2FoldChange')\n",
    "\n",
    "plt.legend()"
   ]
  },
  {
   "cell_type": "code",
   "execution_count": null,
   "metadata": {},
   "outputs": [],
   "source": [
    "\n"
   ]
  },
  {
   "cell_type": "code",
   "execution_count": null,
   "metadata": {},
   "outputs": [],
   "source": [
    "\n"
   ]
  },
  {
   "cell_type": "code",
   "execution_count": null,
   "metadata": {},
   "outputs": [],
   "source": [
    "\n"
   ]
  },
  {
   "cell_type": "code",
   "execution_count": null,
   "metadata": {},
   "outputs": [],
   "source": [
    "\n"
   ]
  },
  {
   "cell_type": "code",
   "execution_count": null,
   "metadata": {},
   "outputs": [],
   "source": [
    "\n"
   ]
  },
  {
   "cell_type": "code",
   "execution_count": null,
   "metadata": {},
   "outputs": [],
   "source": [
    "\n"
   ]
  },
  {
   "cell_type": "code",
   "execution_count": null,
   "metadata": {},
   "outputs": [],
   "source": [
    "\n"
   ]
  },
  {
   "cell_type": "code",
   "execution_count": null,
   "metadata": {},
   "outputs": [],
   "source": [
    "\n"
   ]
  },
  {
   "cell_type": "code",
   "execution_count": null,
   "metadata": {},
   "outputs": [],
   "source": [
    "\n"
   ]
  },
  {
   "cell_type": "code",
   "execution_count": null,
   "metadata": {},
   "outputs": [],
   "source": [
    "\n"
   ]
  },
  {
   "cell_type": "code",
   "execution_count": null,
   "metadata": {},
   "outputs": [],
   "source": [
    "\n"
   ]
  },
  {
   "cell_type": "code",
   "execution_count": null,
   "metadata": {},
   "outputs": [],
   "source": [
    "\n"
   ]
  },
  {
   "cell_type": "code",
   "execution_count": null,
   "metadata": {},
   "outputs": [],
   "source": [
    "\n"
   ]
  },
  {
   "cell_type": "code",
   "execution_count": null,
   "metadata": {},
   "outputs": [],
   "source": [
    "\n"
   ]
  },
  {
   "cell_type": "code",
   "execution_count": null,
   "metadata": {},
   "outputs": [],
   "source": [
    "\n"
   ]
  },
  {
   "cell_type": "code",
   "execution_count": null,
   "metadata": {},
   "outputs": [],
   "source": [
    "\n"
   ]
  },
  {
   "cell_type": "code",
   "execution_count": null,
   "metadata": {
    "lines_to_next_cell": 2
   },
   "outputs": [],
   "source": [
    "\n"
   ]
  }
 ],
 "metadata": {
  "kernelspec": {
   "display_name": "Python [conda env:larval_gonad]",
   "language": "python",
   "name": "conda-env-larval_gonad-py"
  }
 },
 "nbformat": 4,
 "nbformat_minor": 2
}
