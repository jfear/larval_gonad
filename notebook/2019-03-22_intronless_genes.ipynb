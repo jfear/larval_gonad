{
 "cells": [
  {
   "cell_type": "markdown",
   "metadata": {},
   "source": [
    "# Intronless genes"
   ]
  },
  {
   "cell_type": "markdown",
   "metadata": {},
   "source": [
    "I want to make a list of genes that do not have introns."
   ]
  },
  {
   "cell_type": "code",
   "execution_count": 1,
   "metadata": {},
   "outputs": [],
   "source": [
    "import os\n",
    "from pathlib import Path\n",
    "\n",
    "from gffutils import FeatureDB"
   ]
  },
  {
   "cell_type": "code",
   "execution_count": 2,
   "metadata": {},
   "outputs": [],
   "source": [
    "fname = Path(os.environ['REFERENCES_DIR'])  / 'dmel/r6-16/gtf/dmel_r6-16.gtf.db'\n",
    "db = FeatureDB(fname.as_posix())"
   ]
  },
  {
   "cell_type": "code",
   "execution_count": 114,
   "metadata": {},
   "outputs": [],
   "source": [
    "intron_counts = {}\n",
    "for gene in db.features_of_type('gene'):\n",
    "    intron_counts[gene.id] = 0"
   ]
  },
  {
   "cell_type": "code",
   "execution_count": 121,
   "metadata": {},
   "outputs": [],
   "source": [
    "for intron in db.create_introns():\n",
    "    intron_counts[intron.attributes['gene_id'][0]] += 1"
   ]
  },
  {
   "cell_type": "code",
   "execution_count": 123,
   "metadata": {},
   "outputs": [
    {
     "name": "stdout",
     "output_type": "stream",
     "text": [
      "FBgn0052826\n"
     ]
    }
   ],
   "source": [
    "for fbgn, cnt in intron_counts.items():\n",
    "    if cnt == 0:\n",
    "        print(fbgn)\n",
    "        break"
   ]
  },
  {
   "cell_type": "code",
   "execution_count": 30,
   "metadata": {},
   "outputs": [],
   "source": [
    "coding = set()\n",
    "noncoding = set()\n",
    "for gene in db.features_of_type('gene'):\n",
    "    if len(list(db.children(gene, featuretype='CDS'))) == 0:\n",
    "        noncoding.add(gene.id)\n",
    "    else:\n",
    "        coding.add(gene.id)"
   ]
  },
  {
   "cell_type": "code",
   "execution_count": 31,
   "metadata": {},
   "outputs": [
    {
     "data": {
      "text/plain": [
       "(3799, 13930)"
      ]
     },
     "execution_count": 31,
     "metadata": {},
     "output_type": "execute_result"
    }
   ],
   "source": [
    "len(noncoding), len(coding)"
   ]
  },
  {
   "cell_type": "code",
   "execution_count": 34,
   "metadata": {},
   "outputs": [],
   "source": [
    "with open('/home/fearjm/Downloads/FlyBase_IDs (1).txt', 'r') as fh:\n",
    "    fbnc = fh.read().strip().split('\\n')"
   ]
  },
  {
   "cell_type": "code",
   "execution_count": 36,
   "metadata": {},
   "outputs": [],
   "source": [
    "fbnc = set(fbnc)"
   ]
  },
  {
   "cell_type": "code",
   "execution_count": 37,
   "metadata": {},
   "outputs": [
    {
     "data": {
      "text/plain": [
       "2525"
      ]
     },
     "execution_count": 37,
     "metadata": {},
     "output_type": "execute_result"
    }
   ],
   "source": []
  },
  {
   "cell_type": "code",
   "execution_count": 39,
   "metadata": {},
   "outputs": [
    {
     "data": {
      "text/plain": [
       "2483"
      ]
     },
     "execution_count": 39,
     "metadata": {},
     "output_type": "execute_result"
    }
   ],
   "source": [
    "len(noncoding.intersection(fbnc))"
   ]
  },
  {
   "cell_type": "code",
   "execution_count": 43,
   "metadata": {},
   "outputs": [
    {
     "data": {
      "text/plain": [
       "{'FBgn0000001',\n",
       " 'FBgn0004084',\n",
       " 'FBgn0065093',\n",
       " 'FBgn0065103',\n",
       " 'FBgn0284423',\n",
       " 'FBgn0284424',\n",
       " 'FBgn0284425',\n",
       " 'FBgn0284426',\n",
       " 'FBgn0284427',\n",
       " 'FBgn0284428',\n",
       " 'FBgn0284429',\n",
       " 'FBgn0284430',\n",
       " 'FBgn0284431',\n",
       " 'FBgn0284432',\n",
       " 'FBgn0285959',\n",
       " 'FBgn0285966',\n",
       " 'FBgn0285969',\n",
       " 'FBgn0285991',\n",
       " 'FBgn0285992',\n",
       " 'FBgn0285993',\n",
       " 'FBgn0285994',\n",
       " 'FBgn0286028',\n",
       " 'FBgn0286029',\n",
       " 'FBgn0286030',\n",
       " 'FBgn0286031',\n",
       " 'FBgn0286032',\n",
       " 'FBgn0286033',\n",
       " 'FBgn0286034',\n",
       " 'FBgn0286035',\n",
       " 'FBgn0286036',\n",
       " 'FBgn0286037',\n",
       " 'FBgn0286038',\n",
       " 'FBgn0286039',\n",
       " 'FBgn0286040',\n",
       " 'FBgn0286041',\n",
       " 'FBgn0286042',\n",
       " 'FBgn0286736',\n",
       " 'FBgn0286737',\n",
       " 'FBgn0286738',\n",
       " 'FBgn0286739',\n",
       " 'FBgn0286740',\n",
       " 'FBgn0286827'}"
      ]
     },
     "execution_count": 43,
     "metadata": {},
     "output_type": "execute_result"
    }
   ],
   "source": [
    "fbnc - noncoding"
   ]
  },
  {
   "cell_type": "code",
   "execution_count": null,
   "metadata": {},
   "outputs": [],
   "source": []
  }
 ],
 "metadata": {
  "jupytext": {
   "text_representation": {
    "extension": ".py",
    "format_name": "percent",
    "format_version": "1.2",
    "jupytext_version": "1.0.0"
   }
  },
  "kernelspec": {
   "display_name": "Python [conda env:larval_gonad]",
   "language": "python",
   "name": "conda-env-larval_gonad-py"
  },
  "language_info": {
   "codemirror_mode": {
    "name": "ipython",
    "version": 3
   },
   "file_extension": ".py",
   "mimetype": "text/x-python",
   "name": "python",
   "nbconvert_exporter": "python",
   "pygments_lexer": "ipython3",
   "version": "3.6.3"
  }
 },
 "nbformat": 4,
 "nbformat_minor": 2
}
