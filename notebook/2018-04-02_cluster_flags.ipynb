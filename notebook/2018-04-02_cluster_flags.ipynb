{
 "cells": [
  {
   "cell_type": "code",
   "execution_count": 1,
   "metadata": {},
   "outputs": [
    {
     "name": "stdout",
     "output_type": "stream",
     "text": [
      "last updated: 2018-04-02 \n",
      "Git hash: 6ffa85dd58c284a310b117876de44df894907c6b\n"
     ]
    }
   ],
   "source": [
    "import os\n",
    "import sys\n",
    "from pathlib import Path\n",
    "\n",
    "from IPython.display import display, HTML, Markdown\n",
    "import numpy as np\n",
    "import pandas as pd\n",
    "\n",
    "import matplotlib as mpl\n",
    "import matplotlib.pyplot as plt\n",
    "import seaborn as sns\n",
    "\n",
    "# Project level imports\n",
    "sys.path.insert(0, '../lib')\n",
    "from larval_gonad.notebook import Nb\n",
    "from larval_gonad.plotting import make_figs\n",
    "from larval_gonad.config import memory\n",
    "\n",
    "# Setup notebook\n",
    "nbconfig = Nb.setup_notebook(seurat_dir='../output/combined_testis_force')"
   ]
  },
  {
   "cell_type": "code",
   "execution_count": 2,
   "metadata": {},
   "outputs": [],
   "source": [
    "norm = nbconfig.seurat.get_normalized_read_counts()\n",
    "clusters = nbconfig.seurat.get_clusters()"
   ]
  },
  {
   "cell_type": "code",
   "execution_count": 3,
   "metadata": {},
   "outputs": [],
   "source": [
    "def get_cluster_genes(gt, lt):\n",
    "    name = f'gt{gt}_lt{lt}_'\n",
    "    res = pd.DataFrame(index=norm.index, columns=[name + str(x) for x in sorted(clusters['res.0.4'].unique())]).fillna(False)\n",
    "\n",
    "    for i, c in clusters.groupby('res.0.4'):\n",
    "        cells = c.index\n",
    "        inclus = norm[cells]\n",
    "        outclus = norm.loc[:, ~norm.columns.isin(cells)]\n",
    "        n_inclus = inclus.shape[1]\n",
    "        n_outclus = outclus.shape[1]\n",
    "\n",
    "        expressed_inclus = (inclus > 0).sum(axis=1)\n",
    "        expressed_outclus = (outclus > 0).sum(axis=1)\n",
    "\n",
    "        half_expressed_inclus = (expressed_inclus / n_inclus * 100 >= gt)\n",
    "        pct_expressed_outclus = (expressed_outclus / n_outclus * 100 <= lt)\n",
    "\n",
    "        res.loc[pd.concat([half_expressed_inclus, pct_expressed_outclus], axis=1).sum(axis=1) > 1, name + str(i)] = True\n",
    "        \n",
    "    return res"
   ]
  },
  {
   "cell_type": "code",
   "execution_count": 4,
   "metadata": {},
   "outputs": [],
   "source": [
    "results_60_1 = get_cluster_genes(60, 1)\n",
    "results_60_5 = get_cluster_genes(60, 5)\n",
    "results_60_10 = get_cluster_genes(60, 10)\n",
    "results_50_1 = get_cluster_genes(50, 1)\n",
    "results_50_5 = get_cluster_genes(50, 5)\n",
    "results_50_10 = get_cluster_genes(50, 10)"
   ]
  },
  {
   "cell_type": "code",
   "execution_count": 5,
   "metadata": {},
   "outputs": [],
   "source": [
    "results = pd.concat([results_60_1, results_60_5, results_60_10, \n",
    "                     results_50_1, results_50_5, results_50_10], axis=1)\n",
    "results = results.stack().to_frame()\n",
    "results.columns = ['flag']\n",
    "results.reset_index(level=-1, inplace=True)\n",
    "\n",
    "results = results[results.flag].copy()\n",
    "results.drop('flag', inplace=True, axis=1)\n",
    "\n",
    "results['cluster'] = results['level_1'].map(lambda x: x.split('_')[-1]).astype(np.int64)\n",
    "results['pct_in_cluster'] = results['level_1'].map(lambda x: x.split('_')[0])\n",
    "results['pct_outside_cluster'] = results['level_1'].map(lambda x: x.split('_')[1])\n",
    "\n",
    "results.drop('level_1', axis=1, inplace=True)\n",
    "results = results[['cluster', 'pct_in_cluster', 'pct_outside_cluster']]\n",
    "results.reset_index(inplace=True)"
   ]
  },
  {
   "cell_type": "code",
   "execution_count": 6,
   "metadata": {},
   "outputs": [],
   "source": [
    "sums = norm.T.join(clusters['res.0.4']).groupby(\"res.0.4\").sum().T\n",
    "sums = sums.unstack().to_frame().reset_index(level=0)\n",
    "sums.columns = ['cluster', 'sum']\n",
    "sums.index.name = 'FBgn'\n",
    "sums.reset_index(inplace=True)"
   ]
  },
  {
   "cell_type": "code",
   "execution_count": 7,
   "metadata": {},
   "outputs": [],
   "source": [
    "res = {}\n",
    "for i, g in norm.T.join(clusters['res.0.4']).groupby('res.0.4'):\n",
    "    res[i] = (g > 0).sum()\n",
    "\n",
    "sizes = pd.DataFrame(res)\n",
    "\n",
    "sizes = sizes.unstack().to_frame().reset_index(level=0)\n",
    "sizes.columns = ['cluster', 'num_cells']\n",
    "sizes.index.name = 'FBgn'\n",
    "sizes.reset_index(inplace=True)"
   ]
  },
  {
   "cell_type": "code",
   "execution_count": 8,
   "metadata": {},
   "outputs": [],
   "source": [
    "on = ['FBgn', 'cluster']\n",
    "merged = results.merge(sizes, on=on).merge(sums, on=on)"
   ]
  },
  {
   "cell_type": "code",
   "execution_count": 9,
   "metadata": {},
   "outputs": [],
   "source": [
    "merged['gene'] = merged.FBgn.map(lambda x: nbconfig.fbgn2symbol[x])\n",
    "merged.set_index(['FBgn', 'gene'], inplace=True)"
   ]
  },
  {
   "cell_type": "code",
   "execution_count": 10,
   "metadata": {},
   "outputs": [],
   "source": [
    "merged.sort_values('cluster', inplace=True)"
   ]
  },
  {
   "cell_type": "code",
   "execution_count": 12,
   "metadata": {},
   "outputs": [],
   "source": [
    "merged.reset_index().to_excel('../output/2018-04-02_cluster_flags.xlsx', index=False)"
   ]
  },
  {
   "cell_type": "code",
   "execution_count": null,
   "metadata": {},
   "outputs": [],
   "source": []
  }
 ],
 "metadata": {
  "kernelspec": {
   "display_name": "Python [conda env:larval_gonad]",
   "language": "python",
   "name": "conda-env-larval_gonad-py"
  },
  "language_info": {
   "codemirror_mode": {
    "name": "ipython",
    "version": 3
   },
   "file_extension": ".py",
   "mimetype": "text/x-python",
   "name": "python",
   "nbconvert_exporter": "python",
   "pygments_lexer": "ipython3",
   "version": "3.6.3"
  }
 },
 "nbformat": 4,
 "nbformat_minor": 2
}
