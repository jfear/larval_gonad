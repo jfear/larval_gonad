{
 "cells": [
  {
   "cell_type": "markdown",
   "metadata": {},
   "source": [
    "# FlyMeeting Talk Figures"
   ]
  },
  {
   "cell_type": "code",
   "execution_count": 1,
   "metadata": {},
   "outputs": [
    {
     "name": "stdout",
     "output_type": "stream",
     "text": [
      "last updated: 2018-04-10 \n",
      "Git hash: 6eb6ba5ecfa67f0cc16e9f71644f0e86b7762ef2\n"
     ]
    }
   ],
   "source": [
    "import os\n",
    "import sys\n",
    "from pathlib import Path\n",
    "from itertools import zip_longest\n",
    "\n",
    "from IPython.display import display, HTML, Markdown\n",
    "import numpy as np\n",
    "import pandas as pd\n",
    "\n",
    "import matplotlib as mpl\n",
    "import matplotlib.pyplot as plt\n",
    "import seaborn as sns\n",
    "\n",
    "# Project level imports\n",
    "sys.path.insert(0, '../lib')\n",
    "from larval_gonad.notebook import Nb\n",
    "from larval_gonad.plotting import make_figs, TSNEPlot\n",
    "from larval_gonad.config import memory\n",
    "from larval_gonad.cell_selection import SOMA, EARLY_GERM, LATE_GERM\n",
    "from larval_gonad.x_to_a import multi_chrom_boxplot, commonly_expressed, CHROMS_CHR\n",
    "\n",
    "# Setup notebook\n",
    "nbconfig = Nb.setup_notebook(subproject_dir='../output/FlyMeeting_2018_poster', seurat_dir='../output/combined_testis_force', formats=['png', 'pdf'], styles=['notebook', 'poster'])"
   ]
  },
  {
   "cell_type": "code",
   "execution_count": 2,
   "metadata": {},
   "outputs": [],
   "source": [
    "colors = sns.color_palette('tab20', n_colors=12, desat=.8)\n",
    "greys = sns.color_palette('Greys')\n",
    "reds = sns.color_palette('Reds')\n",
    "reds[0] = greys[1]\n",
    "blacks = [greys[1], '#000000']\n",
    "\n",
    "boxplot_colors = [\n",
    "    reds[-1],     # X\n",
    "    '#ffffff', # 2L\n",
    "    '#ffffff', # 2R\n",
    "    '#ffffff', # 3L\n",
    "    '#ffffff', # 3R\n",
    "    reds[-1],     # 4\n",
    "]"
   ]
  },
  {
   "cell_type": "code",
   "execution_count": 3,
   "metadata": {},
   "outputs": [],
   "source": [
    "clusters = nbconfig.seurat.get_clusters()\n",
    "tsne = nbconfig.seurat.get_tsne()\n",
    "norm = nbconfig.seurat.get_normalized_read_counts()"
   ]
  },
  {
   "cell_type": "code",
   "execution_count": 4,
   "metadata": {},
   "outputs": [],
   "source": [
    "@make_figs(nbconfig.fig_name('tsne_clusters'), styles=['poster-full'], formats='png')\n",
    "def _plot():\n",
    "    TSNEPlot(data=tsne.join(clusters['res.0.4']), hue='res.0.4', palette=colors, s=100)\n",
    "    ax = plt.gca()\n",
    "    ax.set_aspect('equal')\n",
    "    sns.despine()\n",
    "    ax.legend_.remove()\n",
    "    \n",
    "_plot()"
   ]
  },
  {
   "cell_type": "code",
   "execution_count": 5,
   "metadata": {},
   "outputs": [],
   "source": [
    "def gene_tsne(gene, ax=None, cbar=False, **kwargs):\n",
    "    fbgn = nbconfig.symbol2fbgn[gene]\n",
    "    if ax is None:\n",
    "        fig, ax = plt.subplots(1)\n",
    "    try:\n",
    "        TSNEPlot(data=tsne.join(norm.T), hue=fbgn, palette=reds, ax=ax, cbar=cbar, s=30, **kwargs)\n",
    "    except KeyError:\n",
    "        pass\n",
    "\n",
    "    ax.set_aspect('equal')\n",
    "    ax.set_xlabel('')\n",
    "    ax.set_ylabel('')\n",
    "    \n",
    "    if gene.startswith('CG'):\n",
    "        _gene = gene\n",
    "    else:\n",
    "        _gene = ''\n",
    "        for i, l in enumerate(gene):\n",
    "            if i == 0:\n",
    "                _gene += l.lower()\n",
    "            else:\n",
    "                _gene += l\n",
    "    \n",
    "    ax.set_title(f'{_gene}', style='italic', fontdict={'size': 30})\n",
    "    sns.despine()\n",
    "    plt.tight_layout()"
   ]
  },
  {
   "cell_type": "code",
   "execution_count": 6,
   "metadata": {},
   "outputs": [],
   "source": [
    "import string\n",
    "def sanitize(name):\n",
    "    valid_chars = \"-_.%s%s\" %(string.ascii_letters, string.digits)\n",
    "    return ''.join([x for x in name if x in valid_chars])"
   ]
  },
  {
   "cell_type": "code",
   "execution_count": 7,
   "metadata": {},
   "outputs": [],
   "source": [
    "sharvani = [\n",
    "    'tj',\n",
    "    'hui',\n",
    "    'glob1',\n",
    "    'CG13748',\n",
    "    'retn',\n",
    "    'vkg',\n",
    "    'bam',\n",
    "    'fzo',\n",
    "    'esg',\n",
    "    'upd1',\n",
    "    'nord',\n",
    "    'bol',\n",
    "    'nos',\n",
    "    'Tpc2',\n",
    "    'p53',\n",
    "    'Tsp74F',\n",
    "    'CG42458',\n",
    "    'Mapmodulin',\n",
    "]\n",
    "\n",
    "\n",
    "\n",
    "for g in sharvani:\n",
    "    _g = sanitize(g)\n",
    "    @make_figs(nbconfig.fig_name(f'{_g}'), styles=['poster'], formats=['png'])\n",
    "    def _plot(gene):\n",
    "        gene_tsne(gene, edgecolor='k')\n",
    "    _plot(g)\n",
    "    plt.close()"
   ]
  },
  {
   "cell_type": "code",
   "execution_count": null,
   "metadata": {},
   "outputs": [],
   "source": []
  }
 ],
 "metadata": {
  "kernelspec": {
   "display_name": "Python [conda env:larval_gonad]",
   "language": "python",
   "name": "conda-env-larval_gonad-py"
  },
  "language_info": {
   "codemirror_mode": {
    "name": "ipython",
    "version": 3
   },
   "file_extension": ".py",
   "mimetype": "text/x-python",
   "name": "python",
   "nbconvert_exporter": "python",
   "pygments_lexer": "ipython3",
   "version": "3.6.3"
  }
 },
 "nbformat": 4,
 "nbformat_minor": 2
}
