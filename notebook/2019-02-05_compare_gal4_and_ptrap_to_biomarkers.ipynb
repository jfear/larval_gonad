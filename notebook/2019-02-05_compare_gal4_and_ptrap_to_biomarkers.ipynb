{
 "cells": [
  {
   "cell_type": "markdown",
   "metadata": {},
   "source": [
    "# Compare Gal4 to biomarkers"
   ]
  },
  {
   "cell_type": "code",
   "execution_count": null,
   "metadata": {},
   "outputs": [],
   "source": [
    "import os\n",
    "import sys\n",
    "import re\n",
    "from pathlib import Path\n",
    "from io import StringIO\n",
    "\n",
    "from IPython.display import display, HTML, Markdown\n",
    "import numpy as np\n",
    "import pandas as pd\n",
    "from scipy.cluster.hierarchy import linkage, dendrogram\n",
    "\n",
    "import matplotlib as mpl\n",
    "import matplotlib.pyplot as plt\n",
    "import seaborn as sns\n",
    "\n",
    "# Project level imports\n",
    "from larval_gonad.notebook import Nb"
   ]
  },
  {
   "cell_type": "code",
   "execution_count": null,
   "metadata": {},
   "outputs": [],
   "source": [
    "# Setup notebook\n",
    "#nbconfig = Nb.setup_notebook(seurat_dir='../output/scrnaseq-wf/scrnaseq_combine_force')\n",
    "nbconfig = Nb.setup_notebook(seurat_dir='/data/fearjm/local_data_store/larval_gonad/output/scrnaseq-wf/scrnaseq_combine_force/')"
   ]
  },
  {
   "cell_type": "code",
   "execution_count": null,
   "metadata": {},
   "outputs": [],
   "source": [
    "expression = (pd.read_parquet('../output/scrnaseq-wf/tpm.parquet', columns=nbconfig.cluster_order[:9])\n",
    "    # change 0s to NaN so I can set them back to 0 after binning values\n",
    "    .replace(0.0, np.nan)\n",
    "    .dropna(how='all')\n",
    "    .apply(pd.cut, bins=3, labels=[1, 2, 3], axis=1)\n",
    "    .fillna(0)\n",
    "    .astype(int)\n",
    "    .rename(columns=dict(zip(nbconfig.cluster_order[:9], nbconfig.short_cluster_order)))\n",
    ")"
   ]
  },
  {
   "cell_type": "code",
   "execution_count": null,
   "metadata": {
    "lines_to_next_cell": 2
   },
   "outputs": [],
   "source": [
    "ptrap_str = \"\"\"gene_symbol\tSP\tES\tMS\tLS\tC\tEC\tMC\tLC\tPC\tTE\tH\n",
    "ADD1\t1\t2\t3\t3\t1\t0\t0\t0\t0\t1\t0\n",
    "Ance\t1\t2\t2\t2\t1\t2\t2\t2\t1\t1\t1\n",
    "ATP8A\t0\t0\t0\t0\t0\t0\t0\t0\t0\t0\t0\n",
    "bol\t1\t1\t2\t3\t0\t0\tND\tND\t0\t0\t0\n",
    "CadN\t0\t0\t0\t0\t0\t0\t0\t0\t0\t0\t0\n",
    "CadN\t0\t0\t0\t0\t0\t0\t0\t0\t0\t0\t0\n",
    "CadN\t0\t0\t0\t0\t0\t0\t0\t0\t0\t0\t0\n",
    "CadN_Avg\t0\t0\t0\t0\t0\t0\t0\t0\t0\t0\t0\n",
    "CG17349\t0\t0\t0\t0\t0\t0\t0\t0\t0\t0\t0\n",
    "CG17646\t0\t0\t0\t0\t1\t1\t1\t1\t1\t1\t0\n",
    "CG3277 (receptor protein-tyrosine kinase)\t0\t0\t0\t0\t0\t0\t0\t0\t0\t0\t0\n",
    "CG8100\t0\t0\t0\t0\t0\t0\t0\t0\t0\t0\t0\n",
    "CG9747\t0\t1\t1\t1\t0\t1\t1\t1\t1\t1\t0\n",
    "Cht5\t0\t0\t0\t0\t0\t1\t1\t2\t0\t0\t0\n",
    "cindr\t1\t1\t1\t1\t1\t1\t1\t1\t2\t2\t2\n",
    "cmpy\t0\t0\t0\t0\t0\t1\t1\t1\t0\t0\t0\n",
    "Dek\t2\t2\t2\t2\t1\t1\t1\t1\t2\t2\t2\n",
    "Dh31-R\t0\t0\t0\t0\t0\t0\t0\t0\t0\t0\t0\n",
    "dpr17\t1\t1\t1\t0\t0\t0\t0\t0\t0\t0\t0\n",
    "e(y)3\t2\t2\t2\t2\t1\t1\t1\t1\t2\t2\t1\n",
    "Eaat2\t0\t0\t0\t0\t0\t0\t0\t0\t0\t0\t0\n",
    "Efa6\t2\t2\t1\t1\t0\t0\t0\t0\t1\t2\t0\n",
    "Efa6\t1\t1\t1\t1\t1\t2\t2\t2\t1\t1\t1\n",
    "Efa6\t2\t1\t1\t1\t2\t2\t2\t2\t1\t1\t2\n",
    "Efa6_Avg\t1.666666667\t1.333333333\t1\t1\t1\t1.333333333\t1.333333333\t1.333333333\t1\t1.333333333\t1\n",
    "Fas3\t1\t1\t1\t1\t1\t1\t1\t1\t1\t3\t3\n",
    "Fas3\t0\t0\t0\t0\t0\t0\t0\t0\t0\t2\t3\n",
    "Fas3_Avg\t0.5\t0.5\t0.5\t0.5\t0.5\t0.5\t0.5\t0.5\t0.5\t2.5\t3\n",
    "fln\t1\t1\t1\t1\t2\t2\t2\t2\t1\t1\tND\n",
    "foxo\t2\t2\t2\t2\t1\t1\t1\t1\t1\t2\t1\n",
    "Fs(2)Ket\t2\t2\t2\t2\t1\t1\t1\t1\t1\t1\t1\n",
    "grim\t0\t0\t0\t0\t0\t0\t0\t0\t0\t0\t0\n",
    "haf\t0\t0\t0\t0\t0\t0\t0\t0\t0\t0\t0\n",
    "kkv, CG14668\t1\t1\t1\t1\t1\t1\t2\t2\t1\t1\t1\n",
    "klu\t0\t0\t0\t0\t0\t0\t0\t0\t0\t0\t0\n",
    "Mapmodulin\t2\t2\t2\t1\t1\t1\t1\t1\t2\t2\t1\n",
    "mbl\t1\t2\t2\t2\t1\t0\t0\t0\t1\t3\t1\n",
    "Mi-2\t1\t1\t1\t1\t2\t2\t2\t2\t1\t0\tND\n",
    "Su(Tpl)\t1\t1\t1\t1\t2\t2\t2\t2\t1\t0\tND\n",
    "Mipp1\t0\t0\t0\t0\t0\t0\t0\t0\t0\t0\t0\n",
    "Mlc2\t0\t0\t0\t0\t0\t0\t0\t0\t0\t0\t0\n",
    "NFAT\t0\t0\t0\t0\t0\t0\t0\t0\t0\t0\t0\n",
    "nkd\t0\t0\t0\t0\t0\t0\t0\t0\t0\t0\t0\n",
    "Nlg3\t1\t1\t1\t1\t1\t2\t2\t1\tND\t1\t1\n",
    "Nlg3\t0\t0\t0\t0\t0\t1\t1\t1\t0\t0\t0\n",
    "Nlg3_Avg\t0.5\t0.5\t0.5\t0.5\t0.5\t1.5\t1.5\t1\t0\t0.5\t0.5\n",
    "nord\t1\t1\t1\t1\t0\t0\t0\t0\t0\t2\t0\n",
    "Np\t0\t0\t0\t0\t0\t0\t0\t0\t0\t0\t0\n",
    "Nrg\t2\t1\t1\t1\t2\t2\t2\t2\t2\t2\t2\n",
    "osa\t0\t0\t0\t0\t0\t0\t0\t0\t0\t0\t0\n",
    "osa\t1\t1\t1\t1\t2\t2\t2\t2\t2\t2\tND\n",
    "osa_Avg\t0.5\t0.5\t0.5\t0.5\t1\t1\t1\t1\t1\t1\t0\n",
    "p53\t2\t2\t1\t0\t0\t0\t0\t0\tND\t1\t0\n",
    "Pdcd4\t3\t3\t3\t3\t1\t2\t2\t2\t3\t3\t1\n",
    "Pde11\t0\t0\t0\t0\t0\t0\t0\t0\t0\t0\t0\n",
    "Piezo\t0\t0\t0\t0\t0\t0\t0\t0\t0\t3\t0\n",
    "ppk19\t0\t0\t0\t0\t0\t0\t0\t0\t0\t0\t0\n",
    "ppk30\t0\t0\t0\t0\t0\t0\t0\t0\t0\t0\t0\n",
    "rdo\t1\t1\t1\t1\t2\t2\t2\t2\t1\t1\t1\n",
    "rdo\t1\t1\t1\t1\t2\t2\t3\t3\t1\t1\t3\n",
    "rdo\t1\t1\t1\t1\t2\t2\t3\t3\t1\t1\t3\n",
    "rdo_Avg\t1\t1\t1\t1\t2\t2\t2.666666667\t2.666666667\t1\t1\t2.333333333\n",
    "RunxA\t1\t1\t1\t1\t1\t1\t1\t1\t1\t1\t1\n",
    "Sap-r\t1\t1\t1\t1\t2\t3\t3\t3\t2\t3\t1\n",
    "sca\t0\t0\t0\t0\t0\t0\t0\t0\t0\t0\t0\n",
    "SNF4gamma\t1\t1\t1\t1\t1\t1\t1\t1\t1\t1\t1\n",
    "Snmp1\t1\t1\t1\t1\t1\t1\t1\t1\t1\t1\t1\n",
    "sosie\t1\t1\t1\t1\t1\t2\t2\t2\t1\t1\t1\n",
    "spir\t1\t1\t1\t1\t0\t0\t0\t0\t0\t0\t0\n",
    "SRPK\t2\t2\t2\t2\t0\t0\t0\t0\t1\t1\t1\n",
    "stai\t3\t2\t2\t2\t2\t2\t2\t2\t1\t3\t2\n",
    "stg\t0\t0\t0\t0\t0\t0\t0\t0\t0\t0\t0\n",
    "Syn\t1\t1\t1\t1\t1\t1\t1\t2\t1\t1\t1\n",
    "Syn\t0\t0\t0\t0\t0\t0\t0\t0\t0\t0\t0\n",
    "Syn\t1\t1\t1\t1\t1\t1\t1\t1\t1\t1\t0\n",
    "Syn_Avg\t0.6666666667\t0.6666666667\t0.6666666667\t0.6666666667\t0.6666666667\t0.6666666667\t0.6666666667\t1\t0.6666666667\t0.6666666667\t0.3333333333\n",
    "Tep2\t0\t1\t1\t1\t0\t2\t2\t2\t2\t0\t0\n",
    "tok\t1\t1\t1\t1\t1\t0\t0\t0\t1\t2\t1\n",
    "tutl\t1\t1\t1\t1\t0\t0\t0\t0\t1\t1\t0\n",
    "twin\t1\t1\t1\t1\t0\t0\t0\t0\t0\t0\t0\n",
    "VGlut\t0\t0\t0\t0\t0\t0\t0\t0\t0\t0\t0\n",
    "\"\"\""
   ]
  },
  {
   "cell_type": "code",
   "execution_count": null,
   "metadata": {},
   "outputs": [],
   "source": [
    "gene_mapper = nbconfig.symbol2fbgn.copy()\n",
    "\n",
    "gene_mapper.update(\n",
    "    {\n",
    "        'ATP8A': 'FBgn0259221',\n",
    "        'CG3277 (receptor protein-tyrosine kinase)': 'FBgn0031518',\n",
    "        'kkv, CG14668': 'FBgn0037320',\n",
    "        'SNF4gamma': 'FBgn0264357',\n",
    "    }\n",
    ")\n",
    "\n",
    "ptrap = (\n",
    "    pd.read_csv(StringIO(ptrap_str), sep='\\t')\n",
    "    .query('not gene_symbol.str.contains(\"Avg\")', engine='python')\n",
    "    .assign(FBgn=lambda df: df.gene_symbol.map(gene_mapper))\n",
    "    .set_index('FBgn')\n",
    "    .drop(columns=['gene_symbol', 'H', 'C'])\n",
    "    .replace('ND', 0)\n",
    "    .pipe(lambda df: df[df.sum(axis=1) > 0])\n",
    "    .astype(int)\n",
    ")"
   ]
  },
  {
   "cell_type": "code",
   "execution_count": null,
   "metadata": {},
   "outputs": [],
   "source": [
    "_title = 'All Ptraps With Expression'\n",
    "_genes = ptrap.index.unique()\n",
    "_dat = (\n",
    "    pd.concat([ptrap, expression.reindex(_genes)], keys=['ptrap', 'scRNASeq'], sort=True)\n",
    "    .rename(index=nbconfig.fbgn2symbol, level=1)\n",
    "    \n",
    "    # sort by gene name and if it was a ptrap or rnaseq\n",
    "    .assign(_type = lambda df: df.index.get_level_values(0).str.lower())\n",
    "    .assign(lower = lambda df: df.index.get_level_values(1).str.lower())\n",
    "    .sort_values(['lower', '_type'])\n",
    "    .drop(['lower', '_type'], axis=1)\n",
    "    .loc[:, nbconfig.short_cluster_order[:9]]\n",
    ")\n",
    "\n",
    "# Brian really wants things sorted by expresison and not name\n",
    "order = expression.reindex(_genes).sort_values(by=['SP', 'ES', 'MS', 'LS', 'EC', 'MC', 'LC', 'TE', 'PC']).index.map(nbconfig.fbgn2symbol)\n",
    "\n",
    "stack = []\n",
    "for gene in order:\n",
    "    stack.append(_dat.query(f'FBgn == \"{gene}\"'))\n",
    "\n",
    "_dat = pd.concat(stack)"
   ]
  },
  {
   "cell_type": "code",
   "execution_count": null,
   "metadata": {},
   "outputs": [],
   "source": [
    "fig, ax = plt.subplots(1, 1, figsize=(8, 30))\n",
    "sns.heatmap(_dat, yticklabels=True, cmap='viridis', ax=ax, cbar=False)\n",
    "ax.set_title(_title)\n",
    "ax.set_ylabel('Gene')\n",
    "\n",
    "previous = ''\n",
    "for i, gene in enumerate([l.get_text().replace('ptrap-', '').replace('scRNASeq-', '') for l in ax.get_yticklabels()]):\n",
    "    if gene == previous:\n",
    "        continue\n",
    "    ax.axhline(i, color='w', ls='--')\n",
    "    previous = gene\n",
    "    \n",
    "ax.axvline(4, color='w', ls='--')\n",
    "ax.axvline(7, color='w', ls='--')\n",
    "ax.axvline(8, color='w', ls='--')\n",
    "fig.savefig('../output/notebook/2019-02-05_ptrap_scrnaseq_heatmap.pdf', bbox_inches=\"tight\")"
   ]
  },
  {
   "cell_type": "code",
   "execution_count": null,
   "metadata": {},
   "outputs": [],
   "source": [
    "biomarkers = nbconfig.seurat.get_biomarkers('res.0.6').index.unique().tolist()"
   ]
  },
  {
   "cell_type": "code",
   "execution_count": null,
   "metadata": {},
   "outputs": [],
   "source": [
    "ptrap[~ptrap.index.isin(biomarkers)].index.map(nbconfig.fbgn2symbol).unique().tolist()"
   ]
  },
  {
   "cell_type": "code",
   "execution_count": null,
   "metadata": {},
   "outputs": [],
   "source": [
    "\n"
   ]
  },
  {
   "cell_type": "code",
   "execution_count": null,
   "metadata": {
    "lines_to_next_cell": 2
   },
   "outputs": [],
   "source": [
    "\n"
   ]
  }
 ],
 "metadata": {
  "kernelspec": {
   "display_name": "Python [conda env:larval_gonad]",
   "language": "python",
   "name": "conda-env-larval_gonad-py"
  }
 },
 "nbformat": 4,
 "nbformat_minor": 2
}
