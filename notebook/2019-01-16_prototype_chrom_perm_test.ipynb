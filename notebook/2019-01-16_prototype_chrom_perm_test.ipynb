{
 "cells": [
  {
   "cell_type": "markdown",
   "metadata": {},
   "source": [
    "# Prototype Chromosome Permutation Test"
   ]
  },
  {
   "cell_type": "markdown",
   "metadata": {},
   "source": [
    "Replicate 1 seems to work well with this type of permutation test, however replicates 2 and 3 end up calling everything significant.\n",
    "\n",
    "As a reminder the permutation test that I am doing is as follows.\n",
    "\n",
    "For each cell I am calculating the median ratio of (X / Autosome). I then permute X and Autosome labels generating random cells and compare the median ratio. I use this to generate a null distribution and calculate an empirical p-value based on the number of permuted median ratios that are more extreme than the observed ratio. \n",
    "\n",
    "After talking with Cameron, he thinks that this algorithm is a little strange. Instead he thinks I was on the right track earlier when I was permuting cell type labels and keeping the cells whole. I will explore his suggested algorithm later. \n",
    "\n",
    "Here I show that while rep 1 behaves as hypothesized, reps 2 and 3 show everything is significant. "
   ]
  },
  {
   "cell_type": "code",
   "execution_count": null,
   "metadata": {},
   "outputs": [],
   "source": [
    "import os\n",
    "import sys\n",
    "import re\n",
    "from pathlib import Path\n",
    "from itertools import combinations\n",
    "import re\n",
    "\n",
    "from IPython.display import display, HTML, Markdown\n",
    "import numpy as np\n",
    "import pandas as pd\n",
    "\n",
    "import matplotlib as mpl\n",
    "import matplotlib.pyplot as plt\n",
    "import seaborn as sns\n",
    "\n",
    "# Project level imports\n",
    "from larval_gonad.notebook import Nb\n",
    "from larval_gonad.stats import permutation_test_chrom1_lt_chrom2"
   ]
  },
  {
   "cell_type": "code",
   "execution_count": null,
   "metadata": {},
   "outputs": [],
   "source": [
    "# Setup notebook\n",
    "nbconfig = Nb.setup_notebook(seurat_dir='../output/scrnaseq-wf/scrnaseq_combine_force')"
   ]
  },
  {
   "cell_type": "code",
   "execution_count": null,
   "metadata": {},
   "outputs": [],
   "source": [
    "# Shortten cluster names for nicer plots\n",
    "cluster_annot = {\n",
    "    0: 'LS',\n",
    "    1: 'MC',\n",
    "    2: 'MS',\n",
    "    3: 'ES',\n",
    "    4: 'LC',\n",
    "    5: 'EC',\n",
    "    6: 'SP',\n",
    "    7: 'TE',\n",
    "    8: 'PC',\n",
    "}\n",
    "\n",
    "cluster_order = ['SP', 'ES', 'MS', 'LS', 'EC', 'MC', 'LC', 'TE', 'PC']\n",
    "\n",
    "# Get cell to cluster\n",
    "clusters = nbconfig.seurat.get_clusters('res.0.6')\n",
    "clusters = clusters[(clusters != 9) & (clusters != 10) & (clusters != 11)].copy()    # drop Unknown clusters\n",
    "clusters = clusters.map(cluster_annot)\n",
    "clusters = pd.Series(pd.Categorical(clusters.values, categories=cluster_order, ordered=True), index=pd.Index(clusters.index, name='cell_id'), name='cluster').to_frame()\n",
    "clusters['rep'] = clusters.index.str.extract('(rep\\d)_').values.flatten()\n",
    "clusters.head()"
   ]
  },
  {
   "cell_type": "code",
   "execution_count": null,
   "metadata": {},
   "outputs": [],
   "source": [
    "# Get fbgn to chromosome mappings \n",
    "chroms = nbconfig.fbgn2chrom.query('chrom != \"chrM\"').copy()    # Drop mitochondrion\n",
    "autosomes = ['chr2L', 'chr2R', 'chr3L', 'chr3R']\n",
    "chroms.chrom = chroms.chrom.astype('category')\n",
    "chroms.chrom = chroms.chrom.cat.reorder_categories(nbconfig.chrom_order)"
   ]
  },
  {
   "cell_type": "code",
   "execution_count": null,
   "metadata": {},
   "outputs": [],
   "source": [
    "chrom_cbns = [\n",
    "    ('chrX', 'chr2L'), \n",
    "    ('chrX', 'chr2R'), \n",
    "    ('chrX', 'chr3L'), \n",
    "    ('chrX', 'chr3R'), \n",
    "    ('chrX', 'chrA'), \n",
    "    ('chr4', 'chr2L'), \n",
    "    ('chr4', 'chr2R'), \n",
    "    ('chr4', 'chr3L'), \n",
    "    ('chr4', 'chr3R'), \n",
    "    ('chr4', 'chrA'), \n",
    "    ('chrY', 'chr2L'), \n",
    "    ('chrY', 'chr2R'), \n",
    "    ('chrY', 'chr3L'), \n",
    "    ('chrY', 'chr3R'), \n",
    "    ('chrY', 'chrA'), \n",
    "]"
   ]
  },
  {
   "cell_type": "markdown",
   "metadata": {},
   "source": [
    "## Normalized Chromosome level counts"
   ]
  },
  {
   "cell_type": "code",
   "execution_count": null,
   "metadata": {
    "lines_to_next_cell": 1
   },
   "outputs": [],
   "source": [
    "fname = '/data/LCDB/lcdb-references/dmel/r6-16/fasta/dmel_r6-16.chromsizes'\n",
    "chrom_lengths = pd.read_csv(fname, sep='\\t', index_col=0, header=None, names=['chrom', 'chrom_size'])\n",
    "chrom_lengths = chrom_lengths.reindex(nbconfig.chrom_order)\n",
    "chrom_lengths = chrom_lengths.chrom_size"
   ]
  },
  {
   "cell_type": "code",
   "execution_count": null,
   "metadata": {
    "lines_to_next_cell": 1
   },
   "outputs": [],
   "source": [
    "def read_chrom_cnt(rep_num, chrom_lengths):\n",
    "    fname = f'../output/scrnaseq-wf/scrnaseq_samples/testis{rep_num}_force/outs/possorted_genome_bam.bam_counts'\n",
    "    chrom_cnt = pd.read_csv(fname, sep='\\t', index_col=0, header=0, names=['cell_id', 'chrom', 'UMI'])\n",
    "    # Add `rep#_` and `chr` prefixes\n",
    "    chrom_cnt.index = pd.Index([f'rep{rep_num}_{cell_id}' for cell_id in chrom_cnt.index], name='cell_id')\n",
    "    chrom_cnt.chrom = [f'chr{chrom}' for chrom in chrom_cnt.chrom]\n",
    "    \n",
    "    chrom_cnt_wide = chrom_cnt.set_index('chrom', append=True).unstack().fillna(0)\n",
    "    chrom_cnt_wide.columns = chrom_cnt_wide.columns.droplevel(0)\n",
    "    \n",
    "    num_reads_per_cell = chrom_cnt_wide.sum(axis=1)\n",
    "    #chrom_cnt_wide_norm = chrom_cnt_wide.div(num_reads_per_cell / 1e3, axis='index').div(chrom_lengths / 1e7)\n",
    "    chrom_cnt_wide_norm = (\n",
    "        chrom_cnt_wide\n",
    "            .div(num_reads_per_cell / 1e3, axis='index')\n",
    "            .div(chrom_lengths / 1e7)\n",
    "    )\n",
    "    \n",
    "    return chrom_cnt_wide_norm"
   ]
  },
  {
   "cell_type": "markdown",
   "metadata": {},
   "source": [
    "### Rep 1"
   ]
  },
  {
   "cell_type": "code",
   "execution_count": null,
   "metadata": {},
   "outputs": [],
   "source": [
    "# get rep 1 chromosome level counts by cell\n",
    "cnt1 = read_chrom_cnt(1, chrom_lengths)\n",
    "cnt1 = cnt1.reindex(clusters.index).dropna()    # Only keep cells that have cluster calls\n",
    "grps = cnt1.join(clusters).groupby('cluster')\n",
    "\n",
    "results = []\n",
    "for c, dd in grps:\n",
    "    for c1, c2 in chrom_cbns:\n",
    "        chrom1 = dd[c1]\n",
    "        if c2 == 'chrA':\n",
    "            chrom2 = dd[['chr2L', 'chr2R', 'chr3L', 'chr3R']].median(axis=1)\n",
    "        else:\n",
    "            chrom2 = dd[c2]\n",
    "        pval = permutation_test_chrom1_lt_chrom2(chrom1, chrom2)\n",
    "        results.append((c, c1, c2, pval))\n",
    "\n",
    "dat = -np.log10(pd.DataFrame(results, columns=['cluster', 'chrom1', 'chrom2', 'p_value']).set_index(['cluster', 'chrom1', 'chrom2']) + .0001)"
   ]
  },
  {
   "cell_type": "code",
   "execution_count": null,
   "metadata": {},
   "outputs": [],
   "source": [
    "fig, ax = plt.subplots(1, 1, figsize=(20, 8))\n",
    "dat.plot.bar(ax=ax, legend=False)\n",
    "ax.set_xlabel('Cluster Chrom1-Chrom2')\n",
    "ax.set_ylabel('-log10(p-value)')\n",
    "ax.set_ylim(0, None)\n",
    "ax.axhline(-np.log10(0.05), color='r', ls=':', label='0.05')\n",
    "ax.axhline(-np.log10(0.01), color='r', ls='-.', label='0.01')\n",
    "plt.legend()\n",
    "ax.set_title('Rep 1 Reads Mapping to Chromosome Arm / (chromosoMe length / 1e7)')\n",
    "\n",
    "new_labels = []\n",
    "for l in ax.get_xticklabels():\n",
    "    txt = l.get_text()\n",
    "    clus, c1, c2 = re.match(f\"\\((\\w\\w), chr([\\w\\d]+), chr([\\w\\d]+)\\)\", txt).groups()\n",
    "    new_labels.append(f'{clus} {c1:<2}-{c2:<2}')\n",
    "ax.set_xticklabels(new_labels, fontsize=8, fontdict=dict(family='Monospace'))\n",
    "\n",
    "loc = 4.5\n",
    "for i in range(26):\n",
    "    ax.axvline(loc, color='k', alpha=0.3)\n",
    "    loc += 5\n",
    "    \n",
    "ax.add_patch(plt.Rectangle([-1, -1], width=15.5, height=10, zorder=0, alpha=.4, color=nbconfig.colors['clusters'][0]))\n",
    "ax.add_patch(plt.Rectangle([14.5, -1], width=15, height=10, zorder=0, alpha=.4, color=nbconfig.colors['clusters'][1]))\n",
    "ax.add_patch(plt.Rectangle([29.5, -1], width=15, height=10, zorder=0, alpha=.4, color=nbconfig.colors['clusters'][2]))\n",
    "ax.add_patch(plt.Rectangle([44.5, -1], width=15, height=10, zorder=0, alpha=.4, color=nbconfig.colors['clusters'][3]))\n",
    "ax.add_patch(plt.Rectangle([59.5, -1], width=15, height=10, zorder=0, alpha=.4, color=nbconfig.colors['clusters'][4]))\n",
    "ax.add_patch(plt.Rectangle([74.5, -1], width=15, height=10, zorder=0, alpha=.4, color=nbconfig.colors['clusters'][5]))\n",
    "ax.add_patch(plt.Rectangle([89.5, -1], width=15, height=10, zorder=0, alpha=.4, color=nbconfig.colors['clusters'][6]))\n",
    "ax.add_patch(plt.Rectangle([104.5, -1], width=15, height=10, zorder=0, alpha=.4, color=nbconfig.colors['clusters'][7]))\n",
    "ax.add_patch(plt.Rectangle([119.5, -1], width=15, height=10, zorder=0, alpha=.4, color=nbconfig.colors['clusters'][8]))"
   ]
  },
  {
   "cell_type": "code",
   "execution_count": null,
   "metadata": {
    "lines_to_next_cell": 2
   },
   "outputs": [],
   "source": []
  },
  {
   "cell_type": "markdown",
   "metadata": {},
   "source": [
    "### Rep 2"
   ]
  },
  {
   "cell_type": "code",
   "execution_count": null,
   "metadata": {},
   "outputs": [],
   "source": [
    "cnt = read_chrom_cnt(2, chrom_lengths)\n",
    "grp = cnt.join(clusters).groupby('cluster')\n",
    "dat = grp.get_group('EC')"
   ]
  },
  {
   "cell_type": "code",
   "execution_count": null,
   "metadata": {},
   "outputs": [],
   "source": [
    "ax = np.log10(dat[autosomes + ['chrX']]).plot(kind='kde')\n",
    "ax.axvline(np.log10(dat['chr2L'].median()), color='blue', ls='--', alpha=.5)\n",
    "ax.axvline(np.log10(dat['chr2R'].median()), color='orange', ls='--', alpha=.5)\n",
    "ax.axvline(np.log10(dat['chr3L'].median()), color='green', ls='--', alpha=.5)\n",
    "ax.axvline(np.log10(dat['chr3R'].median()), color='red', ls='--', alpha=.5)\n",
    "ax.axvline(np.log10(dat['chrX'].median()), color='purple', ls=':', alpha=.5)\n",
    "ax.axvline(np.log10(dat[autosomes].median(axis=1).median()), color='k', ls='-.', alpha=.5)"
   ]
  },
  {
   "cell_type": "code",
   "execution_count": null,
   "metadata": {},
   "outputs": [],
   "source": [
    "# get rep 2 chromosome level counts by cell\n",
    "cnt2 = read_chrom_cnt(2, chrom_lengths)\n",
    "cnt2 = cnt2.reindex(clusters.index).dropna()    # Only keep cells that have cluster calls\n",
    "grps = cnt2.join(clusters).groupby('cluster')\n",
    "\n",
    "results = []\n",
    "for c, dd in grps:\n",
    "    for c1, c2 in chrom_cbns:\n",
    "        chrom1 = dd[c1]\n",
    "        if c2 == 'chrA':\n",
    "            chrom2 = dd[['chr2L', 'chr2R', 'chr3L', 'chr3R']].median(axis=1)\n",
    "        else:\n",
    "            chrom2 = dd[c2]\n",
    "        pval = permutation_test_chrom1_lt_chrom2(chrom1, chrom2)\n",
    "        results.append((c, c1, c2, pval))\n",
    "\n",
    "dat = -np.log10(pd.DataFrame(results, columns=['cluster', 'chrom1', 'chrom2', 'p_value']).set_index(['cluster', 'chrom1', 'chrom2']) + .0001)"
   ]
  },
  {
   "cell_type": "code",
   "execution_count": null,
   "metadata": {},
   "outputs": [],
   "source": [
    "fig, ax = plt.subplots(1, 1, figsize=(20, 8))\n",
    "dat.plot.bar(ax=ax, legend=False)\n",
    "ax.set_xlabel('Cluster Chrom1-Chrom2')\n",
    "ax.set_ylabel('-log10(p-value)')\n",
    "ax.set_ylim(0, None)\n",
    "ax.axhline(-np.log10(0.05), color='r', ls=':', label='0.05')\n",
    "ax.axhline(-np.log10(0.01), color='r', ls='-.', label='0.01')\n",
    "plt.legend()\n",
    "ax.set_title('Rep 2 Reads Mapping to Chromosome Arm / (chromosome length / 1e7)')\n",
    "\n",
    "new_labels = []\n",
    "for l in ax.get_xticklabels():\n",
    "    txt = l.get_text()\n",
    "    clus, c1, c2 = re.match(f\"\\((\\w\\w), chr([\\w\\d]+), chr([\\w\\d]+)\\)\", txt).groups()\n",
    "    new_labels.append(f'{clus} {c1:<2}-{c2:<2}')\n",
    "ax.set_xticklabels(new_labels, fontsize=8, fontdict=dict(family='Monospace'))\n",
    "\n",
    "loc = 4.5\n",
    "for i in range(26):\n",
    "    ax.axvline(loc, color='k', alpha=0.3)\n",
    "    loc += 5\n",
    "\n",
    "ax.add_patch(plt.Rectangle([-1, -1], width=15.5, height=10, zorder=0, alpha=.4, color=nbconfig.colors['clusters'][0]))\n",
    "ax.add_patch(plt.Rectangle([14.5, -1], width=15, height=10, zorder=0, alpha=.4, color=nbconfig.colors['clusters'][1]))\n",
    "ax.add_patch(plt.Rectangle([29.5, -1], width=15, height=10, zorder=0, alpha=.4, color=nbconfig.colors['clusters'][2]))\n",
    "ax.add_patch(plt.Rectangle([44.5, -1], width=15, height=10, zorder=0, alpha=.4, color=nbconfig.colors['clusters'][3]))\n",
    "ax.add_patch(plt.Rectangle([59.5, -1], width=15, height=10, zorder=0, alpha=.4, color=nbconfig.colors['clusters'][4]))\n",
    "ax.add_patch(plt.Rectangle([74.5, -1], width=15, height=10, zorder=0, alpha=.4, color=nbconfig.colors['clusters'][5]))\n",
    "ax.add_patch(plt.Rectangle([89.5, -1], width=15, height=10, zorder=0, alpha=.4, color=nbconfig.colors['clusters'][6]))\n",
    "ax.add_patch(plt.Rectangle([104.5, -1], width=15, height=10, zorder=0, alpha=.4, color=nbconfig.colors['clusters'][7]))\n",
    "ax.add_patch(plt.Rectangle([119.5, -1], width=15, height=10, zorder=0, alpha=.4, color=nbconfig.colors['clusters'][8]))"
   ]
  },
  {
   "cell_type": "markdown",
   "metadata": {},
   "source": [
    "### Rep 3"
   ]
  },
  {
   "cell_type": "code",
   "execution_count": null,
   "metadata": {},
   "outputs": [],
   "source": [
    "# get rep 3 chromosome level counts by cell\n",
    "cnt3 = read_chrom_cnt(3)\n",
    "cnt3 = cnt3.reindex(clusters.index).dropna()    # Only keep cells that have cluster calls\n",
    "cnt3_chrom_length_norm = cnt3.div(chrom_sizes / 1e7)\n",
    "grps = cnt3_chrom_length_norm.join(clusters).groupby('cluster')\n",
    "\n",
    "results = []\n",
    "for c, dd in grps:\n",
    "    for c1, c2 in chrom_cbns:\n",
    "        chrom1 = dd[c1]\n",
    "        if c2 == 'chrA':\n",
    "            chrom2 = dd[['chr2L', 'chr2R', 'chr3L', 'chr3R']].median(axis=1)\n",
    "        else:\n",
    "            chrom2 = dd[c2]\n",
    "        pval = permutation_test_chrom1_lt_chrom2(chrom1, chrom2)\n",
    "        results.append((c, c1, c2, pval))\n",
    "\n",
    "dat = -np.log10(pd.DataFrame(results, columns=['cluster', 'chrom1', 'chrom2', 'p_value']).set_index(['cluster', 'chrom1', 'chrom2']) + .0001)"
   ]
  },
  {
   "cell_type": "code",
   "execution_count": null,
   "metadata": {
    "lines_to_next_cell": 2
   },
   "outputs": [],
   "source": [
    "fig, ax = plt.subplots(1, 1, figsize=(20, 8))\n",
    "dat.plot.bar(ax=ax, legend=False)\n",
    "ax.set_xlabel('Cluster Chrom1-Chrom2')\n",
    "ax.set_ylabel('-log10(p-value)')\n",
    "ax.set_ylim(0, None)\n",
    "ax.axhline(-np.log10(0.05), color='r', ls=':', label='0.05')\n",
    "ax.axhline(-np.log10(0.01), color='r', ls='-.', label='0.01')\n",
    "plt.legend()\n",
    "ax.set_title('Rep 3 Reads Mapping to Chromosome Arm / (chromosome length / 1e7)')\n",
    "\n",
    "new_labels = []\n",
    "for l in ax.get_xticklabels():\n",
    "    txt = l.get_text()\n",
    "    clus, c1, c2 = re.match(f\"\\((\\w\\w), chr([\\w\\d]+), chr([\\w\\d]+)\\)\", txt).groups()\n",
    "    new_labels.append(f'{clus} {c1:<2}-{c2:<2}')\n",
    "ax.set_xticklabels(new_labels, fontsize=8, fontdict=dict(family='Monospace'))\n",
    "\n",
    "loc = 4.5\n",
    "for i in range(26):\n",
    "    ax.axvline(loc, color='k', alpha=0.3)\n",
    "    loc += 5\n",
    "\n",
    "ax.add_patch(plt.Rectangle([-1, -1], width=15.5, height=10, zorder=0, alpha=.4, color=nbconfig.colors['clusters'][0]))\n",
    "ax.add_patch(plt.Rectangle([14.5, -1], width=15, height=10, zorder=0, alpha=.4, color=nbconfig.colors['clusters'][1]))\n",
    "ax.add_patch(plt.Rectangle([29.5, -1], width=15, height=10, zorder=0, alpha=.4, color=nbconfig.colors['clusters'][2]))\n",
    "ax.add_patch(plt.Rectangle([44.5, -1], width=15, height=10, zorder=0, alpha=.4, color=nbconfig.colors['clusters'][3]))\n",
    "ax.add_patch(plt.Rectangle([59.5, -1], width=15, height=10, zorder=0, alpha=.4, color=nbconfig.colors['clusters'][4]))\n",
    "ax.add_patch(plt.Rectangle([74.5, -1], width=15, height=10, zorder=0, alpha=.4, color=nbconfig.colors['clusters'][5]))\n",
    "ax.add_patch(plt.Rectangle([89.5, -1], width=15, height=10, zorder=0, alpha=.4, color=nbconfig.colors['clusters'][6]))\n",
    "ax.add_patch(plt.Rectangle([104.5, -1], width=15, height=10, zorder=0, alpha=.4, color=nbconfig.colors['clusters'][7]))\n",
    "ax.add_patch(plt.Rectangle([119.5, -1], width=15, height=10, zorder=0, alpha=.4, color=nbconfig.colors['clusters'][8]))"
   ]
  },
  {
   "cell_type": "code",
   "execution_count": null,
   "metadata": {
    "lines_to_next_cell": 2
   },
   "outputs": [],
   "source": []
  }
 ],
 "metadata": {
  "kernelspec": {
   "display_name": "Python [conda env:larval_gonad]",
   "language": "python",
   "name": "conda-env-larval_gonad-py"
  }
 },
 "nbformat": 4,
 "nbformat_minor": 2
}
