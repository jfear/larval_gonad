{
 "cells": [
  {
   "cell_type": "markdown",
   "metadata": {},
   "source": [
    "# X to Autosome Ratio"
   ]
  },
  {
   "cell_type": "markdown",
   "metadata": {},
   "source": [
    "Here I perform a preliminary dosage compensation experiment in testis. This is a very rough preliminary analysis, but I have played with lots of different normalizations and ways of looking at things and the results are consistent. There appears to be attenuated dosage compensation in germ cells. "
   ]
  },
  {
   "cell_type": "code",
   "execution_count": 305,
   "metadata": {
    "code_folding": [
     0
    ]
   },
   "outputs": [
    {
     "name": "stdout",
     "output_type": "stream",
     "text": [
      "last updated: 2017-10-13 \n",
      "Git hash: bd535da7ac7a1f4ef3ccae2e7674b807d504a624\n"
     ]
    }
   ],
   "source": [
    "# %load ../start.py\n",
    "# Load useful extensions\n",
    "\n",
    "# Activate the autoreload extension for easy reloading of external packages\n",
    "%reload_ext autoreload\n",
    "%autoreload 2\n",
    "\n",
    "# Trun on the water mark\n",
    "%reload_ext watermark\n",
    "%watermark -u -d -g\n",
    "\n",
    "# Load ipycache extension\n",
    "%reload_ext ipycache\n",
    "from ipycache import CacheMagics\n",
    "CacheMagics.cachedir = '../cachedir'\n",
    "\n",
    "# The usual suspects\n",
    "import os\n",
    "import numpy as np\n",
    "import pandas as pd\n",
    "\n",
    "# plotting\n",
    "import matplotlib as mpl\n",
    "import matplotlib.pyplot as plt\n",
    "import seaborn as sns\n",
    "\n",
    "%matplotlib inline\n",
    "sns.set_style('white')\n",
    "sns.set_context('notebook')\n",
    "sns.mpl.rc(\"figure\", figsize=(10, 10))\n",
    "\n",
    "# Turn off scientific notation\n",
    "np.set_printoptions(precision=5, suppress=True)\n"
   ]
  },
  {
   "cell_type": "code",
   "execution_count": 70,
   "metadata": {
    "code_folding": [],
    "collapsed": true
   },
   "outputs": [],
   "source": [
    "# Get count matrix\n",
    "testis = pd.read_csv('../../output/single_cell_matrix_testis.tsv', sep='\\t', index_col=0)\n",
    "te = testis.drop('gene_symbol', axis=1).T"
   ]
  },
  {
   "cell_type": "code",
   "execution_count": 706,
   "metadata": {},
   "outputs": [],
   "source": [
    "# Get clusters\n",
    "clusters = pd.read_csv('../../output/testis_clusters.tsv', sep='\\t', header=None)"
   ]
  },
  {
   "cell_type": "code",
   "execution_count": 707,
   "metadata": {},
   "outputs": [
    {
     "data": {
      "text/html": [
       "<div>\n",
       "<style>\n",
       "    .dataframe thead tr:only-child th {\n",
       "        text-align: right;\n",
       "    }\n",
       "\n",
       "    .dataframe thead th {\n",
       "        text-align: left;\n",
       "    }\n",
       "\n",
       "    .dataframe tbody tr th {\n",
       "        vertical-align: top;\n",
       "    }\n",
       "</style>\n",
       "<table border=\"1\" class=\"dataframe\">\n",
       "  <thead>\n",
       "    <tr style=\"text-align: right;\">\n",
       "      <th></th>\n",
       "      <th>0</th>\n",
       "      <th>1</th>\n",
       "    </tr>\n",
       "  </thead>\n",
       "  <tbody>\n",
       "    <tr>\n",
       "      <th>0</th>\n",
       "      <td>AAACCTGGTTCATGGT</td>\n",
       "      <td>4</td>\n",
       "    </tr>\n",
       "    <tr>\n",
       "      <th>1</th>\n",
       "      <td>AAACGGGAGACTGGGT</td>\n",
       "      <td>6</td>\n",
       "    </tr>\n",
       "    <tr>\n",
       "      <th>2</th>\n",
       "      <td>AAACGGGGTGTTAAGA</td>\n",
       "      <td>1</td>\n",
       "    </tr>\n",
       "    <tr>\n",
       "      <th>3</th>\n",
       "      <td>AAAGATGAGTATCGAA</td>\n",
       "      <td>6</td>\n",
       "    </tr>\n",
       "    <tr>\n",
       "      <th>4</th>\n",
       "      <td>AAAGCAAGTCTAGGTT</td>\n",
       "      <td>3</td>\n",
       "    </tr>\n",
       "    <tr>\n",
       "      <th>5</th>\n",
       "      <td>AAATGCCGTAAAGGAG</td>\n",
       "      <td>2</td>\n",
       "    </tr>\n",
       "    <tr>\n",
       "      <th>6</th>\n",
       "      <td>AACCATGCAGTACACT</td>\n",
       "      <td>2</td>\n",
       "    </tr>\n",
       "    <tr>\n",
       "      <th>7</th>\n",
       "      <td>AACCGCGCAGCGTCCA</td>\n",
       "      <td>1</td>\n",
       "    </tr>\n",
       "    <tr>\n",
       "      <th>8</th>\n",
       "      <td>AACGTTGAGTACCGGA</td>\n",
       "      <td>2</td>\n",
       "    </tr>\n",
       "    <tr>\n",
       "      <th>9</th>\n",
       "      <td>AACTCAGAGAGTAATC</td>\n",
       "      <td>1</td>\n",
       "    </tr>\n",
       "    <tr>\n",
       "      <th>10</th>\n",
       "      <td>AACTCAGAGTGTTTGC</td>\n",
       "      <td>0</td>\n",
       "    </tr>\n",
       "    <tr>\n",
       "      <th>11</th>\n",
       "      <td>AACTCCCAGCCAACAG</td>\n",
       "      <td>6</td>\n",
       "    </tr>\n",
       "    <tr>\n",
       "      <th>12</th>\n",
       "      <td>AACTCTTAGTAGATGT</td>\n",
       "      <td>1</td>\n",
       "    </tr>\n",
       "    <tr>\n",
       "      <th>13</th>\n",
       "      <td>AACTTTCTCGGTCCGA</td>\n",
       "      <td>1</td>\n",
       "    </tr>\n",
       "    <tr>\n",
       "      <th>14</th>\n",
       "      <td>AAGACCTCAGATGAGC</td>\n",
       "      <td>0</td>\n",
       "    </tr>\n",
       "    <tr>\n",
       "      <th>15</th>\n",
       "      <td>AAGCCGCTCAAGATCC</td>\n",
       "      <td>1</td>\n",
       "    </tr>\n",
       "    <tr>\n",
       "      <th>16</th>\n",
       "      <td>AAGGAGCTCACCAGGC</td>\n",
       "      <td>1</td>\n",
       "    </tr>\n",
       "    <tr>\n",
       "      <th>17</th>\n",
       "      <td>AAGGTTCAGAATTCCC</td>\n",
       "      <td>1</td>\n",
       "    </tr>\n",
       "    <tr>\n",
       "      <th>18</th>\n",
       "      <td>AAGGTTCCAATAGAGT</td>\n",
       "      <td>2</td>\n",
       "    </tr>\n",
       "    <tr>\n",
       "      <th>19</th>\n",
       "      <td>AAGTCTGGTCGCATAT</td>\n",
       "      <td>1</td>\n",
       "    </tr>\n",
       "    <tr>\n",
       "      <th>20</th>\n",
       "      <td>AAGTCTGTCCTTTCGG</td>\n",
       "      <td>0</td>\n",
       "    </tr>\n",
       "    <tr>\n",
       "      <th>21</th>\n",
       "      <td>AATCCAGCACAGCCCA</td>\n",
       "      <td>3</td>\n",
       "    </tr>\n",
       "    <tr>\n",
       "      <th>22</th>\n",
       "      <td>ACACCCTGTACCGGCT</td>\n",
       "      <td>0</td>\n",
       "    </tr>\n",
       "    <tr>\n",
       "      <th>23</th>\n",
       "      <td>ACACCCTGTGAGCGAT</td>\n",
       "      <td>1</td>\n",
       "    </tr>\n",
       "    <tr>\n",
       "      <th>24</th>\n",
       "      <td>ACACTGAAGGATGCGT</td>\n",
       "      <td>1</td>\n",
       "    </tr>\n",
       "    <tr>\n",
       "      <th>25</th>\n",
       "      <td>ACAGCCGGTTCCTCCA</td>\n",
       "      <td>1</td>\n",
       "    </tr>\n",
       "    <tr>\n",
       "      <th>26</th>\n",
       "      <td>ACAGCTATCAGTACGT</td>\n",
       "      <td>0</td>\n",
       "    </tr>\n",
       "    <tr>\n",
       "      <th>27</th>\n",
       "      <td>ACAGCTATCGACAGCC</td>\n",
       "      <td>3</td>\n",
       "    </tr>\n",
       "    <tr>\n",
       "      <th>28</th>\n",
       "      <td>ACATACGGTTGTGGCC</td>\n",
       "      <td>4</td>\n",
       "    </tr>\n",
       "    <tr>\n",
       "      <th>29</th>\n",
       "      <td>ACATACGTCATAACCG</td>\n",
       "      <td>1</td>\n",
       "    </tr>\n",
       "    <tr>\n",
       "      <th>...</th>\n",
       "      <td>...</td>\n",
       "      <td>...</td>\n",
       "    </tr>\n",
       "    <tr>\n",
       "      <th>447</th>\n",
       "      <td>TGGGCGTGTGAGTATA</td>\n",
       "      <td>0</td>\n",
       "    </tr>\n",
       "    <tr>\n",
       "      <th>448</th>\n",
       "      <td>TGGTTAGGTGCCTTGG</td>\n",
       "      <td>0</td>\n",
       "    </tr>\n",
       "    <tr>\n",
       "      <th>449</th>\n",
       "      <td>TGGTTCCAGTGTTAGA</td>\n",
       "      <td>5</td>\n",
       "    </tr>\n",
       "    <tr>\n",
       "      <th>450</th>\n",
       "      <td>TGGTTCCCAAGGTTCT</td>\n",
       "      <td>1</td>\n",
       "    </tr>\n",
       "    <tr>\n",
       "      <th>451</th>\n",
       "      <td>TGTTCCGCAAGCCATT</td>\n",
       "      <td>2</td>\n",
       "    </tr>\n",
       "    <tr>\n",
       "      <th>452</th>\n",
       "      <td>TGTTCCGCACATAACC</td>\n",
       "      <td>2</td>\n",
       "    </tr>\n",
       "    <tr>\n",
       "      <th>453</th>\n",
       "      <td>TTAACTCAGCCACTAT</td>\n",
       "      <td>2</td>\n",
       "    </tr>\n",
       "    <tr>\n",
       "      <th>454</th>\n",
       "      <td>TTAACTCCACACGCTG</td>\n",
       "      <td>1</td>\n",
       "    </tr>\n",
       "    <tr>\n",
       "      <th>455</th>\n",
       "      <td>TTATGCTTCTACTATC</td>\n",
       "      <td>0</td>\n",
       "    </tr>\n",
       "    <tr>\n",
       "      <th>456</th>\n",
       "      <td>TTCTCCTCACCTGGTG</td>\n",
       "      <td>0</td>\n",
       "    </tr>\n",
       "    <tr>\n",
       "      <th>457</th>\n",
       "      <td>TTCTCCTCAGCTCGAC</td>\n",
       "      <td>2</td>\n",
       "    </tr>\n",
       "    <tr>\n",
       "      <th>458</th>\n",
       "      <td>TTCTCCTGTCAACTGT</td>\n",
       "      <td>5</td>\n",
       "    </tr>\n",
       "    <tr>\n",
       "      <th>459</th>\n",
       "      <td>TTCTCCTGTCGACTAT</td>\n",
       "      <td>0</td>\n",
       "    </tr>\n",
       "    <tr>\n",
       "      <th>460</th>\n",
       "      <td>TTCTCCTGTGCCTGTG</td>\n",
       "      <td>0</td>\n",
       "    </tr>\n",
       "    <tr>\n",
       "      <th>461</th>\n",
       "      <td>TTCTTAGAGCGTGTCC</td>\n",
       "      <td>6</td>\n",
       "    </tr>\n",
       "    <tr>\n",
       "      <th>462</th>\n",
       "      <td>TTCTTAGCAATCGGTT</td>\n",
       "      <td>3</td>\n",
       "    </tr>\n",
       "    <tr>\n",
       "      <th>463</th>\n",
       "      <td>TTGAACGTCACAACGT</td>\n",
       "      <td>0</td>\n",
       "    </tr>\n",
       "    <tr>\n",
       "      <th>464</th>\n",
       "      <td>TTGACTTCAGGGTTAG</td>\n",
       "      <td>1</td>\n",
       "    </tr>\n",
       "    <tr>\n",
       "      <th>465</th>\n",
       "      <td>TTGCCGTAGCCACGTC</td>\n",
       "      <td>0</td>\n",
       "    </tr>\n",
       "    <tr>\n",
       "      <th>466</th>\n",
       "      <td>TTGCCGTAGTCGATAA</td>\n",
       "      <td>0</td>\n",
       "    </tr>\n",
       "    <tr>\n",
       "      <th>467</th>\n",
       "      <td>TTGGAACAGCGATAGC</td>\n",
       "      <td>4</td>\n",
       "    </tr>\n",
       "    <tr>\n",
       "      <th>468</th>\n",
       "      <td>TTGGAACCAGTGGGAT</td>\n",
       "      <td>4</td>\n",
       "    </tr>\n",
       "    <tr>\n",
       "      <th>469</th>\n",
       "      <td>TTGGCAAGTTATTCTC</td>\n",
       "      <td>0</td>\n",
       "    </tr>\n",
       "    <tr>\n",
       "      <th>470</th>\n",
       "      <td>TTGGCAATCACAATGC</td>\n",
       "      <td>3</td>\n",
       "    </tr>\n",
       "    <tr>\n",
       "      <th>471</th>\n",
       "      <td>TTGGCAATCCTTCAAT</td>\n",
       "      <td>0</td>\n",
       "    </tr>\n",
       "    <tr>\n",
       "      <th>472</th>\n",
       "      <td>TTTATGCAGGAGTCTG</td>\n",
       "      <td>2</td>\n",
       "    </tr>\n",
       "    <tr>\n",
       "      <th>473</th>\n",
       "      <td>TTTGGTTAGGTACTCT</td>\n",
       "      <td>2</td>\n",
       "    </tr>\n",
       "    <tr>\n",
       "      <th>474</th>\n",
       "      <td>TTTGGTTTCGTTGACA</td>\n",
       "      <td>5</td>\n",
       "    </tr>\n",
       "    <tr>\n",
       "      <th>475</th>\n",
       "      <td>TTTGTCAAGAGTAAGG</td>\n",
       "      <td>2</td>\n",
       "    </tr>\n",
       "    <tr>\n",
       "      <th>476</th>\n",
       "      <td>TTTGTCAAGCGTCAAG</td>\n",
       "      <td>3</td>\n",
       "    </tr>\n",
       "  </tbody>\n",
       "</table>\n",
       "<p>477 rows × 2 columns</p>\n",
       "</div>"
      ],
      "text/plain": [
       "                    0  1\n",
       "0    AAACCTGGTTCATGGT  4\n",
       "1    AAACGGGAGACTGGGT  6\n",
       "2    AAACGGGGTGTTAAGA  1\n",
       "3    AAAGATGAGTATCGAA  6\n",
       "4    AAAGCAAGTCTAGGTT  3\n",
       "5    AAATGCCGTAAAGGAG  2\n",
       "6    AACCATGCAGTACACT  2\n",
       "7    AACCGCGCAGCGTCCA  1\n",
       "8    AACGTTGAGTACCGGA  2\n",
       "9    AACTCAGAGAGTAATC  1\n",
       "10   AACTCAGAGTGTTTGC  0\n",
       "11   AACTCCCAGCCAACAG  6\n",
       "12   AACTCTTAGTAGATGT  1\n",
       "13   AACTTTCTCGGTCCGA  1\n",
       "14   AAGACCTCAGATGAGC  0\n",
       "15   AAGCCGCTCAAGATCC  1\n",
       "16   AAGGAGCTCACCAGGC  1\n",
       "17   AAGGTTCAGAATTCCC  1\n",
       "18   AAGGTTCCAATAGAGT  2\n",
       "19   AAGTCTGGTCGCATAT  1\n",
       "20   AAGTCTGTCCTTTCGG  0\n",
       "21   AATCCAGCACAGCCCA  3\n",
       "22   ACACCCTGTACCGGCT  0\n",
       "23   ACACCCTGTGAGCGAT  1\n",
       "24   ACACTGAAGGATGCGT  1\n",
       "25   ACAGCCGGTTCCTCCA  1\n",
       "26   ACAGCTATCAGTACGT  0\n",
       "27   ACAGCTATCGACAGCC  3\n",
       "28   ACATACGGTTGTGGCC  4\n",
       "29   ACATACGTCATAACCG  1\n",
       "..                ... ..\n",
       "447  TGGGCGTGTGAGTATA  0\n",
       "448  TGGTTAGGTGCCTTGG  0\n",
       "449  TGGTTCCAGTGTTAGA  5\n",
       "450  TGGTTCCCAAGGTTCT  1\n",
       "451  TGTTCCGCAAGCCATT  2\n",
       "452  TGTTCCGCACATAACC  2\n",
       "453  TTAACTCAGCCACTAT  2\n",
       "454  TTAACTCCACACGCTG  1\n",
       "455  TTATGCTTCTACTATC  0\n",
       "456  TTCTCCTCACCTGGTG  0\n",
       "457  TTCTCCTCAGCTCGAC  2\n",
       "458  TTCTCCTGTCAACTGT  5\n",
       "459  TTCTCCTGTCGACTAT  0\n",
       "460  TTCTCCTGTGCCTGTG  0\n",
       "461  TTCTTAGAGCGTGTCC  6\n",
       "462  TTCTTAGCAATCGGTT  3\n",
       "463  TTGAACGTCACAACGT  0\n",
       "464  TTGACTTCAGGGTTAG  1\n",
       "465  TTGCCGTAGCCACGTC  0\n",
       "466  TTGCCGTAGTCGATAA  0\n",
       "467  TTGGAACAGCGATAGC  4\n",
       "468  TTGGAACCAGTGGGAT  4\n",
       "469  TTGGCAAGTTATTCTC  0\n",
       "470  TTGGCAATCACAATGC  3\n",
       "471  TTGGCAATCCTTCAAT  0\n",
       "472  TTTATGCAGGAGTCTG  2\n",
       "473  TTTGGTTAGGTACTCT  2\n",
       "474  TTTGGTTTCGTTGACA  5\n",
       "475  TTTGTCAAGAGTAAGG  2\n",
       "476  TTTGTCAAGCGTCAAG  3\n",
       "\n",
       "[477 rows x 2 columns]"
      ]
     },
     "execution_count": 707,
     "metadata": {},
     "output_type": "execute_result"
    }
   ],
   "source": [
    "clusters.columns = ['cell', 'cluster']"
   ]
  },
  {
   "cell_type": "code",
   "execution_count": null,
   "metadata": {
    "collapsed": true
   },
   "outputs": [],
   "source": []
  },
  {
   "cell_type": "code",
   "execution_count": null,
   "metadata": {
    "collapsed": true
   },
   "outputs": [],
   "source": []
  },
  {
   "cell_type": "code",
   "execution_count": null,
   "metadata": {
    "collapsed": true
   },
   "outputs": [],
   "source": []
  },
  {
   "cell_type": "code",
   "execution_count": null,
   "metadata": {
    "collapsed": true
   },
   "outputs": [],
   "source": []
  },
  {
   "cell_type": "code",
   "execution_count": 71,
   "metadata": {
    "code_folding": [
     0
    ],
    "collapsed": true
   },
   "outputs": [],
   "source": [
    "# Make look up tables\n",
    "fbgn2symbol = testis['gene_symbol'].to_dict()\n",
    "symbol2fbgn = {}\n",
    "for k, v in fbgn2symbol.items():\n",
    "    symbol2fbgn[v] = k"
   ]
  },
  {
   "cell_type": "code",
   "execution_count": 687,
   "metadata": {
    "code_folding": [
     0
    ]
   },
   "outputs": [],
   "source": [
    "# Genes need to be expressed in 1/3 of samples.\n",
    "expressed = (te > 0).sum() > te.shape[0] / 3"
   ]
  },
  {
   "cell_type": "code",
   "execution_count": 688,
   "metadata": {
    "code_folding": [
     0
    ],
    "collapsed": true
   },
   "outputs": [],
   "source": [
    "# make fbgn2chrom\n",
    "REF = os.environ['REFERENCES_DIR']\n",
    "CHROMS = ['chrX', 'chr2L', 'chr2R', 'chr3L', 'chr3R', 'chr4']\n",
    "\n",
    "genes = []\n",
    "with open(os.path.join(REF, 'dmel/r6-11/gtf/dmel_r6-11.gtf')) as fh:\n",
    "    for row in fh:\n",
    "        rows = row.strip().split()\n",
    "        \n",
    "        if len(rows) == 0:\n",
    "            continue\n",
    "            \n",
    "        if rows[2] == 'gene':\n",
    "            genes.append((rows[0], rows[9].replace('\"', '').replace(';', '')))\n",
    "\n",
    "fbgn2chrom = pd.DataFrame(genes, columns=['chrom', 'FBgn'])\n",
    "fbgn2chrom.set_index('FBgn', inplace=True)\n",
    "fbgn2chrom = fbgn2chrom[fbgn2chrom['chrom'].isin(CHROMS)]"
   ]
  },
  {
   "cell_type": "code",
   "execution_count": 689,
   "metadata": {
    "code_folding": [],
    "collapsed": true
   },
   "outputs": [],
   "source": [
    "# germ cells\n",
    "germ = te[te[symbol2fbgn['vas']] > 0].T\n",
    "\n",
    "# somatic cells\n",
    "soma = te[te[symbol2fbgn['dsx']] > 0].T\n",
    "\n",
    "# normalize\n",
    "def libnorm(df):\n",
    "    df2 = df[expressed].copy()\n",
    "    return np.log2(df2 / df2.sum() * 10**4 + 1)\n",
    "\n",
    "germ_rpm = libnorm(germ)\n",
    "soma_rpm = libnorm(soma)"
   ]
  },
  {
   "cell_type": "code",
   "execution_count": 690,
   "metadata": {
    "code_folding": [
     0,
     1
    ]
   },
   "outputs": [],
   "source": [
    "# Aggregate across samples\n",
    "def agg_samples(df, aggfunc=np.median):\n",
    "    med = df.apply(aggfunc, axis=1).to_frame()\n",
    "    merged = med.join(fbgn2chrom, how='inner').set_index('chrom', append=True)\n",
    "    merged.sort_index(inplace=True)\n",
    "    merged.columns = ['med_rpm']\n",
    "    return merged\n",
    "\n",
    "germ_rpm_smed = agg_samples(germ_rpm, aggfunc=np.median)\n",
    "soma_rpm_smed = agg_samples(soma_rpm, aggfunc=np.median)"
   ]
  },
  {
   "cell_type": "code",
   "execution_count": 691,
   "metadata": {
    "code_folding": [
     0,
     1
    ]
   },
   "outputs": [],
   "source": [
    "# Center samples using X chrom\n",
    "def median_center(df):\n",
    "    return df - df.loc[(slice(None), 'chrX'), :].median()\n",
    "\n",
    "germ_rpm_scaled = median_center(germ_rpm_smed)\n",
    "soma_rpm_scaled = median_center(soma_rpm_smed)"
   ]
  },
  {
   "cell_type": "code",
   "execution_count": 694,
   "metadata": {
    "code_folding": [
     0
    ]
   },
   "outputs": [
    {
     "data": {
      "text/plain": [
       "<matplotlib.text.Text at 0x7fbccff24278>"
      ]
     },
     "execution_count": 694,
     "metadata": {},
     "output_type": "execute_result"
    },
    {
     "data": {
      "image/png": "[encoded data removed]",
      "text/plain": [
       "<matplotlib.figure.Figure at 0x7fbcd0acca90>"
      ]
     },
     "metadata": {},
     "output_type": "display_data"
    }
   ],
   "source": [
    "# Boxplots\n",
    "fig, (ax1, ax2) = plt.subplots(1, 2, sharey=True)\n",
    "sns.boxplot(germ_rpm_scaled.index.get_level_values(-1), germ_rpm_scaled.med_rpm, notch=True, ax=ax1, order=CHROMS, fliersize=0)\n",
    "sns.boxplot(soma_rpm_scaled.index.get_level_values(-1), soma_rpm_scaled.med_rpm, notch=True, ax=ax2, order=CHROMS, fliersize=0)\n",
    "\n",
    "ax1.set_title('Germ Cells (n={})\\n(vasa +)'.format(germ.shape[1]))\n",
    "ax2.set_title('Somatic Cells (n={})\\n(dsx +)'.format(soma.shape[1]))\n",
    "ax1.set_ylim(None, 3)\n",
    "ax1.axhline(0, ls=':')\n",
    "ax2.axhline(0, ls=':')\n",
    "\n",
    "ax1.set_ylabel('Log 2 Normalized Read Per Million\\n(chrX Median Centered)')\n",
    "ax2.set_ylabel('')"
   ]
  },
  {
   "cell_type": "code",
   "execution_count": null,
   "metadata": {
    "collapsed": true
   },
   "outputs": [],
   "source": []
  },
  {
   "cell_type": "code",
   "execution_count": null,
   "metadata": {
    "collapsed": true
   },
   "outputs": [],
   "source": []
  },
  {
   "cell_type": "code",
   "execution_count": null,
   "metadata": {
    "collapsed": true
   },
   "outputs": [],
   "source": []
  },
  {
   "cell_type": "code",
   "execution_count": null,
   "metadata": {
    "collapsed": true
   },
   "outputs": [],
   "source": []
  }
 ],
 "metadata": {
  "kernelspec": {
   "display_name": "Python [conda env:larval_gonad]",
   "language": "python",
   "name": "conda-env-larval_gonad-py"
  },
  "language_info": {
   "codemirror_mode": {
    "name": "ipython",
    "version": 3
   },
   "file_extension": ".py",
   "mimetype": "text/x-python",
   "name": "python",
   "nbconvert_exporter": "python",
   "pygments_lexer": "ipython3",
   "version": "3.5.4"
  },
  "toc": {
   "colors": {
    "hover_highlight": "#DAA520",
    "navigate_num": "#000000",
    "navigate_text": "#333333",
    "running_highlight": "#FF0000",
    "selected_highlight": "#FFD700",
    "sidebar_border": "#EEEEEE",
    "wrapper_background": "#FFFFFF"
   },
   "moveMenuLeft": true,
   "nav_menu": {
    "height": "30px",
    "width": "252px"
   },
   "navigate_menu": true,
   "number_sections": false,
   "sideBar": true,
   "threshold": 4,
   "toc_cell": false,
   "toc_section_display": "block",
   "toc_window_display": false,
   "widenNotebook": false
  }
 },
 "nbformat": 4,
 "nbformat_minor": 2
}
