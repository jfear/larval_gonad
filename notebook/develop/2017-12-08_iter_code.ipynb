{
 "cells": [
  {
   "cell_type": "markdown",
   "metadata": {},
   "source": [
    "This is just a place holder for this iter code."
   ]
  },
  {
   "cell_type": "code",
   "execution_count": null,
   "metadata": {},
   "outputs": [],
   "source": [
    "def iter_plot(fbgns, pth=Path('../output/figures/testis_pilot_tsne')):\n",
    "    pth.mkdir(exist_ok=True)\n",
    "    \n",
    "    if isinstance(fbgns, str):\n",
    "        fbgns = [fbgns]\n",
    "    \n",
    "    def sanitize_fname(fname):\n",
    "        valid_chars = \"-_.%s%s\" % (string.ascii_letters, string.digits)\n",
    "        return ''.join([x for x in fname if x in valid_chars])\n",
    "\n",
    "    for fbgn in fbgns:\n",
    "        gene = fbgn2symbol[fbgn]\n",
    "        _gene = sanitize_fname(gene)\n",
    "        fname = f'{_gene}_{fbgn}'\n",
    "        \n",
    "        if (pth / (fname + '_paper-wide.png')).exists() & (pth / (fname + '_paper-wide.png')).exists() & \\\n",
    "           (pth / (fname + '_talk-wide.png')).exists() & (pth / (fname + '_talk-wide.png')).exists() :\n",
    "            continue\n",
    "        \n",
    "        @make_figs(str(pth / fname), ['talk-wide', 'paper-wide'], \n",
    "                   ['png', 'pdf'], kws_layout={'w_pad': 1, 'rect': [0, 0, .9, .95]})\n",
    "        def _plot_gene(*args, **kwargs):\n",
    "            plot_gene(*args, **kwargs)\n",
    "            \n",
    "        _plot_gene(symbol=gene, fbgn=fbgn)\n",
    "        plt.close()\n",
    "        \n",
    "\n",
    "iter_plot(testis_markers.gene.unique().tolist())"
   ]
  }
 ],
 "metadata": {
  "kernelspec": {
   "display_name": "Python [conda env:larval_gonad]",
   "language": "python",
   "name": "conda-env-larval_gonad-py"
  },
  "language_info": {
   "codemirror_mode": {
    "name": "ipython",
    "version": 3
   },
   "file_extension": ".py",
   "mimetype": "text/x-python",
   "name": "python",
   "nbconvert_exporter": "python",
   "pygments_lexer": "ipython3",
   "version": "3.6.3"
  }
 },
 "nbformat": 4,
 "nbformat_minor": 2
}
