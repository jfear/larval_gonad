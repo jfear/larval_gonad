{
 "cells": [
  {
   "cell_type": "markdown",
   "metadata": {},
   "source": [
    "I need to create a dmel atlas sample table for running the RNA-seq pipeline. This atlas is data from Haiwang's project, but I have downloaded some of it as part of the SRA. "
   ]
  },
  {
   "cell_type": "code",
   "execution_count": 1,
   "metadata": {},
   "outputs": [
    {
     "name": "stdout",
     "output_type": "stream",
     "text": [
      "last updated: 2017-11-22 \n",
      "Git hash: 6736e3124c8b7140a2310fe6a237ad3fd2f393b7\n"
     ]
    }
   ],
   "source": [
    "# %load ../start.py\n",
    "# Imports\n",
    "import os\n",
    "import sys\n",
    "from tempfile import TemporaryDirectory\n",
    "import re\n",
    "\n",
    "import numpy as np\n",
    "import pandas as pd\n",
    "\n",
    "import matplotlib as mpl\n",
    "import matplotlib.pyplot as plt\n",
    "import seaborn as sns\n",
    "\n",
    "# Project level imports\n",
    "sys.path.insert(0, '../../lib')\n",
    "from larval_gonad.notebook import Nb\n",
    "\n",
    "# Setup notebook\n",
    "nbconfig = Nb.setup_notebook()\n",
    "\n",
    "# Turn on cache\n",
    "from joblib import Memory\n",
    "memory = Memory(cachedir=nbconfig.cache, verbose=0)\n",
    "\n",
    "import GEOparse\n",
    "import Bio.Entrez as Entrez\n",
    "\n",
    "Entrez.email = nbconfig.email"
   ]
  },
  {
   "cell_type": "code",
   "execution_count": 2,
   "metadata": {},
   "outputs": [],
   "source": [
    "def get_srr(x):\n",
    "    res = Entrez.efetch('sra', id=x).read()\n",
    "    return list(set(re.findall('SRR\\d+', res)))"
   ]
  },
  {
   "cell_type": "code",
   "execution_count": 3,
   "metadata": {},
   "outputs": [
    {
     "data": {
      "text/plain": [
       "nb_name:\tNone\n",
       "project_dir:\t/spin1/users/fearjm/Projects/larval_gonad\n",
       "config_dir:\t/spin1/users/fearjm/Projects/larval_gonad/config\n",
       "fig_dir:\t/spin1/users/fearjm/Projects/larval_gonad/output/figures\n",
       "table_dir:\t/spin1/users/fearjm/Projects/larval_gonad/output/tables\n",
       "cache:\t/spin1/users/fearjm/Projects/larval_gonad/output/cache\n",
       "formats:\t['png', 'pdf']\n",
       "styles:\t['notebook', 'paper', 'talk', 'poster']\n",
       "date:\t2017-11-22\n",
       "author:\tJustin M Fear\n",
       "email:\tjustin.m.fear@gmail.com\n",
       "project:\tLarval Gonad\n",
       "git:\thttps://github.com/jfear/larval_gonad"
      ]
     },
     "execution_count": 3,
     "metadata": {},
     "output_type": "execute_result"
    }
   ],
   "source": [
    "nbconfig"
   ]
  },
  {
   "cell_type": "code",
   "execution_count": 4,
   "metadata": {},
   "outputs": [],
   "source": [
    "ATLAS = 'GSE99574'"
   ]
  },
  {
   "cell_type": "code",
   "execution_count": 5,
   "metadata": {},
   "outputs": [],
   "source": [
    "# Download GEO entry\n",
    "tmp = TemporaryDirectory()\n",
    "gse = GEOparse.get_GEO(ATLAS, destdir=tmp.name, silent=True)"
   ]
  },
  {
   "cell_type": "code",
   "execution_count": 6,
   "metadata": {},
   "outputs": [],
   "source": [
    "data = []\n",
    "for gsm, dat in gse.gsms.items():\n",
    "    record = {}\n",
    "    if dat.metadata['organism_ch1'][0] == 'Drosophila melanogaster':\n",
    "        record['samplename'] = dat.metadata['title'][0]\n",
    "        if 'leftover' in record['samplename']:\n",
    "            continue\n",
    "            \n",
    "        if 'ercc' in record['samplename']:\n",
    "            continue\n",
    "        \n",
    "        for attr in dat.metadata['characteristics_ch1']:\n",
    "            if 'strain' in attr:\n",
    "                record['strain'] = re.match(r'.*(w1118|Oregon-R).*', attr).groups()[0]\n",
    "            elif 'Sex' in attr:\n",
    "                record['sex'] = re.match(r'.*(Male|Female).*', attr).groups()[0].lower()\n",
    "            elif 'replicate' in attr:\n",
    "                record['replicate'] = re.match(r'.*(\\d+).*', attr).groups()[0]\n",
    "            elif 'tissue' in attr:\n",
    "                record['tissue'] = re.match(r'tissue: (.*)', \n",
    "                                            attr).groups()[0].replace(' ', '_')\n",
    "            elif 'plate and well id' in attr:\n",
    "                groups = re.match('.*Plate(\\d)_([A-Z])(\\d)', attr).groups()\n",
    "                record['plate'] = groups[0]\n",
    "                record['row'] = groups[1]\n",
    "                record['col'] = groups[2]\n",
    "        for rel in dat.metadata['relation']:\n",
    "            if 'SRA' in rel:\n",
    "                record['srx'] = re.match('.*(SRX\\d+).*', rel).groups()[0]\n",
    "                record['srr'] = get_srr(record['srx'])\n",
    "        data.append(record)\n",
    "        \n",
    "header = [\n",
    "    'samplename',\n",
    "    'srx',\n",
    "    'srr',\n",
    "    'sex',\n",
    "    'strain',\n",
    "    'tissue',\n",
    "    'replicate',\n",
    "    'plate',\n",
    "    'row',\n",
    "    'col'\n",
    "]\n",
    "df = pd.DataFrame(data)[header]\n",
    "\n",
    "# rename gonad to ovary or testes\n",
    "df.loc[(df.sex == 'female') & (df.tissue == 'gonad'), 'tissue'] = 'ovary'\n",
    "df.loc[(df.sex == 'male') & (df.tissue == 'gonad'), 'tissue'] = 'testes'"
   ]
  },
  {
   "cell_type": "code",
   "execution_count": 7,
   "metadata": {},
   "outputs": [],
   "source": [
    "# unwind SRR\n",
    "rows = []\n",
    "for _, row in df.iterrows():\n",
    "    for srr in set(row.srr):\n",
    "        curr = row.copy()\n",
    "        curr['srr'] = srr\n",
    "        curr['samplename'] = curr['samplename'] + '_' + srr\n",
    "        rows.append(curr)\n",
    "        \n",
    "sampletable = pd.concat(rows, axis=1).T"
   ]
  },
  {
   "cell_type": "code",
   "execution_count": 8,
   "metadata": {},
   "outputs": [],
   "source": [
    "# Add group for lcdb-wf\n",
    "sampletable['group'] = sampletable['sex'] + '_' + sampletable['tissue']"
   ]
  },
  {
   "cell_type": "code",
   "execution_count": 9,
   "metadata": {},
   "outputs": [],
   "source": [
    "sampletable.to_csv('../../dmel-atlas-wf/config/sampletable.tsv', sep='\\t', index=False)"
   ]
  }
 ],
 "metadata": {
  "kernelspec": {
   "display_name": "Python [conda env:larval_gonad]",
   "language": "python",
   "name": "conda-env-larval_gonad-py"
  },
  "language_info": {
   "codemirror_mode": {
    "name": "ipython",
    "version": 3
   },
   "file_extension": ".py",
   "mimetype": "text/x-python",
   "name": "python",
   "nbconvert_exporter": "python",
   "pygments_lexer": "ipython3",
   "version": "3.6.3"
  },
  "toc": {
   "nav_menu": {},
   "number_sections": true,
   "sideBar": true,
   "skip_h1_title": false,
   "toc_cell": false,
   "toc_position": {},
   "toc_section_display": "block",
   "toc_window_display": false
  }
 },
 "nbformat": 4,
 "nbformat_minor": 2
}
