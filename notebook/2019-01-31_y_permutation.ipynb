{
 "cells": [
  {
   "cell_type": "markdown",
   "metadata": {
    "toc-hr-collapsed": false
   },
   "source": [
    "# Y Permutation Test"
   ]
  },
  {
   "cell_type": "code",
   "execution_count": null,
   "metadata": {},
   "outputs": [],
   "source": [
    "import os\n",
    "import sys\n",
    "import re\n",
    "from pathlib import Path\n",
    "\n",
    "from IPython.display import display, HTML, Markdown\n",
    "import numpy as np\n",
    "import pandas as pd\n",
    "from scipy.stats import spearmanr, mannwhitneyu, fisher_exact, cumfreq\n",
    "from scipy.cluster.hierarchy import linkage, dendrogram\n",
    "import statsmodels.formula.api as smf\n",
    "\n",
    "import matplotlib as mpl\n",
    "import matplotlib.pyplot as plt\n",
    "import seaborn as sns\n",
    "\n",
    "# Project level imports\n",
    "from larval_gonad.notebook import Nb\n",
    "from larval_gonad.x_to_a import commonly_expressed"
   ]
  },
  {
   "cell_type": "code",
   "execution_count": null,
   "metadata": {
    "lines_to_next_cell": 1
   },
   "outputs": [],
   "source": [
    "# Setup notebook\n",
    "nbconfig = Nb.setup_notebook(seurat_dir='../output/scrnaseq-wf/scrnaseq_combine_force')"
   ]
  },
  {
   "cell_type": "code",
   "execution_count": null,
   "metadata": {
    "lines_to_next_cell": 1
   },
   "outputs": [],
   "source": [
    "def read_fbgn2chrom():\n",
    "    mapper = {\n",
    "        'chrX': 'X',\n",
    "        'chrY': 'Y',\n",
    "        'chr4': '4',\n",
    "        'chr2L': 'A',\n",
    "        'chr2R': 'A',\n",
    "        'chr3L': 'A',\n",
    "        'chr3R': 'A',\n",
    "    }\n",
    "\n",
    "    fbgn2chrom = (pd.read_csv('../output/fbgn2chrom.tsv', sep='\\t', index_col=0)\n",
    "                      .query('chrom != \"chrM\"')\n",
    "                      .chrom.map(mapper)\n",
    "                      .astype('category')\n",
    "                      .cat.as_ordered()\n",
    "                 )\n",
    "    \n",
    "    return fbgn2chrom.cat.reorder_categories(['X', 'A', 'Y', '4'])\n",
    "\n",
    "\n",
    "def read_clusters():\n",
    "    clusters = nbconfig.seurat.get_clusters('res.0.6').map(nbconfig.short_cluster_annot)\n",
    "    clusters = clusters[clusters != 'UNK'].copy()\n",
    "    return clusters.astype('category').cat.as_ordered().cat.reorder_categories(nbconfig.short_cluster_order)\n",
    "\n",
    "\n",
    "def read_raw(rep2):\n",
    "    raw = nbconfig.seurat.get_raw()\n",
    "    if rep2:\n",
    "        raw = raw.loc[:, raw.columns.str.startswith('rep2')].copy()\n",
    "        \n",
    "    return raw\n",
    "        \n",
    "    \n",
    "def read_gene_length(): \n",
    "    gene_lengths = pd.read_csv('../output/gene_ts_lengths.tsv', sep='\\t', index_col=0).gene_ts_length\n",
    "    gene_lengths.name = 'gene_length'\n",
    "    return gene_lengths\n",
    "    \n",
    "    \n",
    "def read_tpm(rep2):\n",
    "    from larval_gonad.normalization import tpm\n",
    "    raw = read_raw(rep2)\n",
    "    gene_lengths = read_gene_length()\n",
    "    return tpm(raw, gene_lengths).dropna()\n",
    "    \n",
    "def get_rep(wide):    \n",
    "    rep = wide.columns.str.extract('(?P<rep>rep\\d)').rep\n",
    "    rep.index = wide.columns\n",
    "    return rep\n",
    "    \n",
    "def read_data(rep2=False, tpm=False):\n",
    "    fbgn2chrom = read_fbgn2chrom()\n",
    "    clusters = read_clusters()\n",
    "    \n",
    "    if tpm:\n",
    "        data = read_tpm(rep2)\n",
    "        value_name = 'TPM'\n",
    "    else:\n",
    "        data = read_raw(rep2)\n",
    "        value_name = 'UMI'\n",
    "    \n",
    "    # Munge together\n",
    "    rep = get_rep(data)\n",
    "    melted = data.reset_index().melt(id_vars='FBgn', value_name=value_name)\n",
    "    return melted.join(clusters, on='cell_id').join(fbgn2chrom, on='FBgn').join(rep, on='cell_id').dropna()"
   ]
  },
  {
   "cell_type": "markdown",
   "metadata": {},
   "source": [
    "## Data Prep"
   ]
  },
  {
   "cell_type": "code",
   "execution_count": null,
   "metadata": {},
   "outputs": [],
   "source": [
    "df = read_data()\n",
    "df['missing'] = (df.UMI == 0).values"
   ]
  },
  {
   "cell_type": "code",
   "execution_count": null,
   "metadata": {},
   "outputs": [],
   "source": [
    "fbgn2chrom = read_fbgn2chrom()\n",
    "fbgn2chrom = fbgn2chrom.reindex(df.FBgn.unique())\n",
    "num_genes_by_chrom = fbgn2chrom.value_counts()"
   ]
  },
  {
   "cell_type": "markdown",
   "metadata": {},
   "source": [
    "### Permutation Test"
   ]
  },
  {
   "cell_type": "markdown",
   "metadata": {},
   "source": [
    "At the experiment level, it is clear that missingness is not random. This maybe due to technical artifacts such as dropout, or maybe related to biological processes (i.e. RNA-content of somatic cells is much smaller than germline). Therefore even a non-parametric test is not appropriate, unless we model the missingness (which is very hard). \n",
    "\n",
    "Fortunately, at the cell level missingness appears to be somewhat random in relation to X and A expression. We have proposed using a permutation approach "
   ]
  },
  {
   "cell_type": "code",
   "execution_count": null,
   "metadata": {},
   "outputs": [],
   "source": [
    "cell_ids = []\n",
    "flags = []\n",
    "for cell_id, dd in df.groupby('cell_id'):\n",
    "    y_data = dd[dd.chrom == \"Y\"].UMI.values\n",
    "    a_data = dd[dd.chrom == \"A\"].UMI.values\n",
    "    _, p_value = mannwhitneyu(y_data, a_data, alternative='greater')\n",
    "    \n",
    "    if p_value <= 0.05:\n",
    "        flags.append(True)\n",
    "    else:\n",
    "        flags.append(False)\n",
    "        \n",
    "    cell_ids.append(cell_id)\n",
    "\n",
    "flag_y_gt_a = pd.Series(flags, index=pd.Index(cell_ids, name='cell_id'), name='flag_y_gt_a')"
   ]
  },
  {
   "cell_type": "code",
   "execution_count": null,
   "metadata": {},
   "outputs": [],
   "source": [
    "flag_y_gt_a_by_cluster = pd.concat([flag_y_gt_a, read_clusters()], axis=1, sort=True)\n",
    "flag_y_gt_a_by_cluster['rep'] = flag_y_gt_a_by_cluster.index.str.extract('(?P<rep>rep\\d)', expand=False)"
   ]
  },
  {
   "cell_type": "code",
   "execution_count": null,
   "metadata": {},
   "outputs": [],
   "source": [
    "obs = flag_y_gt_a_by_cluster.groupby('cluster').mean()"
   ]
  },
  {
   "cell_type": "code",
   "execution_count": null,
   "metadata": {},
   "outputs": [],
   "source": [
    "results = []\n",
    "for i in range(10_000):\n",
    "    _df = flag_y_gt_a_by_cluster.copy()\n",
    "    _df.cluster = _df.cluster.sample(frac=1, replace=False).values\n",
    "    perm = _df.groupby('cluster').mean()\n",
    "    perm.columns = [f'permutation_{i}']\n",
    "    results.append(perm)\n",
    "\n",
    "perms = pd.concat(results, axis=1).T"
   ]
  },
  {
   "cell_type": "code",
   "execution_count": null,
   "metadata": {},
   "outputs": [],
   "source": [
    "ax = perms.plot(kind='kde')\n",
    "ax.set_xlabel('Proportion of Cells (Y > A)')\n",
    "ax.set_title('Permuted Null Distributions by Cluster')"
   ]
  },
  {
   "cell_type": "code",
   "execution_count": null,
   "metadata": {
    "lines_to_next_cell": 1
   },
   "outputs": [],
   "source": [
    "# Calculate p-value using permutation\n",
    "results = []\n",
    "for clus, dd in obs.groupby('cluster'):\n",
    "    _obs = dd.iloc[0, 0]\n",
    "    p_val = (perms[clus] >= _obs).mean()\n",
    "    results.append((clus, p_val))\n",
    "\n",
    "perm_pval = pd.DataFrame(results, columns=['cluster', 'p_value']).set_index('cluster').p_value"
   ]
  },
  {
   "cell_type": "code",
   "execution_count": null,
   "metadata": {},
   "outputs": [],
   "source": [
    "# calculate bootstrap confidence intervals for plotting\n",
    "def bootstrap(dat, n_boot=1000, estimator=np.mean):\n",
    "    results = np.empty(n_boot)\n",
    "    for i in range(n_boot):\n",
    "        results[i] = estimator(dat.sample(n=dat.shape[0], replace=True))\n",
    "    return np.percentile(results, [2.5, 97.5])\n",
    "\n",
    "prop_flag_y_gt_a = flag_y_gt_a_by_cluster.groupby(['cluster', 'rep']).flag_y_gt_a.mean().to_frame().reset_index()\n",
    "\n",
    "results = []\n",
    "for clus, dd in prop_flag_y_gt_a.groupby('cluster'):\n",
    "    low, high = bootstrap(dd.flag_y_gt_a)\n",
    "    results.append((clus, low, high))\n",
    "    \n",
    "cluster_bootstrap = pd.DataFrame(results, columns=['cluster', 'low', 'high'])\n",
    "cluster_bootstrap_w_pval = cluster_bootstrap.join(perm_pval, on='cluster')"
   ]
  },
  {
   "cell_type": "code",
   "execution_count": null,
   "metadata": {},
   "outputs": [],
   "source": [
    "fig, ax = plt.subplots(figsize=plt.figaspect(1/2))\n",
    "ax.plot(prop_flag_y_gt_a.groupby(\"cluster\").flag_y_gt_a.mean().values, color='k', zorder=-10)\n",
    "sns.pointplot(x='cluster', y='flag_y_gt_a', data=prop_flag_y_gt_a, errwidth=2, capsize=.2, palette=nbconfig.colors['clusters'], zorder=10, ax=ax)\n",
    "#ax.set_ylim(0, 1.1)\n",
    "ax.set_ylabel('Prop Cells')\n",
    "ax.set_title('Proprotion of Cells with Y Enrichment')\n",
    "\n",
    "for i, row in cluster_bootstrap_w_pval.iterrows():\n",
    "    if row.p_value <= 0.05:\n",
    "        ax.text(i, row.high, '*', ha='center', va='bottom')"
   ]
  },
  {
   "cell_type": "code",
   "execution_count": null,
   "metadata": {},
   "outputs": [],
   "source": [
    "prop_missing_by_cell_by_chrom = df.groupby(['cluster', 'cell_id', 'chrom']).missing.mean().unstack()\n",
    "prop_missing_by_cell_by_chrom.columns = [f'{x}_missingness' for x in prop_missing_by_cell_by_chrom.columns]\n",
    "prop_missing_by_cell_by_chrom.reset_index(inplace=True)"
   ]
  },
  {
   "cell_type": "code",
   "execution_count": null,
   "metadata": {},
   "outputs": [],
   "source": [
    "dat = prop_missing_by_cell_by_chrom.join(flag_x_lt_a.astype(int), on='cell_id')"
   ]
  },
  {
   "cell_type": "code",
   "execution_count": null,
   "metadata": {},
   "outputs": [],
   "source": [
    "g = sns.FacetGrid(dat, col='cluster', col_wrap=4)\n",
    "g.map(sns.kdeplot, 'X_missingness', label='X Missingness')\n",
    "g.map(sns.kdeplot, 'A_missingness', color='orange', label='A Missingness')\n",
    "g.axes[0].legend()"
   ]
  },
  {
   "cell_type": "code",
   "execution_count": null,
   "metadata": {},
   "outputs": [],
   "source": [
    "results = smf.logit('flag_x_lt_a ~ (X_missingness + A_missingness)/cluster', data=dat).fit()\n",
    "results.summary2()"
   ]
  }
 ],
 "metadata": {
  "kernelspec": {
   "display_name": "Python [conda env:larval_gonad]",
   "language": "python",
   "name": "conda-env-larval_gonad-py"
  }
 },
 "nbformat": 4,
 "nbformat_minor": 2
}
