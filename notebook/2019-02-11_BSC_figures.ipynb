{
 "cells": [
  {
   "cell_type": "markdown",
   "metadata": {},
   "source": [
    "# Figures for BSC"
   ]
  },
  {
   "cell_type": "markdown",
   "metadata": {},
   "source": [
    "Brian requested the following for the BSC:\n",
    "\n",
    "* heatmaps and clusters of scRNA.  \n",
    "* X, Y 4th chromosome expression patterns.  "
   ]
  },
  {
   "cell_type": "code",
   "execution_count": null,
   "metadata": {},
   "outputs": [],
   "source": [
    "import os\n",
    "import sys\n",
    "import re\n",
    "from pathlib import Path\n",
    "from itertools import zip_longest\n",
    "from yaml import load\n",
    "\n",
    "from IPython.display import display, HTML, Markdown\n",
    "import numpy as np\n",
    "import pandas as pd\n",
    "\n",
    "import matplotlib as mpl\n",
    "import matplotlib.pyplot as plt\n",
    "from matplotlib.lines import Line2D\n",
    "import seaborn as sns\n",
    "\n",
    "# Project level imports\n",
    "from larval_gonad.notebook import Nb"
   ]
  },
  {
   "cell_type": "code",
   "execution_count": null,
   "metadata": {},
   "outputs": [],
   "source": [
    "# Setup notebook\n",
    "nbconfig = Nb.setup_notebook(seurat_dir='../output/scrnaseq-wf/scrnaseq_combine_force')"
   ]
  },
  {
   "cell_type": "code",
   "execution_count": null,
   "metadata": {},
   "outputs": [],
   "source": [
    "clusters = (\n",
    "    nbconfig.seurat.get_clusters('res.0.6')\n",
    "    .map(nbconfig.short_cluster_annot)\n",
    "    .pipe(lambda x: x[x != 'UNK'])\n",
    "    .astype('category')\n",
    "    .cat.as_ordered()\n",
    "    .cat.reorder_categories(nbconfig.short_cluster_order)\n",
    "    .to_frame()\n",
    "    .assign(colors=lambda df: df.cluster.map(dict(zip(nbconfig.short_cluster_order, nbconfig.colors['clusters']))))\n",
    "    .rename_axis('cell_id')\n",
    ")"
   ]
  },
  {
   "cell_type": "code",
   "execution_count": null,
   "metadata": {
    "lines_to_next_cell": 1
   },
   "outputs": [],
   "source": [
    "tsne = (\n",
    "    nbconfig.seurat.get_tsne()\n",
    "    .rename_axis('cell_id')\n",
    "    .merge(clusters, on='cell_id')\n",
    ")"
   ]
  },
  {
   "cell_type": "code",
   "execution_count": null,
   "metadata": {
    "lines_to_next_cell": 1
   },
   "outputs": [],
   "source": [
    "def make_list(list_like):\n",
    "    return np.array(\n",
    "        list(\n",
    "            zip_longest(list_like[:4], list_like[4:8], [list_like[-1]])\n",
    "        )\n",
    "    ).flatten().tolist()"
   ]
  },
  {
   "cell_type": "code",
   "execution_count": null,
   "metadata": {},
   "outputs": [],
   "source": [
    "fig, ax = plt.subplots(figsize=(8, 8))\n",
    "ax.scatter(tsne.tSNE_1, tsne.tSNE_2, s=20, c=tsne.colors)\n",
    "\n",
    "# clean up axis\n",
    "ax.set_aspect('equal')\n",
    "sns.despine(fig=fig, left=True, bottom=True)\n",
    "plt.setp(ax, yticks=[], xticks=[]);\n",
    "\n",
    "# legend\n",
    "legend_elements = [\n",
    "    #Patch(facecolor=color, edgecolor='k', label=f'{lclus} ({sclus})')\n",
    "    Line2D([0], [0], marker='o', color=(1, 1, 1, 0), markeredgecolor=color, markerfacecolor=color, markersize=10, label=f'{lclus} ({sclus})')\n",
    "    for sclus, lclus, color in zip(make_list(nbconfig.short_cluster_order),  make_list(nbconfig.cluster_order[:9]), make_list(nbconfig.colors['clusters'][:9]))\n",
    "    if sclus is not None\n",
    "]\n",
    "\n",
    "ax.legend(handles=legend_elements, loc='lower center', ncol=4, bbox_to_anchor=[0.5, 1], facecolor=None)\n",
    "for clus, row in tsne.groupby('cluster').agg({'tSNE_1': np.mean, 'tSNE_2': np.mean}).iterrows():\n",
    "    plt.text(row.tSNE_1, row.tSNE_2, clus, backgroundcolor=(1, 1, 1, .9), ha='center', va='center')\n",
    "plt.tight_layout()\n",
    "plt.savefig('../output/notebook/2019-02-11_tsne.png')"
   ]
  },
  {
   "cell_type": "code",
   "execution_count": null,
   "metadata": {
    "lines_to_next_cell": 2
   },
   "outputs": [],
   "source": []
  },
  {
   "cell_type": "code",
   "execution_count": null,
   "metadata": {},
   "outputs": [],
   "source": [
    "zscores = (\n",
    "    pd.read_parquet('../output/scrnaseq-wf/tpm_zscore_w_rep.parquet')\n",
    "    .loc[:, nbconfig.sel_cluster_order_w_rep]\n",
    ")"
   ]
  },
  {
   "cell_type": "code",
   "execution_count": null,
   "metadata": {},
   "outputs": [],
   "source": [
    "with open('../science_submission/config.yaml') as fh:\n",
    "    lit_genes = load(fh.read())['lit_genes']"
   ]
  },
  {
   "cell_type": "code",
   "execution_count": null,
   "metadata": {},
   "outputs": [],
   "source": [
    "lit_fbgn = list(map(lambda x: nbconfig.symbol2fbgn[x], lit_genes))\n",
    "lit_zscores = zscores.reindex(lit_fbgn).rename(index=nbconfig.fbgn2symbol)"
   ]
  },
  {
   "cell_type": "code",
   "execution_count": null,
   "metadata": {},
   "outputs": [],
   "source": [
    "lit_zscores"
   ]
  },
  {
   "cell_type": "code",
   "execution_count": null,
   "metadata": {
    "lines_to_next_cell": 1
   },
   "outputs": [],
   "source": [
    "long_to_short = dict(zip(nbconfig.sel_cluster_order, nbconfig.short_cluster_order))"
   ]
  },
  {
   "cell_type": "code",
   "execution_count": null,
   "metadata": {
    "lines_to_next_cell": 1
   },
   "outputs": [],
   "source": [
    "def process_text(txt):\n",
    "    match = re.match(f'(?P<type>.*?)-(?P<rep>rep\\d)', txt)\n",
    "    if match['rep'] == 'rep2':\n",
    "        return long_to_short[match['type']]\n",
    "    return ''"
   ]
  },
  {
   "cell_type": "code",
   "execution_count": null,
   "metadata": {},
   "outputs": [],
   "source": [
    "fig, ax = plt.subplots(figsize=(8, 8))\n",
    "sns.heatmap(lit_zscores, cmap='viridis', yticklabels=True, xticklabels=True, vmin=-3, vmax=3, cbar_kws=dict(label='Normalized Expression\\n(z-score)'), ax=ax)\n",
    "\n",
    "# fix up x-axis\n",
    "labels = [\n",
    "    process_text(l.get_text())\n",
    "    for l in ax.get_xticklabels()\n",
    "]\n",
    "ax.set_xticklabels(labels, rotation=0, fontdict=dict(size=18), ha='center', va='bottom');\n",
    "ax.set_xlabel('')\n",
    "ax.xaxis.tick_top()\n",
    "\n",
    "# fix up y-axis\n",
    "labels = [\n",
    "    l.get_text()\n",
    "    for l in ax.get_yticklabels()\n",
    "]\n",
    "ax.set_yticklabels(labels, rotation=0, fontdict=dict(style='italic', size=18), va='center');\n",
    "ax.set_ylabel('')\n",
    "\n",
    "# Add cluster lines\n",
    "loc = 3\n",
    "for i in range(8):\n",
    "    ax.axvline(loc, color='w', ls=':', lw=2)\n",
    "    loc += 3\n",
    "    \n",
    "# Add cluster lines\n",
    "ax.axhline(2, color='w', ls=':', lw=2)\n",
    "ax.axhline(4, color='w', ls=':', lw=2)\n",
    "ax.axhline(7, color='w', ls=':', lw=2)\n",
    "ax.axhline(9, color='w', ls=':', lw=2)\n",
    "ax.axhline(10, color='w', ls=':', lw=2)\n",
    "\n",
    "# increase cbar axis\n",
    "cbar = ax.collections[0].colorbar\n",
    "label = cbar.ax.get_ylabel()\n",
    "cbar.ax.set_ylabel(label, fontdict=dict(fontsize=18))\n",
    "cbar.ax.tick_params(labelsize=14)\n",
    "\n",
    "# save figure\n",
    "plt.savefig('../output/notebook/2019-02-11_lit_genes.png')"
   ]
  },
  {
   "cell_type": "code",
   "execution_count": null,
   "metadata": {
    "lines_to_next_cell": 2
   },
   "outputs": [],
   "source": []
  },
  {
   "cell_type": "code",
   "execution_count": null,
   "metadata": {
    "lines_to_next_cell": 2
   },
   "outputs": [],
   "source": []
  },
  {
   "cell_type": "code",
   "execution_count": null,
   "metadata": {},
   "outputs": [],
   "source": [
    "from sklearn.cluster import KMeans"
   ]
  },
  {
   "cell_type": "code",
   "execution_count": null,
   "metadata": {},
   "outputs": [],
   "source": [
    "tpm = pd.read_parquet('../output/scrnaseq-wf/tpm_w_rep.parquet').loc[:, nbconfig.sel_cluster_order_w_rep]"
   ]
  },
  {
   "cell_type": "code",
   "execution_count": null,
   "metadata": {},
   "outputs": [],
   "source": [
    "X = tpm.values"
   ]
  },
  {
   "cell_type": "code",
   "execution_count": null,
   "metadata": {},
   "outputs": [],
   "source": [
    "kmeans = KMeans(n_clusters=9)"
   ]
  },
  {
   "cell_type": "code",
   "execution_count": null,
   "metadata": {},
   "outputs": [],
   "source": [
    "gene_clusters = kmeans.fit_predict(X)"
   ]
  },
  {
   "cell_type": "code",
   "execution_count": null,
   "metadata": {},
   "outputs": [],
   "source": [
    "zscores_kmeans = zscores.iloc[np.argsort(gene_clusters), :]"
   ]
  },
  {
   "cell_type": "code",
   "execution_count": null,
   "metadata": {},
   "outputs": [],
   "source": [
    "fig, ax = plt.subplots(figsize=(8, 8))\n",
    "sns.heatmap(zscores_kmeans, cmap='viridis', yticklabels=False, xticklabels=True, vmin=-3, vmax=3, cbar_kws=dict(label='Normalized Expression\\n(z-score)'), ax=ax)"
   ]
  },
  {
   "cell_type": "code",
   "execution_count": null,
   "metadata": {
    "lines_to_next_cell": 2
   },
   "outputs": [],
   "source": []
  },
  {
   "cell_type": "code",
   "execution_count": null,
   "metadata": {},
   "outputs": [],
   "source": [
    "# fix up x-axis\n",
    "labels = [\n",
    "    process_text(l.get_text())\n",
    "    for l in ax.get_xticklabels()\n",
    "]\n",
    "ax.set_xticklabels(labels, rotation=0, fontdict=dict(size=18), ha='center', va='bottom');\n",
    "ax.set_xlabel('')\n",
    "ax.xaxis.tick_top()\n",
    "\n",
    "# fix up y-axis\n",
    "labels = [\n",
    "    l.get_text()\n",
    "    for l in ax.get_yticklabels()\n",
    "]\n",
    "ax.set_yticklabels(labels, rotation=0, fontdict=dict(style='italic', size=18), va='center');\n",
    "ax.set_ylabel('')\n",
    "\n",
    "# Add cluster lines\n",
    "loc = 3\n",
    "for i in range(8):\n",
    "    ax.axvline(loc, color='w', ls=':', lw=2)\n",
    "    loc += 3\n",
    "    \n",
    "# Add cluster lines\n",
    "ax.axhline(2, color='w', ls=':', lw=2)\n",
    "ax.axhline(4, color='w', ls=':', lw=2)\n",
    "ax.axhline(7, color='w', ls=':', lw=2)\n",
    "ax.axhline(9, color='w', ls=':', lw=2)\n",
    "ax.axhline(10, color='w', ls=':', lw=2)\n",
    "\n",
    "# increase cbar axis\n",
    "cbar = ax.collections[0].colorbar\n",
    "label = cbar.ax.get_ylabel()\n",
    "cbar.ax.set_ylabel(label, fontdict=dict(fontsize=18))\n",
    "cbar.ax.tick_params(labelsize=14)\n",
    "\n",
    "# save figure\n",
    "plt.savefig('../output/notebook/2019-02-11_all_genes.png')"
   ]
  },
  {
   "cell_type": "code",
   "execution_count": null,
   "metadata": {
    "lines_to_next_cell": 2
   },
   "outputs": [],
   "source": []
  },
  {
   "cell_type": "code",
   "execution_count": null,
   "metadata": {
    "lines_to_next_cell": 2
   },
   "outputs": [],
   "source": []
  },
  {
   "cell_type": "code",
   "execution_count": null,
   "metadata": {
    "lines_to_next_cell": 2
   },
   "outputs": [],
   "source": []
  }
 ],
 "metadata": {
  "kernelspec": {
   "display_name": "Python [conda env:larval_gonad]",
   "language": "python",
   "name": "conda-env-larval_gonad-py"
  }
 },
 "nbformat": 4,
 "nbformat_minor": 2
}
