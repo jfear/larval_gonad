{
 "cells": [
  {
   "cell_type": "markdown",
   "metadata": {
    "toc-hr-collapsed": false
   },
   "source": [
    "# Y Permutation Test"
   ]
  },
  {
   "cell_type": "code",
   "execution_count": null,
   "metadata": {},
   "outputs": [],
   "source": [
    "import os\n",
    "import sys\n",
    "import re\n",
    "from pathlib import Path\n",
    "\n",
    "from IPython.display import display, HTML, Markdown\n",
    "import numpy as np\n",
    "import pandas as pd\n",
    "from scipy.stats import spearmanr, mannwhitneyu, fisher_exact, cumfreq\n",
    "from scipy.cluster.hierarchy import linkage, dendrogram\n",
    "import statsmodels.formula.api as smf\n",
    "\n",
    "import matplotlib as mpl\n",
    "import matplotlib.pyplot as plt\n",
    "import seaborn as sns\n",
    "\n",
    "# Project level imports\n",
    "from larval_gonad.notebook import Nb\n",
    "from larval_gonad.x_to_a import commonly_expressed"
   ]
  },
  {
   "cell_type": "code",
   "execution_count": null,
   "metadata": {},
   "outputs": [],
   "source": [
    "# Setup notebook\n",
    "nbconfig = Nb.setup_notebook(seurat_dir='../output/scrnaseq-wf/scrnaseq_combine_force')"
   ]
  },
  {
   "cell_type": "markdown",
   "metadata": {},
   "source": [
    "## Data Prep"
   ]
  },
  {
   "cell_type": "code",
   "execution_count": null,
   "metadata": {},
   "outputs": [],
   "source": [
    "clusters = (\n",
    "    nbconfig.seurat.get_clusters('res.0.6')\n",
    "    .map(nbconfig.short_cluster_annot)\n",
    "    .pipe(lambda x: x[x != 'UNK'])\n",
    ")\n",
    "\n",
    "clusters.head()"
   ]
  },
  {
   "cell_type": "code",
   "execution_count": null,
   "metadata": {},
   "outputs": [],
   "source": [
    "mapper = {'chrX': 'X', 'chrY': 'Y', 'chr4': '4', 'chr2L': 'A','chr2R': 'A','chr3L': 'A','chr3R': 'A',}\n",
    "fbgn2chrom = (\n",
    "    pd.read_csv('../output/fbgn2chrom.tsv', sep='\\t', index_col=0)\n",
    "    .chrom.map(mapper)\n",
    "    .dropna()\n",
    ")\n",
    "fbgn2chrom.head()"
   ]
  },
  {
   "cell_type": "code",
   "execution_count": null,
   "metadata": {},
   "outputs": [],
   "source": [
    "num_genes_per_chrom = fbgn2chrom.value_counts()\n",
    "num_genes_per_chrom"
   ]
  },
  {
   "cell_type": "code",
   "execution_count": null,
   "metadata": {},
   "outputs": [],
   "source": [
    "stacked = (\n",
    "    nbconfig.seurat.get_raw()\n",
    "    .reset_index()\n",
    "    .join(fbgn2chrom, on='FBgn')\n",
    "    .melt(id_vars=['FBgn', 'chrom'], var_name='cell_id', value_name='UMI')\n",
    "    .join(clusters, on='cell_id')\n",
    ")\n",
    "\n",
    "stacked.head()"
   ]
  },
  {
   "cell_type": "code",
   "execution_count": null,
   "metadata": {},
   "outputs": [],
   "source": [
    "ratios_by_cell = (\n",
    "    stacked.groupby(['cell_id', 'cluster', 'chrom'])\n",
    "    .UMI.sum()\n",
    "    .div(num_genes_per_chrom, level='chrom')\n",
    "    .mul(1e3)\n",
    "    .unstack()\n",
    "    .assign(ratio_x = lambda df: df.X / df.A)\n",
    "    .assign(ratio_y = lambda df: df.Y / df.A)\n",
    "    .assign(ratio_4 = lambda df: df['4'] / df.A)\n",
    "    .drop(['X', 'Y', 'A', '4'], axis=1)\n",
    "    .reset_index('cluster')\n",
    ")\n",
    "\n",
    "ratios_by_cell.head()"
   ]
  },
  {
   "cell_type": "code",
   "execution_count": null,
   "metadata": {},
   "outputs": [],
   "source": [
    "fig, (ax1, ax2, ax3) = plt.subplots(1, 3, figsize=plt.figaspect(1/3))\n",
    "(\n",
    "    ratios_by_cell.groupby('cluster')\n",
    "    .ratio_x.apply(sns.kdeplot, ax=ax1)\n",
    ")\n",
    "ax1.set_title('X Ratio')\n",
    "\n",
    "(\n",
    "    ratios_by_cell.groupby('cluster')\n",
    "    .ratio_4.apply(sns.kdeplot, ax=ax2)\n",
    ")\n",
    "ax2.set_title('4 Ratio')\n",
    "\n",
    "(\n",
    "    ratios_by_cell.groupby('cluster')\n",
    "    .ratio_y.apply(sns.kdeplot, ax=ax3)\n",
    ")\n",
    "ax3.set_title('Y Ratio')"
   ]
  },
  {
   "cell_type": "code",
   "execution_count": null,
   "metadata": {},
   "outputs": [],
   "source": [
    "fig, (ax1, ax2, ax3) = plt.subplots(1, 3, figsize=plt.figaspect(1/3), sharey=True, sharex=True)\n",
    "\n",
    "_defaults = dict(x='cluster', data=ratios_by_cell, order=nbconfig.short_cluster_order, showfliers=False, palette=nbconfig.colors['clusters'])\n",
    "\n",
    "sns.boxplot(y='ratio_x', ax=ax1, **_defaults)\n",
    "ax1.set_title('X Ratio')\n",
    "\n",
    "sns.boxplot(y='ratio_4', ax=ax2, **_defaults)\n",
    "ax2.set_title('4 Ratio')\n",
    "\n",
    "sns.boxplot(y='ratio_y', ax=ax3, **_defaults)\n",
    "ax3.set_title('Y Ratio')\n",
    "\n",
    "for ax in [ax1, ax2, ax3]:\n",
    "    ax.axhline(1, ls=':', color='grey')"
   ]
  },
  {
   "cell_type": "code",
   "execution_count": null,
   "metadata": {},
   "outputs": [],
   "source": [
    "cutoff = 0.05\n",
    "\n",
    "results = []\n",
    "permuted_ratios_by_cell = ratios_by_cell.copy()\n",
    "for iteration in range(10_000):\n",
    "    permuted_ratios_by_cell.cluster = permuted_ratios_by_cell.cluster.sample(frac=1).values\n",
    "    for clus, observed_ratios in ratios_by_cell.groupby('cluster'):\n",
    "        permuted_ratios = permuted_ratios_by_cell.query(f'cluster == \"{clus}\"')\n",
    "        _, pval_x = mannwhitneyu(observed_ratios.ratio_x, permuted_ratios.ratio_x, alternative='less')\n",
    "        _, pval_y = mannwhitneyu(observed_ratios.ratio_y, permuted_ratios.ratio_y, alternative='greater')\n",
    "        _, pval_4 = mannwhitneyu(observed_ratios.ratio_4, permuted_ratios.ratio_4, alternative='less')\n",
    "        results.append((clus, pval_x <= cutoff, pval_y <= cutoff, pval_4 <= cutoff))"
   ]
  },
  {
   "cell_type": "code",
   "execution_count": null,
   "metadata": {
    "lines_to_next_cell": 1
   },
   "outputs": [],
   "source": [
    "pvals = 1 - (\n",
    "    pd.DataFrame(results, columns=['cluster', 'sig_x', 'sig_y', 'sig_4']).groupby('cluster')\n",
    "    .mean()\n",
    "    .rename(columns=dict(sig_x='pval_x_lt_a', sig_y='pval_y_gt_a', sig_4='pval_4_lt_a'))\n",
    "    .loc[nbconfig.short_cluster_order, :]\n",
    ")\n",
    "pvals"
   ]
  },
  {
   "cell_type": "code",
   "execution_count": null,
   "metadata": {
    "lines_to_next_cell": 1
   },
   "outputs": [],
   "source": [
    "def whisker(dat):\n",
    "    low, high = np.percentile(dat, [25, 75])\n",
    "    iqr = high - low\n",
    "    return high + (1.5 * iqr)"
   ]
  },
  {
   "cell_type": "code",
   "execution_count": null,
   "metadata": {
    "lines_to_next_cell": 1
   },
   "outputs": [],
   "source": [
    "def plot_pval(dat, pvals, ax):\n",
    "    whiskers = (\n",
    "        dat.groupby('cluster')\n",
    "        .apply(whisker)\n",
    "        .to_dict()\n",
    "    )\n",
    "    \n",
    "    for i, clus in enumerate(nbconfig.short_cluster_order):\n",
    "        pval = pvals.loc[clus]\n",
    "        loc = whiskers[clus]\n",
    "        \n",
    "        if pval <= 0.001:\n",
    "            ax.text(i, loc, '***', ha='center', va='bottom')\n",
    "        elif pval <= 0.01:\n",
    "            ax.text(i, loc, '**', ha='center', va='bottom')\n",
    "        elif pval <= 0.05:\n",
    "            ax.text(i, loc, '*', ha='center', va='bottom')"
   ]
  },
  {
   "cell_type": "code",
   "execution_count": null,
   "metadata": {},
   "outputs": [],
   "source": [
    "fig, axes = plt.subplots(1, 3, figsize=plt.figaspect(1/3), sharey=True)\n",
    "\n",
    "_defaults = dict(x='cluster', data=ratios_by_cell, order=nbconfig.short_cluster_order, showfliers=False, palette=nbconfig.colors['clusters'])\n",
    "\n",
    "sns.boxplot(y='ratio_x', ax=axes[0], **_defaults)\n",
    "plot_pval(ratios_by_cell[['cluster', 'ratio_x']], pvals.pval_x_lt_a, axes[0])\n",
    "axes[0].text(.01, .95, '* X < A', transform=axes[0].transAxes, fontsize=14)\n",
    "\n",
    "\n",
    "sns.boxplot(y='ratio_4', ax=axes[1], **_defaults)\n",
    "plot_pval(ratios_by_cell[['cluster', 'ratio_4']], pvals.pval_4_lt_a, axes[1])\n",
    "axes[1].text(.01, .95, '* 4 < A', transform=axes[1].transAxes, fontsize=14)\n",
    "\n",
    "\n",
    "sns.boxplot(y='ratio_y', ax=axes[2], **_defaults)\n",
    "plot_pval(ratios_by_cell[['cluster', 'ratio_y']], pvals.pval_y_gt_a, axes[2])\n",
    "axes[2].text(.01, .95, '* A < Y', transform=axes[2].transAxes, fontsize=14)"
   ]
  }
 ],
 "metadata": {
  "kernelspec": {
   "display_name": "Python [conda env:larval_gonad]",
   "language": "python",
   "name": "conda-env-larval_gonad-py"
  }
 },
 "nbformat": 4,
 "nbformat_minor": 2
}
