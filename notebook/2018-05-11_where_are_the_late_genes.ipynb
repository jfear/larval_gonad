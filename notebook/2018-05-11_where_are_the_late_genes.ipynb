{
 "cells": [
  {
   "cell_type": "markdown",
   "metadata": {},
   "source": [
    "# Where are the late genes"
   ]
  },
  {
   "cell_type": "code",
   "execution_count": 3,
   "metadata": {},
   "outputs": [
    {
     "name": "stdout",
     "output_type": "stream",
     "text": [
      "last updated: 2018-05-11 \n",
      "Git hash: d95f08fa2067106d9c420b236a6398aa113d03ff\n"
     ]
    }
   ],
   "source": [
    "# %load ../config/defaults.py\n",
    "# Imports\n",
    "import os\n",
    "import sys\n",
    "from pathlib import Path\n",
    "\n",
    "from IPython.display import display, HTML, Markdown\n",
    "import numpy as np\n",
    "import pandas as pd\n",
    "\n",
    "import matplotlib as mpl\n",
    "import matplotlib.pyplot as plt\n",
    "import seaborn as sns\n",
    "\n",
    "# Project level imports\n",
    "sys.path.insert(0, '../lib')\n",
    "from larval_gonad.notebook import Nb\n",
    "from larval_gonad.plotting import make_figs\n",
    "from larval_gonad.config import memory\n",
    "\n",
    "# Setup notebook\n",
    "nbconfig = Nb.setup_notebook(seurat_dir='../output/scrnaseq_combine_force/')\n"
   ]
  },
  {
   "cell_type": "code",
   "execution_count": 5,
   "metadata": {},
   "outputs": [
    {
     "name": "stdout",
     "output_type": "stream",
     "text": [
      "2018-05-10_scrnaseq_early_spermatocytes_vs_late_spermatocytes_biomarkers.tsv\n",
      "2018-05-10_scrnaseq_germ_vs_soma_biomarkers.tsv\n",
      "2018-05-10_scrnaseq_late_spermatocytes_vs_germ_biomarkers.tsv\n",
      "2018-05-10_scrnaseq_spermatogonia_vs_germ_biomarkers.tsv\n",
      "biomarkers_0.4.tsv\n",
      "biomarkers_0.6.tsv\n",
      "biomarkers_1.tsv\n",
      "cca_cell.tsv\n",
      "cca_gene_full.tsv\n",
      "cca_gene.tsv\n",
      "clusters.tsv\n",
      "metadata.tsv\n",
      "normalized_read_counts.tsv\n",
      "raw.tsv\n",
      "scaled.tsv\n",
      "seurat.Robj\n",
      "tsne.tsv\n",
      "var_genes.txt\n"
     ]
    }
   ],
   "source": [
    "!ls $nbconfig.seurat_dir"
   ]
  },
  {
   "cell_type": "code",
   "execution_count": 13,
   "metadata": {},
   "outputs": [],
   "source": [
    "biomarkers = pd.read_csv(Path(nbconfig.seurat_dir, 'biomarkers_0.4.tsv'), sep='\\t')\n",
    "biomarkers.set_index('primary_FBgn', inplace=True)\n",
    "biomarkers.index.name = 'FBgn'"
   ]
  },
  {
   "cell_type": "code",
   "execution_count": 28,
   "metadata": {},
   "outputs": [
    {
     "data": {
      "text/html": [
       "<div>\n",
       "<style scoped>\n",
       "    .dataframe tbody tr th:only-of-type {\n",
       "        vertical-align: middle;\n",
       "    }\n",
       "\n",
       "    .dataframe tbody tr th {\n",
       "        vertical-align: top;\n",
       "    }\n",
       "\n",
       "    .dataframe thead th {\n",
       "        text-align: right;\n",
       "    }\n",
       "</style>\n",
       "<table border=\"1\" class=\"dataframe\">\n",
       "  <thead>\n",
       "    <tr style=\"text-align: right;\">\n",
       "      <th></th>\n",
       "      <th>gene_symbol</th>\n",
       "      <th>p_val</th>\n",
       "      <th>avg_logFC</th>\n",
       "      <th>pct.1</th>\n",
       "      <th>pct.2</th>\n",
       "      <th>p_val_adj</th>\n",
       "      <th>cluster</th>\n",
       "    </tr>\n",
       "    <tr>\n",
       "      <th>FBgn</th>\n",
       "      <th></th>\n",
       "      <th></th>\n",
       "      <th></th>\n",
       "      <th></th>\n",
       "      <th></th>\n",
       "      <th></th>\n",
       "      <th></th>\n",
       "    </tr>\n",
       "  </thead>\n",
       "  <tbody>\n",
       "    <tr>\n",
       "      <th>FBgn0000014</th>\n",
       "      <td>abd-A</td>\n",
       "      <td>0.000000e+00</td>\n",
       "      <td>1.619018</td>\n",
       "      <td>0.710</td>\n",
       "      <td>0.090</td>\n",
       "      <td>0.000000e+00</td>\n",
       "      <td>7</td>\n",
       "    </tr>\n",
       "    <tr>\n",
       "      <th>FBgn0000014</th>\n",
       "      <td>abd-A</td>\n",
       "      <td>0.000000e+00</td>\n",
       "      <td>1.318108</td>\n",
       "      <td>0.705</td>\n",
       "      <td>0.103</td>\n",
       "      <td>0.000000e+00</td>\n",
       "      <td>8</td>\n",
       "    </tr>\n",
       "    <tr>\n",
       "      <th>FBgn0000015</th>\n",
       "      <td>Abd-B</td>\n",
       "      <td>0.000000e+00</td>\n",
       "      <td>1.803189</td>\n",
       "      <td>0.628</td>\n",
       "      <td>0.007</td>\n",
       "      <td>0.000000e+00</td>\n",
       "      <td>7</td>\n",
       "    </tr>\n",
       "    <tr>\n",
       "      <th>FBgn0000017</th>\n",
       "      <td>Abl</td>\n",
       "      <td>1.546106e-78</td>\n",
       "      <td>0.644410</td>\n",
       "      <td>0.397</td>\n",
       "      <td>0.174</td>\n",
       "      <td>2.238143e-74</td>\n",
       "      <td>7</td>\n",
       "    </tr>\n",
       "    <tr>\n",
       "      <th>FBgn0000017</th>\n",
       "      <td>Abl</td>\n",
       "      <td>1.516243e-46</td>\n",
       "      <td>0.422681</td>\n",
       "      <td>0.392</td>\n",
       "      <td>0.179</td>\n",
       "      <td>2.194913e-42</td>\n",
       "      <td>8</td>\n",
       "    </tr>\n",
       "  </tbody>\n",
       "</table>\n",
       "</div>"
      ],
      "text/plain": [
       "            gene_symbol         p_val  avg_logFC  pct.1  pct.2     p_val_adj  \\\n",
       "FBgn                                                                           \n",
       "FBgn0000014       abd-A  0.000000e+00   1.619018  0.710  0.090  0.000000e+00   \n",
       "FBgn0000014       abd-A  0.000000e+00   1.318108  0.705  0.103  0.000000e+00   \n",
       "FBgn0000015       Abd-B  0.000000e+00   1.803189  0.628  0.007  0.000000e+00   \n",
       "FBgn0000017         Abl  1.546106e-78   0.644410  0.397  0.174  2.238143e-74   \n",
       "FBgn0000017         Abl  1.516243e-46   0.422681  0.392  0.179  2.194913e-42   \n",
       "\n",
       "             cluster  \n",
       "FBgn                  \n",
       "FBgn0000014        7  \n",
       "FBgn0000014        8  \n",
       "FBgn0000015        7  \n",
       "FBgn0000017        7  \n",
       "FBgn0000017        8  "
      ]
     },
     "execution_count": 28,
     "metadata": {},
     "output_type": "execute_result"
    }
   ],
   "source": [
    "biomarkers.head()"
   ]
  },
  {
   "cell_type": "code",
   "execution_count": 36,
   "metadata": {},
   "outputs": [],
   "source": [
    "def get_chrom_loc(cluster):\n",
    "    up = biomarkers.query(f'cluster == {cluster} & p_val_adj < 0.01')\n",
    "    dat = up.join(nbconfig.fbgn2chrom)\n",
    "    display(dat.chrom.value_counts().to_frame())"
   ]
  },
  {
   "cell_type": "code",
   "execution_count": 37,
   "metadata": {},
   "outputs": [
    {
     "data": {
      "text/html": [
       "<div>\n",
       "<style scoped>\n",
       "    .dataframe tbody tr th:only-of-type {\n",
       "        vertical-align: middle;\n",
       "    }\n",
       "\n",
       "    .dataframe tbody tr th {\n",
       "        vertical-align: top;\n",
       "    }\n",
       "\n",
       "    .dataframe thead th {\n",
       "        text-align: right;\n",
       "    }\n",
       "</style>\n",
       "<table border=\"1\" class=\"dataframe\">\n",
       "  <thead>\n",
       "    <tr style=\"text-align: right;\">\n",
       "      <th></th>\n",
       "      <th>chrom</th>\n",
       "    </tr>\n",
       "  </thead>\n",
       "  <tbody>\n",
       "    <tr>\n",
       "      <th>chr3R</th>\n",
       "      <td>258</td>\n",
       "    </tr>\n",
       "    <tr>\n",
       "      <th>chr2L</th>\n",
       "      <td>241</td>\n",
       "    </tr>\n",
       "    <tr>\n",
       "      <th>chr2R</th>\n",
       "      <td>227</td>\n",
       "    </tr>\n",
       "    <tr>\n",
       "      <th>chr3L</th>\n",
       "      <td>220</td>\n",
       "    </tr>\n",
       "    <tr>\n",
       "      <th>chrX</th>\n",
       "      <td>97</td>\n",
       "    </tr>\n",
       "    <tr>\n",
       "      <th>chrM</th>\n",
       "      <td>2</td>\n",
       "    </tr>\n",
       "    <tr>\n",
       "      <th>chr4</th>\n",
       "      <td>1</td>\n",
       "    </tr>\n",
       "  </tbody>\n",
       "</table>\n",
       "</div>"
      ],
      "text/plain": [
       "       chrom\n",
       "chr3R    258\n",
       "chr2L    241\n",
       "chr2R    227\n",
       "chr3L    220\n",
       "chrX      97\n",
       "chrM       2\n",
       "chr4       1"
      ]
     },
     "metadata": {},
     "output_type": "display_data"
    }
   ],
   "source": [
    "get_chrom_loc(0)"
   ]
  },
  {
   "cell_type": "code",
   "execution_count": 38,
   "metadata": {},
   "outputs": [
    {
     "data": {
      "text/html": [
       "<div>\n",
       "<style scoped>\n",
       "    .dataframe tbody tr th:only-of-type {\n",
       "        vertical-align: middle;\n",
       "    }\n",
       "\n",
       "    .dataframe tbody tr th {\n",
       "        vertical-align: top;\n",
       "    }\n",
       "\n",
       "    .dataframe thead th {\n",
       "        text-align: right;\n",
       "    }\n",
       "</style>\n",
       "<table border=\"1\" class=\"dataframe\">\n",
       "  <thead>\n",
       "    <tr style=\"text-align: right;\">\n",
       "      <th></th>\n",
       "      <th>chrom</th>\n",
       "    </tr>\n",
       "  </thead>\n",
       "  <tbody>\n",
       "    <tr>\n",
       "      <th>chr3R</th>\n",
       "      <td>370</td>\n",
       "    </tr>\n",
       "    <tr>\n",
       "      <th>chr2L</th>\n",
       "      <td>340</td>\n",
       "    </tr>\n",
       "    <tr>\n",
       "      <th>chr3L</th>\n",
       "      <td>309</td>\n",
       "    </tr>\n",
       "    <tr>\n",
       "      <th>chr2R</th>\n",
       "      <td>303</td>\n",
       "    </tr>\n",
       "    <tr>\n",
       "      <th>chrX</th>\n",
       "      <td>189</td>\n",
       "    </tr>\n",
       "    <tr>\n",
       "      <th>chr4</th>\n",
       "      <td>5</td>\n",
       "    </tr>\n",
       "  </tbody>\n",
       "</table>\n",
       "</div>"
      ],
      "text/plain": [
       "       chrom\n",
       "chr3R    370\n",
       "chr2L    340\n",
       "chr3L    309\n",
       "chr2R    303\n",
       "chrX     189\n",
       "chr4       5"
      ]
     },
     "metadata": {},
     "output_type": "display_data"
    }
   ],
   "source": [
    "get_chrom_loc(3)"
   ]
  },
  {
   "cell_type": "code",
   "execution_count": 40,
   "metadata": {},
   "outputs": [
    {
     "data": {
      "text/html": [
       "<div>\n",
       "<style scoped>\n",
       "    .dataframe tbody tr th:only-of-type {\n",
       "        vertical-align: middle;\n",
       "    }\n",
       "\n",
       "    .dataframe tbody tr th {\n",
       "        vertical-align: top;\n",
       "    }\n",
       "\n",
       "    .dataframe thead th {\n",
       "        text-align: right;\n",
       "    }\n",
       "</style>\n",
       "<table border=\"1\" class=\"dataframe\">\n",
       "  <thead>\n",
       "    <tr style=\"text-align: right;\">\n",
       "      <th></th>\n",
       "      <th>chrom</th>\n",
       "    </tr>\n",
       "  </thead>\n",
       "  <tbody>\n",
       "    <tr>\n",
       "      <th>chr3R</th>\n",
       "      <td>144</td>\n",
       "    </tr>\n",
       "    <tr>\n",
       "      <th>chr2R</th>\n",
       "      <td>130</td>\n",
       "    </tr>\n",
       "    <tr>\n",
       "      <th>chrX</th>\n",
       "      <td>129</td>\n",
       "    </tr>\n",
       "    <tr>\n",
       "      <th>chr3L</th>\n",
       "      <td>114</td>\n",
       "    </tr>\n",
       "    <tr>\n",
       "      <th>chr2L</th>\n",
       "      <td>103</td>\n",
       "    </tr>\n",
       "    <tr>\n",
       "      <th>chr4</th>\n",
       "      <td>8</td>\n",
       "    </tr>\n",
       "  </tbody>\n",
       "</table>\n",
       "</div>"
      ],
      "text/plain": [
       "       chrom\n",
       "chr3R    144\n",
       "chr2R    130\n",
       "chrX     129\n",
       "chr3L    114\n",
       "chr2L    103\n",
       "chr4       8"
      ]
     },
     "metadata": {},
     "output_type": "display_data"
    }
   ],
   "source": [
    "get_chrom_loc(6)"
   ]
  },
  {
   "cell_type": "code",
   "execution_count": null,
   "metadata": {},
   "outputs": [],
   "source": []
  }
 ],
 "metadata": {
  "kernelspec": {
   "display_name": "Python [conda env:larval_gonad]",
   "language": "python",
   "name": "conda-env-larval_gonad-py"
  },
  "language_info": {
   "codemirror_mode": {
    "name": "ipython",
    "version": 3
   },
   "file_extension": ".py",
   "mimetype": "text/x-python",
   "name": "python",
   "nbconvert_exporter": "python",
   "pygments_lexer": "ipython3",
   "version": "3.6.3"
  }
 },
 "nbformat": 4,
 "nbformat_minor": 2
}
