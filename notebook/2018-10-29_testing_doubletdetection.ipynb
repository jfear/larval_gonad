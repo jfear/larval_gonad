{
 "cells": [
  {
   "cell_type": "code",
   "execution_count": 34,
   "metadata": {},
   "outputs": [],
   "source": [
    "import os\n",
    "import sys\n",
    "import re\n",
    "from pathlib import Path\n",
    "\n",
    "from IPython.display import display, HTML, Markdown\n",
    "import numpy as np\n",
    "import pandas as pd\n",
    "\n",
    "import matplotlib as mpl\n",
    "import matplotlib.pyplot as plt\n",
    "import seaborn as sns\n",
    "\n",
    "import doubletdetection\n",
    "\n",
    "# Project level imports\n",
    "from larval_gonad.notebook import Nb\n",
    "from larval_gonad.io import cellranger_counts"
   ]
  },
  {
   "cell_type": "code",
   "execution_count": 2,
   "metadata": {},
   "outputs": [
    {
     "name": "stdout",
     "output_type": "stream",
     "text": [
      "last updated: 2018-10-29 \n",
      "Git hash:\n"
     ]
    }
   ],
   "source": [
    "# Setup notebook\n",
    "nbconfig = Nb.setup_notebook(seurat_dir='../output/scrnaseq-wf/scrnaseq_combine_force')"
   ]
  },
  {
   "cell_type": "code",
   "execution_count": 17,
   "metadata": {},
   "outputs": [],
   "source": [
    "def _parse_bcs(fname):\n",
    "    bcs = pd.read_csv(fname, sep='\\t', index_col=0, header=None).index.str.extract('(\\w+)-1').values\n",
    "    return bcs.flatten()"
   ]
  },
  {
   "cell_type": "code",
   "execution_count": 47,
   "metadata": {},
   "outputs": [],
   "source": [
    "def _dups_rep(n):\n",
    "    fname = f'../output/scrnaseq-wf/scrnaseq_samples/testis{n}_force/outs/filtered_gene_bc_matrices/dm6.16/matrix.mtx'\n",
    "    raw_counts = doubletdetection.load_mtx(fname)\n",
    "\n",
    "    fname = f'../output/scrnaseq-wf/scrnaseq_samples/testis{n}_force/outs/filtered_gene_bc_matrices/dm6.16/barcodes.tsv'\n",
    "    bcs = _parse_bcs(fname)\n",
    "\n",
    "    zero_genes = np.sum(raw_counts, axis=0) == 0\n",
    "    raw_counts = raw_counts[:, ~zero_genes]\n",
    "\n",
    "    clf = doubletdetection.BoostClassifier(n_iters=50)\n",
    "    doublets = clf.fit(raw_counts).predict(p_thresh=1e-7, voter_thresh=0.8)\n",
    "\n",
    "    (doublets == 1).sum()\n",
    "\n",
    "    putative_doublets = bcs[doublets == 1]\n",
    "    \n",
    "    dups =  [f'rep{n}_' + x for x in putative_doublets]\n",
    "    \n",
    "    with open(f'../output/notebook/2018-10-29_testing_doubletdetection_rep{n}.txt', 'w') as fh:\n",
    "        fh.write('\\n'.join(dups))"
   ]
  },
  {
   "cell_type": "code",
   "execution_count": 49,
   "metadata": {},
   "outputs": [],
   "source": [
    "%%capture\n",
    "r1 = _dups_rep(1)\n",
    "r2 = _dups_rep(2)\n",
    "r3 = _dups_rep(3)"
   ]
  },
  {
   "cell_type": "code",
   "execution_count": null,
   "metadata": {},
   "outputs": [],
   "source": []
  }
 ],
 "metadata": {
  "kernelspec": {
   "display_name": "Python [conda env:larval_gonad_doublet]",
   "language": "python",
   "name": "conda-env-larval_gonad_doublet-py"
  },
  "language_info": {
   "codemirror_mode": {
    "name": "ipython",
    "version": 3
   },
   "file_extension": ".py",
   "mimetype": "text/x-python",
   "name": "python",
   "nbconvert_exporter": "python",
   "pygments_lexer": "ipython3",
   "version": "3.6.3"
  }
 },
 "nbformat": 4,
 "nbformat_minor": 2
}
