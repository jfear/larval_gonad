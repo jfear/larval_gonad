{
 "cells": [
  {
   "cell_type": "markdown",
   "metadata": {},
   "source": [
    "# Verify Lit Genes"
   ]
  },
  {
   "cell_type": "markdown",
   "metadata": {},
   "source": [
    "I have been given a list of literature genes from Erika's group. I want to go through and verify the FBGn and symbols match. I nocticed some problems that will need fixed.\n",
    "\n",
    "I went ahead and fixed the problems so now everything looks good."
   ]
  },
  {
   "cell_type": "code",
   "execution_count": 17,
   "metadata": {},
   "outputs": [],
   "source": [
    "import pickle\n",
    "import yaml\n",
    "import pandas as pd"
   ]
  },
  {
   "cell_type": "code",
   "execution_count": 18,
   "metadata": {},
   "outputs": [],
   "source": [
    "with open('../config/literature_genes.yaml', 'rb') as fh:\n",
    "    lit_genes = yaml.load(fh.read())"
   ]
  },
  {
   "cell_type": "code",
   "execution_count": 19,
   "metadata": {},
   "outputs": [],
   "source": [
    "with open('/home/fearjm/local_data_store/larval_gonad/output/science_submission/fbgn2symbol.pkl', 'rb') as fh:\n",
    "    fbgn2symbol = pickle.loads(fh.read())"
   ]
  },
  {
   "cell_type": "code",
   "execution_count": 20,
   "metadata": {},
   "outputs": [
    {
     "data": {
      "text/plain": [
       "dict_keys(['gonia', 'spermatocytes', 'cysc', 'te', 'pigment', 'hub'])"
      ]
     },
     "execution_count": 20,
     "metadata": {},
     "output_type": "execute_result"
    }
   ],
   "source": [
    "lit_genes.keys()"
   ]
  },
  {
   "cell_type": "code",
   "execution_count": 21,
   "metadata": {},
   "outputs": [
    {
     "name": "stdout",
     "output_type": "stream",
     "text": [
      "gonia\n",
      "FBgn0001981 esg\n",
      "FBgn0020493 Dad\n",
      "FBgn0283442 vas\n",
      "FBgn0031091 Phf7\n",
      "FBgn0039044 p53\n",
      "FBgn0002962 nos\n",
      "FBgn0004581 bgcn\n",
      "FBgn0000158 bam\n",
      "FBgn0052364 tut\n",
      "FBgn0010258 Rbp4\n",
      "FBgn0034435 fest\n",
      "FBgn0005672 spi\n",
      "FBgn0002932 neur\n",
      "FBgn0250816 AGO3\n",
      "FBgn0250843 Prosalpha6\n",
      "FBgn0051361 dpr17\n",
      "\n",
      "\n",
      "-----------------------------\n",
      "spermatocytes\n",
      "FBgn0000146 aub\n",
      "FBgn0039124 tbrd-1\n",
      "FBgn0031715 tomb\n",
      "FBgn0041103 nht\n",
      "FBgn0014342 mia\n",
      "FBgn0002842 sa\n",
      "FBgn0031623 Taf12L\n",
      "FBgn0011569 can\n",
      "FBgn0004372 aly\n",
      "FBgn0011596 fzo\n",
      "FBgn0019828 dj\n",
      "FBgn0011206 bol\n",
      "FBgn0041102 ocn\n",
      "FBgn0039071 bb8\n",
      "FBgn0033476 oys\n",
      "FBgn0037751 topi\n",
      "FBgn0002862 Mst87F\n",
      "FBgn0000404 CycA\n",
      "FBgn0000405 CycB\n",
      "FBgn0030313 CG11697\n",
      "FBgn0032473 CG5204\n",
      "FBgn0034739 CG3927\n",
      "FBgn0038089 d-cup\n",
      "\n",
      "\n",
      "-----------------------------\n",
      "cysc\n",
      "FBgn0004606 zfh1\n",
      "FBgn0003984 vn\n",
      "FBgn0001257 ImpL2\n",
      "FBgn0010453 Wnt4\n",
      "FBgn0004108 Nrt\n",
      "FBgn0001090 bnb\n",
      "FBgn0011591 fng\n",
      "FBgn0002543 robo2\n",
      "FBgn0000546 EcR\n",
      "FBgn0024234 gbb\n",
      "FBgn0032451 spict\n",
      "FBgn0243512 puc\n",
      "FBgn0003366 sev\n",
      "FBgn0000964 tj\n",
      "FBgn0034408 sano\n",
      "FBgn0000320 eya\n",
      "FBgn0014163 fax\n",
      "FBgn0015399 kek1\n",
      "FBgn0003460 so\n",
      "FBgn0004872 piwi\n",
      "FBgn0003964 usp\n",
      "FBgn0283451 br\n",
      "FBgn0051158 Efa6\n",
      "FBgn0243486 rdo\n",
      "FBgn0083963 Nlg3\n",
      "FBgn0038180 Cht5\n",
      "\n",
      "\n",
      "-----------------------------\n",
      "te\n",
      "FBgn0050418 nord\n",
      "FBgn0000015 Abd-B\n",
      "FBgn0004647 N\n",
      "FBgn0000014 abd-A\n",
      "FBgn0000395 cv-2\n",
      "FBgn0264953 Piezo\n",
      "\n",
      "\n",
      "-----------------------------\n",
      "pigment\n",
      "FBgn0024288 Sox100B\n",
      "FBgn0000576 ems\n",
      "\n",
      "\n",
      "-----------------------------\n",
      "hub\n",
      "FBgn0004956 upd1\n",
      "FBgn0004644 hh\n",
      "FBgn0264089 sli\n",
      "FBgn0041184 Socs36E\n",
      "FBgn0262169 magu\n",
      "FBgn0000636 Fas3\n",
      "\n",
      "\n",
      "-----------------------------\n"
     ]
    }
   ],
   "source": [
    "for _class, values in lit_genes.items():\n",
    "    print(_class)\n",
    "    for gene in values:\n",
    "        print(gene, fbgn2symbol[gene])\n",
    "        \n",
    "    print('\\n\\n-----------------------------')"
   ]
  },
  {
   "cell_type": "code",
   "execution_count": null,
   "metadata": {},
   "outputs": [],
   "source": []
  },
  {
   "cell_type": "code",
   "execution_count": null,
   "metadata": {},
   "outputs": [],
   "source": []
  }
 ],
 "metadata": {
  "jupytext": {
   "main_language": "python",
   "text_representation": {
    "extension": ".py",
    "format_name": "percent",
    "format_version": "1.2",
    "jupytext_version": "1.0.0"
   }
  },
  "kernelspec": {
   "display_name": "Python [conda env:larval_gonad]",
   "language": "python",
   "name": "conda-env-larval_gonad-py"
  },
  "language_info": {
   "codemirror_mode": {
    "name": "ipython",
    "version": 3
   },
   "file_extension": ".py",
   "mimetype": "text/x-python",
   "name": "python",
   "nbconvert_exporter": "python",
   "pygments_lexer": "ipython3",
   "version": "3.6.3"
  }
 },
 "nbformat": 4,
 "nbformat_minor": 2
}
