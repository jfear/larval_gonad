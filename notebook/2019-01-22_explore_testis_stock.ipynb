{
 "cells": [
  {
   "cell_type": "markdown",
   "metadata": {},
   "source": [
    "# Explore Testis Stock"
   ]
  },
  {
   "cell_type": "markdown",
   "metadata": {},
   "source": [
    "First look at Stock sample. Just trying to see what cluster is what."
   ]
  },
  {
   "cell_type": "code",
   "execution_count": null,
   "metadata": {},
   "outputs": [],
   "source": [
    "import os\n",
    "import sys\n",
    "import re\n",
    "from pathlib import Path\n",
    "\n",
    "from IPython.display import display, HTML, Markdown\n",
    "import numpy as np\n",
    "import pandas as pd\n",
    "\n",
    "import matplotlib as mpl\n",
    "import matplotlib.pyplot as plt\n",
    "import seaborn as sns\n",
    "\n",
    "# Project level imports\n",
    "from larval_gonad.config import read_config\n",
    "from larval_gonad.notebook import Nb\n",
    "from larval_gonad.normalization import tpm, zscore\n",
    "from larval_gonad.scRNAseq import TSNEPlot"
   ]
  },
  {
   "cell_type": "code",
   "execution_count": null,
   "metadata": {},
   "outputs": [],
   "source": [
    "nb = Nb.setup_notebook(seurat_dir='../output/translocations-wf/translocation_stock_force')"
   ]
  },
  {
   "cell_type": "code",
   "execution_count": null,
   "metadata": {},
   "outputs": [],
   "source": [
    "metadata = nb.seurat.get_metadata()\n",
    "clusters = metadata['res.0.6']\n",
    "tsne = nb.seurat.get_tsne()\n",
    "df = tsne.join(clusters)"
   ]
  },
  {
   "cell_type": "code",
   "execution_count": null,
   "metadata": {},
   "outputs": [],
   "source": [
    "sns.lmplot('tSNE_1', 'tSNE_2', data=df, hue='res.0.6', fit_reg=False, scatter_kws=dict(s=5), palette=sns.color_palette(n_colors=11))\n",
    "plt.title('Testis Stock tSNE');"
   ]
  },
  {
   "cell_type": "code",
   "execution_count": null,
   "metadata": {},
   "outputs": [],
   "source": [
    "lit_genes = read_config('../paper_submission/config.yaml', 'lit_genes_long')\n",
    "lit_fbgns = [nb.symbol2fbgn[g] for g in lit_genes]"
   ]
  },
  {
   "cell_type": "code",
   "execution_count": null,
   "metadata": {},
   "outputs": [],
   "source": [
    "raw_cnts = nb.seurat.get_raw()\n",
    "raw_by_cluster = raw_cnts.T.join(clusters).groupby('res.0.6').sum().T\n",
    "raw_by_cluster.index.name = 'Fbgn'\n",
    "raw_by_cluster.columns.name = 'cluster'\n",
    "raw_by_cluster.columns = raw_by_cluster.columns.astype(int)"
   ]
  },
  {
   "cell_type": "code",
   "execution_count": null,
   "metadata": {},
   "outputs": [],
   "source": [
    "ax = sns.heatmap(zscore(raw_by_cluster.reindex(lit_fbgns)), vmin=-3, vmax=3, cmap='viridis')\n",
    "yticks = [\n",
    "    nb.fbgn2symbol[y.get_text()]\n",
    "    for y in ax.get_yticklabels()\n",
    "]\n",
    "\n",
    "ax.set_yticklabels(yticks)\n",
    "plt.title('Testis Stock Literature Genes');"
   ]
  },
  {
   "cell_type": "code",
   "execution_count": null,
   "metadata": {
    "lines_to_next_cell": 2
   },
   "outputs": [],
   "source": [
    "\n"
   ]
  }
 ],
 "metadata": {
  "kernelspec": {
   "display_name": "Python [conda env:larval_gonad]",
   "language": "python",
   "name": "conda-env-larval_gonad-py"
  }
 },
 "nbformat": 4,
 "nbformat_minor": 2
}
