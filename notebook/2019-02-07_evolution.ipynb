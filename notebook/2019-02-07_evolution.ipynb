{
 "cells": [
  {
   "cell_type": "markdown",
   "metadata": {},
   "source": [
    "# Parse New Gene Table"
   ]
  },
  {
   "cell_type": "markdown",
   "metadata": {},
   "source": [
    "**from:** Maria D. Vibranovski\n",
    "\n",
    "Here attached is a list from Yong Zhang group based on our paper from 2010. But this is a still not published updated version that he shared with me but you can use.\n",
    "\n",
    "If you need details about the columns, please look at https://genome.cshlp.org/content/suppl/2010/08/27/gr.107334.110.DC1/SupplementalMaterial.pdf  table 2a.\n",
    "\n",
    "But mainly, what you need to select is the child genes with:\n",
    "\n",
    "gene_type = D or R or DL or RL\n",
    "m_type= M\n",
    "note that contains \"chrX-\"\n",
    "\n",
    "D and R stands for DNA-based Duplication and RNA-based duplication\n",
    "L means that the assignment of the parental genes is less reliable.\n",
    "M indicates that is between chromosome movement.\n",
    "\n",
    "Hope it helps. If you need I can parse for you. please, do not hesitate to ask. But I thought you would prefer a complete list where you can look at subsets.\n",
    "\n",
    "cheers\n",
    "\n",
    "Maria\n"
   ]
  },
  {
   "cell_type": "code",
   "execution_count": null,
   "metadata": {
    "lines_to_next_cell": 1
   },
   "outputs": [],
   "source": [
    "import os\n",
    "import sys\n",
    "from pathlib import Path\n",
    "import re\n",
    "\n",
    "from IPython.display import display, HTML, Markdown\n",
    "import numpy as np\n",
    "import pandas as pd\n",
    "from scipy.stats import fisher_exact, chi2_contingency\n",
    "from scipy.stats.contingency import margins\n",
    "import statsmodels.formula.api as smf\n",
    "\n",
    "import matplotlib as mpl\n",
    "import matplotlib.pyplot as plt\n",
    "import seaborn as sns\n",
    "\n",
    "# Project level imports\n",
    "sys.path.insert(0, '../lib')\n",
    "from larval_gonad.notebook import Nb\n",
    "from larval_gonad.plotting import make_figs\n",
    "from larval_gonad.config import memory\n",
    "\n",
    "# Setup notebook\n",
    "nbconfig = Nb.setup_notebook()"
   ]
  },
  {
   "cell_type": "code",
   "execution_count": null,
   "metadata": {
    "lines_to_next_cell": 1
   },
   "outputs": [],
   "source": [
    "def adjusted_residuals(observed, expected):\n",
    "    resid = (observed - expected) / np.sqrt(expected)\n",
    "    n = observed.sum().sum()\n",
    "    rsum, csum = margins(observed)\n",
    "    v = csum * rsum * (n - rsum) * (n - csum) / n**3\n",
    "    return (observed - expected) / np.sqrt(v)"
   ]
  },
  {
   "cell_type": "markdown",
   "metadata": {},
   "source": [
    "## Import data from Maria"
   ]
  },
  {
   "cell_type": "markdown",
   "metadata": {},
   "source": [
    "## FBgn sanitizer"
   ]
  },
  {
   "cell_type": "markdown",
   "metadata": {},
   "source": [
    "I don't know where these FBgns are from, so I need to sanitize them to my current annotation."
   ]
  },
  {
   "cell_type": "code",
   "execution_count": null,
   "metadata": {},
   "outputs": [],
   "source": [
    "assembly = nbconfig.assembly\n",
    "tag = nbconfig.tag\n",
    "pth = Path(os.environ['REFERENCES_DIR'], f'{assembly}/{tag}/fb_annotation/{assembly}_{tag}.fb_annotation')\n",
    "\n",
    "# Create an FBgn \n",
    "mapper = {}\n",
    "\n",
    "for record in pd.read_csv(pth, sep='\\t').to_records():\n",
    "    mapper[record.primary_FBgn] = record.primary_FBgn\n",
    "    \n",
    "    try:\n",
    "        for g in record.secondary_FBgn.split(','):\n",
    "            mapper[g] = record.primary_FBgn\n",
    "    except AttributeError:\n",
    "        pass"
   ]
  },
  {
   "cell_type": "code",
   "execution_count": null,
   "metadata": {},
   "outputs": [],
   "source": [
    "autosomes = ['chr2L', 'chr2R', 'chr3L', 'chr3R']"
   ]
  },
  {
   "cell_type": "code",
   "execution_count": null,
   "metadata": {},
   "outputs": [],
   "source": [
    "movement = (\n",
    "    pd.read_excel('../data/external/maria/dm6_ver78_genetype.new.xlsx')\n",
    "    .query('gene_type == [\"D\", \"R\", \"Dl\", \"Rl\"] and m_type == \"M\"')\n",
    "    .assign(child_chrom = lambda df: df.note.str.extract('(chr.*?)-'))\n",
    "    .assign(parent_chrom = lambda df: df.note.str.extract('-(chr.*?)[:;]'))\n",
    "    .assign(FBgn = lambda df: df.child_id.map(mapper))\n",
    "    .assign(parent_FBgn = lambda df: df.parent_id.map(mapper))\n",
    "    .drop(['child_id', 'parent_id', 'note', 'm_type'], axis=1)\n",
    "    .dropna()\n",
    "    .set_index('FBgn')\n",
    "    .assign(x_to_a = lambda df: (df.parent_chrom == 'chrX') & df.child_chrom.isin(autosomes))\n",
    "    .assign(a_to_a = lambda df: df.parent_chrom.isin(autosomes) & df.child_chrom.isin(autosomes))\n",
    "    .assign(a_to_x = lambda df: df.parent_chrom.isin(autosomes) & (df.child_chrom == 'chrX'))\n",
    "    .query('x_to_a | a_to_a | a_to_x')\n",
    ")\n",
    "\n",
    "movement.head()"
   ]
  },
  {
   "cell_type": "code",
   "execution_count": null,
   "metadata": {},
   "outputs": [],
   "source": [
    "germline = (\n",
    "    pd.read_csv('../output/scrnaseq-wf/germcell_deg/gonia_vs_cytes.tsv', sep='\\t')\n",
    "    .assign(FBgn = lambda df: df.primary_FBgn)\n",
    "    .assign(Spermatogonia = lambda df: df.avg_logFC > 0)\n",
    "    .assign(Spermatocyte = lambda df: df.avg_logFC < 0)\n",
    "    .set_index('FBgn')\n",
    "    .iloc[:, -2:]\n",
    "    .idxmax(axis=1)\n",
    "    .reindex(background_genes)\n",
    "    .fillna('Not Different')\n",
    ")\n",
    "germline.name = 'Expression Bias'"
   ]
  },
  {
   "cell_type": "code",
   "execution_count": null,
   "metadata": {},
   "outputs": [],
   "source": [
    "ct = pd.crosstab(germline, movement.x_to_a)\n",
    "display(ct)\n",
    "_, pval, _, expected = chi2_contingency(ct)\n",
    "#_, pval_fisher = fisher_exact(ct)\n",
    "#print(pval, pval_fisher)\n",
    "pval"
   ]
  },
  {
   "cell_type": "code",
   "execution_count": null,
   "metadata": {},
   "outputs": [],
   "source": [
    "ct = pd.crosstab(germline, movement.a_to_a)\n",
    "display(ct)\n",
    "_, pval, _, expected = chi2_contingency(ct)\n",
    "print(pval)"
   ]
  },
  {
   "cell_type": "code",
   "execution_count": null,
   "metadata": {},
   "outputs": [],
   "source": [
    "ct = pd.crosstab(germline, movement.a_to_x)\n",
    "display(ct)\n",
    "_, pval, _, expected = chi2_contingency(ct)\n",
    "print(pval)"
   ]
  },
  {
   "cell_type": "code",
   "execution_count": null,
   "metadata": {},
   "outputs": [],
   "source": [
    "_movement = movement.iloc[:, -3:].idxmax(axis=1)\n",
    "_movement = _movement.map({\n",
    "    'a_to_a': 'A → A',\n",
    "    'a_to_x': 'A → X',\n",
    "    'x_to_a': 'X → A',\n",
    "})"
   ]
  },
  {
   "cell_type": "code",
   "execution_count": null,
   "metadata": {},
   "outputs": [],
   "source": [
    "ct =pd.crosstab(germline, _movement)\n",
    "ct.columns.name = ''\n",
    "display(HTML('<h4>Observed Counts</h4>'))\n",
    "display(ct)\n",
    "_, pval, _, expected = chi2_contingency(ct)\n",
    "display(HTML(f'<b>chi<sup>2</sup> p-value</b>: {np.round(pval, 4)}'))\n",
    "display(HTML('<hr>'))\n",
    "display(HTML('<h4>Adjusted Residuals</h4>'))\n",
    "adjusted_residuals(ct, expected)"
   ]
  },
  {
   "cell_type": "code",
   "execution_count": null,
   "metadata": {},
   "outputs": [],
   "source": [
    "_dat = ct.reset_index().melt(id_vars='Expression Bias', var_name='Movement', value_name='Number of Genes')"
   ]
  },
  {
   "cell_type": "code",
   "execution_count": null,
   "metadata": {},
   "outputs": [],
   "source": [
    "sns.barplot(\n",
    "    x='Movement',\n",
    "    y='Number of Genes',\n",
    "    hue='Expression Bias',\n",
    "    data=_dat,\n",
    ")"
   ]
  },
  {
   "cell_type": "code",
   "execution_count": null,
   "metadata": {
    "lines_to_next_cell": 2
   },
   "outputs": [],
   "source": []
  },
  {
   "cell_type": "code",
   "execution_count": null,
   "metadata": {
    "lines_to_next_cell": 2
   },
   "outputs": [],
   "source": []
  },
  {
   "cell_type": "code",
   "execution_count": null,
   "metadata": {
    "lines_to_next_cell": 2
   },
   "outputs": [],
   "source": []
  },
  {
   "cell_type": "code",
   "execution_count": null,
   "metadata": {
    "lines_to_next_cell": 2
   },
   "outputs": [],
   "source": []
  },
  {
   "cell_type": "code",
   "execution_count": null,
   "metadata": {
    "lines_to_next_cell": 2
   },
   "outputs": [],
   "source": []
  },
  {
   "cell_type": "code",
   "execution_count": null,
   "metadata": {},
   "outputs": [],
   "source": [
    "_dat = pd.concat([germline, movement.x_to_a], axis=1, join='inner', sort=True)\n",
    "_dat.head()\n",
    "_dat.columns = ['expression', 'x_to_a']\n",
    "_dat.x_to_a = _dat.x_to_a.astype(int)"
   ]
  },
  {
   "cell_type": "code",
   "execution_count": null,
   "metadata": {},
   "outputs": [],
   "source": [
    "model = smf.logit('x_to_a ~ expression', _dat).fit()"
   ]
  },
  {
   "cell_type": "code",
   "execution_count": null,
   "metadata": {},
   "outputs": [],
   "source": [
    "model.summary2()"
   ]
  },
  {
   "cell_type": "code",
   "execution_count": null,
   "metadata": {
    "lines_to_next_cell": 2
   },
   "outputs": [],
   "source": []
  },
  {
   "cell_type": "code",
   "execution_count": null,
   "metadata": {
    "lines_to_next_cell": 2
   },
   "outputs": [],
   "source": []
  },
  {
   "cell_type": "code",
   "execution_count": null,
   "metadata": {
    "lines_to_next_cell": 2
   },
   "outputs": [],
   "source": []
  },
  {
   "cell_type": "code",
   "execution_count": null,
   "metadata": {
    "lines_to_next_cell": 2
   },
   "outputs": [],
   "source": []
  },
  {
   "cell_type": "code",
   "execution_count": null,
   "metadata": {
    "lines_to_next_cell": 2
   },
   "outputs": [],
   "source": []
  },
  {
   "cell_type": "code",
   "execution_count": null,
   "metadata": {
    "lines_to_next_cell": 2
   },
   "outputs": [],
   "source": []
  },
  {
   "cell_type": "code",
   "execution_count": null,
   "metadata": {
    "lines_to_next_cell": 2
   },
   "outputs": [],
   "source": []
  },
  {
   "cell_type": "code",
   "execution_count": null,
   "metadata": {
    "lines_to_next_cell": 2
   },
   "outputs": [],
   "source": []
  }
 ],
 "metadata": {
  "kernelspec": {
   "display_name": "Python [conda env:larval_gonad]",
   "language": "python",
   "name": "conda-env-larval_gonad-py"
  }
 },
 "nbformat": 4,
 "nbformat_minor": 2
}
