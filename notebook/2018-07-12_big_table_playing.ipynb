{
  "cells": [
    {
      "cell_type": "code",
      "execution_count": 210,
      "metadata": {
        "pycharm": {}
      },
      "outputs": [],
      "source": [
        "import os\n",
        "import sys\n",
        "from pathlib import Path\n",
        "\n",
        "from IPython.display import display, HTML, Markdown\n",
        "import numpy as np\n",
        "import pandas as pd\n",
        "from scipy.cluster.hierarchy import linkage, dendrogram\n",
        "\n",
        "import matplotlib as mpl\n",
        "import matplotlib.pyplot as plt\n",
        "import seaborn as sns\n",
        "\n",
        "# Project level imports\n",
        "from larval_gonad.notebook import Nb"
      ]
    },
    {
      "cell_type": "code",
      "execution_count": 211,
      "metadata": {
        "pycharm": {}
      },
      "outputs": [
        {
          "name": "stdout",
          "output_type": "stream",
          "text": [
            "last updated: 2018-07-12 \n",
            "Git hash: ac53eab8570ee235fc7e9d15c84d3e028437e0a6\n"
          ]
        }
      ],
      "source": [
        "# Setup notebook\n",
        "nbconfig \u003d Nb.setup_notebook(seurat_dir\u003d\u0027../output/scrnaseq-wf/scrnaseq_combine_force\u0027)"
      ]
    },
    {
      "cell_type": "code",
      "execution_count": 212,
      "metadata": {
        "pycharm": {}
      },
      "outputs": [],
      "source": [
        "# Open writer and add some formats\n",
        "writer \u003d pd.ExcelWriter(\u0027../output/2018-07-12_results_table.xlsx\u0027)\n",
        "cell_format \u003d writer.book.add_format({\u0027valign\u0027: \u0027top\u0027})\n",
        "cell_format.set_text_wrap()"
      ]
    },
    {
      "cell_type": "code",
      "execution_count": 213,
      "metadata": {
        "pycharm": {}
      },
      "outputs": [],
      "source": "# README Sheet\nsheet \u003d writer.book.add_worksheet(\u0027README\u0027)\nwriter.sheets[\u0027README\u0027] \u003d sheet\n\ncomment \u003d \"\"\"\\\nGenes with missing counts were not captured by the experiment. \n\"\"\"\n\nsheet.set_column(0, 0, width\u003d30, cell_format\u003dcell_format)\nsheet.set_column(1, 1, width\u003d50, cell_format\u003dcell_format)\nsheet.set_row(0, height\u003d50, cell_format\u003dcell_format)\nsheet.merge_range(\u0027A1:C1\u0027, comment);\n\ncol_desc \u003d {\n    \u0027FBgn\u0027: \u0027FlyBase Gene ID\u0027,\n    \u0027gene_symbol\u0027: \u0027Gene Symbol\u0027, \n    \u0027chrom\u0027: \u0027Chromosomal Arm\u0027,\n    \u0027Total Read Cnts\u0027: \u0027Sum of raw read counts across cells\u0027,\n    \u0027Median Scaled Read Cnts\u0027: \u0027Sum of raw read counts across cells scaled by median total read count across genes\u0027, \n    \u0027Cluster p_val Cluster\u0027: \u0027Seurat FindMarkers p-value\u0027, \n    \u0027Cluster p_val_adj\u0027: \u0027FDR Adjusted p-value\u0027, \n    \u0027Cluster avg_logFC\u0027: \u0027Average log Fold Change\u0027, \n    \u0027Cluster Prop Cells in Cluster\u0027: \u0027Proportion of Cells in cluster 0 with gene expressed.\u0027,\n    \u0027Cluster Prop Cells in Other Clusters\u0027: \u0027Proportion of Cells in all other clusters with gene expressed.\u0027, \n    \u0027Cluster TPM Read Cnts\u0027: \u0027TPM normalized read count\u0027, \n    \u0027Cluster RPKM Read Cnts\u0027: \u0027RPKM normalized read count\u0027,\n    \u0027Z-score Cluster #\u0027: \u0027RPKM normalized read count\u0027,\n}\n\n_desc \u003d pd.Series(col_desc).to_frame()\n_desc.index.name \u003d \u0027Column Name\u0027\n_desc.columns \u003d [\u0027Column Description\u0027]\n_desc.to_excel(writer, sheet_name\u003d\u0027README\u0027, startrow\u003d1)"
    },
    {
      "cell_type": "code",
      "execution_count": 214,
      "metadata": {
        "pycharm": {}
      },
      "outputs": [],
      "source": [
        "# Gene annotation with symbols\n",
        "gene_annot \u003d pd.Series(nbconfig.fbgn2symbol)\n",
        "gene_annot.name \u003d \u0027gene_symbol\u0027\n",
        "gene_annot \u003d gene_annot.to_frame().join(nbconfig.fbgn2chrom)"
      ]
    },
    {
      "cell_type": "code",
      "execution_count": 215,
      "metadata": {
        "pycharm": {}
      },
      "outputs": [],
      "source": [
        "# Total counts\n",
        "raw \u003d pd.read_parquet(\u0027../output/scrnaseq-wf/raw_by_cluster.parquet\u0027)\n",
        "\n",
        "total \u003d raw.sum(axis\u003d1)\n",
        "total.name \u003d \u0027Total Read Cnts\u0027\n",
        "\n",
        "scaled \u003d total / total.median()\n",
        "scaled.name \u003d \u0027Median Scaled Read Cnts\u0027"
      ]
    },
    {
      "cell_type": "code",
      "execution_count": 216,
      "metadata": {
        "pycharm": {}
      },
      "outputs": [],
      "source": [
        "def prepend(dat, text):\n",
        "    #dat.columns \u003d pd.MultiIndex.from_arrays([[text] * len(dat.columns), dat.columns])\n",
        "    dat.columns \u003d [text + \u0027|\u0027 + x for x in dat.columns]"
      ]
    },
    {
      "cell_type": "code",
      "execution_count": 217,
      "metadata": {
        "pycharm": {}
      },
      "outputs": [],
      "source": [
        "# import normalized counts\n",
        "tpm \u003d pd.read_parquet(\u0027../output/scrnaseq-wf/tpm.parquet\u0027)\n",
        "prepend(tpm, \u0027TPM Read Counts\u0027)\n",
        "\n",
        "rpkm \u003d pd.read_parquet(\u0027../output/scrnaseq-wf/rpkm.parquet\u0027)\n",
        "prepend(rpkm, \u0027RPKM Read Cnts\u0027)\n",
        "\n",
        "zscore \u003d pd.read_parquet(\u0027../output/scrnaseq-wf/tpm_zscore.parquet\u0027)\n",
        "prepend(zscore, \u0027Z-score\u0027)"
      ]
    },
    {
      "cell_type": "code",
      "execution_count": 218,
      "metadata": {
        "pycharm": {}
      },
      "outputs": [],
      "source": [
        "# Unstack biomarker information\n",
        "biomarker \u003d nbconfig.seurat.get_biomarkers(\u0027res.0.6\u0027)\n",
        "biomarker.drop(\u0027gene_symbol\u0027, axis\u003d1, inplace\u003dTrue)\n",
        "\n",
        "dfs \u003d []\n",
        "for g, dd in biomarker.groupby(\u0027cluster\u0027):\n",
        "    _clus \u003d nbconfig.CLUSTER_ANNOT[g]\n",
        "    bio \u003d dd.drop(\u0027cluster\u0027, axis\u003d1)[[\u0027p_val\u0027, \u0027p_val_adj\u0027, \u0027avg_logFC\u0027, \u0027pct.1\u0027, \u0027pct.2\u0027]]\n",
        "    bio.rename({\u0027pct.1\u0027: f\u0027Per Cells in Cluster\u0027, \u0027pct.2\u0027: \u0027Per Cells in Other Clusters\u0027}, axis\u003d1, inplace\u003dTrue)\n",
        "    prepend(bio, f\u0027{_clus}\u0027)\n",
        "    dfs.append(bio)\n",
        "   "
      ]
    },
    {
      "cell_type": "code",
      "execution_count": 219,
      "metadata": {
        "pycharm": {}
      },
      "outputs": [],
      "source": [
        "#results \u003d pd.concat([gene_annot, *dfs, tpm, rpkm, zscore], axis\u003d1, sort\u003dTrue)\n",
        "results \u003d pd.concat([gene_annot, total, scaled, *dfs, tpm, rpkm, zscore], axis\u003d1, sort\u003dTrue)\n",
        "results.index.name \u003d \u0027FBgn\u0027\n",
        "results.set_index(\u0027gene_symbol\u0027, append\u003dTrue, inplace\u003dTrue)"
      ]
    },
    {
      "cell_type": "code",
      "execution_count": 220,
      "metadata": {
        "pycharm": {}
      },
      "outputs": [],
      "source": [
        "# split into multi-index\n",
        "upper \u003d []\n",
        "lower \u003d []\n",
        "for header in results.columns.str.split(\u0027|\u0027).tolist():\n",
        "    if len(header) \u003d\u003d 2:\n",
        "        upper.append(header[0])\n",
        "        lower.append(header[1])\n",
        "    else:\n",
        "        upper.append(\u0027 \u0027)\n",
        "        lower.append(header[0])"
      ]
    },
    {
      "cell_type": "code",
      "execution_count": 221,
      "metadata": {
        "pycharm": {}
      },
      "outputs": [],
      "source": [
        "results.columns \u003d pd.MultiIndex.from_arrays([upper, lower])\n",
        "results.to_excel(writer, sheet_name\u003d\u0027data_table\u0027)"
      ]
    },
    {
      "cell_type": "code",
      "execution_count": 223,
      "metadata": {
        "pycharm": {}
      },
      "outputs": [],
      "source": [
        "# Close sheet\n",
        "writer.save()"
      ]
    },
    {
      "cell_type": "code",
      "execution_count": null,
      "metadata": {
        "pycharm": {}
      },
      "outputs": [],
      "source": []
    }
  ],
  "metadata": {
    "kernelspec": {
      "display_name": "Python [conda env:larval_gonad]",
      "language": "python",
      "name": "conda-env-larval_gonad-py"
    },
    "language_info": {
      "codemirror_mode": {
        "name": "ipython",
        "version": 3
      },
      "file_extension": ".py",
      "mimetype": "text/x-python",
      "name": "python",
      "nbconvert_exporter": "python",
      "pygments_lexer": "ipython3",
      "version": "3.6.3"
    }
  },
  "nbformat": 4,
  "nbformat_minor": 2
}