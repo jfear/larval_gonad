{
 "cells": [
  {
   "cell_type": "code",
   "execution_count": 210,
   "metadata": {},
   "outputs": [],
   "source": [
    "import os\n",
    "import sys\n",
    "from pathlib import Path\n",
    "\n",
    "from IPython.display import display, HTML, Markdown\n",
    "import numpy as np\n",
    "import pandas as pd\n",
    "from scipy.cluster.hierarchy import linkage, dendrogram\n",
    "\n",
    "import matplotlib as mpl\n",
    "import matplotlib.pyplot as plt\n",
    "import seaborn as sns\n",
    "\n",
    "# Project level imports\n",
    "from larval_gonad.notebook import Nb"
   ]
  },
  {
   "cell_type": "code",
   "execution_count": 211,
   "metadata": {},
   "outputs": [
    {
     "name": "stdout",
     "output_type": "stream",
     "text": [
      "last updated: 2018-07-12 \n",
      "Git hash: ac53eab8570ee235fc7e9d15c84d3e028437e0a6\n"
     ]
    }
   ],
   "source": [
    "# Setup notebook\n",
    "nbconfig = Nb.setup_notebook(seurat_dir='../output/scrnaseq-wf/scrnaseq_combine_force')"
   ]
  },
  {
   "cell_type": "code",
   "execution_count": 212,
   "metadata": {},
   "outputs": [],
   "source": [
    "# Open writer and add some formats\n",
    "writer = pd.ExcelWriter('../output/2018-07-12_results_table.xlsx')\n",
    "cell_format = writer.book.add_format({'valign': 'top'})\n",
    "cell_format.set_text_wrap()"
   ]
  },
  {
   "cell_type": "code",
   "execution_count": 213,
   "metadata": {},
   "outputs": [],
   "source": [
    "# README Sheet\n",
    "sheet = writer.book.add_worksheet('README')\n",
    "writer.sheets['README'] = sheet\n",
    "\n",
    "comment = \"\"\"\\\n",
    "Genes with missing counts were not captured by the experiment. \n",
    "\"\"\"\n",
    "\n",
    "sheet.set_column(0, 0, width=30, cell_format=cell_format)\n",
    "sheet.set_column(1, 1, width=50, cell_format=cell_format)\n",
    "sheet.set_row(0, height=50, cell_format=cell_format)\n",
    "sheet.merge_range('A1:C1', comment);\n",
    "\n",
    "col_desc = {\n",
    "    'FBgn': 'FlyBase Gene ID',\n",
    "    'gene_symbol': 'Gene Symbol', \n",
    "    'chrom': 'Chromosomal Arm',\n",
    "    'Total Read Cnts': 'Sum of raw read counts across cells',\n",
    "    'Median Scaled Read Cnts': 'Sum of raw read counts across cells scaled by median total read count across genes', \n",
    "    'Cluster p_val Cluster': 'Seurat FindMarkers p-value', \n",
    "    'Cluster p_val_adj': 'FDR Adjusted p-value', \n",
    "    'Cluster avg_logFC': 'Average log Fold Change', \n",
    "    'Cluster Prop Cells in Cluster': 'Proportion of Cells in cluster 0 with gene expressed.',\n",
    "    'Cluster Prop Cells in Other Clusters': 'Proportion of Cells in all other clusters with gene expressed.', \n",
    "    'Cluster TPM Read Cnts': 'TPM normalized read count', \n",
    "    'Cluster RPKM Read Cnts': 'RPKM normalized read count',\n",
    "    'Z-score Cluster #': 'RPKM normalized read count',\n",
    "}\n",
    "\n",
    "_desc = pd.Series(col_desc).to_frame()\n",
    "_desc.index.name = 'Column Name'\n",
    "_desc.columns = ['Column Description']\n",
    "_desc.to_excel(writer, sheet_name='README', startrow=1)"
   ]
  },
  {
   "cell_type": "code",
   "execution_count": 214,
   "metadata": {},
   "outputs": [],
   "source": [
    "# Gene annotation with symbols\n",
    "gene_annot = pd.Series(nbconfig.fbgn2symbol)\n",
    "gene_annot.name = 'gene_symbol'\n",
    "gene_annot = gene_annot.to_frame().join(nbconfig.fbgn2chrom)"
   ]
  },
  {
   "cell_type": "code",
   "execution_count": 215,
   "metadata": {},
   "outputs": [],
   "source": [
    "# Total counts\n",
    "raw = pd.read_parquet('../output/scrnaseq-wf/raw_by_cluster.parquet')\n",
    "\n",
    "total = raw.sum(axis=1)\n",
    "total.name = 'Total Read Cnts'\n",
    "\n",
    "scaled = total / total.median()\n",
    "scaled.name = 'Median Scaled Read Cnts'"
   ]
  },
  {
   "cell_type": "code",
   "execution_count": 216,
   "metadata": {},
   "outputs": [],
   "source": [
    "def prepend(dat, text):\n",
    "    #dat.columns = pd.MultiIndex.from_arrays([[text] * len(dat.columns), dat.columns])\n",
    "    dat.columns = [text + '|' + x for x in dat.columns]"
   ]
  },
  {
   "cell_type": "code",
   "execution_count": 217,
   "metadata": {},
   "outputs": [],
   "source": [
    "# import normalized counts\n",
    "tpm = pd.read_parquet('../output/scrnaseq-wf/tpm.parquet')\n",
    "prepend(tpm, 'TPM Read Counts')\n",
    "\n",
    "rpkm = pd.read_parquet('../output/scrnaseq-wf/rpkm.parquet')\n",
    "prepend(rpkm, 'RPKM Read Cnts')\n",
    "\n",
    "zscore = pd.read_parquet('../output/scrnaseq-wf/tpm_zscore.parquet')\n",
    "prepend(zscore, 'Z-score')"
   ]
  },
  {
   "cell_type": "code",
   "execution_count": 218,
   "metadata": {},
   "outputs": [],
   "source": [
    "# Unstack biomarker information\n",
    "biomarker = nbconfig.seurat.get_biomarkers('res.0.6')\n",
    "biomarker.drop('gene_symbol', axis=1, inplace=True)\n",
    "\n",
    "dfs = []\n",
    "for g, dd in biomarker.groupby('cluster'):\n",
    "    _clus = nbconfig.CLUSTER_ANNOT[g]\n",
    "    bio = dd.drop('cluster', axis=1)[['p_val', 'p_val_adj', 'avg_logFC', 'pct.1', 'pct.2']]\n",
    "    bio.rename({'pct.1': f'Per Cells in Cluster', 'pct.2': 'Per Cells in Other Clusters'}, axis=1, inplace=True)\n",
    "    prepend(bio, f'{_clus}')\n",
    "    dfs.append(bio)\n",
    "   "
   ]
  },
  {
   "cell_type": "code",
   "execution_count": 219,
   "metadata": {},
   "outputs": [],
   "source": [
    "#results = pd.concat([gene_annot, *dfs, tpm, rpkm, zscore], axis=1, sort=True)\n",
    "results = pd.concat([gene_annot, total, scaled, *dfs, tpm, rpkm, zscore], axis=1, sort=True)\n",
    "results.index.name = 'FBgn'\n",
    "results.set_index('gene_symbol', append=True, inplace=True)"
   ]
  },
  {
   "cell_type": "code",
   "execution_count": 220,
   "metadata": {},
   "outputs": [],
   "source": [
    "# split into multi-index\n",
    "upper = []\n",
    "lower = []\n",
    "for header in results.columns.str.split('|').tolist():\n",
    "    if len(header) == 2:\n",
    "        upper.append(header[0])\n",
    "        lower.append(header[1])\n",
    "    else:\n",
    "        upper.append(' ')\n",
    "        lower.append(header[0])"
   ]
  },
  {
   "cell_type": "code",
   "execution_count": 221,
   "metadata": {},
   "outputs": [],
   "source": [
    "results.columns = pd.MultiIndex.from_arrays([upper, lower])\n",
    "results.to_excel(writer, sheet_name='data_table')"
   ]
  },
  {
   "cell_type": "code",
   "execution_count": 223,
   "metadata": {},
   "outputs": [],
   "source": [
    "# Close sheet\n",
    "writer.save()"
   ]
  },
  {
   "cell_type": "code",
   "execution_count": null,
   "metadata": {},
   "outputs": [],
   "source": []
  }
 ],
 "metadata": {
  "kernelspec": {
   "display_name": "Python [conda env:larval_gonad]",
   "language": "python",
   "name": "conda-env-larval_gonad-py"
  },
  "language_info": {
   "codemirror_mode": {
    "name": "ipython",
    "version": 3
   },
   "file_extension": ".py",
   "mimetype": "text/x-python",
   "name": "python",
   "nbconvert_exporter": "python",
   "pygments_lexer": "ipython3",
   "version": "3.6.3"
  }
 },
 "nbformat": 4,
 "nbformat_minor": 2
}
