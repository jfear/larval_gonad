{
 "cells": [
  {
   "cell_type": "markdown",
   "metadata": {},
   "source": [
    "# Explore Box Plots"
   ]
  },
  {
   "cell_type": "code",
   "execution_count": 8,
   "metadata": {},
   "outputs": [
    {
     "name": "stdout",
     "output_type": "stream",
     "text": [
      "last updated: 2018-05-07 \n",
      "Git hash: 59ecd424780ee0f4946fac686cdb2769e214a832\n"
     ]
    }
   ],
   "source": [
    "import os\n",
    "import sys\n",
    "from pathlib import Path\n",
    "\n",
    "from IPython.display import display, HTML, Markdown\n",
    "import numpy as np\n",
    "import pandas as pd\n",
    "\n",
    "import matplotlib as mpl\n",
    "import matplotlib.pyplot as plt\n",
    "import seaborn as sns\n",
    "\n",
    "# Project level imports\n",
    "sys.path.insert(0, '../lib')\n",
    "from larval_gonad.notebook import Nb\n",
    "from larval_gonad.plotting import make_figs\n",
    "from larval_gonad.config import memory\n",
    "from larval_gonad.scRNAseq import CLUSTER_ANNOT, CLUSTER_ORDER\n",
    "\n",
    "# Setup notebook\n",
    "nbconfig = Nb.setup_notebook('2018-05-07_explore_boxplots', seurat_dir='../output/combined_testis_force/')"
   ]
  },
  {
   "cell_type": "code",
   "execution_count": 4,
   "metadata": {},
   "outputs": [],
   "source": [
    "clusters = nbconfig.seurat.get_clusters()['res.0.4']\n",
    "clusters.name = 'clusters'"
   ]
  },
  {
   "cell_type": "code",
   "execution_count": 10,
   "metadata": {},
   "outputs": [
    {
     "data": {
      "text/plain": [
       "{0: 'Late Primary Spermatocytes (0)',\n",
       " 1: 'Early Somatic Cyst Cells (1)',\n",
       " 2: 'Late Somatic Cyst Cells (2)',\n",
       " 3: 'Late Somatic Cyst Cells (3)',\n",
       " 4: 'Spermatogonia (4)',\n",
       " 5: 'Terminal Epithelium (5)',\n",
       " 6: 'Mid Primary Spermatocytes (6)',\n",
       " 7: 'Late Somatic Cyst Cells (7)',\n",
       " 8: 'Early Primary Spermatocytes (8)',\n",
       " 9: 'Pigment Cells (9)',\n",
       " 10: 'Early Somatic Cyst Cells (10)',\n",
       " 11: 'Unknown (11)'}"
      ]
     },
     "execution_count": 10,
     "metadata": {},
     "output_type": "execute_result"
    }
   ],
   "source": [
    "CLUSTER_ANNOT"
   ]
  },
  {
   "cell_type": "code",
   "execution_count": 21,
   "metadata": {},
   "outputs": [],
   "source": [
    "# Simplify X to A\n",
    "fbgn2chrom = nbconfig.fbgn2chrom.copy()\n",
    "fbgn2chrom.replace('chr2L', 'Autosome', inplace=True)\n",
    "fbgn2chrom.replace('chr2R', 'Autosome', inplace=True)\n",
    "fbgn2chrom.replace('chr3L', 'Autosome', inplace=True)\n",
    "fbgn2chrom.replace('chr3R', 'Autosome', inplace=True)\n",
    "fbgn2chrom.replace('chrX', 'X', inplace=True)\n",
    "fbgn2chrom = fbgn2chrom.query('chrom == \"X\" | chrom == \"Autosome\"')"
   ]
  },
  {
   "cell_type": "code",
   "execution_count": null,
   "metadata": {},
   "outputs": [],
   "source": []
  },
  {
   "cell_type": "code",
   "execution_count": null,
   "metadata": {},
   "outputs": [],
   "source": []
  },
  {
   "cell_type": "code",
   "execution_count": null,
   "metadata": {},
   "outputs": [],
   "source": []
  },
  {
   "cell_type": "code",
   "execution_count": null,
   "metadata": {},
   "outputs": [],
   "source": []
  },
  {
   "cell_type": "code",
   "execution_count": null,
   "metadata": {},
   "outputs": [],
   "source": []
  }
 ],
 "metadata": {
  "kernelspec": {
   "display_name": "Python [conda env:larval_gonad]",
   "language": "python",
   "name": "conda-env-larval_gonad-py"
  },
  "language_info": {
   "codemirror_mode": {
    "name": "ipython",
    "version": 3
   },
   "file_extension": ".py",
   "mimetype": "text/x-python",
   "name": "python",
   "nbconvert_exporter": "python",
   "pygments_lexer": "ipython3",
   "version": "3.6.3"
  }
 },
 "nbformat": 4,
 "nbformat_minor": 2
}
