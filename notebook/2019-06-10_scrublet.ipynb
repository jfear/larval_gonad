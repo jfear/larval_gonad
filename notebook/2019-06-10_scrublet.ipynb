#%% Change working directory from the workspace root to the ipynb file location. Turn this addition off with the DataScience.changeDirOnImportExport setting
# ms-python.python added
import os
try:
	os.chdir(os.path.join(os.getcwd(), 'notebook'))
	print(os.getcwd())
except:
	pass

#%%
import numpy as np
import scipy.io
import pandas as pd
import matplotlib.pyplot as plt

import scrublet as scr


#%%
cell_ids = '../output/cellranger-wf/testis1/outs/raw_gene_bc_matrices/dmelr6-24/cell_ids.tsv'
mtx = '../output/cellranger-wf/testis1/outs/raw_gene_bc_matrices/dmelr6-24/matrix.mtx' 
cell_calls = '../output/cellselection-wf/testis1_combined_cell_calls.feather'


#%%
# Get list of all cell_ids
with open(cell_ids) as fh:
	cells = np.array(fh.read().strip().split("\n"))		# (737280,)


#%%
# Get a filtered set of cell calls
calls = pd.read_feather(cell_calls)		# (14169, 5)
filtered_cells = calls[calls.sum(axis=1) >= 3].cell_id.values		# (2717,)

#%%
# Get a list of index locations of filtered cells
cell_index = np.in1d(cells, filtered_cells)		# (737280,)

#%%
# Import matrix and filter cells
counts_matrix = scipy.io.mmread(mtx).tocsc()[:, cell_index].T		# (2717, 17508)

#%%
scrub = scr.Scrublet(counts_matrix, expected_doublet_rate=0.06)

#%%
doublet_scores, predicted_doublets = scrub.scrub_doublets(min_counts=2, min_cells=3, min_gene_variability_pctl=85, n_prin_comps=30)
scrub.call_doublets(threshold=0.25, verbose=True)

#%%
scrub.plot_histogram()

#%%
scrub.set_embedding('UMAP', scr.get_umap(scrub.manifold_obs_, 10, min_dist=0.3))
scrub.plot_embedding('UMAP', order_points=True)

#%%
flag_doublet = scrub.predicted_doublets_		# (2717,)

#%%
dubs = cells[cell_index][flag_doublet] 		# 42

