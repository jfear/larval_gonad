{
 "cells": [
  {
   "cell_type": "markdown",
   "metadata": {},
   "source": [
    "# Look into Tau TSPS"
   ]
  },
  {
   "cell_type": "markdown",
   "metadata": {},
   "source": [
    "I explore using tau and TSPS to calculate a gene level tissue specificity score."
   ]
  },
  {
   "cell_type": "code",
   "execution_count": 129,
   "metadata": {},
   "outputs": [
    {
     "name": "stdout",
     "output_type": "stream",
     "text": [
      "last updated: 2018-02-07 \n",
      "Git hash: be8ef9727c59afa8d3497e24ff289ad4e61e8c95\n"
     ]
    }
   ],
   "source": [
    "import os\n",
    "import sys\n",
    "from collections import defaultdict\n",
    "\n",
    "import numpy as np\n",
    "import pandas as pd\n",
    "from scipy.stats import spearmanr\n",
    "from IPython.display import Markdown, HTML, display\n",
    "\n",
    "import matplotlib as mpl\n",
    "import matplotlib.pyplot as plt\n",
    "import seaborn as sns\n",
    "\n",
    "from goatools.obo_parser import GODag\n",
    "from goatools import GOEnrichmentStudy\n",
    "from goatools.mapslim import mapslim\n",
    "\n",
    "# Project level imports\n",
    "sys.path.insert(0, '../lib')\n",
    "from larval_gonad.notebook import Nb\n",
    "\n",
    "# Setup notebook\n",
    "nbconfig = Nb.setup_notebook('2018-02-05_tau', table_dir='../output')"
   ]
  },
  {
   "cell_type": "code",
   "execution_count": 7,
   "metadata": {},
   "outputs": [],
   "source": [
    "# functions to calculate tau and tsps. Assumes a series of genes\n",
    "def tau(x):\n",
    "    _max = x.max()\n",
    "    if _max == 0:\n",
    "        return np.nan\n",
    "    _n = x.shape[0]\n",
    "    xhat = x / _max\n",
    "    tau = (1 - xhat).sum() / (_n - 1)\n",
    "    return tau\n",
    "\n",
    "def tsps(x):\n",
    "    from scipy.stats import entropy\n",
    "    if x.sum() == 0:\n",
    "        return np.nan\n",
    "    _n = x.shape[0]\n",
    "    _q = np.array([1 / _n, ] * _n)\n",
    "    return entropy(x, _q, 2)"
   ]
  },
  {
   "cell_type": "markdown",
   "metadata": {},
   "source": [
    "## Haiwang Data"
   ]
  },
  {
   "cell_type": "markdown",
   "metadata": {},
   "source": [
    "First I use tissue data from Haiwang's project. He has 8 tissues, males/females, and two strains (w1118/oreR)."
   ]
  },
  {
   "cell_type": "code",
   "execution_count": 5,
   "metadata": {},
   "outputs": [
    {
     "name": "stdout",
     "output_type": "stream",
     "text": [
      "This data was provided by Haiwang on February 2, 2018. It consists of a\n",
      "normalized counts matrix for D. melanogaster (w1118 and oreR). With the\n",
      "following body parts:\n",
      "\n",
      "ac --- abdomen carcass\n",
      "dg --- digestive system\n",
      "ge --- genitalia or terminalia\n",
      "go --- gonad\n",
      "hd --- head.\n",
      "re --- reproductive tract\n",
      "tx --- thorax\n",
      "wb --- whole body.\n",
      "\n",
      "This data is for use in calculating tau and TSPS.\n"
     ]
    }
   ],
   "source": [
    "!cat ../data/external/haiwang/README"
   ]
  },
  {
   "cell_type": "code",
   "execution_count": 6,
   "metadata": {},
   "outputs": [],
   "source": [
    "# Import data and melt\n",
    "dat = pd.read_csv('../data/external/haiwang/dmel.genic.nrc.txt', sep='\\t')\n",
    "dat.index.name = 'FBgn'\n",
    "\n",
    "melted = dat.reset_index().melt(id_vars='FBgn', var_name='sample')\n",
    "\n",
    "# Create metadata based on sample names\n",
    "melted['strain'] = melted['sample'].map(lambda x: x.split('_')[0])\n",
    "melted['sex'] = melted['sample'].map(lambda x: x.split('_')[1])\n",
    "melted['tissue'] = melted['sample'].map(lambda x: x.split('_')[2])\n",
    "melted['rep'] = melted['sample'].map(lambda x: x.split('_')[3])\n",
    "\n",
    "# Calculate median across replicates\n",
    "cleaned = melted.groupby(['FBgn', 'sex', 'tissue'])['value'].median().to_frame().unstack()"
   ]
  },
  {
   "cell_type": "markdown",
   "metadata": {},
   "source": [
    "## tau"
   ]
  },
  {
   "cell_type": "code",
   "execution_count": 8,
   "metadata": {},
   "outputs": [],
   "source": [
    "# Calculate tau for each sex\n",
    "taus = cleaned.apply(tau, axis=1).to_frame()\n",
    "taus.columns = ['tau', ]\n",
    "\n",
    "male_tau = taus.loc[(slice(None), 'm'), :]\n",
    "female_tau = taus.loc[(slice(None), 'f'), :]"
   ]
  },
  {
   "cell_type": "code",
   "execution_count": 9,
   "metadata": {},
   "outputs": [
    {
     "data": {
      "image/png": "[encoded data removed]",
      "text/plain": [
       "<matplotlib.figure.Figure at 0x7f2f0e5a8ba8>"
      ]
     },
     "metadata": {},
     "output_type": "display_data"
    }
   ],
   "source": [
    "# Plot\n",
    "def _plot():\n",
    "    fig, (ax1, ax2) = plt.subplots(1, 2, figsize=plt.figaspect(.5)) \n",
    "    sns.distplot(male_tau['tau'].dropna(), ax=ax1)\n",
    "    ax1.set_title(r'$\\tau$ Male')\n",
    "    sns.distplot(female_tau['tau'].dropna(), ax=ax2)\n",
    "    ax2.set_title(r'$\\tau$ Female')\n",
    "\n",
    "_plot()"
   ]
  },
  {
   "cell_type": "code",
   "execution_count": 11,
   "metadata": {},
   "outputs": [],
   "source": [
    "male_tau.reset_index().set_index('FBgn').drop('sex', axis=1).to_csv(nbconfig.table_name('male_tau.tsv'), sep='\\t')\n",
    "female_tau.reset_index().set_index('FBgn').drop('sex', axis=1).to_csv(nbconfig.table_name('female_tau.tsv'), sep='\\t')"
   ]
  },
  {
   "cell_type": "markdown",
   "metadata": {},
   "source": [
    "## TSPS "
   ]
  },
  {
   "cell_type": "code",
   "execution_count": 13,
   "metadata": {},
   "outputs": [],
   "source": [
    "tspss = cleaned.apply(tsps, axis=1).to_frame()\n",
    "tspss.columns = ['tsps', ]\n",
    "male_tsps = tspss.loc[(slice(None), 'm'), :]\n",
    "female_tsps = tspss.loc[(slice(None), 'f'), :]"
   ]
  },
  {
   "cell_type": "code",
   "execution_count": 14,
   "metadata": {},
   "outputs": [
    {
     "data": {
      "image/png": "[encoded data removed]",
      "text/plain": [
       "<matplotlib.figure.Figure at 0x7f2f0cc43668>"
      ]
     },
     "metadata": {},
     "output_type": "display_data"
    }
   ],
   "source": [
    "def _plot():\n",
    "    fig, (ax1, ax2) = plt.subplots(1, 2, figsize=plt.figaspect(.5))\n",
    "    sns.distplot(male_tsps.dropna(), ax=ax1)\n",
    "    ax1.set_title('TSPS Male')\n",
    "    sns.distplot(female_tsps.dropna(), ax=ax2)\n",
    "    ax2.set_title('TSPS Female')\n",
    "    \n",
    "_plot()"
   ]
  },
  {
   "cell_type": "code",
   "execution_count": 15,
   "metadata": {},
   "outputs": [],
   "source": [
    "male_tsps.reset_index().set_index('FBgn').drop('sex', axis=1).to_csv(nbconfig.table_name('male_tsps.tsv'), sep='\\t')\n",
    "female_tsps.reset_index().set_index('FBgn').drop('sex', axis=1).to_csv(nbconfig.table_name('female_tsps.tsv'), sep='\\t')"
   ]
  },
  {
   "cell_type": "markdown",
   "metadata": {},
   "source": [
    "## modENCODE"
   ]
  },
  {
   "cell_type": "markdown",
   "metadata": {},
   "source": [
    "I also grabbed what modENCODE RNA-seq data I have processed from the SRA project. The metadata is problematic for the modENCODE data in SRA, so I had to use data pulled from modMINE. For a quick and dirty meature I just used all cell line, developmental stages, and tissues to calculate the metrics."
   ]
  },
  {
   "cell_type": "code",
   "execution_count": 43,
   "metadata": {},
   "outputs": [],
   "source": [
    "# Munge\n",
    "cnts = pd.read_csv('../data/external/sra_modENCODE.tsv', sep='\\t', comment='#', index_col=0)\n",
    "metadata = pd.read_csv('../data/external/sra_modENCODE_metadata.tsv', sep='\\t', comment='#', index_col=0).fillna('')\n",
    "dat = cnts.T.join(metadata).groupby(['cell_line', 'developmental_stage', 'strain', 'tissue']).median().T\n",
    "dat.columns = list(range(len(dat.columns)))"
   ]
  },
  {
   "cell_type": "code",
   "execution_count": 56,
   "metadata": {},
   "outputs": [],
   "source": [
    "# Calculate tau and tsps\n",
    "tauDat = dat.apply(tau, axis=1)\n",
    "tspsDat = dat.apply(tsps, axis=1)"
   ]
  },
  {
   "cell_type": "code",
   "execution_count": 58,
   "metadata": {},
   "outputs": [
    {
     "data": {
      "text/plain": [
       "Text(0.5,1,'TSPS')"
      ]
     },
     "execution_count": 58,
     "metadata": {},
     "output_type": "execute_result"
    },
    {
     "data": {
      "image/png": "[encoded data removed]",
      "text/plain": [
       "<matplotlib.figure.Figure at 0x7f2eec058b00>"
      ]
     },
     "metadata": {},
     "output_type": "display_data"
    }
   ],
   "source": [
    "# plot them\n",
    "fig, (ax1, ax2) = plt.subplots(1, 2, figsize=plt.figaspect(.5))\n",
    "sns.distplot(tauDat.dropna(), ax=ax1)\n",
    "ax1.set_title(r'$\\tau$')\n",
    "sns.distplot(tspsDat.dropna(), ax=ax2)\n",
    "ax2.set_title('TSPS')"
   ]
  },
  {
   "cell_type": "markdown",
   "metadata": {},
   "source": [
    "## Compare Haiwang and modENCODE"
   ]
  },
  {
   "cell_type": "code",
   "execution_count": 136,
   "metadata": {},
   "outputs": [
    {
     "data": {
      "text/markdown": [
       "\n",
       "Next I want to compare Haiwang's and modENCODE's $\\tau$/TSPS to see if they give similar results. \n",
       "The easiest way to look at this is to use rank correlations. \n",
       "First I looked at $\\tau$ using Spearman r. \n",
       "I found a correlation of 0.74, which was significant (p≤0.0).\n",
       "This suggests that $\\tau$ of genes tends to be similar between the two datasets.\n"
      ],
      "text/plain": [
       "<IPython.core.display.Markdown object>"
      ]
     },
     "execution_count": 136,
     "metadata": {},
     "output_type": "execute_result"
    }
   ],
   "source": [
    "# munge\n",
    "hTau = male_tau.reset_index().drop('sex', axis=1).set_index('FBgn').tau\n",
    "cmb = pd.concat([hTau, tauDat], axis=1).dropna()\n",
    "\n",
    "# spearman r\n",
    "stat, pval = spearmanr(cmb.iloc[:, 0], cmb.iloc[:, 1])\n",
    "tau = r'$\\tau$'\n",
    "\n",
    "Markdown(f\"\"\"\n",
    "Next I want to compare Haiwang's and modENCODE's {tau}/TSPS to see if they give similar results. \n",
    "The easiest way to look at this is to use rank correlations. \n",
    "First I looked at {tau} using Spearman r. \n",
    "I found a correlation of {np.round(stat, 2)}, which was significant (p≤{pval}).\n",
    "This suggests that {tau} of genes tends to be similar between the two datasets.\n",
    "\"\"\")"
   ]
  },
  {
   "cell_type": "code",
   "execution_count": 142,
   "metadata": {},
   "outputs": [
    {
     "data": {
      "text/markdown": [
       "\n",
       "Next I looked at TSPS using the same spearman r metric.\n",
       "I found a correlation of 0.8, which was significant (p≤0.0).\n",
       "It looks like TSPS behaves more similar betwee datasets than $\\tau$.\n"
      ],
      "text/plain": [
       "<IPython.core.display.Markdown object>"
      ]
     },
     "execution_count": 142,
     "metadata": {},
     "output_type": "execute_result"
    }
   ],
   "source": [
    "# munge\n",
    "hTSPS = male_tsps.reset_index().drop('sex', axis=1).set_index('FBgn').tsps\n",
    "cmb = pd.concat([hTSPS, tspsDat], axis=1).dropna()\n",
    "\n",
    "# spearman r\n",
    "stat, pval = spearmanr(cmb.iloc[:, 0], cmb.iloc[:, 1])\n",
    "tau = r'$\\tau$'\n",
    "\n",
    "Markdown(f\"\"\"\n",
    "Next I looked at TSPS using the same spearman r metric.\n",
    "I found a correlation of {np.round(stat, 2)}, which was significant (p≤{pval}).\n",
    "It looks like TSPS behaves more similar betwee datasets than {tau}.\n",
    "\"\"\")"
   ]
  },
  {
   "cell_type": "markdown",
   "metadata": {},
   "source": [
    "## GO Enrichment"
   ]
  },
  {
   "cell_type": "code",
   "execution_count": 2,
   "metadata": {},
   "outputs": [
    {
     "name": "stdout",
     "output_type": "stream",
     "text": [
      "load obo file ../data/external/go-basic.obo\n",
      "../data/external/go-basic.obo: fmt(1.2) rel(2018-02-02) 47,109 GO Terms\n",
      "load obo file ../data/external/goslim_generic.obo\n",
      "../data/external/goslim_generic.obo: fmt(1.2) rel(None) 228 GO Terms\n"
     ]
    }
   ],
   "source": [
    "# import GO dags\n",
    "obodag = GODag(\"../data/external/go-basic.obo\")\n",
    "slimdag = GODag(\"../data/external/goslim_generic.obo\")"
   ]
  },
  {
   "cell_type": "code",
   "execution_count": 3,
   "metadata": {},
   "outputs": [],
   "source": [
    "# Import fly associations\n",
    "fly = defaultdict(set)\n",
    "with open('../data/external/gene_association.fb') as fh:\n",
    "    for row in fh.readlines():\n",
    "        if row.startswith('!'):\n",
    "            continue\n",
    "        cols = row.split('\\t')\n",
    "        fbgn = cols[1]\n",
    "        goterm = cols[4]\n",
    "        gtype = cols[11]\n",
    "        if gtype != 'protein':\n",
    "            continue\n",
    "        if goterm not in obodag:\n",
    "            continue\n",
    "        fly[fbgn].add(goterm)"
   ]
  },
  {
   "cell_type": "code",
   "execution_count": 4,
   "metadata": {},
   "outputs": [],
   "source": [
    "# map them to a slim set\n",
    "flyslim = defaultdict(set)\n",
    "for fbgn, goterms in fly.items():\n",
    "    all_direct_anc = set()\n",
    "    all_covered_anc = set()\n",
    "    all_all_anc = set()\n",
    "    for goterm in goterms:\n",
    "        direct_anc, all_anc = mapslim(goterm, obodag, slimdag)\n",
    "        all_all_anc |= all_anc\n",
    "        # collect all covered ancestors, so the direct ancestors\n",
    "        # can be calculated afterwards\n",
    "        all_covered_anc |= (all_anc - direct_anc)\n",
    "    all_direct_anc = all_all_anc - all_covered_anc\n",
    "    flyslim[fbgn] |= (all_direct_anc)"
   ]
  },
  {
   "cell_type": "code",
   "execution_count": 10,
   "metadata": {},
   "outputs": [],
   "source": [
    "# bg = male_tau.dropna().index.get_level_values(0).tolist()\n",
    "# \n",
    "# goeaobj = GOEnrichmentStudy(\n",
    "#         bg, # Background \n",
    "#         flyslim, # geneid/GO associations\n",
    "#         slimdag, # Ontologies\n",
    "#         propagate_counts = False,\n",
    "#         alpha = 0.001, # default significance cut-off\n",
    "#         methods = ['fdr_bh']) # defult multipletest correction method\n",
    "# \n",
    "# bins = pd.qcut(male_tau.dropna().tau, 20).reset_index().set_index('tau')['FBgn']\n",
    "# groups = {}\n",
    "# for g, d in bins.to_frame().groupby(level=0):\n",
    "#     try:\n",
    "#         groups[g] = [r.name for r in goeaobj.run_study(d.FBgn.values.tolist(), log=None) if r.p_fdr_bh <= 0.001]\n",
    "#     except ZeroDivisionError:\n",
    "#         print(d)"
   ]
  },
  {
   "cell_type": "code",
   "execution_count": null,
   "metadata": {},
   "outputs": [],
   "source": []
  }
 ],
 "metadata": {
  "kernelspec": {
   "display_name": "Python [conda env:larval_gonad]",
   "language": "python",
   "name": "conda-env-larval_gonad-py"
  },
  "language_info": {
   "codemirror_mode": {
    "name": "ipython",
    "version": 3
   },
   "file_extension": ".py",
   "mimetype": "text/x-python",
   "name": "python",
   "nbconvert_exporter": "python",
   "pygments_lexer": "ipython3",
   "version": "3.6.3"
  }
 },
 "nbformat": 4,
 "nbformat_minor": 2
}
