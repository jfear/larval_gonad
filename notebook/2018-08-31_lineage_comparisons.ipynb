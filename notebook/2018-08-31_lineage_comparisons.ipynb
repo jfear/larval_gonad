{
 "cells": [
  {
   "cell_type": "code",
   "execution_count": 1,
   "metadata": {},
   "outputs": [],
   "source": [
    "import os\n",
    "import sys\n",
    "import re\n",
    "from pathlib import Path\n",
    "from itertools import combinations\n",
    "\n",
    "from IPython.display import display, HTML, Markdown\n",
    "import numpy as np\n",
    "import pandas as pd\n",
    "from scipy.cluster.hierarchy import linkage, dendrogram\n",
    "\n",
    "import matplotlib as mpl\n",
    "import matplotlib.pyplot as plt\n",
    "import seaborn as sns\n",
    "\n",
    "# Project level imports\n",
    "from larval_gonad.notebook import Nb"
   ]
  },
  {
   "cell_type": "code",
   "execution_count": 2,
   "metadata": {},
   "outputs": [
    {
     "name": "stdout",
     "output_type": "stream",
     "text": [
      "last updated: 2018-08-31 \n",
      "Git hash: 51c49c85b2065474dac37643efa2cfec2abb6b4f\n"
     ]
    }
   ],
   "source": [
    "# Setup notebook\n",
    "nbconfig = Nb.setup_notebook(seurat_dir='../scrnaseq-wf/data/scrnaseq_combine_force')"
   ]
  },
  {
   "cell_type": "markdown",
   "metadata": {},
   "source": [
    "## Chromosomal distribution of DEG among germline"
   ]
  },
  {
   "cell_type": "code",
   "execution_count": 3,
   "metadata": {},
   "outputs": [],
   "source": [
    "def diffs(up='gonia', down='cytes'):\n",
    "    dat = pd.read_csv(f'../scrnaseq-wf/data/{up}_vs_{down}.tsv', sep='\\t', index_col=0).query('p_val_adj <= 0.01')\n",
    "    dat = dat.join(nbconfig.fbgn2chrom)\n",
    "\n",
    "    dat[f'{up}'] = dat.avg_logFC > 0\n",
    "    dat[f'{down}'] = dat.avg_logFC < 0\n",
    "\n",
    "    chrs = ['chrX', 'chr2L', 'chr2R', 'chr3L', 'chr3R', 'chr4', 'chrY', 'chrM']\n",
    "    df = dat[[f'{up}', f'{down}', 'chrom']].groupby('chrom').sum().reindex(chrs)\n",
    "    df.columns = pd.MultiIndex.from_arrays([(f'{up}_vs_{down}', f'{up}_vs_{down}'), (f'{up}', f'{down}')])\n",
    "    return df.fillna(0)"
   ]
  },
  {
   "cell_type": "markdown",
   "metadata": {},
   "source": [
    "### Lineage comparisons"
   ]
  },
  {
   "cell_type": "code",
   "execution_count": 5,
   "metadata": {},
   "outputs": [
    {
     "data": {
      "text/html": [
       "<div>\n",
       "<style scoped>\n",
       "    .dataframe tbody tr th:only-of-type {\n",
       "        vertical-align: middle;\n",
       "    }\n",
       "\n",
       "    .dataframe tbody tr th {\n",
       "        vertical-align: top;\n",
       "    }\n",
       "\n",
       "    .dataframe thead tr th {\n",
       "        text-align: left;\n",
       "    }\n",
       "\n",
       "    .dataframe thead tr:last-of-type th {\n",
       "        text-align: right;\n",
       "    }\n",
       "</style>\n",
       "<table border=\"1\" class=\"dataframe\">\n",
       "  <thead>\n",
       "    <tr>\n",
       "      <th></th>\n",
       "      <th colspan=\"2\" halign=\"left\">gonia_vs_early</th>\n",
       "      <th colspan=\"2\" halign=\"left\">early_vs_mid</th>\n",
       "      <th colspan=\"2\" halign=\"left\">mid_vs_late</th>\n",
       "    </tr>\n",
       "    <tr>\n",
       "      <th></th>\n",
       "      <th>gonia</th>\n",
       "      <th>early</th>\n",
       "      <th>early</th>\n",
       "      <th>mid</th>\n",
       "      <th>mid</th>\n",
       "      <th>late</th>\n",
       "    </tr>\n",
       "    <tr>\n",
       "      <th>chrom</th>\n",
       "      <th></th>\n",
       "      <th></th>\n",
       "      <th></th>\n",
       "      <th></th>\n",
       "      <th></th>\n",
       "      <th></th>\n",
       "    </tr>\n",
       "  </thead>\n",
       "  <tbody>\n",
       "    <tr>\n",
       "      <th>chrX</th>\n",
       "      <td>171.0</td>\n",
       "      <td>266.0</td>\n",
       "      <td>111.0</td>\n",
       "      <td>10.0</td>\n",
       "      <td>0.0</td>\n",
       "      <td>1.0</td>\n",
       "    </tr>\n",
       "    <tr>\n",
       "      <th>chr2L</th>\n",
       "      <td>207.0</td>\n",
       "      <td>468.0</td>\n",
       "      <td>158.0</td>\n",
       "      <td>103.0</td>\n",
       "      <td>2.0</td>\n",
       "      <td>6.0</td>\n",
       "    </tr>\n",
       "    <tr>\n",
       "      <th>chr2R</th>\n",
       "      <td>265.0</td>\n",
       "      <td>433.0</td>\n",
       "      <td>142.0</td>\n",
       "      <td>106.0</td>\n",
       "      <td>5.0</td>\n",
       "      <td>5.0</td>\n",
       "    </tr>\n",
       "    <tr>\n",
       "      <th>chr3L</th>\n",
       "      <td>206.0</td>\n",
       "      <td>416.0</td>\n",
       "      <td>126.0</td>\n",
       "      <td>75.0</td>\n",
       "      <td>6.0</td>\n",
       "      <td>3.0</td>\n",
       "    </tr>\n",
       "    <tr>\n",
       "      <th>chr3R</th>\n",
       "      <td>257.0</td>\n",
       "      <td>506.0</td>\n",
       "      <td>174.0</td>\n",
       "      <td>104.0</td>\n",
       "      <td>4.0</td>\n",
       "      <td>7.0</td>\n",
       "    </tr>\n",
       "    <tr>\n",
       "      <th>chr4</th>\n",
       "      <td>14.0</td>\n",
       "      <td>5.0</td>\n",
       "      <td>7.0</td>\n",
       "      <td>0.0</td>\n",
       "      <td>0.0</td>\n",
       "      <td>0.0</td>\n",
       "    </tr>\n",
       "    <tr>\n",
       "      <th>chrY</th>\n",
       "      <td>0.0</td>\n",
       "      <td>5.0</td>\n",
       "      <td>0.0</td>\n",
       "      <td>0.0</td>\n",
       "      <td>0.0</td>\n",
       "      <td>0.0</td>\n",
       "    </tr>\n",
       "    <tr>\n",
       "      <th>chrM</th>\n",
       "      <td>0.0</td>\n",
       "      <td>6.0</td>\n",
       "      <td>0.0</td>\n",
       "      <td>0.0</td>\n",
       "      <td>0.0</td>\n",
       "      <td>7.0</td>\n",
       "    </tr>\n",
       "  </tbody>\n",
       "</table>\n",
       "</div>"
      ],
      "text/plain": [
       "      gonia_vs_early        early_vs_mid        mid_vs_late     \n",
       "               gonia  early        early    mid         mid late\n",
       "chrom                                                           \n",
       "chrX           171.0  266.0        111.0   10.0         0.0  1.0\n",
       "chr2L          207.0  468.0        158.0  103.0         2.0  6.0\n",
       "chr2R          265.0  433.0        142.0  106.0         5.0  5.0\n",
       "chr3L          206.0  416.0        126.0   75.0         6.0  3.0\n",
       "chr3R          257.0  506.0        174.0  104.0         4.0  7.0\n",
       "chr4            14.0    5.0          7.0    0.0         0.0  0.0\n",
       "chrY             0.0    5.0          0.0    0.0         0.0  0.0\n",
       "chrM             0.0    6.0          0.0    0.0         0.0  7.0"
      ]
     },
     "execution_count": 5,
     "metadata": {},
     "output_type": "execute_result"
    }
   ],
   "source": [
    "lincomp = pd.concat([diffs('gonia', 'early'), diffs('early', 'mid'), diffs('mid', 'late')], axis=1)\n",
    "lincomp.to_csv('../output/2018-08-31_lineage_comparison.tsv', sep='\\t')\n",
    "lincomp"
   ]
  },
  {
   "cell_type": "code",
   "execution_count": null,
   "metadata": {},
   "outputs": [],
   "source": []
  },
  {
   "cell_type": "code",
   "execution_count": 29,
   "metadata": {},
   "outputs": [],
   "source": [
    "def diffs2(up='gonia', down='cytes'):\n",
    "    dat = pd.read_csv(f'../scrnaseq-wf/data/{up}_vs_{down}.tsv', sep='\\t', index_col=0).query('p_val_adj <= 0.01')\n",
    "    _df = pd.DataFrame(index=df.index)\n",
    "    \n",
    "    if up == 'gonia':\n",
    "        gonia = dat.avg_logFC > 0\n",
    "        gonia.name = 'gonia_bias'\n",
    "        _df = _df.join(gonia)\n",
    "        \n",
    "    cyte = dat.avg_logFC < 0\n",
    "    cyte.name = f'{down}_bias'\n",
    "    return _df.join(cyte)"
   ]
  },
  {
   "cell_type": "code",
   "execution_count": 30,
   "metadata": {},
   "outputs": [],
   "source": [
    "dfs = []\n",
    "for up, down in [('gonia', 'early'), ('early', 'mid'), ('mid', 'late')]:\n",
    "    dfs.append(diffs2(up, down))\n",
    "\n",
    "df = pd.concat(dfs, axis=1).fillna(False)"
   ]
  },
  {
   "cell_type": "code",
   "execution_count": 33,
   "metadata": {},
   "outputs": [],
   "source": [
    "df.astype(int).to_csv('../output/2018-08-31_flag_lineage_comparison.tsv', sep='\\t')"
   ]
  }
 ],
 "metadata": {
  "kernelspec": {
   "display_name": "Python [conda env:larval_gonad]",
   "language": "python",
   "name": "conda-env-larval_gonad-py"
  },
  "language_info": {
   "codemirror_mode": {
    "name": "ipython",
    "version": 3
   },
   "file_extension": ".py",
   "mimetype": "text/x-python",
   "name": "python",
   "nbconvert_exporter": "python",
   "pygments_lexer": "ipython3",
   "version": "3.6.3"
  }
 },
 "nbformat": 4,
 "nbformat_minor": 2
}
