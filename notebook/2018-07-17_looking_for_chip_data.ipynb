{
 "cells": [
  {
   "cell_type": "markdown",
   "metadata": {},
   "source": [
    "# SRA ChIP-Seq Data"
   ]
  },
  {
   "cell_type": "markdown",
   "metadata": {},
   "source": [
    "We are wanting pol II ChIP-Seq data in the testis. There is one dataset in GEO, but I want to look in SRA if there are any additional datasets. This notebook uses my MongoDB from ncbi_remap for easy querying in SRA. "
   ]
  },
  {
   "cell_type": "code",
   "execution_count": 36,
   "metadata": {},
   "outputs": [],
   "source": [
    "# %load defaults.py\n",
    "# Imports\n",
    "import os\n",
    "import sys\n",
    "from pathlib import Path\n",
    "import re\n",
    "\n",
    "from IPython.display import display, HTML, Markdown\n",
    "import numpy as np\n",
    "import pandas as pd\n",
    "\n",
    "import matplotlib as mpl\n",
    "import matplotlib.pyplot as plt\n",
    "import seaborn as sns\n",
    "\n",
    "# Project level imports\n",
    "from larval_gonad.notebook import Nb"
   ]
  },
  {
   "cell_type": "code",
   "execution_count": 5,
   "metadata": {},
   "outputs": [
    {
     "name": "stdout",
     "output_type": "stream",
     "text": [
      "last updated: 2018-07-17 \n",
      "Git hash: 09c6fb287994a19d25111e9a64bdc2fd8dcb68b3\n"
     ]
    }
   ],
   "source": [
    "# Setup notebook\n",
    "nbconfig = Nb.setup_notebook()"
   ]
  },
  {
   "cell_type": "code",
   "execution_count": 3,
   "metadata": {},
   "outputs": [],
   "source": [
    "from pymongo import MongoClient\n",
    "host = 'localhost'\n",
    "mongoClient = MongoClient(host=host, port=27017)\n",
    "db = mongoClient['sra']\n",
    "ncbi = db['ncbi']"
   ]
  },
  {
   "cell_type": "code",
   "execution_count": 7,
   "metadata": {},
   "outputs": [],
   "source": [
    "chipdat = [x['_id'] for x in ncbi.aggregate([\n",
    "    {\n",
    "        '$match': {\n",
    "            'sra.experiment.library_strategy': 'ChIP-Seq'\n",
    "        }\n",
    "    },\n",
    "    {\n",
    "        '$project': {\n",
    "            '_id': 1\n",
    "        }\n",
    "    }\n",
    "])]"
   ]
  },
  {
   "cell_type": "code",
   "execution_count": 43,
   "metadata": {},
   "outputs": [],
   "source": [
    "aggr = ncbi.aggregate([\n",
    "    {\n",
    "        '$match': {\n",
    "            '_id': {'$in': chipdat}\n",
    "        }\n",
    "    },\n",
    "    {\n",
    "        '$unwind': {\n",
    "            'path': '$sra.sample.attributes'\n",
    "        }\n",
    "    },\n",
    "    {\n",
    "        '$project': {\n",
    "            'title': '$sra.sample.title',\n",
    "            'attr_name': '$sra.sample.attributes.name',\n",
    "            'attr_val': '$sra.sample.attributes.value',\n",
    "        }\n",
    "    },\n",
    "    {\n",
    "        '$group': {\n",
    "            '_id': '$_id',\n",
    "            'title': {'$first': '$title'},\n",
    "            'vals': {'$addToSet': '$attr_val'}\n",
    "        }\n",
    "    },\n",
    "])\n",
    "\n",
    "res = []\n",
    "for i in aggr:\n",
    "    _title = i.get('title', False)\n",
    "    if _title:\n",
    "        attrs = [_title]\n",
    "    else:\n",
    "        attrs = []\n",
    "    attrs.extend(i['vals'])\n",
    "    string = ' '.join(attrs).lower()\n",
    "    if re.search(r'test[ie]s', string):\n",
    "        if re.search(r'pol', string):\n",
    "            res.append((i['_id'], string.lower()))"
   ]
  },
  {
   "cell_type": "code",
   "execution_count": 44,
   "metadata": {},
   "outputs": [
    {
     "data": {
      "text/plain": [
       "[('SRX2748311',\n",
       "  'ez_polii-ga0200_chipseq testis e(z)61 bam double mutant rna pol ii (abcam, ab5408) testis, e(z)61 bam double mutant, polii chip'),\n",
       " ('SRX017857', 'bam polii chip-seq ab5408 abcam polii bam testis')]"
      ]
     },
     "execution_count": 44,
     "metadata": {},
     "output_type": "execute_result"
    }
   ],
   "source": [
    "res"
   ]
  }
 ],
 "metadata": {
  "kernelspec": {
   "display_name": "Python [conda env:larval_gonad]",
   "language": "python",
   "name": "conda-env-larval_gonad-py"
  },
  "language_info": {
   "codemirror_mode": {
    "name": "ipython",
    "version": 3
   },
   "file_extension": ".py",
   "mimetype": "text/x-python",
   "name": "python",
   "nbconvert_exporter": "python",
   "pygments_lexer": "ipython3",
   "version": "3.6.3"
  }
 },
 "nbformat": 4,
 "nbformat_minor": 2
}
