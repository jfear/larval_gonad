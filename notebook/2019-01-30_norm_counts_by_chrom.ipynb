{
 "cells": [
  {
   "cell_type": "markdown",
   "metadata": {
    "toc-hr-collapsed": false
   },
   "source": [
    "# Generate norm counts barplot for comparison with translocations."
   ]
  },
  {
   "cell_type": "markdown",
   "metadata": {},
   "source": [
    "I want this plot generated for w1118 samples for comparison with translocations."
   ]
  },
  {
   "cell_type": "code",
   "execution_count": null,
   "metadata": {},
   "outputs": [],
   "source": [
    "import os\n",
    "import sys\n",
    "import re\n",
    "from pathlib import Path\n",
    "\n",
    "from IPython.display import display, HTML, Markdown\n",
    "import numpy as np\n",
    "import pandas as pd\n",
    "from scipy.stats import spearmanr, mannwhitneyu, fisher_exact\n",
    "from scipy.cluster.hierarchy import linkage, dendrogram\n",
    "import statsmodels.formula.api as smf\n",
    "\n",
    "import matplotlib as mpl\n",
    "import matplotlib.pyplot as plt\n",
    "import seaborn as sns\n",
    "\n",
    "# Project level imports\n",
    "from larval_gonad.notebook import Nb"
   ]
  },
  {
   "cell_type": "code",
   "execution_count": null,
   "metadata": {
    "lines_to_next_cell": 1
   },
   "outputs": [],
   "source": [
    "# Setup notebook\n",
    "nbconfig = Nb.setup_notebook(seurat_dir='../output/scrnaseq-wf/scrnaseq_combine_force')"
   ]
  },
  {
   "cell_type": "code",
   "execution_count": null,
   "metadata": {
    "lines_to_next_cell": 1
   },
   "outputs": [],
   "source": [
    "def read_fbgn2chrom():\n",
    "    mapper = {\n",
    "        'chrX': 'X',\n",
    "        'chrY': 'Y',\n",
    "        'chr4': '4',\n",
    "        'chr2L': '2L',\n",
    "        'chr2R': '2R',\n",
    "        'chr3L': '3L',\n",
    "        'chr3R': '3R',\n",
    "    }\n",
    "\n",
    "    fbgn2chrom = (pd.read_csv('../output/fbgn2chrom.tsv', sep='\\t', index_col=0)\n",
    "                      .query('chrom != \"chrM\"')\n",
    "                      .chrom.map(mapper)\n",
    "                      .astype('category')\n",
    "                      .cat.as_ordered()\n",
    "                 )\n",
    "    \n",
    "    return fbgn2chrom.cat.reorder_categories(['X', '2L', '2R', '3L', '3R', 'Y', '4'])\n",
    "\n",
    "\n",
    "def read_clusters():\n",
    "    clusters = nbconfig.seurat.get_clusters('res.0.6').map(nbconfig.short_cluster_annot)\n",
    "    clusters = clusters[clusters != 'UNK'].copy()\n",
    "    return clusters.astype('category').cat.as_ordered().cat.reorder_categories(nbconfig.short_cluster_order)\n",
    "\n",
    "\n",
    "def read_raw(rep2):\n",
    "    raw = nbconfig.seurat.get_raw()\n",
    "    if rep2:\n",
    "        raw = raw.loc[:, raw.columns.str.startswith('rep2')].copy()\n",
    "        \n",
    "    return raw\n",
    "        \n",
    "    \n",
    "def read_gene_length(): \n",
    "    gene_lengths = pd.read_csv('../output/gene_ts_lengths.tsv', sep='\\t', index_col=0).gene_ts_length\n",
    "    gene_lengths.name = 'gene_length'\n",
    "    return gene_lengths\n",
    "    \n",
    "    \n",
    "def read_tpm(rep2):\n",
    "    from larval_gonad.normalization import tpm\n",
    "    raw = read_raw(rep2)\n",
    "    gene_lengths = read_gene_length()\n",
    "    return tpm(raw, gene_lengths).dropna()\n",
    "    \n",
    "def get_rep(wide):    \n",
    "    rep = wide.columns.str.extract('(?P<rep>rep\\d)').rep\n",
    "    rep.index = wide.columns\n",
    "    return rep\n",
    "    \n",
    "def read_data(rep2=False, tpm=False):\n",
    "    fbgn2chrom = read_fbgn2chrom()\n",
    "    clusters = read_clusters()\n",
    "    \n",
    "    if tpm:\n",
    "        data = read_tpm(rep2)\n",
    "        value_name = 'TPM'\n",
    "    else:\n",
    "        data = read_raw(rep2)\n",
    "        value_name = 'UMI'\n",
    "    \n",
    "    # Munge together\n",
    "    rep = get_rep(data)\n",
    "    melted = data.reset_index().melt(id_vars='FBgn', value_name=value_name)\n",
    "    return melted.join(clusters, on='cell_id').join(fbgn2chrom, on='FBgn').join(rep, on='cell_id').dropna()"
   ]
  },
  {
   "cell_type": "markdown",
   "metadata": {},
   "source": [
    "## Data Prep"
   ]
  },
  {
   "cell_type": "code",
   "execution_count": null,
   "metadata": {},
   "outputs": [],
   "source": [
    "df = read_data()\n",
    "df['missing'] = (df.UMI == 0).values"
   ]
  },
  {
   "cell_type": "code",
   "execution_count": null,
   "metadata": {},
   "outputs": [],
   "source": [
    "fbgn2chrom = read_fbgn2chrom()\n",
    "fbgn2chrom = fbgn2chrom.reindex(df.FBgn.unique())\n",
    "num_genes_by_chrom = fbgn2chrom.value_counts()"
   ]
  },
  {
   "cell_type": "code",
   "execution_count": null,
   "metadata": {},
   "outputs": [],
   "source": [
    "total_reads_per_chrom_by_cell = df.groupby(['cell_id', 'chrom']).UMI.sum()\n",
    "total_reads_per_cell = df.groupby(['cell_id']).UMI.sum()"
   ]
  },
  {
   "cell_type": "code",
   "execution_count": null,
   "metadata": {},
   "outputs": [],
   "source": [
    "norm_cnts = (\n",
    "    total_reads_per_chrom_by_cell\n",
    "        .div(num_genes_by_chrom / 1e3, level='chrom')\n",
    "        .div(total_reads_per_cell / 1e3, level='cell_id')\n",
    "        .to_frame()\n",
    ")\n",
    "norm_cnts.columns = ['norm_cnt']\n",
    "\n",
    "norm_cnts = (\n",
    "    norm_cnts\n",
    "        .join(read_clusters(), on='cell_id')\n",
    "        .reset_index()\n",
    ")\n",
    "norm_cnts = norm_cnts.join(norm_cnts.cell_id.str.extract('(?P<rep>rep\\d)'))\n",
    "\n",
    "norm_cnts.chrom = (\n",
    "    norm_cnts.chrom\n",
    "        .astype('category')\n",
    "        .cat.as_ordered()\n",
    "        .cat.reorder_categories(['X', '2L', '2R', '3L', '3R', 'Y', '4'])\n",
    ")"
   ]
  },
  {
   "cell_type": "markdown",
   "metadata": {
    "toc-hr-collapsed": true
   },
   "source": [
    "## Chromosome Expression"
   ]
  },
  {
   "cell_type": "markdown",
   "metadata": {},
   "source": [
    "### Cell level chromosome coverage"
   ]
  },
  {
   "cell_type": "code",
   "execution_count": null,
   "metadata": {},
   "outputs": [],
   "source": [
    "norm_cnts = norm_cnts.query('chrom == [\"X\", \"2L\", \"2R\"]').copy()\n",
    "norm_cnts.chrom = norm_cnts.chrom.cat.remove_unused_categories()"
   ]
  },
  {
   "cell_type": "code",
   "execution_count": null,
   "metadata": {},
   "outputs": [],
   "source": [
    "g = sns.FacetGrid(norm_cnts, row='chrom', sharey=False, aspect=1.2)\n",
    "g.map(\n",
    "    sns.barplot, \n",
    "    'cluster', \n",
    "    'norm_cnt', \n",
    "    order=nbconfig.short_cluster_order, \n",
    "    palette=nbconfig.colors['clusters'],\n",
    "    estimator=np.mean,\n",
    "    errwidth=1,\n",
    "    capsize=.2\n",
    ")\n",
    "g.fig.suptitle('w[1118]', fontsize=10);"
   ]
  },
  {
   "cell_type": "code",
   "execution_count": null,
   "metadata": {
    "lines_to_next_cell": 3
   },
   "outputs": [],
   "source": []
  }
 ],
 "metadata": {
  "kernelspec": {
   "display_name": "Python [conda env:larval_gonad]",
   "language": "python",
   "name": "conda-env-larval_gonad-py"
  }
 },
 "nbformat": 4,
 "nbformat_minor": 2
}
