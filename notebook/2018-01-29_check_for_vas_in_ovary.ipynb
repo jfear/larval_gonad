{
 "cells": [
  {
   "cell_type": "markdown",
   "metadata": {},
   "source": [
    "# Check for *vas* expression"
   ]
  },
  {
   "cell_type": "code",
   "execution_count": 1,
   "metadata": {},
   "outputs": [],
   "source": [
    "import csv\n",
    "import os\n",
    "\n",
    "import scipy.io\n",
    "import pandas as pd"
   ]
  },
  {
   "cell_type": "markdown",
   "metadata": {},
   "source": [
    "## Ovary"
   ]
  },
  {
   "cell_type": "code",
   "execution_count": 28,
   "metadata": {},
   "outputs": [
    {
     "name": "stdout",
     "output_type": "stream",
     "text": [
      "There were 0 vasa reads.\n"
     ]
    }
   ],
   "source": [
    "# Get data (from cell ranger website)\n",
    "genome = \"dm6.16\"\n",
    "matrices_dir = \"../output/ovary1/outs/filtered_gene_bc_matrices\"\n",
    "_matrix_dir = os.path.join(matrices_dir, genome)\n",
    "mat = scipy.io.mmread(os.path.join(_matrix_dir, \"matrix.mtx\"))\n",
    " \n",
    "genes_path = os.path.join(_matrix_dir, \"genes.tsv\")\n",
    "gene_ids = [row[0] for row in csv.reader(open(genes_path), delimiter=\"\\t\")]\n",
    "gene_names = [row[1] for row in csv.reader(open(genes_path), delimiter=\"\\t\")]\n",
    " \n",
    "barcodes_path = os.path.join(_matrix_dir, \"barcodes.tsv\")\n",
    "barcodes = [row[0] for row in csv.reader(open(barcodes_path), delimiter=\"\\t\")]\n",
    "\n",
    "df = pd.DataFrame(mat.toarray(), index=gene_ids, columns=barcodes)\n",
    "\n",
    "# check how many reads mapped to vasa\n",
    "reads = df.loc['FBgn0283442'].sum()\n",
    "print(f'There were {reads:,} vasa reads.')"
   ]
  },
  {
   "cell_type": "markdown",
   "metadata": {},
   "source": [
    "## testis"
   ]
  },
  {
   "cell_type": "code",
   "execution_count": 29,
   "metadata": {},
   "outputs": [
    {
     "name": "stdout",
     "output_type": "stream",
     "text": [
      "There were 652 vasa reads.\n",
      "There were 55 cells expressing vasa.\n"
     ]
    }
   ],
   "source": [
    "# Get data (from cell ranger website)\n",
    "genome = \"dm6.16\"\n",
    "matrices_dir = \"../output/testis1/outs/filtered_gene_bc_matrices\"\n",
    "_matrix_dir = os.path.join(matrices_dir, genome)\n",
    "mat = scipy.io.mmread(os.path.join(_matrix_dir, \"matrix.mtx\"))\n",
    " \n",
    "genes_path = os.path.join(_matrix_dir, \"genes.tsv\")\n",
    "gene_ids = [row[0] for row in csv.reader(open(genes_path), delimiter=\"\\t\")]\n",
    "gene_names = [row[1] for row in csv.reader(open(genes_path), delimiter=\"\\t\")]\n",
    " \n",
    "barcodes_path = os.path.join(_matrix_dir, \"barcodes.tsv\")\n",
    "barcodes = [row[0] for row in csv.reader(open(barcodes_path), delimiter=\"\\t\")]\n",
    "\n",
    "df = pd.DataFrame(mat.toarray(), index=gene_ids, columns=barcodes)\n",
    "\n",
    "# check how many reads mapped to vasa\n",
    "reads = df.loc['FBgn0283442'].sum()\n",
    "print(f'There were {reads:,} vasa reads.')\n",
    "\n",
    "# how many cells has vasa\n",
    "cells = (df.loc['FBgn0283442'] > 0).sum()\n",
    "print(f'There were {cells:,} cells expressing vasa.')"
   ]
  },
  {
   "cell_type": "code",
   "execution_count": null,
   "metadata": {},
   "outputs": [],
   "source": []
  }
 ],
 "metadata": {
  "kernelspec": {
   "display_name": "Python [conda env:larval_gonad]",
   "language": "python",
   "name": "conda-env-larval_gonad-py"
  },
  "language_info": {
   "codemirror_mode": {
    "name": "ipython",
    "version": 3
   },
   "file_extension": ".py",
   "mimetype": "text/x-python",
   "name": "python",
   "nbconvert_exporter": "python",
   "pygments_lexer": "ipython3",
   "version": "3.6.3"
  }
 },
 "nbformat": 4,
 "nbformat_minor": 2
}
