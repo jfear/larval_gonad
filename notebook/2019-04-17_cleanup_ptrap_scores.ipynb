{
 "cells": [
  {
   "cell_type": "markdown",
   "metadata": {},
   "source": [
    "Cleaning up protein trap scores from miriam."
   ]
  },
  {
   "cell_type": "code",
   "execution_count": 33,
   "metadata": {},
   "outputs": [],
   "source": [
    "from pickle import load\n",
    "from io import StringIO\n",
    "import re\n",
    "import pandas as pd"
   ]
  },
  {
   "cell_type": "code",
   "execution_count": 9,
   "metadata": {},
   "outputs": [],
   "source": [
    "with open('../output/paper_submission/symbol2fbgn.pkl', 'rb') as fh:\n",
    "    symbol2fbgn = load(fh)"
   ]
  },
  {
   "cell_type": "code",
   "execution_count": 20,
   "metadata": {},
   "outputs": [],
   "source": [
    "miriam_scores = \"\"\"gene_symbol,SP,ES,MS,LS,C,EC,MC,LC,PC,TE\n",
    "ADD1,1,2,3,3,1,0,0,0,0,1\n",
    "Ance,1,2,2,2,1,2,2,2,1,1\n",
    "bol,1,1,2,3,0,0,0,0,0,0\n",
    "CG17646,0,0,0,0,1,1,1,1,1,1\n",
    "CG9747,0,1,1,1,0,1,1,1,1,1\n",
    "Cht5,0,0,0,0,0,1,1,2,0,0\n",
    "cindr,1,1,1,1,1,1,1,1,2,2\n",
    "cmpy,0,0,0,0,0,1,1,1,0,0\n",
    "Dek,2,2,2,2,1,1,1,1,2,2\n",
    "dpr17,1,1,1,0,0,0,0,0,0,0\n",
    "e(y)3,2,2,2,2,1,1,1,1,2,2\n",
    "DIP-delta,2,2,1,1,0,0,0,0,1,2\n",
    "Efa6,1,1,1,1,1,2,2,2,1,1\n",
    "Efa6,2,1,1,1,2,2,2,2,1,1\n",
    "Fas3,1,1,1,1,1,1,1,1,1,3\n",
    "Fas3,0,0,0,0,0,0,0,0,0,2\n",
    "fln,1,1,1,1,2,2,2,2,1,1\n",
    "foxo,2,2,2,2,1,1,1,1,1,2\n",
    "Fs(2)Ket,2,2,2,2,1,1,1,1,1,1\n",
    "Mapmodulin,2,2,2,1,1,1,1,1,2,2\n",
    "mbl,1,2,2,2,1,0,0,0,1,3\n",
    "Nlg3,1,1,1,1,1,2,2,1,0,1\n",
    "Nlg3,0,0,0,0,0,1,1,1,0,0\n",
    "nord,1,1,1,1,0,0,0,0,0,2\n",
    "Nrg,2,1,1,1,2,2,2,2,2,2\n",
    "osa,1,1,1,1,2,2,2,2,2,2\n",
    "p53,2,2,1,0,0,0,0,0,0,1\n",
    "Pdcd4,3,3,3,3,1,2,2,2,3,3\n",
    "Piezo,0,0,0,0,0,0,0,0,0,3\n",
    "rdo,1,1,1,1,2,2,2,2,1,1\n",
    "rdo,1,1,1,1,2,2,3,3,1,1\n",
    "rdo,1,1,1,1,2,2,3,3,1,1\n",
    "RunxA,1,1,1,1,1,1,1,1,1,1\n",
    "Sap-r,1,1,1,1,2,3,3,3,2,3\n",
    "sosie,1,1,1,1,1,2,2,2,1,1\n",
    "spir,1,1,1,1,0,0,0,0,0,0\n",
    "SRPK,2,2,2,2,0,0,0,0,1,1\n",
    "stai,3,2,2,2,2,2,2,2,1,3\n",
    "Syn,1,1,1,1,1,1,1,2,1,1\n",
    "Syn,1,1,1,1,1,1,1,1,1,1\n",
    "Tep2,0,1,1,1,0,2,2,2,2,0\n",
    "tok,1,1,1,1,1,0,0,0,1,2\n",
    "tutl,1,1,1,1,0,0,0,0,1,1\n",
    "twin,1,1,1,1,0,0,0,0,0,0\n",
    "\"\"\""
   ]
  },
  {
   "cell_type": "code",
   "execution_count": 40,
   "metadata": {},
   "outputs": [],
   "source": [
    "df = (\n",
    "    pd.read_csv(StringIO(miriam_scores))\n",
    "    .assign(FBgn=lambda df: df.gene_symbol.map(symbol2fbgn))\n",
    "    .set_index('FBgn')\n",
    "    .drop('gene_symbol', axis=1)\n",
    ")"
   ]
  },
  {
   "cell_type": "code",
   "execution_count": 41,
   "metadata": {},
   "outputs": [
    {
     "name": "stdout",
     "output_type": "stream",
     "text": [
      "             SP  ES  MS  LS  C  EC  MC  LC  PC  TE\n",
      "FBgn                                              \n",
      "FBgn0026573   1   2   3   3  1   0   0   0   0   1\n",
      "FBgn0012037   1   2   2   2  1   2   2   2   1   1\n",
      "FBgn0011206   1   1   2   3  0   0   0   0   0   0\n",
      "FBgn0264494   0   0   0   0  1   1   1   1   1   1\n",
      "FBgn0039754   0   1   1   1  0   1   1   1   1   1\n",
      "FBgn0038180   0   0   0   0  0   1   1   2   0   0\n",
      "FBgn0027598   1   1   1   1  1   1   1   1   2   2\n",
      "FBgn0037015   0   0   0   0  0   1   1   1   0   0\n",
      "FBgn0026533   2   2   2   2  1   1   1   1   2   2\n",
      "FBgn0051361   1   1   1   0  0   0   0   0   0   0\n",
      "FBgn0087008   2   2   2   2  1   1   1   1   2   2\n",
      "FBgn0085420   2   2   1   1  0   0   0   0   1   2\n",
      "FBgn0051158   1   1   1   1  1   2   2   2   1   1\n",
      "FBgn0051158   2   1   1   1  2   2   2   2   1   1\n",
      "FBgn0000636   1   1   1   1  1   1   1   1   1   3\n",
      "FBgn0000636   0   0   0   0  0   0   0   0   0   2\n",
      "FBgn0005633   1   1   1   1  2   2   2   2   1   1\n",
      "FBgn0038197   2   2   2   2  1   1   1   1   1   2\n",
      "FBgn0262743   2   2   2   2  1   1   1   1   1   1\n",
      "FBgn0034282   2   2   2   1  1   1   1   1   2   2\n",
      "FBgn0265487   1   2   2   2  1   0   0   0   1   3\n",
      "FBgn0083963   1   1   1   1  1   2   2   1   0   1\n",
      "FBgn0083963   0   0   0   0  0   1   1   1   0   0\n",
      "FBgn0050418   1   1   1   1  0   0   0   0   0   2\n",
      "FBgn0264975   2   1   1   1  2   2   2   2   2   2\n",
      "FBgn0261885   1   1   1   1  2   2   2   2   2   2\n",
      "FBgn0039044   2   2   1   0  0   0   0   0   0   1\n",
      "FBgn0030520   3   3   3   3  1   2   2   2   3   3\n",
      "FBgn0264953   0   0   0   0  0   0   0   0   0   3\n",
      "FBgn0243486   1   1   1   1  2   2   2   2   1   1\n",
      "FBgn0243486   1   1   1   1  2   2   3   3   1   1\n",
      "FBgn0243486   1   1   1   1  2   2   3   3   1   1\n",
      "FBgn0083981   1   1   1   1  1   1   1   1   1   1\n",
      "FBgn0000416   1   1   1   1  2   3   3   3   2   3\n",
      "FBgn0039232   1   1   1   1  1   2   2   2   1   1\n",
      "FBgn0003475   1   1   1   1  0   0   0   0   0   0\n",
      "FBgn0026370   2   2   2   2  0   0   0   0   1   1\n",
      "FBgn0266521   3   2   2   2  2   2   2   2   1   3\n",
      "FBgn0004575   1   1   1   1  1   1   1   2   1   1\n",
      "FBgn0004575   1   1   1   1  1   1   1   1   1   1\n",
      "FBgn0041182   0   1   1   1  0   2   2   2   2   0\n",
      "FBgn0004885   1   1   1   1  1   0   0   0   1   2\n",
      "FBgn0010473   1   1   1   1  0   0   0   0   1   1\n",
      "FBgn0011725   1   1   1   1  0   0   0   0   0   0\n"
     ]
    }
   ],
   "source": [
    "print(df.to_string())"
   ]
  },
  {
   "cell_type": "code",
   "execution_count": null,
   "metadata": {},
   "outputs": [],
   "source": []
  }
 ],
 "metadata": {
  "jupytext": {
   "main_language": "python",
   "text_representation": {
    "extension": ".py",
    "format_name": "percent",
    "format_version": "1.2",
    "jupytext_version": "1.0.0"
   }
  },
  "kernelspec": {
   "display_name": "Python [conda env:larval_gonad]",
   "language": "python",
   "name": "conda-env-larval_gonad-py"
  },
  "language_info": {
   "codemirror_mode": {
    "name": "ipython",
    "version": 3
   },
   "file_extension": ".py",
   "mimetype": "text/x-python",
   "name": "python",
   "nbconvert_exporter": "python",
   "pygments_lexer": "ipython3",
   "version": "3.6.3"
  }
 },
 "nbformat": 4,
 "nbformat_minor": 2
}
