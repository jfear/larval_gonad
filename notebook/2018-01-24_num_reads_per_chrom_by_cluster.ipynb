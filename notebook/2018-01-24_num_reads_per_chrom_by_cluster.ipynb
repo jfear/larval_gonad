{
 "cells": [
  {
   "cell_type": "markdown",
   "metadata": {},
   "source": [
    "# Count the Number of Reads Per Chromosome by Cluster"
   ]
  },
  {
   "cell_type": "code",
   "execution_count": 33,
   "metadata": {},
   "outputs": [
    {
     "name": "stdout",
     "output_type": "stream",
     "text": [
      "last updated: 2018-01-24 \n",
      "Git hash: 021a2dcaf7567ddd8f5066951463bc7b33ec1142\n"
     ]
    }
   ],
   "source": [
    "# Imports\n",
    "import os\n",
    "import sys\n",
    "from collections import defaultdict\n",
    "\n",
    "import numpy as np\n",
    "import pandas as pd\n",
    "\n",
    "import matplotlib as mpl\n",
    "import matplotlib.pyplot as plt\n",
    "import seaborn as sns\n",
    "from pysam import AlignmentFile\n",
    "\n",
    "# Project level imports\n",
    "sys.path.insert(0, '../lib')\n",
    "from larval_gonad.notebook import Nb\n",
    "\n",
    "# Setup notebook\n",
    "nbconfig = Nb.setup_notebook()\n",
    "\n",
    "# Turn on cache\n",
    "from joblib import Memory\n",
    "memory = Memory(cachedir=nbconfig.cache, verbose=0)\n"
   ]
  },
  {
   "cell_type": "code",
   "execution_count": 31,
   "metadata": {},
   "outputs": [],
   "source": [
    "cluster = pd.read_csv('../output/testes_scRNAseq_pilot/clusters.tsv', sep='\\t')\n",
    "lookup = cluster.ident.to_dict()"
   ]
  },
  {
   "cell_type": "code",
   "execution_count": 32,
   "metadata": {},
   "outputs": [],
   "source": [
    "CHROMS = ['2L', '2R', '3L', '3R', '4', 'X', 'Y', 'M']"
   ]
  },
  {
   "cell_type": "code",
   "execution_count": null,
   "metadata": {},
   "outputs": [],
   "source": [
    "dat = AlignmentFile('../output/testis1/outs/possorted_genome_bam.bam', 'rb')\n",
    "results = defaultdict(lambda : defaultdict(int))\n",
    "\n",
    "for read in dat.fetch():\n",
    "    if read.is_unmapped:\n",
    "        continue\n",
    "    \n",
    "    chrom = read.reference_name\n",
    "    if chrom not in CHROMS:\n",
    "        continue\n",
    "   \n",
    "    try:\n",
    "        cell = read.get_tag('CB').replace('-1', '')\n",
    "        clus = lookup[cell]\n",
    "        results[clus][chrom] += 1\n",
    "    except:\n",
    "        pass"
   ]
  },
  {
   "cell_type": "code",
   "execution_count": null,
   "metadata": {},
   "outputs": [
    {
     "data": {
      "text/plain": [
       "defaultdict(<function __main__.<lambda>>,\n",
       "            {0: defaultdict(int,\n",
       "                         {'2L': 907574,\n",
       "                          '2R': 1517804,\n",
       "                          '3L': 869925,\n",
       "                          '3R': 1163026,\n",
       "                          '4': 32361,\n",
       "                          'X': 1100369,\n",
       "                          'Y': 47014}),\n",
       "             1: defaultdict(int,\n",
       "                         {'2L': 1169937,\n",
       "                          '2R': 1654591,\n",
       "                          '3L': 1166611,\n",
       "                          '3R': 1530249,\n",
       "                          '4': 53786,\n",
       "                          'X': 1383970,\n",
       "                          'Y': 37817}),\n",
       "             2: defaultdict(int,\n",
       "                         {'2L': 581639,\n",
       "                          '2R': 762286,\n",
       "                          '3L': 533779,\n",
       "                          '3R': 733222,\n",
       "                          '4': 30676,\n",
       "                          'X': 712334,\n",
       "                          'Y': 34379}),\n",
       "             3: defaultdict(int,\n",
       "                         {'2L': 1065069,\n",
       "                          '2R': 1317426,\n",
       "                          '3L': 949071,\n",
       "                          '3R': 1271795,\n",
       "                          '4': 56021,\n",
       "                          'X': 911420,\n",
       "                          'Y': 82787}),\n",
       "             4: defaultdict(int,\n",
       "                         {'2L': 557208,\n",
       "                          '2R': 511958,\n",
       "                          '3L': 395541,\n",
       "                          '3R': 588930,\n",
       "                          '4': 9863,\n",
       "                          'X': 342473,\n",
       "                          'Y': 44007}),\n",
       "             5: defaultdict(int,\n",
       "                         {'2L': 583098,\n",
       "                          '2R': 658855,\n",
       "                          '3L': 539921,\n",
       "                          '3R': 639529,\n",
       "                          '4': 31148,\n",
       "                          'X': 624090,\n",
       "                          'Y': 27594}),\n",
       "             6: defaultdict(int,\n",
       "                         {'2L': 181675,\n",
       "                          '2R': 276381,\n",
       "                          '3L': 180757,\n",
       "                          '3R': 222020,\n",
       "                          '4': 7906,\n",
       "                          'X': 211303,\n",
       "                          'Y': 13254})})"
      ]
     },
     "execution_count": 46,
     "metadata": {},
     "output_type": "execute_result"
    }
   ],
   "source": [
    "results"
   ]
  },
  {
   "cell_type": "code",
   "execution_count": 47,
   "metadata": {},
   "outputs": [],
   "source": [
    "import pandas as pd"
   ]
  },
  {
   "cell_type": "code",
   "execution_count": 50,
   "metadata": {},
   "outputs": [],
   "source": [
    "df = pd.DataFrame(results)"
   ]
  },
  {
   "cell_type": "code",
   "execution_count": 53,
   "metadata": {},
   "outputs": [],
   "source": [
    "df.index.name = 'chrom'"
   ]
  },
  {
   "cell_type": "code",
   "execution_count": 54,
   "metadata": {},
   "outputs": [
    {
     "data": {
      "text/html": [
       "<div>\n",
       "<style scoped>\n",
       "    .dataframe tbody tr th:only-of-type {\n",
       "        vertical-align: middle;\n",
       "    }\n",
       "\n",
       "    .dataframe tbody tr th {\n",
       "        vertical-align: top;\n",
       "    }\n",
       "\n",
       "    .dataframe thead th {\n",
       "        text-align: right;\n",
       "    }\n",
       "</style>\n",
       "<table border=\"1\" class=\"dataframe\">\n",
       "  <thead>\n",
       "    <tr style=\"text-align: right;\">\n",
       "      <th></th>\n",
       "      <th>0</th>\n",
       "      <th>1</th>\n",
       "      <th>2</th>\n",
       "      <th>3</th>\n",
       "      <th>4</th>\n",
       "      <th>5</th>\n",
       "      <th>6</th>\n",
       "    </tr>\n",
       "    <tr>\n",
       "      <th>chrom</th>\n",
       "      <th></th>\n",
       "      <th></th>\n",
       "      <th></th>\n",
       "      <th></th>\n",
       "      <th></th>\n",
       "      <th></th>\n",
       "      <th></th>\n",
       "    </tr>\n",
       "  </thead>\n",
       "  <tbody>\n",
       "    <tr>\n",
       "      <th>2L</th>\n",
       "      <td>907574</td>\n",
       "      <td>1169937</td>\n",
       "      <td>581639</td>\n",
       "      <td>1065069</td>\n",
       "      <td>557208</td>\n",
       "      <td>583098</td>\n",
       "      <td>181675</td>\n",
       "    </tr>\n",
       "    <tr>\n",
       "      <th>2R</th>\n",
       "      <td>1517804</td>\n",
       "      <td>1654591</td>\n",
       "      <td>762286</td>\n",
       "      <td>1317426</td>\n",
       "      <td>511958</td>\n",
       "      <td>658855</td>\n",
       "      <td>276381</td>\n",
       "    </tr>\n",
       "    <tr>\n",
       "      <th>3L</th>\n",
       "      <td>869925</td>\n",
       "      <td>1166611</td>\n",
       "      <td>533779</td>\n",
       "      <td>949071</td>\n",
       "      <td>395541</td>\n",
       "      <td>539921</td>\n",
       "      <td>180757</td>\n",
       "    </tr>\n",
       "    <tr>\n",
       "      <th>3R</th>\n",
       "      <td>1163026</td>\n",
       "      <td>1530249</td>\n",
       "      <td>733222</td>\n",
       "      <td>1271795</td>\n",
       "      <td>588930</td>\n",
       "      <td>639529</td>\n",
       "      <td>222020</td>\n",
       "    </tr>\n",
       "    <tr>\n",
       "      <th>4</th>\n",
       "      <td>32361</td>\n",
       "      <td>53786</td>\n",
       "      <td>30676</td>\n",
       "      <td>56021</td>\n",
       "      <td>9863</td>\n",
       "      <td>31148</td>\n",
       "      <td>7906</td>\n",
       "    </tr>\n",
       "  </tbody>\n",
       "</table>\n",
       "</div>"
      ],
      "text/plain": [
       "             0        1       2        3       4       5       6\n",
       "chrom                                                           \n",
       "2L      907574  1169937  581639  1065069  557208  583098  181675\n",
       "2R     1517804  1654591  762286  1317426  511958  658855  276381\n",
       "3L      869925  1166611  533779   949071  395541  539921  180757\n",
       "3R     1163026  1530249  733222  1271795  588930  639529  222020\n",
       "4        32361    53786   30676    56021    9863   31148    7906"
      ]
     },
     "execution_count": 54,
     "metadata": {},
     "output_type": "execute_result"
    }
   ],
   "source": [
    "df.head()"
   ]
  },
  {
   "cell_type": "code",
   "execution_count": 59,
   "metadata": {},
   "outputs": [],
   "source": [
    "melted = df.reset_index().melt(id_vars='chrom')\n",
    "melted.columns = ['chrom', 'cluster', 'value']"
   ]
  },
  {
   "cell_type": "code",
   "execution_count": 60,
   "metadata": {},
   "outputs": [
    {
     "data": {
      "text/html": [
       "<div>\n",
       "<style scoped>\n",
       "    .dataframe tbody tr th:only-of-type {\n",
       "        vertical-align: middle;\n",
       "    }\n",
       "\n",
       "    .dataframe tbody tr th {\n",
       "        vertical-align: top;\n",
       "    }\n",
       "\n",
       "    .dataframe thead th {\n",
       "        text-align: right;\n",
       "    }\n",
       "</style>\n",
       "<table border=\"1\" class=\"dataframe\">\n",
       "  <thead>\n",
       "    <tr style=\"text-align: right;\">\n",
       "      <th></th>\n",
       "      <th>chrom</th>\n",
       "      <th>cluster</th>\n",
       "      <th>value</th>\n",
       "    </tr>\n",
       "  </thead>\n",
       "  <tbody>\n",
       "    <tr>\n",
       "      <th>0</th>\n",
       "      <td>2L</td>\n",
       "      <td>0</td>\n",
       "      <td>907574</td>\n",
       "    </tr>\n",
       "    <tr>\n",
       "      <th>1</th>\n",
       "      <td>2R</td>\n",
       "      <td>0</td>\n",
       "      <td>1517804</td>\n",
       "    </tr>\n",
       "    <tr>\n",
       "      <th>2</th>\n",
       "      <td>3L</td>\n",
       "      <td>0</td>\n",
       "      <td>869925</td>\n",
       "    </tr>\n",
       "    <tr>\n",
       "      <th>3</th>\n",
       "      <td>3R</td>\n",
       "      <td>0</td>\n",
       "      <td>1163026</td>\n",
       "    </tr>\n",
       "    <tr>\n",
       "      <th>4</th>\n",
       "      <td>4</td>\n",
       "      <td>0</td>\n",
       "      <td>32361</td>\n",
       "    </tr>\n",
       "  </tbody>\n",
       "</table>\n",
       "</div>"
      ],
      "text/plain": [
       "  chrom cluster    value\n",
       "0    2L       0   907574\n",
       "1    2R       0  1517804\n",
       "2    3L       0   869925\n",
       "3    3R       0  1163026\n",
       "4     4       0    32361"
      ]
     },
     "execution_count": 60,
     "metadata": {},
     "output_type": "execute_result"
    }
   ],
   "source": [
    "melted.head()"
   ]
  },
  {
   "cell_type": "code",
   "execution_count": 68,
   "metadata": {},
   "outputs": [
    {
     "data": {
      "image/png": "[encoded data removed]",
      "text/plain": [
       "<matplotlib.figure.Figure at 0x7f88ca0d30f0>"
      ]
     },
     "metadata": {},
     "output_type": "display_data"
    }
   ],
   "source": [
    "fig, ax = plt.subplots(1, 1, figsize=(10, 10))\n",
    "sns.barplot(x='cluster', y='value', hue='chrom', data=melted, ax=ax)\n",
    "ax.set_title('Number of Reads Aligned')\n",
    "ax.set_ylabel('Aligned Reads')\n",
    "ax.set_xlabel('Cluster');"
   ]
  },
  {
   "cell_type": "code",
   "execution_count": null,
   "metadata": {},
   "outputs": [],
   "source": []
  }
 ],
 "metadata": {
  "kernelspec": {
   "display_name": "Python [conda env:larval_gonad]",
   "language": "python",
   "name": "conda-env-larval_gonad-py"
  },
  "language_info": {
   "codemirror_mode": {
    "name": "ipython",
    "version": 3
   },
   "file_extension": ".py",
   "mimetype": "text/x-python",
   "name": "python",
   "nbconvert_exporter": "python",
   "pygments_lexer": "ipython3",
   "version": "3.6.3"
  }
 },
 "nbformat": 4,
 "nbformat_minor": 2
}
