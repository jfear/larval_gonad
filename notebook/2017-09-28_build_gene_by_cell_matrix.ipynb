{
 "cells": [
  {
   "cell_type": "markdown",
   "metadata": {},
   "source": [
    "Sharvani is trying to figure out what different cell types are present. There are a number of molecular markers that she knows separates germ cell and somatic cells. However, not all of these showed up in the tSNE clustering plots. To get a better understanding of this I am generating a counts matrix which has all of the genes (~17k) as columns and all of the cells (~500) as rows for ovary or testis. Numbers indicate the number of \"reads\" that aligned to that gene. This will allow Sharvani to look and make sure these genetic markers are present in the dataset."
   ]
  },
  {
   "cell_type": "code",
   "execution_count": 1,
   "metadata": {
    "code_folding": [
     0
    ]
   },
   "outputs": [
    {
     "name": "stdout",
     "output_type": "stream",
     "text": [
      "last updated: 2017-10-13 \n",
      "Git hash: bd535da7ac7a1f4ef3ccae2e7674b807d504a624\n"
     ]
    }
   ],
   "source": [
    "# %load ../start.py\n",
    "# Load useful extensions\n",
    "\n",
    "# Activate the autoreload extension for easy reloading of external packages\n",
    "%reload_ext autoreload\n",
    "%autoreload 2\n",
    "\n",
    "# Trun on the water mark\n",
    "%reload_ext watermark\n",
    "%watermark -u -d -g\n",
    "\n",
    "# Load ipycache extension\n",
    "%reload_ext ipycache\n",
    "from ipycache import CacheMagics\n",
    "CacheMagics.cachedir = '../cachedir'\n",
    "\n",
    "# The usual suspects\n",
    "import os\n",
    "import numpy as np\n",
    "import pandas as pd\n",
    "\n",
    "# plotting\n",
    "import matplotlib as mpl\n",
    "import matplotlib.pyplot as plt\n",
    "import seaborn as sns\n",
    "\n",
    "%matplotlib inline\n",
    "sns.set_context('poster')\n",
    "\n",
    "# Turn off scientific notation\n",
    "np.set_printoptions(precision=5, suppress=True)\n"
   ]
  },
  {
   "cell_type": "code",
   "execution_count": 2,
   "metadata": {
    "code_folding": [
     0
    ],
    "collapsed": true
   },
   "outputs": [],
   "source": [
    "# imports\n",
    "import csv\n",
    "import scipy.io"
   ]
  },
  {
   "cell_type": "code",
   "execution_count": 3,
   "metadata": {
    "code_folding": [
     0
    ],
    "collapsed": true
   },
   "outputs": [],
   "source": [
    "# build matrices for ovary and testis data\n",
    "ovary_dir = '../../output/ovary1/outs/filtered_gene_bc_matrices/dm6.16'\n",
    "testis_dir = '../../output/testis1/outs/filtered_gene_bc_matrices/dm6.16'\n",
    "\n",
    "symbols = pd.read_csv('/data/LCDB/lcdb-references/dmel/r6-16/fb_annotation/dmel_r6-16.fb_annotation', sep='\\t')\n",
    "symbols = symbols[['gene_symbol', 'primary_FBgn']].copy().set_index('primary_FBgn')\n",
    "\n",
    "def get_matrix(curr_dir, symbols):\n",
    "    # import data matrix in sparse format\n",
    "    mat = scipy.io.mmread(os.path.join(curr_dir, 'matrix.mtx'))\n",
    "\n",
    "    # import row names \"gene\"\n",
    "    genes_path = os.path.join(curr_dir, \"genes.tsv\")\n",
    "    gene_ids = [row[0] for row in csv.reader(open(genes_path), delimiter=\"\\t\")]\n",
    "    assert mat.shape[0] == len(gene_ids)\n",
    "\n",
    "    # import column names \"cell barcode\"\n",
    "    barcodes_path = os.path.join(curr_dir, \"barcodes.tsv\")\n",
    "    barcodes = [row[0] for row in csv.reader(open(barcodes_path), delimiter=\"\\t\")]\n",
    "    assert mat.shape[1] == len(barcodes)\n",
    "\n",
    "    # Make data frame\n",
    "    df = pd.DataFrame(mat.todense(), index=gene_ids, columns=barcodes)\n",
    "    assert df.shape == mat.shape\n",
    "\n",
    "    # merge on symbols and return\n",
    "    return df.join(symbols, how='left').set_index('gene_symbol', append=True)\n",
    "\n",
    "ovary = get_matrix(ovary_dir, symbols)\n",
    "testis = get_matrix(testis_dir, symbols)"
   ]
  },
  {
   "cell_type": "code",
   "execution_count": 4,
   "metadata": {
    "code_folding": [],
    "collapsed": true
   },
   "outputs": [],
   "source": [
    "# Write to tsv for use else where.\n",
    "ovary.to_csv('../../output/single_cell_matrix_ovary.tsv', sep='\\t')\n",
    "testis.to_csv('../../output/single_cell_matrix_testis.tsv', sep='\\t')"
   ]
  },
  {
   "cell_type": "code",
   "execution_count": 5,
   "metadata": {
    "code_folding": [
     0
    ],
    "collapsed": true
   },
   "outputs": [],
   "source": [
    "# linkify gene names for excel\n",
    "url = '=HYPERLINK(\"http://flybase.org/reports/{fbgn}.html\", \"{gene}\")'\n",
    "ovary.index = ovary.index.map(lambda x: url.format(fbgn=x[0], gene=x[1]))\n",
    "testis.index = testis.index.map(lambda x: url.format(fbgn=x[0], gene=x[1]))"
   ]
  },
  {
   "cell_type": "code",
   "execution_count": 6,
   "metadata": {
    "code_folding": [
     0
    ]
   },
   "outputs": [],
   "source": [
    "# Write out to an excel workbook for sharvani (this takes a while)\n",
    "writer = pd.ExcelWriter('../../output/single_cell_matrix.xlsx')\n",
    "ovary.T.to_excel(writer, sheet_name='ovary')\n",
    "testis.T.to_excel(writer, sheet_name='testis')\n",
    "writer.save()"
   ]
  }
 ],
 "metadata": {
  "kernelspec": {
   "display_name": "Python [conda env:larval_gonad]",
   "language": "python",
   "name": "conda-env-larval_gonad-py"
  },
  "language_info": {
   "codemirror_mode": {
    "name": "ipython",
    "version": 3
   },
   "file_extension": ".py",
   "mimetype": "text/x-python",
   "name": "python",
   "nbconvert_exporter": "python",
   "pygments_lexer": "ipython3",
   "version": "3.5.4"
  },
  "toc": {
   "colors": {
    "hover_highlight": "#DAA520",
    "navigate_num": "#000000",
    "navigate_text": "#333333",
    "running_highlight": "#FF0000",
    "selected_highlight": "#FFD700",
    "sidebar_border": "#EEEEEE",
    "wrapper_background": "#FFFFFF"
   },
   "moveMenuLeft": true,
   "nav_menu": {},
   "navigate_menu": true,
   "number_sections": true,
   "sideBar": true,
   "skip_h1_title": false,
   "threshold": 4,
   "toc_cell": false,
   "toc_position": {},
   "toc_section_display": "block",
   "toc_window_display": false,
   "widenNotebook": false
  }
 },
 "nbformat": 4,
 "nbformat_minor": 2
}
