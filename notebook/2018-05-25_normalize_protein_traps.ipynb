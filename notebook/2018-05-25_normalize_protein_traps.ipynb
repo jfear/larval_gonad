{
 "cells": [
  {
   "cell_type": "code",
   "execution_count": 2,
   "metadata": {},
   "outputs": [
    {
     "name": "stdout",
     "output_type": "stream",
     "text": [
      "last updated: 2018-05-25 \n",
      "Git hash: 24b182aaa815d8f51fa4b4951938165d63af42e6\n"
     ]
    }
   ],
   "source": [
    "import os\n",
    "import sys\n",
    "from pathlib import Path\n",
    "\n",
    "from IPython.display import display, HTML, Markdown\n",
    "import numpy as np\n",
    "import pandas as pd\n",
    "\n",
    "import matplotlib as mpl\n",
    "import matplotlib.pyplot as plt\n",
    "import seaborn as sns\n",
    "\n",
    "# Project level imports\n",
    "sys.path.insert(0, '../lib')\n",
    "from larval_gonad.notebook import Nb\n",
    "from larval_gonad.plotting import make_figs\n",
    "from larval_gonad.config import memory\n",
    "\n",
    "# Setup notebook\n",
    "nbconfig = Nb.setup_notebook()"
   ]
  },
  {
   "cell_type": "code",
   "execution_count": 3,
   "metadata": {},
   "outputs": [],
   "source": [
    "def check_genes(genes):\n",
    "    for g in genes:\n",
    "        try:\n",
    "            nbconfig.symbol2fbgn[g]\n",
    "        except KeyError:\n",
    "            print(g)"
   ]
  },
  {
   "cell_type": "code",
   "execution_count": 4,
   "metadata": {},
   "outputs": [],
   "source": [
    "genes = [\n",
    "    'ADD1',\n",
    "    'Ance',\n",
    "    'CG11044',\n",
    "    'CG17349',\n",
    "    'CG17646',\n",
    "    'CG3277',\n",
    "    'CG42321',\n",
    "    'CG43088',\n",
    "    'CG43373',\n",
    "    'CG6356',\n",
    "    'CG8036',\n",
    "    'CG8851',\n",
    "    'CG9747',\n",
    "    'CadN',\n",
    "    'DIP-delta',\n",
    "    'Dek',\n",
    "    'Efa6',\n",
    "    'Fas3',\n",
    "    'Fs(2)Ket',\n",
    "    'ImpL2',\n",
    "    'LRP1',\n",
    "    'Mapmodulin',\n",
    "    'Mi-2',\n",
    "    'NFAT',\n",
    "    'NetA',\n",
    "    'Nrg',\n",
    "    'Pdcd4',\n",
    "    'Pde11',\n",
    "    'Piezo',\n",
    "    'Ptp4E',\n",
    "    'Pvr',\n",
    "    'Rab3',\n",
    "    'Reck',\n",
    "    'SRPK',\n",
    "    'Sap-r',\n",
    "    'Sox102F',\n",
    "    'Ten-a',\n",
    "    'Ten-m',\n",
    "    'Tep2',\n",
    "    'Vha68-3',\n",
    "    'Wdr62',\n",
    "    'bbg',\n",
    "    'bol',\n",
    "    'cindr',\n",
    "    'dlp',\n",
    "    'dpr17',\n",
    "    'dpr3',\n",
    "    'dsx',\n",
    "    'e(y)3',\n",
    "    'eIF5B',\n",
    "    'egr',\n",
    "    'foxo',\n",
    "    'fru',\n",
    "    'hid',\n",
    "    'klu',\n",
    "    'mbl',\n",
    "    'nkd',\n",
    "    'nord',\n",
    "    'osa',\n",
    "    'p130CAS',\n",
    "    'p53',\n",
    "    'ppan',\n",
    "    'sdk',\n",
    "    'spir',\n",
    "    'stai',\n",
    "    'stg',\n",
    "    'svp',\n",
    "    'tok',\n",
    "    'tutl',\n",
    "    'twin',\n",
    "    'wnd',\n",
    "]"
   ]
  },
  {
   "cell_type": "code",
   "execution_count": 5,
   "metadata": {},
   "outputs": [],
   "source": [
    "check_genes(genes)"
   ]
  },
  {
   "cell_type": "code",
   "execution_count": null,
   "metadata": {},
   "outputs": [],
   "source": []
  }
 ],
 "metadata": {
  "kernelspec": {
   "display_name": "Python [conda env:larval_gonad]",
   "language": "python",
   "name": "conda-env-larval_gonad-py"
  },
  "language_info": {
   "codemirror_mode": {
    "name": "ipython",
    "version": 3
   },
   "file_extension": ".py",
   "mimetype": "text/x-python",
   "name": "python",
   "nbconvert_exporter": "python",
   "pygments_lexer": "ipython3",
   "version": "3.6.3"
  }
 },
 "nbformat": 4,
 "nbformat_minor": 2
}
