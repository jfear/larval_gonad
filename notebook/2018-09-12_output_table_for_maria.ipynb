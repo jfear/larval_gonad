{
 "cells": [
  {
   "cell_type": "markdown",
   "metadata": {},
   "source": [
    "# Output table for Maria"
   ]
  },
  {
   "cell_type": "markdown",
   "metadata": {},
   "source": [
    "Maria wants me to output a table of the raw counts for her husband to look at."
   ]
  },
  {
   "cell_type": "code",
   "execution_count": 1,
   "metadata": {},
   "outputs": [],
   "source": [
    "import os\n",
    "import sys\n",
    "import re\n",
    "from pathlib import Path\n",
    "\n",
    "from IPython.display import display, HTML, Markdown\n",
    "import numpy as np\n",
    "import pandas as pd\n",
    "\n",
    "import matplotlib as mpl\n",
    "import matplotlib.pyplot as plt\n",
    "import seaborn as sns\n",
    "\n",
    "# Project level imports\n",
    "from larval_gonad.notebook import Nb"
   ]
  },
  {
   "cell_type": "code",
   "execution_count": 2,
   "metadata": {},
   "outputs": [
    {
     "name": "stdout",
     "output_type": "stream",
     "text": [
      "last updated: 2018-09-13 \n",
      "Git hash: 42b50b2bae7773307f49194899ffbeb2475982b9\n"
     ]
    }
   ],
   "source": [
    "# Setup notebook\n",
    "nbconfig = Nb.setup_notebook(seurat_dir='../output/scrnaseq-wf/scrnaseq_combine_force')"
   ]
  },
  {
   "cell_type": "code",
   "execution_count": 3,
   "metadata": {},
   "outputs": [],
   "source": [
    "# get raw counts table\n",
    "raw = nbconfig.seurat.get_raw()\n",
    "\n",
    "# get cluster info\n",
    "clusters = nbconfig.seurat.get_clusters('res.0.6')\n",
    "clusters = clusters.map(nbconfig.cluster_annot)\n",
    "\n",
    "# merge together\n",
    "raw_w_meta = raw.T.join(clusters)"
   ]
  },
  {
   "cell_type": "code",
   "execution_count": 4,
   "metadata": {},
   "outputs": [],
   "source": [
    "# pull out gonia and early\n",
    "gonia = raw_w_meta.query('cluster == \"Spermatogonia\"').drop('cluster', axis=1).T\n",
    "gonia.sort_index(axis=1, inplace=True)\n",
    "gonia.index.name = 'FBgn'\n",
    "\n",
    "early = raw_w_meta.query('cluster == \"Early 1º Spermatocytes\"').drop('cluster', axis=1).T\n",
    "early.sort_index(axis=1, inplace=True)\n",
    "early.index.name = 'FBgn'"
   ]
  },
  {
   "cell_type": "code",
   "execution_count": 48,
   "metadata": {},
   "outputs": [],
   "source": [
    "# export the data\n",
    "gonia.to_csv('../output/2018-09-12_output_table_for_maria_gonia.csv.gz', compression='gzip')\n",
    "early.to_csv('../output/2018-09-12_output_table_for_maria_early_spermatocyte.csv.gz', compression='gzip')"
   ]
  },
  {
   "cell_type": "markdown",
   "metadata": {},
   "source": [
    "## Maria asked for chromosomal locations"
   ]
  },
  {
   "cell_type": "markdown",
   "metadata": {},
   "source": [
    "Maria responded with an email and asked if I could resend the files but with chromosomal locations."
   ]
  },
  {
   "cell_type": "code",
   "execution_count": 11,
   "metadata": {},
   "outputs": [],
   "source": [
    "# import locs and munge on\n",
    "locs = pd.read_parquet('../output/paper_submission/gene_locations.parquet', columns=['chrom', 'pos'])\n",
    "gonia_w_locs = gonia.join(locs).set_index(['chrom', 'pos'], append=True)\n",
    "early_w_locs = early.join(locs).set_index(['chrom', 'pos'], append=True)"
   ]
  },
  {
   "cell_type": "code",
   "execution_count": 17,
   "metadata": {},
   "outputs": [],
   "source": [
    "# export the data\n",
    "gonia_w_locs.to_csv('../output/2018-09-13_output_table_for_maria_gonia_w_locs.csv.gz', compression='gzip')\n",
    "early_w_locs.to_csv('../output/2018-09-13_output_table_for_maria_early_spermatocyte_w_locs.csv.gz', compression='gzip')"
   ]
  },
  {
   "cell_type": "code",
   "execution_count": null,
   "metadata": {},
   "outputs": [],
   "source": []
  }
 ],
 "metadata": {
  "kernelspec": {
   "display_name": "Python [conda env:larval_gonad]",
   "language": "python",
   "name": "conda-env-larval_gonad-py"
  },
  "language_info": {
   "codemirror_mode": {
    "name": "ipython",
    "version": 3
   },
   "file_extension": ".py",
   "mimetype": "text/x-python",
   "name": "python",
   "nbconvert_exporter": "python",
   "pygments_lexer": "ipython3",
   "version": "3.6.3"
  }
 },
 "nbformat": 4,
 "nbformat_minor": 2
}
