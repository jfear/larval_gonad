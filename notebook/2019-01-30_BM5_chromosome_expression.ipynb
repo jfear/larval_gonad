{
 "cells": [
  {
   "cell_type": "markdown",
   "metadata": {},
   "source": [
    "# BM5 Chromosome Expression"
   ]
  },
  {
   "cell_type": "markdown",
   "metadata": {},
   "source": [
    "In this project we hypothesize that the X chromosome is getting silenced prior to the autosomes. Sharvani performed a translocation experiment where she has swapped part of the X with the 2.\n",
    "\n",
    "**Do we see an increase in X expression and a decrease in 2 expression in the translocation lines?**\n",
    "\n",
    "BM5 is a sterile translocation, so we expect that the break point is near the centromere causing movement of a large chunk of the chromosome. We also have the irratiated parental stock for use as a control."
   ]
  },
  {
   "cell_type": "code",
   "execution_count": null,
   "metadata": {},
   "outputs": [],
   "source": [
    "import os\n",
    "import sys\n",
    "import re\n",
    "from pathlib import Path\n",
    "\n",
    "from IPython.display import display, HTML, Markdown\n",
    "import numpy as np\n",
    "import pandas as pd\n",
    "\n",
    "import matplotlib as mpl\n",
    "import matplotlib.pyplot as plt\n",
    "import seaborn as sns\n",
    "\n",
    "# Project level imports\n",
    "from larval_gonad.notebook import Nb"
   ]
  },
  {
   "cell_type": "code",
   "execution_count": null,
   "metadata": {
    "lines_to_next_cell": 1
   },
   "outputs": [],
   "source": [
    "# Setup notebook\n",
    "nbconfig = Nb.setup_notebook(seurat_dir='../output/translocations-wf/translocation_BM5_force')\n",
    "\n",
    "# Modify nbconfig with the BM5's annotations\n",
    "nbconfig.short_cluster_annot = {\n",
    "    0: 'LC',\n",
    "    1: 'SP',\n",
    "    2: 'EC',\n",
    "    3: 'LS',\n",
    "    4: 'TE',\n",
    "    5: 'SP',\n",
    "    6: 'SP',\n",
    "    7: 'MS',\n",
    "    8: 'PC',\n",
    "    9: 'ES',\n",
    "    10: 'PC',\n",
    "}\n",
    "\n",
    "nbconfig.short_cluster_order = [\n",
    "    'SP',\n",
    "    'ES',\n",
    "    'MS',\n",
    "    'LS',\n",
    "    'EC',\n",
    "    'LC',\n",
    "    'TE',\n",
    "    'PC',\n",
    "]\n",
    "\n",
    "nbconfig.colors['clusters'] = [\n",
    "    # Germline\n",
    "    (0.6943944636678201, 0.07003460207612457, 0.09231833910034601),\n",
    "    (0.8901960784313725, 0.18562091503267975, 0.15294117647058825),\n",
    "    (0.9843752402921953, 0.4181468665897732, 0.2926566705113418),\n",
    "    (0.9935870818915802, 0.8323414071510957, 0.7624913494809689),\n",
    "    # soma\n",
    "    (0.06251441753171857, 0.35750865051903113, 0.6429065743944637),\n",
    "    (0.42274509803921567, 0.684075355632449, 0.8398923490965013),\n",
    "    (0.41568627450980394, 0.23921568627450981, 0.6039215686274509),\n",
    "    (0.6941176470588235, 0.34901960784313724, 0.1568627450980392),\n",
    "]"
   ]
  },
  {
   "cell_type": "code",
   "execution_count": null,
   "metadata": {
    "lines_to_next_cell": 1
   },
   "outputs": [],
   "source": [
    "def read_fbgn2chrom():\n",
    "    mapper = {\n",
    "        'chrX': 'X',\n",
    "        'chrY': 'Y',\n",
    "        'chr4': '4',\n",
    "        'chr2L': '2L',\n",
    "        'chr2R': '2R',\n",
    "        'chr3L': '3L',\n",
    "        'chr3R': '3R',\n",
    "    }\n",
    "\n",
    "    fbgn2chrom = (pd.read_csv('../output/fbgn2chrom.tsv', sep='\\t', index_col=0)\n",
    "                      .query('chrom != \"chrM\"')\n",
    "                      .chrom.map(mapper)\n",
    "                      .astype('category')\n",
    "                      .cat.as_ordered()\n",
    "                 )\n",
    "    \n",
    "    return fbgn2chrom.cat.reorder_categories(['X', '2L', '2R', '3L', '3R', 'Y', '4'])\n",
    "\n",
    "\n",
    "def read_clusters():\n",
    "    clusters = nbconfig.seurat.get_clusters('res.0.6').map(nbconfig.short_cluster_annot)\n",
    "    clusters = clusters[clusters != 'UNK'].copy()\n",
    "    return clusters.astype('category').cat.as_ordered().cat.reorder_categories(nbconfig.short_cluster_order)\n",
    "\n",
    "def read_data(rep2=False, tpm=False):\n",
    "    fbgn2chrom = read_fbgn2chrom()\n",
    "    clusters = read_clusters()\n",
    "    data = nbconfig.seurat.get_raw()\n",
    "    value_name = 'UMI'\n",
    "    \n",
    "    # Munge together\n",
    "    melted = data.reset_index().melt(id_vars='FBgn', value_name=value_name)\n",
    "    return melted.join(clusters, on='cell_id').join(fbgn2chrom, on='FBgn')"
   ]
  },
  {
   "cell_type": "code",
   "execution_count": null,
   "metadata": {},
   "outputs": [],
   "source": [
    "df = read_data()\n",
    "df['missing'] = (df.UMI == 0).values"
   ]
  },
  {
   "cell_type": "code",
   "execution_count": null,
   "metadata": {},
   "outputs": [],
   "source": [
    "fbgn2chrom = read_fbgn2chrom()\n",
    "fbgn2chrom = fbgn2chrom.reindex(df.FBgn.unique())\n",
    "num_genes_by_chrom = fbgn2chrom.value_counts()"
   ]
  },
  {
   "cell_type": "code",
   "execution_count": null,
   "metadata": {},
   "outputs": [],
   "source": [
    "total_reads_per_chrom_by_cell = df.groupby(['cell_id', 'chrom']).UMI.sum()\n",
    "total_reads_per_cell = df.groupby(['cell_id']).UMI.sum()"
   ]
  },
  {
   "cell_type": "code",
   "execution_count": null,
   "metadata": {},
   "outputs": [],
   "source": [
    "norm_cnts = (\n",
    "    total_reads_per_chrom_by_cell\n",
    "        .div(num_genes_by_chrom / 1e3, level='chrom')\n",
    "        .div(total_reads_per_cell / 1e3, level='cell_id')\n",
    "        .to_frame()\n",
    ")\n",
    "norm_cnts.columns = ['norm_cnt']\n",
    "\n",
    "norm_cnts = (\n",
    "    norm_cnts\n",
    "        .join(read_clusters(), on='cell_id')\n",
    "        .reset_index()\n",
    ")\n",
    "norm_cnts = norm_cnts.join(norm_cnts.cell_id.str.extract('(?P<rep>rep\\d)'))\n",
    "\n",
    "norm_cnts.chrom = (\n",
    "    norm_cnts.chrom\n",
    "        .astype('category')\n",
    "        .cat.as_ordered()\n",
    "        .cat.reorder_categories(['X', '2L', '2R', '3L', '3R', 'Y', '4'])\n",
    ")"
   ]
  },
  {
   "cell_type": "code",
   "execution_count": null,
   "metadata": {},
   "outputs": [],
   "source": [
    "norm_cnts = norm_cnts.query('chrom == [\"X\", \"2L\", \"2R\"]').copy()\n",
    "norm_cnts.chrom = norm_cnts.chrom.cat.remove_unused_categories()"
   ]
  },
  {
   "cell_type": "code",
   "execution_count": null,
   "metadata": {},
   "outputs": [],
   "source": [
    "g = sns.FacetGrid(norm_cnts, row='chrom', sharey=False, aspect=1.2)\n",
    "g.map(\n",
    "    sns.barplot, \n",
    "    'cluster', \n",
    "    'norm_cnt', \n",
    "    order=nbconfig.short_cluster_order, \n",
    "    palette=nbconfig.colors['clusters'],\n",
    "    estimator=np.mean,\n",
    "    errwidth=1,\n",
    "    capsize=.2\n",
    ")\n",
    "g.fig.suptitle('BM5', fontsize=10);"
   ]
  },
  {
   "cell_type": "code",
   "execution_count": null,
   "metadata": {
    "lines_to_next_cell": 3
   },
   "outputs": [],
   "source": []
  }
 ],
 "metadata": {
  "kernelspec": {
   "display_name": "Python [conda env:larval_gonad]",
   "language": "python",
   "name": "conda-env-larval_gonad-py"
  }
 },
 "nbformat": 4,
 "nbformat_minor": 2
}
