{
 "cells": [
  {
   "cell_type": "markdown",
   "metadata": {},
   "source": [
    "# Missingness by Chromosome Arm"
   ]
  },
  {
   "cell_type": "markdown",
   "metadata": {},
   "source": [
    "Missingness is still a major concern. Cameron's purposed permutation appears to be working, but we want to verify that missingness is not driving these differences. "
   ]
  },
  {
   "cell_type": "code",
   "execution_count": null,
   "metadata": {},
   "outputs": [],
   "source": [
    "import os\n",
    "import sys\n",
    "import re\n",
    "from pathlib import Path\n",
    "\n",
    "from IPython.display import display, HTML, Markdown\n",
    "import numpy as np\n",
    "import pandas as pd\n",
    "import statsmodels.api as sm\n",
    "import statsmodels.formula.api as smf\n",
    "\n",
    "import matplotlib as mpl\n",
    "import matplotlib.pyplot as plt\n",
    "import seaborn as sns\n",
    "\n",
    "# Project level imports\n",
    "from larval_gonad.notebook import Nb"
   ]
  },
  {
   "cell_type": "code",
   "execution_count": null,
   "metadata": {},
   "outputs": [],
   "source": [
    "# Setup notebook\n",
    "nbconfig = Nb.setup_notebook(seurat_dir='../output/scrnaseq-wf/scrnaseq_combine_force')"
   ]
  },
  {
   "cell_type": "markdown",
   "metadata": {},
   "source": [
    "## Create a list of FBgns by chromosome\n",
    "\n",
    "1. Pull out the major autosomes and X.\n",
    "2. Relabel autosomes as A to simplify things"
   ]
  },
  {
   "cell_type": "code",
   "execution_count": null,
   "metadata": {},
   "outputs": [],
   "source": [
    "# Create mapping of FBgn to X or A linked genes\n",
    "autosomes = ['chr2L', 'chr2R', 'chr3L', 'chr3R']\n",
    "\n",
    "fbgn2chrom = nbconfig.fbgn2chrom[nbconfig.fbgn2chrom.chrom.isin(autosomes + ['chrX'])].copy()\n",
    "fbgn2chrom = fbgn2chrom.chrom.map(dict(chr2L='A', chr2R='A', chr3L='A', chr3R='A', chrX='X'))\n",
    "fbgn2chrom.value_counts().map(lambda x: f'{x:,}')"
   ]
  },
  {
   "cell_type": "markdown",
   "metadata": {},
   "source": [
    "## Read in raw coverage counts for replicate 2"
   ]
  },
  {
   "cell_type": "code",
   "execution_count": null,
   "metadata": {},
   "outputs": [],
   "source": [
    "# read rep 2 raw data.\n",
    "raw = pd.read_csv('../output/scrnaseq-wf/scrnaseq_rep2_force/raw.tsv', sep='\\t', index_col=0)\n",
    "raw.index.name = 'FBgn'\n",
    "raw.columns.name = 'cell_id'"
   ]
  },
  {
   "cell_type": "code",
   "execution_count": null,
   "metadata": {},
   "outputs": [],
   "source": [
    "# Get list of cells in clusters\n",
    "clusters = nbconfig.seurat.get_clusters('res.0.6').map(nbconfig.short_cluster_annot)\n",
    "clusters = clusters[clusters != 'UNK'].copy()\n",
    "clusters = clusters.astype('category').cat.as_ordered().cat.reorder_categories(nbconfig.short_cluster_order)\n",
    "clusters.index.name = 'cell_id'"
   ]
  },
  {
   "cell_type": "code",
   "execution_count": null,
   "metadata": {
    "lines_to_next_cell": 1
   },
   "outputs": [],
   "source": [
    "# only keep cells that actually are assigned to a cluster\n",
    "raw = raw.reindex(columns=[x for x in clusters.index if x.startswith('rep2')]).copy()\n",
    "raw_w_chrom = raw.join(fbgn2chrom, how='left')\n",
    "\n",
    "# melt and munge\n",
    "raw_melted = raw_w_chrom.reset_index().melt(id_vars=['FBgn', 'chrom'], value_name='UMI', var_name='cell_id').set_index('FBgn')"
   ]
  },
  {
   "cell_type": "markdown",
   "metadata": {},
   "source": [
    "## Calculate proportion of missingness of X and A"
   ]
  },
  {
   "cell_type": "markdown",
   "metadata": {},
   "source": [
    "I consider all 0's as missing and simply calculate the proportion of 0's to total number of reads."
   ]
  },
  {
   "cell_type": "code",
   "execution_count": null,
   "metadata": {
    "lines_to_next_cell": 1
   },
   "outputs": [],
   "source": [
    "def get_prop_missing(df):\n",
    "    x = df.query('chrom == \"X\"')\n",
    "    x_genes = x.shape[0]\n",
    "    x_missing = (x.UMI == 0).sum()\n",
    "    x_prop_missing = x_missing / x_genes\n",
    "    \n",
    "    a = df.query('chrom == \"A\"')\n",
    "    a_genes = a.shape[0]\n",
    "    a_missing = (a.UMI == 0).sum()\n",
    "    a_prop_missing = a_missing / a_genes\n",
    "    \n",
    "    return pd.Series([x_prop_missing, a_prop_missing], index=['x_prop_missing', 'a_prop_missing'])"
   ]
  },
  {
   "cell_type": "code",
   "execution_count": null,
   "metadata": {},
   "outputs": [],
   "source": [
    "# Calculate the proporiton missing by X or A\n",
    "prop_missing = raw_melted.groupby('cell_id').apply(get_prop_missing)"
   ]
  },
  {
   "cell_type": "code",
   "execution_count": null,
   "metadata": {},
   "outputs": [],
   "source": [
    "ax = prop_missing.plot(kind='kde')\n",
    "ax.set_xlabel('Proportion Missing')\n",
    "plt.title('Distribution of Proportion Missing');"
   ]
  },
  {
   "cell_type": "markdown",
   "metadata": {},
   "source": [
    "## Missingness by cell type."
   ]
  },
  {
   "cell_type": "markdown",
   "metadata": {},
   "source": [
    "Next I take these cell cell missing counts and look at how they are distributed y cell type."
   ]
  },
  {
   "cell_type": "code",
   "execution_count": null,
   "metadata": {},
   "outputs": [],
   "source": [
    "# look at proportion missing by cell type\n",
    "prop_missing_w_clusters = prop_missing.join(clusters)\n",
    "\n",
    "g = sns.FacetGrid(prop_missing_w_clusters, col='cluster', col_wrap=4)\n",
    "g.map(sns.kdeplot, 'x_prop_missing', label='X')\n",
    "g.map(sns.kdeplot, 'a_prop_missing', color='r', label='A')\n",
    "g.axes[3].legend(loc=[1, 0.5])\n",
    "g.set_xlabels('Proportion Missing')\n",
    "plt.suptitle('Distribution of the Proportion of Missing by Cluster', va='bottom');"
   ]
  },
  {
   "cell_type": "markdown",
   "metadata": {},
   "source": [
    "## Logistic regression to see if your flag depeleted is driven by the missingness"
   ]
  },
  {
   "cell_type": "markdown",
   "metadata": {},
   "source": [
    "Next I run a logistic regression comparing our flag for depleted X expression with our missingness measures."
   ]
  },
  {
   "cell_type": "code",
   "execution_count": null,
   "metadata": {},
   "outputs": [],
   "source": [
    "# read in flag_depleted calls and merge on\n",
    "flag_depleted = pd.read_csv('../output/notebook/2019-01-17_prototype_cell_type_permutation_test.csv', index_col=0).flag_depleted.astype(int)\n",
    "df = prop_missing_w_clusters.join(flag_depleted)"
   ]
  },
  {
   "cell_type": "code",
   "execution_count": null,
   "metadata": {},
   "outputs": [],
   "source": [
    "df.head()"
   ]
  },
  {
   "cell_type": "code",
   "execution_count": null,
   "metadata": {},
   "outputs": [],
   "source": [
    "# Simple model looking at just missingness.\n",
    "result1 = smf.logit('flag_depleted ~ x_prop_missing + a_prop_missing', data = df).fit()\n",
    "result1.summary2()"
   ]
  },
  {
   "cell_type": "code",
   "execution_count": null,
   "metadata": {},
   "outputs": [],
   "source": [
    "fig = plt.figure(figsize=(10, 10))\n",
    "sm.graphics.plot_partregress_grid(result1, fig=fig);"
   ]
  },
  {
   "cell_type": "code",
   "execution_count": null,
   "metadata": {},
   "outputs": [],
   "source": [
    "# Model adding in cluster identity\n",
    "result2 = smf.logit('flag_depleted ~ x_prop_missing + a_prop_missing + cluster', data = df).fit()\n",
    "result2.summary2()"
   ]
  },
  {
   "cell_type": "code",
   "execution_count": null,
   "metadata": {},
   "outputs": [],
   "source": [
    "fig = plt.figure(figsize=(10, 20))\n",
    "sm.graphics.plot_partregress_grid(result2, fig=fig);"
   ]
  },
  {
   "cell_type": "code",
   "execution_count": null,
   "metadata": {},
   "outputs": [],
   "source": [
    "# complex model adding interaction terms\n",
    "result3 = smf.logit('flag_depleted ~ x_prop_missing*cluster + a_prop_missing*cluster', data = df).fit()\n",
    "result3.summary2()"
   ]
  },
  {
   "cell_type": "code",
   "execution_count": null,
   "metadata": {},
   "outputs": [],
   "source": [
    "# complex model adding interaction terms\n",
    "result4 = smf.logit('flag_depleted ~ x_prop_missing/cluster + a_prop_missing/cluster', data = df).fit()\n",
    "result4.summary2()"
   ]
  },
  {
   "cell_type": "code",
   "execution_count": null,
   "metadata": {},
   "outputs": [],
   "source": [
    "tbl = result4.summary2()\n",
    "_tbl = tbl.tables[1]\n",
    "_tbl[_tbl[f'P>|z|'] < 0.05]"
   ]
  },
  {
   "cell_type": "code",
   "execution_count": null,
   "metadata": {},
   "outputs": [],
   "source": [
    "fig = plt.figure(figsize=(10, 40))\n",
    "sm.graphics.plot_partregress_grid(result4, fig=fig);"
   ]
  },
  {
   "cell_type": "code",
   "execution_count": null,
   "metadata": {
    "lines_to_next_cell": 2
   },
   "outputs": [],
   "source": []
  },
  {
   "cell_type": "code",
   "execution_count": null,
   "metadata": {},
   "outputs": [],
   "source": [
    "dat = df.query('cluster == \"ES\"')\n",
    "fig, [(ax1, ax2), (ax3, ax4)] = plt.subplots(2, 2, figsize=plt.figaspect(1/2), sharey=True)\n",
    "ax1.scatter(dat['x_prop_missing'], dat['flag_depleted'] + np.random.normal(scale=.05, size=dat.shape[0]))\n",
    "ax1.set_ylabel('Flag Depleted')\n",
    "ax1.set_xlabel('Prop X Missing')\n",
    "\n",
    "ax2.scatter(dat['a_prop_missing'], dat['flag_depleted'] + np.random.normal(scale=.05, size=dat.shape[0]))\n",
    "ax2.set_xlabel('Prop A Missing')\n",
    "\n",
    "ax3.scatter(dat['x_prop_missing'], dat['a_prop_missing'])"
   ]
  },
  {
   "cell_type": "code",
   "execution_count": null,
   "metadata": {},
   "outputs": [],
   "source": [
    "g = sns.FacetGrid(df, col='cluster', col_wrap=4, hue='flag_depleted')\n",
    "g.map(sns.regplot, 'x_prop_missing', 'a_prop_missing', fit_reg=False, scatter_kws=dict(alpha=.3))\n",
    "g.axes[3].legend(title='flag_depleted', loc=[1, 0.5])"
   ]
  },
  {
   "cell_type": "code",
   "execution_count": null,
   "metadata": {},
   "outputs": [],
   "source": [
    "df['diff'] = df['x_prop_missing'] - df['a_prop_missing']"
   ]
  },
  {
   "cell_type": "code",
   "execution_count": null,
   "metadata": {},
   "outputs": [],
   "source": [
    "results5 = smf.logit('flag_depleted ~ diff/cluster', data=df).fit()\n",
    "results5.summary2()"
   ]
  },
  {
   "cell_type": "code",
   "execution_count": null,
   "metadata": {
    "lines_to_next_cell": 2
   },
   "outputs": [],
   "source": []
  },
  {
   "cell_type": "code",
   "execution_count": null,
   "metadata": {
    "lines_to_next_cell": 2
   },
   "outputs": [],
   "source": []
  },
  {
   "cell_type": "code",
   "execution_count": null,
   "metadata": {
    "lines_to_next_cell": 2
   },
   "outputs": [],
   "source": []
  },
  {
   "cell_type": "code",
   "execution_count": null,
   "metadata": {
    "lines_to_next_cell": 2
   },
   "outputs": [],
   "source": []
  }
 ],
 "metadata": {
  "kernelspec": {
   "display_name": "Python [conda env:larval_gonad]",
   "language": "python",
   "name": "conda-env-larval_gonad-py"
  }
 },
 "nbformat": 4,
 "nbformat_minor": 2
}
