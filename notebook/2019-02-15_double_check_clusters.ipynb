{
 "cells": [
  {
   "cell_type": "markdown",
   "metadata": {},
   "source": [
    "# Double Check Clustering"
   ]
  },
  {
   "cell_type": "markdown",
   "metadata": {},
   "source": [
    "I am still troubled by LS cluster. I just want to do some sanity checks."
   ]
  },
  {
   "cell_type": "code",
   "execution_count": null,
   "metadata": {},
   "outputs": [],
   "source": [
    "import os\n",
    "import sys\n",
    "import re\n",
    "from pathlib import Path\n",
    "from itertools import combinations\n",
    "\n",
    "from IPython.display import display, HTML, Markdown\n",
    "import numpy as np\n",
    "import pandas as pd\n",
    "\n",
    "import matplotlib as mpl\n",
    "import matplotlib.pyplot as plt\n",
    "import seaborn as sns\n",
    "\n",
    "# Project level imports\n",
    "from larval_gonad.notebook import Nb"
   ]
  },
  {
   "cell_type": "code",
   "execution_count": null,
   "metadata": {},
   "outputs": [],
   "source": [
    "# Setup notebook\n",
    "nbconfig = Nb.setup_notebook(seurat_dir='../output/scrnaseq-wf/scrnaseq_combine_force')"
   ]
  },
  {
   "cell_type": "code",
   "execution_count": null,
   "metadata": {},
   "outputs": [],
   "source": [
    "clusters = (\n",
    "    nbconfig.seurat.get_clusters('res.0.6')\n",
    "    .map(nbconfig.short_cluster_annot)\n",
    "    .pipe(lambda x: x[x != 'UNK'])\n",
    "    .astype('category')\n",
    "    .cat.as_ordered()\n",
    "    .cat.reorder_categories(nbconfig.short_cluster_order)\n",
    "    .rename_axis('cell_id')\n",
    ")"
   ]
  },
  {
   "cell_type": "code",
   "execution_count": null,
   "metadata": {},
   "outputs": [],
   "source": [
    "raw = nbconfig.seurat.get_raw()"
   ]
  },
  {
   "cell_type": "code",
   "execution_count": null,
   "metadata": {},
   "outputs": [],
   "source": [
    "umi_by_cell = (\n",
    "    raw.sum()\n",
    "    .rename('UMI')\n",
    ")"
   ]
  },
  {
   "cell_type": "code",
   "execution_count": null,
   "metadata": {},
   "outputs": [],
   "source": [
    "biomarkers = (\n",
    "    nbconfig.seurat.get_biomarkers('res.0.6')\n",
    "    .assign(cluster = lambda df: df.cluster.map(nbconfig.short_cluster_annot))\n",
    "    .query('cluster != \"UNK\"')\n",
    "    .assign(cluster = lambda df: df.cluster.astype('category').cat.as_ordered().cat.reorder_categories(nbconfig.short_cluster_order))\n",
    ")\n",
    "\n",
    "biomarkers = biomarkers.join(biomarkers.groupby('FBgn').size().rename('num_clusters'))"
   ]
  },
  {
   "cell_type": "code",
   "execution_count": null,
   "metadata": {
    "lines_to_next_cell": 2
   },
   "outputs": [],
   "source": [
    "# Genes commented out are not present int he zscores dataset\n",
    "lit_genes = [\n",
    "    #GSC, spermatogonia, early spermatocytes [:12] (12) (7)\n",
    "    'vas',\n",
    "    'bam',\n",
    "    'Phf7',\n",
    "    'CG11697',\n",
    "    'p53',\n",
    "    #'nos',\n",
    "    #'bgcn',\n",
    "    #'tut',\n",
    "    'Rbp9',\n",
    "    'peb',\n",
    "    #'tej',\n",
    "    #'Marf',\n",
    "    # Later spermatocytes and spermatids [12:34] (22) (18)\n",
    "    'aly',\n",
    "    'nht',\n",
    "    'soti',\n",
    "    'dj',\n",
    "    'ocn',\n",
    "    'can',\n",
    "    'fzo',\n",
    "    'bol',\n",
    "    #'mle',\n",
    "    #'mia',\n",
    "    'CG3927',\n",
    "    'sunz',\n",
    "    'sowi',\n",
    "    'd-cup',\n",
    "    'c-cup',\n",
    "    'wa-cup',\n",
    "    #'p-cup',\n",
    "    #'r-cup',\n",
    "    'oys',\n",
    "    'topi',\n",
    "    'sa',\n",
    "    'CG8368',\n",
    "    # Enriched in CySC lineage [34:58] (24) (18)\n",
    "    'tj',\n",
    "    #'eya',\n",
    "    'zfh1',\n",
    "    'vn',\n",
    "    'foxo',\n",
    "    #'apt',\n",
    "    'ImpL2',\n",
    "    'Wnt4',\n",
    "    'Nrt',\n",
    "    'bnb',\n",
    "    #'neur',\n",
    "    'robo2',\n",
    "    'EcR',\n",
    "    'gbb',\n",
    "    'spict',\n",
    "    'puc',\n",
    "    #'sev',\n",
    "    'hui',\n",
    "    #'sano',\n",
    "    'glob1',\n",
    "    'Eip93F',\n",
    "    'fax',\n",
    "    'kek1',\n",
    "    #'so',\n",
    "    # Terminal epithelia [58:67] (9) (8)\n",
    "    'nord',\n",
    "    'retn',\n",
    "    'abd-A',\n",
    "    'Abd-B',\n",
    "    'Wnt2',\n",
    "    'Six4',\n",
    "    #'CG18628',\n",
    "    'MtnA',\n",
    "    'N',\n",
    "    # Pigment cells [67:] (4)\n",
    "    'vkg',\n",
    "    'Sox100B',\n",
    "    'bw',\n",
    "    'ems',\n",
    "]\n",
    "\n",
    "lit_fbgns = list(map(lambda x: nbconfig.symbol2fbgn[x], lit_genes))"
   ]
  },
  {
   "cell_type": "markdown",
   "metadata": {},
   "source": [
    "## Number of UMI by Clusters"
   ]
  },
  {
   "cell_type": "markdown",
   "metadata": {},
   "source": [
    "Taking a quick look at the UMI by cluster we see that late spermatocytes have the lowest read counts. Also the early spermatocytes has a really large variation."
   ]
  },
  {
   "cell_type": "code",
   "execution_count": null,
   "metadata": {},
   "outputs": [],
   "source": [
    "fig, (ax1, ax2) = plt.subplots(1, 2, figsize=plt.figaspect(1/2))\n",
    "_dat = pd.concat([umi_by_cell, clusters], axis=1, sort=True, join='inner').groupby('cluster').sum().reset_index()\n",
    "sns.barplot('cluster', 'UMI', data=_dat, palette=nbconfig.colors['clusters'], ax=ax1)\n",
    "ax1.set_title('Number of UMI Per Cluster')\n",
    "\n",
    "_dat = pd.concat([umi_by_cell, clusters], axis=1, sort=True, join='inner')\n",
    "sns.boxplot('cluster', 'UMI', data=_dat, showfliers=False, palette=nbconfig.colors['clusters'], ax=ax2)\n",
    "ax2.set_title('Distribution of UMI Per Cluster');"
   ]
  },
  {
   "cell_type": "markdown",
   "metadata": {},
   "source": [
    "## Early Spermatocytes"
   ]
  },
  {
   "cell_type": "code",
   "execution_count": null,
   "metadata": {},
   "outputs": [],
   "source": [
    "gonia_singles = biomarkers.query('cluster == \"SP\" & num_clusters == 1')\n",
    "gonia_singles.reindex(lit_fbgns).dropna()"
   ]
  },
  {
   "cell_type": "code",
   "execution_count": null,
   "metadata": {},
   "outputs": [],
   "source": [
    "early_singles = biomarkers.query('cluster == \"ES\" & num_clusters == 1')\n",
    "early_singles.reindex(lit_fbgns).dropna()"
   ]
  },
  {
   "cell_type": "code",
   "execution_count": null,
   "metadata": {},
   "outputs": [],
   "source": [
    "mid_singles = biomarkers.query('cluster == \"MS\" & num_clusters == 1')\n",
    "mid_singles.reindex(lit_fbgns).dropna()"
   ]
  },
  {
   "cell_type": "code",
   "execution_count": null,
   "metadata": {},
   "outputs": [],
   "source": [
    "late_singles = biomarkers.query('cluster == \"LS\" & num_clusters == 1')\n",
    "late_singles.reindex(lit_fbgns).dropna()"
   ]
  },
  {
   "cell_type": "code",
   "execution_count": null,
   "metadata": {},
   "outputs": [],
   "source": [
    "late_singles"
   ]
  },
  {
   "cell_type": "code",
   "execution_count": null,
   "metadata": {
    "lines_to_next_cell": 2
   },
   "outputs": [],
   "source": []
  },
  {
   "cell_type": "code",
   "execution_count": null,
   "metadata": {},
   "outputs": [],
   "source": [
    "gonia_multi = biomarkers.query('cluster == \"SP\" & num_clusters > 1')\n",
    "gonia_multi.reindex(lit_fbgns).dropna()"
   ]
  },
  {
   "cell_type": "code",
   "execution_count": null,
   "metadata": {},
   "outputs": [],
   "source": [
    "early_multi = biomarkers.query('cluster == \"ES\" & num_clusters > 1')\n",
    "early_multi.reindex(lit_fbgns).dropna()"
   ]
  },
  {
   "cell_type": "code",
   "execution_count": null,
   "metadata": {},
   "outputs": [],
   "source": [
    "mid_multi = biomarkers.query('cluster == \"MS\" & num_clusters > 1')\n",
    "mid_multi.reindex(lit_fbgns).dropna()"
   ]
  },
  {
   "cell_type": "code",
   "execution_count": null,
   "metadata": {},
   "outputs": [],
   "source": [
    "late_multi = biomarkers.query('cluster == \"LS\" & num_clusters > 1')\n",
    "late_multi.reindex(lit_fbgns).dropna()"
   ]
  },
  {
   "cell_type": "code",
   "execution_count": null,
   "metadata": {
    "lines_to_next_cell": 2
   },
   "outputs": [],
   "source": []
  },
  {
   "cell_type": "code",
   "execution_count": null,
   "metadata": {},
   "outputs": [],
   "source": [
    "res = []\n",
    "for gene, dd in biomarkers.query('num_clusters > 1').groupby('FBgn'):\n",
    "    res.append((gene, '|'.join(dd.cluster.sort_values().values)))\n",
    "\n",
    "multi_genes = pd.DataFrame(res, columns=['FBgn', 'clusters']).set_index('FBgn').clusters"
   ]
  },
  {
   "cell_type": "code",
   "execution_count": null,
   "metadata": {},
   "outputs": [],
   "source": [
    "for c1, c2 in combinations(nbconfig.short_cluster_order, 2):\n",
    "    print(f'{c1}|{c2}', (multi_genes == f'{c1}|{c2}').sum())"
   ]
  },
  {
   "cell_type": "code",
   "execution_count": null,
   "metadata": {},
   "outputs": [],
   "source": [
    "for c1, c2, c3 in combinations(nbconfig.short_cluster_order, 3):\n",
    "    print(f'{c1}|{c2}|{c3}', (multi_genes == f'{c1}|{c2}|{c3}').sum())"
   ]
  },
  {
   "cell_type": "code",
   "execution_count": null,
   "metadata": {
    "lines_to_next_cell": 2
   },
   "outputs": [],
   "source": []
  },
  {
   "cell_type": "code",
   "execution_count": null,
   "metadata": {
    "lines_to_next_cell": 2
   },
   "outputs": [],
   "source": []
  },
  {
   "cell_type": "code",
   "execution_count": null,
   "metadata": {
    "lines_to_next_cell": 2
   },
   "outputs": [],
   "source": []
  },
  {
   "cell_type": "code",
   "execution_count": null,
   "metadata": {
    "lines_to_next_cell": 2
   },
   "outputs": [],
   "source": []
  },
  {
   "cell_type": "code",
   "execution_count": null,
   "metadata": {
    "lines_to_next_cell": 2
   },
   "outputs": [],
   "source": []
  }
 ],
 "metadata": {
  "kernelspec": {
   "display_name": "Python [conda env:larval_gonad]",
   "language": "python",
   "name": "conda-env-larval_gonad-py"
  }
 },
 "nbformat": 4,
 "nbformat_minor": 2
}
