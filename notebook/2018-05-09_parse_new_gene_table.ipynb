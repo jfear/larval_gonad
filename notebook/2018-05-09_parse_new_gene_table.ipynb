{
 "cells": [
  {
   "cell_type": "markdown",
   "metadata": {},
   "source": [
    "# Parse New Gene Table"
   ]
  },
  {
   "cell_type": "markdown",
   "metadata": {},
   "source": [
    "**from:** Maria D. Vibranovski\n",
    "\n",
    "Here attached is a list from Yong Zhang group based on our paper from 2010. But this is a still not published updated version that he shared with me but you can use.\n",
    "\n",
    "If you need details about the columns, please look at https://genome.cshlp.org/content/suppl/2010/08/27/gr.107334.110.DC1/SupplementalMaterial.pdf  table 2a.\n",
    "\n",
    "But mainly, what you need to select is the child genes with:\n",
    "\n",
    "gene_type = D or R or DI or RI\n",
    "m_type= M\n",
    "note that contains \"chrX-\"\n",
    "\n",
    "D and R stands for DNA-based Duplication and RNA-based duplication\n",
    "I means that the assignment of the parental genes is less reliable.\n",
    "M indicates that is between chromosome movement.\n",
    "\n",
    "Hope it helps. If you need I can parse for you. please, do not hesitate to ask. But I thought you would prefer a complete list where you can look at subsets.\n",
    "\n",
    "cheers\n",
    "\n",
    "Maria\n"
   ]
  },
  {
   "cell_type": "code",
   "execution_count": 7,
   "metadata": {},
   "outputs": [
    {
     "name": "stdout",
     "output_type": "stream",
     "text": [
      "last updated: 2018-05-10 \n",
      "Git hash: 24131ab928c3728f9d1a9a7071609d227c96d379\n"
     ]
    }
   ],
   "source": [
    "import os\n",
    "import sys\n",
    "from pathlib import Path\n",
    "import re\n",
    "\n",
    "from IPython.display import display, HTML, Markdown\n",
    "import numpy as np\n",
    "import pandas as pd\n",
    "\n",
    "import matplotlib as mpl\n",
    "import matplotlib.pyplot as plt\n",
    "import seaborn as sns\n",
    "\n",
    "# Project level imports\n",
    "sys.path.insert(0, '../lib')\n",
    "from larval_gonad.notebook import Nb\n",
    "from larval_gonad.plotting import make_figs\n",
    "from larval_gonad.config import memory\n",
    "\n",
    "# Setup notebook\n",
    "nbconfig = Nb.setup_notebook()"
   ]
  },
  {
   "cell_type": "markdown",
   "metadata": {},
   "source": [
    "## Import data from Maria"
   ]
  },
  {
   "cell_type": "code",
   "execution_count": 105,
   "metadata": {},
   "outputs": [],
   "source": [
    "dat = pd.read_excel('../data/external/maria/dm6_ver78_genetype.xlsx')\n",
    "\n",
    "# Focus on genes that are a DNA duplicateion or retrotranspostion\n",
    "gene_type_mask = dat.gene_type.isin(['D', 'R', 'Dl', 'Rl'])\n",
    "\n",
    "# Focus on genes that moved chromosomes\n",
    "m_type_mask = dat.m_type == 'M'\n",
    "\n",
    "# Grab genes that moved\n",
    "moved_genes = dat.loc[gene_type_mask & m_type_mask, ['child_id', 'parent_id', 'note']]"
   ]
  },
  {
   "cell_type": "code",
   "execution_count": 106,
   "metadata": {},
   "outputs": [],
   "source": [
    "# Parse our child and parent chroms from the note\n",
    "chroms = np.array([re.findall('chr[X234Y][RL]?', s) for s in moved_genes.note])\n",
    "moved_genes['child_chrom'] = chroms[:, 0]\n",
    "moved_genes['parent_chrom'] = chroms[:, 1]"
   ]
  },
  {
   "cell_type": "code",
   "execution_count": 107,
   "metadata": {},
   "outputs": [],
   "source": [
    "otable = moved_genes.rename({'child_id': 'FBgn', 'child_chrom': 'chrom'}, axis=1)[['FBgn', 'chrom', 'parent_id', 'parent_chrom']]"
   ]
  },
  {
   "cell_type": "markdown",
   "metadata": {},
   "source": [
    "## FBgn sanitizer"
   ]
  },
  {
   "cell_type": "markdown",
   "metadata": {},
   "source": [
    "I don't know where these FBgns are from, so I need to sanitize them to my current annotation."
   ]
  },
  {
   "cell_type": "code",
   "execution_count": 98,
   "metadata": {},
   "outputs": [],
   "source": [
    "assembly = nbconfig.assembly\n",
    "tag = nbconfig.tag\n",
    "pth = Path(os.environ['REFERENCES_DIR'], f'{assembly}/{tag}/fb_annotation/{assembly}_{tag}.fb_annotation')\n",
    "\n",
    "# Create an FBgn \n",
    "mapper = {}\n",
    "\n",
    "for record in pd.read_csv(pth, sep='\\t').to_records():\n",
    "    mapper[record.primary_FBgn] = record.primary_FBgn\n",
    "    \n",
    "    try:\n",
    "        for g in record.secondary_FBgn.split(','):\n",
    "            mapper[g] = record.primary_FBgn\n",
    "    except AttributeError:\n",
    "        pass"
   ]
  },
  {
   "cell_type": "code",
   "execution_count": 108,
   "metadata": {},
   "outputs": [],
   "source": [
    "otable.FBgn.replace(mapper, inplace=True)\n",
    "otable.parent_id.replace(mapper, inplace=True)"
   ]
  },
  {
   "cell_type": "markdown",
   "metadata": {},
   "source": [
    "## Check Chromosomes"
   ]
  },
  {
   "cell_type": "markdown",
   "metadata": {},
   "source": [
    "I just want to double check that the chromosomes are correct according to my annotation."
   ]
  },
  {
   "cell_type": "code",
   "execution_count": 110,
   "metadata": {},
   "outputs": [],
   "source": [
    "# check chroms are right\n",
    "for record in otable.to_records():\n",
    "    assert record.chrom == nbconfig.fbgn2chrom.loc[record.FBgn, 'chrom']"
   ]
  },
  {
   "cell_type": "code",
   "execution_count": 114,
   "metadata": {},
   "outputs": [],
   "source": [
    "otable.set_index('FBgn').to_csv('../output/new_genes.tsv', sep='\\t')"
   ]
  },
  {
   "cell_type": "code",
   "execution_count": null,
   "metadata": {},
   "outputs": [],
   "source": []
  }
 ],
 "metadata": {
  "kernelspec": {
   "display_name": "Python [conda env:larval_gonad]",
   "language": "python",
   "name": "conda-env-larval_gonad-py"
  },
  "language_info": {
   "codemirror_mode": {
    "name": "ipython",
    "version": 3
   },
   "file_extension": ".py",
   "mimetype": "text/x-python",
   "name": "python",
   "nbconvert_exporter": "python",
   "pygments_lexer": "ipython3",
   "version": "3.6.3"
  }
 },
 "nbformat": 4,
 "nbformat_minor": 2
}
