{
 "cells": [
  {
   "cell_type": "markdown",
   "metadata": {},
   "source": [
    "# GO PCA"
   ]
  },
  {
   "cell_type": "markdown",
   "metadata": {},
   "source": [
    "I want to try to apply the GO-PCA algorithm [<sup>[1](https://github.com/flo-compbio/gopca)</sup>] to our single cell clusters to see if anything pops out."
   ]
  },
  {
   "cell_type": "code",
   "execution_count": 196,
   "metadata": {},
   "outputs": [
    {
     "name": "stdout",
     "output_type": "stream",
     "text": [
      "last updated: 2018-03-15 \n",
      "Git hash: b4607e6f1d22f5de926471c9887f399587814dd0\n"
     ]
    }
   ],
   "source": [
    "import os\n",
    "import sys\n",
    "from pathlib import Path\n",
    "from collections import defaultdict\n",
    "import re\n",
    "from tempfile import NamedTemporaryFile\n",
    "\n",
    "from IPython.display import display, HTML, Markdown\n",
    "import numpy as np\n",
    "import pandas as pd\n",
    "\n",
    "import matplotlib as mpl\n",
    "import matplotlib.pyplot as plt\n",
    "import seaborn as sns\n",
    "\n",
    "from goatools.obo_parser import GODag\n",
    "from goatools.go_search import GoSearch\n",
    "\n",
    "# Project level imports\n",
    "sys.path.insert(0, '../lib')\n",
    "from larval_gonad.notebook import Nb\n",
    "from larval_gonad.plotting import make_figs\n",
    "from larval_gonad.config import memory\n",
    "\n",
    "# Setup notebook\n",
    "nbconfig = Nb.setup_notebook()\n"
   ]
  },
  {
   "cell_type": "code",
   "execution_count": 195,
   "metadata": {},
   "outputs": [
    {
     "name": "stdout",
     "output_type": "stream",
     "text": [
      "load obo file ../data/external/go-basic.obo\n",
      "../data/external/go-basic.obo: fmt(1.2) rel(2018-02-02) 47,109 GO Terms\n",
      "load obo file ../data/external/go-basic.obo\n",
      "../data/external/go-basic.obo: fmt(1.2) rel(2018-02-02) 47,109 GO Terms\n"
     ]
    }
   ],
   "source": [
    "obo = '../data/external/go-basic.obo'\n",
    "oboDag = GODag(obo)\n",
    "\n",
    "# Import fly associations\n",
    "association = '../data/external/gene_association.fb'\n",
    "fly = defaultdict(set)\n",
    "with open(association) as fh:\n",
    "    for row in fh.readlines():\n",
    "        if row.startswith('!'):\n",
    "            continue\n",
    "        cols = row.split('\\t')\n",
    "        fbgn = cols[1]\n",
    "        goterm = cols[4]\n",
    "        gtype = cols[11]\n",
    "        #if gtype != 'protein':\n",
    "        #    continue\n",
    "        if goterm not in oboDag:\n",
    "            continue\n",
    "        fly[fbgn].add(goterm)\n",
    "\n",
    "# Convert from fly2go to go2fly\n",
    "go2fly = defaultdict(set)\n",
    "for k, v in fly.items():\n",
    "    for t in v:\n",
    "        if oboDag[t].namespace != 'biological_process':\n",
    "            continue\n",
    "            \n",
    "        go2fly[t].add(k)\n",
    "        \n",
    "# Init searcher\n",
    "searcher = GoSearch(obo, go2fly)"
   ]
  },
  {
   "cell_type": "markdown",
   "metadata": {},
   "source": [
    "## Cell Cycle"
   ]
  },
  {
   "cell_type": "code",
   "execution_count": 197,
   "metadata": {},
   "outputs": [],
   "source": [
    "# Search for cell cycle\n",
    "cell_cycle_all = re.compile(r'cell cycle', flags=re.IGNORECASE)\n",
    "cell_cycle_not = re.compile(r'cell cycle.independent', flags=re.IGNORECASE)\n",
    "\n",
    "tmp = NamedTemporaryFile()\n",
    "with open(tmp.name, 'w') as log:\n",
    "    \n",
    "    # find gos matching cell cycle\n",
    "    gos_cc_all = searchRes.get_matching_gos(cell_cycle_all, prt=log)\n",
    "    \n",
    "    # Find any GOs matching 'cell cycle-independent' (e.g., \"lysosome\")\n",
    "    gos_no_cc = searchRes.get_matching_gos(cell_cycle_not, gos=gos_cc_all, prt=log)\n",
    "    \n",
    "    # Remove GO terms that are not \"cell cycle\" GOs\n",
    "    gos = gos_cc_all.difference(gos_no_cc)\n",
    "    \n",
    "    # Add children GOs of cell cycle GOs\n",
    "    gos_all = searchRes.add_children_gos(gos)\n",
    "    \n",
    "    # Only focus on biological process\n",
    "    keepers = set()\n",
    "    for go in gos_all:\n",
    "        if oboDag[go].namespace == 'biological_process':\n",
    "            keepers.add(go)\n",
    "            \n",
    "    cell_cycle_geneids = searchRes.get_items(keepers)\n",
    "    \n",
    "tmp.close()"
   ]
  },
  {
   "cell_type": "code",
   "execution_count": 215,
   "metadata": {},
   "outputs": [
    {
     "data": {
      "text/plain": [
       "992"
      ]
     },
     "execution_count": 215,
     "metadata": {},
     "output_type": "execute_result"
    }
   ],
   "source": [
    "len(cell_cycle_geneids)"
   ]
  },
  {
   "cell_type": "code",
   "execution_count": 222,
   "metadata": {},
   "outputs": [],
   "source": [
    "cell_cycle_str = '\\t'.join([\n",
    "    'GO:0007049',\n",
    "    'GO',\n",
    "    'BP', \n",
    "    'cell cycle',\n",
    "    ','.join(cell_cycle_geneids),\n",
    "    'cell-division cycle'\n",
    "])"
   ]
  },
  {
   "cell_type": "markdown",
   "metadata": {},
   "source": [
    "## Meiosis"
   ]
  },
  {
   "cell_type": "code",
   "execution_count": 200,
   "metadata": {},
   "outputs": [],
   "source": [
    "# Search for meiosis\n",
    "meiosis_all = re.compile(r'meiosis', flags=re.IGNORECASE)\n",
    "meiotic_all = re.compile(r'meiotic', flags=re.IGNORECASE)\n",
    "\n",
    "tmp = NamedTemporaryFile()\n",
    "with open(tmp.name, 'w') as log:\n",
    "    \n",
    "    gos_meiosis_all = searchRes.get_matching_gos(meiosis_all, prt=log)\n",
    "    gos_meiotic_all = searchRes.get_matching_gos(meiotic_all, prt=log)\n",
    "    \n",
    "    # Remove GO terms that are not \"cell cycle\" GOs\n",
    "    gos = gos_meiosis_all.union(gos_meiotic_all)\n",
    "    \n",
    "    # Add children GOs of cell cycle GOs\n",
    "    gos_all = searchRes.add_children_gos(gos)\n",
    "    \n",
    "    # Only focus on biological process\n",
    "    keepers = set()\n",
    "    for go in gos_all:\n",
    "        if oboDag[go].namespace == 'biological_process':\n",
    "            keepers.add(go)\n",
    "            \n",
    "    meiotic_geneids = searchRes.get_items(keepers)\n",
    "    \n",
    "tmp.close()"
   ]
  },
  {
   "cell_type": "code",
   "execution_count": 214,
   "metadata": {},
   "outputs": [
    {
     "data": {
      "text/plain": [
       "1101"
      ]
     },
     "execution_count": 214,
     "metadata": {},
     "output_type": "execute_result"
    }
   ],
   "source": [
    "len(meiotic_geneids)"
   ]
  },
  {
   "cell_type": "code",
   "execution_count": 223,
   "metadata": {},
   "outputs": [],
   "source": [
    "meiotic_str = '\\t'.join([\n",
    "    'GO:0051321',\n",
    "    'GO',\n",
    "    'BP', \n",
    "    'meiotic cell cycle\t',\n",
    "    ','.join(meiotic_geneids),\n",
    "    'meiotic cell-division cycle'\n",
    "])"
   ]
  },
  {
   "cell_type": "markdown",
   "metadata": {},
   "source": [
    "## Mitosis"
   ]
  },
  {
   "cell_type": "code",
   "execution_count": 202,
   "metadata": {},
   "outputs": [],
   "source": [
    "# Search for mitosis\n",
    "mitosis_all = re.compile(r'mitosis', flags=re.IGNORECASE)\n",
    "mitotic_all = re.compile(r'mitotic', flags=re.IGNORECASE)\n",
    "\n",
    "tmp = NamedTemporaryFile()\n",
    "with open(tmp.name, 'w') as log:\n",
    "    \n",
    "    gos_mitosis_all = searchRes.get_matching_gos(mitosis_all, prt=log)\n",
    "    gos_mitotic_all = searchRes.get_matching_gos(mitotic_all, prt=log)\n",
    "    gos = gos_mitosis_all.union(gos_mitotic_all)\n",
    "    \n",
    "    # Add children GOs of cell cycle GOs\n",
    "    gos_all = searchRes.add_children_gos(gos)\n",
    "    \n",
    "    # Only focus on biological process\n",
    "    keepers = set()\n",
    "    for go in gos_all:\n",
    "        if oboDag[go].namespace == 'biological_process':\n",
    "            keepers.add(go)\n",
    "            \n",
    "    mitotic_geneids = searchRes.get_items(keepers)\n",
    "    \n",
    "tmp.close()"
   ]
  },
  {
   "cell_type": "code",
   "execution_count": 224,
   "metadata": {},
   "outputs": [
    {
     "data": {
      "text/plain": [
       "809"
      ]
     },
     "execution_count": 224,
     "metadata": {},
     "output_type": "execute_result"
    }
   ],
   "source": [
    "len(mitotic_geneids)"
   ]
  },
  {
   "cell_type": "code",
   "execution_count": 225,
   "metadata": {},
   "outputs": [],
   "source": [
    "mitotic_str = '\\t'.join([\n",
    "    'GO:0000278',\n",
    "    'GO',\n",
    "    'BP', \n",
    "    'mitotic cell cycle',\n",
    "    ','.join(mitotic_geneids),\n",
    "    'mitotic cell-division cycle'\n",
    "])"
   ]
  },
  {
   "cell_type": "markdown",
   "metadata": {},
   "source": [
    "## Spermatid"
   ]
  },
  {
   "cell_type": "code",
   "execution_count": 212,
   "metadata": {},
   "outputs": [],
   "source": [
    "# Search for spermatid\n",
    "spermatid_all = re.compile(r'spermatid', flags=re.IGNORECASE)\n",
    "\n",
    "tmp = NamedTemporaryFile()\n",
    "with open(tmp.name, 'w') as log:\n",
    "    \n",
    "    sperm_gos = searchRes.get_matching_gos(spermatid_all, prt=log)\n",
    "    cyst_gos = searchRes.get_matching_gos(spermatid_cyst_all, prt=log)\n",
    "    gos = sperm_gos.difference(cyst_gos)\n",
    "    \n",
    "    # Add children GOs of cell cycle GOs\n",
    "    gos_all = searchRes.add_children_gos(gos)\n",
    "    \n",
    "    # Only focus on biological process\n",
    "    keepers = set()\n",
    "    for go in gos_all:\n",
    "        if oboDag[go].namespace == 'biological_process':\n",
    "            keepers.add(go)\n",
    "            \n",
    "    spermatid_geneids = searchRes.get_items(keepers)\n",
    "    \n",
    "tmp.close()"
   ]
  },
  {
   "cell_type": "code",
   "execution_count": 213,
   "metadata": {},
   "outputs": [
    {
     "data": {
      "text/plain": [
       "154"
      ]
     },
     "execution_count": 213,
     "metadata": {},
     "output_type": "execute_result"
    }
   ],
   "source": [
    "len(spermatid_geneids)"
   ]
  },
  {
   "cell_type": "code",
   "execution_count": 226,
   "metadata": {},
   "outputs": [],
   "source": [
    "spermatid_str = '\\t'.join([\n",
    "    'GO:0007286',\n",
    "    'GO',\n",
    "    'BP', \n",
    "    'spermatid development',\n",
    "    ','.join(spermatid_geneids),\n",
    "    'spermatid cell development'\n",
    "])"
   ]
  },
  {
   "cell_type": "markdown",
   "metadata": {},
   "source": [
    "## Output"
   ]
  },
  {
   "cell_type": "code",
   "execution_count": 227,
   "metadata": {},
   "outputs": [],
   "source": [
    "with open('../output/gopca_test_gene_set.tsv', 'w') as fh:\n",
    "    fh.write('\\n'.join([cell_cycle_str, meiotic_str, mitotic_str, spermatid_str]))"
   ]
  },
  {
   "cell_type": "code",
   "execution_count": null,
   "metadata": {},
   "outputs": [],
   "source": []
  }
 ],
 "metadata": {
  "kernelspec": {
   "display_name": "Python [conda env:larval_gonad]",
   "language": "python",
   "name": "conda-env-larval_gonad-py"
  },
  "language_info": {
   "codemirror_mode": {
    "name": "ipython",
    "version": 3
   },
   "file_extension": ".py",
   "mimetype": "text/x-python",
   "name": "python",
   "nbconvert_exporter": "python",
   "pygments_lexer": "ipython3",
   "version": "3.6.3"
  }
 },
 "nbformat": 4,
 "nbformat_minor": 2
}
