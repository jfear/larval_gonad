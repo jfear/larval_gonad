{
 "cells": [
  {
   "cell_type": "markdown",
   "metadata": {
    "toc-hr-collapsed": false
   },
   "source": [
    "# Friday Meeting Prep"
   ]
  },
  {
   "cell_type": "markdown",
   "metadata": {},
   "source": [
    "I want to report on chromosome expression and X:A in this weeks Friday meeting. Here is where I am developing those plots."
   ]
  },
  {
   "cell_type": "code",
   "execution_count": null,
   "metadata": {},
   "outputs": [],
   "source": [
    "import os\n",
    "import sys\n",
    "import re\n",
    "from pathlib import Path\n",
    "\n",
    "from IPython.display import display, HTML, Markdown\n",
    "import numpy as np\n",
    "import pandas as pd\n",
    "from scipy.stats import spearmanr, mannwhitneyu, fisher_exact\n",
    "from scipy.cluster.hierarchy import linkage, dendrogram\n",
    "import statsmodels.formula.api as smf\n",
    "\n",
    "import matplotlib as mpl\n",
    "import matplotlib.pyplot as plt\n",
    "import seaborn as sns\n",
    "\n",
    "# Project level imports\n",
    "from larval_gonad.notebook import Nb"
   ]
  },
  {
   "cell_type": "code",
   "execution_count": null,
   "metadata": {
    "lines_to_next_cell": 1
   },
   "outputs": [],
   "source": [
    "# Setup notebook\n",
    "nbconfig = Nb.setup_notebook(seurat_dir='../output/scrnaseq-wf/scrnaseq_combine_force')"
   ]
  },
  {
   "cell_type": "code",
   "execution_count": null,
   "metadata": {
    "lines_to_next_cell": 1
   },
   "outputs": [],
   "source": [
    "def read_fbgn2chrom():\n",
    "    mapper = {\n",
    "        'chrX': 'X',\n",
    "        'chrY': 'Y',\n",
    "        'chr4': '4',\n",
    "        'chr2L': 'A',\n",
    "        'chr2R': 'A',\n",
    "        'chr3L': 'A',\n",
    "        'chr3R': 'A',\n",
    "    }\n",
    "\n",
    "    fbgn2chrom = (pd.read_csv('../output/fbgn2chrom.tsv', sep='\\t', index_col=0)\n",
    "                      .query('chrom != \"chrM\"')\n",
    "                      .chrom.map(mapper)\n",
    "                      .astype('category')\n",
    "                      .cat.as_ordered()\n",
    "                 )\n",
    "    \n",
    "    return fbgn2chrom.cat.reorder_categories(['X', 'A', 'Y', '4'])\n",
    "\n",
    "\n",
    "def read_clusters():\n",
    "    clusters = nbconfig.seurat.get_clusters('res.0.6').map(nbconfig.short_cluster_annot)\n",
    "    clusters = clusters[clusters != 'UNK'].copy()\n",
    "    return clusters.astype('category').cat.as_ordered().cat.reorder_categories(nbconfig.short_cluster_order)\n",
    "\n",
    "\n",
    "def read_raw(rep2):\n",
    "    raw = nbconfig.seurat.get_raw()\n",
    "    if rep2:\n",
    "        raw = raw.loc[:, raw.columns.str.startswith('rep2')].copy()\n",
    "        \n",
    "    return raw\n",
    "        \n",
    "    \n",
    "def read_gene_length(): \n",
    "    gene_lengths = pd.read_csv('../output/gene_ts_lengths.tsv', sep='\\t', index_col=0).gene_ts_length\n",
    "    gene_lengths.name = 'gene_length'\n",
    "    return gene_lengths\n",
    "    \n",
    "    \n",
    "def read_tpm(rep2):\n",
    "    from larval_gonad.normalization import tpm\n",
    "    raw = read_raw(rep2)\n",
    "    gene_lengths = read_gene_length()\n",
    "    return tpm(raw, gene_lengths).dropna()\n",
    "    \n",
    "def get_rep(wide):    \n",
    "    rep = wide.columns.str.extract('(?P<rep>rep\\d)').rep\n",
    "    rep.index = wide.columns\n",
    "    return rep\n",
    "    \n",
    "def read_data(rep2=False, tpm=False):\n",
    "    fbgn2chrom = read_fbgn2chrom()\n",
    "    clusters = read_clusters()\n",
    "    \n",
    "    if tpm:\n",
    "        data = read_tpm(rep2)\n",
    "        value_name = 'TPM'\n",
    "    else:\n",
    "        data = read_raw(rep2)\n",
    "        value_name = 'UMI'\n",
    "    \n",
    "    # Munge together\n",
    "    rep = get_rep(data)\n",
    "    melted = data.reset_index().melt(id_vars='FBgn', value_name=value_name)\n",
    "    return melted.join(clusters, on='cell_id').join(fbgn2chrom, on='FBgn').join(rep, on='cell_id').dropna()"
   ]
  },
  {
   "cell_type": "markdown",
   "metadata": {},
   "source": [
    "## Data Prep"
   ]
  },
  {
   "cell_type": "code",
   "execution_count": null,
   "metadata": {},
   "outputs": [],
   "source": [
    "df = read_data()\n",
    "df['missing'] = (df.UMI == 0).values"
   ]
  },
  {
   "cell_type": "code",
   "execution_count": null,
   "metadata": {},
   "outputs": [],
   "source": [
    "fbgn2chrom = read_fbgn2chrom()\n",
    "fbgn2chrom = fbgn2chrom.reindex(df.FBgn.unique())\n",
    "num_genes_by_chrom = fbgn2chrom.value_counts()"
   ]
  },
  {
   "cell_type": "code",
   "execution_count": null,
   "metadata": {},
   "outputs": [],
   "source": [
    "total_reads_per_chrom_by_cell = df.groupby(['cell_id', 'chrom']).UMI.sum()\n",
    "total_reads_per_cell = df.groupby(['cell_id']).UMI.sum()"
   ]
  },
  {
   "cell_type": "code",
   "execution_count": null,
   "metadata": {},
   "outputs": [],
   "source": [
    "norm_cnts = (\n",
    "    total_reads_per_chrom_by_cell\n",
    "        .div(num_genes_by_chrom / 1e3, level='chrom')\n",
    "        .div(total_reads_per_cell / 1e3, level='cell_id')\n",
    "        .to_frame()\n",
    ")\n",
    "norm_cnts.columns = ['norm_cnt']\n",
    "\n",
    "norm_cnts = (\n",
    "    norm_cnts\n",
    "        .join(read_clusters(), on='cell_id')\n",
    "        .reset_index()\n",
    ")\n",
    "norm_cnts = norm_cnts.join(norm_cnts.cell_id.str.extract('(?P<rep>rep\\d)'))\n",
    "\n",
    "norm_cnts.chrom = (\n",
    "    norm_cnts.chrom\n",
    "        .astype('category')\n",
    "        .cat.as_ordered()\n",
    "        .cat.reorder_categories(['X', 'A', 'Y', '4'])\n",
    ")"
   ]
  },
  {
   "cell_type": "markdown",
   "metadata": {
    "toc-hr-collapsed": true
   },
   "source": [
    "## Chromosome Expression"
   ]
  },
  {
   "cell_type": "markdown",
   "metadata": {},
   "source": [
    "### Cell level chromosome coverage"
   ]
  },
  {
   "cell_type": "code",
   "execution_count": null,
   "metadata": {},
   "outputs": [],
   "source": [
    "g = sns.FacetGrid(norm_cnts, col='chrom', col_wrap=2, sharey=False)\n",
    "g.map(\n",
    "    sns.barplot, \n",
    "    'cluster', \n",
    "    'norm_cnt', \n",
    "    order=nbconfig.short_cluster_order, \n",
    "    palette=nbconfig.colors['clusters'],\n",
    "    estimator=np.mean,\n",
    "    errwidth=1,\n",
    "    capsize=.2\n",
    ")"
   ]
  },
  {
   "cell_type": "markdown",
   "metadata": {
    "toc-hr-collapsed": false
   },
   "source": [
    "### Rep level chromosome coverage"
   ]
  },
  {
   "cell_type": "code",
   "execution_count": null,
   "metadata": {},
   "outputs": [],
   "source": [
    "dat = norm_cnts.groupby(['cluster', 'rep', 'chrom']).norm_cnt.median().to_frame().reset_index()"
   ]
  },
  {
   "cell_type": "code",
   "execution_count": null,
   "metadata": {},
   "outputs": [],
   "source": [
    "g = sns.FacetGrid(dat, col='chrom', col_wrap=2, sharey=False)\n",
    "g.map(\n",
    "    sns.barplot, \n",
    "    'cluster', \n",
    "    'norm_cnt', \n",
    "    order=nbconfig.short_cluster_order, \n",
    "    palette=nbconfig.colors['clusters'],\n",
    "    estimator=np.mean,\n",
    "    errwidth=1,\n",
    "    capsize=.2\n",
    ")"
   ]
  },
  {
   "cell_type": "code",
   "execution_count": null,
   "metadata": {},
   "outputs": [],
   "source": [
    "del dat"
   ]
  },
  {
   "cell_type": "markdown",
   "metadata": {},
   "source": [
    "### Y Gene Expression"
   ]
  },
  {
   "cell_type": "code",
   "execution_count": null,
   "metadata": {},
   "outputs": [],
   "source": [
    "prop_missing_by_cluster_by_gene = df.groupby(['cluster', 'chrom', 'FBgn']).missing.mean().to_frame().reset_index()"
   ]
  },
  {
   "cell_type": "code",
   "execution_count": null,
   "metadata": {},
   "outputs": [],
   "source": [
    "y_genes = (1 - prop_missing_by_cluster_by_gene.query('chrom == \"Y\"').set_index(['FBgn', 'cluster']).missing).unstack()\n",
    "\n",
    "# remove the genes with all 0's\n",
    "y_genes = y_genes[(y_genes >= 0.05).any(axis=1)]"
   ]
  },
  {
   "cell_type": "code",
   "execution_count": null,
   "metadata": {},
   "outputs": [],
   "source": [
    "tree = dendrogram(linkage(y_genes.values, 'average'), no_plot=True)\n",
    "leaves = tree['leaves']\n",
    "\n",
    "fig = plt.figure(figsize=(6, 10))\n",
    "ax = sns.heatmap(y_genes.iloc[leaves, :], yticklabels=True)\n",
    "ax.set_title('Proportion Cells with Expression')\n",
    "labels = []\n",
    "for label in ax.get_yticklabels():\n",
    "    labels.append(nbconfig.fbgn2symbol[label.get_text()])\n",
    "ax.set_yticklabels(labels, fontsize=8);"
   ]
  },
  {
   "cell_type": "code",
   "execution_count": null,
   "metadata": {},
   "outputs": [],
   "source": [
    "del prop_missing_by_cluster_by_gene"
   ]
  },
  {
   "cell_type": "code",
   "execution_count": null,
   "metadata": {},
   "outputs": [],
   "source": [
    "fbgn2symbol = pd.Series(nbconfig.fbgn2symbol, name='gene_symbol')\n",
    "fbgn2symbol.index.name = 'FBgn'\n",
    "y_cnts = df.query('chrom == \"Y\"').groupby(['FBgn', 'cluster']).UMI.sum().to_frame().reset_index().join(fbgn2symbol, on='FBgn')\n",
    "\n",
    "mask = y_cnts.groupby('FBgn').UMI.sum() > 10\n",
    "\n",
    "keeps = mask[mask].index.tolist()\n",
    "\n",
    "g = sns.FacetGrid(y_cnts.query(f'FBgn == {keeps}').sort_values('gene_symbol'), col='gene_symbol', col_wrap=8)\n",
    "g.map(sns.pointplot, 'cluster', 'UMI', order=nbconfig.short_cluster_order)\n",
    "g.set_titles('{col_name}')\n",
    "plt.suptitle('Total Gene Expression sum(UMI)', va='bottom', y=.99)"
   ]
  },
  {
   "cell_type": "code",
   "execution_count": null,
   "metadata": {},
   "outputs": [],
   "source": [
    "del y_cnts"
   ]
  },
  {
   "cell_type": "code",
   "execution_count": null,
   "metadata": {},
   "outputs": [],
   "source": [
    "deg = pd.read_csv('../output/scrnaseq-wf/germcell_soma_deg/germ_vs_cysts.tsv', sep='\\t', index_col=0).join(fbgn2chrom)"
   ]
  },
  {
   "cell_type": "code",
   "execution_count": null,
   "metadata": {},
   "outputs": [],
   "source": [
    "deg.query('chrom == \"Y\"')"
   ]
  },
  {
   "cell_type": "code",
   "execution_count": null,
   "metadata": {},
   "outputs": [],
   "source": [
    "deg = pd.read_csv('../output/scrnaseq-wf/germcell_deg/gonia_vs_cytes.tsv', sep='\\t', index_col=0).join(fbgn2chrom)"
   ]
  },
  {
   "cell_type": "code",
   "execution_count": null,
   "metadata": {},
   "outputs": [],
   "source": [
    "deg.query('chrom == \"Y\"')"
   ]
  },
  {
   "cell_type": "code",
   "execution_count": null,
   "metadata": {},
   "outputs": [],
   "source": [
    "biomarkers = nbconfig.seurat.get_biomarkers('res.0.6').join(fbgn2chrom)"
   ]
  },
  {
   "cell_type": "code",
   "execution_count": null,
   "metadata": {},
   "outputs": [],
   "source": [
    "biomarkers.query('chrom == \"Y\"')"
   ]
  },
  {
   "cell_type": "markdown",
   "metadata": {},
   "source": [
    "### 4th Expression"
   ]
  },
  {
   "cell_type": "code",
   "execution_count": null,
   "metadata": {},
   "outputs": [],
   "source": [
    "_4_genes = (1 - prop_missing_by_cluster_by_gene.query('chrom == \"4\"').set_index(['FBgn', 'cluster']).missing).unstack()\n",
    "\n",
    "# remove the genes with all 0's\n",
    "_4_genes = _4_genes[(_4_genes >= 0.05).any(axis=1)]"
   ]
  },
  {
   "cell_type": "code",
   "execution_count": null,
   "metadata": {},
   "outputs": [],
   "source": [
    "tree = dendrogram(linkage(_4_genes.values, 'average'), no_plot=True)\n",
    "leaves = tree['leaves']\n",
    "\n",
    "fig = plt.figure(figsize=(6, 10))\n",
    "ax = sns.heatmap(_4_genes.iloc[leaves, :], yticklabels=True)\n",
    "ax.set_title('Proportion Cells with Expression')\n",
    "labels = []\n",
    "for label in ax.get_yticklabels():\n",
    "    labels.append(nbconfig.fbgn2symbol[label.get_text()])\n",
    "ax.set_yticklabels(labels, fontsize=8);"
   ]
  },
  {
   "cell_type": "code",
   "execution_count": null,
   "metadata": {},
   "outputs": [],
   "source": [
    "del _4_genes"
   ]
  },
  {
   "cell_type": "code",
   "execution_count": null,
   "metadata": {},
   "outputs": [],
   "source": [
    "fbgn2symbol = pd.Series(nbconfig.fbgn2symbol, name='gene_symbol')\n",
    "fbgn2symbol.index.name = 'FBgn'\n",
    "_4_cnts = df.query('chrom == \"4\"').groupby(['FBgn', 'cluster']).UMI.sum().to_frame().reset_index().join(fbgn2symbol, on='FBgn')\n",
    "\n",
    "mask = _4_cnts.groupby('FBgn').UMI.sum() > 1e3\n",
    "\n",
    "keeps = mask[mask].index.tolist()\n",
    "\n",
    "g = sns.FacetGrid(_4_cnts.query(f'FBgn == {keeps}').sort_values('gene_symbol'), col='gene_symbol', col_wrap=8)\n",
    "g.map(sns.pointplot, 'cluster', 'UMI', order=nbconfig.short_cluster_order)\n",
    "g.set_titles('{col_name}')\n",
    "plt.suptitle('Total Gene Expression sum(UMI)', va='bottom', y=1)"
   ]
  },
  {
   "cell_type": "code",
   "execution_count": null,
   "metadata": {},
   "outputs": [],
   "source": [
    "del _4_cnts"
   ]
  },
  {
   "cell_type": "code",
   "execution_count": null,
   "metadata": {},
   "outputs": [],
   "source": [
    "deg = pd.read_csv('../output/scrnaseq-wf/germcell_soma_deg/germ_vs_cysts.tsv', sep='\\t', index_col=0).join(fbgn2chrom)"
   ]
  },
  {
   "cell_type": "code",
   "execution_count": null,
   "metadata": {},
   "outputs": [],
   "source": [
    "deg.query('chrom == \"4\"')"
   ]
  },
  {
   "cell_type": "code",
   "execution_count": null,
   "metadata": {},
   "outputs": [],
   "source": [
    "deg = pd.read_csv('../output/scrnaseq-wf/germcell_deg/gonia_vs_cytes.tsv', sep='\\t', index_col=0).join(fbgn2chrom)"
   ]
  },
  {
   "cell_type": "code",
   "execution_count": null,
   "metadata": {},
   "outputs": [],
   "source": [
    "deg.query('chrom == \"4\"')"
   ]
  },
  {
   "cell_type": "code",
   "execution_count": null,
   "metadata": {},
   "outputs": [],
   "source": [
    "biomarkers = nbconfig.seurat.get_biomarkers('res.0.6').join(fbgn2chrom)"
   ]
  },
  {
   "cell_type": "code",
   "execution_count": null,
   "metadata": {},
   "outputs": [],
   "source": [
    "biomarkers.query('chrom == \"4\"')"
   ]
  },
  {
   "cell_type": "markdown",
   "metadata": {
    "toc-hr-collapsed": false
   },
   "source": [
    "## X:A Testing"
   ]
  },
  {
   "cell_type": "markdown",
   "metadata": {
    "toc-hr-collapsed": true
   },
   "source": [
    "### Ideal Wolrd"
   ]
  },
  {
   "cell_type": "markdown",
   "metadata": {},
   "source": [
    "In and ideal world we could assume missingness was random.\n",
    "\n",
    "Then I would aggregate gene level counts to the cluster level. I would use the Mann-Whiteney U to test if X expression is less than Autosome expression. \n",
    "\n",
    "I would then plot median X:A ratio to show difference of each cluster. "
   ]
  },
  {
   "cell_type": "code",
   "execution_count": null,
   "metadata": {},
   "outputs": [],
   "source": [
    "# Aggregate gene counts to cluster level\n",
    "ideal = df.groupby(['cluster', 'rep', 'chrom', 'FBgn']).UMI.sum()\n",
    "\n",
    "# Run a mannwhitneyU test on X vs A\n",
    "results = []\n",
    "for (clus, rep), dd in ideal.groupby([\"cluster\", 'rep']):\n",
    "    x_counts = dd.to_frame().query('chrom == \"X\"').UMI.values\n",
    "    a_counts = dd.to_frame().query('chrom == \"A\"').UMI.values\n",
    "    stat, pval = mannwhitneyu(x_counts, a_counts, alternative='less')\n",
    "    results.append((clus, rep, pval))\n",
    "    \n",
    "ideal_results = pd.DataFrame(results, columns=['cluster', 'rep', 'p_value'])\n",
    "ideal_results.cluster = ideal_results.cluster.astype('category').cat.as_ordered().cat.reorder_categories(nbconfig.short_cluster_order)\n",
    "ideal_results.rep = ideal_results.rep.astype('category').cat.as_ordered().cat.reorder_categories(['rep1', 'rep2', 'rep3'])\n",
    "ideal_results.set_index(['cluster', 'rep'], inplace=True)\n",
    "ideal_results['significant'] = False\n",
    "ideal_results.loc[ideal_results.p_value <= 0.05, 'significant'] = True\n",
    "\n",
    "ideal_results"
   ]
  },
  {
   "cell_type": "code",
   "execution_count": null,
   "metadata": {
    "lines_to_next_cell": 1
   },
   "outputs": [],
   "source": [
    "# Aggregate gene counts to chromsome level correcting for the number of genes\n",
    "ideal_agg = ideal.groupby(['cluster', 'rep', 'chrom']).sum().div(num_genes_by_chrom, level='chrom')\n",
    "ideal_agg.name = 'UMI'\n",
    "ideal_agg = ideal_agg.to_frame().unstack()\n",
    "ideal_agg.columns = ideal_agg.columns.droplevel(0)\n",
    "\n",
    "# Calculate X:A ratio \n",
    "xa_ratio = ideal_agg['X'] / (ideal_agg['A'] + 0)\n",
    "xa_ratio.name = 'xa'\n",
    "xa_ratio = xa_ratio.to_frame().reset_index()\n",
    "xa_ratio_means = xa_ratio.groupby(['cluster']).xa.mean().values"
   ]
  },
  {
   "cell_type": "code",
   "execution_count": null,
   "metadata": {},
   "outputs": [],
   "source": [
    "# calculate bootstrap confidence intervals for plotting\n",
    "def bootstrap(dat, n_boot=1000, estimator=np.mean):\n",
    "    results = np.empty(n_boot)\n",
    "    for i in range(n_boot):\n",
    "        results[i] = estimator(dat.sample(n=dat.shape[0], replace=True))\n",
    "    return np.percentile(results, [2.5, 97.5])\n",
    "\n",
    "results = []\n",
    "for clus, dd in xa_ratio.groupby('cluster'):\n",
    "    low, high = bootstrap(dd.xa)\n",
    "    results.append((clus, low, high))\n",
    "cluster_bootstrap = pd.DataFrame(results, columns=['cluster', 'low', 'high'])\n",
    "\n",
    "# Merge on significant flag to add '*'\n",
    "cluster_bootstrap = cluster_bootstrap.join(ideal_results.groupby('cluster').significant.any(), on='cluster')"
   ]
  },
  {
   "cell_type": "code",
   "execution_count": null,
   "metadata": {},
   "outputs": [],
   "source": [
    "# Plot\n",
    "fig, ax = plt.subplots(figsize=plt.figaspect(1/2))\n",
    "ax.plot(xa_ratio_means, color='k', zorder=-10, label='X chormosome')\n",
    "sns.pointplot(x='cluster', y='xa', data=xa_ratio, errwidth=2, capsize=.2, palette=nbconfig.colors['clusters'], zorder=10, ax=ax)\n",
    "ax.axhline(1, color='gray', ls=':')\n",
    "ax.set_ylabel('X:A Ratio')\n",
    "plt.legend(loc=2)\n",
    "\n",
    "for i, row in cluster_bootstrap.iterrows():\n",
    "    if row.significant:\n",
    "        ax.text(i, row.high, '*', ha='center', va='bottom')"
   ]
  },
  {
   "cell_type": "code",
   "execution_count": null,
   "metadata": {},
   "outputs": [],
   "source": [
    "del ideal\n",
    "del ideal_agg\n",
    "del ideal_results"
   ]
  },
  {
   "cell_type": "markdown",
   "metadata": {
    "toc-hr-collapsed": false
   },
   "source": [
    "### Missingness is still problematic"
   ]
  },
  {
   "cell_type": "markdown",
   "metadata": {},
   "source": [
    "#### Missingness by cluster"
   ]
  },
  {
   "cell_type": "code",
   "execution_count": null,
   "metadata": {},
   "outputs": [],
   "source": [
    "missing_per_cell = df.groupby(['cell_id', 'cluster']).missing.sum().div(num_genes_by_chrom.sum(), level='chrom')\n",
    "missing_per_cell.name = 'prop_missing'"
   ]
  },
  {
   "cell_type": "code",
   "execution_count": null,
   "metadata": {},
   "outputs": [],
   "source": [
    "dat = missing_per_cell.reset_index()\n",
    "ax = sns.boxplot('cluster', 'prop_missing', data=dat, flierprops=dict(alpha=.5), palette=nbconfig.colors['clusters'])\n",
    "#plt.setp(ax.artists, edgecolor='k', facecolor='w')\n",
    "#plt.setp(ax.lines, color='k');"
   ]
  },
  {
   "cell_type": "code",
   "execution_count": null,
   "metadata": {},
   "outputs": [],
   "source": [
    "del missing_per_cell"
   ]
  },
  {
   "cell_type": "markdown",
   "metadata": {},
   "source": [
    "#### Missingness by cluster by chromosome"
   ]
  },
  {
   "cell_type": "code",
   "execution_count": null,
   "metadata": {},
   "outputs": [],
   "source": [
    "missing_per_cell_per_chrom = df.groupby(['cell_id', 'cluster', 'chrom']).missing.sum().div(num_genes_by_chrom, level='chrom')\n",
    "missing_per_cell_per_chrom.name = 'prop_missing'"
   ]
  },
  {
   "cell_type": "code",
   "execution_count": null,
   "metadata": {
    "lines_to_next_cell": 2
   },
   "outputs": [],
   "source": [
    "dat = missing_per_cell_per_chrom.reset_index()\n",
    "\n",
    "g = sns.FacetGrid(dat, col='cluster', col_wrap=4)\n",
    "g.map(\n",
    "    sns.boxplot,\n",
    "    'chrom',\n",
    "    'prop_missing',\n",
    "    order=['X', 'A', 'Y', '4'],\n",
    "    flierprops=dict(alpha=.5)\n",
    ")\n",
    "\n",
    "for ax in g.axes:\n",
    "    plt.setp(ax.artists, edgecolor='k', facecolor='w')\n",
    "    plt.setp(ax.lines, color='k')"
   ]
  },
  {
   "cell_type": "code",
   "execution_count": null,
   "metadata": {},
   "outputs": [],
   "source": [
    "del missing_per_cell_per_chrom"
   ]
  },
  {
   "cell_type": "markdown",
   "metadata": {},
   "source": [
    "#### Missingness is correlated between X and A"
   ]
  },
  {
   "cell_type": "code",
   "execution_count": null,
   "metadata": {
    "lines_to_next_cell": 1
   },
   "outputs": [],
   "source": [
    "dat = missing_per_cell_per_chrom.to_frame().query('chrom == \"X\" | chrom == \"A\"').unstack()\n",
    "dat.columns = ['prop_X_missing', 'prop_A_missing']\n",
    "dat.reset_index(inplace=True)"
   ]
  },
  {
   "cell_type": "code",
   "execution_count": null,
   "metadata": {},
   "outputs": [],
   "source": [
    "def add_rho(color, marker, data):\n",
    "    cluster = data.cluster.values[0]\n",
    "    corr = spearmanr(data.prop_X_missing, data.prop_A_missing)[0]\n",
    "    ax = plt.gca()\n",
    "    ax.text(0.1, .9, f'r = {np.round(corr, 4)}', fontsize=12)\n",
    "    \n",
    "g = sns.lmplot(\n",
    "    'prop_X_missing', \n",
    "    'prop_A_missing', \n",
    "    dat, \n",
    "    col='cluster', \n",
    "    col_wrap=4, \n",
    "    size=3, \n",
    "    scatter_kws=dict(alpha=.5),\n",
    ")\n",
    "\n",
    "g.set(xlim=(0, 1), ylim=(0, 1))\n",
    "g.map_dataframe(add_rho)\n",
    "g.set_xlabels('Prop X Missing')\n",
    "g.set_ylabels('Prop A Missing')"
   ]
  },
  {
   "cell_type": "code",
   "execution_count": null,
   "metadata": {},
   "outputs": [],
   "source": [
    "del dat"
   ]
  },
  {
   "cell_type": "markdown",
   "metadata": {},
   "source": [
    "### Permutation Test"
   ]
  },
  {
   "cell_type": "markdown",
   "metadata": {},
   "source": [
    "At the experiment level, it is clear that missingness is not random. This maybe due to technical artifacts such as dropout, or maybe related to biological processes (i.e. RNA-content of somatic cells is much smaller than germline). Therefore even a non-parametric test is not appropriate, unless we model the missingness (which is very hard). \n",
    "\n",
    "Fortunately, at the cell level missingness appears to be somewhat random in relation to X and A expression. We have proposed using a permutation approach "
   ]
  },
  {
   "cell_type": "code",
   "execution_count": null,
   "metadata": {
    "lines_to_next_cell": 2
   },
   "outputs": [],
   "source": []
  },
  {
   "cell_type": "code",
   "execution_count": null,
   "metadata": {},
   "outputs": [],
   "source": [
    "cell_ids = []\n",
    "flags = []\n",
    "for cell_id, dd in df.groupby('cell_id'):\n",
    "    x_data = dd[dd.chrom == \"X\"].UMI.values\n",
    "    #x_data = x_data[x_data > 0]\n",
    "    a_data = dd[dd.chrom == \"A\"].UMI.values\n",
    "    #a_data = a_data[a_data > 0]\n",
    "    _, p_value = mannwhitneyu(x_data, a_data, alternative='less')\n",
    "    \n",
    "    if p_value <= 0.05:\n",
    "        flags.append(True)\n",
    "    else:\n",
    "        flags.append(False)\n",
    "        \n",
    "    cell_ids.append(cell_id)\n",
    "\n",
    "flag_x_lt_a = pd.Series(flags, index=pd.Index(cell_ids, name='cell_id'), name='flag_x_lt_a')"
   ]
  },
  {
   "cell_type": "code",
   "execution_count": null,
   "metadata": {},
   "outputs": [],
   "source": [
    "flag_x_lt_a_by_cluster = pd.concat([flag_x_lt_a, read_clusters()], axis=1, sort=True)\n",
    "flag_x_lt_a_by_cluster['rep'] = flag_x_lt_a_by_cluster.index.str.extract('(?P<rep>rep\\d)', expand=False)\n",
    "\n",
    "prop_flag_by_cluster = flag_x_lt_a_by_cluster.groupby(['cluster', 'rep']).flag_x_lt_a.mean()\n",
    "prop_flag_by_cluster.name = 'prop_cells_x_lt_a'"
   ]
  },
  {
   "cell_type": "code",
   "execution_count": null,
   "metadata": {},
   "outputs": [],
   "source": [
    "means = prop_flag_by_cluster.groupby('cluster').mean().values"
   ]
  },
  {
   "cell_type": "code",
   "execution_count": null,
   "metadata": {},
   "outputs": [],
   "source": [
    "fig, ax = plt.subplots(figsize=plt.figaspect(1/2))\n",
    "ax.plot(means, color='k', zorder=-10)\n",
    "sns.pointplot(x='cluster', y='prop_cells_x_lt_a', data=prop_flag_by_cluster.to_frame().reset_index(), errwidth=2, capsize=.2, palette=nbconfig.colors['clusters'], zorder=10, ax=ax)\n",
    "ax.set_ylim(0, 1)\n",
    "ax.set_ylabel('Prop Cells')\n",
    "ax.set_title('Proprotion of Cells with X Depletion')"
   ]
  },
  {
   "cell_type": "code",
   "execution_count": null,
   "metadata": {
    "lines_to_next_cell": 2
   },
   "outputs": [],
   "source": []
  },
  {
   "cell_type": "code",
   "execution_count": null,
   "metadata": {
    "lines_to_next_cell": 2
   },
   "outputs": [],
   "source": []
  },
  {
   "cell_type": "code",
   "execution_count": null,
   "metadata": {},
   "outputs": [],
   "source": [
    "prop_missing_by_cell = df.groupby('cell_id').missing.mean()\n",
    "prop_missing_by_cell.name = 'prop_missing_genes'"
   ]
  },
  {
   "cell_type": "code",
   "execution_count": null,
   "metadata": {},
   "outputs": [],
   "source": [
    "dat = pd.concat([prop_missing_by_cell, flag_x_lt_a.astype(int), read_clusters()], axis=1, sort=True)"
   ]
  },
  {
   "cell_type": "code",
   "execution_count": null,
   "metadata": {},
   "outputs": [],
   "source": [
    "dat.head()"
   ]
  },
  {
   "cell_type": "code",
   "execution_count": null,
   "metadata": {},
   "outputs": [],
   "source": [
    "results = smf.logit('flag_x_lt_a ~ prop_missing_genes/cluster', data=dat).fit()\n",
    "results.summary2()"
   ]
  },
  {
   "cell_type": "code",
   "execution_count": null,
   "metadata": {},
   "outputs": [],
   "source": [
    "results = smf.logit('flag_x_lt_a ~ prop_missing_genes*cluster', data=dat).fit()\n",
    "results.summary2()"
   ]
  },
  {
   "cell_type": "code",
   "execution_count": null,
   "metadata": {
    "lines_to_next_cell": 2
   },
   "outputs": [],
   "source": []
  },
  {
   "cell_type": "code",
   "execution_count": null,
   "metadata": {
    "lines_to_next_cell": 2
   },
   "outputs": [],
   "source": []
  },
  {
   "cell_type": "code",
   "execution_count": null,
   "metadata": {
    "lines_to_next_cell": 2
   },
   "outputs": [],
   "source": []
  },
  {
   "cell_type": "code",
   "execution_count": null,
   "metadata": {
    "lines_to_next_cell": 2
   },
   "outputs": [],
   "source": []
  },
  {
   "cell_type": "code",
   "execution_count": null,
   "metadata": {
    "lines_to_next_cell": 2
   },
   "outputs": [],
   "source": []
  },
  {
   "cell_type": "code",
   "execution_count": null,
   "metadata": {
    "lines_to_next_cell": 2
   },
   "outputs": [],
   "source": []
  },
  {
   "cell_type": "code",
   "execution_count": null,
   "metadata": {
    "lines_to_next_cell": 2
   },
   "outputs": [],
   "source": []
  },
  {
   "cell_type": "code",
   "execution_count": null,
   "metadata": {
    "lines_to_next_cell": 2
   },
   "outputs": [],
   "source": []
  },
  {
   "cell_type": "code",
   "execution_count": null,
   "metadata": {
    "lines_to_next_cell": 2
   },
   "outputs": [],
   "source": []
  },
  {
   "cell_type": "code",
   "execution_count": null,
   "metadata": {},
   "outputs": [],
   "source": [
    "\n",
    "\n"
   ]
  },
  {
   "cell_type": "code",
   "execution_count": null,
   "metadata": {
    "lines_to_next_cell": 2
   },
   "outputs": [],
   "source": []
  },
  {
   "cell_type": "code",
   "execution_count": null,
   "metadata": {
    "lines_to_next_cell": 2
   },
   "outputs": [],
   "source": []
  },
  {
   "cell_type": "code",
   "execution_count": null,
   "metadata": {
    "lines_to_next_cell": 2
   },
   "outputs": [],
   "source": []
  },
  {
   "cell_type": "code",
   "execution_count": null,
   "metadata": {
    "lines_to_next_cell": 2
   },
   "outputs": [],
   "source": []
  }
 ],
 "metadata": {
  "kernelspec": {
   "display_name": "Python [conda env:larval_gonad]",
   "language": "python",
   "name": "conda-env-larval_gonad-py"
  }
 },
 "nbformat": 4,
 "nbformat_minor": 2
}
