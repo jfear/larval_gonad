{
 "cells": [
  {
   "cell_type": "markdown",
   "metadata": {},
   "source": [
    "# Compare Gal4 to biomarkers"
   ]
  },
  {
   "cell_type": "code",
   "execution_count": null,
   "metadata": {},
   "outputs": [],
   "source": [
    "import os\n",
    "import sys\n",
    "import re\n",
    "from pathlib import Path\n",
    "from io import StringIO\n",
    "\n",
    "from IPython.display import display, HTML, Markdown\n",
    "import numpy as np\n",
    "import pandas as pd\n",
    "\n",
    "import matplotlib as mpl\n",
    "import matplotlib.pyplot as plt\n",
    "import seaborn as sns\n",
    "\n",
    "# Project level imports\n",
    "from larval_gonad.notebook import Nb"
   ]
  },
  {
   "cell_type": "code",
   "execution_count": null,
   "metadata": {},
   "outputs": [],
   "source": [
    "# Setup notebook\n",
    "#nbconfig = Nb.setup_notebook(seurat_dir='../output/scrnaseq-wf/scrnaseq_combine_force')\n",
    "nbconfig = Nb.setup_notebook(seurat_dir='/data/fearjm/local_data_store/larval_gonad/output/scrnaseq-wf/scrnaseq_combine_force/')"
   ]
  },
  {
   "cell_type": "code",
   "execution_count": null,
   "metadata": {},
   "outputs": [],
   "source": [
    "biomarkers = nbconfig.seurat.get_biomarkers('res.0.6')\n",
    "biomarkers.cluster = biomarkers.cluster.map(nbconfig.short_cluster_annot)"
   ]
  },
  {
   "cell_type": "code",
   "execution_count": null,
   "metadata": {},
   "outputs": [],
   "source": [
    "gonia_genes = biomarkers.query('cluster == [\"SP\", \"ES\", \"MS\", \"LS\"]').index.unique().values.tolist()\n",
    "cyte_genes = biomarkers.query('cluster == [\"EC\", \"MC\", \"LC\"]').index.unique().values.tolist()\n",
    "pc_genes = biomarkers.query('cluster == \"PC\"').index.unique().values.tolist()\n",
    "te_genes = biomarkers.query('cluster == \"TE\"').index.unique().values.tolist()"
   ]
  },
  {
   "cell_type": "code",
   "execution_count": null,
   "metadata": {},
   "outputs": [],
   "source": [
    "expression = (pd.read_parquet('../output/scrnaseq-wf/tpm.parquet', columns=nbconfig.cluster_order[:9])\n",
    "    # change 0s to NaN so I can set them back to 0 after binning values\n",
    "    .replace(0.0, np.nan)\n",
    "    .dropna(how='all')\n",
    "    .apply(pd.cut, bins=3, labels=[1, 2, 3], axis=1)\n",
    "    .fillna(0)\n",
    "    .astype(int)\n",
    "    .rename(columns=dict(zip(nbconfig.cluster_order[:9], nbconfig.short_cluster_order)))\n",
    ")"
   ]
  },
  {
   "cell_type": "code",
   "execution_count": null,
   "metadata": {},
   "outputs": [],
   "source": [
    "gal4_str=\"\"\"\n",
    "bloomington_stocks\t\tgene_symbol\tSP\tES\tMS\tLS\tEC\tMC\tLC\tTE\tPC\tHub\n",
    "63356\t\tCG11658\t0\t0\t0\t0\t1\t1\t1\t0\t0\t0\n",
    "65692\t\tNotum\t0\t0\t0\t0\t2\t0\t0\t0\t0\t2\n",
    "49662\t\tCadN\t0\t0\t0\t0\t0\t0\t0\t0\t0\t2\n",
    "62573\t\tTsp74F\t0\t0\t0\t0\t2\t2\t2\t0\t0\t2\n",
    "63887\t\tsano\t0\t0\t0\t0\t2\t2\t2\t0\t0\t0\n",
    "65690\t\trau\t0\t0\t0\t0\t0\t1\t1\t0\t0\t0\n",
    "65516\t\ttrn\t0\t0\t0\t0\t0\t1\t1\t0\t0\t0\n",
    "62587\t\tIrk1\t0\t2\t2\t2\t2\t2\t2\t2\t0\t2\n",
    "62607\t\tbnl\t0\t0\t0\t0\t0\t1\t1\t0\t0\t2\n",
    "63731\t\thng3\t0\t0\t0\t0\t2\t2\t2\t0\t0\t0\n",
    "62609\t\tqjt\t0\t0\t0\t0\t2\t0\t0\t0\t0\t0\n",
    "62708\t\tqin\t0\t0\t0\t0\t1\t0\t0\t0\t0\t\n",
    "63304\t\tmael\t0\t0\t0\t0\t2\t0\t0\t0\t0\t0\n",
    "64689\t\tCG31644\t0\t0\t0\t0\t1\t0\t1\t0\t0\t0\n",
    "28849\t\tsvp\t0\t0\t0\t0\t2\t2\t2\t0\t0\t0\n",
    "63510\t\tMeltrin\t0\t0\t0\t0\t0\t1\t1\t0\t0\t0\n",
    "63387\t\tFili\t0\t0\t0\t0\t0\t1\t1\t0\t0\t0\n",
    "63399\t\tPapss\t0\t0\t0\t0\t0\t1\t1\t0\t0\t0\n",
    "62810\t\tAdamTS-A\t0\t0\t0\t0\t1\t0\t0\t0\t0\t0\n",
    "65506\t\tcdi\t0\t0\t0\t0\t1\t1\t1\t0\t0\t0\n",
    "48881\t\teya\t0\t0\t0\t0\t1\t1\t1\t0\t0\t0\n",
    "\"\"\"\n",
    "\n",
    "gal4 = (\n",
    "    pd.read_csv(StringIO(gal4_str), sep='\\t')\n",
    "    .dropna(how='all', axis=1)\n",
    "    .assign(FBgn=lambda df: df.gene_symbol.map(nbconfig.symbol2fbgn))\n",
    "    .set_index('FBgn')\n",
    "    .iloc[:, 2:-1]\n",
    "    .fillna(0)\n",
    "    .astype(int)\n",
    ")"
   ]
  },
  {
   "cell_type": "code",
   "execution_count": null,
   "metadata": {},
   "outputs": [],
   "source": [
    "_title = 'Germ Line (Gal4)'\n",
    "_clusters = nbconfig.short_cluster_order[:4]\n",
    "_genes = gal4.index.intersection(gonia_genes).intersection(expression.index)\n",
    "_dat = (\n",
    "    pd.concat([gal4.reindex(_genes), expression.reindex(_genes)], keys=['gal4', 'scRNASeq'])\n",
    "    .sort_index(level=1)\n",
    "    .rename(index=nbconfig.fbgn2symbol, level=1)\n",
    "    .loc[:, _clusters]\n",
    ")\n",
    "\n",
    "\n",
    "ax = sns.heatmap(_dat, yticklabels=True, cmap='viridis')\n",
    "ax.set_title(_title)\n",
    "ax.set_ylabel('Gene')\n",
    "\n",
    "loc = 2\n",
    "for i in range(len(_genes)):\n",
    "    ax.axhline(loc, color='w')\n",
    "    loc +=2"
   ]
  },
  {
   "cell_type": "code",
   "execution_count": null,
   "metadata": {},
   "outputs": [],
   "source": [
    "biomarkers.query(f'FBgn.isin({_genes.tolist()}) and cluster == [\"SP\", \"ES\", \"MS\", \"LS\"]', engine='python')"
   ]
  },
  {
   "cell_type": "code",
   "execution_count": null,
   "metadata": {},
   "outputs": [],
   "source": [
    "_title = 'Cytes (Gal4)'\n",
    "_clusters = nbconfig.short_cluster_order[4:7]\n",
    "_genes = gal4.index.intersection(cyte_genes).intersection(expression.index)\n",
    "_dat = (\n",
    "    pd.concat([gal4.reindex(_genes), expression.reindex(_genes)], keys=['gal4', 'scRNASeq'])\n",
    "    .sort_index(level=1)\n",
    "    .rename(index=nbconfig.fbgn2symbol, level=1)\n",
    "    .loc[:, _clusters]\n",
    ")\n",
    "\n",
    "ax = sns.heatmap(_dat, yticklabels=True, cmap='viridis')\n",
    "ax.set_title(_title)\n",
    "ax.set_ylabel('Gene')\n",
    "\n",
    "loc = 2\n",
    "for i in range(len(_genes)):\n",
    "    ax.axhline(loc, color='w')\n",
    "    loc +=2"
   ]
  },
  {
   "cell_type": "code",
   "execution_count": null,
   "metadata": {},
   "outputs": [],
   "source": [
    "biomarkers.query(f'FBgn.isin({_genes.tolist()}) and cluster == [\"EC\", \"MC\", \"LC\"]', engine='python')"
   ]
  },
  {
   "cell_type": "code",
   "execution_count": null,
   "metadata": {},
   "outputs": [],
   "source": [
    "_title = 'TE (Gal4)'\n",
    "_clusters = nbconfig.short_cluster_order[-2]\n",
    "_genes = gal4.index.intersection(te_genes).intersection(expression.index)\n",
    "_dat = (\n",
    "    pd.concat([gal4.reindex(_genes), expression.reindex(_genes)], keys=['gal4', 'scRNASeq'])\n",
    "    .sort_index(level=1)\n",
    "    .rename(index=nbconfig.fbgn2symbol, level=1)\n",
    "    .loc[:, _clusters]\n",
    "    .to_frame()\n",
    ")\n",
    "\n",
    "ax = sns.heatmap(_dat, yticklabels=True, cmap='viridis')\n",
    "ax.set_title(_title)\n",
    "ax.set_ylabel('Gene')\n",
    "\n",
    "loc = 2\n",
    "for i in range(len(_genes)):\n",
    "    ax.axhline(loc, color='w')\n",
    "    loc +=2"
   ]
  },
  {
   "cell_type": "code",
   "execution_count": null,
   "metadata": {},
   "outputs": [],
   "source": [
    "biomarkers.query(f'FBgn.isin({_genes.tolist()}) and cluster == \"TE\"', engine='python')"
   ]
  },
  {
   "cell_type": "code",
   "execution_count": null,
   "metadata": {},
   "outputs": [],
   "source": [
    "_title = 'PC (Gal4)'\n",
    "_clusters = nbconfig.short_cluster_order[-1]\n",
    "_genes = gal4.index.intersection(pc_genes).intersection(expression.index)\n",
    "_dat = (\n",
    "    pd.concat([gal4.reindex(_genes), expression.reindex(_genes)], keys=['gal4', 'scRNASeq'])\n",
    "    .sort_index(level=1)\n",
    "    .rename(index=nbconfig.fbgn2symbol, level=1)\n",
    "    .loc[:, _clusters]\n",
    "    .to_frame()\n",
    ")\n",
    "\n",
    "ax = sns.heatmap(_dat, yticklabels=True, cmap='viridis')\n",
    "ax.set_title(_title)\n",
    "ax.set_ylabel('Gene')\n",
    "\n",
    "loc = 2\n",
    "for i in range(len(_genes)):\n",
    "    ax.axhline(loc, color='w')\n",
    "    loc +=2"
   ]
  },
  {
   "cell_type": "code",
   "execution_count": null,
   "metadata": {},
   "outputs": [],
   "source": [
    "biomarkers.query(f'FBgn.isin({_genes.tolist()}) and cluster == \"PC\"', engine='python')"
   ]
  },
  {
   "cell_type": "code",
   "execution_count": null,
   "metadata": {},
   "outputs": [],
   "source": [
    "t2a_str = \"\"\"\n",
    "bloomington_stock_number\t\tgene_symbol\tSP\tES\tMS\tLS\tEC\tMC\tLC\tTE\tPC\tHub\n",
    "76191\t\tvari\t0\t0\t0\t0\t1\t1\t1\t0\t0\t0\n",
    "67472\t\tCG42458\t0\t0\t0\t0\t0\t2\t2\t1\t0\t0\n",
    "67449\t\tWnt4\t0\t0\t0\t0\t0\t2\t2\t0\t0\t0\n",
    "67509\t\tEaf\t1\t1\t1\t1\t1\t1\t1\t0\t0\t0\n",
    "76159\t\tZasp52\t0\t0\t0\t0\t2\t1\t1\t0\t0\t0\n",
    "76164\t\tSu(var)2-10\t2\t2\t2\t2\t0\t0\t0\t0\t0\t0\n",
    "76168\t\tGEFmeso\t2\t2\t2\t2\t2\t2\t2\t2\t0\t0\n",
    "77475\t\tths\t0\t0\t0\t0\t1\t1\t1\t0\t0\t0\n",
    "76157\t\tpk\t0\t0\t0\t0\t2\t2\t2\t0\t0\t0\n",
    "76757\t\trdo\t0\t0\t0\t0\t1\t0\t0\t0\t2\t0\n",
    "76193\t\tbin3\t0\t2\t2\t2\t0\t0\t0\t0\t0\t0\n",
    "76181\t\tCG2082\t0\t0\t0\t0\t1\t0\t0\t0\t0\t0\n",
    "76222\t\tKhc-73\t2\t2\t2\t2\t0\t0\t0\t0\t0\t0\n",
    "67448\t\tFER\t0\t0\t0\t0\t2\t2\t2\t0\t0\t2\n",
    "76770\t\tCG31075\t0\t0\t0\t0\t0\t1\t1\t0\t0\t0\n",
    "76739\t\tQC\t0\t0\t0\t0\t2\t2\t2\t0\t0\t2\n",
    "66830\t\tdally\t0\t0\t0\t0\t2\t1\t1\t0\t0\t2\n",
    "66856\t\tCG11658\t0\t0\t0\t0\t2\t2\t2\t0\t0\t2\n",
    "76230\t\tPyK\t0\t2\t2\t2\t0\t0\t0\t0\t0\t0\n",
    "76678\t\tPH4alphaEFB\t0\t0\t0\t0\t2\t2\t2\t0\t0\t2\n",
    "66785\t\tIno80\t2\t2\t2\t2\t0\t0\t0\t0\t0\t0\n",
    "\t\tRasGAP1\t0\t0\t0\t0\t2\t2\t2\t2\t0\t2\n",
    "\"\"\""
   ]
  },
  {
   "cell_type": "code",
   "execution_count": null,
   "metadata": {},
   "outputs": [],
   "source": [
    "t2a = (\n",
    "    pd.read_csv(StringIO(t2a_str), sep='\\t')\n",
    "    .dropna(how='all', axis=1)\n",
    "    .assign(FBgn=lambda df: df.gene_symbol.map(nbconfig.symbol2fbgn))\n",
    "    .set_index('FBgn')\n",
    "    .iloc[:, 2:-1]\n",
    "    .fillna(0)\n",
    "    .astype(int)\n",
    ")"
   ]
  },
  {
   "cell_type": "code",
   "execution_count": null,
   "metadata": {},
   "outputs": [],
   "source": [
    "# Plot gonia validation\n",
    "_title = 'Germ Line (T2A)'\n",
    "_clusters = nbconfig.short_cluster_order[:4]\n",
    "_genes = t2a.index.intersection(gonia_genes).intersection(expression.index)\n",
    "_dat = (\n",
    "    pd.concat([t2a.reindex(_genes), expression.reindex(_genes)], keys=['t2a', 'scRNASeq'])\n",
    "    .sort_index(level=1)\n",
    "    .rename(index=nbconfig.fbgn2symbol, level=1)\n",
    "    .loc[:, _clusters]\n",
    ")\n",
    "\n",
    "\n",
    "ax = sns.heatmap(_dat, yticklabels=True, cmap='viridis')\n",
    "ax.set_title(_title)\n",
    "ax.set_ylabel('Gene')\n",
    "\n",
    "loc = 2\n",
    "for i in range(len(_genes)):\n",
    "    ax.axhline(loc, color='w')\n",
    "    loc +=2"
   ]
  },
  {
   "cell_type": "code",
   "execution_count": null,
   "metadata": {},
   "outputs": [],
   "source": [
    "biomarkers.query(f'FBgn.isin({_genes.tolist()}) and cluster == [\"SP\", \"ES\", \"MS\", \"LS\"]', engine='python')"
   ]
  },
  {
   "cell_type": "code",
   "execution_count": null,
   "metadata": {
    "lines_to_next_cell": 2
   },
   "outputs": [],
   "source": []
  },
  {
   "cell_type": "code",
   "execution_count": null,
   "metadata": {},
   "outputs": [],
   "source": [
    "_title = 'Cytes (t2a)'\n",
    "_clusters = nbconfig.short_cluster_order[4:7]\n",
    "_genes = t2a.index.intersection(cyte_genes).intersection(expression.index)\n",
    "_dat = (\n",
    "    pd.concat([t2a.reindex(_genes), expression.reindex(_genes)], keys=['t2a', 'scRNASeq'])\n",
    "    .sort_index(level=1)\n",
    "    .rename(index=nbconfig.fbgn2symbol, level=1)\n",
    "    .loc[:, _clusters]\n",
    ")\n",
    "\n",
    "ax = sns.heatmap(_dat, yticklabels=True, cmap='viridis')\n",
    "ax.set_title(_title)\n",
    "ax.set_ylabel('Gene')\n",
    "\n",
    "loc = 2\n",
    "for i in range(len(_genes)):\n",
    "    ax.axhline(loc, color='w')\n",
    "    loc +=2"
   ]
  },
  {
   "cell_type": "code",
   "execution_count": null,
   "metadata": {},
   "outputs": [],
   "source": [
    "biomarkers.query(f'FBgn.isin({_genes.tolist()}) and cluster == [\"EC\", \"MC\", \"LC\"]', engine='python')"
   ]
  },
  {
   "cell_type": "code",
   "execution_count": null,
   "metadata": {},
   "outputs": [],
   "source": [
    "_title = 'TE (t2a)'\n",
    "_clusters = nbconfig.short_cluster_order[-2]\n",
    "_genes = t2a.index.intersection(te_genes).intersection(expression.index)\n",
    "_dat = (\n",
    "    pd.concat([t2a.reindex(_genes), expression.reindex(_genes)], keys=['t2a', 'scRNASeq'])\n",
    "    .sort_index(level=1)\n",
    "    .rename(index=nbconfig.fbgn2symbol, level=1)\n",
    "    .loc[:, _clusters]\n",
    "    .to_frame()\n",
    ")\n",
    "\n",
    "ax = sns.heatmap(_dat, yticklabels=True, cmap='viridis')\n",
    "ax.set_title(_title)\n",
    "ax.set_ylabel('Gene')\n",
    "\n",
    "loc = 2\n",
    "for i in range(len(_genes)):\n",
    "    ax.axhline(loc, color='w')\n",
    "    loc +=2"
   ]
  },
  {
   "cell_type": "code",
   "execution_count": null,
   "metadata": {},
   "outputs": [],
   "source": [
    "biomarkers.query(f'FBgn.isin({_genes.tolist()}) and cluster == \"TE\"', engine='python')"
   ]
  },
  {
   "cell_type": "code",
   "execution_count": null,
   "metadata": {},
   "outputs": [],
   "source": [
    "_title = 'PC (t2a)'\n",
    "_clusters = nbconfig.short_cluster_order[-1]\n",
    "_genes = t2a.index.intersection(pc_genes).intersection(expression.index)\n",
    "_dat = (\n",
    "    pd.concat([t2a.reindex(_genes), expression.reindex(_genes)], keys=['t2a', 'scRNASeq'])\n",
    "    .sort_index(level=1)\n",
    "    .rename(index=nbconfig.fbgn2symbol, level=1)\n",
    "    .loc[:, _clusters]\n",
    "    .to_frame()\n",
    ")\n",
    "\n",
    "ax = sns.heatmap(_dat, yticklabels=True, cmap='viridis')\n",
    "ax.set_title(_title)\n",
    "ax.set_ylabel('Gene')\n",
    "\n",
    "loc = 2\n",
    "for i in range(len(_genes)):\n",
    "    ax.axhline(loc, color='w')\n",
    "    loc +=2"
   ]
  },
  {
   "cell_type": "code",
   "execution_count": null,
   "metadata": {},
   "outputs": [],
   "source": [
    "biomarkers.query(f'FBgn.isin({_genes.tolist()}) and cluster == \"PC\"', engine='python')"
   ]
  },
  {
   "cell_type": "code",
   "execution_count": null,
   "metadata": {
    "lines_to_next_cell": 2
   },
   "outputs": [],
   "source": [
    "ptrap_str = \"\"\"gene_symbol\tSP\tES\tMS\tLS\tC\tEC\tMC\tLC\tPC\tTE\tH\n",
    "ADD1\t1\t2\t3\t3\t1\t0\t0\t0\t0\t1\t0\n",
    "Ance\t1\t2\t2\t2\t1\t2\t2\t2\t1\t1\t1\n",
    "ATP8A\t0\t0\t0\t0\t0\t0\t0\t0\t0\t0\t0\n",
    "bol\t1\t1\t2\t3\t0\t0\tND\tND\t0\t0\t0\n",
    "CadN\t0\t0\t0\t0\t0\t0\t0\t0\t0\t0\t0\n",
    "CadN\t0\t0\t0\t0\t0\t0\t0\t0\t0\t0\t0\n",
    "CadN\t0\t0\t0\t0\t0\t0\t0\t0\t0\t0\t0\n",
    "CadN_Avg\t0\t0\t0\t0\t0\t0\t0\t0\t0\t0\t0\n",
    "CG17349\t0\t0\t0\t0\t0\t0\t0\t0\t0\t0\t0\n",
    "CG17646\t0\t0\t0\t0\t1\t1\t1\t1\t1\t1\t0\n",
    "CG3277 (receptor protein-tyrosine kinase)\t0\t0\t0\t0\t0\t0\t0\t0\t0\t0\t0\n",
    "CG8100\t0\t0\t0\t0\t0\t0\t0\t0\t0\t0\t0\n",
    "CG9747\t0\t1\t1\t1\t0\t1\t1\t1\t1\t1\t0\n",
    "Cht5\t0\t0\t0\t0\t0\t1\t1\t2\t0\t0\t0\n",
    "cindr\t1\t1\t1\t1\t1\t1\t1\t1\t2\t2\t2\n",
    "cmpy\t0\t0\t0\t0\t0\t1\t1\t1\t0\t0\t0\n",
    "Dek\t2\t2\t2\t2\t1\t1\t1\t1\t2\t2\t2\n",
    "Dh31-R\t0\t0\t0\t0\t0\t0\t0\t0\t0\t0\t0\n",
    "dpr17\t1\t1\t1\t0\t0\t0\t0\t0\t0\t0\t0\n",
    "e(y)3\t2\t2\t2\t2\t1\t1\t1\t1\t2\t2\t1\n",
    "Eaat2\t0\t0\t0\t0\t0\t0\t0\t0\t0\t0\t0\n",
    "Efa6\t2\t2\t1\t1\t0\t0\t0\t0\t1\t2\t0\n",
    "Efa6\t1\t1\t1\t1\t1\t2\t2\t2\t1\t1\t1\n",
    "Efa6\t2\t1\t1\t1\t2\t2\t2\t2\t1\t1\t2\n",
    "Efa6_Avg\t1.666666667\t1.333333333\t1\t1\t1\t1.333333333\t1.333333333\t1.333333333\t1\t1.333333333\t1\n",
    "Fas3\t1\t1\t1\t1\t1\t1\t1\t1\t1\t3\t3\n",
    "Fas3\t0\t0\t0\t0\t0\t0\t0\t0\t0\t2\t3\n",
    "Fas3_Avg\t0.5\t0.5\t0.5\t0.5\t0.5\t0.5\t0.5\t0.5\t0.5\t2.5\t3\n",
    "fln\t1\t1\t1\t1\t2\t2\t2\t2\t1\t1\tND\n",
    "foxo\t2\t2\t2\t2\t1\t1\t1\t1\t1\t2\t1\n",
    "Fs(2)Ket\t2\t2\t2\t2\t1\t1\t1\t1\t1\t1\t1\n",
    "grim\t0\t0\t0\t0\t0\t0\t0\t0\t0\t0\t0\n",
    "haf\t0\t0\t0\t0\t0\t0\t0\t0\t0\t0\t0\n",
    "kkv, CG14668\t1\t1\t1\t1\t1\t1\t2\t2\t1\t1\t1\n",
    "klu\t0\t0\t0\t0\t0\t0\t0\t0\t0\t0\t0\n",
    "Mapmodulin\t2\t2\t2\t1\t1\t1\t1\t1\t2\t2\t1\n",
    "mbl\t1\t2\t2\t2\t1\t0\t0\t0\t1\t3\t1\n",
    "Mi-2\t1\t1\t1\t1\t2\t2\t2\t2\t1\t0\tND\n",
    "Su(Tpl)\t1\t1\t1\t1\t2\t2\t2\t2\t1\t0\tND\n",
    "Mipp1\t0\t0\t0\t0\t0\t0\t0\t0\t0\t0\t0\n",
    "Mlc2\t0\t0\t0\t0\t0\t0\t0\t0\t0\t0\t0\n",
    "NFAT\t0\t0\t0\t0\t0\t0\t0\t0\t0\t0\t0\n",
    "nkd\t0\t0\t0\t0\t0\t0\t0\t0\t0\t0\t0\n",
    "Nlg3\t1\t1\t1\t1\t1\t2\t2\t1\tND\t1\t1\n",
    "Nlg3\t0\t0\t0\t0\t0\t1\t1\t1\t0\t0\t0\n",
    "Nlg3_Avg\t0.5\t0.5\t0.5\t0.5\t0.5\t1.5\t1.5\t1\t0\t0.5\t0.5\n",
    "nord\t1\t1\t1\t1\t0\t0\t0\t0\t0\t2\t0\n",
    "Np\t0\t0\t0\t0\t0\t0\t0\t0\t0\t0\t0\n",
    "Nrg\t2\t1\t1\t1\t2\t2\t2\t2\t2\t2\t2\n",
    "osa\t0\t0\t0\t0\t0\t0\t0\t0\t0\t0\t0\n",
    "osa\t1\t1\t1\t1\t2\t2\t2\t2\t2\t2\tND\n",
    "osa_Avg\t0.5\t0.5\t0.5\t0.5\t1\t1\t1\t1\t1\t1\t0\n",
    "p53\t2\t2\t1\t0\t0\t0\t0\t0\tND\t1\t0\n",
    "Pdcd4\t3\t3\t3\t3\t1\t2\t2\t2\t3\t3\t1\n",
    "Pde11\t0\t0\t0\t0\t0\t0\t0\t0\t0\t0\t0\n",
    "Piezo\t0\t0\t0\t0\t0\t0\t0\t0\t0\t3\t0\n",
    "ppk19\t0\t0\t0\t0\t0\t0\t0\t0\t0\t0\t0\n",
    "ppk30\t0\t0\t0\t0\t0\t0\t0\t0\t0\t0\t0\n",
    "rdo\t1\t1\t1\t1\t2\t2\t2\t2\t1\t1\t1\n",
    "rdo\t1\t1\t1\t1\t2\t2\t3\t3\t1\t1\t3\n",
    "rdo\t1\t1\t1\t1\t2\t2\t3\t3\t1\t1\t3\n",
    "rdo_Avg\t1\t1\t1\t1\t2\t2\t2.666666667\t2.666666667\t1\t1\t2.333333333\n",
    "RunxA\t1\t1\t1\t1\t1\t1\t1\t1\t1\t1\t1\n",
    "Sap-r\t1\t1\t1\t1\t2\t3\t3\t3\t2\t3\t1\n",
    "sca\t0\t0\t0\t0\t0\t0\t0\t0\t0\t0\t0\n",
    "SNF4gamma\t1\t1\t1\t1\t1\t1\t1\t1\t1\t1\t1\n",
    "Snmp1\t1\t1\t1\t1\t1\t1\t1\t1\t1\t1\t1\n",
    "sosie\t1\t1\t1\t1\t1\t2\t2\t2\t1\t1\t1\n",
    "spir\t1\t1\t1\t1\t0\t0\t0\t0\t0\t0\t0\n",
    "SRPK\t2\t2\t2\t2\t0\t0\t0\t0\t1\t1\t1\n",
    "stai\t3\t2\t2\t2\t2\t2\t2\t2\t1\t3\t2\n",
    "stg\t0\t0\t0\t0\t0\t0\t0\t0\t0\t0\t0\n",
    "Syn\t1\t1\t1\t1\t1\t1\t1\t2\t1\t1\t1\n",
    "Syn\t0\t0\t0\t0\t0\t0\t0\t0\t0\t0\t0\n",
    "Syn\t1\t1\t1\t1\t1\t1\t1\t1\t1\t1\t0\n",
    "Syn_Avg\t0.6666666667\t0.6666666667\t0.6666666667\t0.6666666667\t0.6666666667\t0.6666666667\t0.6666666667\t1\t0.6666666667\t0.6666666667\t0.3333333333\n",
    "Tep2\t0\t1\t1\t1\t0\t2\t2\t2\t2\t0\t0\n",
    "tok\t1\t1\t1\t1\t1\t0\t0\t0\t1\t2\t1\n",
    "tutl\t1\t1\t1\t1\t0\t0\t0\t0\t1\t1\t0\n",
    "twin\t1\t1\t1\t1\t0\t0\t0\t0\t0\t0\t0\n",
    "VGlut\t0\t0\t0\t0\t0\t0\t0\t0\t0\t0\t0\n",
    "\"\"\""
   ]
  },
  {
   "cell_type": "code",
   "execution_count": null,
   "metadata": {},
   "outputs": [],
   "source": [
    "gene_mapper = nbconfig.symbol2fbgn.copy()\n",
    "\n",
    "gene_mapper.update(\n",
    "    {\n",
    "        'ATP8A': 'FBgn0259221',\n",
    "        'CG3277 (receptor protein-tyrosine kinase)': 'FBgn0031518',\n",
    "        'kkv, CG14668': 'FBgn0037320',\n",
    "        'SNF4gamma': 'FBgn0264357',\n",
    "    }\n",
    ")\n",
    "\n",
    "ptrap = (\n",
    "    pd.read_csv(StringIO(ptrap_str), sep='\\t')\n",
    "    .query('not gene_symbol.str.contains(\"Avg\")', engine='python')\n",
    "    .assign(FBgn=lambda df: df.gene_symbol.map(gene_mapper))\n",
    "    .set_index('FBgn')\n",
    "    .drop(columns=['gene_symbol', 'H', 'C'])\n",
    "    .replace('ND', 0)\n",
    "    .astype(int)\n",
    ")"
   ]
  },
  {
   "cell_type": "code",
   "execution_count": null,
   "metadata": {},
   "outputs": [],
   "source": [
    "_title = 'Germ Line (Ptrap)'\n",
    "_clusters = nbconfig.short_cluster_order[:4]\n",
    "_genes = ptrap.index.intersection(gonia_genes).intersection(expression.index).unique()\n",
    "_dat = (\n",
    "    pd.concat([ptrap.query(f'FBgn.isin({_genes.tolist()})', engine='python'), expression.reindex(_genes)], keys=['ptrap', 'scRNASeq'], sort=True)\n",
    "    .sort_index(level=1)\n",
    "    .rename(index=nbconfig.fbgn2symbol, level=1)\n",
    "    .loc[:, _clusters]\n",
    ")\n",
    "\n",
    "fig = plt.figure(figsize=(8, 15))\n",
    "ax = sns.heatmap(_dat, yticklabels=True, cmap='viridis')\n",
    "ax.set_title(_title)\n",
    "ax.set_ylabel('Gene')\n",
    "\n",
    "previous = ''\n",
    "for i, gene in enumerate([l.get_text().replace('ptrap-', '').replace('scRNASeq-', '') for l in ax.get_yticklabels()]):\n",
    "    if gene == previous:\n",
    "        continue\n",
    "    ax.axhline(i, color='w')\n",
    "    previous = gene"
   ]
  },
  {
   "cell_type": "code",
   "execution_count": null,
   "metadata": {},
   "outputs": [],
   "source": [
    "biomarkers.query(f'FBgn.isin({_genes.tolist()}) and cluster == [\"SP\", \"ES\", \"MS\", \"LS\"]', engine='python')"
   ]
  },
  {
   "cell_type": "code",
   "execution_count": null,
   "metadata": {},
   "outputs": [],
   "source": [
    "# Plot gonia validation\n",
    "_title = 'Cytes (Ptrap)'\n",
    "_clusters = nbconfig.short_cluster_order[4:7]\n",
    "_genes = ptrap.index.intersection(cyte_genes).intersection(expression.index).unique()\n",
    "_dat = (\n",
    "    pd.concat([ptrap.query(f'FBgn.isin({_genes.tolist()})', engine='python'), expression.reindex(_genes)], keys=['ptrap', 'scRNASeq'], sort=True)\n",
    "    .sort_index(level=1)\n",
    "    .rename(index=nbconfig.fbgn2symbol, level=1)\n",
    "    .loc[:, _clusters]\n",
    ")\n",
    "\n",
    "fig = plt.figure(figsize=(8, 15))\n",
    "ax = sns.heatmap(_dat, yticklabels=True, cmap='viridis')\n",
    "ax.set_title(_title)\n",
    "ax.set_ylabel('Gene')\n",
    "\n",
    "previous = ''\n",
    "for i, gene in enumerate([l.get_text().replace('ptrap-', '').replace('scRNASeq-', '') for l in ax.get_yticklabels()]):\n",
    "    if gene == previous:\n",
    "        continue\n",
    "    ax.axhline(i, color='w', lw=2)\n",
    "    previous = gene"
   ]
  },
  {
   "cell_type": "code",
   "execution_count": null,
   "metadata": {},
   "outputs": [],
   "source": [
    "biomarkers.query(f'FBgn.isin({_genes.tolist()}) and cluster == [\"EC\", \"MC\", \"LC\"]', engine='python')"
   ]
  },
  {
   "cell_type": "code",
   "execution_count": null,
   "metadata": {},
   "outputs": [],
   "source": [
    "_title = 'TE (Ptrap)'\n",
    "_clusters = nbconfig.short_cluster_order[-2]\n",
    "_genes = ptrap.index.intersection(te_genes).intersection(expression.index).unique()\n",
    "_dat = (\n",
    "    pd.concat([ptrap.query(f'FBgn.isin({_genes.tolist()})', engine='python'), expression.reindex(_genes)], keys=['ptrap', 'scRNASeq'], sort=True)\n",
    "    .sort_index(level=1)\n",
    "    .rename(index=nbconfig.fbgn2symbol, level=1)\n",
    "    .loc[:, _clusters]\n",
    "    .to_frame()\n",
    ")\n",
    "\n",
    "fig = plt.figure(figsize=(8, 15))\n",
    "ax = sns.heatmap(_dat, yticklabels=True, cmap='viridis')\n",
    "ax.set_title(_title)\n",
    "ax.set_ylabel('Gene')\n",
    "\n",
    "previous = ''\n",
    "for i, gene in enumerate([l.get_text().replace('ptrap-', '').replace('scRNASeq-', '') for l in ax.get_yticklabels()]):\n",
    "    if gene == previous:\n",
    "        continue\n",
    "    ax.axhline(i, color='w', lw=2)\n",
    "    previous = gene"
   ]
  },
  {
   "cell_type": "code",
   "execution_count": null,
   "metadata": {},
   "outputs": [],
   "source": [
    "biomarkers.query(f'FBgn.isin({_genes.tolist()}) and cluster == \"TE\"', engine='python')"
   ]
  },
  {
   "cell_type": "code",
   "execution_count": null,
   "metadata": {},
   "outputs": [],
   "source": [
    "_title = 'PC (Ptrap)'\n",
    "_clusters = nbconfig.short_cluster_order[-1]\n",
    "_genes = ptrap.index.intersection(pc_genes).intersection(expression.index).unique()\n",
    "_dat = (\n",
    "    pd.concat([ptrap.query(f'FBgn.isin({_genes.tolist()})', engine='python'), expression.reindex(_genes)], keys=['ptrap', 'scRNASeq'], sort=True)\n",
    "    .sort_index(level=1)\n",
    "    .rename(index=nbconfig.fbgn2symbol, level=1)\n",
    "    .loc[:, _clusters]\n",
    "    .to_frame()\n",
    ")\n",
    "\n",
    "fig = plt.figure(figsize=(8, 15))\n",
    "ax = sns.heatmap(_dat, yticklabels=True, cmap='viridis')\n",
    "ax.set_title(_title)\n",
    "ax.set_ylabel('Gene')\n",
    "\n",
    "previous = ''\n",
    "for i, gene in enumerate([l.get_text().replace('ptrap-', '').replace('scRNASeq-', '') for l in ax.get_yticklabels()]):\n",
    "    if gene == previous:\n",
    "        continue\n",
    "    ax.axhline(i, color='w', lw=2)\n",
    "    previous = gene"
   ]
  },
  {
   "cell_type": "code",
   "execution_count": null,
   "metadata": {},
   "outputs": [],
   "source": [
    "biomarkers.query(f'FBgn.isin({_genes.tolist()}) and cluster == \"PC\"', engine='python')"
   ]
  },
  {
   "cell_type": "code",
   "execution_count": null,
   "metadata": {
    "lines_to_next_cell": 3
   },
   "outputs": [],
   "source": []
  }
 ],
 "metadata": {
  "kernelspec": {
   "display_name": "Python [conda env:larval_gonad]",
   "language": "python",
   "name": "conda-env-larval_gonad-py"
  }
 },
 "nbformat": 4,
 "nbformat_minor": 2
}
