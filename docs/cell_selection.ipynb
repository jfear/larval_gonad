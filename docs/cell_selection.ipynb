{
 "cells": [
  {
   "cell_type": "code",
   "execution_count": 0,
   "metadata": {},
   "outputs": [],
   "source": [
    "# Change directory to VSCode workspace root so that relative path loads work correctly. Turn this addition off with the DataScience.changeDirOnImportExport setting\n",
    "# ms-python.python added\n",
    "import os\n",
    "try:\n",
    "\tos.chdir(os.path.join(os.getcwd(), '..'))\n",
    "\tprint(os.getcwd())\n",
    "except:\n",
    "\tpass\n"
   ]
  },
  {
   "cell_type": "code",
   "execution_count": 1,
   "metadata": {},
   "outputs": [
    {
     "name": "stdout",
     "output_type": "stream",
     "text": [
      "/var/home/fearjm/Projects/larval_gonad/docs\n"
     ]
    }
   ],
   "source": [
    "import os\n",
    "\n",
    "try:\n",
    "    os.chdir(os.path.join(os.getcwd(), \"docs\"))\n",
    "    print(os.getcwd())\n",
    "except:\n",
    "    pass\n"
   ]
  },
  {
   "cell_type": "markdown",
   "metadata": {},
   "source": [
    " # Cell Selection"
   ]
  },
  {
   "cell_type": "code",
   "execution_count": 2,
   "metadata": {},
   "outputs": [],
   "source": [
    "from pathlib import Path\n",
    "import pandas as pd\n"
   ]
  },
  {
   "cell_type": "code",
   "execution_count": 3,
   "metadata": {},
   "outputs": [],
   "source": [
    "OUTDIR = Path(\"../output/cellselection-wf\")\n"
   ]
  },
  {
   "cell_type": "code",
   "execution_count": 4,
   "metadata": {},
   "outputs": [
    {
     "name": "stdout",
     "output_type": "stream",
     "text": [
      "Total Number of Cells: 18,965\n",
      "Rep 1: 2,704\n",
      "Rep 2: 4,303\n",
      "Rep 3: 11,958\n"
     ]
    }
   ],
   "source": [
    "# Number of Cells\n",
    "cells = [\n",
    "    x\n",
    "    for x in pd.read_feather(Path(OUTDIR, \"raw.feather\")).set_index(\"FBgn\").columns\n",
    "    if not \"rep4\" in x\n",
    "]\n",
    "print(f\"Total Number of Cells: {len(cells):,}\")\n",
    "print(f\"Rep 1: {len([x for x in cells if 'rep1' in x]):,}\")\n",
    "print(f\"Rep 2: {len([x for x in cells if 'rep2' in x]):,}\")\n",
    "print(f\"Rep 3: {len([x for x in cells if 'rep3' in x]):,}\")\n"
   ]
  },
  {
   "cell_type": "code",
   "execution_count": 5,
   "metadata": {},
   "outputs": [
    {
     "name": "stdout",
     "output_type": "stream",
     "text": [
      "Avg Num Genes Per Cell: 1,058.23\n"
     ]
    }
   ],
   "source": [
    "# Number of expressed genes\n",
    "avg_num_genes_per_cell = (\n",
    "    (pd.read_feather(Path(OUTDIR, \"raw.feather\", columns=[\"FBgn\"] + cells)).set_index(\"FBgn\") > 0)\n",
    "    .sum()\n",
    "    .mean()\n",
    ")\n",
    "print(f\"Avg Num Genes Per Cell: {avg_num_genes_per_cell:,.2f}\")\n"
   ]
  }
 ],
 "metadata": {
  "file_extension": ".py",
  "kernelspec": {
   "display_name": "Python 3",
   "language": "python",
   "name": "python3"
  },
  "language_info": {
   "codemirror_mode": {
    "name": "ipython",
    "version": 3
   },
   "file_extension": ".py",
   "mimetype": "text/x-python",
   "name": "python",
   "nbconvert_exporter": "python",
   "pygments_lexer": "ipython3",
   "version": "3.6.7"
  },
  "mimetype": "text/x-python",
  "name": "python",
  "npconvert_exporter": "python",
  "pygments_lexer": "ipython3",
  "version": 3
 },
 "nbformat": 4,
 "nbformat_minor": 2
}
