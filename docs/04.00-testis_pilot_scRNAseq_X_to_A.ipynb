{
 "cells": [
  {
   "cell_type": "markdown",
   "metadata": {},
   "source": [
    "# X to Autosome Ratio"
   ]
  },
  {
   "cell_type": "markdown",
   "metadata": {},
   "source": [
    "<!--NAVIGATION-->\n",
    "< [Combined Pilot scRNA-Seq](03.00-combined_ovary_and_testis_pilot_scRNAseq_analysis.ipynb) | [Contents](Index.ipynb) |"
   ]
  },
  {
   "cell_type": "markdown",
   "metadata": {},
   "source": [
    "Here I perform a preliminary dosage compensation experiment in testis."
   ]
  },
  {
   "cell_type": "code",
   "execution_count": null,
   "metadata": {
    "code_folding": [
     0
    ]
   },
   "outputs": [
    {
     "name": "stdout",
     "output_type": "stream",
     "text": [
      "last updated: 2018-01-24 \n",
      "Git hash: 030fdcfce56c014f54c3c8e623519aea867f128a\n"
     ]
    }
   ],
   "source": [
    "import os\n",
    "import sys \n",
    "from pathlib import Path\n",
    "\n",
    "import numpy as np\n",
    "import pandas as pd\n",
    "\n",
    "import matplotlib as mpl\n",
    "import matplotlib.pyplot as plt\n",
    "import seaborn as sns\n",
    "\n",
    "# Project level imports\n",
    "sys.path.insert(0, '../lib')\n",
    "from larval_gonad.notebook import Nb\n",
    "from larval_gonad.x_to_a import CHROMS_CHR, MAJOR_ARMS_CHR, idx_stats_by_cluster\n",
    "\n",
    "# Setup notebook\n",
    "nbconfig = Nb.setup_notebook('testis_pilog_scRNA_X_to_A')\n",
    "\n",
    "# Turn on cache\n",
    "from joblib import Memory\n",
    "memory = Memory(cachedir=nbconfig.cache, verbose=0)\n"
   ]
  },
  {
   "cell_type": "code",
   "execution_count": null,
   "metadata": {
    "code_folding": []
   },
   "outputs": [],
   "source": [
    "# Constants\n",
    "REF = os.environ['REFERENCES_DIR']\n",
    "OUTPUT = '../output/testis_pilot_scRNAseq_X_to_A'\n",
    "Path(OUTPUT).mkdir(exist_ok=True)\n",
    "\n",
    "BRIAN = ['dj', 'ocn', 'CG10920', 'boil', 'CG1314']  # CG12681 is not called boil\n",
    "SHAR_PRIMARY = ['CG11635', 'CG18449', 'CG2127', 'CG3927']\n",
    "SHAR_LATE = ['bb8', 'CG10252', 'djl', 'betaTub85D', 'fzo', \n",
    "             'Hsp60B', 'Hsp60C', 'Hsp60D', 'Cyt-c-d']\n",
    "SHAR_POST = ['schuy', 'hale', 'sunz', 'sowi', 'boly', 't-cup', 'c-cup',\n",
    "             'h-cup', 'm-cup', 'd-cup', 'wa-cup', 'f-cup', 'w-cup', 'orb', 'soti']\n",
    "\n",
    "# Import data from testes\n",
    "meta_data = pd.read_csv('../output/testes_scRNAseq_pilot/metadata.tsv', sep='\\t')\n",
    "raw = pd.read_csv('../output/testes_scRNAseq_pilot/raw.tsv', sep='\\t')\n",
    "norm = pd.read_csv('../output/testes_scRNAseq_pilot/normalized_read_counts.tsv', sep='\\t')\n",
    "scale = pd.read_csv('../output/testes_scRNAseq_pilot/scaled.tsv', sep='\\t')\n",
    "clusters = pd.read_csv('../output/testes_scRNAseq_pilot/clusters.tsv', sep='\\t').ident\n",
    "\n",
    "# Re-order columns\n",
    "norm = norm[clusters.index].copy()\n",
    "data = norm.T.join(clusters)\n",
    "data.rename(columns={'ident': 'cluster'}, inplace=True)"
   ]
  },
  {
   "cell_type": "code",
   "execution_count": null,
   "metadata": {
    "code_folding": [
     0
    ]
   },
   "outputs": [],
   "source": [
    "# Create fbgn2symbol and symbol2fbgn map\n",
    "annot = pd.read_csv(Path(REF, 'dmel/r6-16/fb_annotation/dmel_r6-16.fb_annotation'),\n",
    "                   sep='\\t', index_col=1)\n",
    "\n",
    "fbgn2symbol = annot['gene_symbol'].to_dict()\n",
    "symbol2fbgn = {v: k for k, v in fbgn2symbol.items()}\n",
    "\n",
    "# Create fbgn2chrom\n",
    "genes = []\n",
    "with Path(REF, 'dmel/r6-16/gtf/dmel_r6-16.gtf').open() as fh:\n",
    "    for row in fh:\n",
    "        rows = row.strip().split()\n",
    "        \n",
    "        if len(rows) == 0:\n",
    "            continue\n",
    "            \n",
    "        if rows[2] == 'gene':\n",
    "            genes.append((rows[0], rows[9].replace('\"', '').replace(';', '')))\n",
    "\n",
    "fbgn2chrom = pd.DataFrame(genes, columns=['chrom', 'FBgn'])\n",
    "fbgn2chrom.set_index('FBgn', inplace=True)\n",
    "fbgn2chrom = fbgn2chrom[fbgn2chrom['chrom'].isin(CHROMS_CHR)]"
   ]
  },
  {
   "cell_type": "markdown",
   "metadata": {},
   "source": [
    "## Raw Read Counts By Cluster By Chromosome"
   ]
  },
  {
   "cell_type": "markdown",
   "metadata": {},
   "source": [
    "First I plot the the raw read counts for each cluster by chromosome arm. "
   ]
  },
  {
   "cell_type": "code",
   "execution_count": null,
   "metadata": {},
   "outputs": [],
   "source": [
    "mem_idx_stats_by_cluster = memory.cache(idx_stats_by_cluster)\n",
    "\n",
    "_results = mem_idx_stats_by_cluster('../output/testis1/outs/possorted_genome_bam.bam', \n",
    "                                   '../output/testes_scRNAseq_pilot/clusters.tsv')\n",
    "\n",
    "def plot_counts_by_cluster_by_chrom(dat):\n",
    "    melted = dat.reset_index().melt(id_vars='chrom')\n",
    "    melted.columns = ['chrom', 'cluster', 'value']\n",
    "    \n",
    "    prop = round(dat / dat.sum() * 100, 2).reset_index().melt(id_vars='chrom')\n",
    "    prop = prop.sort_values(['chrom', 'variable']).set_index(['chrom', 'variable'])['value'].values\n",
    "\n",
    "    fig, ax = plt.subplots(1, 1, figsize=(10, 10))\n",
    "    sns.barplot(x='cluster', y='value', hue='chrom', data=melted, ax=ax)\n",
    "    ax.set_title('Number of Reads Aligned')\n",
    "    ax.set_ylabel('Aligned Reads')\n",
    "    ax.set_xlabel('Cluster');\n",
    "    \n",
    "    for i, j in zip(ax.patches, prop):\n",
    "        ax.text(i.get_x() + .07, i.get_height() + 100000, f'{j}%', ha='center', rotation='vertical', fontsize=8)\n",
    "\n",
    "plot_counts_by_cluster_by_chrom(_results)"
   ]
  },
  {
   "cell_type": "markdown",
   "metadata": {},
   "source": [
    "## Expression Cutoff"
   ]
  },
  {
   "cell_type": "markdown",
   "metadata": {},
   "source": [
    "We have seen in the literature that expression cutoffs have a large affect on dosage compensation measurements. This is especially true for scRNA-seq because data is sparse. Looking at these data thus far, we have seen interesting patterns showing evidence for Meiotic Sex Chromosome Silencing, but as I will show this is highly contingent on which gene expression cutoffs are used. I think if we understand the differences between the cutoffs we should be able to reconcile what they all show, and select the cutoff that shows this in the clearest light.\n",
    "\n",
    "I present a series of box and whisker plots showing the distribution of normalized gene expression by major chromosome arm. Each panel represents cells that belong to a single cluster (0-6). I have also added additional metadata to the plot; the dashed line is the median expression for {2L, 2R, 3L, 3R} and represents median autosomal expression. \"X Compensation\" represents the amount X chromosome compensation compared to the autosomes `(median X / median autosome) * 2`. Here a value of 2 would indicate perfect compensation, a value of 1 would indicate no compensation, and a value of `nan` indicates not able to calculate because of zero division. Each panel also has the total number of cells present in the cluster `(n=## cells)` and the total number of expressed genes in the cluster `(g=## genes)`. The numbers above the whiskers are the number of genes expressed on the corresponding arm and the percent of genes from the arm."
   ]
  },
  {
   "cell_type": "code",
   "execution_count": null,
   "metadata": {},
   "outputs": [],
   "source": [
    "# Set up a basic boxplot function that also adds a horizontal line \n",
    "# at the median of the Major Autosomes {2L, 2R, 3L, 3R}. I am excluding\n",
    "# 4 because it often behaves similarly to X.\n",
    "def plot_boxplots(x, y, **kwargs):\n",
    "    \"\"\"Designed to be used with Seaborn.FacetGrid\"\"\"\n",
    "    _dat = kwargs['data']\n",
    "    _dat = _dat[_dat[x].isin(CHROMS_CHR)]\n",
    "    num_cells = kwargs.pop('num_cells')\n",
    "    num_genes = _dat.shape[0]\n",
    "\n",
    "    ax = sns.boxplot(x, y, **kwargs)\n",
    "    med_major = _dat.loc[_dat[x].isin(MAJOR_ARMS_CHR), y].median()\n",
    "    med_x = _dat.loc[_dat[x] == 'chrX', y].median()\n",
    "    ax.axhline(med_major, ls='--', color=nbconfig.color_c1)\n",
    "    \n",
    "    try:\n",
    "        prop_dcc = np.round((med_x / med_major) * 2, 2)\n",
    "    except ZeroDivisionError:\n",
    "        prop_dcc = np.nan\n",
    "        \n",
    "    \n",
    "    ax.text(.05, .9, f'X Compensation: {prop_dcc}\\n(n={num_cells} cells)\\n(g={num_genes:,} genes)', transform=ax.transAxes)\n",
    "    \n",
    "    # Add gene counts per chrom\n",
    "    gdsc = _dat.groupby(x)[y].describe()\n",
    "    gcnts = gdsc['count'].to_dict()\n",
    "    gmax = gdsc['max'].to_dict()\n",
    "    loc = (gdsc['75%'] + _dat.groupby(x)[y].apply(sns.utils.iqr) * 1.5).max()\n",
    "\n",
    "    for i, chrom in enumerate(CHROMS_CHR):\n",
    "        try:\n",
    "            pop_genes = np.round(gcnts[chrom] / num_genes * 100, 2)\n",
    "            ax.text(i, loc + .1, f'{gcnts[chrom]:0.0f}\\n{pop_genes}%', ha='center')\n",
    "        except KeyError:\n",
    "            pass"
   ]
  },
  {
   "cell_type": "markdown",
   "metadata": {},
   "source": [
    "### Expression Cutoff 1 (what I have been doing)"
   ]
  },
  {
   "cell_type": "markdown",
   "metadata": {},
   "source": [
    "The first method is similar to what I have used before in large scale bulk RNA-seq expression datasets. We are typically only interested in genes that are well represented across most samples (cells). This method works well in controlled experiments that have roughly equal representation of sample classes, but I fear it adds artifacts given our dataset.\n",
    "\n",
    "This method fist calculates an expression cutoff given some criteria (here: `# reads > 0`) for the entire datasets. It then considers a gene expressed if it is \"on\" in some fractions of samples (here: 1/3 of all cells). "
   ]
  },
  {
   "cell_type": "code",
   "execution_count": null,
   "metadata": {},
   "outputs": [],
   "source": [
    "# Expression cutoff method 1\n",
    "def expOne(x, y, cutoff=0, **kwargs):\n",
    "    # Determine which genes are expressed: # reads > 0 and on in 1/3 of cells\n",
    "    expressed = (norm > 0).sum(axis=1) > (norm.shape[1] / 3)\n",
    "    dat = kwargs.pop('data').drop('cluster', axis=1)\n",
    "    dat = dat.T\n",
    "    num_cells = dat.shape[1]\n",
    "\n",
    "    # 2) calculate median\n",
    "    dat = dat[dat.index.isin(expressed[expressed].index)].median(axis=1).to_frame()\n",
    "\n",
    "    # clean up\n",
    "    dat = dat.join(fbgn2chrom, how='left')\n",
    "    dat.columns = [y, x]\n",
    "    dat['log2'] = np.log2(np.exp(dat[y]))\n",
    "\n",
    "    plot_boxplots(x, y, data=dat, num_cells=num_cells, **kwargs)\n",
    "\n",
    "g = sns.FacetGrid(data, col='cluster', col_wrap=2, size=5)\n",
    "g.map_dataframe(expOne, 'Chromosome Arm', 'Normalized Expression', palette=nbconfig.colors, order=CHROMS_CHR, notch=True, fliersize=0, cutoff=1)\n",
    "g.set(ylim=(None, 4));"
   ]
  },
  {
   "cell_type": "markdown",
   "metadata": {},
   "source": [
    "These plots show dosage compensation in somatic clusters {0, 1} and partial compensation in germ cell cluster {3} and MISC in late germ cell cluster {4}. Strangely there is over compensation in clusters {2, 5, 6}. \n",
    "\n",
    "Conceptually we consider a gene as expressed if it was \"on\" in ~160 cells. Because the cell numbers are so different among clusters, I think we are biasing for clusters that have more cells. Then clusters that have few cells will tend to have genes that have 0 expression still present because they were expressed in other clusters. I think this is what we are really seeing in cluster 4, which explains why expression for all chromosome arms is really low.\n",
    "\n",
    "Interestingly, median genes expression of the X is similar among clusters {1, 2, 3, 5}, while cluster {0, 4} have a drop off to near 0. This could indicate that there are fundamentally different genes on the X being expressed in these clusters. We see a similar pattern with 3L and 3R in clusters {0, 2, 4} vs clusters {1, 3, 5, 6}."
   ]
  },
  {
   "cell_type": "markdown",
   "metadata": {},
   "source": [
    "### Expression Cutoff 2 (Cluster Cutoff)"
   ]
  },
  {
   "cell_type": "markdown",
   "metadata": {},
   "source": [
    "The second method calculates the same expression cutoff given some criteria (here: # reads > 0) for the entire datasets. However, it then considers a gene expressed if it is \"on\" in some fractions of cells (here: 1/3 of cells) **within a cluster**. Conceptually it is similar as the first method, but handles the potential large differences in expression among cell types."
   ]
  },
  {
   "cell_type": "code",
   "execution_count": null,
   "metadata": {},
   "outputs": [],
   "source": [
    "def expTwo(x, y, cutoff=0, **kwargs):\n",
    "    # Determine which genes are expressed: # reads > 0 and on in 1/3 of cells within cluster\n",
    "    dat = kwargs.pop('data').drop('cluster', axis=1)\n",
    "    dat = dat.T\n",
    "    num_cells = dat.shape[1]\n",
    "\n",
    "    expressed = (dat > 0).sum(axis=1) > (num_cells / 3)\n",
    "\n",
    "    # 2) calculate median\n",
    "    dat = dat[dat.index.isin(expressed[expressed].index)].median(axis=1).to_frame()\n",
    "\n",
    "    # clean up\n",
    "    dat = dat.join(fbgn2chrom, how='left')\n",
    "    dat.columns = [y, x]\n",
    "    dat['log2'] = np.log2(np.exp(dat[y]))\n",
    "\n",
    "    plot_boxplots(x, y, data=dat, num_cells=num_cells, **kwargs)\n",
    "\n",
    "    \n",
    "g = sns.FacetGrid(data, col='cluster', col_wrap=2, size=5)\n",
    "g.map_dataframe(expTwo, 'Chromosome Arm', 'Normalized Expression', palette=nbconfig.colors, order=CHROMS_CHR, notch=True, fliersize=0, cutoff=1)\n",
    "g.set(ylim=(None, 4.5));"
   ]
  },
  {
   "cell_type": "markdown",
   "metadata": {},
   "source": [
    "Here all clusters except {3, 4} show full compensation. Clusters 3, 4 show partial compensation with around a 1.4 fold. Gene expression of the Y is only present in cluster 4. The number of expressed genes is highly variable ranging from 2,284 (cluster 0) to 4,992 (cluster 3). While the proportion of expressed X linked genes is stable ~16-17%, except for cluster 4 where there is a drop to 12% which has a corresponding up tick in 2L linked expression. While absolute numbers do not show evidence of MISC, if you look at these proportional differences, perhaps MISC is still a potential mechanism. "
   ]
  },
  {
   "cell_type": "markdown",
   "metadata": {},
   "source": [
    "### Expression cutoff 3"
   ]
  },
  {
   "cell_type": "markdown",
   "metadata": {},
   "source": [
    "The third method calculates the same expression cutoff given some criteria (here: # reads > 0) for the entire datasets. However, it then considers a gene expressed if it is \"on\" in at least 3 cells **within a cluster**. This criteria is similar to what we are using for filtering genes during Seurat analysis."
   ]
  },
  {
   "cell_type": "code",
   "execution_count": null,
   "metadata": {},
   "outputs": [],
   "source": [
    "def expThree(x, y, cutoff=0, **kwargs):\n",
    "    # Determine which genes are expressed: # reads > 0 and on in at least 3 cells within cluster\n",
    "    dat = kwargs.pop('data').drop('cluster', axis=1)\n",
    "    dat = dat.T\n",
    "    num_cells = dat.shape[1]\n",
    "\n",
    "    expressed = (dat > 0).sum(axis=1) >= 3\n",
    "\n",
    "    # 2) calculate median\n",
    "    dat = dat[dat.index.isin(expressed[expressed].index)].median(axis=1).to_frame()\n",
    "\n",
    "    # clean up\n",
    "    dat = dat.join(fbgn2chrom, how='left')\n",
    "    dat.columns = [y, x]\n",
    "    dat['log2'] = np.log2(np.exp(dat[y]))\n",
    "\n",
    "    plot_boxplots(x, y, data=dat, num_cells=num_cells, **kwargs)\n",
    "\n",
    "    \n",
    "g = sns.FacetGrid(data, col='cluster', col_wrap=2, size=5)\n",
    "g.map_dataframe(expThree, 'Chromosome Arm', 'Normalized Expression', palette=nbconfig.colors, order=CHROMS_CHR, notch=True, fliersize=0, cutoff=1)\n",
    "g.set(ylim=(None, 4));"
   ]
  },
  {
   "cell_type": "markdown",
   "metadata": {},
   "source": [
    "This method has a lot of cells with 0 counts, because of the high drop out rate in scRNA-seq, which drives all of the medians towards 0. This method looks to bias against clusters with a lot cells because this increases the likely hood of meeting this criteria. For example cluster 0 which has the most cells (n=146) has a median of 0 for all arms except for the 4th. This method shows some evidence of Y expression in clusters {0, 3, 4}. "
   ]
  },
  {
   "cell_type": "markdown",
   "metadata": {},
   "source": [
    "### Expression cutoff 4"
   ]
  },
  {
   "cell_type": "markdown",
   "metadata": {},
   "source": [
    "The fourth method changes the expression cutoff to (here: # reads ≥ 3) for the entire datasets, and considers a gene expressed if it is \"on\" in at least 3 cells **within a cluster**. This method will shed some light on the typical magnitude of expression which we explored in the original preliminary analysis."
   ]
  },
  {
   "cell_type": "code",
   "execution_count": null,
   "metadata": {},
   "outputs": [],
   "source": [
    "def expFour(x, y, cutoff=0, **kwargs):\n",
    "    # Determine which genes are expressed: # reads ≥ 3 and on in at least 3 cells within cluster\n",
    "    dat = kwargs.pop('data').drop('cluster', axis=1)\n",
    "    dat = dat.T\n",
    "    num_cells = dat.shape[1]\n",
    "\n",
    "    expressed = (dat >= 3).sum(axis=1) >= 3\n",
    "\n",
    "    # 2) calculate median\n",
    "    dat = dat[dat.index.isin(expressed[expressed].index)].median(axis=1).to_frame()\n",
    "\n",
    "    # clean up\n",
    "    dat = dat.join(fbgn2chrom, how='left')\n",
    "    dat.columns = [y, x]\n",
    "    dat['log2'] = np.log2(np.exp(dat[y]))\n",
    "\n",
    "    plot_boxplots(x, y, data=dat, num_cells=num_cells, **kwargs)\n",
    "\n",
    "    \n",
    "g = sns.FacetGrid(data, col='cluster', col_wrap=2, size=5)\n",
    "g.map_dataframe(expFour, 'Chromosome Arm', 'Normalized Expression', palette=nbconfig.colors, order=CHROMS_CHR, notch=True, fliersize=0, cutoff=1)\n",
    "g.set(ylim=(None, 7.5));"
   ]
  },
  {
   "cell_type": "markdown",
   "metadata": {},
   "source": [
    "Using this method, gene numbers are extremely low, and compensation is hard to interpret."
   ]
  },
  {
   "cell_type": "markdown",
   "metadata": {},
   "source": [
    "### Summary\n",
    "\n",
    "To summarize, I think method 2 shows the most interpretable results. In general it looks as if all clusters except {3, 4} show full dosage compensation. Clusters {3, 4} show partial dosage compensation, with cluster 4 showing changes in the make up of the X linked genes used perhaps indicating MISC. The majority of Y linked expression is constrained to cluster 4. Of the genes considered expressed, expression is low typically less than 2 reads, which may cause problems trying to quantify dosage compensation."
   ]
  },
  {
   "cell_type": "markdown",
   "metadata": {},
   "source": [
    "## Explore Y Expression"
   ]
  },
  {
   "cell_type": "markdown",
   "metadata": {},
   "source": [
    "The above plots show Y linked expression occurring primarily in cluster 4, with minor amounts of expression in cluster 0 and 3. Here I explore what genes are being expressed from the Y in these clusters plotted as a heatmap. Remember there are 113 genes on the Y, but I only have 21 genes in this dataset.\n",
    "\n",
    "There are only a handful of cells in cluster 0 and cluster 3 that have expression of some Y linked genes. However, cluster 4 lights up with Y linked expression."
   ]
  },
  {
   "cell_type": "code",
   "execution_count": null,
   "metadata": {},
   "outputs": [],
   "source": [
    "# What genes are expressed on cluster 0?\n",
    "\n",
    "_dat = data[data['cluster'] == 0].drop('cluster', axis=1).T.join(fbgn2chrom, how='left')\n",
    "_dat = _dat[_dat.chrom == 'chrY'].drop('chrom', axis=1)\n",
    "\n",
    "_dat.index = _dat.index.map(lambda x: fbgn2symbol[x])\n",
    "_dat = _dat.loc[sorted(_dat.index, key=lambda x: x.lower())]\n",
    "\n",
    "cg = sns.clustermap(_dat, row_cluster=False, xticklabels=False)\n",
    "cg.ax_row_dendrogram.set_visible(False)\n",
    "cg.ax_col_dendrogram.set_visible(False)\n",
    "\n",
    "col = cg.ax_row_dendrogram.get_position()\n",
    "cg.cax.set_position([col.x0, col.y0, .05, col.height])\n",
    "cg.cax.yaxis.set_ticks_position('left')\n",
    "cg.cax.set_ylabel('Normalized Expression')\n",
    "cg.cax.yaxis.set_label_position('left')\n",
    "cg.ax_heatmap.set_title('Cluster 0: Y Linked Expression');\n",
    "cg.ax_heatmap.set_xlabel('Cluster 0 Cells');\n",
    "cg.ax_heatmap.set_ylabel('Y Linked Genes');"
   ]
  },
  {
   "cell_type": "code",
   "execution_count": null,
   "metadata": {},
   "outputs": [],
   "source": [
    "# What genes are expressed on cluster 3?\n",
    "\n",
    "_dat = data[data['cluster'] == 3].drop('cluster', axis=1).T.join(fbgn2chrom, how='left')\n",
    "_dat = _dat[_dat.chrom == 'chrY'].drop('chrom', axis=1)\n",
    "\n",
    "_dat.index = _dat.index.map(lambda x: fbgn2symbol[x])\n",
    "_dat = _dat.loc[sorted(_dat.index, key=lambda x: x.lower())]\n",
    "\n",
    "cg = sns.clustermap(_dat, row_cluster=False, xticklabels=False)\n",
    "cg.ax_row_dendrogram.set_visible(False)\n",
    "cg.ax_col_dendrogram.set_visible(False)\n",
    "\n",
    "col = cg.ax_row_dendrogram.get_position()\n",
    "cg.cax.set_position([col.x0, col.y0, .05, col.height])\n",
    "cg.cax.yaxis.set_ticks_position('left')\n",
    "cg.cax.set_ylabel('Normalized Expression')\n",
    "cg.cax.yaxis.set_label_position('left')\n",
    "cg.ax_heatmap.set_title('Cluster 3: Y Linked Expression');\n",
    "cg.ax_heatmap.set_xlabel('Cluster 3 Cells');\n",
    "cg.ax_heatmap.set_ylabel('Y Linked Genes');"
   ]
  },
  {
   "cell_type": "code",
   "execution_count": null,
   "metadata": {},
   "outputs": [],
   "source": [
    "# What genes are expressed on cluster 4?\n",
    "\n",
    "_dat = data[data['cluster'] == 4].drop('cluster', axis=1).T.join(fbgn2chrom, how='left')\n",
    "_dat = _dat[_dat.chrom == 'chrY'].drop('chrom', axis=1)\n",
    "\n",
    "_dat.index = _dat.index.map(lambda x: fbgn2symbol[x])\n",
    "_dat = _dat.loc[sorted(_dat.index, key=lambda x: x.lower())]\n",
    "\n",
    "cg = sns.clustermap(_dat, row_cluster=False, xticklabels=False)\n",
    "cg.ax_row_dendrogram.set_visible(False)\n",
    "cg.ax_col_dendrogram.set_visible(False)\n",
    "\n",
    "col = cg.ax_row_dendrogram.get_position()\n",
    "cg.cax.set_position([col.x0, col.y0, .05, col.height])\n",
    "cg.cax.yaxis.set_ticks_position('left')\n",
    "cg.cax.set_ylabel('Normalized Expression')\n",
    "cg.cax.yaxis.set_label_position('left')\n",
    "cg.ax_heatmap.set_title('Cluster 4: Y Linked Expression');\n",
    "cg.ax_heatmap.set_xlabel('Cluster 4 Cells');\n",
    "cg.ax_heatmap.set_ylabel('Y Linked Genes');"
   ]
  },
  {
   "cell_type": "code",
   "execution_count": null,
   "metadata": {},
   "outputs": [],
   "source": []
  },
  {
   "cell_type": "markdown",
   "metadata": {},
   "source": [
    "## Explore Male Sterile Genes\n",
    "\n",
    "Next I generated a list of genes form FlyBase that have a male sterile phenotype. Like above I plot normalized expression for clusters {3, 4} as a heatmap."
   ]
  },
  {
   "cell_type": "code",
   "execution_count": null,
   "metadata": {},
   "outputs": [],
   "source": [
    "# get male sterile data\n",
    "with open('../data/external/FlyBase_male_sterile.txt') as fh:\n",
    "    male_sterile = []\n",
    "    for row in fh:\n",
    "        if row.startswith('#'):\n",
    "            continue\n",
    "        male_sterile.append(row.strip())"
   ]
  },
  {
   "cell_type": "code",
   "execution_count": null,
   "metadata": {},
   "outputs": [],
   "source": [
    "# What genes are expressed on cluster 3?\n",
    "\n",
    "_dat = data[data['cluster'] == 3].drop('cluster', axis=1).T.join(fbgn2chrom, how='left')\n",
    "_dat = _dat[_dat.index.isin(male_sterile)].drop('chrom', axis=1)\n",
    "\n",
    "_dat.index = _dat.index.map(lambda x: fbgn2symbol[x])\n",
    "_dat = _dat.loc[sorted(_dat.index, key=lambda x: x.lower())]\n",
    "\n",
    "cg = sns.clustermap(_dat, xticklabels=False, row_cluster=False, figsize=(10, 100))\n",
    "cg.ax_row_dendrogram.set_visible(False)\n",
    "cg.ax_col_dendrogram.set_visible(False)\n",
    "\n",
    "col = cg.ax_heatmap.get_position()\n",
    "cg.cax.set_position([col.x0-.1, col.y1-.01, .05, .01])\n",
    "cg.cax.yaxis.set_ticks_position('left')\n",
    "cg.cax.set_ylabel('Normalized Expression')\n",
    "cg.cax.yaxis.set_label_position('left')\n",
    "cg.ax_heatmap.set_title('Cluster 3: Male Sterile Genes');\n",
    "cg.ax_heatmap.set_xlabel('Cluster 3 Cells');\n",
    "cg.ax_heatmap.set_ylabel('Male Sterile Genes');"
   ]
  },
  {
   "cell_type": "code",
   "execution_count": null,
   "metadata": {},
   "outputs": [],
   "source": [
    "# What genes are expressed on cluster 4?\n",
    "\n",
    "_dat = data[data['cluster'] == 4].drop('cluster', axis=1).T.join(fbgn2chrom, how='left')\n",
    "_dat = _dat[_dat.index.isin(male_sterile)].drop('chrom', axis=1)\n",
    "\n",
    "_dat.index = _dat.index.map(lambda x: fbgn2symbol[x])\n",
    "_dat = _dat.loc[sorted(_dat.index, key=lambda x: x.lower())]\n",
    "\n",
    "cg = sns.clustermap(_dat, xticklabels=False, row_cluster=False, figsize=(10, 100))\n",
    "cg.ax_row_dendrogram.set_visible(False)\n",
    "cg.ax_col_dendrogram.set_visible(False)\n",
    "\n",
    "col = cg.ax_heatmap.get_position()\n",
    "cg.cax.set_position([col.x0-.1, col.y1-.01, .05, .01])\n",
    "cg.cax.yaxis.set_ticks_position('left')\n",
    "cg.cax.set_ylabel('Normalized Expression')\n",
    "cg.cax.yaxis.set_label_position('left')\n",
    "cg.ax_heatmap.set_title('Cluster 4: Male Sterile Genes');\n",
    "cg.ax_heatmap.set_xlabel('Cluster 4 Cells');\n",
    "cg.ax_heatmap.set_ylabel('Male Sterile Genes');"
   ]
  },
  {
   "cell_type": "code",
   "execution_count": null,
   "metadata": {},
   "outputs": [],
   "source": []
  },
  {
   "cell_type": "code",
   "execution_count": null,
   "metadata": {},
   "outputs": [],
   "source": []
  },
  {
   "cell_type": "code",
   "execution_count": null,
   "metadata": {},
   "outputs": [],
   "source": []
  },
  {
   "cell_type": "code",
   "execution_count": null,
   "metadata": {},
   "outputs": [],
   "source": []
  },
  {
   "cell_type": "code",
   "execution_count": null,
   "metadata": {},
   "outputs": [],
   "source": []
  },
  {
   "cell_type": "code",
   "execution_count": null,
   "metadata": {},
   "outputs": [],
   "source": []
  },
  {
   "cell_type": "code",
   "execution_count": null,
   "metadata": {},
   "outputs": [],
   "source": []
  },
  {
   "cell_type": "code",
   "execution_count": null,
   "metadata": {},
   "outputs": [],
   "source": [
    "BRIAN_FBGN = [symbol2fbgn[x] for x in BRIAN]\n",
    "SHAR_PRIMARY_FBGN = [symbol2fbgn[x] for x in SHAR_PRIMARY]\n",
    "SHAR_LATE_FBGN = [symbol2fbgn[x] for x in SHAR_LATE]\n",
    "SHAR_POST_FBGN = [symbol2fbgn[x] for x in SHAR_POST]"
   ]
  },
  {
   "cell_type": "code",
   "execution_count": null,
   "metadata": {
    "code_folding": [
     0
    ]
   },
   "outputs": [],
   "source": [
    "def plot_scatter(A, B, A_label=None, B_label=None, highlight=None, annotate=False, title=None):\n",
    "    _A = A.median(axis=1)\n",
    "    _B = B.median(axis=1)\n",
    "    _fbgns = _A.index.intersection(_B.index).tolist()\n",
    "\n",
    "    _chrx = fbgn2chrom.loc[_fbgns, 'chrom'] == 'chrX'\n",
    "    _autosome = fbgn2chrom.loc[_fbgns, 'chrom'].isin(CHROMS_CHR) & (fbgn2chrom.loc[_fbgns, 'chrom'] != 'chrX')\n",
    "    \n",
    "    plt.scatter(_A.loc[_autosome], _B.loc[_autosome], s=3, c='k', label='Autosomes')\n",
    "    plt.scatter(_A.loc[_chrx], _B.loc[_chrx], s=8, c='r', label='X')\n",
    "    ax = plt.gca()\n",
    "    plt.plot([0, ax.get_xlim()[1]], [0, ax.get_ylim()[1]], c='r', alpha=.4)\n",
    "\n",
    "    ax.set_xlabel(f'Cluster {A_label}\\nLn Normalized Expression')\n",
    "    ax.set_ylabel(f'Cluster {B_label}\\nLn Normalized Expression')\n",
    "    \n",
    "    if highlight is None:\n",
    "        pass\n",
    "    else:\n",
    "        _hi = [x for x in highlight if x in _fbgns]\n",
    "        plt.scatter(_A.loc[_hi], _B.loc[_hi], s=50, marker='^', c='b', label='Highlighted Genes')\n",
    "    \n",
    "        if annotate:\n",
    "            for pt in zip(zip(_A.loc[_hi].values, _B.loc[_hi].values), _hi):\n",
    "                plt.annotate(fbgn2symbol[pt[1]], pt[0], xytext=(10,0), textcoords='offset points', fontsize=18)\n",
    "\n",
    "    plt.legend()\n",
    "    \n",
    "    if title is not None:\n",
    "        ax.set_title(title)"
   ]
  },
  {
   "cell_type": "code",
   "execution_count": null,
   "metadata": {},
   "outputs": [],
   "source": [
    "#plot_scatter(cluster1, cluster2, 1, 2, BRIAN_FBGN, title='Brian')\n",
    "#plot_scatter(cluster2, cluster5, 2, 5, BRIAN_FBGN, title='Brian')\n",
    "#plot_scatter(cluster3, cluster2, 3, 2, BRIAN_FBGN, title='Brian')\n",
    "#plot_scatter(cluster4, cluster2, 4, 2, BRIAN_FBGN, title='Brian')\n",
    "#plot_scatter(cluster3, cluster4, 3, 4, BRIAN_FBGN, annotate=True, title='Brian')\n",
    "#plot_scatter(cluster3, cluster4, 3, 4, SHAR_PRIMARY_FBGN, annotate=True, title='Primary')\n",
    "#plot_scatter(cluster3, cluster4, 3, 4, SHAR_LATE_FBGN, annotate=True, title='Late')\n",
    "#plot_scatter(cluster3, cluster4, 3, 4, SHAR_POST_FBGN, annotate=True, title='Post')"
   ]
  },
  {
   "cell_type": "markdown",
   "metadata": {},
   "source": [
    "<!--NAVIGATION-->\n",
    "< [Combined Pilot scRNA-Seq](03.00-combined_ovary_and_testis_pilot_scRNAseq_analysis.ipynb) | [Contents](Index.ipynb) |"
   ]
  }
 ],
 "metadata": {
  "kernelspec": {
   "display_name": "Python [conda env:larval_gonad]",
   "language": "python",
   "name": "conda-env-larval_gonad-py"
  },
  "language_info": {
   "codemirror_mode": {
    "name": "ipython",
    "version": 3
   },
   "file_extension": ".py",
   "mimetype": "text/x-python",
   "name": "python",
   "nbconvert_exporter": "python",
   "pygments_lexer": "ipython3",
   "version": "3.6.3"
  },
  "toc": {
   "nav_menu": {
    "height": "30px",
    "width": "252px"
   },
   "number_sections": false,
   "sideBar": true,
   "skip_h1_title": false,
   "toc_cell": false,
   "toc_position": {},
   "toc_section_display": "block",
   "toc_window_display": false
  }
 },
 "nbformat": 4,
 "nbformat_minor": 2
}
