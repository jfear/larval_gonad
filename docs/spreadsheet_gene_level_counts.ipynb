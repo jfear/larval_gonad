{
 "cells": [
  {
   "cell_type": "code",
   "execution_count": 2,
   "metadata": {},
   "outputs": [],
   "source": [
    "import os\n",
    "import sys\n",
    "import re\n",
    "from pathlib import Path\n",
    "import yaml\n",
    "\n",
    "from IPython.display import display, HTML, Markdown\n",
    "import numpy as np\n",
    "import pandas as pd\n",
    "\n",
    "import matplotlib as mpl\n",
    "import matplotlib.pyplot as plt\n",
    "import seaborn as sns"
   ]
  },
  {
   "cell_type": "code",
   "execution_count": 3,
   "metadata": {},
   "outputs": [],
   "source": [
    "# Project level imports\n",
    "from larval_gonad.notebook import Nb"
   ]
  },
  {
   "cell_type": "code",
   "execution_count": 4,
   "metadata": {},
   "outputs": [
    {
     "name": "stdout",
     "output_type": "stream",
     "text": [
      "last updated: 2019-05-10 \n",
      "Git hash: b3d09be30fd4bd56fce50a62efc55d45093607d1\n"
     ]
    }
   ],
   "source": [
    "# Setup notebook\n",
    "nbconfig = Nb.setup_notebook(seurat_dir='../output/scrnaseq-wf/scrnaseq_combine_force')\n",
    "config = yaml.load(open('../science_submission/config.yaml'))\n",
    "headers = yaml.load(open('../science_submission/results_table_config.yaml'))"
   ]
  },
  {
   "cell_type": "code",
   "execution_count": 5,
   "metadata": {},
   "outputs": [],
   "source": [
    "writer = pd.ExcelWriter('../output/notebook/spreadsheet_results.xlsx')"
   ]
  },
  {
   "cell_type": "code",
   "execution_count": 6,
   "metadata": {},
   "outputs": [
    {
     "data": {
      "text/plain": [
       "0"
      ]
     },
     "execution_count": 6,
     "metadata": {},
     "output_type": "execute_result"
    }
   ],
   "source": [
    "README = writer.book.add_worksheet('README')\n",
    "README.set_column('A:A', 25)\n",
    "README.set_column('B:D', 40)"
   ]
  },
  {
   "cell_type": "code",
   "execution_count": 7,
   "metadata": {},
   "outputs": [],
   "source": [
    "def iter_list(dat, row=0, col=0):\n",
    "    for v in dat:\n",
    "        if isinstance(v, str):\n",
    "            README.write(row, col, v)\n",
    "        elif isinstance(v, list):\n",
    "            row += 1\n",
    "            col += 1\n",
    "            row, col = iter_list(v, row, col)\n",
    "        elif isinstance(v, dict):\n",
    "            row += 1\n",
    "            col += 1\n",
    "            row, col = iter_dict(v, row, col)\n",
    "        row += 1\n",
    "    return row, col\n",
    "            \n",
    "def iter_dict(dat, row=0, col=0):\n",
    "    for k, v in dat.items():\n",
    "        if k == 'fname':\n",
    "            continue\n",
    "        README.write(row, col, k)\n",
    "        col += 1\n",
    "        if isinstance(v, str):\n",
    "            README.write(row, col, v)\n",
    "        elif isinstance(v, list):\n",
    "            row += 1\n",
    "            row, col = iter_list(v, row, col)\n",
    "        elif isinstance(v, dict):\n",
    "            row += 1\n",
    "            row, col = iter_dict(v, row, col)\n",
    "        col -= 1\n",
    "        row += 1\n",
    "    return row, col\n",
    "\n",
    "row, col = iter_dict({'Cluster IDS': config['legend_names']})\n",
    "row, col = iter_dict(headers, row, col)"
   ]
  },
  {
   "cell_type": "code",
   "execution_count": 8,
   "metadata": {},
   "outputs": [],
   "source": [
    "def build_w_rep(fname, title, writer):\n",
    "    w_rep = (\n",
    "        pd.read_parquet(fname)\n",
    "        .assign(gene_symbol=lambda df: df.index.map(nbconfig.fbgn2symbol))\n",
    "        .assign(chrom=lambda df: df.index.map(nbconfig.fbgn2chrom.iloc[:, 0].to_dict()))\n",
    "        .set_index(['gene_symbol', 'chrom'], append=True)\n",
    "        .assign(cluster=lambda df: pd.Categorical(df.cluster.map(nbconfig.short_cluster_annot), ordered=True, categories=nbconfig.short_cluster_order))\n",
    "        .assign(rep=lambda df: pd.Categorical(df.rep, ordered=True, categories=['rep1', 'rep2', 'rep3']))\n",
    "        .sort_values(by=['cluster', 'rep'])\n",
    "        .set_index(['rep', 'cluster'], append=True)\n",
    "        .unstack().unstack()\n",
    "    )\n",
    "\n",
    "    w_rep.columns = w_rep.columns.droplevel(0)\n",
    "    w_rep.to_excel(writer, sheet_name=title)"
   ]
  },
  {
   "cell_type": "code",
   "execution_count": 9,
   "metadata": {},
   "outputs": [],
   "source": [
    "# Different counts\n",
    "build_w_rep('../output/scrnaseq-wf/raw_by_cluster_w_rep.parquet', 'Raw Counts', writer)\n",
    "build_w_rep('../output/scrnaseq-wf/seurat_norm_by_cluster_w_rep.parquet', 'Seurat Normalized Counts', writer)\n",
    "build_w_rep('../output/scrnaseq-wf/tpm_w_rep.parquet', 'TPM Normalized Counts', writer)\n",
    "build_w_rep('../output/scrnaseq-wf/rpkm_w_rep.parquet', 'RPKM Normalized Counts', writer)\n",
    "build_w_rep('../output/scrnaseq-wf/tpm_zscore_w_rep.parquet', 'TPM Zscores', writer)"
   ]
  },
  {
   "cell_type": "code",
   "execution_count": 10,
   "metadata": {},
   "outputs": [],
   "source": [
    "# Biomarkers\n",
    "(\n",
    "    pd.read_csv('../output/scrnaseq-wf/scrnaseq_combine_force/biomarkers_res.0.6.tsv', sep='\\t', index_col=0)\n",
    "    .rename_axis('FBgn')\n",
    "    .assign(gene_symbol=lambda df: df.index.map(nbconfig.fbgn2symbol))\n",
    "    .assign(chrom=lambda df: df.index.map(nbconfig.fbgn2chrom.iloc[:, 0].to_dict()))\n",
    "    .assign(cluster=lambda df: pd.Categorical(df.cluster.map(nbconfig.short_cluster_annot), ordered=True, categories=nbconfig.short_cluster_order))\n",
    "    .sort_values(by='cluster')\n",
    "    .reset_index()\n",
    "    .melt(id_vars=['FBgn', 'gene_symbol', 'chrom', 'cluster'], var_name='seurat_output', value_name='value')\n",
    "    .set_index(['FBgn', 'gene_symbol', 'chrom', 'seurat_output', 'cluster'])\n",
    "    .unstack().unstack()\n",
    "    .sort_index(level=0)\n",
    "    .to_excel(writer, sheet_name='Biomarker List')\n",
    ")"
   ]
  },
  {
   "cell_type": "code",
   "execution_count": 11,
   "metadata": {},
   "outputs": [],
   "source": [
    "# tSNE\n",
    "(\n",
    "    pd.read_parquet('../output/science_submission/tsne.parquet')\n",
    "    .to_excel(writer, sheet_name='tSNE')\n",
    ")"
   ]
  },
  {
   "cell_type": "code",
   "execution_count": 12,
   "metadata": {},
   "outputs": [],
   "source": [
    "# X to Autosome Results\n",
    "(\n",
    "    pd.read_parquet('../output/x-to-a-wf/expressed_genes_by_chrom.parquet')\n",
    "    .rename_axis('cell_id')\n",
    "    .reindex(['chrX', 'chr2L', 'chr2R', 'chr3L', 'chr3R', 'chr4', 'chrY'], axis=1)\n",
    "    .join(\n",
    "        pd.read_parquet('../output/x-to-a-wf/autosome_ratios_by_cell.parquet')\n",
    "        .rename_axis('cell_id')\n",
    "    )\n",
    "    .assign(cluster=lambda df: pd.Categorical(df.cluster.map(nbconfig.short_cluster_annot), ordered=True, categories=nbconfig.short_cluster_order))\n",
    "    .assign(rep=lambda df: pd.Categorical(df.rep, ordered=True, categories=['rep1', 'rep2', 'rep3']))\n",
    "    .set_index(['cluster', 'rep'], append=True)\n",
    "    .to_excel(writer, sheet_name='Autosome Ratio Results')\n",
    ")"
   ]
  },
  {
   "cell_type": "code",
   "execution_count": 13,
   "metadata": {},
   "outputs": [],
   "source": [
    "# P-values form permutation test\n",
    "(\n",
    "    pd.read_parquet('../output/x-to-a-wf/permuted_autosome_ratio_pvalues.parquet')\n",
    "    .reset_index()\n",
    "    .assign(cluster=lambda df: pd.Categorical(df.cluster.map(nbconfig.short_cluster_annot), ordered=True, categories=nbconfig.short_cluster_order))\n",
    "    .set_index('cluster')\n",
    "    .sort_index()\n",
    "    .to_excel(writer, 'Autsome Ratio Results')\n",
    ")"
   ]
  },
  {
   "cell_type": "code",
   "execution_count": 14,
   "metadata": {},
   "outputs": [],
   "source": [
    "# SP_vs_Spermatocytes\n",
    "(\n",
    "    pd.read_csv('../output/scrnaseq-wf/germcell_deg/gonia_vs_cytes.tsv', sep='\\t')\n",
    "    .set_index('primary_FBgn')\n",
    "    .rename_axis('FBgn')\n",
    "    .join(nbconfig.fbgn2chrom)\n",
    "    .set_index(['gene_symbol', 'chrom'], append=True)\n",
    "    .sort_index(level=0)\n",
    "    .to_excel(writer, sheet_name='SP vs Spermatocytes')\n",
    ")"
   ]
  },
  {
   "cell_type": "code",
   "execution_count": 15,
   "metadata": {},
   "outputs": [],
   "source": [
    "# SP_vs_early \n",
    "(\n",
    "    pd.read_csv('../output/scrnaseq-wf/germcell_deg/gonia_vs_early.tsv', sep='\\t')\n",
    "    .set_index('primary_FBgn')\n",
    "    .rename_axis('FBgn')\n",
    "    .join(nbconfig.fbgn2chrom)\n",
    "    .set_index(['gene_symbol', 'chrom'], append=True)\n",
    "    .sort_index(level=0)\n",
    "    .to_excel(writer, sheet_name='SP vs E1°')\n",
    ")"
   ]
  },
  {
   "cell_type": "code",
   "execution_count": 16,
   "metadata": {},
   "outputs": [],
   "source": [
    "# early_vs_mid \n",
    "(\n",
    "    pd.read_csv('../output/scrnaseq-wf/germcell_deg/early_vs_mid.tsv', sep='\\t')\n",
    "    .set_index('primary_FBgn')\n",
    "    .rename_axis('FBgn')\n",
    "    .join(nbconfig.fbgn2chrom)\n",
    "    .set_index(['gene_symbol', 'chrom'], append=True)\n",
    "    .sort_index(level=0)\n",
    "    .to_excel(writer, sheet_name='E1° vs M1°')\n",
    ")"
   ]
  },
  {
   "cell_type": "code",
   "execution_count": 17,
   "metadata": {},
   "outputs": [],
   "source": [
    "# mid_vs_late \n",
    "(\n",
    "    pd.read_csv('../output/scrnaseq-wf/germcell_deg/mid_vs_late.tsv', sep='\\t')\n",
    "    .set_index('primary_FBgn')\n",
    "    .rename_axis('FBgn')\n",
    "    .join(nbconfig.fbgn2chrom)\n",
    "    .set_index(['gene_symbol', 'chrom'], append=True)\n",
    "    .sort_index(level=0)\n",
    "    .to_excel(writer, sheet_name='M1° vs L1°')\n",
    ")"
   ]
  },
  {
   "cell_type": "code",
   "execution_count": 18,
   "metadata": {},
   "outputs": [],
   "source": [
    "writer.close()"
   ]
  }
 ],
 "metadata": {
  "jupytext": {
   "text_representation": {
    "extension": ".py",
    "format_name": "percent",
    "format_version": "1.2",
    "jupytext_version": "1.0.0"
   }
  },
  "kernelspec": {
   "display_name": "Python [conda env:larval_gonad]",
   "language": "python",
   "name": "conda-env-larval_gonad-py"
  },
  "language_info": {
   "codemirror_mode": {
    "name": "ipython",
    "version": 3
   },
   "file_extension": ".py",
   "mimetype": "text/x-python",
   "name": "python",
   "nbconvert_exporter": "python",
   "pygments_lexer": "ipython3",
   "version": "3.6.3"
  }
 },
 "nbformat": 4,
 "nbformat_minor": 2
}
