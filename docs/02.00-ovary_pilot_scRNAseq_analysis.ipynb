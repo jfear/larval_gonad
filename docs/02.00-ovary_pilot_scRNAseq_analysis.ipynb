{
 "cells": [
  {
   "cell_type": "markdown",
   "metadata": {},
   "source": [
    "# Ovary Pilot scRNA-Seq"
   ]
  },
  {
   "cell_type": "markdown",
   "metadata": {},
   "source": [
    "* [Replicate 1 Summary](http://geneticsunderground.com/larval_gonad/02.01-ovary1_scrnaseq_analysis.html)\n",
    "* [Replicate 2 Summary](http://geneticsunderground.com/larval_gonad/02.02-ovary2_scrnaseq_analysis.html)\n",
    "* [Replicate 3 Summary](http://geneticsunderground.com/larval_gonad/02.03-ovary3_scrnaseq_analysis.html)"
   ]
  }
 ],
 "metadata": {
  "kernelspec": {
   "display_name": "Python [conda env:larval_gonad]",
   "language": "python",
   "name": "conda-env-larval_gonad-py"
  },
  "language_info": {
   "codemirror_mode": {
    "name": "ipython",
    "version": 3
   },
   "file_extension": ".py",
   "mimetype": "text/x-python",
   "name": "python",
   "nbconvert_exporter": "python",
   "pygments_lexer": "ipython3",
   "version": "3.6.3"
  },
  "toc": {
   "nav_menu": {},
   "number_sections": true,
   "sideBar": true,
   "skip_h1_title": false,
   "toc_cell": false,
   "toc_position": {},
   "toc_section_display": "block",
   "toc_window_display": false
  }
 },
 "nbformat": 4,
 "nbformat_minor": 2
}
