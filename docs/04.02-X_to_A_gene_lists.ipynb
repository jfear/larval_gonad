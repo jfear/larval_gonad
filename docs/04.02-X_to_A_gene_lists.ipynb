{
 "cells": [
  {
   "cell_type": "markdown",
   "metadata": {},
   "source": [
    "# X To A Gene Lists"
   ]
  },
  {
   "cell_type": "code",
   "execution_count": 32,
   "metadata": {},
   "outputs": [
    {
     "name": "stdout",
     "output_type": "stream",
     "text": [
      "last updated: 2018-01-31 \n",
      "Git hash: f95a97ffaf07b81fdbccd6c0e49ed8ad3f0e208e\n"
     ]
    }
   ],
   "source": [
    "import os\n",
    "import sys\n",
    "from pathlib import Path\n",
    "\n",
    "import numpy as np\n",
    "import pandas as pd\n",
    "from IPython.display import HTML, Markdown, display\n",
    "\n",
    "import matplotlib as mpl\n",
    "import matplotlib.pyplot as plt\n",
    "import seaborn as sns\n",
    "\n",
    "# Project level imports\n",
    "sys.path.insert(0, '../lib')\n",
    "from larval_gonad.notebook import Nb\n",
    "from larval_gonad.x_to_a import CHROMS_CHR, AUTOSOMES_CHR\n",
    "\n",
    "# Setup notebook\n",
    "nbconfig = Nb.setup_notebook('04.01_X_to_A_gene_lists')\n",
    "\n",
    "# Turn on cache\n",
    "from joblib import Memory\n",
    "memory = Memory(cachedir=nbconfig.cache, verbose=0)"
   ]
  },
  {
   "cell_type": "code",
   "execution_count": 3,
   "metadata": {},
   "outputs": [],
   "source": [
    "DATA_DIR = Path('../output/testis_scRNAseq_pilot')\n",
    "REF = Path(os.environ['REFERENCES_DIR'])"
   ]
  },
  {
   "cell_type": "code",
   "execution_count": 4,
   "metadata": {},
   "outputs": [],
   "source": [
    "# Create fbgn2symbol and symbol2fbgn map\n",
    "annot = pd.read_csv(Path(REF, 'dmel/r6-16/fb_annotation/dmel_r6-16.fb_annotation'),\n",
    "                   sep='\\t', index_col=1)\n",
    "\n",
    "fbgn2symbol = annot['gene_symbol'].to_dict()\n",
    "symbol2fbgn = {v: k for k, v in fbgn2symbol.items()}\n",
    "\n",
    "# Create fbgn2chrom\n",
    "genes = []\n",
    "with Path(REF, 'dmel/r6-16/gtf/dmel_r6-16.gtf').open() as fh:\n",
    "    for row in fh:\n",
    "        rows = row.strip().split()\n",
    "        \n",
    "        if len(rows) == 0:\n",
    "            continue\n",
    "            \n",
    "        if rows[2] == 'gene':\n",
    "            genes.append((rows[0], rows[9].replace('\"', '').replace(';', '')))\n",
    "\n",
    "fbgn2chrom = pd.DataFrame(genes, columns=['chrom', 'FBgn'])\n",
    "fbgn2chrom.set_index('FBgn', inplace=True)\n",
    "fbgn2chrom = fbgn2chrom.to_dict()['chrom']"
   ]
  },
  {
   "cell_type": "code",
   "execution_count": 23,
   "metadata": {},
   "outputs": [],
   "source": [
    "# Import data from seurat\n",
    "clusters = pd.read_csv(Path(DATA_DIR, 'clusters.tsv'), sep='\\t')\n",
    "clusters.index.name = 'cellID'\n",
    "\n",
    "c3_v_c4 = pd.read_csv(Path(DATA_DIR, '2018_01_25_testis_c3_c4_differential_expression.tsv'), sep='\\t', index_col=[0, 1])\n",
    "c3_v_c4.index.names = ['FBgn', 'gene']\n",
    "c3_v_c4['chrom'] = c3_v_c4.index.map(lambda x: fbgn2chrom[x[0]])\n",
    "c3_v_c4.set_index('chrom', append=True, inplace=True)\n",
    "\n",
    "norm = pd.read_csv(Path(DATA_DIR, 'normalized_read_counts.tsv'), sep='\\t')\n",
    "norm.index.name = 'FBgn'"
   ]
  },
  {
   "cell_type": "markdown",
   "metadata": {},
   "source": [
    "## Genes with large differential expression between 3 and 4"
   ]
  },
  {
   "cell_type": "code",
   "execution_count": 45,
   "metadata": {},
   "outputs": [],
   "source": [
    "big_diff = c3_v_c4[(c3_v_c4.p_val_adj <= 0.05) & (c3_v_c4.avg_logFC.abs() >= 2)].sort_values(by='avg_logFC')\n",
    "big_diff.to_csv(DATA_DIR / '04.01-X_to_A_gene_list_c3_c4_large_diff.tsv', sep='\\t')"
   ]
  },
  {
   "cell_type": "markdown",
   "metadata": {},
   "source": [
    "## Gene not differentially expressed b/t cluster 3 and cluster 4\n",
    "\n",
    "Next we are interested in which genes are not different between clusters 3 and 4 (germline). Here I look for genes with an adjusted p-value of > 0.01 and require that a gene is expressed in 80% of cells in cluster 3 and 4."
   ]
  },
  {
   "cell_type": "code",
   "execution_count": 37,
   "metadata": {},
   "outputs": [],
   "source": [
    "noDiff = c3_v_c4[(c3_v_c4.p_val_adj > 0.01) & (c3_v_c4['pct.1'] >= .8) & (c3_v_c4['pct.2'] >= .8)].sort_values(by=['avg_logFC'])\n",
    "noDiff.to_csv(DATA_DIR / '04.01-X_to_A_gene_list_c3_c4_not_diff.tsv', sep='\\t')"
   ]
  },
  {
   "cell_type": "markdown",
   "metadata": {},
   "source": [
    "## Look for genes on in cluster 3 and off in cluster 4\n",
    "\n",
    "First I grab the cell IDs for cells in cluster 3 or cluster 4. For each gene I sum the normalized coverage across all cells within a cluster. Finally I look for genes who have greater than 0 read counts in cluster 3, but 0 read counts in cluster 4. In other words these are genes that are on in cluster 3, but have no expression in cluster 4. If you sort by cluster 3 expression you can estimate the magnitude of expression."
   ]
  },
  {
   "cell_type": "code",
   "execution_count": 6,
   "metadata": {},
   "outputs": [],
   "source": [
    "# Prep for comparing 3 vs 4\n",
    "\n",
    "# Get cell ids for each cluster\n",
    "c3 = clusters[clusters.ident == 3].index.tolist()\n",
    "c4 = clusters[clusters.ident == 4].index.tolist()\n",
    "\n",
    "# Pull out normalized data for 3 and 4\n",
    "dat3 = norm[c3].sum(axis=1)\n",
    "dat4 = norm[c4].sum(axis=1)\n",
    "\n",
    "# build nice df with all needed info including chrom\n",
    "ddat = pd.DataFrame({'c3': dat3, 'c4': dat4})\n",
    "ddat['gene'] = ddat.index.map(lambda x: fbgn2symbol[x])\n",
    "ddat['chrom'] = ddat.index.map(lambda x: fbgn2chrom[x])\n",
    "ddat.set_index(['gene', 'chrom'], append=True, inplace=True)"
   ]
  },
  {
   "cell_type": "code",
   "execution_count": 35,
   "metadata": {},
   "outputs": [],
   "source": [
    "on3_off4 = ddat[(ddat.c3 > 0) & (ddat.c4 == 0)]\n",
    "on3_off4.to_csv(DATA_DIR / '04.01-X_to_A_gene_list_on3_off4.tsv', sep='\\t')"
   ]
  },
  {
   "cell_type": "markdown",
   "metadata": {},
   "source": [
    "## Look for genes off in cluster 3 and on in cluster 4\n",
    "\n",
    "Using the above dataset. I look for genes who have 0 read counts in cluster 3, but greater than 0 read counts in cluster 4. In other words these are genes that are off in cluster 3 and on in cluster 4. If you sort by cluster 4 expression you can estimate the magnitude of expression."
   ]
  },
  {
   "cell_type": "code",
   "execution_count": 36,
   "metadata": {},
   "outputs": [],
   "source": [
    "off3_on4 = ddat[(ddat.c3 == 0) & (ddat.c4 > 0)]\n",
    "off3_on4.to_csv(DATA_DIR / '04.01-X_to_A_gene_list_off3_on4.tsv', sep='\\t')"
   ]
  }
 ],
 "metadata": {
  "kernelspec": {
   "display_name": "Python [conda env:larval_gonad]",
   "language": "python",
   "name": "conda-env-larval_gonad-py"
  },
  "language_info": {
   "codemirror_mode": {
    "name": "ipython",
    "version": 3
   },
   "file_extension": ".py",
   "mimetype": "text/x-python",
   "name": "python",
   "nbconvert_exporter": "python",
   "pygments_lexer": "ipython3",
   "version": "3.6.3"
  }
 },
 "nbformat": 4,
 "nbformat_minor": 2
}
