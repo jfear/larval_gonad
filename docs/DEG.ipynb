{
 "cells": [
  {
   "cell_type": "markdown",
   "metadata": {
    "toc-hr-collapsed": false
   },
   "source": [
    "# Differential Expression"
   ]
  },
  {
   "cell_type": "code",
   "execution_count": 1,
   "metadata": {},
   "outputs": [],
   "source": [
    "import os\n",
    "import sys\n",
    "import re\n",
    "from pathlib import Path\n",
    "from yaml import load\n",
    "import pickle\n",
    "\n",
    "from IPython.display import display, HTML, Markdown\n",
    "import numpy as np\n",
    "import pandas as pd\n",
    "from scipy.stats import chi2_contingency, norm, fisher_exact, mannwhitneyu\n",
    "from scipy.stats.contingency import margins\n",
    "from statsmodels.stats.multitest import multipletests\n",
    "\n",
    "import matplotlib as mpl\n",
    "import matplotlib.pyplot as plt\n",
    "import seaborn as sns\n",
    "\n",
    "from larval_gonad.stats import run_chisq\n",
    "from larval_gonad.plotting import format_pval"
   ]
  },
  {
   "cell_type": "code",
   "execution_count": 2,
   "metadata": {},
   "outputs": [],
   "source": [
    "sns.set_context('poster')"
   ]
  },
  {
   "cell_type": "markdown",
   "metadata": {},
   "source": [
    "## Data Loading"
   ]
  },
  {
   "cell_type": "code",
   "execution_count": 3,
   "metadata": {},
   "outputs": [],
   "source": [
    "# load all of my config settings\n",
    "config = {}\n",
    "with open('../config/common.yaml') as fh:\n",
    "    config.update(load(fh.read()))\n",
    "    \n",
    "with open('../config/colors.yaml') as fh:\n",
    "    config['colors'] = load(fh.read())\n",
    "    \n",
    "with open('../science_submission/config.yaml') as fh:\n",
    "    config.update(load(fh.read()))"
   ]
  },
  {
   "cell_type": "code",
   "execution_count": 4,
   "metadata": {},
   "outputs": [],
   "source": [
    "# Get list of gene expressed in the experiment\n",
    "with open('../output/science_submission/background_fbgns.pkl', 'rb') as fh:\n",
    "    bg = pickle.load(fh)"
   ]
  },
  {
   "cell_type": "code",
   "execution_count": 5,
   "metadata": {},
   "outputs": [],
   "source": [
    "fbgn2symbol = pd.read_pickle('../output/science_submission/fbgn2symbol.pkl')\n",
    "fbgn2chrom = pd.read_parquet('../output/x-to-a-wf/fbgn2chrom.parquet')"
   ]
  },
  {
   "cell_type": "code",
   "execution_count": 6,
   "metadata": {},
   "outputs": [
    {
     "data": {
      "text/html": [
       "<div>\n",
       "<style scoped>\n",
       "    .dataframe tbody tr th:only-of-type {\n",
       "        vertical-align: middle;\n",
       "    }\n",
       "\n",
       "    .dataframe tbody tr th {\n",
       "        vertical-align: top;\n",
       "    }\n",
       "\n",
       "    .dataframe thead th {\n",
       "        text-align: right;\n",
       "    }\n",
       "</style>\n",
       "<table border=\"1\" class=\"dataframe\">\n",
       "  <thead>\n",
       "    <tr style=\"text-align: right;\">\n",
       "      <th></th>\n",
       "      <th>Number of Genes</th>\n",
       "    </tr>\n",
       "    <tr>\n",
       "      <th>chrom</th>\n",
       "      <th></th>\n",
       "    </tr>\n",
       "  </thead>\n",
       "  <tbody>\n",
       "    <tr>\n",
       "      <th>chr2L</th>\n",
       "      <td>3,496</td>\n",
       "    </tr>\n",
       "    <tr>\n",
       "      <th>chr2R</th>\n",
       "      <td>3,620</td>\n",
       "    </tr>\n",
       "    <tr>\n",
       "      <th>chr3L</th>\n",
       "      <td>3,456</td>\n",
       "    </tr>\n",
       "    <tr>\n",
       "      <th>chr3R</th>\n",
       "      <td>4,189</td>\n",
       "    </tr>\n",
       "    <tr>\n",
       "      <th>chr4</th>\n",
       "      <td>111</td>\n",
       "    </tr>\n",
       "    <tr>\n",
       "      <th>chrM</th>\n",
       "      <td>38</td>\n",
       "    </tr>\n",
       "    <tr>\n",
       "      <th>chrX</th>\n",
       "      <td>2,669</td>\n",
       "    </tr>\n",
       "    <tr>\n",
       "      <th>chrY</th>\n",
       "      <td>113</td>\n",
       "    </tr>\n",
       "  </tbody>\n",
       "</table>\n",
       "</div>"
      ],
      "text/plain": [
       "      Number of Genes\n",
       "chrom                \n",
       "chr2L           3,496\n",
       "chr2R           3,620\n",
       "chr3L           3,456\n",
       "chr3R           4,189\n",
       "chr4              111\n",
       "chrM               38\n",
       "chrX            2,669\n",
       "chrY              113"
      ]
     },
     "execution_count": 6,
     "metadata": {},
     "output_type": "execute_result"
    }
   ],
   "source": [
    "num_genes = fbgn2chrom.groupby('chrom').size().rename('num_genes')\n",
    "num_genes.map(lambda x: f'{x:,}').rename('Number of Genes').to_frame()"
   ]
  },
  {
   "cell_type": "code",
   "execution_count": 7,
   "metadata": {},
   "outputs": [],
   "source": [
    "# Get mappint of cell_id to short cluster name, remove unknown clusters\n",
    "clusters = (\n",
    "    pd.read_parquet('../output/scrnaseq-wf/clusters.parquet')\n",
    "    .assign(cluster = lambda df: pd.Categorical(df.cluster.map(config['short_cluster_annot']), ordered=True, categories=config['short_cluster_order']))\n",
    "    .dropna()\n",
    ")"
   ]
  },
  {
   "cell_type": "code",
   "execution_count": 8,
   "metadata": {},
   "outputs": [],
   "source": [
    "autosomes = ['chr2L', 'chr2R', 'chr3L', 'chr3R']"
   ]
  },
  {
   "cell_type": "markdown",
   "metadata": {
    "toc-hr-collapsed": true
   },
   "source": [
    "## Germline DEG"
   ]
  },
  {
   "cell_type": "markdown",
   "metadata": {
    "toc-hr-collapsed": true
   },
   "source": [
    "### Genes up regulated in Gonia (vs Cytes) are enriched from the X and 4th"
   ]
  },
  {
   "cell_type": "code",
   "execution_count": 9,
   "metadata": {},
   "outputs": [
    {
     "name": "stdout",
     "output_type": "stream",
     "text": [
      "p-value x: 0.0061, p-value 4: 0.0005\n"
     ]
    },
    {
     "data": {
      "image/png": "[encoded data removed]",
      "text/plain": [
       "<matplotlib.figure.Figure at 0x7f29b57abda0>"
      ]
     },
     "metadata": {},
     "output_type": "display_data"
    }
   ],
   "source": [
    "df = (\n",
    "    pd.read_csv('../output/scrnaseq-wf/germcell_deg/gonia_vs_cytes.tsv', sep='\\t', index_col=0)\n",
    "    .rename_axis('FBgn')\n",
    "    .join(fbgn2chrom)\n",
    "    .assign(biased = lambda df: (df.p_val_adj <= 0.01) & (df.avg_logFC > 0))\n",
    "    .loc[:, ['chrom', 'biased']]\n",
    "    .replace({\n",
    "        'chrX': 'X',\n",
    "        'chr2L': 'A',\n",
    "        'chr2R': 'A',\n",
    "        'chr3L': 'A',\n",
    "        'chr3R': 'A',\n",
    "        'chr4': '4',\n",
    "    })\n",
    ")\n",
    "\n",
    "ct = df.groupby('chrom').biased.value_counts().unstack().loc[['X', 'A', '4']].T\n",
    "\n",
    "_, pvalx = fisher_exact(ct[['X', 'A']], alternative='two-sided')\n",
    "_, pval4 = fisher_exact(ct[['4', 'A']], alternative='two-sided')\n",
    "print(f'p-value x: {pvalx:0.4f}, p-value 4: {pval4:0.4f}')\n",
    "\n",
    "dat = df.groupby('chrom').biased.mean()[['X', 'A', '4']]\n",
    "ax = dat.plot(kind='bar', width=.9, color=['darkgray', 'w', 'darkgray'], edgecolor='k', lw=1)\n",
    "format_pval(ax, 0, dat['X'], pvalx)\n",
    "format_pval(ax, 2, dat['4'], pval4)\n",
    "ax.set(ylim=(0, 1), ylabel='Proportion of Genes', xlabel='Chromosome')\n",
    "ax.set_xticklabels(ax.get_xticklabels(), rotation=0)\n",
    "sns.despine(ax=ax);"
   ]
  },
  {
   "cell_type": "markdown",
   "metadata": {
    "toc-hr-collapsed": true
   },
   "source": [
    "### Genes up downregulated in E1° (vs SP) are depleted from the X and 4th"
   ]
  },
  {
   "cell_type": "code",
   "execution_count": 10,
   "metadata": {},
   "outputs": [
    {
     "name": "stdout",
     "output_type": "stream",
     "text": [
      "p-value x: 0.0401, p-value 4: 0.0008\n"
     ]
    },
    {
     "data": {
      "image/png": "[encoded data removed]",
      "text/plain": [
       "<matplotlib.figure.Figure at 0x7f29b3569fd0>"
      ]
     },
     "metadata": {},
     "output_type": "display_data"
    }
   ],
   "source": [
    "df = (\n",
    "    pd.read_csv('../output/scrnaseq-wf/germcell_deg/gonia_vs_early.tsv', sep='\\t', index_col=0)\n",
    "    .rename_axis('FBgn')\n",
    "    .join(fbgn2chrom)\n",
    "    .assign(biased = lambda df: (df.p_val_adj <= 0.01) & (df.avg_logFC < 0))\n",
    "    .loc[:, ['chrom', 'biased']]\n",
    "    .replace({\n",
    "        'chrX': 'X',\n",
    "        'chr2L': 'A',\n",
    "        'chr2R': 'A',\n",
    "        'chr3L': 'A',\n",
    "        'chr3R': 'A',\n",
    "        'chr4': '4',\n",
    "    })\n",
    ")\n",
    "\n",
    "ct = df.groupby('chrom').biased.value_counts().unstack().loc[['X', 'A', '4']].T\n",
    "\n",
    "_, pvalx = fisher_exact(ct[['X', 'A']], alternative='two-sided')\n",
    "_, pval4 = fisher_exact(ct[['4', 'A']], alternative='two-sided')\n",
    "print(f'p-value x: {pvalx:0.4f}, p-value 4: {pval4:0.4f}')\n",
    "\n",
    "dat = df.groupby('chrom').biased.mean()[['X', 'A', '4']]\n",
    "ax = dat.plot(kind='bar', width=.9, color=['darkgray', 'w', 'darkgray'], edgecolor='k', lw=1)\n",
    "format_pval(ax, 0, dat['X'], pvalx)\n",
    "format_pval(ax, 2, dat['4'], pval4)\n",
    "    \n",
    "ax.set(ylim=(0, 1), ylabel='Proportion of Genes', xlabel='Chromosome')\n",
    "ax.set_xticklabels(ax.get_xticklabels(), rotation=0)\n",
    "sns.despine(ax=ax);"
   ]
  },
  {
   "cell_type": "markdown",
   "metadata": {
    "toc-hr-collapsed": true
   },
   "source": [
    "### Genes up downregulated in M1° (vs E1°) are depleted from the X and abscent from the 4th"
   ]
  },
  {
   "cell_type": "code",
   "execution_count": 11,
   "metadata": {},
   "outputs": [
    {
     "data": {
      "text/html": [
       "<div>\n",
       "<style scoped>\n",
       "    .dataframe tbody tr th:only-of-type {\n",
       "        vertical-align: middle;\n",
       "    }\n",
       "\n",
       "    .dataframe tbody tr th {\n",
       "        vertical-align: top;\n",
       "    }\n",
       "\n",
       "    .dataframe thead th {\n",
       "        text-align: right;\n",
       "    }\n",
       "</style>\n",
       "<table border=\"1\" class=\"dataframe\">\n",
       "  <thead>\n",
       "    <tr style=\"text-align: right;\">\n",
       "      <th>chrom</th>\n",
       "      <th>X</th>\n",
       "      <th>A</th>\n",
       "      <th>4</th>\n",
       "    </tr>\n",
       "    <tr>\n",
       "      <th>biased</th>\n",
       "      <th></th>\n",
       "      <th></th>\n",
       "      <th></th>\n",
       "    </tr>\n",
       "  </thead>\n",
       "  <tbody>\n",
       "    <tr>\n",
       "      <th>False</th>\n",
       "      <td>114.0</td>\n",
       "      <td>763.0</td>\n",
       "      <td>8.0</td>\n",
       "    </tr>\n",
       "    <tr>\n",
       "      <th>True</th>\n",
       "      <td>10.0</td>\n",
       "      <td>388.0</td>\n",
       "      <td>0.0</td>\n",
       "    </tr>\n",
       "  </tbody>\n",
       "</table>\n",
       "</div>"
      ],
      "text/plain": [
       "chrom       X      A    4\n",
       "biased                   \n",
       "False   114.0  763.0  8.0\n",
       "True     10.0  388.0  0.0"
      ]
     },
     "metadata": {},
     "output_type": "display_data"
    },
    {
     "name": "stdout",
     "output_type": "stream",
     "text": [
      "p-value x: 0.0000, p-value 4: 0.0576\n"
     ]
    },
    {
     "data": {
      "image/png": "[encoded data removed]",
      "text/plain": [
       "<matplotlib.figure.Figure at 0x7f29b3512f60>"
      ]
     },
     "metadata": {},
     "output_type": "display_data"
    }
   ],
   "source": [
    "df = (\n",
    "    pd.read_csv('../output/scrnaseq-wf/germcell_deg/early_vs_mid.tsv', sep='\\t', index_col=0)\n",
    "    .rename_axis('FBgn')\n",
    "    .join(fbgn2chrom)\n",
    "    .assign(biased = lambda df: (df.p_val_adj <= 0.01) & (df.avg_logFC < 0))\n",
    "    .loc[:, ['chrom', 'biased']]\n",
    "    .replace({\n",
    "        'chrX': 'X',\n",
    "        'chr2L': 'A',\n",
    "        'chr2R': 'A',\n",
    "        'chr3L': 'A',\n",
    "        'chr3R': 'A',\n",
    "        'chr4': '4',\n",
    "    })\n",
    ")\n",
    "\n",
    "ct = df.groupby('chrom').biased.value_counts().unstack().loc[['X', 'A', '4']].T.fillna(0)\n",
    "display(ct)\n",
    "\n",
    "_, pvalx = fisher_exact(ct[['X', 'A']], alternative='two-sided')\n",
    "_, pval4 = fisher_exact(ct[['4', 'A']], alternative='two-sided')\n",
    "print(f'p-value x: {pvalx:0.4f}, p-value 4: {pval4:0.4f}')\n",
    "\n",
    "dat = df.groupby('chrom').biased.mean()[['X', 'A', '4']]\n",
    "ax = dat.plot(kind='bar', width=.9, color=['darkgray', 'w', 'darkgray'], edgecolor='k', lw=1)\n",
    "format_pval(ax, 0, dat['X'], pvalx)\n",
    "format_pval(ax, 2, dat['4'], pval4)\n",
    "ax.set(ylim=(0, 1), ylabel='Proportion of Genes', xlabel='Chromosome')\n",
    "ax.set_xticklabels(ax.get_xticklabels(), rotation=0)\n",
    "sns.despine(ax=ax);"
   ]
  },
  {
   "cell_type": "markdown",
   "metadata": {
    "toc-hr-collapsed": true
   },
   "source": [
    "### Genes up downregulated in L1° (vs M1°) are depleted from X and 4th, but gene counts are very low."
   ]
  },
  {
   "cell_type": "code",
   "execution_count": 12,
   "metadata": {},
   "outputs": [
    {
     "data": {
      "text/html": [
       "<div>\n",
       "<style scoped>\n",
       "    .dataframe tbody tr th:only-of-type {\n",
       "        vertical-align: middle;\n",
       "    }\n",
       "\n",
       "    .dataframe tbody tr th {\n",
       "        vertical-align: top;\n",
       "    }\n",
       "\n",
       "    .dataframe thead th {\n",
       "        text-align: right;\n",
       "    }\n",
       "</style>\n",
       "<table border=\"1\" class=\"dataframe\">\n",
       "  <thead>\n",
       "    <tr style=\"text-align: right;\">\n",
       "      <th>chrom</th>\n",
       "      <th>X</th>\n",
       "      <th>A</th>\n",
       "      <th>4</th>\n",
       "    </tr>\n",
       "    <tr>\n",
       "      <th>biased</th>\n",
       "      <th></th>\n",
       "      <th></th>\n",
       "      <th></th>\n",
       "    </tr>\n",
       "  </thead>\n",
       "  <tbody>\n",
       "    <tr>\n",
       "      <th>False</th>\n",
       "      <td>18.0</td>\n",
       "      <td>63.0</td>\n",
       "      <td>1.0</td>\n",
       "    </tr>\n",
       "    <tr>\n",
       "      <th>True</th>\n",
       "      <td>1.0</td>\n",
       "      <td>21.0</td>\n",
       "      <td>0.0</td>\n",
       "    </tr>\n",
       "  </tbody>\n",
       "</table>\n",
       "</div>"
      ],
      "text/plain": [
       "chrom      X     A    4\n",
       "biased                 \n",
       "False   18.0  63.0  1.0\n",
       "True     1.0  21.0  0.0"
      ]
     },
     "metadata": {},
     "output_type": "display_data"
    },
    {
     "name": "stdout",
     "output_type": "stream",
     "text": [
      "p-value x: 0.0674, p-value 4: 1.0000\n"
     ]
    },
    {
     "data": {
      "image/png": "[encoded data removed]",
      "text/plain": [
       "<matplotlib.figure.Figure at 0x7f29b3512ef0>"
      ]
     },
     "metadata": {},
     "output_type": "display_data"
    }
   ],
   "source": [
    "df = (\n",
    "    pd.read_csv('../output/scrnaseq-wf/germcell_deg/mid_vs_late.tsv', sep='\\t', index_col=0)\n",
    "    .rename_axis('FBgn')\n",
    "    .join(fbgn2chrom)\n",
    "    .assign(biased = lambda df: (df.p_val_adj <= 0.01) & (df.avg_logFC < 0))\n",
    "    .loc[:, ['chrom', 'biased']]\n",
    "    .replace({\n",
    "        'chrX': 'X',\n",
    "        'chr2L': 'A',\n",
    "        'chr2R': 'A',\n",
    "        'chr3L': 'A',\n",
    "        'chr3R': 'A',\n",
    "        'chr4': '4',\n",
    "    })\n",
    ")\n",
    "\n",
    "ct = df.groupby('chrom').biased.value_counts().unstack().loc[['X', 'A', '4']].T.fillna(0)\n",
    "display(ct)\n",
    "\n",
    "_, pvalx = fisher_exact(ct[['X', 'A']], alternative='two-sided')\n",
    "_, pval4 = fisher_exact(ct[['4', 'A']], alternative='two-sided')\n",
    "print(f'p-value x: {pvalx:0.4f}, p-value 4: {pval4:0.4f}')\n",
    "\n",
    "dat = df.groupby('chrom').biased.mean()[['X', 'A', '4']]\n",
    "ax = dat.plot(kind='bar', width=.9, color=['darkgray', 'w', 'darkgray'], edgecolor='k', lw=1)\n",
    "format_pval(ax, 0, dat['X'], pvalx)\n",
    "format_pval(ax, 2, dat['4'], pval4)\n",
    "ax.set(ylim=(0, 1), ylabel='Proportion of Genes', xlabel='Chromosome')\n",
    "ax.set_xticklabels(ax.get_xticklabels(), rotation=0)\n",
    "sns.despine(ax=ax);"
   ]
  },
  {
   "cell_type": "markdown",
   "metadata": {
    "toc-hr-collapsed": true
   },
   "source": [
    "## Demasculinization of the X chromosome"
   ]
  },
  {
   "cell_type": "markdown",
   "metadata": {},
   "source": [
    "### Bulk RNA-Seq shows demasculinization of the X and the 4th."
   ]
  },
  {
   "cell_type": "code",
   "execution_count": 37,
   "metadata": {},
   "outputs": [],
   "source": [
    "bulk_sig = (\n",
    "    pd.read_csv('../output/bulk-rnaseq-wf/deseq2_results_tcp_vs_ocp.tsv', sep='\\t', index_col=0)\n",
    "    .dropna()\n",
    "    .assign(testis_bias = lambda df: (df.log2FoldChange >= 1) & (df.padj <= 0.01))\n",
    "    .assign(ovary_bias = lambda df: (df.log2FoldChange <= -1) & (df.padj <= 0.01))\n",
    "    .join(fbgn2chrom, how='outer')\n",
    "    .fillna({\n",
    "        'testis_bias': False,\n",
    "        'ovary_bias': False,\n",
    "    })\n",
    "    .replace({\n",
    "        'chrX': 'X',\n",
    "        'chr2L': '2L',\n",
    "        'chr2R': '2R',\n",
    "        'chr3L': '3L',\n",
    "        'chr3R': '3R',\n",
    "        'chr4': '4',\n",
    "    })\n",
    ")\n",
    "\n",
    "bulk_sig.loc[bulk_sig.testis_bias, 'bias'] = 'testis'\n",
    "bulk_sig.loc[bulk_sig.ovary_bias, 'bias'] = 'ovary'\n",
    "bulk_sig.bias = bulk_sig.bias.fillna('None')\n",
    "\n",
    "MALE_BIAS = bulk_sig[bulk_sig.testis_bias].index"
   ]
  },
  {
   "cell_type": "code",
   "execution_count": 38,
   "metadata": {},
   "outputs": [
    {
     "name": "stdout",
     "output_type": "stream",
     "text": [
      "𝛘^2: 230.1680, p-value: 0.0000, df: 10\n"
     ]
    },
    {
     "data": {
      "text/html": [
       "<div>\n",
       "<style scoped>\n",
       "    .dataframe tbody tr th:only-of-type {\n",
       "        vertical-align: middle;\n",
       "    }\n",
       "\n",
       "    .dataframe tbody tr th {\n",
       "        vertical-align: top;\n",
       "    }\n",
       "\n",
       "    .dataframe thead th {\n",
       "        text-align: right;\n",
       "    }\n",
       "</style>\n",
       "<table border=\"1\" class=\"dataframe\">\n",
       "  <thead>\n",
       "    <tr style=\"text-align: right;\">\n",
       "      <th></th>\n",
       "      <th>chrom</th>\n",
       "      <th>X</th>\n",
       "      <th>2L</th>\n",
       "      <th>2R</th>\n",
       "      <th>3L</th>\n",
       "      <th>3R</th>\n",
       "      <th>4</th>\n",
       "    </tr>\n",
       "    <tr>\n",
       "      <th>bias</th>\n",
       "      <th>type</th>\n",
       "      <th></th>\n",
       "      <th></th>\n",
       "      <th></th>\n",
       "      <th></th>\n",
       "      <th></th>\n",
       "      <th></th>\n",
       "    </tr>\n",
       "  </thead>\n",
       "  <tbody>\n",
       "    <tr>\n",
       "      <th rowspan=\"3\" valign=\"top\">ovary</th>\n",
       "      <th>observed</th>\n",
       "      <td>613.0000</td>\n",
       "      <td>429.0000</td>\n",
       "      <td>535.0000</td>\n",
       "      <td>433.0000</td>\n",
       "      <td>538.0000</td>\n",
       "      <td>29.0000</td>\n",
       "    </tr>\n",
       "    <tr>\n",
       "      <th>adj std residual</th>\n",
       "      <td>13.1164</td>\n",
       "      <td>-4.5171</td>\n",
       "      <td>0.1673</td>\n",
       "      <td>-4.0072</td>\n",
       "      <td>-3.8727</td>\n",
       "      <td>3.4138</td>\n",
       "    </tr>\n",
       "    <tr>\n",
       "      <th>flag_sig</th>\n",
       "      <td>1.0000</td>\n",
       "      <td>1.0000</td>\n",
       "      <td>0.0000</td>\n",
       "      <td>1.0000</td>\n",
       "      <td>1.0000</td>\n",
       "      <td>1.0000</td>\n",
       "    </tr>\n",
       "    <tr>\n",
       "      <th rowspan=\"3\" valign=\"top\">None</th>\n",
       "      <th>observed</th>\n",
       "      <td>1425.0000</td>\n",
       "      <td>1941.0000</td>\n",
       "      <td>2086.0000</td>\n",
       "      <td>1970.0000</td>\n",
       "      <td>2373.0000</td>\n",
       "      <td>66.0000</td>\n",
       "    </tr>\n",
       "    <tr>\n",
       "      <th>adj std residual</th>\n",
       "      <td>-3.1961</td>\n",
       "      <td>-0.9273</td>\n",
       "      <td>1.9160</td>\n",
       "      <td>1.0386</td>\n",
       "      <td>0.6452</td>\n",
       "      <td>0.6908</td>\n",
       "    </tr>\n",
       "    <tr>\n",
       "      <th>flag_sig</th>\n",
       "      <td>1.0000</td>\n",
       "      <td>0.0000</td>\n",
       "      <td>0.0000</td>\n",
       "      <td>0.0000</td>\n",
       "      <td>0.0000</td>\n",
       "      <td>0.0000</td>\n",
       "    </tr>\n",
       "    <tr>\n",
       "      <th rowspan=\"3\" valign=\"top\">testis</th>\n",
       "      <th>observed</th>\n",
       "      <td>631.0000</td>\n",
       "      <td>1126.0000</td>\n",
       "      <td>999.0000</td>\n",
       "      <td>1053.0000</td>\n",
       "      <td>1278.0000</td>\n",
       "      <td>16.0000</td>\n",
       "    </tr>\n",
       "    <tr>\n",
       "      <th>adj std residual</th>\n",
       "      <td>-6.7326</td>\n",
       "      <td>4.5339</td>\n",
       "      <td>-2.2233</td>\n",
       "      <td>1.9889</td>\n",
       "      <td>2.3138</td>\n",
       "      <td>-3.4155</td>\n",
       "    </tr>\n",
       "    <tr>\n",
       "      <th>flag_sig</th>\n",
       "      <td>1.0000</td>\n",
       "      <td>1.0000</td>\n",
       "      <td>0.0000</td>\n",
       "      <td>0.0000</td>\n",
       "      <td>1.0000</td>\n",
       "      <td>1.0000</td>\n",
       "    </tr>\n",
       "  </tbody>\n",
       "</table>\n",
       "</div>"
      ],
      "text/plain": [
       "chrom                            X         2L         2R         3L  \\\n",
       "bias   type                                                           \n",
       "ovary  observed           613.0000   429.0000   535.0000   433.0000   \n",
       "       adj std residual    13.1164    -4.5171     0.1673    -4.0072   \n",
       "       flag_sig             1.0000     1.0000     0.0000     1.0000   \n",
       "None   observed          1425.0000  1941.0000  2086.0000  1970.0000   \n",
       "       adj std residual    -3.1961    -0.9273     1.9160     1.0386   \n",
       "       flag_sig             1.0000     0.0000     0.0000     0.0000   \n",
       "testis observed           631.0000  1126.0000   999.0000  1053.0000   \n",
       "       adj std residual    -6.7326     4.5339    -2.2233     1.9889   \n",
       "       flag_sig             1.0000     1.0000     0.0000     0.0000   \n",
       "\n",
       "chrom                           3R        4  \n",
       "bias   type                                  \n",
       "ovary  observed           538.0000  29.0000  \n",
       "       adj std residual    -3.8727   3.4138  \n",
       "       flag_sig             1.0000   1.0000  \n",
       "None   observed          2373.0000  66.0000  \n",
       "       adj std residual     0.6452   0.6908  \n",
       "       flag_sig             0.0000   0.0000  \n",
       "testis observed          1278.0000  16.0000  \n",
       "       adj std residual     2.3138  -3.4155  \n",
       "       flag_sig             1.0000   1.0000  "
      ]
     },
     "metadata": {},
     "output_type": "display_data"
    },
    {
     "name": "stdout",
     "output_type": "stream",
     "text": [
      "p-value x: 0.0000, p-value 4: 0.0026\n"
     ]
    },
    {
     "data": {
      "image/png": "[encoded data removed]",
      "text/plain": [
       "<matplotlib.figure.Figure at 0x7f29b5660ac8>"
      ]
     },
     "metadata": {},
     "output_type": "display_data"
    }
   ],
   "source": [
    "title = 'Bulk'\n",
    "ct = bulk_sig.groupby('chrom').bias.value_counts().unstack().loc[['X', '2L', '2R', '3L', '3R', '4']].T\n",
    "res = run_chisq(ct)\n",
    "display(res.reindex(['ovary', 'None', 'testis'], level=0).loc[(slice(None), ['observed', 'adj std residual', 'flag_sig']), :])\n",
    "\n",
    "pvalx = res.loc[('testis', 'fdr q-value'), 'X']\n",
    "pval4 = res.loc[('testis', 'fdr q-value'), '4']\n",
    "print(f'p-value x: {pvalx:0.4f}, p-value 4: {pval4:0.4f}')\n",
    "\n",
    "dat = ct.div(ct.sum()).T[['testis', 'None', 'ovary']]\n",
    "ax = dat.plot(kind='bar', stacked=True, width=.95, color=['w', 'darkgray', 'k'], edgecolor='k', lw=1, figsize=(8, 10))\n",
    "ax.set(ylim=(0, 1), ylabel='Proportion of Genes', xlabel='Chromosome', title=title)\n",
    "ax.set_xticklabels(ax.get_xticklabels(), rotation=0)\n",
    "sns.despine(ax=ax)\n",
    "format_pval(ax, 0, dat.loc['X', 'testis'], pvalx)\n",
    "format_pval(ax, 5, dat.loc['4', 'testis'], pval4)\n",
    "plt.legend(['Testis Biased', 'Non-Biased', 'Ovary Biased'], loc='upper left', bbox_to_anchor=(1, 1));"
   ]
  },
  {
   "cell_type": "code",
   "execution_count": 39,
   "metadata": {},
   "outputs": [
    {
     "data": {
      "text/html": [
       "<div>\n",
       "<style scoped>\n",
       "    .dataframe tbody tr th:only-of-type {\n",
       "        vertical-align: middle;\n",
       "    }\n",
       "\n",
       "    .dataframe tbody tr th {\n",
       "        vertical-align: top;\n",
       "    }\n",
       "\n",
       "    .dataframe thead th {\n",
       "        text-align: right;\n",
       "    }\n",
       "</style>\n",
       "<table border=\"1\" class=\"dataframe\">\n",
       "  <thead>\n",
       "    <tr style=\"text-align: right;\">\n",
       "      <th>bias</th>\n",
       "      <th>testis</th>\n",
       "      <th>None</th>\n",
       "      <th>ovary</th>\n",
       "    </tr>\n",
       "    <tr>\n",
       "      <th>chrom</th>\n",
       "      <th></th>\n",
       "      <th></th>\n",
       "      <th></th>\n",
       "    </tr>\n",
       "  </thead>\n",
       "  <tbody>\n",
       "    <tr>\n",
       "      <th>X</th>\n",
       "      <td>0.236418</td>\n",
       "      <td>0.533908</td>\n",
       "      <td>0.229674</td>\n",
       "    </tr>\n",
       "    <tr>\n",
       "      <th>2L</th>\n",
       "      <td>0.322082</td>\n",
       "      <td>0.555206</td>\n",
       "      <td>0.122712</td>\n",
       "    </tr>\n",
       "    <tr>\n",
       "      <th>2R</th>\n",
       "      <td>0.275967</td>\n",
       "      <td>0.576243</td>\n",
       "      <td>0.147790</td>\n",
       "    </tr>\n",
       "    <tr>\n",
       "      <th>3L</th>\n",
       "      <td>0.304688</td>\n",
       "      <td>0.570023</td>\n",
       "      <td>0.125289</td>\n",
       "    </tr>\n",
       "    <tr>\n",
       "      <th>3R</th>\n",
       "      <td>0.305085</td>\n",
       "      <td>0.566484</td>\n",
       "      <td>0.128432</td>\n",
       "    </tr>\n",
       "    <tr>\n",
       "      <th>4</th>\n",
       "      <td>0.144144</td>\n",
       "      <td>0.594595</td>\n",
       "      <td>0.261261</td>\n",
       "    </tr>\n",
       "  </tbody>\n",
       "</table>\n",
       "</div>"
      ],
      "text/plain": [
       "bias     testis      None     ovary\n",
       "chrom                              \n",
       "X      0.236418  0.533908  0.229674\n",
       "2L     0.322082  0.555206  0.122712\n",
       "2R     0.275967  0.576243  0.147790\n",
       "3L     0.304688  0.570023  0.125289\n",
       "3R     0.305085  0.566484  0.128432\n",
       "4      0.144144  0.594595  0.261261"
      ]
     },
     "execution_count": 39,
     "metadata": {},
     "output_type": "execute_result"
    }
   ],
   "source": [
    "dat"
   ]
  },
  {
   "cell_type": "markdown",
   "metadata": {},
   "source": [
    "### SP testis-biased genes do not show evidence of X or 4th demasculinization."
   ]
  },
  {
   "cell_type": "code",
   "execution_count": 15,
   "metadata": {},
   "outputs": [
    {
     "name": "stdout",
     "output_type": "stream",
     "text": [
      "𝛘^2: 51.0429, p-value: 0.0000, df: 10\n"
     ]
    },
    {
     "data": {
      "text/html": [
       "<div>\n",
       "<style scoped>\n",
       "    .dataframe tbody tr th:only-of-type {\n",
       "        vertical-align: middle;\n",
       "    }\n",
       "\n",
       "    .dataframe tbody tr th {\n",
       "        vertical-align: top;\n",
       "    }\n",
       "\n",
       "    .dataframe thead th {\n",
       "        text-align: right;\n",
       "    }\n",
       "</style>\n",
       "<table border=\"1\" class=\"dataframe\">\n",
       "  <thead>\n",
       "    <tr style=\"text-align: right;\">\n",
       "      <th></th>\n",
       "      <th>chrom</th>\n",
       "      <th>X</th>\n",
       "      <th>2L</th>\n",
       "      <th>2R</th>\n",
       "      <th>3L</th>\n",
       "      <th>3R</th>\n",
       "      <th>4</th>\n",
       "    </tr>\n",
       "    <tr>\n",
       "      <th>bias</th>\n",
       "      <th>type</th>\n",
       "      <th></th>\n",
       "      <th></th>\n",
       "      <th></th>\n",
       "      <th></th>\n",
       "      <th></th>\n",
       "      <th></th>\n",
       "    </tr>\n",
       "  </thead>\n",
       "  <tbody>\n",
       "    <tr>\n",
       "      <th rowspan=\"3\" valign=\"top\">ovary</th>\n",
       "      <th>observed</th>\n",
       "      <td>114.0000</td>\n",
       "      <td>91.0000</td>\n",
       "      <td>133.0000</td>\n",
       "      <td>76.0000</td>\n",
       "      <td>106.0000</td>\n",
       "      <td>6.0000</td>\n",
       "    </tr>\n",
       "    <tr>\n",
       "      <th>adj std residual</th>\n",
       "      <td>4.1864</td>\n",
       "      <td>-1.5331</td>\n",
       "      <td>2.6743</td>\n",
       "      <td>-3.0758</td>\n",
       "      <td>-2.0367</td>\n",
       "      <td>1.4915</td>\n",
       "    </tr>\n",
       "    <tr>\n",
       "      <th>flag_sig</th>\n",
       "      <td>1.0000</td>\n",
       "      <td>0.0000</td>\n",
       "      <td>0.0000</td>\n",
       "      <td>1.0000</td>\n",
       "      <td>0.0000</td>\n",
       "      <td>0.0000</td>\n",
       "    </tr>\n",
       "    <tr>\n",
       "      <th rowspan=\"3\" valign=\"top\">None</th>\n",
       "      <th>observed</th>\n",
       "      <td>2523.0000</td>\n",
       "      <td>3382.0000</td>\n",
       "      <td>3464.0000</td>\n",
       "      <td>3347.0000</td>\n",
       "      <td>4057.0000</td>\n",
       "      <td>102.0000</td>\n",
       "    </tr>\n",
       "    <tr>\n",
       "      <th>adj std residual</th>\n",
       "      <td>-4.9126</td>\n",
       "      <td>1.8530</td>\n",
       "      <td>-1.8113</td>\n",
       "      <td>2.2068</td>\n",
       "      <td>2.5063</td>\n",
       "      <td>-2.3842</td>\n",
       "    </tr>\n",
       "    <tr>\n",
       "      <th>flag_sig</th>\n",
       "      <td>1.0000</td>\n",
       "      <td>0.0000</td>\n",
       "      <td>0.0000</td>\n",
       "      <td>0.0000</td>\n",
       "      <td>0.0000</td>\n",
       "      <td>0.0000</td>\n",
       "    </tr>\n",
       "    <tr>\n",
       "      <th rowspan=\"3\" valign=\"top\">testis</th>\n",
       "      <th>observed</th>\n",
       "      <td>32.0000</td>\n",
       "      <td>23.0000</td>\n",
       "      <td>23.0000</td>\n",
       "      <td>33.0000</td>\n",
       "      <td>26.0000</td>\n",
       "      <td>3.0000</td>\n",
       "    </tr>\n",
       "    <tr>\n",
       "      <th>adj std residual</th>\n",
       "      <td>2.5274</td>\n",
       "      <td>-1.0414</td>\n",
       "      <td>-1.2355</td>\n",
       "      <td>1.1556</td>\n",
       "      <td>-1.4795</td>\n",
       "      <td>2.2623</td>\n",
       "    </tr>\n",
       "    <tr>\n",
       "      <th>flag_sig</th>\n",
       "      <td>0.0000</td>\n",
       "      <td>0.0000</td>\n",
       "      <td>0.0000</td>\n",
       "      <td>0.0000</td>\n",
       "      <td>0.0000</td>\n",
       "      <td>0.0000</td>\n",
       "    </tr>\n",
       "  </tbody>\n",
       "</table>\n",
       "</div>"
      ],
      "text/plain": [
       "chrom                            X         2L         2R         3L  \\\n",
       "bias   type                                                           \n",
       "ovary  observed           114.0000    91.0000   133.0000    76.0000   \n",
       "       adj std residual     4.1864    -1.5331     2.6743    -3.0758   \n",
       "       flag_sig             1.0000     0.0000     0.0000     1.0000   \n",
       "None   observed          2523.0000  3382.0000  3464.0000  3347.0000   \n",
       "       adj std residual    -4.9126     1.8530    -1.8113     2.2068   \n",
       "       flag_sig             1.0000     0.0000     0.0000     0.0000   \n",
       "testis observed            32.0000    23.0000    23.0000    33.0000   \n",
       "       adj std residual     2.5274    -1.0414    -1.2355     1.1556   \n",
       "       flag_sig             0.0000     0.0000     0.0000     0.0000   \n",
       "\n",
       "chrom                           3R         4  \n",
       "bias   type                                   \n",
       "ovary  observed           106.0000    6.0000  \n",
       "       adj std residual    -2.0367    1.4915  \n",
       "       flag_sig             0.0000    0.0000  \n",
       "None   observed          4057.0000  102.0000  \n",
       "       adj std residual     2.5063   -2.3842  \n",
       "       flag_sig             0.0000    0.0000  \n",
       "testis observed            26.0000    3.0000  \n",
       "       adj std residual    -1.4795    2.2623  \n",
       "       flag_sig             0.0000    0.0000  "
      ]
     },
     "metadata": {},
     "output_type": "display_data"
    },
    {
     "name": "stdout",
     "output_type": "stream",
     "text": [
      "p-value x: 0.0518, p-value 4: 0.0695\n"
     ]
    },
    {
     "data": {
      "image/png": "[encoded data removed]",
      "text/plain": [
       "<matplotlib.figure.Figure at 0x7f29b332d748>"
      ]
     },
     "metadata": {},
     "output_type": "display_data"
    }
   ],
   "source": [
    "title = 'SP-biased'\n",
    "BIASED = (\n",
    "    pd.read_csv('../output/scrnaseq-wf/germcell_deg/gonia_vs_cytes.tsv', sep='\\t', index_col=0)\n",
    "    .query('p_val_adj <= 0.01 & avg_logFC > 0')\n",
    "    .index.tolist()\n",
    ")\n",
    "\n",
    "_bulk_sig = bulk_sig.copy()\n",
    "_bulk_sig.loc[~_bulk_sig.index.isin(BIASED), 'bias'] = 'None'\n",
    "ct = _bulk_sig.groupby('chrom').bias.value_counts().unstack().loc[['X', '2L', '2R', '3L', '3R', '4']].T.fillna(0)\n",
    "\n",
    "res = run_chisq(ct)\n",
    "display(res.reindex(['ovary', 'None', 'testis'], level=0).loc[(slice(None), ['observed', 'adj std residual', 'flag_sig']), :])\n",
    "\n",
    "pvalx = res.loc[('testis', 'fdr q-value'), 'X']\n",
    "pval4 = res.loc[('testis', 'fdr q-value'), '4']\n",
    "print(f'p-value x: {pvalx:0.4f}, p-value 4: {pval4:0.4f}')\n",
    "\n",
    "dat = ct.div(ct.sum()).T[['testis', 'None', 'ovary']]\n",
    "ax = dat.plot(kind='bar', stacked=True, width=.95, color=['w', 'darkgray', 'k'], edgecolor='k', lw=1, figsize=(8, 10))\n",
    "ax.set(ylim=(0, 1), ylabel='Proportion of Genes', xlabel='Chromosome', title=title)\n",
    "ax.set_xticklabels(ax.get_xticklabels(), rotation=0)\n",
    "sns.despine(ax=ax)\n",
    "format_pval(ax, 0, dat.loc['X', 'testis'], pvalx)\n",
    "format_pval(ax, 5, dat.loc['4', 'testis'], pval4)\n",
    "plt.legend(['Testis Biased', 'Non-Biased', 'Ovary Biased'], loc='upper left', bbox_to_anchor=(1, 1));"
   ]
  },
  {
   "cell_type": "markdown",
   "metadata": {},
   "source": [
    "### Cyte testis-biased genes show evidence of X demasculinization and tend to have 4th demasculinization"
   ]
  },
  {
   "cell_type": "code",
   "execution_count": 16,
   "metadata": {},
   "outputs": [
    {
     "name": "stdout",
     "output_type": "stream",
     "text": [
      "𝛘^2: 50.7068, p-value: 0.0000, df: 10\n"
     ]
    },
    {
     "data": {
      "text/html": [
       "<div>\n",
       "<style scoped>\n",
       "    .dataframe tbody tr th:only-of-type {\n",
       "        vertical-align: middle;\n",
       "    }\n",
       "\n",
       "    .dataframe tbody tr th {\n",
       "        vertical-align: top;\n",
       "    }\n",
       "\n",
       "    .dataframe thead th {\n",
       "        text-align: right;\n",
       "    }\n",
       "</style>\n",
       "<table border=\"1\" class=\"dataframe\">\n",
       "  <thead>\n",
       "    <tr style=\"text-align: right;\">\n",
       "      <th></th>\n",
       "      <th>chrom</th>\n",
       "      <th>X</th>\n",
       "      <th>2L</th>\n",
       "      <th>2R</th>\n",
       "      <th>3L</th>\n",
       "      <th>3R</th>\n",
       "      <th>4</th>\n",
       "    </tr>\n",
       "    <tr>\n",
       "      <th>bias</th>\n",
       "      <th>type</th>\n",
       "      <th></th>\n",
       "      <th></th>\n",
       "      <th></th>\n",
       "      <th></th>\n",
       "      <th></th>\n",
       "      <th></th>\n",
       "    </tr>\n",
       "  </thead>\n",
       "  <tbody>\n",
       "    <tr>\n",
       "      <th rowspan=\"3\" valign=\"top\">ovary</th>\n",
       "      <th>observed</th>\n",
       "      <td>0.0000</td>\n",
       "      <td>0.0000</td>\n",
       "      <td>1.0000</td>\n",
       "      <td>2.0000</td>\n",
       "      <td>2.0000</td>\n",
       "      <td>1.0000</td>\n",
       "    </tr>\n",
       "    <tr>\n",
       "      <th>adj std residual</th>\n",
       "      <td>-1.0379</td>\n",
       "      <td>-1.2223</td>\n",
       "      <td>-0.2404</td>\n",
       "      <td>0.8396</td>\n",
       "      <td>0.5431</td>\n",
       "      <td>4.9537</td>\n",
       "    </tr>\n",
       "    <tr>\n",
       "      <th>flag_sig</th>\n",
       "      <td>0.0000</td>\n",
       "      <td>0.0000</td>\n",
       "      <td>0.0000</td>\n",
       "      <td>0.0000</td>\n",
       "      <td>0.0000</td>\n",
       "      <td>1.0000</td>\n",
       "    </tr>\n",
       "    <tr>\n",
       "      <th rowspan=\"3\" valign=\"top\">None</th>\n",
       "      <th>observed</th>\n",
       "      <td>2437.0000</td>\n",
       "      <td>3076.0000</td>\n",
       "      <td>3241.0000</td>\n",
       "      <td>3088.0000</td>\n",
       "      <td>3750.0000</td>\n",
       "      <td>106.0000</td>\n",
       "    </tr>\n",
       "    <tr>\n",
       "      <th>adj std residual</th>\n",
       "      <td>3.3199</td>\n",
       "      <td>-3.2472</td>\n",
       "      <td>0.0819</td>\n",
       "      <td>-0.3024</td>\n",
       "      <td>0.0653</td>\n",
       "      <td>2.0688</td>\n",
       "    </tr>\n",
       "    <tr>\n",
       "      <th>flag_sig</th>\n",
       "      <td>1.0000</td>\n",
       "      <td>1.0000</td>\n",
       "      <td>0.0000</td>\n",
       "      <td>0.0000</td>\n",
       "      <td>0.0000</td>\n",
       "      <td>0.0000</td>\n",
       "    </tr>\n",
       "    <tr>\n",
       "      <th rowspan=\"3\" valign=\"top\">testis</th>\n",
       "      <th>observed</th>\n",
       "      <td>232.0000</td>\n",
       "      <td>420.0000</td>\n",
       "      <td>378.0000</td>\n",
       "      <td>366.0000</td>\n",
       "      <td>437.0000</td>\n",
       "      <td>4.0000</td>\n",
       "    </tr>\n",
       "    <tr>\n",
       "      <th>adj std residual</th>\n",
       "      <td>-3.2620</td>\n",
       "      <td>3.3257</td>\n",
       "      <td>-0.0675</td>\n",
       "      <td>0.2521</td>\n",
       "      <td>-0.0982</td>\n",
       "      <td>-2.3710</td>\n",
       "    </tr>\n",
       "    <tr>\n",
       "      <th>flag_sig</th>\n",
       "      <td>1.0000</td>\n",
       "      <td>1.0000</td>\n",
       "      <td>0.0000</td>\n",
       "      <td>0.0000</td>\n",
       "      <td>0.0000</td>\n",
       "      <td>0.0000</td>\n",
       "    </tr>\n",
       "  </tbody>\n",
       "</table>\n",
       "</div>"
      ],
      "text/plain": [
       "chrom                            X         2L         2R         3L  \\\n",
       "bias   type                                                           \n",
       "ovary  observed             0.0000     0.0000     1.0000     2.0000   \n",
       "       adj std residual    -1.0379    -1.2223    -0.2404     0.8396   \n",
       "       flag_sig             0.0000     0.0000     0.0000     0.0000   \n",
       "None   observed          2437.0000  3076.0000  3241.0000  3088.0000   \n",
       "       adj std residual     3.3199    -3.2472     0.0819    -0.3024   \n",
       "       flag_sig             1.0000     1.0000     0.0000     0.0000   \n",
       "testis observed           232.0000   420.0000   378.0000   366.0000   \n",
       "       adj std residual    -3.2620     3.3257    -0.0675     0.2521   \n",
       "       flag_sig             1.0000     1.0000     0.0000     0.0000   \n",
       "\n",
       "chrom                           3R         4  \n",
       "bias   type                                   \n",
       "ovary  observed             2.0000    1.0000  \n",
       "       adj std residual     0.5431    4.9537  \n",
       "       flag_sig             0.0000    1.0000  \n",
       "None   observed          3750.0000  106.0000  \n",
       "       adj std residual     0.0653    2.0688  \n",
       "       flag_sig             0.0000    0.0000  \n",
       "testis observed           437.0000    4.0000  \n",
       "       adj std residual    -0.0982   -2.3710  \n",
       "       flag_sig             0.0000    0.0000  "
      ]
     },
     "metadata": {},
     "output_type": "display_data"
    },
    {
     "name": "stdout",
     "output_type": "stream",
     "text": [
      "p-value x: 0.0074, p-value 4: 0.0720\n"
     ]
    },
    {
     "data": {
      "image/png": "[encoded data removed]",
      "text/plain": [
       "<matplotlib.figure.Figure at 0x7f29b326d128>"
      ]
     },
     "metadata": {},
     "output_type": "display_data"
    }
   ],
   "source": [
    "title = 'Cyte-biased'\n",
    "BIASED = (\n",
    "    pd.read_csv('../output/scrnaseq-wf/germcell_deg/gonia_vs_cytes.tsv', sep='\\t', index_col=0)\n",
    "    .query('p_val_adj <= 0.01 & avg_logFC < 0')\n",
    "    .index.tolist()\n",
    ")\n",
    "\n",
    "_bulk_sig = bulk_sig.copy()\n",
    "_bulk_sig.loc[~_bulk_sig.index.isin(BIASED), 'bias'] = 'None'\n",
    "ct = _bulk_sig.groupby('chrom').bias.value_counts().unstack().loc[['X', '2L', '2R', '3L', '3R', '4']].T.fillna(0)\n",
    "\n",
    "res = run_chisq(ct)\n",
    "display(res.reindex(['ovary', 'None', 'testis'], level=0).loc[(slice(None), ['observed', 'adj std residual', 'flag_sig']), :])\n",
    "\n",
    "pvalx = res.loc[('testis', 'fdr q-value'), 'X']\n",
    "pval4 = res.loc[('testis', 'fdr q-value'), '4']\n",
    "print(f'p-value x: {pvalx:0.4f}, p-value 4: {pval4:0.4f}')\n",
    "\n",
    "dat = ct.div(ct.sum()).T[['testis', 'None', 'ovary']]\n",
    "ax = dat.plot(kind='bar', stacked=True, width=.95, color=['w', 'darkgray', 'k'], edgecolor='k', lw=1, figsize=(8, 10))\n",
    "ax.set(ylim=(0, 1), ylabel='Proportion of Genes', xlabel='Chromosome', title=title)\n",
    "ax.set_xticklabels(ax.get_xticklabels(), rotation=0)\n",
    "sns.despine(ax=ax)\n",
    "format_pval(ax, 0, dat.loc['X', 'testis'], pvalx)\n",
    "format_pval(ax, 5, dat.loc['4', 'testis'], pval4)\n",
    "plt.legend(['Testis Biased', 'Non-Biased', 'Ovary Biased'], loc='upper left', bbox_to_anchor=(1, 1));"
   ]
  },
  {
   "cell_type": "code",
   "execution_count": null,
   "metadata": {},
   "outputs": [],
   "source": []
  },
  {
   "cell_type": "markdown",
   "metadata": {
    "toc-hr-collapsed": false
   },
   "source": [
    "## Gene Movement"
   ]
  },
  {
   "cell_type": "markdown",
   "metadata": {},
   "source": [
    "https://genome.cshlp.org/content/19/5/897.long\n",
    "\n",
    "For DNA-based relocated copies, we observed a higher male-biased expression for X→A movement in comparison to A→ (Table 4), although not significant due to small sample size. However, we found the statistically significant opposite pattern for DNA-based parental copies. X→A parental copies have significant lower male-biased expression compared with A→ cases (Fisher's exact test, P = 0.03; Table 4). The same trend is observed for our RNA-based relocations (Fisher's exact test, P ≤ 0.001; Table 5).\n",
    "\n",
    "https://genome.cshlp.org/content/19/5/897/T4.expansion.html\n",
    "\n",
    "https://genome.cshlp.org/content/19/5/897/T5.expansion.html\n",
    "\n",
    "Note, that it is only significant the parental for both"
   ]
  },
  {
   "cell_type": "code",
   "execution_count": 75,
   "metadata": {},
   "outputs": [],
   "source": [
    "assembly = config['assembly']\n",
    "tag = config['tag']\n",
    "pth = Path(os.environ['REFERENCES_DIR'], f'{assembly}/{tag}/fb_annotation/{assembly}_{tag}.fb_annotation')\n",
    "\n",
    "# Create a FBgn sanitizer using secondary IDs\n",
    "mapper = {}\n",
    "for record in pd.read_csv(pth, sep='\\t').to_records():\n",
    "    mapper[record.primary_FBgn] = record.primary_FBgn\n",
    "    \n",
    "    try:\n",
    "        for g in record.secondary_FBgn.split(','):\n",
    "            mapper[g] = record.primary_FBgn\n",
    "    except AttributeError:\n",
    "        pass"
   ]
  },
  {
   "cell_type": "code",
   "execution_count": 85,
   "metadata": {},
   "outputs": [],
   "source": [
    "movement = (\n",
    "    pd.read_excel('../data/external/maria/dm6_ver78_genetype.new.xlsx')\n",
    "    .query('gene_type == [\"D\", \"R\", \"Dl\", \"Rl\"] and m_type == \"M\"')\n",
    "    .assign(child_chrom = lambda df: df.note.str.extract('(chr.*?)-'))\n",
    "    .assign(parent_chrom = lambda df: df.note.str.extract('-(chr.*?)[:;]'))\n",
    "    .assign(child_FBgn = lambda df: df.child_id.map(mapper))\n",
    "    .assign(parent_FBgn = lambda df: df.parent_id.map(mapper))\n",
    "    .drop(['child_id', 'parent_id', 'note', 'm_type'], axis=1)\n",
    ") \n",
    "\n",
    "movement.loc[(movement.parent_chrom == \"chrX\") & movement.child_chrom.isin(autosomes), 'movement'] = 'X -> A'\n",
    "movement.loc[movement.parent_chrom.isin(autosomes) & (movement.child_chrom == \"chrX\"), 'movement'] = 'A -> X'\n",
    "movement.loc[movement.parent_chrom.isin(autosomes) & movement.child_chrom.isin(autosomes), 'movement'] = 'A -> A'\n",
    "\n",
    "movement = movement.query('movement != \"A -> X\"').dropna().copy()"
   ]
  },
  {
   "cell_type": "code",
   "execution_count": 87,
   "metadata": {},
   "outputs": [
    {
     "data": {
      "text/html": [
       "<div>\n",
       "<style scoped>\n",
       "    .dataframe tbody tr th:only-of-type {\n",
       "        vertical-align: middle;\n",
       "    }\n",
       "\n",
       "    .dataframe tbody tr th {\n",
       "        vertical-align: top;\n",
       "    }\n",
       "\n",
       "    .dataframe thead th {\n",
       "        text-align: right;\n",
       "    }\n",
       "</style>\n",
       "<table border=\"1\" class=\"dataframe\">\n",
       "  <thead>\n",
       "    <tr style=\"text-align: right;\">\n",
       "      <th>movement</th>\n",
       "      <th>A -&gt; A</th>\n",
       "      <th>X -&gt; A</th>\n",
       "    </tr>\n",
       "    <tr>\n",
       "      <th>gene_type</th>\n",
       "      <th></th>\n",
       "      <th></th>\n",
       "    </tr>\n",
       "  </thead>\n",
       "  <tbody>\n",
       "    <tr>\n",
       "      <th>D</th>\n",
       "      <td>16</td>\n",
       "      <td>11</td>\n",
       "    </tr>\n",
       "    <tr>\n",
       "      <th>Dl</th>\n",
       "      <td>66</td>\n",
       "      <td>30</td>\n",
       "    </tr>\n",
       "    <tr>\n",
       "      <th>R</th>\n",
       "      <td>13</td>\n",
       "      <td>12</td>\n",
       "    </tr>\n",
       "    <tr>\n",
       "      <th>Rl</th>\n",
       "      <td>28</td>\n",
       "      <td>15</td>\n",
       "    </tr>\n",
       "  </tbody>\n",
       "</table>\n",
       "</div>"
      ],
      "text/plain": [
       "movement   A -> A  X -> A\n",
       "gene_type                \n",
       "D              16      11\n",
       "Dl             66      30\n",
       "R              13      12\n",
       "Rl             28      15"
      ]
     },
     "execution_count": 87,
     "metadata": {},
     "output_type": "execute_result"
    }
   ],
   "source": [
    "movement.groupby(['gene_type', 'movement']).size().unstack()"
   ]
  },
  {
   "cell_type": "markdown",
   "metadata": {},
   "source": [
    "### Gene Movement and Testis-biased Expression"
   ]
  },
  {
   "cell_type": "markdown",
   "metadata": {},
   "source": [
    "#### Parent gene location is not associated with testis biased expression"
   ]
  },
  {
   "cell_type": "code",
   "execution_count": 88,
   "metadata": {},
   "outputs": [
    {
     "data": {
      "text/html": [
       "<div>\n",
       "<style scoped>\n",
       "    .dataframe tbody tr th:only-of-type {\n",
       "        vertical-align: middle;\n",
       "    }\n",
       "\n",
       "    .dataframe tbody tr th {\n",
       "        vertical-align: top;\n",
       "    }\n",
       "\n",
       "    .dataframe thead th {\n",
       "        text-align: right;\n",
       "    }\n",
       "</style>\n",
       "<table border=\"1\" class=\"dataframe\">\n",
       "  <thead>\n",
       "    <tr style=\"text-align: right;\">\n",
       "      <th>bias</th>\n",
       "      <th>Not Biased</th>\n",
       "      <th>testis</th>\n",
       "    </tr>\n",
       "    <tr>\n",
       "      <th>movement</th>\n",
       "      <th></th>\n",
       "      <th></th>\n",
       "    </tr>\n",
       "  </thead>\n",
       "  <tbody>\n",
       "    <tr>\n",
       "      <th>A -&gt; A</th>\n",
       "      <td>88</td>\n",
       "      <td>35</td>\n",
       "    </tr>\n",
       "    <tr>\n",
       "      <th>X -&gt; A</th>\n",
       "      <td>51</td>\n",
       "      <td>17</td>\n",
       "    </tr>\n",
       "  </tbody>\n",
       "</table>\n",
       "</div>"
      ],
      "text/plain": [
       "bias      Not Biased  testis\n",
       "movement                    \n",
       "A -> A            88      35\n",
       "X -> A            51      17"
      ]
     },
     "metadata": {},
     "output_type": "display_data"
    },
    {
     "data": {
      "text/plain": [
       "0.7344821639702598"
      ]
     },
     "execution_count": 88,
     "metadata": {},
     "output_type": "execute_result"
    }
   ],
   "source": [
    "ct = movement.join(bulk_sig.bias.replace({'ovary': 'Not Biased', 'None': 'Not Biased'}), on='parent_FBgn').groupby('movement').bias.value_counts().unstack().fillna(0)\n",
    "display(ct)\n",
    "fisher_exact(ct)[1]"
   ]
  },
  {
   "cell_type": "markdown",
   "metadata": {},
   "source": [
    "#### Child genes that moved from the X are enriched with testis biased expression"
   ]
  },
  {
   "cell_type": "code",
   "execution_count": 89,
   "metadata": {},
   "outputs": [
    {
     "data": {
      "text/html": [
       "<div>\n",
       "<style scoped>\n",
       "    .dataframe tbody tr th:only-of-type {\n",
       "        vertical-align: middle;\n",
       "    }\n",
       "\n",
       "    .dataframe tbody tr th {\n",
       "        vertical-align: top;\n",
       "    }\n",
       "\n",
       "    .dataframe thead th {\n",
       "        text-align: right;\n",
       "    }\n",
       "</style>\n",
       "<table border=\"1\" class=\"dataframe\">\n",
       "  <thead>\n",
       "    <tr style=\"text-align: right;\">\n",
       "      <th>bias</th>\n",
       "      <th>Not Biased</th>\n",
       "      <th>testis</th>\n",
       "    </tr>\n",
       "    <tr>\n",
       "      <th>movement</th>\n",
       "      <th></th>\n",
       "      <th></th>\n",
       "    </tr>\n",
       "  </thead>\n",
       "  <tbody>\n",
       "    <tr>\n",
       "      <th>A -&gt; A</th>\n",
       "      <td>62</td>\n",
       "      <td>61</td>\n",
       "    </tr>\n",
       "    <tr>\n",
       "      <th>X -&gt; A</th>\n",
       "      <td>23</td>\n",
       "      <td>45</td>\n",
       "    </tr>\n",
       "  </tbody>\n",
       "</table>\n",
       "</div>"
      ],
      "text/plain": [
       "bias      Not Biased  testis\n",
       "movement                    \n",
       "A -> A            62      61\n",
       "X -> A            23      45"
      ]
     },
     "metadata": {},
     "output_type": "display_data"
    },
    {
     "data": {
      "text/plain": [
       "0.03334204758345051"
      ]
     },
     "execution_count": 89,
     "metadata": {},
     "output_type": "execute_result"
    }
   ],
   "source": [
    "ct = movement.join(bulk_sig.bias.replace({'ovary': 'Not Biased', 'None': 'Not Biased'}), on='child_FBgn').groupby('movement').bias.value_counts().unstack().fillna(0)\n",
    "display(ct)\n",
    "fisher_exact(ct)[1]"
   ]
  },
  {
   "cell_type": "markdown",
   "metadata": {},
   "source": [
    "##### DNA based movements show no association"
   ]
  },
  {
   "cell_type": "code",
   "execution_count": 90,
   "metadata": {},
   "outputs": [
    {
     "data": {
      "text/html": [
       "<div>\n",
       "<style scoped>\n",
       "    .dataframe tbody tr th:only-of-type {\n",
       "        vertical-align: middle;\n",
       "    }\n",
       "\n",
       "    .dataframe tbody tr th {\n",
       "        vertical-align: top;\n",
       "    }\n",
       "\n",
       "    .dataframe thead th {\n",
       "        text-align: right;\n",
       "    }\n",
       "</style>\n",
       "<table border=\"1\" class=\"dataframe\">\n",
       "  <thead>\n",
       "    <tr style=\"text-align: right;\">\n",
       "      <th>bias</th>\n",
       "      <th>Not Biased</th>\n",
       "      <th>testis</th>\n",
       "    </tr>\n",
       "    <tr>\n",
       "      <th>movement</th>\n",
       "      <th></th>\n",
       "      <th></th>\n",
       "    </tr>\n",
       "  </thead>\n",
       "  <tbody>\n",
       "    <tr>\n",
       "      <th>A -&gt; A</th>\n",
       "      <td>44</td>\n",
       "      <td>38</td>\n",
       "    </tr>\n",
       "    <tr>\n",
       "      <th>X -&gt; A</th>\n",
       "      <td>17</td>\n",
       "      <td>24</td>\n",
       "    </tr>\n",
       "  </tbody>\n",
       "</table>\n",
       "</div>"
      ],
      "text/plain": [
       "bias      Not Biased  testis\n",
       "movement                    \n",
       "A -> A            44      38\n",
       "X -> A            17      24"
      ]
     },
     "metadata": {},
     "output_type": "display_data"
    },
    {
     "data": {
      "text/plain": [
       "0.2519495829844909"
      ]
     },
     "execution_count": 90,
     "metadata": {},
     "output_type": "execute_result"
    }
   ],
   "source": [
    "ct = movement.join(bulk_sig.bias.replace({'ovary': 'Not Biased', 'None': 'Not Biased'}), on='child_FBgn').query('gene_type == [\"D\", \"Dl\"]').groupby('movement').bias.value_counts().unstack().fillna(0)\n",
    "display(ct)\n",
    "fisher_exact(ct)[1]"
   ]
  },
  {
   "cell_type": "markdown",
   "metadata": {},
   "source": [
    "##### RNA based movements tend show testis biased enrichment"
   ]
  },
  {
   "cell_type": "code",
   "execution_count": 91,
   "metadata": {},
   "outputs": [
    {
     "data": {
      "text/html": [
       "<div>\n",
       "<style scoped>\n",
       "    .dataframe tbody tr th:only-of-type {\n",
       "        vertical-align: middle;\n",
       "    }\n",
       "\n",
       "    .dataframe tbody tr th {\n",
       "        vertical-align: top;\n",
       "    }\n",
       "\n",
       "    .dataframe thead th {\n",
       "        text-align: right;\n",
       "    }\n",
       "</style>\n",
       "<table border=\"1\" class=\"dataframe\">\n",
       "  <thead>\n",
       "    <tr style=\"text-align: right;\">\n",
       "      <th>bias</th>\n",
       "      <th>Not Biased</th>\n",
       "      <th>testis</th>\n",
       "    </tr>\n",
       "    <tr>\n",
       "      <th>movement</th>\n",
       "      <th></th>\n",
       "      <th></th>\n",
       "    </tr>\n",
       "  </thead>\n",
       "  <tbody>\n",
       "    <tr>\n",
       "      <th>A -&gt; A</th>\n",
       "      <td>18</td>\n",
       "      <td>23</td>\n",
       "    </tr>\n",
       "    <tr>\n",
       "      <th>X -&gt; A</th>\n",
       "      <td>6</td>\n",
       "      <td>21</td>\n",
       "    </tr>\n",
       "  </tbody>\n",
       "</table>\n",
       "</div>"
      ],
      "text/plain": [
       "bias      Not Biased  testis\n",
       "movement                    \n",
       "A -> A            18      23\n",
       "X -> A             6      21"
      ]
     },
     "metadata": {},
     "output_type": "display_data"
    },
    {
     "data": {
      "text/plain": [
       "0.07662366163711533"
      ]
     },
     "execution_count": 91,
     "metadata": {},
     "output_type": "execute_result"
    }
   ],
   "source": [
    "ct = movement.join(bulk_sig.bias.replace({'ovary': 'Not Biased', 'None': 'Not Biased'}), on='child_FBgn').query('gene_type == [\"R\", \"Rl\"]').groupby('movement').bias.value_counts().unstack().fillna(0)\n",
    "display(ct)\n",
    "fisher_exact(ct)[1]"
   ]
  },
  {
   "cell_type": "markdown",
   "metadata": {},
   "source": [
    "### Gene Movement and Gonia Biased Expression"
   ]
  },
  {
   "cell_type": "markdown",
   "metadata": {},
   "source": [
    "#### There is no association of the parent gene and Gonia biased expression"
   ]
  },
  {
   "cell_type": "code",
   "execution_count": 92,
   "metadata": {},
   "outputs": [
    {
     "data": {
      "text/html": [
       "<div>\n",
       "<style scoped>\n",
       "    .dataframe tbody tr th:only-of-type {\n",
       "        vertical-align: middle;\n",
       "    }\n",
       "\n",
       "    .dataframe tbody tr th {\n",
       "        vertical-align: top;\n",
       "    }\n",
       "\n",
       "    .dataframe thead th {\n",
       "        text-align: right;\n",
       "    }\n",
       "</style>\n",
       "<table border=\"1\" class=\"dataframe\">\n",
       "  <thead>\n",
       "    <tr style=\"text-align: right;\">\n",
       "      <th>bias</th>\n",
       "      <th>False</th>\n",
       "      <th>True</th>\n",
       "    </tr>\n",
       "    <tr>\n",
       "      <th>movement</th>\n",
       "      <th></th>\n",
       "      <th></th>\n",
       "    </tr>\n",
       "  </thead>\n",
       "  <tbody>\n",
       "    <tr>\n",
       "      <th>A -&gt; A</th>\n",
       "      <td>108</td>\n",
       "      <td>15</td>\n",
       "    </tr>\n",
       "    <tr>\n",
       "      <th>X -&gt; A</th>\n",
       "      <td>55</td>\n",
       "      <td>13</td>\n",
       "    </tr>\n",
       "  </tbody>\n",
       "</table>\n",
       "</div>"
      ],
      "text/plain": [
       "bias      False  True \n",
       "movement              \n",
       "A -> A      108     15\n",
       "X -> A       55     13"
      ]
     },
     "metadata": {},
     "output_type": "display_data"
    },
    {
     "data": {
      "text/plain": [
       "0.20620664603288402"
      ]
     },
     "execution_count": 92,
     "metadata": {},
     "output_type": "execute_result"
    }
   ],
   "source": [
    "BIASED = (\n",
    "    pd.read_csv('../output/scrnaseq-wf/germcell_deg/gonia_vs_cytes.tsv', sep='\\t', index_col=0)\n",
    "    .query('p_val_adj <= 0.01 & avg_logFC > 0')\n",
    "    .index.tolist()\n",
    ")\n",
    "\n",
    "_movement = movement[['parent_FBgn', 'child_FBgn', 'movement']].copy()\n",
    "_movement['bias'] = False\n",
    "_movement.loc[_movement.parent_FBgn.isin(BIASED), 'bias'] = True\n",
    "\n",
    "ct = _movement.groupby('movement').bias.value_counts().unstack().fillna(0)\n",
    "display(ct)\n",
    "fisher_exact(ct)[1]"
   ]
  },
  {
   "cell_type": "markdown",
   "metadata": {},
   "source": [
    "#### Child genes that moved from the X show an enrichment of gonia biased expression"
   ]
  },
  {
   "cell_type": "code",
   "execution_count": 93,
   "metadata": {},
   "outputs": [
    {
     "data": {
      "text/html": [
       "<div>\n",
       "<style scoped>\n",
       "    .dataframe tbody tr th:only-of-type {\n",
       "        vertical-align: middle;\n",
       "    }\n",
       "\n",
       "    .dataframe tbody tr th {\n",
       "        vertical-align: top;\n",
       "    }\n",
       "\n",
       "    .dataframe thead th {\n",
       "        text-align: right;\n",
       "    }\n",
       "</style>\n",
       "<table border=\"1\" class=\"dataframe\">\n",
       "  <thead>\n",
       "    <tr style=\"text-align: right;\">\n",
       "      <th>bias</th>\n",
       "      <th>False</th>\n",
       "      <th>True</th>\n",
       "    </tr>\n",
       "    <tr>\n",
       "      <th>movement</th>\n",
       "      <th></th>\n",
       "      <th></th>\n",
       "    </tr>\n",
       "  </thead>\n",
       "  <tbody>\n",
       "    <tr>\n",
       "      <th>A -&gt; A</th>\n",
       "      <td>121</td>\n",
       "      <td>2</td>\n",
       "    </tr>\n",
       "    <tr>\n",
       "      <th>X -&gt; A</th>\n",
       "      <td>57</td>\n",
       "      <td>11</td>\n",
       "    </tr>\n",
       "  </tbody>\n",
       "</table>\n",
       "</div>"
      ],
      "text/plain": [
       "bias      False  True \n",
       "movement              \n",
       "A -> A      121      2\n",
       "X -> A       57     11"
      ]
     },
     "metadata": {},
     "output_type": "display_data"
    },
    {
     "data": {
      "text/plain": [
       "0.000261011646157819"
      ]
     },
     "execution_count": 93,
     "metadata": {},
     "output_type": "execute_result"
    }
   ],
   "source": [
    "BIASED = (\n",
    "    pd.read_csv('../output/scrnaseq-wf/germcell_deg/gonia_vs_cytes.tsv', sep='\\t', index_col=0)\n",
    "    .query('p_val_adj <= 0.01 & avg_logFC > 0')\n",
    "    .index.tolist()\n",
    ")\n",
    "\n",
    "_movement = movement[['parent_FBgn', 'child_FBgn', 'movement']].copy()\n",
    "_movement['bias'] = False\n",
    "_movement.loc[_movement.child_FBgn.isin(BIASED), 'bias'] = True\n",
    "\n",
    "ct = _movement.groupby('movement').bias.value_counts().unstack().fillna(0)\n",
    "display(ct)\n",
    "fisher_exact(ct)[1]"
   ]
  },
  {
   "cell_type": "markdown",
   "metadata": {},
   "source": [
    "### Gene Movement and Cyte Biased Expression"
   ]
  },
  {
   "cell_type": "markdown",
   "metadata": {},
   "source": [
    "#### There is no association of the parent gene and Cyte biased expression"
   ]
  },
  {
   "cell_type": "code",
   "execution_count": 94,
   "metadata": {},
   "outputs": [
    {
     "data": {
      "text/html": [
       "<div>\n",
       "<style scoped>\n",
       "    .dataframe tbody tr th:only-of-type {\n",
       "        vertical-align: middle;\n",
       "    }\n",
       "\n",
       "    .dataframe tbody tr th {\n",
       "        vertical-align: top;\n",
       "    }\n",
       "\n",
       "    .dataframe thead th {\n",
       "        text-align: right;\n",
       "    }\n",
       "</style>\n",
       "<table border=\"1\" class=\"dataframe\">\n",
       "  <thead>\n",
       "    <tr style=\"text-align: right;\">\n",
       "      <th>bias</th>\n",
       "      <th>False</th>\n",
       "      <th>True</th>\n",
       "    </tr>\n",
       "    <tr>\n",
       "      <th>movement</th>\n",
       "      <th></th>\n",
       "      <th></th>\n",
       "    </tr>\n",
       "  </thead>\n",
       "  <tbody>\n",
       "    <tr>\n",
       "      <th>A -&gt; A</th>\n",
       "      <td>108</td>\n",
       "      <td>15</td>\n",
       "    </tr>\n",
       "    <tr>\n",
       "      <th>X -&gt; A</th>\n",
       "      <td>62</td>\n",
       "      <td>6</td>\n",
       "    </tr>\n",
       "  </tbody>\n",
       "</table>\n",
       "</div>"
      ],
      "text/plain": [
       "bias      False  True \n",
       "movement              \n",
       "A -> A      108     15\n",
       "X -> A       62      6"
      ]
     },
     "metadata": {},
     "output_type": "display_data"
    },
    {
     "data": {
      "text/plain": [
       "0.6303398305971033"
      ]
     },
     "execution_count": 94,
     "metadata": {},
     "output_type": "execute_result"
    }
   ],
   "source": [
    "BIASED = (\n",
    "    pd.read_csv('../output/scrnaseq-wf/germcell_deg/gonia_vs_cytes.tsv', sep='\\t', index_col=0)\n",
    "    .query('p_val_adj <= 0.01 & avg_logFC < 0')\n",
    "    .index.tolist()\n",
    ")\n",
    "\n",
    "_movement = movement[['parent_FBgn', 'child_FBgn', 'movement']].copy()\n",
    "_movement['bias'] = False\n",
    "_movement.loc[_movement.parent_FBgn.isin(BIASED), 'bias'] = True\n",
    "\n",
    "ct = _movement.groupby('movement').bias.value_counts().unstack().fillna(0)\n",
    "display(ct)\n",
    "fisher_exact(ct)[1]"
   ]
  },
  {
   "cell_type": "markdown",
   "metadata": {},
   "source": [
    "#### There is no association of the child gene and Cyte biased expression"
   ]
  },
  {
   "cell_type": "code",
   "execution_count": 95,
   "metadata": {},
   "outputs": [
    {
     "data": {
      "text/html": [
       "<div>\n",
       "<style scoped>\n",
       "    .dataframe tbody tr th:only-of-type {\n",
       "        vertical-align: middle;\n",
       "    }\n",
       "\n",
       "    .dataframe tbody tr th {\n",
       "        vertical-align: top;\n",
       "    }\n",
       "\n",
       "    .dataframe thead th {\n",
       "        text-align: right;\n",
       "    }\n",
       "</style>\n",
       "<table border=\"1\" class=\"dataframe\">\n",
       "  <thead>\n",
       "    <tr style=\"text-align: right;\">\n",
       "      <th>bias</th>\n",
       "      <th>False</th>\n",
       "      <th>True</th>\n",
       "    </tr>\n",
       "    <tr>\n",
       "      <th>movement</th>\n",
       "      <th></th>\n",
       "      <th></th>\n",
       "    </tr>\n",
       "  </thead>\n",
       "  <tbody>\n",
       "    <tr>\n",
       "      <th>A -&gt; A</th>\n",
       "      <td>81</td>\n",
       "      <td>42</td>\n",
       "    </tr>\n",
       "    <tr>\n",
       "      <th>X -&gt; A</th>\n",
       "      <td>38</td>\n",
       "      <td>30</td>\n",
       "    </tr>\n",
       "  </tbody>\n",
       "</table>\n",
       "</div>"
      ],
      "text/plain": [
       "bias      False  True \n",
       "movement              \n",
       "A -> A       81     42\n",
       "X -> A       38     30"
      ]
     },
     "metadata": {},
     "output_type": "display_data"
    },
    {
     "data": {
      "text/plain": [
       "0.2124038982824139"
      ]
     },
     "execution_count": 95,
     "metadata": {},
     "output_type": "execute_result"
    }
   ],
   "source": [
    "BIASED = (\n",
    "    pd.read_csv('../output/scrnaseq-wf/germcell_deg/gonia_vs_cytes.tsv', sep='\\t', index_col=0)\n",
    "    .query('p_val_adj <= 0.01 & avg_logFC < 0')\n",
    "    .index.tolist()\n",
    ")\n",
    "\n",
    "_movement = movement[['parent_FBgn', 'child_FBgn', 'movement']].copy()\n",
    "_movement['bias'] = False\n",
    "_movement.loc[_movement.child_FBgn.isin(BIASED), 'bias'] = True\n",
    "\n",
    "ct = _movement.groupby('movement').bias.value_counts().unstack().fillna(0)\n",
    "display(ct)\n",
    "fisher_exact(ct)[1]"
   ]
  },
  {
   "cell_type": "code",
   "execution_count": null,
   "metadata": {},
   "outputs": [],
   "source": []
  },
  {
   "cell_type": "code",
   "execution_count": null,
   "metadata": {},
   "outputs": [],
   "source": []
  },
  {
   "cell_type": "code",
   "execution_count": null,
   "metadata": {},
   "outputs": [],
   "source": []
  },
  {
   "cell_type": "code",
   "execution_count": 96,
   "metadata": {},
   "outputs": [
    {
     "data": {
      "text/html": [
       "<div>\n",
       "<style scoped>\n",
       "    .dataframe tbody tr th:only-of-type {\n",
       "        vertical-align: middle;\n",
       "    }\n",
       "\n",
       "    .dataframe tbody tr th {\n",
       "        vertical-align: top;\n",
       "    }\n",
       "\n",
       "    .dataframe thead th {\n",
       "        text-align: right;\n",
       "    }\n",
       "</style>\n",
       "<table border=\"1\" class=\"dataframe\">\n",
       "  <thead>\n",
       "    <tr style=\"text-align: right;\">\n",
       "      <th>bias</th>\n",
       "      <th>False</th>\n",
       "      <th>True</th>\n",
       "    </tr>\n",
       "    <tr>\n",
       "      <th>movement</th>\n",
       "      <th></th>\n",
       "      <th></th>\n",
       "    </tr>\n",
       "  </thead>\n",
       "  <tbody>\n",
       "    <tr>\n",
       "      <th>A -&gt; A</th>\n",
       "      <td>81</td>\n",
       "      <td>42</td>\n",
       "    </tr>\n",
       "    <tr>\n",
       "      <th>X -&gt; A</th>\n",
       "      <td>38</td>\n",
       "      <td>30</td>\n",
       "    </tr>\n",
       "  </tbody>\n",
       "</table>\n",
       "</div>"
      ],
      "text/plain": [
       "bias      False  True \n",
       "movement              \n",
       "A -> A       81     42\n",
       "X -> A       38     30"
      ]
     },
     "metadata": {},
     "output_type": "display_data"
    },
    {
     "data": {
      "text/plain": [
       "0.2124038982824139"
      ]
     },
     "execution_count": 96,
     "metadata": {},
     "output_type": "execute_result"
    }
   ],
   "source": [
    "BIASED = (\n",
    "    pd.read_csv('../output/scrnaseq-wf/germcell_deg/gonia_vs_cytes.tsv', sep='\\t', index_col=0)\n",
    "    .query('p_val_adj <= 0.01 & avg_logFC < 0')\n",
    "    .index.tolist()\n",
    ")\n",
    "\n",
    "_movement = movement[['parent_FBgn', 'child_FBgn', 'movement']].copy()\n",
    "_movement['bias'] = False\n",
    "_movement.loc[_movement.child_FBgn.isin(BIASED), 'bias'] = True\n",
    "\n",
    "ct = _movement.groupby('movement').bias.value_counts().unstack().fillna(0)\n",
    "display(ct)\n",
    "fisher_exact(ct)[1]"
   ]
  },
  {
   "cell_type": "code",
   "execution_count": 109,
   "metadata": {
    "lines_to_next_cell": 2
   },
   "outputs": [],
   "source": [
    "df = pd.pivot_table(\n",
    "    (\n",
    "        pd.read_parquet('../output/scrnaseq-wf/raw_by_cluster.parquet')\n",
    "        .assign(cluster=lambda df: df.cluster.map(config['short_cluster_annot']))\n",
    "        .query('cluster == [\"SP\", \"M1º\"]')\n",
    "        .assign(flag_expressed=lambda df: df.UMI > 10)\n",
    "    ),\n",
    "    index='FBgn',\n",
    "    columns='cluster',\n",
    "    values='flag_expressed'\n",
    ")"
   ]
  },
  {
   "cell_type": "code",
   "execution_count": 110,
   "metadata": {},
   "outputs": [
    {
     "data": {
      "text/html": [
       "<div>\n",
       "<style scoped>\n",
       "    .dataframe tbody tr th:only-of-type {\n",
       "        vertical-align: middle;\n",
       "    }\n",
       "\n",
       "    .dataframe tbody tr th {\n",
       "        vertical-align: top;\n",
       "    }\n",
       "\n",
       "    .dataframe thead th {\n",
       "        text-align: right;\n",
       "    }\n",
       "</style>\n",
       "<table border=\"1\" class=\"dataframe\">\n",
       "  <thead>\n",
       "    <tr style=\"text-align: right;\">\n",
       "      <th></th>\n",
       "      <th>SP</th>\n",
       "      <th>M1º</th>\n",
       "    </tr>\n",
       "    <tr>\n",
       "      <th>movement</th>\n",
       "      <th></th>\n",
       "      <th></th>\n",
       "    </tr>\n",
       "  </thead>\n",
       "  <tbody>\n",
       "    <tr>\n",
       "      <th>A -&gt; A</th>\n",
       "      <td>69</td>\n",
       "      <td>75</td>\n",
       "    </tr>\n",
       "    <tr>\n",
       "      <th>X -&gt; A</th>\n",
       "      <td>50</td>\n",
       "      <td>55</td>\n",
       "    </tr>\n",
       "  </tbody>\n",
       "</table>\n",
       "</div>"
      ],
      "text/plain": [
       "          SP  M1º\n",
       "movement         \n",
       "A -> A    69   75\n",
       "X -> A    50   55"
      ]
     },
     "metadata": {},
     "output_type": "display_data"
    },
    {
     "name": "stdout",
     "output_type": "stream",
     "text": [
      "𝛘^2: 0.0067, p-value: 0.9346, df: 1\n"
     ]
    },
    {
     "data": {
      "text/html": [
       "<div>\n",
       "<style scoped>\n",
       "    .dataframe tbody tr th:only-of-type {\n",
       "        vertical-align: middle;\n",
       "    }\n",
       "\n",
       "    .dataframe tbody tr th {\n",
       "        vertical-align: top;\n",
       "    }\n",
       "\n",
       "    .dataframe thead th {\n",
       "        text-align: right;\n",
       "    }\n",
       "</style>\n",
       "<table border=\"1\" class=\"dataframe\">\n",
       "  <thead>\n",
       "    <tr style=\"text-align: right;\">\n",
       "      <th></th>\n",
       "      <th></th>\n",
       "      <th>SP</th>\n",
       "      <th>M1º</th>\n",
       "    </tr>\n",
       "    <tr>\n",
       "      <th>movement</th>\n",
       "      <th>type</th>\n",
       "      <th></th>\n",
       "      <th></th>\n",
       "    </tr>\n",
       "  </thead>\n",
       "  <tbody>\n",
       "    <tr>\n",
       "      <th rowspan=\"7\" valign=\"top\">A -&gt; A</th>\n",
       "      <th>observed</th>\n",
       "      <td>69.0000</td>\n",
       "      <td>75.0000</td>\n",
       "    </tr>\n",
       "    <tr>\n",
       "      <th>expected</th>\n",
       "      <td>68.8193</td>\n",
       "      <td>75.1807</td>\n",
       "    </tr>\n",
       "    <tr>\n",
       "      <th>residual</th>\n",
       "      <td>0.1807</td>\n",
       "      <td>-0.1807</td>\n",
       "    </tr>\n",
       "    <tr>\n",
       "      <th>adj std residual</th>\n",
       "      <td>0.0464</td>\n",
       "      <td>-0.0464</td>\n",
       "    </tr>\n",
       "    <tr>\n",
       "      <th>X^2</th>\n",
       "      <td>0.0005</td>\n",
       "      <td>0.0004</td>\n",
       "    </tr>\n",
       "    <tr>\n",
       "      <th>fdr q-value</th>\n",
       "      <td>0.3985</td>\n",
       "      <td>0.3985</td>\n",
       "    </tr>\n",
       "    <tr>\n",
       "      <th>flag_sig</th>\n",
       "      <td>0.0000</td>\n",
       "      <td>0.0000</td>\n",
       "    </tr>\n",
       "    <tr>\n",
       "      <th rowspan=\"7\" valign=\"top\">X -&gt; A</th>\n",
       "      <th>observed</th>\n",
       "      <td>50.0000</td>\n",
       "      <td>55.0000</td>\n",
       "    </tr>\n",
       "    <tr>\n",
       "      <th>expected</th>\n",
       "      <td>50.1807</td>\n",
       "      <td>54.8193</td>\n",
       "    </tr>\n",
       "    <tr>\n",
       "      <th>residual</th>\n",
       "      <td>-0.1807</td>\n",
       "      <td>0.1807</td>\n",
       "    </tr>\n",
       "    <tr>\n",
       "      <th>adj std residual</th>\n",
       "      <td>-0.0464</td>\n",
       "      <td>0.0464</td>\n",
       "    </tr>\n",
       "    <tr>\n",
       "      <th>X^2</th>\n",
       "      <td>0.0007</td>\n",
       "      <td>0.0006</td>\n",
       "    </tr>\n",
       "    <tr>\n",
       "      <th>fdr q-value</th>\n",
       "      <td>0.3985</td>\n",
       "      <td>0.3985</td>\n",
       "    </tr>\n",
       "    <tr>\n",
       "      <th>flag_sig</th>\n",
       "      <td>0.0000</td>\n",
       "      <td>0.0000</td>\n",
       "    </tr>\n",
       "  </tbody>\n",
       "</table>\n",
       "</div>"
      ],
      "text/plain": [
       "                                SP      M1º\n",
       "movement type                              \n",
       "A -> A   observed          69.0000  75.0000\n",
       "         expected          68.8193  75.1807\n",
       "         residual           0.1807  -0.1807\n",
       "         adj std residual   0.0464  -0.0464\n",
       "         X^2                0.0005   0.0004\n",
       "         fdr q-value        0.3985   0.3985\n",
       "         flag_sig           0.0000   0.0000\n",
       "X -> A   observed          50.0000  55.0000\n",
       "         expected          50.1807  54.8193\n",
       "         residual          -0.1807   0.1807\n",
       "         adj std residual  -0.0464   0.0464\n",
       "         X^2                0.0007   0.0006\n",
       "         fdr q-value        0.3985   0.3985\n",
       "         flag_sig           0.0000   0.0000"
      ]
     },
     "execution_count": 110,
     "metadata": {},
     "output_type": "execute_result"
    }
   ],
   "source": [
    "ct = movement.join(df, on='child_FBgn').loc[:, ['movement', 'SP', 'M1º']].dropna().groupby('movement').sum()\n",
    "display(ct)\n",
    "run_chisq(ct)"
   ]
  },
  {
   "cell_type": "code",
   "execution_count": null,
   "metadata": {},
   "outputs": [],
   "source": []
  },
  {
   "cell_type": "code",
   "execution_count": null,
   "metadata": {},
   "outputs": [],
   "source": []
  },
  {
   "cell_type": "code",
   "execution_count": null,
   "metadata": {},
   "outputs": [],
   "source": []
  },
  {
   "cell_type": "code",
   "execution_count": null,
   "metadata": {},
   "outputs": [],
   "source": []
  },
  {
   "cell_type": "code",
   "execution_count": null,
   "metadata": {},
   "outputs": [],
   "source": []
  },
  {
   "cell_type": "code",
   "execution_count": null,
   "metadata": {},
   "outputs": [],
   "source": []
  },
  {
   "cell_type": "code",
   "execution_count": null,
   "metadata": {},
   "outputs": [],
   "source": []
  },
  {
   "cell_type": "code",
   "execution_count": null,
   "metadata": {},
   "outputs": [],
   "source": []
  },
  {
   "cell_type": "code",
   "execution_count": null,
   "metadata": {},
   "outputs": [],
   "source": []
  },
  {
   "cell_type": "code",
   "execution_count": null,
   "metadata": {},
   "outputs": [],
   "source": []
  },
  {
   "cell_type": "code",
   "execution_count": null,
   "metadata": {},
   "outputs": [],
   "source": []
  },
  {
   "cell_type": "code",
   "execution_count": null,
   "metadata": {},
   "outputs": [],
   "source": []
  },
  {
   "cell_type": "code",
   "execution_count": null,
   "metadata": {},
   "outputs": [],
   "source": []
  },
  {
   "cell_type": "code",
   "execution_count": null,
   "metadata": {},
   "outputs": [],
   "source": []
  },
  {
   "cell_type": "code",
   "execution_count": null,
   "metadata": {},
   "outputs": [],
   "source": []
  },
  {
   "cell_type": "code",
   "execution_count": null,
   "metadata": {},
   "outputs": [],
   "source": []
  },
  {
   "cell_type": "code",
   "execution_count": null,
   "metadata": {},
   "outputs": [],
   "source": []
  },
  {
   "cell_type": "code",
   "execution_count": null,
   "metadata": {},
   "outputs": [],
   "source": []
  },
  {
   "cell_type": "code",
   "execution_count": null,
   "metadata": {},
   "outputs": [],
   "source": []
  },
  {
   "cell_type": "markdown",
   "metadata": {},
   "source": [
    "### Gene movement and missingness"
   ]
  },
  {
   "cell_type": "code",
   "execution_count": 28,
   "metadata": {},
   "outputs": [],
   "source": [
    "tpm = (\n",
    "    pd.read_parquet('../output/scrnaseq-wf/tpm.parquet')\n",
    "    .assign(cluster=lambda df: df.cluster.map(config['short_cluster_annot']))\n",
    "    .query('cluster == \"M1º\"')\n",
    "    .TPM\n",
    "    .rename('M1')\n",
    ")"
   ]
  },
  {
   "cell_type": "code",
   "execution_count": 29,
   "metadata": {},
   "outputs": [],
   "source": [
    "BIASED = (\n",
    "    pd.read_csv('../output/scrnaseq-wf/germcell_deg/gonia_vs_cytes.tsv', sep='\\t', index_col=0)\n",
    "    .assign(gonia_biased=lambda df: (df.p_val_adj <= 0.01) & (df.avg_logFC > 0))\n",
    "    .assign(cyte_biased=lambda df: (df.p_val_adj <= 0.01) & (df.avg_logFC < 0))\n",
    "    .assign(gonia_cyte_bias=lambda df: df[['gonia_biased', 'cyte_biased']].idxmax(axis=1))\n",
    "    .gonia_cyte_bias\n",
    ")"
   ]
  },
  {
   "cell_type": "code",
   "execution_count": 30,
   "metadata": {},
   "outputs": [],
   "source": [
    "df = movement.join(tpm, on='child_FBgn').join(BIASED, on='child_FBgn')"
   ]
  },
  {
   "cell_type": "code",
   "execution_count": 31,
   "metadata": {},
   "outputs": [],
   "source": [
    "df.loc[(df.M1 == 0), 'gonia_cyte_bias'] = 'Not Expressed'\n",
    "df.loc[(df.M1.isnull()), 'gonia_cyte_bias'] = 'Missing'\n",
    "df.fillna({'gonia_cyte_bias': 'Not Biased'}, inplace=True)"
   ]
  },
  {
   "cell_type": "code",
   "execution_count": 32,
   "metadata": {},
   "outputs": [],
   "source": [
    "ct = df.groupby('movement').gonia_cyte_bias.value_counts().unstack()"
   ]
  },
  {
   "cell_type": "code",
   "execution_count": 33,
   "metadata": {},
   "outputs": [
    {
     "data": {
      "image/png": "[encoded data removed]",
      "text/plain": [
       "<matplotlib.figure.Figure at 0x7f29b31f03c8>"
      ]
     },
     "metadata": {},
     "output_type": "display_data"
    }
   ],
   "source": [
    "ax = ct.div(ct.sum(axis=1), axis='rows').loc[['X -> A', 'A -> A'], ['gonia_biased', 'cyte_biased', 'Not Biased', 'Not Expressed', 'Missing']].plot(kind='bar', stacked=True, width=.95, figsize=(8, 10), edgecolor='k', lw=1)\n",
    "plt.legend(['Gonia Biased', 'Cyte Biased', 'Not Biased', 'Not Expressed', 'Missing'], loc='upper left', bbox_to_anchor=[1, 1])\n",
    "ax.set(ylim=(0, 1), ylabel='Proportion of Genes', xlabel='Movement')\n",
    "ax.set_xticklabels(ax.get_xticklabels(), rotation=0)\n",
    "sns.despine(ax=ax)"
   ]
  },
  {
   "cell_type": "code",
   "execution_count": 34,
   "metadata": {},
   "outputs": [
    {
     "name": "stdout",
     "output_type": "stream",
     "text": [
      "𝛘^2: 23.1911, p-value: 0.0001, df: 4\n"
     ]
    },
    {
     "data": {
      "text/html": [
       "<div>\n",
       "<style scoped>\n",
       "    .dataframe tbody tr th:only-of-type {\n",
       "        vertical-align: middle;\n",
       "    }\n",
       "\n",
       "    .dataframe tbody tr th {\n",
       "        vertical-align: top;\n",
       "    }\n",
       "\n",
       "    .dataframe thead th {\n",
       "        text-align: right;\n",
       "    }\n",
       "</style>\n",
       "<table border=\"1\" class=\"dataframe\">\n",
       "  <thead>\n",
       "    <tr style=\"text-align: right;\">\n",
       "      <th></th>\n",
       "      <th>gonia_cyte_bias</th>\n",
       "      <th>Missing</th>\n",
       "      <th>Not Biased</th>\n",
       "      <th>Not Expressed</th>\n",
       "      <th>cyte_biased</th>\n",
       "      <th>gonia_biased</th>\n",
       "    </tr>\n",
       "    <tr>\n",
       "      <th>movement</th>\n",
       "      <th>type</th>\n",
       "      <th></th>\n",
       "      <th></th>\n",
       "      <th></th>\n",
       "      <th></th>\n",
       "      <th></th>\n",
       "    </tr>\n",
       "  </thead>\n",
       "  <tbody>\n",
       "    <tr>\n",
       "      <th rowspan=\"3\" valign=\"top\">A -&gt; A</th>\n",
       "      <th>observed</th>\n",
       "      <td>23.0000</td>\n",
       "      <td>50.0000</td>\n",
       "      <td>5.0000</td>\n",
       "      <td>42.0000</td>\n",
       "      <td>3.000</td>\n",
       "    </tr>\n",
       "    <tr>\n",
       "      <th>adj std residual</th>\n",
       "      <td>2.7571</td>\n",
       "      <td>1.9597</td>\n",
       "      <td>-1.3516</td>\n",
       "      <td>-1.3616</td>\n",
       "      <td>-3.488</td>\n",
       "    </tr>\n",
       "    <tr>\n",
       "      <th>flag_sig</th>\n",
       "      <td>1.0000</td>\n",
       "      <td>0.0000</td>\n",
       "      <td>0.0000</td>\n",
       "      <td>0.0000</td>\n",
       "      <td>1.000</td>\n",
       "    </tr>\n",
       "    <tr>\n",
       "      <th rowspan=\"3\" valign=\"top\">X -&gt; A</th>\n",
       "      <th>observed</th>\n",
       "      <td>3.0000</td>\n",
       "      <td>18.0000</td>\n",
       "      <td>6.0000</td>\n",
       "      <td>30.0000</td>\n",
       "      <td>11.000</td>\n",
       "    </tr>\n",
       "    <tr>\n",
       "      <th>adj std residual</th>\n",
       "      <td>-2.7571</td>\n",
       "      <td>-1.9597</td>\n",
       "      <td>1.3516</td>\n",
       "      <td>1.3616</td>\n",
       "      <td>3.488</td>\n",
       "    </tr>\n",
       "    <tr>\n",
       "      <th>flag_sig</th>\n",
       "      <td>1.0000</td>\n",
       "      <td>0.0000</td>\n",
       "      <td>0.0000</td>\n",
       "      <td>0.0000</td>\n",
       "      <td>1.000</td>\n",
       "    </tr>\n",
       "  </tbody>\n",
       "</table>\n",
       "</div>"
      ],
      "text/plain": [
       "gonia_cyte_bias            Missing  Not Biased  Not Expressed  cyte_biased  \\\n",
       "movement type                                                                \n",
       "A -> A   observed          23.0000     50.0000         5.0000      42.0000   \n",
       "         adj std residual   2.7571      1.9597        -1.3516      -1.3616   \n",
       "         flag_sig           1.0000      0.0000         0.0000       0.0000   \n",
       "X -> A   observed           3.0000     18.0000         6.0000      30.0000   \n",
       "         adj std residual  -2.7571     -1.9597         1.3516       1.3616   \n",
       "         flag_sig           1.0000      0.0000         0.0000       0.0000   \n",
       "\n",
       "gonia_cyte_bias            gonia_biased  \n",
       "movement type                            \n",
       "A -> A   observed                 3.000  \n",
       "         adj std residual        -3.488  \n",
       "         flag_sig                 1.000  \n",
       "X -> A   observed                11.000  \n",
       "         adj std residual         3.488  \n",
       "         flag_sig                 1.000  "
      ]
     },
     "execution_count": 34,
     "metadata": {},
     "output_type": "execute_result"
    }
   ],
   "source": [
    "res = run_chisq(ct)\n",
    "res.loc[(slice(None), ['observed', 'adj std residual', 'flag_sig']), :]"
   ]
  },
  {
   "cell_type": "code",
   "execution_count": null,
   "metadata": {},
   "outputs": [],
   "source": []
  },
  {
   "cell_type": "code",
   "execution_count": 35,
   "metadata": {},
   "outputs": [
    {
     "data": {
      "text/html": [
       "<div>\n",
       "<style scoped>\n",
       "    .dataframe tbody tr th:only-of-type {\n",
       "        vertical-align: middle;\n",
       "    }\n",
       "\n",
       "    .dataframe tbody tr th {\n",
       "        vertical-align: top;\n",
       "    }\n",
       "\n",
       "    .dataframe thead th {\n",
       "        text-align: right;\n",
       "    }\n",
       "</style>\n",
       "<table border=\"1\" class=\"dataframe\">\n",
       "  <thead>\n",
       "    <tr style=\"text-align: right;\">\n",
       "      <th></th>\n",
       "      <th>Off</th>\n",
       "      <th>On</th>\n",
       "    </tr>\n",
       "    <tr>\n",
       "      <th>movement</th>\n",
       "      <th></th>\n",
       "      <th></th>\n",
       "    </tr>\n",
       "  </thead>\n",
       "  <tbody>\n",
       "    <tr>\n",
       "      <th>A -&gt; A</th>\n",
       "      <td>28</td>\n",
       "      <td>95</td>\n",
       "    </tr>\n",
       "    <tr>\n",
       "      <th>X -&gt; A</th>\n",
       "      <td>9</td>\n",
       "      <td>59</td>\n",
       "    </tr>\n",
       "  </tbody>\n",
       "</table>\n",
       "</div>"
      ],
      "text/plain": [
       "          Off  On\n",
       "movement         \n",
       "A -> A     28  95\n",
       "X -> A      9  59"
      ]
     },
     "metadata": {},
     "output_type": "display_data"
    },
    {
     "name": "stdout",
     "output_type": "stream",
     "text": [
      "fisher's pval: 0.1285\n"
     ]
    }
   ],
   "source": [
    "ct2 = pd.concat([ct[['Not Expressed', 'Missing']].sum(axis=1), ct[['Not Biased', 'cyte_biased', 'gonia_biased']].sum(axis=1)], axis=1).rename({0: 'Off', 1: 'On'}, axis=1)\n",
    "\n",
    "display(ct2)\n",
    "pval = fisher_exact(ct2, alternative='two-sided')[1]\n",
    "print(f\"fisher's pval: {pval:0.4f}\")"
   ]
  },
  {
   "cell_type": "code",
   "execution_count": 36,
   "metadata": {},
   "outputs": [
    {
     "data": {
      "text/html": [
       "<div>\n",
       "<style scoped>\n",
       "    .dataframe tbody tr th:only-of-type {\n",
       "        vertical-align: middle;\n",
       "    }\n",
       "\n",
       "    .dataframe tbody tr th {\n",
       "        vertical-align: top;\n",
       "    }\n",
       "\n",
       "    .dataframe thead th {\n",
       "        text-align: right;\n",
       "    }\n",
       "</style>\n",
       "<table border=\"1\" class=\"dataframe\">\n",
       "  <thead>\n",
       "    <tr style=\"text-align: right;\">\n",
       "      <th></th>\n",
       "      <th>Missing</th>\n",
       "      <th>Not Missing</th>\n",
       "    </tr>\n",
       "    <tr>\n",
       "      <th>movement</th>\n",
       "      <th></th>\n",
       "      <th></th>\n",
       "    </tr>\n",
       "  </thead>\n",
       "  <tbody>\n",
       "    <tr>\n",
       "      <th>A -&gt; A</th>\n",
       "      <td>23</td>\n",
       "      <td>100</td>\n",
       "    </tr>\n",
       "    <tr>\n",
       "      <th>X -&gt; A</th>\n",
       "      <td>3</td>\n",
       "      <td>65</td>\n",
       "    </tr>\n",
       "  </tbody>\n",
       "</table>\n",
       "</div>"
      ],
      "text/plain": [
       "          Missing  Not Missing\n",
       "movement                      \n",
       "A -> A         23          100\n",
       "X -> A          3           65"
      ]
     },
     "metadata": {},
     "output_type": "display_data"
    },
    {
     "name": "stdout",
     "output_type": "stream",
     "text": [
      "fisher's pval: 0.0071\n"
     ]
    }
   ],
   "source": [
    "ct2 = pd.concat([ct['Missing'], ct[['Not Expressed', 'Not Biased', 'cyte_biased', 'gonia_biased']].sum(axis=1)], axis=1).rename({0: 'Not Missing'}, axis=1)\n",
    "\n",
    "display(ct2)\n",
    "pval = fisher_exact(ct2, alternative='two-sided')[1]\n",
    "print(f\"fisher's pval: {pval:0.4f}\")"
   ]
  },
  {
   "cell_type": "code",
   "execution_count": null,
   "metadata": {},
   "outputs": [],
   "source": []
  },
  {
   "cell_type": "code",
   "execution_count": null,
   "metadata": {},
   "outputs": [],
   "source": []
  },
  {
   "cell_type": "code",
   "execution_count": null,
   "metadata": {},
   "outputs": [],
   "source": []
  },
  {
   "cell_type": "markdown",
   "metadata": {},
   "source": [
    "## Repeat what Maria did."
   ]
  },
  {
   "cell_type": "code",
   "execution_count": 327,
   "metadata": {},
   "outputs": [],
   "source": [
    "maria = (\n",
    "    pd.read_csv('../output/notebook/2019-04-16_movement_data.csv', index_col=0)\n",
    "    .assign(movement=lambda df: pd.Categorical(\n",
    "        df[['moved_x_to_a', 'moved_a_to_x', 'moved_a_to_a']].idxmax(axis=1), \n",
    "        ordered=True,\n",
    "        categories=['moved_x_to_a', 'moved_a_to_a', 'moved_a_to_x']\n",
    "    ))\n",
    "    .fillna({\n",
    "        'biomarker_cluster': \"None\",\n",
    "        'bias_gonia_vs_mid_child': \"None\",\n",
    "        'bias_gonia_vs_mid_parent': \"None\",\n",
    "        'SP_child': 0,\n",
    "        'M1_child': 0,\n",
    "        'SP_parent': 0,\n",
    "        'M1_parent': 0\n",
    "    })\n",
    "    .assign(log_M1_child=lambda df: np.log(df.M1_child + 1))\n",
    ")"
   ]
  },
  {
   "cell_type": "code",
   "execution_count": 328,
   "metadata": {},
   "outputs": [
    {
     "data": {
      "text/plain": [
       "movement\n",
       "moved_x_to_a     68\n",
       "moved_a_to_a    123\n",
       "moved_a_to_x     54\n",
       "Name: M1_child, dtype: int64"
      ]
     },
     "execution_count": 328,
     "metadata": {},
     "output_type": "execute_result"
    }
   ],
   "source": [
    "maria.groupby('movement').M1_child.size()"
   ]
  },
  {
   "cell_type": "code",
   "execution_count": 329,
   "metadata": {},
   "outputs": [
    {
     "data": {
      "image/png": "[encoded data removed]",
      "text/plain": [
       "<matplotlib.figure.Figure at 0x7f862d3c8470>"
      ]
     },
     "metadata": {},
     "output_type": "display_data"
    }
   ],
   "source": [
    "fig = plt.figure(figsize=(10, 10))\n",
    "ax = sns.boxplot('movement', 'M1_child', data=maria, color='w')\n",
    "plt.setp(ax.artists, edgecolor='k', facecolor='w', lw=2)\n",
    "plt.setp(ax.lines, color='k', lw=2)\n",
    "ax.set_ylim(None, 1000);"
   ]
  },
  {
   "cell_type": "code",
   "execution_count": 330,
   "metadata": {},
   "outputs": [
    {
     "data": {
      "text/plain": [
       "Text(0.5,1,'NA droped')"
      ]
     },
     "execution_count": 330,
     "metadata": {},
     "output_type": "execute_result"
    },
    {
     "data": {
      "image/png": "[encoded data removed]",
      "text/plain": [
       "<matplotlib.figure.Figure at 0x7f862d5eb3c8>"
      ]
     },
     "metadata": {},
     "output_type": "display_data"
    }
   ],
   "source": [
    "fig = plt.figure(figsize=(10, 10))\n",
    "ax = sns.boxplot('movement', 'log_M1_child', data=maria, color='w')\n",
    "plt.setp(ax.artists, edgecolor='k', facecolor='w', lw=2)\n",
    "plt.setp(ax.lines, color='k', lw=2)\n",
    "#ax.set_ylim(None, 1000);\n",
    "ax.set_title('NA droped')"
   ]
  },
  {
   "cell_type": "code",
   "execution_count": null,
   "metadata": {},
   "outputs": [],
   "source": []
  },
  {
   "cell_type": "code",
   "execution_count": null,
   "metadata": {},
   "outputs": [],
   "source": []
  },
  {
   "cell_type": "code",
   "execution_count": null,
   "metadata": {},
   "outputs": [],
   "source": []
  },
  {
   "cell_type": "code",
   "execution_count": null,
   "metadata": {},
   "outputs": [],
   "source": []
  },
  {
   "cell_type": "code",
   "execution_count": null,
   "metadata": {},
   "outputs": [],
   "source": []
  },
  {
   "cell_type": "code",
   "execution_count": null,
   "metadata": {},
   "outputs": [],
   "source": []
  },
  {
   "cell_type": "code",
   "execution_count": 331,
   "metadata": {},
   "outputs": [
    {
     "data": {
      "text/plain": [
       "MannwhitneyuResult(statistic=5122.0, pvalue=0.009949343088974882)"
      ]
     },
     "execution_count": 331,
     "metadata": {},
     "output_type": "execute_result"
    }
   ],
   "source": [
    "mannwhitneyu(maria.query('movement == \"moved_x_to_a\"').M1_child.dropna(), maria.query('movement == \"moved_a_to_a\"').M1_child.dropna(), alternative=\"two-sided\")"
   ]
  },
  {
   "cell_type": "code",
   "execution_count": null,
   "metadata": {},
   "outputs": [],
   "source": []
  },
  {
   "cell_type": "code",
   "execution_count": 332,
   "metadata": {},
   "outputs": [
    {
     "data": {
      "image/png": "[encoded data removed]",
      "text/plain": [
       "<matplotlib.figure.Figure at 0x7f8626932860>"
      ]
     },
     "metadata": {},
     "output_type": "display_data"
    }
   ],
   "source": [
    "fig = plt.figure(figsize=(10, 10))\n",
    "ax = sns.boxplot('movement', 'M1_parent', data=maria, color='w')\n",
    "plt.setp(ax.artists, edgecolor='k', facecolor='w', lw=2)\n",
    "plt.setp(ax.lines, color='k', lw=2)\n",
    "ax.set_ylim(None, 1000);"
   ]
  },
  {
   "cell_type": "code",
   "execution_count": 333,
   "metadata": {},
   "outputs": [
    {
     "data": {
      "text/plain": [
       "MannwhitneyuResult(statistic=4937.0, pvalue=0.03878116039755494)"
      ]
     },
     "execution_count": 333,
     "metadata": {},
     "output_type": "execute_result"
    }
   ],
   "source": [
    "mannwhitneyu(maria.query('movement == \"moved_x_to_a\"').M1_parent.dropna(), maria.query('movement == \"moved_a_to_a\"').M1_parent.dropna(), alternative=\"two-sided\")"
   ]
  },
  {
   "cell_type": "code",
   "execution_count": null,
   "metadata": {},
   "outputs": [],
   "source": []
  },
  {
   "cell_type": "code",
   "execution_count": null,
   "metadata": {},
   "outputs": [],
   "source": []
  },
  {
   "cell_type": "code",
   "execution_count": null,
   "metadata": {},
   "outputs": [],
   "source": []
  },
  {
   "cell_type": "code",
   "execution_count": 334,
   "metadata": {},
   "outputs": [
    {
     "data": {
      "text/html": [
       "<div>\n",
       "<style scoped>\n",
       "    .dataframe tbody tr th:only-of-type {\n",
       "        vertical-align: middle;\n",
       "    }\n",
       "\n",
       "    .dataframe tbody tr th {\n",
       "        vertical-align: top;\n",
       "    }\n",
       "\n",
       "    .dataframe thead th {\n",
       "        text-align: right;\n",
       "    }\n",
       "</style>\n",
       "<table border=\"1\" class=\"dataframe\">\n",
       "  <thead>\n",
       "    <tr style=\"text-align: right;\">\n",
       "      <th></th>\n",
       "      <th>child_chrom</th>\n",
       "      <th>parent_chrom</th>\n",
       "      <th>parent_FBgn</th>\n",
       "      <th>gene_type</th>\n",
       "      <th>moved_x_to_a</th>\n",
       "      <th>moved_a_to_a</th>\n",
       "      <th>moved_a_to_x</th>\n",
       "      <th>biomakrer_cluster</th>\n",
       "      <th>bias_gonia_vs_mid_child</th>\n",
       "      <th>bias_gonia_vs_mid_parent</th>\n",
       "      <th>SP_child</th>\n",
       "      <th>M1_child</th>\n",
       "      <th>SP_parent</th>\n",
       "      <th>M1_parent</th>\n",
       "      <th>movement</th>\n",
       "      <th>log_M1_child</th>\n",
       "    </tr>\n",
       "    <tr>\n",
       "      <th>child_FBgn</th>\n",
       "      <th></th>\n",
       "      <th></th>\n",
       "      <th></th>\n",
       "      <th></th>\n",
       "      <th></th>\n",
       "      <th></th>\n",
       "      <th></th>\n",
       "      <th></th>\n",
       "      <th></th>\n",
       "      <th></th>\n",
       "      <th></th>\n",
       "      <th></th>\n",
       "      <th></th>\n",
       "      <th></th>\n",
       "      <th></th>\n",
       "      <th></th>\n",
       "    </tr>\n",
       "  </thead>\n",
       "  <tbody>\n",
       "    <tr>\n",
       "      <th>FBgn0000246</th>\n",
       "      <td>chr3R</td>\n",
       "      <td>chrX</td>\n",
       "      <td>FBgn0002873</td>\n",
       "      <td>Dl</td>\n",
       "      <td>True</td>\n",
       "      <td>False</td>\n",
       "      <td>False</td>\n",
       "      <td>NaN</td>\n",
       "      <td>None</td>\n",
       "      <td>None</td>\n",
       "      <td>74.507506</td>\n",
       "      <td>40.811514</td>\n",
       "      <td>0.652152</td>\n",
       "      <td>1.751364</td>\n",
       "      <td>moved_x_to_a</td>\n",
       "      <td>3.733172</td>\n",
       "    </tr>\n",
       "    <tr>\n",
       "      <th>FBgn0002562</th>\n",
       "      <td>chrX</td>\n",
       "      <td>chr2L</td>\n",
       "      <td>FBgn0002563</td>\n",
       "      <td>D</td>\n",
       "      <td>False</td>\n",
       "      <td>False</td>\n",
       "      <td>True</td>\n",
       "      <td>NaN</td>\n",
       "      <td>None</td>\n",
       "      <td>None</td>\n",
       "      <td>0.023132</td>\n",
       "      <td>0.061855</td>\n",
       "      <td>0.144521</td>\n",
       "      <td>0.137125</td>\n",
       "      <td>moved_a_to_x</td>\n",
       "      <td>0.060017</td>\n",
       "    </tr>\n",
       "    <tr>\n",
       "      <th>FBgn0003060</th>\n",
       "      <td>chr3R</td>\n",
       "      <td>chr2L</td>\n",
       "      <td>FBgn0032282</td>\n",
       "      <td>D</td>\n",
       "      <td>False</td>\n",
       "      <td>True</td>\n",
       "      <td>False</td>\n",
       "      <td>NaN</td>\n",
       "      <td>None</td>\n",
       "      <td>None</td>\n",
       "      <td>0.021381</td>\n",
       "      <td>0.000000</td>\n",
       "      <td>0.075548</td>\n",
       "      <td>0.126258</td>\n",
       "      <td>moved_a_to_a</td>\n",
       "      <td>0.000000</td>\n",
       "    </tr>\n",
       "    <tr>\n",
       "      <th>FBgn0003086</th>\n",
       "      <td>chrX</td>\n",
       "      <td>chr3L</td>\n",
       "      <td>FBgn0036393</td>\n",
       "      <td>Dl</td>\n",
       "      <td>False</td>\n",
       "      <td>False</td>\n",
       "      <td>True</td>\n",
       "      <td>NaN</td>\n",
       "      <td>None</td>\n",
       "      <td>None</td>\n",
       "      <td>0.000000</td>\n",
       "      <td>0.000000</td>\n",
       "      <td>0.000000</td>\n",
       "      <td>0.057476</td>\n",
       "      <td>moved_a_to_x</td>\n",
       "      <td>0.000000</td>\n",
       "    </tr>\n",
       "    <tr>\n",
       "      <th>FBgn0003357</th>\n",
       "      <td>chr3R</td>\n",
       "      <td>chr3L</td>\n",
       "      <td>FBgn0250815</td>\n",
       "      <td>R</td>\n",
       "      <td>False</td>\n",
       "      <td>True</td>\n",
       "      <td>False</td>\n",
       "      <td>NaN</td>\n",
       "      <td>None</td>\n",
       "      <td>None</td>\n",
       "      <td>0.000000</td>\n",
       "      <td>0.000000</td>\n",
       "      <td>0.000000</td>\n",
       "      <td>0.000000</td>\n",
       "      <td>moved_a_to_a</td>\n",
       "      <td>0.000000</td>\n",
       "    </tr>\n",
       "    <tr>\n",
       "      <th>FBgn0004414</th>\n",
       "      <td>chr3L</td>\n",
       "      <td>chr2L</td>\n",
       "      <td>FBgn0283658</td>\n",
       "      <td>Rl</td>\n",
       "      <td>False</td>\n",
       "      <td>True</td>\n",
       "      <td>False</td>\n",
       "      <td>NaN</td>\n",
       "      <td>None</td>\n",
       "      <td>None</td>\n",
       "      <td>0.043373</td>\n",
       "      <td>0.695865</td>\n",
       "      <td>4.892144</td>\n",
       "      <td>10.511107</td>\n",
       "      <td>moved_a_to_a</td>\n",
       "      <td>0.528193</td>\n",
       "    </tr>\n",
       "    <tr>\n",
       "      <th>FBgn0010549</th>\n",
       "      <td>chr2R</td>\n",
       "      <td>chr3R</td>\n",
       "      <td>FBgn0039645</td>\n",
       "      <td>Dl</td>\n",
       "      <td>False</td>\n",
       "      <td>True</td>\n",
       "      <td>False</td>\n",
       "      <td>NaN</td>\n",
       "      <td>None</td>\n",
       "      <td>None</td>\n",
       "      <td>0.035092</td>\n",
       "      <td>0.223757</td>\n",
       "      <td>0.000000</td>\n",
       "      <td>0.061723</td>\n",
       "      <td>moved_a_to_a</td>\n",
       "      <td>0.201926</td>\n",
       "    </tr>\n",
       "    <tr>\n",
       "      <th>FBgn0011559</th>\n",
       "      <td>chr2L</td>\n",
       "      <td>chr3L</td>\n",
       "      <td>FBgn0052133</td>\n",
       "      <td>Dl</td>\n",
       "      <td>False</td>\n",
       "      <td>True</td>\n",
       "      <td>False</td>\n",
       "      <td>NaN</td>\n",
       "      <td>None</td>\n",
       "      <td>None</td>\n",
       "      <td>8.682675</td>\n",
       "      <td>22.154939</td>\n",
       "      <td>6.796721</td>\n",
       "      <td>1.752841</td>\n",
       "      <td>moved_a_to_a</td>\n",
       "      <td>3.142208</td>\n",
       "    </tr>\n",
       "    <tr>\n",
       "      <th>FBgn0015008</th>\n",
       "      <td>chr3R</td>\n",
       "      <td>chrX</td>\n",
       "      <td>FBgn0025633</td>\n",
       "      <td>Rl</td>\n",
       "      <td>True</td>\n",
       "      <td>False</td>\n",
       "      <td>False</td>\n",
       "      <td>E1º|L1º|M1º</td>\n",
       "      <td>M1</td>\n",
       "      <td>None</td>\n",
       "      <td>11.194324</td>\n",
       "      <td>212.349137</td>\n",
       "      <td>31.173193</td>\n",
       "      <td>4.033355</td>\n",
       "      <td>moved_x_to_a</td>\n",
       "      <td>5.362930</td>\n",
       "    </tr>\n",
       "    <tr>\n",
       "      <th>FBgn0015025</th>\n",
       "      <td>chr3L</td>\n",
       "      <td>chr3R</td>\n",
       "      <td>FBgn0039860</td>\n",
       "      <td>Rl</td>\n",
       "      <td>False</td>\n",
       "      <td>True</td>\n",
       "      <td>False</td>\n",
       "      <td>NaN</td>\n",
       "      <td>None</td>\n",
       "      <td>None</td>\n",
       "      <td>2.038113</td>\n",
       "      <td>1.546853</td>\n",
       "      <td>5.096309</td>\n",
       "      <td>0.616130</td>\n",
       "      <td>moved_a_to_a</td>\n",
       "      <td>0.934859</td>\n",
       "    </tr>\n",
       "    <tr>\n",
       "      <th>FBgn0015035</th>\n",
       "      <td>chr2L</td>\n",
       "      <td>chr2R</td>\n",
       "      <td>FBgn0014469</td>\n",
       "      <td>D</td>\n",
       "      <td>False</td>\n",
       "      <td>True</td>\n",
       "      <td>False</td>\n",
       "      <td>NaN</td>\n",
       "      <td>None</td>\n",
       "      <td>None</td>\n",
       "      <td>0.000000</td>\n",
       "      <td>0.000000</td>\n",
       "      <td>0.020434</td>\n",
       "      <td>0.009106</td>\n",
       "      <td>moved_a_to_a</td>\n",
       "      <td>0.000000</td>\n",
       "    </tr>\n",
       "    <tr>\n",
       "      <th>FBgn0015520</th>\n",
       "      <td>chr3R</td>\n",
       "      <td>chrX</td>\n",
       "      <td>FBgn0004227</td>\n",
       "      <td>R</td>\n",
       "      <td>True</td>\n",
       "      <td>False</td>\n",
       "      <td>False</td>\n",
       "      <td>SP</td>\n",
       "      <td>SP</td>\n",
       "      <td>None</td>\n",
       "      <td>7.183067</td>\n",
       "      <td>1.323291</td>\n",
       "      <td>2.523644</td>\n",
       "      <td>0.661042</td>\n",
       "      <td>moved_x_to_a</td>\n",
       "      <td>0.842985</td>\n",
       "    </tr>\n",
       "    <tr>\n",
       "      <th>FBgn0016080</th>\n",
       "      <td>chrX</td>\n",
       "      <td>chr2R</td>\n",
       "      <td>FBgn0033438</td>\n",
       "      <td>Dl</td>\n",
       "      <td>False</td>\n",
       "      <td>False</td>\n",
       "      <td>True</td>\n",
       "      <td>NaN</td>\n",
       "      <td>None</td>\n",
       "      <td>None</td>\n",
       "      <td>2.866379</td>\n",
       "      <td>18.858937</td>\n",
       "      <td>0.090293</td>\n",
       "      <td>0.015090</td>\n",
       "      <td>moved_a_to_x</td>\n",
       "      <td>2.988654</td>\n",
       "    </tr>\n",
       "    <tr>\n",
       "      <th>FBgn0025616</th>\n",
       "      <td>chrX</td>\n",
       "      <td>chr2L</td>\n",
       "      <td>FBgn0051952</td>\n",
       "      <td>Dl</td>\n",
       "      <td>False</td>\n",
       "      <td>False</td>\n",
       "      <td>True</td>\n",
       "      <td>M1º</td>\n",
       "      <td>M1</td>\n",
       "      <td>M1</td>\n",
       "      <td>0.822207</td>\n",
       "      <td>11.362183</td>\n",
       "      <td>2.594805</td>\n",
       "      <td>56.699136</td>\n",
       "      <td>moved_a_to_x</td>\n",
       "      <td>2.514642</td>\n",
       "    </tr>\n",
       "    <tr>\n",
       "      <th>FBgn0026361</th>\n",
       "      <td>chr2R</td>\n",
       "      <td>chr3R</td>\n",
       "      <td>FBgn0014029</td>\n",
       "      <td>R</td>\n",
       "      <td>False</td>\n",
       "      <td>True</td>\n",
       "      <td>False</td>\n",
       "      <td>NaN</td>\n",
       "      <td>None</td>\n",
       "      <td>SP</td>\n",
       "      <td>2.138098</td>\n",
       "      <td>0.181045</td>\n",
       "      <td>96.477578</td>\n",
       "      <td>10.522587</td>\n",
       "      <td>moved_a_to_a</td>\n",
       "      <td>0.166399</td>\n",
       "    </tr>\n",
       "    <tr>\n",
       "      <th>FBgn0026754</th>\n",
       "      <td>chr2R</td>\n",
       "      <td>chr2L</td>\n",
       "      <td>FBgn0040262</td>\n",
       "      <td>D</td>\n",
       "      <td>False</td>\n",
       "      <td>True</td>\n",
       "      <td>False</td>\n",
       "      <td>NaN</td>\n",
       "      <td>None</td>\n",
       "      <td>None</td>\n",
       "      <td>0.000000</td>\n",
       "      <td>0.000000</td>\n",
       "      <td>0.000000</td>\n",
       "      <td>0.000000</td>\n",
       "      <td>moved_a_to_a</td>\n",
       "      <td>0.000000</td>\n",
       "    </tr>\n",
       "    <tr>\n",
       "      <th>FBgn0027494</th>\n",
       "      <td>chr3R</td>\n",
       "      <td>chrX</td>\n",
       "      <td>FBgn0285947</td>\n",
       "      <td>D</td>\n",
       "      <td>True</td>\n",
       "      <td>False</td>\n",
       "      <td>False</td>\n",
       "      <td>E1º|SP</td>\n",
       "      <td>SP</td>\n",
       "      <td>SP</td>\n",
       "      <td>318.629523</td>\n",
       "      <td>116.507385</td>\n",
       "      <td>297.117491</td>\n",
       "      <td>55.220674</td>\n",
       "      <td>moved_x_to_a</td>\n",
       "      <td>4.766501</td>\n",
       "    </tr>\n",
       "    <tr>\n",
       "      <th>FBgn0027864</th>\n",
       "      <td>chrX</td>\n",
       "      <td>chr2L</td>\n",
       "      <td>FBgn0032907</td>\n",
       "      <td>Rl</td>\n",
       "      <td>False</td>\n",
       "      <td>False</td>\n",
       "      <td>True</td>\n",
       "      <td>NaN</td>\n",
       "      <td>None</td>\n",
       "      <td>None</td>\n",
       "      <td>0.659718</td>\n",
       "      <td>0.360267</td>\n",
       "      <td>33.397087</td>\n",
       "      <td>51.448124</td>\n",
       "      <td>moved_a_to_x</td>\n",
       "      <td>0.307681</td>\n",
       "    </tr>\n",
       "    <tr>\n",
       "      <th>FBgn0028430</th>\n",
       "      <td>chr2L</td>\n",
       "      <td>chr2R</td>\n",
       "      <td>FBgn0054040</td>\n",
       "      <td>Dl</td>\n",
       "      <td>False</td>\n",
       "      <td>True</td>\n",
       "      <td>False</td>\n",
       "      <td>NaN</td>\n",
       "      <td>None</td>\n",
       "      <td>None</td>\n",
       "      <td>0.000000</td>\n",
       "      <td>0.000000</td>\n",
       "      <td>0.000000</td>\n",
       "      <td>0.000000</td>\n",
       "      <td>moved_a_to_a</td>\n",
       "      <td>0.000000</td>\n",
       "    </tr>\n",
       "    <tr>\n",
       "      <th>FBgn0028856</th>\n",
       "      <td>chr2L</td>\n",
       "      <td>chr2R</td>\n",
       "      <td>FBgn0034826</td>\n",
       "      <td>Dl</td>\n",
       "      <td>False</td>\n",
       "      <td>True</td>\n",
       "      <td>False</td>\n",
       "      <td>M1º|E1º|L1º</td>\n",
       "      <td>M1</td>\n",
       "      <td>M1</td>\n",
       "      <td>2.536787</td>\n",
       "      <td>58.062835</td>\n",
       "      <td>24.717416</td>\n",
       "      <td>691.211790</td>\n",
       "      <td>moved_a_to_a</td>\n",
       "      <td>4.078602</td>\n",
       "    </tr>\n",
       "  </tbody>\n",
       "</table>\n",
       "</div>"
      ],
      "text/plain": [
       "            child_chrom parent_chrom  parent_FBgn gene_type  moved_x_to_a  \\\n",
       "child_FBgn                                                                  \n",
       "FBgn0000246       chr3R         chrX  FBgn0002873        Dl          True   \n",
       "FBgn0002562        chrX        chr2L  FBgn0002563         D         False   \n",
       "FBgn0003060       chr3R        chr2L  FBgn0032282         D         False   \n",
       "FBgn0003086        chrX        chr3L  FBgn0036393        Dl         False   \n",
       "FBgn0003357       chr3R        chr3L  FBgn0250815         R         False   \n",
       "FBgn0004414       chr3L        chr2L  FBgn0283658        Rl         False   \n",
       "FBgn0010549       chr2R        chr3R  FBgn0039645        Dl         False   \n",
       "FBgn0011559       chr2L        chr3L  FBgn0052133        Dl         False   \n",
       "FBgn0015008       chr3R         chrX  FBgn0025633        Rl          True   \n",
       "FBgn0015025       chr3L        chr3R  FBgn0039860        Rl         False   \n",
       "FBgn0015035       chr2L        chr2R  FBgn0014469         D         False   \n",
       "FBgn0015520       chr3R         chrX  FBgn0004227         R          True   \n",
       "FBgn0016080        chrX        chr2R  FBgn0033438        Dl         False   \n",
       "FBgn0025616        chrX        chr2L  FBgn0051952        Dl         False   \n",
       "FBgn0026361       chr2R        chr3R  FBgn0014029         R         False   \n",
       "FBgn0026754       chr2R        chr2L  FBgn0040262         D         False   \n",
       "FBgn0027494       chr3R         chrX  FBgn0285947         D          True   \n",
       "FBgn0027864        chrX        chr2L  FBgn0032907        Rl         False   \n",
       "FBgn0028430       chr2L        chr2R  FBgn0054040        Dl         False   \n",
       "FBgn0028856       chr2L        chr2R  FBgn0034826        Dl         False   \n",
       "\n",
       "             moved_a_to_a  moved_a_to_x biomakrer_cluster  \\\n",
       "child_FBgn                                                  \n",
       "FBgn0000246         False         False               NaN   \n",
       "FBgn0002562         False          True               NaN   \n",
       "FBgn0003060          True         False               NaN   \n",
       "FBgn0003086         False          True               NaN   \n",
       "FBgn0003357          True         False               NaN   \n",
       "FBgn0004414          True         False               NaN   \n",
       "FBgn0010549          True         False               NaN   \n",
       "FBgn0011559          True         False               NaN   \n",
       "FBgn0015008         False         False       E1º|L1º|M1º   \n",
       "FBgn0015025          True         False               NaN   \n",
       "FBgn0015035          True         False               NaN   \n",
       "FBgn0015520         False         False                SP   \n",
       "FBgn0016080         False          True               NaN   \n",
       "FBgn0025616         False          True               M1º   \n",
       "FBgn0026361          True         False               NaN   \n",
       "FBgn0026754          True         False               NaN   \n",
       "FBgn0027494         False         False            E1º|SP   \n",
       "FBgn0027864         False          True               NaN   \n",
       "FBgn0028430          True         False               NaN   \n",
       "FBgn0028856          True         False       M1º|E1º|L1º   \n",
       "\n",
       "            bias_gonia_vs_mid_child bias_gonia_vs_mid_parent    SP_child  \\\n",
       "child_FBgn                                                                 \n",
       "FBgn0000246                    None                     None   74.507506   \n",
       "FBgn0002562                    None                     None    0.023132   \n",
       "FBgn0003060                    None                     None    0.021381   \n",
       "FBgn0003086                    None                     None    0.000000   \n",
       "FBgn0003357                    None                     None    0.000000   \n",
       "FBgn0004414                    None                     None    0.043373   \n",
       "FBgn0010549                    None                     None    0.035092   \n",
       "FBgn0011559                    None                     None    8.682675   \n",
       "FBgn0015008                      M1                     None   11.194324   \n",
       "FBgn0015025                    None                     None    2.038113   \n",
       "FBgn0015035                    None                     None    0.000000   \n",
       "FBgn0015520                      SP                     None    7.183067   \n",
       "FBgn0016080                    None                     None    2.866379   \n",
       "FBgn0025616                      M1                       M1    0.822207   \n",
       "FBgn0026361                    None                       SP    2.138098   \n",
       "FBgn0026754                    None                     None    0.000000   \n",
       "FBgn0027494                      SP                       SP  318.629523   \n",
       "FBgn0027864                    None                     None    0.659718   \n",
       "FBgn0028430                    None                     None    0.000000   \n",
       "FBgn0028856                      M1                       M1    2.536787   \n",
       "\n",
       "               M1_child   SP_parent   M1_parent      movement  log_M1_child  \n",
       "child_FBgn                                                                   \n",
       "FBgn0000246   40.811514    0.652152    1.751364  moved_x_to_a      3.733172  \n",
       "FBgn0002562    0.061855    0.144521    0.137125  moved_a_to_x      0.060017  \n",
       "FBgn0003060    0.000000    0.075548    0.126258  moved_a_to_a      0.000000  \n",
       "FBgn0003086    0.000000    0.000000    0.057476  moved_a_to_x      0.000000  \n",
       "FBgn0003357    0.000000    0.000000    0.000000  moved_a_to_a      0.000000  \n",
       "FBgn0004414    0.695865    4.892144   10.511107  moved_a_to_a      0.528193  \n",
       "FBgn0010549    0.223757    0.000000    0.061723  moved_a_to_a      0.201926  \n",
       "FBgn0011559   22.154939    6.796721    1.752841  moved_a_to_a      3.142208  \n",
       "FBgn0015008  212.349137   31.173193    4.033355  moved_x_to_a      5.362930  \n",
       "FBgn0015025    1.546853    5.096309    0.616130  moved_a_to_a      0.934859  \n",
       "FBgn0015035    0.000000    0.020434    0.009106  moved_a_to_a      0.000000  \n",
       "FBgn0015520    1.323291    2.523644    0.661042  moved_x_to_a      0.842985  \n",
       "FBgn0016080   18.858937    0.090293    0.015090  moved_a_to_x      2.988654  \n",
       "FBgn0025616   11.362183    2.594805   56.699136  moved_a_to_x      2.514642  \n",
       "FBgn0026361    0.181045   96.477578   10.522587  moved_a_to_a      0.166399  \n",
       "FBgn0026754    0.000000    0.000000    0.000000  moved_a_to_a      0.000000  \n",
       "FBgn0027494  116.507385  297.117491   55.220674  moved_x_to_a      4.766501  \n",
       "FBgn0027864    0.360267   33.397087   51.448124  moved_a_to_x      0.307681  \n",
       "FBgn0028430    0.000000    0.000000    0.000000  moved_a_to_a      0.000000  \n",
       "FBgn0028856   58.062835   24.717416  691.211790  moved_a_to_a      4.078602  "
      ]
     },
     "execution_count": 334,
     "metadata": {},
     "output_type": "execute_result"
    }
   ],
   "source": [
    "maria.head(20)"
   ]
  },
  {
   "cell_type": "code",
   "execution_count": 335,
   "metadata": {},
   "outputs": [],
   "source": [
    "dat = (maria.groupby('movement').bias_gonia_vs_mid_child.value_counts().div( maria.groupby('movement').size()) * 100).rename('prop').to_frame().reset_index()"
   ]
  },
  {
   "cell_type": "code",
   "execution_count": 336,
   "metadata": {},
   "outputs": [
    {
     "data": {
      "text/plain": [
       "<matplotlib.axes._subplots.AxesSubplot at 0x7f86261ec7b8>"
      ]
     },
     "execution_count": 336,
     "metadata": {},
     "output_type": "execute_result"
    },
    {
     "data": {
      "image/png": "[encoded data removed]",
      "text/plain": [
       "<matplotlib.figure.Figure at 0x7f862d407f28>"
      ]
     },
     "metadata": {},
     "output_type": "display_data"
    }
   ],
   "source": [
    "fig = plt.figure(figsize=(10, 10))\n",
    "sns.barplot('movement', 'prop', hue='bias_gonia_vs_mid_child', data=dat)"
   ]
  },
  {
   "cell_type": "code",
   "execution_count": 337,
   "metadata": {},
   "outputs": [
    {
     "data": {
      "text/plain": [
       "(2.090497737556561, 0.016590270874298315)"
      ]
     },
     "execution_count": 337,
     "metadata": {},
     "output_type": "execute_result"
    }
   ],
   "source": [
    "fisher_exact(dat.query('movement == [\"moved_x_to_a\", \"moved_a_to_a\"] and bias_gonia_vs_mid_child == [\"M1\", \"None\"]').set_index(['movement', 'bias_gonia_vs_mid_child']).unstack(), alternative='two-sided')"
   ]
  },
  {
   "cell_type": "code",
   "execution_count": 338,
   "metadata": {},
   "outputs": [
    {
     "data": {
      "text/html": [
       "<div>\n",
       "<style scoped>\n",
       "    .dataframe tbody tr th:only-of-type {\n",
       "        vertical-align: middle;\n",
       "    }\n",
       "\n",
       "    .dataframe tbody tr th {\n",
       "        vertical-align: top;\n",
       "    }\n",
       "\n",
       "    .dataframe thead tr th {\n",
       "        text-align: left;\n",
       "    }\n",
       "\n",
       "    .dataframe thead tr:last-of-type th {\n",
       "        text-align: right;\n",
       "    }\n",
       "</style>\n",
       "<table border=\"1\" class=\"dataframe\">\n",
       "  <thead>\n",
       "    <tr>\n",
       "      <th></th>\n",
       "      <th colspan=\"2\" halign=\"left\">prop</th>\n",
       "    </tr>\n",
       "    <tr>\n",
       "      <th>bias_gonia_vs_mid_child</th>\n",
       "      <th>M1</th>\n",
       "      <th>None</th>\n",
       "    </tr>\n",
       "    <tr>\n",
       "      <th>movement</th>\n",
       "      <th></th>\n",
       "      <th></th>\n",
       "    </tr>\n",
       "  </thead>\n",
       "  <tbody>\n",
       "    <tr>\n",
       "      <th>moved_x_to_a</th>\n",
       "      <td>44.117647</td>\n",
       "      <td>39.705882</td>\n",
       "    </tr>\n",
       "    <tr>\n",
       "      <th>moved_a_to_a</th>\n",
       "      <td>34.146341</td>\n",
       "      <td>63.414634</td>\n",
       "    </tr>\n",
       "  </tbody>\n",
       "</table>\n",
       "</div>"
      ],
      "text/plain": [
       "                              prop           \n",
       "bias_gonia_vs_mid_child         M1       None\n",
       "movement                                     \n",
       "moved_x_to_a             44.117647  39.705882\n",
       "moved_a_to_a             34.146341  63.414634"
      ]
     },
     "execution_count": 338,
     "metadata": {},
     "output_type": "execute_result"
    }
   ],
   "source": [
    "dat.query('movement == [\"moved_x_to_a\", \"moved_a_to_a\"] and bias_gonia_vs_mid_child == [\"M1\", \"None\"]').set_index(['movement', 'bias_gonia_vs_mid_child']).unstack()"
   ]
  },
  {
   "cell_type": "code",
   "execution_count": null,
   "metadata": {},
   "outputs": [],
   "source": []
  },
  {
   "cell_type": "code",
   "execution_count": null,
   "metadata": {},
   "outputs": [],
   "source": []
  },
  {
   "cell_type": "code",
   "execution_count": null,
   "metadata": {},
   "outputs": [],
   "source": []
  },
  {
   "cell_type": "code",
   "execution_count": null,
   "metadata": {},
   "outputs": [],
   "source": []
  },
  {
   "cell_type": "code",
   "execution_count": null,
   "metadata": {},
   "outputs": [],
   "source": []
  },
  {
   "cell_type": "code",
   "execution_count": null,
   "metadata": {},
   "outputs": [],
   "source": []
  },
  {
   "cell_type": "code",
   "execution_count": null,
   "metadata": {},
   "outputs": [],
   "source": []
  },
  {
   "cell_type": "code",
   "execution_count": null,
   "metadata": {},
   "outputs": [],
   "source": []
  },
  {
   "cell_type": "code",
   "execution_count": null,
   "metadata": {},
   "outputs": [],
   "source": []
  },
  {
   "cell_type": "code",
   "execution_count": null,
   "metadata": {},
   "outputs": [],
   "source": []
  },
  {
   "cell_type": "code",
   "execution_count": null,
   "metadata": {},
   "outputs": [],
   "source": []
  },
  {
   "cell_type": "code",
   "execution_count": 339,
   "metadata": {},
   "outputs": [],
   "source": [
    "movement = (\n",
    "    pd.read_excel('../data/external/maria/dm6_ver78_genetype.new.xlsx')\n",
    "    .query('gene_type == [\"D\", \"R\", \"Dl\", \"Rl\"] and m_type == \"M\"')\n",
    "    .assign(child_chrom = lambda df: df.note.str.extract('(chr.*?)-'))\n",
    "    .assign(parent_chrom = lambda df: df.note.str.extract('-(chr.*?)[:;]'))\n",
    "    .assign(FBgn = lambda df: df.child_id.map(mapper))\n",
    "    .set_index(\"FBgn\")\n",
    "    .drop(['child_id', 'parent_id', 'note', 'm_type'], axis=1)\n",
    "    .dropna()\n",
    ") \n",
    "\n",
    "movement.loc[(movement.parent_chrom == \"chrX\") & movement.child_chrom.isin(autosomes), 'movement'] = 'X -> A'\n",
    "movement.loc[movement.parent_chrom.isin(autosomes) & (movement.child_chrom == \"chrX\"), 'movement'] = 'A -> X'\n",
    "movement.loc[movement.parent_chrom.isin(autosomes) & movement.child_chrom.isin(autosomes), 'movement'] = 'A -> A'\n",
    "movement.movement = pd.Categorical(movement.movement, ordered=True, categories=['X -> A', 'A -> X', 'A -> A'])"
   ]
  },
  {
   "cell_type": "code",
   "execution_count": 340,
   "metadata": {},
   "outputs": [],
   "source": [
    "m1_tpm = (\n",
    "    pd.read_parquet('../output/scrnaseq-wf/tpm.parquet')\n",
    "    .assign(cluster=lambda df: df.cluster.map(config['short_cluster_annot']))\n",
    "    .query('cluster == \"M1º\"')\n",
    ")"
   ]
  },
  {
   "cell_type": "code",
   "execution_count": 341,
   "metadata": {},
   "outputs": [
    {
     "data": {
      "text/plain": [
       "(-176.24350757437605, 1010)"
      ]
     },
     "execution_count": 341,
     "metadata": {},
     "output_type": "execute_result"
    },
    {
     "data": {
      "image/png": "[encoded data removed]",
      "text/plain": [
       "<matplotlib.figure.Figure at 0x7f86269a0550>"
      ]
     },
     "metadata": {},
     "output_type": "display_data"
    }
   ],
   "source": [
    "fig, (ax1, ax2) = plt.subplots(2, 1, figsize=(20, 20))\n",
    "dat = movement.join(m1_tpm).assign(log_TPM=lambda df: np.log10(df.TPM + 1))\n",
    "sns.boxplot('movement', 'TPM', data=dat, ax=ax1, showfliers=True)\n",
    "sns.boxplot('movement', 'log_TPM', data=dat, ax=ax2, showfliers=False)\n",
    "ax1.set_ylim(None, 1010)"
   ]
  },
  {
   "cell_type": "code",
   "execution_count": 342,
   "metadata": {},
   "outputs": [
    {
     "data": {
      "text/plain": [
       "movement\n",
       "X -> A    16.802894\n",
       "A -> X    15.676948\n",
       "A -> A     5.311457\n",
       "Name: TPM, dtype: float64"
      ]
     },
     "execution_count": 342,
     "metadata": {},
     "output_type": "execute_result"
    }
   ],
   "source": [
    "dat.groupby('movement').TPM.median()"
   ]
  },
  {
   "cell_type": "code",
   "execution_count": 343,
   "metadata": {},
   "outputs": [
    {
     "data": {
      "text/plain": [
       "movement\n",
       "X -> A     68\n",
       "A -> X     54\n",
       "A -> A    123\n",
       "Name: TPM, dtype: int64"
      ]
     },
     "execution_count": 343,
     "metadata": {},
     "output_type": "execute_result"
    }
   ],
   "source": [
    "dat.groupby('movement').TPM.size()"
   ]
  },
  {
   "cell_type": "code",
   "execution_count": 344,
   "metadata": {},
   "outputs": [
    {
     "data": {
      "text/plain": [
       "movement\n",
       "X -> A    59\n",
       "A -> X    46\n",
       "A -> A    95\n",
       "Name: TPM, dtype: int64"
      ]
     },
     "execution_count": 344,
     "metadata": {},
     "output_type": "execute_result"
    }
   ],
   "source": [
    "dat.query('TPM > 0').groupby('movement').TPM.size()"
   ]
  },
  {
   "cell_type": "code",
   "execution_count": 345,
   "metadata": {},
   "outputs": [],
   "source": [
    "from scipy.stats import mannwhitneyu"
   ]
  },
  {
   "cell_type": "code",
   "execution_count": 346,
   "metadata": {},
   "outputs": [
    {
     "data": {
      "text/plain": [
       "MannwhitneyuResult(statistic=4004.0, pvalue=0.3137467546698276)"
      ]
     },
     "execution_count": 346,
     "metadata": {},
     "output_type": "execute_result"
    }
   ],
   "source": [
    "mannwhitneyu(dat.query('movement == \"X -> A\"').TPM, dat.query('movement == \"A -> A\"').TPM)"
   ]
  },
  {
   "cell_type": "code",
   "execution_count": null,
   "metadata": {},
   "outputs": [],
   "source": []
  },
  {
   "cell_type": "code",
   "execution_count": null,
   "metadata": {},
   "outputs": [],
   "source": []
  },
  {
   "cell_type": "code",
   "execution_count": null,
   "metadata": {},
   "outputs": [],
   "source": []
  },
  {
   "cell_type": "code",
   "execution_count": null,
   "metadata": {},
   "outputs": [],
   "source": []
  },
  {
   "cell_type": "code",
   "execution_count": null,
   "metadata": {},
   "outputs": [],
   "source": []
  },
  {
   "cell_type": "code",
   "execution_count": null,
   "metadata": {},
   "outputs": [],
   "source": []
  },
  {
   "cell_type": "code",
   "execution_count": null,
   "metadata": {},
   "outputs": [],
   "source": []
  },
  {
   "cell_type": "code",
   "execution_count": null,
   "metadata": {},
   "outputs": [],
   "source": []
  },
  {
   "cell_type": "code",
   "execution_count": null,
   "metadata": {},
   "outputs": [],
   "source": []
  },
  {
   "cell_type": "code",
   "execution_count": null,
   "metadata": {},
   "outputs": [],
   "source": []
  },
  {
   "cell_type": "code",
   "execution_count": null,
   "metadata": {},
   "outputs": [],
   "source": []
  },
  {
   "cell_type": "code",
   "execution_count": null,
   "metadata": {},
   "outputs": [],
   "source": []
  },
  {
   "cell_type": "code",
   "execution_count": null,
   "metadata": {},
   "outputs": [],
   "source": []
  },
  {
   "cell_type": "code",
   "execution_count": null,
   "metadata": {},
   "outputs": [],
   "source": []
  },
  {
   "cell_type": "code",
   "execution_count": null,
   "metadata": {},
   "outputs": [],
   "source": []
  },
  {
   "cell_type": "code",
   "execution_count": null,
   "metadata": {},
   "outputs": [],
   "source": []
  },
  {
   "cell_type": "code",
   "execution_count": null,
   "metadata": {},
   "outputs": [],
   "source": []
  },
  {
   "cell_type": "code",
   "execution_count": 347,
   "metadata": {},
   "outputs": [],
   "source": [
    "movement = (\n",
    "    pd.read_excel('../data/external/maria/dm6_ver78_genetype.new.xlsx')\n",
    "    .query('gene_type == [\"D\", \"R\", \"Dl\", \"Rl\"] and m_type == \"M\"')\n",
    "    .assign(child_chrom = lambda df: df.note.str.extract('(chr.*?)-'))\n",
    "    .assign(parent_chrom = lambda df: df.note.str.extract('-(chr.*?)[:;]'))\n",
    "    .assign(FBgn = lambda df: df.child_id.map(mapper))\n",
    "    .set_index(\"FBgn\")\n",
    "    .drop(['child_id', 'parent_id', 'note', 'm_type'], axis=1)\n",
    "    .dropna()\n",
    ") \n",
    "\n",
    "movement.loc[(movement.parent_chrom == \"chrX\") & movement.child_chrom.isin(autosomes), 'movement'] = 'X -> A'\n",
    "movement.loc[movement.parent_chrom.isin(autosomes) & (movement.child_chrom == \"chrX\"), 'movement'] = 'A -> X'\n",
    "movement.loc[movement.parent_chrom.isin(autosomes) & movement.child_chrom.isin(autosomes), 'movement'] = 'A -> A'\n",
    "movement.movement = pd.Categorical(movement.movement, ordered=True, categories=['X -> A', 'A -> X', 'A -> A'])"
   ]
  },
  {
   "cell_type": "code",
   "execution_count": 348,
   "metadata": {},
   "outputs": [
    {
     "data": {
      "text/html": [
       "<div>\n",
       "<style scoped>\n",
       "    .dataframe tbody tr th:only-of-type {\n",
       "        vertical-align: middle;\n",
       "    }\n",
       "\n",
       "    .dataframe tbody tr th {\n",
       "        vertical-align: top;\n",
       "    }\n",
       "\n",
       "    .dataframe thead th {\n",
       "        text-align: right;\n",
       "    }\n",
       "</style>\n",
       "<table border=\"1\" class=\"dataframe\">\n",
       "  <thead>\n",
       "    <tr style=\"text-align: right;\">\n",
       "      <th></th>\n",
       "      <th>gene_type</th>\n",
       "      <th>child_chrom</th>\n",
       "      <th>parent_chrom</th>\n",
       "      <th>movement</th>\n",
       "    </tr>\n",
       "    <tr>\n",
       "      <th>FBgn</th>\n",
       "      <th></th>\n",
       "      <th></th>\n",
       "      <th></th>\n",
       "      <th></th>\n",
       "    </tr>\n",
       "  </thead>\n",
       "  <tbody>\n",
       "    <tr>\n",
       "      <th>FBgn0000246</th>\n",
       "      <td>Dl</td>\n",
       "      <td>chr3R</td>\n",
       "      <td>chrX</td>\n",
       "      <td>X -&gt; A</td>\n",
       "    </tr>\n",
       "    <tr>\n",
       "      <th>FBgn0002562</th>\n",
       "      <td>D</td>\n",
       "      <td>chrX</td>\n",
       "      <td>chr2L</td>\n",
       "      <td>A -&gt; X</td>\n",
       "    </tr>\n",
       "    <tr>\n",
       "      <th>FBgn0003060</th>\n",
       "      <td>D</td>\n",
       "      <td>chr3R</td>\n",
       "      <td>chr2L</td>\n",
       "      <td>A -&gt; A</td>\n",
       "    </tr>\n",
       "    <tr>\n",
       "      <th>FBgn0003086</th>\n",
       "      <td>Dl</td>\n",
       "      <td>chrX</td>\n",
       "      <td>chr3L</td>\n",
       "      <td>A -&gt; X</td>\n",
       "    </tr>\n",
       "    <tr>\n",
       "      <th>FBgn0003357</th>\n",
       "      <td>R</td>\n",
       "      <td>chr3R</td>\n",
       "      <td>chr3L</td>\n",
       "      <td>A -&gt; A</td>\n",
       "    </tr>\n",
       "  </tbody>\n",
       "</table>\n",
       "</div>"
      ],
      "text/plain": [
       "            gene_type child_chrom parent_chrom movement\n",
       "FBgn                                                   \n",
       "FBgn0000246        Dl       chr3R         chrX   X -> A\n",
       "FBgn0002562         D        chrX        chr2L   A -> X\n",
       "FBgn0003060         D       chr3R        chr2L   A -> A\n",
       "FBgn0003086        Dl        chrX        chr3L   A -> X\n",
       "FBgn0003357         R       chr3R        chr3L   A -> A"
      ]
     },
     "execution_count": 348,
     "metadata": {},
     "output_type": "execute_result"
    }
   ],
   "source": [
    "movement.head()"
   ]
  },
  {
   "cell_type": "code",
   "execution_count": 349,
   "metadata": {},
   "outputs": [],
   "source": [
    "norm = (\n",
    "    pd.read_csv('../output/scrnaseq-wf/scrnaseq_combine_force/normalized_read_counts.tsv', sep='\\t', index_col=0)\n",
    "    .rename_axis('FBgn')\n",
    "    .join(movement, how='inner')\n",
    "    .reset_index()\n",
    "    .drop(['parent_chrom', 'child_chrom'], axis=1)\n",
    "    .melt(id_vars=['FBgn', 'movement', 'gene_type'], var_name='cell_id', value_name='norm')\n",
    "    .set_index('FBgn')\n",
    "    .assign(rep=lambda df: df.cell_id.str.extract('(rep\\d)', expand=False))\n",
    "    .join(clusters, on='cell_id')\n",
    ")"
   ]
  },
  {
   "cell_type": "code",
   "execution_count": 350,
   "metadata": {},
   "outputs": [
    {
     "data": {
      "image/png": "[encoded data removed]",
      "text/plain": [
       "<matplotlib.figure.Figure at 0x7f862ca29ac8>"
      ]
     },
     "metadata": {},
     "output_type": "display_data"
    }
   ],
   "source": [
    "fig = plt.figure(figsize=(20, 10))\n",
    "ax = sns.boxplot('movement', 'norm', hue='cluster', data=norm.query('norm > 0'), order=['X -> A', 'A -> A'])\n",
    "plt.legend(loc='upper left', bbox_to_anchor=[1, 1])\n",
    "ax.set_axisbelow(True)\n",
    "ax.grid(axis='y')"
   ]
  },
  {
   "cell_type": "code",
   "execution_count": null,
   "metadata": {},
   "outputs": [],
   "source": []
  },
  {
   "cell_type": "code",
   "execution_count": null,
   "metadata": {},
   "outputs": [],
   "source": []
  },
  {
   "cell_type": "code",
   "execution_count": null,
   "metadata": {},
   "outputs": [],
   "source": []
  },
  {
   "cell_type": "code",
   "execution_count": null,
   "metadata": {},
   "outputs": [],
   "source": []
  },
  {
   "cell_type": "code",
   "execution_count": null,
   "metadata": {},
   "outputs": [],
   "source": []
  },
  {
   "cell_type": "code",
   "execution_count": null,
   "metadata": {},
   "outputs": [],
   "source": []
  },
  {
   "cell_type": "code",
   "execution_count": null,
   "metadata": {},
   "outputs": [],
   "source": []
  },
  {
   "cell_type": "code",
   "execution_count": null,
   "metadata": {},
   "outputs": [],
   "source": []
  },
  {
   "cell_type": "code",
   "execution_count": null,
   "metadata": {},
   "outputs": [],
   "source": []
  },
  {
   "cell_type": "code",
   "execution_count": null,
   "metadata": {},
   "outputs": [],
   "source": []
  },
  {
   "cell_type": "code",
   "execution_count": null,
   "metadata": {},
   "outputs": [],
   "source": []
  },
  {
   "cell_type": "code",
   "execution_count": null,
   "metadata": {},
   "outputs": [],
   "source": []
  },
  {
   "cell_type": "code",
   "execution_count": null,
   "metadata": {},
   "outputs": [],
   "source": []
  },
  {
   "cell_type": "code",
   "execution_count": null,
   "metadata": {},
   "outputs": [],
   "source": []
  },
  {
   "cell_type": "code",
   "execution_count": null,
   "metadata": {},
   "outputs": [],
   "source": []
  },
  {
   "cell_type": "code",
   "execution_count": null,
   "metadata": {},
   "outputs": [],
   "source": []
  },
  {
   "cell_type": "code",
   "execution_count": null,
   "metadata": {},
   "outputs": [],
   "source": []
  },
  {
   "cell_type": "code",
   "execution_count": null,
   "metadata": {},
   "outputs": [],
   "source": []
  },
  {
   "cell_type": "code",
   "execution_count": null,
   "metadata": {},
   "outputs": [],
   "source": []
  },
  {
   "cell_type": "code",
   "execution_count": null,
   "metadata": {},
   "outputs": [],
   "source": []
  },
  {
   "cell_type": "code",
   "execution_count": null,
   "metadata": {},
   "outputs": [],
   "source": []
  },
  {
   "cell_type": "code",
   "execution_count": null,
   "metadata": {},
   "outputs": [],
   "source": []
  }
 ],
 "metadata": {
  "jupytext": {
   "text_representation": {
    "extension": ".py",
    "format_name": "percent",
    "format_version": "1.2",
    "jupytext_version": "1.0.0"
   }
  },
  "kernelspec": {
   "display_name": "Python [conda env:larval_gonad]",
   "language": "python",
   "name": "conda-env-larval_gonad-py"
  },
  "language_info": {
   "codemirror_mode": {
    "name": "ipython",
    "version": 3
   },
   "file_extension": ".py",
   "mimetype": "text/x-python",
   "name": "python",
   "nbconvert_exporter": "python",
   "pygments_lexer": "ipython3",
   "version": "3.6.3"
  }
 },
 "nbformat": 4,
 "nbformat_minor": 2
}
