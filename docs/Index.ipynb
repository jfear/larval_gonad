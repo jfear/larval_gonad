{
 "cells": [
  {
   "cell_type": "markdown",
   "metadata": {},
   "source": [
    "# Larval Gonad\n",
    "\n",
    "This project is looking at expression profiles in *Drosophila melanogaster* third-instar larva."
   ]
  },
  {
   "cell_type": "markdown",
   "metadata": {},
   "source": [
    "## Table of Contents"
   ]
  },
  {
   "cell_type": "markdown",
   "metadata": {},
   "source": [
    "### [1. Testis Pilot scRNA-Seq](01.00-testis_pilot_scRNAseq_analysis.ipynb)\n",
    "\n",
    "### [3. Combined Pilot scRNA-Seq](03.00-combined_ovary_and_testis_pilot_scRNAseq_analysis.ipynb)\n",
    "\n",
    "### [4. X to Autosome Ratio](04.00-testis_pilot_scRNAseq_X_to_A.ipynb)"
   ]
  },
  {
   "cell_type": "code",
   "execution_count": null,
   "metadata": {},
   "outputs": [],
   "source": []
  }
 ],
 "metadata": {
  "kernelspec": {
   "display_name": "Python [conda env:larval_gonad]",
   "language": "python",
   "name": "conda-env-larval_gonad-py"
  },
  "language_info": {
   "codemirror_mode": {
    "name": "ipython",
    "version": 3
   },
   "file_extension": ".py",
   "mimetype": "text/x-python",
   "name": "python",
   "nbconvert_exporter": "python",
   "pygments_lexer": "ipython3",
   "version": "3.6.3"
  }
 },
 "nbformat": 4,
 "nbformat_minor": 2
}
