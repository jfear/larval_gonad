{
 "cells": [
  {
   "cell_type": "markdown",
   "metadata": {},
   "source": [
    "# Testis Pilot scRNA-Seq"
   ]
  },
  {
   "cell_type": "markdown",
   "metadata": {},
   "source": [
    "## Testis Using Cell Ranger Cell Calls\n",
    "* [Replicate 1 Summary](http://geneticsunderground.com/larval_gonad/01.01-testis1_scrnaseq_analysis.html)\n",
    "* [Replicate 2 Summary](http://geneticsunderground.com/larval_gonad/01.02-testis2_scrnaseq_analysis.html)\n",
    "* [Replicate 3 Summary](http://geneticsunderground.com/larval_gonad/01.03-testis3_scrnaseq_analysis.html)\n",
    "\n",
    "## Testis Using Forced Cell Calls"
   ]
  },
  {
   "cell_type": "code",
   "execution_count": null,
   "metadata": {},
   "outputs": [],
   "source": []
  }
 ],
 "metadata": {
  "kernelspec": {
   "display_name": "Python [conda env:larval_gonad]",
   "language": "python",
   "name": "conda-env-larval_gonad-py"
  },
  "language_info": {
   "codemirror_mode": {
    "name": "ipython",
    "version": 3
   },
   "file_extension": ".py",
   "mimetype": "text/x-python",
   "name": "python",
   "nbconvert_exporter": "python",
   "pygments_lexer": "ipython3",
   "version": "3.6.3"
  },
  "toc": {
   "nav_menu": {},
   "number_sections": true,
   "sideBar": true,
   "skip_h1_title": false,
   "toc_cell": false,
   "toc_position": {},
   "toc_section_display": "block",
   "toc_window_display": false
  }
 },
 "nbformat": 4,
 "nbformat_minor": 2
}
