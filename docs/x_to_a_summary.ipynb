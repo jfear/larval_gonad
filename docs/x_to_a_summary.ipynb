{
 "cells": [
  {
   "cell_type": "code",
   "execution_count": 0,
   "metadata": {},
   "outputs": [],
   "source": [
    "# Change directory to VSCode workspace root so that relative path loads work correctly. Turn this addition off with the DataScience.changeDirOnImportExport setting\n",
    "# ms-python.python added\n",
    "import os\n",
    "try:\n",
    "\tos.chdir(os.path.join(os.getcwd(), '..'))\n",
    "\tprint(os.getcwd())\n",
    "except:\n",
    "\tpass\n"
   ]
  },
  {
   "cell_type": "markdown",
   "metadata": {},
   "source": [
    " # X To A Summary"
   ]
  },
  {
   "cell_type": "code",
   "execution_count": 1,
   "metadata": {},
   "outputs": [],
   "source": [
    "import os\n",
    "import numpy as np\n",
    "import pandas as pd\n",
    "from larval_gonad.io import pickle_load, shelve_load, feather_to_cluster_matrix\n"
   ]
  },
  {
   "cell_type": "code",
   "execution_count": 2,
   "metadata": {},
   "outputs": [
    {
     "name": "stdout",
     "output_type": "stream",
     "text": [
      "/var/home/fearjm/Projects/larval_gonad/docs\n"
     ]
    }
   ],
   "source": [
    "pd.options.display.max_rows = 200\n",
    "\n",
    "try:\n",
    "    os.chdir(os.path.join(os.getcwd(), 'docs'))\n",
    "    print(os.getcwd())\n",
    "except:\n",
    "    pass\n"
   ]
  },
  {
   "cell_type": "code",
   "execution_count": 3,
   "metadata": {},
   "outputs": [],
   "source": [
    "fbgn2chrom = (\n",
    "    pd.read_feather(\"../references/gene_annotation_dmel_r6-26.feather\")\n",
    "    .set_index(\"FBgn\")\n",
    "    .FB_chrom\n",
    "    .rename(\"chrom\")\n",
    ")\n"
   ]
  },
  {
   "cell_type": "code",
   "execution_count": 4,
   "metadata": {},
   "outputs": [
    {
     "name": "stdout",
     "output_type": "stream",
     "text": [
      "Number of expressed genes: 14,347\n"
     ]
    },
    {
     "data": {
      "text/plain": [
       "3R                                 3467\n",
       "3L                                 2867\n",
       "2R                                 2861\n",
       "2L                                 2767\n",
       "X                                  2207\n",
       "4                                   102\n",
       "Y                                    42\n",
       "mitochondrion_genome                 18\n",
       "rDNA                                  5\n",
       "Unmapped_Scaffold_8_D1580_D1567       2\n",
       "211000022279392                       1\n",
       "211000022280341                       1\n",
       "211000022279264                       1\n",
       "211000022280328                       1\n",
       "211000022278436                       1\n",
       "211000022278449                       1\n",
       "211000022279188                       1\n",
       "211000022278760                       1\n",
       "211000022279165                       1\n",
       "Name: chrom, dtype: int64"
      ]
     },
     "execution_count": 4,
     "metadata": {},
     "output_type": "execute_result"
    }
   ],
   "source": [
    "expressed = pickle_load(\"../output/cellselection-wf/expressed_genes.pkl\")\n",
    "print(f\"Number of expressed genes: {len(expressed):,}\")\n",
    "\n",
    "# Expressed by chrom\n",
    "fbgn2chrom.reindex(expressed).value_counts()\n"
   ]
  },
  {
   "cell_type": "code",
   "execution_count": 5,
   "metadata": {},
   "outputs": [
    {
     "name": "stdout",
     "output_type": "stream",
     "text": [
      "Number of commonly expressed genes: 589\n"
     ]
    },
    {
     "data": {
      "text/plain": [
       "3R                      145\n",
       "2R                      138\n",
       "2L                      126\n",
       "3L                      101\n",
       "X                        65\n",
       "mitochondrion_genome     11\n",
       "4                         3\n",
       "Name: chrom, dtype: int64"
      ]
     },
     "execution_count": 5,
     "metadata": {},
     "output_type": "execute_result"
    }
   ],
   "source": [
    "commonly_expressed = pickle_load(\"../output/cellselection-wf/commonly_expressed_genes.pkl\")\n",
    "print(f\"Number of commonly expressed genes: {len(commonly_expressed):,}\")\n",
    "\n",
    "# Commonly expressed by chrom\n",
    "fbgn2chrom.reindex(commonly_expressed).value_counts()\n"
   ]
  },
  {
   "cell_type": "code",
   "execution_count": 6,
   "metadata": {},
   "outputs": [
    {
     "name": "stdout",
     "output_type": "stream",
     "text": [
      "Number of Y genes in somatic clusters: 35\n"
     ]
    }
   ],
   "source": [
    "# Y genes in other clusters\n",
    "y_genes = fbgn2chrom[fbgn2chrom == \"Y\"].index.tolist()\n",
    "tpm = feather_to_cluster_matrix(\"../output/seurat3-cluster-wf/tpm_by_cluster.feather\").reindex(y_genes)\n",
    "_num = tpm[(tpm.iloc[:, 4:] > 0).any(axis=1)].shape[0]\n",
    "print(f\"Number of Y genes in somatic clusters: {_num:,}\")\n"
   ]
  },
  {
   "cell_type": "code",
   "execution_count": 7,
   "metadata": {},
   "outputs": [],
   "source": [
    "cb = shelve_load(\"../output/x-to-a-wf/db/commonly_expressed.bak\")\n"
   ]
  },
  {
   "cell_type": "code",
   "execution_count": 8,
   "metadata": {},
   "outputs": [
    {
     "data": {
      "text/html": [
       "<div>\n",
       "<style scoped>\n",
       "    .dataframe tbody tr th:only-of-type {\n",
       "        vertical-align: middle;\n",
       "    }\n",
       "\n",
       "    .dataframe tbody tr th {\n",
       "        vertical-align: top;\n",
       "    }\n",
       "\n",
       "    .dataframe thead th {\n",
       "        text-align: right;\n",
       "    }\n",
       "</style>\n",
       "<table border=\"1\" class=\"dataframe\">\n",
       "  <thead>\n",
       "    <tr style=\"text-align: right;\">\n",
       "      <th>ratio_type</th>\n",
       "      <th>fourth_to_a_ratio</th>\n",
       "      <th>x_to_a_ratio</th>\n",
       "    </tr>\n",
       "    <tr>\n",
       "      <th>cluster</th>\n",
       "      <th></th>\n",
       "      <th></th>\n",
       "    </tr>\n",
       "  </thead>\n",
       "  <tbody>\n",
       "    <tr>\n",
       "      <td>G</td>\n",
       "      <td>1.500569</td>\n",
       "      <td>1.081121</td>\n",
       "    </tr>\n",
       "    <tr>\n",
       "      <td>EPS</td>\n",
       "      <td>0.841584</td>\n",
       "      <td>0.859186</td>\n",
       "    </tr>\n",
       "    <tr>\n",
       "      <td>MPS</td>\n",
       "      <td>0.487106</td>\n",
       "      <td>0.646613</td>\n",
       "    </tr>\n",
       "    <tr>\n",
       "      <td>LPS</td>\n",
       "      <td>0.331061</td>\n",
       "      <td>0.560440</td>\n",
       "    </tr>\n",
       "    <tr>\n",
       "      <td>C1</td>\n",
       "      <td>0.883034</td>\n",
       "      <td>1.208765</td>\n",
       "    </tr>\n",
       "    <tr>\n",
       "      <td>C2</td>\n",
       "      <td>1.383563</td>\n",
       "      <td>1.382147</td>\n",
       "    </tr>\n",
       "    <tr>\n",
       "      <td>C3</td>\n",
       "      <td>1.021378</td>\n",
       "      <td>1.231345</td>\n",
       "    </tr>\n",
       "    <tr>\n",
       "      <td>C4</td>\n",
       "      <td>1.595174</td>\n",
       "      <td>1.386552</td>\n",
       "    </tr>\n",
       "    <tr>\n",
       "      <td>T</td>\n",
       "      <td>1.210826</td>\n",
       "      <td>1.387989</td>\n",
       "    </tr>\n",
       "    <tr>\n",
       "      <td>P</td>\n",
       "      <td>1.520153</td>\n",
       "      <td>1.422878</td>\n",
       "    </tr>\n",
       "  </tbody>\n",
       "</table>\n",
       "</div>"
      ],
      "text/plain": [
       "ratio_type  fourth_to_a_ratio  x_to_a_ratio\n",
       "cluster                                    \n",
       "G                    1.500569      1.081121\n",
       "EPS                  0.841584      0.859186\n",
       "MPS                  0.487106      0.646613\n",
       "LPS                  0.331061      0.560440\n",
       "C1                   0.883034      1.208765\n",
       "C2                   1.383563      1.382147\n",
       "C3                   1.021378      1.231345\n",
       "C4                   1.595174      1.386552\n",
       "T                    1.210826      1.387989\n",
       "P                    1.520153      1.422878"
      ]
     },
     "execution_count": 8,
     "metadata": {},
     "output_type": "execute_result"
    }
   ],
   "source": [
    "# Median Ratios\n",
    "cb['data'].groupby(['cluster', 'ratio_type']).ratio.median().unstack().dropna(axis=1)\n"
   ]
  },
  {
   "cell_type": "code",
   "execution_count": 9,
   "metadata": {},
   "outputs": [
    {
     "data": {
      "text/html": [
       "<div>\n",
       "<style scoped>\n",
       "    .dataframe tbody tr th:only-of-type {\n",
       "        vertical-align: middle;\n",
       "    }\n",
       "\n",
       "    .dataframe tbody tr th {\n",
       "        vertical-align: top;\n",
       "    }\n",
       "\n",
       "    .dataframe thead th {\n",
       "        text-align: right;\n",
       "    }\n",
       "</style>\n",
       "<table border=\"1\" class=\"dataframe\">\n",
       "  <thead>\n",
       "    <tr style=\"text-align: right;\">\n",
       "      <th>ratio_type</th>\n",
       "      <th>fourth_to_a_ratio</th>\n",
       "      <th>x_to_a_ratio</th>\n",
       "    </tr>\n",
       "    <tr>\n",
       "      <th>cluster</th>\n",
       "      <th></th>\n",
       "      <th></th>\n",
       "    </tr>\n",
       "  </thead>\n",
       "  <tbody>\n",
       "    <tr>\n",
       "      <td>G</td>\n",
       "      <td>0.585510</td>\n",
       "      <td>0.112528</td>\n",
       "    </tr>\n",
       "    <tr>\n",
       "      <td>EPS</td>\n",
       "      <td>-0.248821</td>\n",
       "      <td>-0.218957</td>\n",
       "    </tr>\n",
       "    <tr>\n",
       "      <td>MPS</td>\n",
       "      <td>-1.037692</td>\n",
       "      <td>-0.629026</td>\n",
       "    </tr>\n",
       "    <tr>\n",
       "      <td>LPS</td>\n",
       "      <td>-1.594830</td>\n",
       "      <td>-0.835369</td>\n",
       "    </tr>\n",
       "    <tr>\n",
       "      <td>C1</td>\n",
       "      <td>-0.179459</td>\n",
       "      <td>0.273533</td>\n",
       "    </tr>\n",
       "    <tr>\n",
       "      <td>C2</td>\n",
       "      <td>0.468388</td>\n",
       "      <td>0.466911</td>\n",
       "    </tr>\n",
       "    <tr>\n",
       "      <td>C3</td>\n",
       "      <td>0.030518</td>\n",
       "      <td>0.300235</td>\n",
       "    </tr>\n",
       "    <tr>\n",
       "      <td>C4</td>\n",
       "      <td>0.673714</td>\n",
       "      <td>0.471501</td>\n",
       "    </tr>\n",
       "    <tr>\n",
       "      <td>T</td>\n",
       "      <td>0.275992</td>\n",
       "      <td>0.472996</td>\n",
       "    </tr>\n",
       "    <tr>\n",
       "      <td>P</td>\n",
       "      <td>0.604216</td>\n",
       "      <td>0.508812</td>\n",
       "    </tr>\n",
       "  </tbody>\n",
       "</table>\n",
       "</div>"
      ],
      "text/plain": [
       "ratio_type  fourth_to_a_ratio  x_to_a_ratio\n",
       "cluster                                    \n",
       "G                    0.585510      0.112528\n",
       "EPS                 -0.248821     -0.218957\n",
       "MPS                 -1.037692     -0.629026\n",
       "LPS                 -1.594830     -0.835369\n",
       "C1                  -0.179459      0.273533\n",
       "C2                   0.468388      0.466911\n",
       "C3                   0.030518      0.300235\n",
       "C4                   0.673714      0.471501\n",
       "T                    0.275992      0.472996\n",
       "P                    0.604216      0.508812"
      ]
     },
     "execution_count": 9,
     "metadata": {},
     "output_type": "execute_result"
    }
   ],
   "source": [
    "# Log2FC\n",
    "np.log2(cb['data'].groupby(['cluster', 'ratio_type']).ratio.median().unstack().dropna(axis=1))\n"
   ]
  }
 ],
 "metadata": {
  "file_extension": ".py",
  "kernelspec": {
   "display_name": "Python 3",
   "language": "python",
   "name": "python3"
  },
  "language_info": {
   "codemirror_mode": {
    "name": "ipython",
    "version": 3
   },
   "file_extension": ".py",
   "mimetype": "text/x-python",
   "name": "python",
   "nbconvert_exporter": "python",
   "pygments_lexer": "ipython3",
   "version": "3.6.7"
  },
  "mimetype": "text/x-python",
  "name": "python",
  "npconvert_exporter": "python",
  "pygments_lexer": "ipython3",
  "version": 3
 },
 "nbformat": 4,
 "nbformat_minor": 2
}
